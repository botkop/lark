{
 "cells": [
  {
   "cell_type": "code",
   "execution_count": 1,
   "id": "moderate-tunnel",
   "metadata": {
    "id": "C0vy_lvxVQf5",
    "outputId": "0ad3c95b-49a6-4e37-c750-8b7f79e76f57",
    "papermill": {
     "duration": 1.406395,
     "end_time": "2021-04-23T05:33:11.704364",
     "exception": false,
     "start_time": "2021-04-23T05:33:10.297969",
     "status": "completed"
    },
    "tags": []
   },
   "outputs": [
    {
     "name": "stdout",
     "output_type": "stream",
     "text": [
      "Fri May 21 14:26:43 2021       \n",
      "+-----------------------------------------------------------------------------+\n",
      "| NVIDIA-SMI 460.80       Driver Version: 460.80       CUDA Version: 11.2     |\n",
      "|-------------------------------+----------------------+----------------------+\n",
      "| GPU  Name        Persistence-M| Bus-Id        Disp.A | Volatile Uncorr. ECC |\n",
      "| Fan  Temp  Perf  Pwr:Usage/Cap|         Memory-Usage | GPU-Util  Compute M. |\n",
      "|                               |                      |               MIG M. |\n",
      "|===============================+======================+======================|\n",
      "|   0  GeForce GTX 108...  Off  | 00000000:07:00.0 Off |                  N/A |\n",
      "| 28%   19C    P8     9W / 320W |     11MiB / 11178MiB |      0%      Default |\n",
      "|                               |                      |                  N/A |\n",
      "+-------------------------------+----------------------+----------------------+\n",
      "|   1  GeForce GTX 108...  Off  | 00000000:42:00.0  On |                  N/A |\n",
      "|  0%   49C    P2    61W / 250W |    756MiB / 11177MiB |      1%      Default |\n",
      "|                               |                      |                  N/A |\n",
      "+-------------------------------+----------------------+----------------------+\n",
      "                                                                               \n",
      "+-----------------------------------------------------------------------------+\n",
      "| Processes:                                                                  |\n",
      "|  GPU   GI   CI        PID   Type   Process name                  GPU Memory |\n",
      "|        ID   ID                                                   Usage      |\n",
      "|=============================================================================|\n",
      "|    0   N/A  N/A      2058      G   /usr/lib/xorg/Xorg                  4MiB |\n",
      "|    0   N/A  N/A      5067      G   /usr/lib/xorg/Xorg                  4MiB |\n",
      "|    1   N/A  N/A      2058      G   /usr/lib/xorg/Xorg                 24MiB |\n",
      "|    1   N/A  N/A      2101      G   /usr/bin/gnome-shell               83MiB |\n",
      "|    1   N/A  N/A      5067      G   /usr/lib/xorg/Xorg                282MiB |\n",
      "|    1   N/A  N/A      5181      G   /usr/bin/gnome-shell              157MiB |\n",
      "|    1   N/A  N/A     60959      G   ..._60610.log --shared-files        2MiB |\n",
      "|    1   N/A  N/A     95190      G   ...AAAAAAAAA= --shared-files      199MiB |\n",
      "+-----------------------------------------------------------------------------+\n"
     ]
    }
   ],
   "source": [
    "!nvidia-smi"
   ]
  },
  {
   "cell_type": "code",
   "execution_count": null,
   "id": "loaded-rover",
   "metadata": {
    "papermill": {
     "duration": 0.03272,
     "end_time": "2021-04-23T05:33:11.769577",
     "exception": false,
     "start_time": "2021-04-23T05:33:11.736857",
     "status": "completed"
    },
    "tags": []
   },
   "outputs": [],
   "source": []
  },
  {
   "cell_type": "markdown",
   "id": "improving-abraham",
   "metadata": {
    "papermill": {
     "duration": 0.031848,
     "end_time": "2021-04-23T05:33:11.832687",
     "exception": false,
     "start_time": "2021-04-23T05:33:11.800839",
     "status": "completed"
    },
    "tags": []
   },
   "source": [
    "# Notes"
   ]
  },
  {
   "cell_type": "markdown",
   "id": "otherwise-atmosphere",
   "metadata": {
    "id": "py6GyjyZVark",
    "papermill": {
     "duration": 0.03109,
     "end_time": "2021-04-23T05:33:11.895227",
     "exception": false,
     "start_time": "2021-04-23T05:33:11.864137",
     "status": "completed"
    },
    "tags": []
   },
   "source": [
    "Days back, I've shared this [infernece kernel](https://www.kaggle.com/kneroma/clean-fast-simple-bird-identifier-inference). But its weights are static as you can't retrain the model. In this work, I'm gonna release the training notebook which is almost my internal training pipeline. I removed some experimentation ideas to make things clearer and straightforward. Don't mind adding new ideas at your side as well."
   ]
  },
  {
   "cell_type": "markdown",
   "id": "monetary-storm",
   "metadata": {
    "papermill": {
     "duration": 0.031735,
     "end_time": "2021-04-23T05:33:11.958291",
     "exception": false,
     "start_time": "2021-04-23T05:33:11.926556",
     "status": "completed"
    },
    "tags": []
   },
   "source": [
    "To make the training faster, we cached the training set into RAM. The whole training records are already [converted into handy  melspecs images](https://www.kaggle.com/kneroma/kkiller-birdclef-2021). These images are from 7 seconds extracts (training on 7 seconds seems to be more effective than 5 seconds). Longer records are truncated into random 7x10 seconds.\n",
    "\n",
    "**If one is interessted in to the whole records' melspecs** (no truncation):\n",
    "* https://www.kaggle.com/kneroma/kkiller-birdclef-mels-computer-d7-part1\n",
    "* https://www.kaggle.com/kneroma/kkiller-birdclef-mels-computer-d7-part2\n",
    "* https://www.kaggle.com/kneroma/kkiller-birdclef-mels-computer-d7-part3\n",
    "* https://www.kaggle.com/kneroma/kkiller-birdclef-mels-computer-d7-part4"
   ]
  },
  {
   "cell_type": "code",
   "execution_count": null,
   "id": "copyrighted-victory",
   "metadata": {
    "papermill": {
     "duration": 0.031274,
     "end_time": "2021-04-23T05:33:12.020964",
     "exception": false,
     "start_time": "2021-04-23T05:33:11.989690",
     "status": "completed"
    },
    "tags": []
   },
   "outputs": [],
   "source": []
  },
  {
   "cell_type": "markdown",
   "id": "printable-trailer",
   "metadata": {
    "papermill": {
     "duration": 0.03122,
     "end_time": "2021-04-23T05:33:12.083498",
     "exception": false,
     "start_time": "2021-04-23T05:33:12.052278",
     "status": "completed"
    },
    "tags": []
   },
   "source": [
    "### Tips & suggestions\n",
    "* You can choose a wide set of models from the **get_model** interface : [\"resnest*\", \"resnet*\", \"resnext*\", \"efficientnet*\" ...]\n",
    "* You can change the learning rate scheduler: OneCycle ? ReduceOnPlateau ?\n",
    "* Adds secondary labels\n",
    "* Use train & test metadata (dates, positions (longitude, latitude), ...)\n",
    "* Add melspecs augmentation"
   ]
  },
  {
   "cell_type": "code",
   "execution_count": null,
   "id": "interim-thread",
   "metadata": {
    "papermill": {
     "duration": 0.029867,
     "end_time": "2021-04-23T05:33:12.144214",
     "exception": false,
     "start_time": "2021-04-23T05:33:12.114347",
     "status": "completed"
    },
    "tags": []
   },
   "outputs": [],
   "source": []
  },
  {
   "cell_type": "markdown",
   "id": "boring-supervision",
   "metadata": {
    "papermill": {
     "duration": 0.030018,
     "end_time": "2021-04-23T05:33:12.204319",
     "exception": false,
     "start_time": "2021-04-23T05:33:12.174301",
     "status": "completed"
    },
    "tags": []
   },
   "source": [
    "**For Colab training, you just have to uncomment the first cells**"
   ]
  },
  {
   "cell_type": "code",
   "execution_count": null,
   "id": "sapphire-joshua",
   "metadata": {
    "papermill": {
     "duration": 0.030844,
     "end_time": "2021-04-23T05:33:12.266509",
     "exception": false,
     "start_time": "2021-04-23T05:33:12.235665",
     "status": "completed"
    },
    "tags": []
   },
   "outputs": [],
   "source": []
  },
  {
   "cell_type": "markdown",
   "id": "confidential-course",
   "metadata": {
    "papermill": {
     "duration": 0.030804,
     "end_time": "2021-04-23T05:33:12.328400",
     "exception": false,
     "start_time": "2021-04-23T05:33:12.297596",
     "status": "completed"
    },
    "tags": []
   },
   "source": [
    "# Versions"
   ]
  },
  {
   "cell_type": "markdown",
   "id": "excellent-reply",
   "metadata": {
    "papermill": {
     "duration": 0.044248,
     "end_time": "2021-04-23T05:33:12.404103",
     "exception": false,
     "start_time": "2021-04-23T05:33:12.359855",
     "status": "completed"
    },
    "tags": []
   },
   "source": [
    "* **v1** : initial version\n",
    "* **v3** : enable training on whole (no truncation) record melspecs"
   ]
  },
  {
   "cell_type": "code",
   "execution_count": null,
   "id": "provincial-montgomery",
   "metadata": {
    "papermill": {
     "duration": 0.05023,
     "end_time": "2021-04-23T05:33:12.502426",
     "exception": false,
     "start_time": "2021-04-23T05:33:12.452196",
     "status": "completed"
    },
    "tags": []
   },
   "outputs": [],
   "source": []
  },
  {
   "cell_type": "code",
   "execution_count": 2,
   "id": "conditional-danger",
   "metadata": {
    "id": "oYPb42V-Vaza",
    "outputId": "f9846f5e-bb8b-407c-d15e-bab4b8604301",
    "papermill": {
     "duration": 0.056894,
     "end_time": "2021-04-23T05:33:12.608506",
     "exception": false,
     "start_time": "2021-04-23T05:33:12.551612",
     "status": "completed"
    },
    "tags": []
   },
   "outputs": [],
   "source": [
    "# from google.colab import drive\n",
    "# drive.mount('/content/drive')"
   ]
  },
  {
   "cell_type": "code",
   "execution_count": 3,
   "id": "initial-factor",
   "metadata": {
    "id": "IRn4fOj5XDp6",
    "papermill": {
     "duration": 0.065168,
     "end_time": "2021-04-23T05:33:12.733668",
     "exception": false,
     "start_time": "2021-04-23T05:33:12.668500",
     "status": "completed"
    },
    "tags": []
   },
   "outputs": [],
   "source": [
    "# ! pip install --upgrade --force-reinstall --no-deps  kaggle > /dev/null\n",
    "# ! mkdir ~/.kaggle\n",
    "# ! cp \"/content/drive/My Drive/Kaggle/kaggle.json\" ~/.kaggle/\n",
    "# ! chmod 600 ~/.kaggle/kaggle.json"
   ]
  },
  {
   "cell_type": "code",
   "execution_count": 4,
   "id": "major-familiar",
   "metadata": {
    "execution": {
     "iopub.execute_input": "2021-04-23T05:33:12.856395Z",
     "iopub.status.busy": "2021-04-23T05:33:12.855425Z",
     "iopub.status.idle": "2021-04-23T05:33:12.857898Z",
     "shell.execute_reply": "2021-04-23T05:33:12.857107Z"
    },
    "id": "KAnAPecOXDtf",
    "outputId": "fb981400-b8c5-45bc-9e7d-5d4a77f2550e",
    "papermill": {
     "duration": 0.066101,
     "end_time": "2021-04-23T05:33:12.858052",
     "exception": false,
     "start_time": "2021-04-23T05:33:12.791951",
     "status": "completed"
    },
    "tags": []
   },
   "outputs": [],
   "source": [
    "# %%time\n",
    "\n",
    "# import os\n",
    "# if not os.path.exists(\"/content/datasets/audio_images\"):\n",
    "#   !mkdir datasets\n",
    "#   !kaggle datasets download -d kneroma/kkiller-birdclef-2021\n",
    "#   !unzip /content//kkiller-birdclef-2021.zip -d datasets"
   ]
  },
  {
   "cell_type": "code",
   "execution_count": 12,
   "id": "incorporated-memorabilia",
   "metadata": {
    "id": "Yn1Ybf15VAqW",
    "papermill": {
     "duration": 13.004387,
     "end_time": "2021-04-23T05:33:25.919056",
     "exception": false,
     "start_time": "2021-04-23T05:33:12.914669",
     "status": "completed"
    },
    "tags": []
   },
   "outputs": [],
   "source": [
    "# !pip install -q pysndfx SoundFile audiomentations pretrainedmodels efficientnet_pytorch resnest"
   ]
  },
  {
   "cell_type": "code",
   "execution_count": 13,
   "id": "racial-spending",
   "metadata": {
    "id": "2dt7oG43VAqc",
    "papermill": {
     "duration": 3.200761,
     "end_time": "2021-04-23T05:33:29.151263",
     "exception": false,
     "start_time": "2021-04-23T05:33:25.950502",
     "status": "completed"
    },
    "tags": []
   },
   "outputs": [],
   "source": [
    "import numpy as np\n",
    "import librosa as lb\n",
    "import librosa.display as lbd\n",
    "import soundfile as sf\n",
    "from  soundfile import SoundFile\n",
    "import pandas as pd\n",
    "from  IPython.display import Audio\n",
    "from pathlib import Path\n",
    "\n",
    "import torch\n",
    "from torch import nn, optim\n",
    "from  torch.utils.data import Dataset, DataLoader\n",
    "\n",
    "from resnest.torch import resnest50\n",
    "\n",
    "from matplotlib import pyplot as plt\n",
    "\n",
    "import os, random, gc\n",
    "import re, time, json\n",
    "from  ast import literal_eval\n",
    "\n",
    "\n",
    "from IPython.display import Audio\n",
    "from sklearn.metrics import label_ranking_average_precision_score\n",
    "\n",
    "from tqdm.notebook import tqdm\n",
    "import joblib"
   ]
  },
  {
   "cell_type": "code",
   "execution_count": 14,
   "id": "stuck-vintage",
   "metadata": {
    "id": "162Vl9uxe1Mj",
    "papermill": {
     "duration": 1.298377,
     "end_time": "2021-04-23T05:33:30.481290",
     "exception": false,
     "start_time": "2021-04-23T05:33:29.182913",
     "status": "completed"
    },
    "tags": []
   },
   "outputs": [],
   "source": [
    "from efficientnet_pytorch import EfficientNet\n",
    "import pretrainedmodels\n",
    "import resnest.torch as resnest_torch"
   ]
  },
  {
   "cell_type": "code",
   "execution_count": 15,
   "id": "suitable-conditions",
   "metadata": {
    "id": "Q39ZsGAhVAqe",
    "papermill": {
     "duration": 0.040696,
     "end_time": "2021-04-23T05:33:30.553222",
     "exception": false,
     "start_time": "2021-04-23T05:33:30.512526",
     "status": "completed"
    },
    "tags": []
   },
   "outputs": [],
   "source": [
    "def seed_everything(seed=42):\n",
    "    random.seed(seed)\n",
    "    os.environ['PYTHONHASHSEED'] = str(seed)\n",
    "    np.random.seed(seed)\n",
    "    torch.manual_seed(seed)\n",
    "    torch.cuda.manual_seed(seed)\n",
    "    torch.backends.cudnn.deterministic = True\n",
    "seed_everything()"
   ]
  },
  {
   "cell_type": "code",
   "execution_count": 16,
   "id": "continuing-california",
   "metadata": {
    "id": "2NfkUn9SCWs6",
    "papermill": {
     "duration": 0.094659,
     "end_time": "2021-04-23T05:33:30.678927",
     "exception": false,
     "start_time": "2021-04-23T05:33:30.584268",
     "status": "completed"
    },
    "tags": []
   },
   "outputs": [],
   "source": [
    "NUM_CLASSES = 397\n",
    "SR = 32_000\n",
    "DURATION = 7\n",
    "\n",
    "MAX_READ_SAMPLES = 5 # Each record will have 10 melspecs at most, you can increase this on Colab with High Memory Enabled\n",
    "\n",
    "# # For colab\n",
    "# DATA_ROOT = Path(\"/content/datasets/\")\n",
    "# TRAIN_IMAGES_ROOT = Path(\"/content/datasets/audio_images\")\n",
    "# TRAIN_LABELS_FILE = Path(\"/content/datasets/rich_train_metadata.csv\")\n",
    "# MODEL_ROOT = Path(\"/content/drive/My Drive/Kaggle/BirdClef2021/models\")\n",
    "\n",
    "DATA_ROOT = Path(\"../input/birdclef-2021\")\n",
    "# TRAIN_IMAGES_ROOT = Path(\"../input/kkiller-birdclef-2021/audio_images\")\n",
    "# TRAIN_LABELS_FILE = Path(\"../input/kkiller-birdclef-2021/rich_train_metadata.csv\")\n",
    "\n",
    "MEL_PATHS = sorted(Path(\"../input\").glob(\"kkiller-birdclef-mels-computer-d7-part?/rich_train_metadata.csv\"))\n",
    "TRAIN_LABEL_PATHS = sorted(Path(\"../input\").glob(\"kkiller-birdclef-mels-computer-d7-part?/LABEL_IDS.json\"))\n",
    "\n",
    "MODEL_ROOT = Path(\".\")"
   ]
  },
  {
   "cell_type": "code",
   "execution_count": null,
   "id": "dependent-bearing",
   "metadata": {
    "papermill": {
     "duration": 0.030981,
     "end_time": "2021-04-23T05:33:30.741227",
     "exception": false,
     "start_time": "2021-04-23T05:33:30.710246",
     "status": "completed"
    },
    "tags": []
   },
   "outputs": [],
   "source": []
  },
  {
   "cell_type": "code",
   "execution_count": 17,
   "id": "industrial-people",
   "metadata": {
    "id": "Iu56f-7VVAqf",
    "outputId": "0f3fa344-0ed4-47d8-f3c0-218cf3bf5a78",
    "papermill": {
     "duration": 0.552535,
     "end_time": "2021-04-23T05:33:31.326345",
     "exception": false,
     "start_time": "2021-04-23T05:33:30.773810",
     "status": "completed"
    },
    "tags": []
   },
   "outputs": [
    {
     "name": "stdout",
     "output_type": "stream",
     "text": [
      "Device: cuda\n"
     ]
    }
   ],
   "source": [
    "TRAIN_BATCH_SIZE = 100\n",
    "TRAIN_NUM_WORKERS = 2\n",
    "\n",
    "VAL_BATCH_SIZE = 128\n",
    "VAL_NUM_WORKERS = 2\n",
    "\n",
    "DEVICE = torch.device(\"cuda\" if torch.cuda.is_available() else \"cpu\")\n",
    "\n",
    "print(\"Device:\", DEVICE)"
   ]
  },
  {
   "cell_type": "code",
   "execution_count": null,
   "id": "similar-peninsula",
   "metadata": {
    "id": "GuyjwJnACWs6",
    "outputId": "cdaca87a-567c-4299-9840-7b3cb06be13f",
    "papermill": {
     "duration": 0.031859,
     "end_time": "2021-04-23T05:33:31.390297",
     "exception": false,
     "start_time": "2021-04-23T05:33:31.358438",
     "status": "completed"
    },
    "tags": []
   },
   "outputs": [],
   "source": []
  },
  {
   "cell_type": "code",
   "execution_count": 18,
   "id": "incredible-candidate",
   "metadata": {
    "papermill": {
     "duration": 0.040479,
     "end_time": "2021-04-23T05:33:31.462342",
     "exception": false,
     "start_time": "2021-04-23T05:33:31.421863",
     "status": "completed"
    },
    "tags": []
   },
   "outputs": [],
   "source": [
    "def get_df(mel_paths=MEL_PATHS, train_label_paths=TRAIN_LABEL_PATHS):\n",
    "  df = None\n",
    "  LABEL_IDS = {}\n",
    "    \n",
    "  for file_path in mel_paths:\n",
    "    temp = pd.read_csv(str(file_path), index_col=0)\n",
    "    temp[\"impath\"] = temp.apply(lambda row: file_path.parent/\"audio_images/{}/{}.npy\".format(row.primary_label, row.filename), axis=1) \n",
    "    df = temp if df is None else df.append(temp)\n",
    "    \n",
    "  df[\"secondary_labels\"] = df[\"secondary_labels\"].apply(literal_eval)\n",
    "\n",
    "  for file_path in train_label_paths:\n",
    "    with open(str(file_path)) as f:\n",
    "      LABEL_IDS.update(json.load(f))\n",
    "\n",
    "  return LABEL_IDS, df"
   ]
  },
  {
   "cell_type": "code",
   "execution_count": 19,
   "id": "plain-brother",
   "metadata": {
    "id": "Kmh6xx5_NCjJ",
    "outputId": "3e92e880-2e37-46c7-ffc0-5551e2641e7b",
    "papermill": {
     "duration": 0.037875,
     "end_time": "2021-04-23T05:33:31.531497",
     "exception": false,
     "start_time": "2021-04-23T05:33:31.493622",
     "status": "completed"
    },
    "tags": []
   },
   "outputs": [],
   "source": [
    "# df = pd.read_csv(TRAIN_LABELS_FILE, nrows=None)\n",
    "# df[\"secondary_labels\"] = df[\"secondary_labels\"].apply(literal_eval)\n",
    "# LABEL_IDS = {label: label_id for label_id,label in enumerate(sorted(df[\"primary_label\"].unique()))}\n",
    "\n",
    "# print(df.shape)\n",
    "# df.head()"
   ]
  },
  {
   "cell_type": "code",
   "execution_count": 20,
   "id": "christian-scenario",
   "metadata": {
    "papermill": {
     "duration": 3.719029,
     "end_time": "2021-04-23T05:33:35.281949",
     "exception": false,
     "start_time": "2021-04-23T05:33:31.562920",
     "status": "completed"
    },
    "tags": []
   },
   "outputs": [
    {
     "ename": "TypeError",
     "evalue": "'NoneType' object is not subscriptable",
     "output_type": "error",
     "traceback": [
      "\u001b[0;31m---------------------------------------------------------------------------\u001b[0m",
      "\u001b[0;31mTypeError\u001b[0m                                 Traceback (most recent call last)",
      "\u001b[0;32m<ipython-input-20-56a1408de193>\u001b[0m in \u001b[0;36m<module>\u001b[0;34m\u001b[0m\n\u001b[0;32m----> 1\u001b[0;31m \u001b[0mLABEL_IDS\u001b[0m\u001b[0;34m,\u001b[0m \u001b[0mdf\u001b[0m \u001b[0;34m=\u001b[0m \u001b[0mget_df\u001b[0m\u001b[0;34m(\u001b[0m\u001b[0;34m)\u001b[0m\u001b[0;34m\u001b[0m\u001b[0;34m\u001b[0m\u001b[0m\n\u001b[0m\u001b[1;32m      2\u001b[0m \u001b[0;34m\u001b[0m\u001b[0m\n\u001b[1;32m      3\u001b[0m \u001b[0mprint\u001b[0m\u001b[0;34m(\u001b[0m\u001b[0mdf\u001b[0m\u001b[0;34m.\u001b[0m\u001b[0mshape\u001b[0m\u001b[0;34m)\u001b[0m\u001b[0;34m\u001b[0m\u001b[0;34m\u001b[0m\u001b[0m\n\u001b[1;32m      4\u001b[0m \u001b[0mdf\u001b[0m\u001b[0;34m.\u001b[0m\u001b[0mhead\u001b[0m\u001b[0;34m(\u001b[0m\u001b[0;34m)\u001b[0m\u001b[0;34m\u001b[0m\u001b[0;34m\u001b[0m\u001b[0m\n",
      "\u001b[0;32m<ipython-input-18-106b20d7afda>\u001b[0m in \u001b[0;36mget_df\u001b[0;34m(mel_paths, train_label_paths)\u001b[0m\n\u001b[1;32m      8\u001b[0m     \u001b[0mdf\u001b[0m \u001b[0;34m=\u001b[0m \u001b[0mtemp\u001b[0m \u001b[0;32mif\u001b[0m \u001b[0mdf\u001b[0m \u001b[0;32mis\u001b[0m \u001b[0;32mNone\u001b[0m \u001b[0;32melse\u001b[0m \u001b[0mdf\u001b[0m\u001b[0;34m.\u001b[0m\u001b[0mappend\u001b[0m\u001b[0;34m(\u001b[0m\u001b[0mtemp\u001b[0m\u001b[0;34m)\u001b[0m\u001b[0;34m\u001b[0m\u001b[0;34m\u001b[0m\u001b[0m\n\u001b[1;32m      9\u001b[0m \u001b[0;34m\u001b[0m\u001b[0m\n\u001b[0;32m---> 10\u001b[0;31m   \u001b[0mdf\u001b[0m\u001b[0;34m[\u001b[0m\u001b[0;34m\"secondary_labels\"\u001b[0m\u001b[0;34m]\u001b[0m \u001b[0;34m=\u001b[0m \u001b[0mdf\u001b[0m\u001b[0;34m[\u001b[0m\u001b[0;34m\"secondary_labels\"\u001b[0m\u001b[0;34m]\u001b[0m\u001b[0;34m.\u001b[0m\u001b[0mapply\u001b[0m\u001b[0;34m(\u001b[0m\u001b[0mliteral_eval\u001b[0m\u001b[0;34m)\u001b[0m\u001b[0;34m\u001b[0m\u001b[0;34m\u001b[0m\u001b[0m\n\u001b[0m\u001b[1;32m     11\u001b[0m \u001b[0;34m\u001b[0m\u001b[0m\n\u001b[1;32m     12\u001b[0m   \u001b[0;32mfor\u001b[0m \u001b[0mfile_path\u001b[0m \u001b[0;32min\u001b[0m \u001b[0mtrain_label_paths\u001b[0m\u001b[0;34m:\u001b[0m\u001b[0;34m\u001b[0m\u001b[0;34m\u001b[0m\u001b[0m\n",
      "\u001b[0;31mTypeError\u001b[0m: 'NoneType' object is not subscriptable"
     ]
    }
   ],
   "source": [
    "LABEL_IDS, df = get_df()\n",
    "\n",
    "print(df.shape)\n",
    "df.head()"
   ]
  },
  {
   "cell_type": "code",
   "execution_count": null,
   "id": "alert-exclusion",
   "metadata": {
    "id": "W_Xf_natBGGL",
    "papermill": {
     "duration": 0.032534,
     "end_time": "2021-04-23T05:33:35.348458",
     "exception": false,
     "start_time": "2021-04-23T05:33:35.315924",
     "status": "completed"
    },
    "tags": []
   },
   "outputs": [],
   "source": []
  },
  {
   "cell_type": "code",
   "execution_count": 14,
   "id": "objective-tower",
   "metadata": {
    "execution": {
     "iopub.execute_input": "2021-04-23T05:33:35.432745Z",
     "iopub.status.busy": "2021-04-23T05:33:35.423557Z",
     "iopub.status.idle": "2021-04-23T05:33:35.435712Z",
     "shell.execute_reply": "2021-04-23T05:33:35.435324Z"
    },
    "id": "ZRz-DwbNVAqg",
    "outputId": "42aa9ba1-7fc3-42b6-e818-c4a04277fc51",
    "papermill": {
     "duration": 0.054526,
     "end_time": "2021-04-23T05:33:35.435815",
     "exception": false,
     "start_time": "2021-04-23T05:33:35.381289",
     "status": "completed"
    },
    "tags": []
   },
   "outputs": [
    {
     "data": {
      "text/plain": [
       "comrav     500\n",
       "rewbla     500\n",
       "houwre     500\n",
       "gbwwre1    500\n",
       "sonspa     500\n",
       "          ... \n",
       "whcpar      12\n",
       "wegspa1     10\n",
       "runwre1      9\n",
       "stvhum2      8\n",
       "crfpar       8\n",
       "Name: primary_label, Length: 397, dtype: int64"
      ]
     },
     "execution_count": 14,
     "metadata": {},
     "output_type": "execute_result"
    }
   ],
   "source": [
    "df[\"primary_label\"].value_counts()"
   ]
  },
  {
   "cell_type": "code",
   "execution_count": 15,
   "id": "computational-island",
   "metadata": {
    "execution": {
     "iopub.execute_input": "2021-04-23T05:33:35.507450Z",
     "iopub.status.busy": "2021-04-23T05:33:35.505632Z",
     "iopub.status.idle": "2021-04-23T05:33:35.510087Z",
     "shell.execute_reply": "2021-04-23T05:33:35.510508Z"
    },
    "id": "n68WeAa0VAqh",
    "outputId": "31adfe31-5bfb-473c-e79d-272d5a8b8cf3",
    "papermill": {
     "duration": 0.041905,
     "end_time": "2021-04-23T05:33:35.510621",
     "exception": false,
     "start_time": "2021-04-23T05:33:35.468716",
     "status": "completed"
    },
    "tags": []
   },
   "outputs": [
    {
     "data": {
      "text/plain": [
       "(0, 396)"
      ]
     },
     "execution_count": 15,
     "metadata": {},
     "output_type": "execute_result"
    }
   ],
   "source": [
    "df[\"label_id\"].min(), df[\"label_id\"].max()"
   ]
  },
  {
   "cell_type": "code",
   "execution_count": null,
   "id": "coordinated-commodity",
   "metadata": {
    "id": "xh4hfWZhuglm",
    "papermill": {
     "duration": 0.032978,
     "end_time": "2021-04-23T05:33:35.577001",
     "exception": false,
     "start_time": "2021-04-23T05:33:35.544023",
     "status": "completed"
    },
    "tags": []
   },
   "outputs": [],
   "source": []
  },
  {
   "cell_type": "code",
   "execution_count": 16,
   "id": "stretch-address",
   "metadata": {
    "execution": {
     "iopub.execute_input": "2021-04-23T05:33:35.653318Z",
     "iopub.status.busy": "2021-04-23T05:33:35.652086Z",
     "iopub.status.idle": "2021-04-23T05:33:35.654763Z",
     "shell.execute_reply": "2021-04-23T05:33:35.654380Z"
    },
    "id": "OGPDuihmVAqi",
    "papermill": {
     "duration": 0.044611,
     "end_time": "2021-04-23T05:33:35.654862",
     "exception": false,
     "start_time": "2021-04-23T05:33:35.610251",
     "status": "completed"
    },
    "tags": []
   },
   "outputs": [],
   "source": [
    "def get_model(name, num_classes=NUM_CLASSES):\n",
    "    \"\"\"\n",
    "    Loads a pretrained model. \n",
    "    Supports ResNest, ResNext-wsl, EfficientNet, ResNext and ResNet.\n",
    "\n",
    "    Arguments:\n",
    "        name {str} -- Name of the model to load\n",
    "\n",
    "    Keyword Arguments:\n",
    "        num_classes {int} -- Number of classes to use (default: {1})\n",
    "\n",
    "    Returns:\n",
    "        torch model -- Pretrained model\n",
    "    \"\"\"\n",
    "    if \"resnest\" in name:\n",
    "        model = getattr(resnest_torch, name)(pretrained=True)\n",
    "    elif \"wsl\" in name:\n",
    "        model = torch.hub.load(\"facebookresearch/WSL-Images\", name)\n",
    "    elif name.startswith(\"resnext\") or  name.startswith(\"resnet\"):\n",
    "        model = torch.hub.load(\"pytorch/vision:v0.6.0\", name, pretrained=True)\n",
    "    elif name.startswith(\"tf_efficientnet_b\"):\n",
    "        model = getattr(timm.models.efficientnet, name)(pretrained=True)\n",
    "    elif \"efficientnet-b\" in name:\n",
    "        model = EfficientNet.from_pretrained(name)\n",
    "    else:\n",
    "        model = pretrainedmodels.__dict__[name](pretrained='imagenet')\n",
    "\n",
    "    if hasattr(model, \"fc\"):\n",
    "        nb_ft = model.fc.in_features\n",
    "        model.fc = nn.Linear(nb_ft, num_classes)\n",
    "    elif hasattr(model, \"_fc\"):\n",
    "        nb_ft = model._fc.in_features\n",
    "        model._fc = nn.Linear(nb_ft, num_classes)\n",
    "    elif hasattr(model, \"classifier\"):\n",
    "        nb_ft = model.classifier.in_features\n",
    "        model.classifier = nn.Linear(nb_ft, num_classes)\n",
    "    elif hasattr(model, \"last_linear\"):\n",
    "        nb_ft = model.last_linear.in_features\n",
    "        model.last_linear = nn.Linear(nb_ft, num_classes)\n",
    "\n",
    "    return model"
   ]
  },
  {
   "cell_type": "code",
   "execution_count": 17,
   "id": "governing-bobby",
   "metadata": {
    "execution": {
     "iopub.execute_input": "2021-04-23T05:33:35.726577Z",
     "iopub.status.busy": "2021-04-23T05:33:35.726058Z",
     "iopub.status.idle": "2021-04-23T05:33:35.729210Z",
     "shell.execute_reply": "2021-04-23T05:33:35.730039Z"
    },
    "id": "7HYQwAyBCWs8",
    "papermill": {
     "duration": 0.042033,
     "end_time": "2021-04-23T05:33:35.730156",
     "exception": false,
     "start_time": "2021-04-23T05:33:35.688123",
     "status": "completed"
    },
    "tags": []
   },
   "outputs": [],
   "source": [
    "def load_data(df):\n",
    "    def load_row(row):\n",
    "        # impath = TRAIN_IMAGES_ROOT/f\"{row.primary_label}/{row.filename}.npy\"\n",
    "        return row.filename, np.load(str(row.impath))[:MAX_READ_SAMPLES]\n",
    "    pool = joblib.Parallel(4)\n",
    "    mapper = joblib.delayed(load_row)\n",
    "    tasks = [mapper(row) for row in df.itertuples(False)]\n",
    "    res = pool(tqdm(tasks))\n",
    "    res = dict(res)\n",
    "    return res"
   ]
  },
  {
   "cell_type": "code",
   "execution_count": 18,
   "id": "gorgeous-found",
   "metadata": {
    "execution": {
     "iopub.execute_input": "2021-04-23T05:33:35.846184Z",
     "iopub.status.busy": "2021-04-23T05:33:35.810272Z",
     "iopub.status.idle": "2021-04-23T05:38:14.017155Z",
     "shell.execute_reply": "2021-04-23T05:38:14.015309Z"
    },
    "id": "Vw19bB7mCWs9",
    "outputId": "09a5e374-7e5c-4c92-91e4-b60313cbb1a9",
    "papermill": {
     "duration": 278.253556,
     "end_time": "2021-04-23T05:38:14.017297",
     "exception": false,
     "start_time": "2021-04-23T05:33:35.763741",
     "status": "completed"
    },
    "tags": []
   },
   "outputs": [
    {
     "data": {
      "application/vnd.jupyter.widget-view+json": {
       "model_id": "7f33ef3ba22149f29f1358d8c87afe1e",
       "version_major": 2,
       "version_minor": 0
      },
      "text/plain": [
       "  0%|          | 0/62874 [00:00<?, ?it/s]"
      ]
     },
     "metadata": {},
     "output_type": "display_data"
    },
    {
     "data": {
      "text/plain": [
       "62874"
      ]
     },
     "execution_count": 18,
     "metadata": {},
     "output_type": "execute_result"
    }
   ],
   "source": [
    "# We cache the train set to reduce training time\n",
    "\n",
    "audio_image_store = load_data(df)\n",
    "len(audio_image_store)"
   ]
  },
  {
   "cell_type": "code",
   "execution_count": 19,
   "id": "drawn-watts",
   "metadata": {
    "execution": {
     "iopub.execute_input": "2021-04-23T05:38:14.095170Z",
     "iopub.status.busy": "2021-04-23T05:38:14.094611Z",
     "iopub.status.idle": "2021-04-23T05:38:14.244011Z",
     "shell.execute_reply": "2021-04-23T05:38:14.244406Z"
    },
    "id": "4TNYmT7XCWs9",
    "outputId": "b5052897-ca12-4c25-a49c-3799a88b9f9d",
    "papermill": {
     "duration": 0.192339,
     "end_time": "2021-04-23T05:38:14.244535",
     "exception": false,
     "start_time": "2021-04-23T05:38:14.052196",
     "status": "completed"
    },
    "tags": []
   },
   "outputs": [
    {
     "name": "stdout",
     "output_type": "stream",
     "text": [
      "shape: (5, 128, 281)\n"
     ]
    },
    {
     "data": {
      "text/plain": [
       "<matplotlib.collections.QuadMesh at 0x7f62864cda10>"
      ]
     },
     "execution_count": 19,
     "metadata": {},
     "output_type": "execute_result"
    },
    {
     "data": {
      "image/png": "[encoded data removed]",
      "text/plain": [
       "<Figure size 432x288 with 1 Axes>"
      ]
     },
     "metadata": {},
     "output_type": "display_data"
    }
   ],
   "source": [
    "print(\"shape:\", next(iter(audio_image_store.values())).shape)\n",
    "lbd.specshow(next(iter(audio_image_store.values()))[0])"
   ]
  },
  {
   "cell_type": "code",
   "execution_count": null,
   "id": "ignored-cowboy",
   "metadata": {
    "id": "_tSt9iC7CWs9",
    "papermill": {
     "duration": 0.037627,
     "end_time": "2021-04-23T05:38:14.320237",
     "exception": false,
     "start_time": "2021-04-23T05:38:14.282610",
     "status": "completed"
    },
    "tags": []
   },
   "outputs": [],
   "source": []
  },
  {
   "cell_type": "code",
   "execution_count": 20,
   "id": "varying-utilization",
   "metadata": {
    "execution": {
     "iopub.execute_input": "2021-04-23T05:38:14.419422Z",
     "iopub.status.busy": "2021-04-23T05:38:14.418672Z",
     "iopub.status.idle": "2021-04-23T05:38:14.459373Z",
     "shell.execute_reply": "2021-04-23T05:38:14.459767Z"
    },
    "id": "bUUqP5KMBZkc",
    "outputId": "ab2ca6c4-8aed-4b02-ed52-485b7af70ae1",
    "papermill": {
     "duration": 0.102172,
     "end_time": "2021-04-23T05:38:14.459906",
     "exception": false,
     "start_time": "2021-04-23T05:38:14.357734",
     "status": "completed"
    },
    "tags": []
   },
   "outputs": [
    {
     "data": {
      "text/plain": [
       "5    39090\n",
       "1     7271\n",
       "2     5886\n",
       "3     5625\n",
       "4     5002\n",
       "dtype: int64"
      ]
     },
     "execution_count": 20,
     "metadata": {},
     "output_type": "execute_result"
    }
   ],
   "source": [
    "pd.Series([len(x) for x in audio_image_store.values()]).value_counts()"
   ]
  },
  {
   "cell_type": "code",
   "execution_count": null,
   "id": "asian-guess",
   "metadata": {
    "id": "rOTGe4dbBapl",
    "papermill": {
     "duration": 0.038494,
     "end_time": "2021-04-23T05:38:14.536372",
     "exception": false,
     "start_time": "2021-04-23T05:38:14.497878",
     "status": "completed"
    },
    "tags": []
   },
   "outputs": [],
   "source": []
  },
  {
   "cell_type": "code",
   "execution_count": 21,
   "id": "adopted-citation",
   "metadata": {
    "execution": {
     "iopub.execute_input": "2021-04-23T05:38:14.620393Z",
     "iopub.status.busy": "2021-04-23T05:38:14.619746Z",
     "iopub.status.idle": "2021-04-23T05:38:14.622921Z",
     "shell.execute_reply": "2021-04-23T05:38:14.622539Z"
    },
    "id": "OWSkCXyhCWs-",
    "papermill": {
     "duration": 0.048677,
     "end_time": "2021-04-23T05:38:14.623040",
     "exception": false,
     "start_time": "2021-04-23T05:38:14.574363",
     "status": "completed"
    },
    "tags": []
   },
   "outputs": [],
   "source": [
    "class BirdClefDataset(Dataset):\n",
    "\n",
    "    def __init__(self, audio_image_store, meta, sr=SR, is_train=True, num_classes=NUM_CLASSES, duration=DURATION):\n",
    "        \n",
    "        self.audio_image_store = audio_image_store\n",
    "        self.meta = meta.copy().reset_index(drop=True)\n",
    "        self.sr = sr\n",
    "        self.is_train = is_train\n",
    "        self.num_classes = num_classes\n",
    "        self.duration = duration\n",
    "        self.audio_length = self.duration*self.sr\n",
    "    \n",
    "    @staticmethod\n",
    "    def normalize(image):\n",
    "        image = image.astype(\"float32\", copy=False) / 255.0\n",
    "        image = np.stack([image, image, image])\n",
    "        return image\n",
    "\n",
    "    def __len__(self):\n",
    "        return len(self.meta)\n",
    "    \n",
    "    def __getitem__(self, idx):\n",
    "        row = self.meta.iloc[idx]\n",
    "        image = self.audio_image_store[row.filename]\n",
    "\n",
    "        image = image[np.random.choice(len(image))]\n",
    "        image = self.normalize(image)\n",
    "        \n",
    "        \n",
    "        t = np.zeros(self.num_classes, dtype=np.float32) + 0.0025 # Label smoothing\n",
    "        t[row.label_id] = 0.995\n",
    "        \n",
    "        return image, t"
   ]
  },
  {
   "cell_type": "code",
   "execution_count": 22,
   "id": "statutory-certificate",
   "metadata": {
    "execution": {
     "iopub.execute_input": "2021-04-23T05:38:14.703717Z",
     "iopub.status.busy": "2021-04-23T05:38:14.702761Z",
     "iopub.status.idle": "2021-04-23T05:38:14.734080Z",
     "shell.execute_reply": "2021-04-23T05:38:14.733643Z"
    },
    "id": "Np-56XrXVAqm",
    "outputId": "84e45885-200f-4c98-a9a1-23ef459e5ade",
    "papermill": {
     "duration": 0.072969,
     "end_time": "2021-04-23T05:38:14.734195",
     "exception": false,
     "start_time": "2021-04-23T05:38:14.661226",
     "status": "completed"
    },
    "tags": []
   },
   "outputs": [
    {
     "data": {
      "text/plain": [
       "62874"
      ]
     },
     "execution_count": 22,
     "metadata": {},
     "output_type": "execute_result"
    }
   ],
   "source": [
    "ds = BirdClefDataset(audio_image_store, meta=df, sr=SR, duration=DURATION, is_train=True)\n",
    "len(df)"
   ]
  },
  {
   "cell_type": "code",
   "execution_count": 23,
   "id": "warming-mechanics",
   "metadata": {
    "execution": {
     "iopub.execute_input": "2021-04-23T05:38:14.828761Z",
     "iopub.status.busy": "2021-04-23T05:38:14.828013Z",
     "iopub.status.idle": "2021-04-23T05:38:14.832919Z",
     "shell.execute_reply": "2021-04-23T05:38:14.833349Z"
    },
    "id": "UNVUxIMpVAqm",
    "outputId": "96e0930f-51f7-4268-9939-2d81999c002f",
    "papermill": {
     "duration": 0.060457,
     "end_time": "2021-04-23T05:38:14.833469",
     "exception": false,
     "start_time": "2021-04-23T05:38:14.773012",
     "status": "completed"
    },
    "tags": []
   },
   "outputs": [
    {
     "data": {
      "text/plain": [
       "((3, 128, 281), (397,), (array([353]),))"
      ]
     },
     "execution_count": 23,
     "metadata": {},
     "output_type": "execute_result"
    }
   ],
   "source": [
    "x, y = ds[np.random.choice(len(ds))]\n",
    "# x, y = ds[0]\n",
    "x.shape, y.shape, np.where(y >= 0.5)"
   ]
  },
  {
   "cell_type": "code",
   "execution_count": 24,
   "id": "overhead-transparency",
   "metadata": {
    "execution": {
     "iopub.execute_input": "2021-04-23T05:38:14.914695Z",
     "iopub.status.busy": "2021-04-23T05:38:14.913951Z",
     "iopub.status.idle": "2021-04-23T05:38:14.997364Z",
     "shell.execute_reply": "2021-04-23T05:38:14.996956Z"
    },
    "id": "bPwrCoRyCWs-",
    "outputId": "388a8eaf-f373-4e05-c57d-be4f6975c890",
    "papermill": {
     "duration": 0.125247,
     "end_time": "2021-04-23T05:38:14.997466",
     "exception": false,
     "start_time": "2021-04-23T05:38:14.872219",
     "status": "completed"
    },
    "tags": []
   },
   "outputs": [
    {
     "data": {
      "text/plain": [
       "<matplotlib.collections.QuadMesh at 0x7f6284c4ca50>"
      ]
     },
     "execution_count": 24,
     "metadata": {},
     "output_type": "execute_result"
    },
    {
     "data": {
      "image/png": "[encoded data removed]",
      "text/plain": [
       "<Figure size 432x288 with 1 Axes>"
      ]
     },
     "metadata": {},
     "output_type": "display_data"
    }
   ],
   "source": [
    "lbd.specshow(x[0])"
   ]
  },
  {
   "cell_type": "code",
   "execution_count": 25,
   "id": "younger-property",
   "metadata": {
    "execution": {
     "iopub.execute_input": "2021-04-23T05:38:15.086198Z",
     "iopub.status.busy": "2021-04-23T05:38:15.085477Z",
     "iopub.status.idle": "2021-04-23T05:38:15.088940Z",
     "shell.execute_reply": "2021-04-23T05:38:15.088539Z"
    },
    "id": "GBr32Q9FCWs_",
    "outputId": "141ba3fd-99b1-4878-8462-2a6eb3cb5e19",
    "papermill": {
     "duration": 0.049544,
     "end_time": "2021-04-23T05:38:15.089058",
     "exception": false,
     "start_time": "2021-04-23T05:38:15.039514",
     "status": "completed"
    },
    "tags": []
   },
   "outputs": [
    {
     "data": {
      "text/plain": [
       "array([0.0025, 0.0025, 0.0025, 0.0025, 0.0025], dtype=float32)"
      ]
     },
     "execution_count": 25,
     "metadata": {},
     "output_type": "execute_result"
    }
   ],
   "source": [
    "y[:5]"
   ]
  },
  {
   "cell_type": "code",
   "execution_count": null,
   "id": "funny-explosion",
   "metadata": {
    "papermill": {
     "duration": 0.04181,
     "end_time": "2021-04-23T05:38:15.173526",
     "exception": false,
     "start_time": "2021-04-23T05:38:15.131716",
     "status": "completed"
    },
    "tags": []
   },
   "outputs": [],
   "source": []
  },
  {
   "cell_type": "markdown",
   "id": "recognized-river",
   "metadata": {
    "id": "F56zXq8CVAqn",
    "papermill": {
     "duration": 0.041892,
     "end_time": "2021-04-23T05:38:15.257645",
     "exception": false,
     "start_time": "2021-04-23T05:38:15.215753",
     "status": "completed"
    },
    "tags": []
   },
   "source": [
    "# Training the model"
   ]
  },
  {
   "cell_type": "code",
   "execution_count": null,
   "id": "violent-objective",
   "metadata": {
    "id": "THm438BwMTeR",
    "papermill": {
     "duration": 0.042031,
     "end_time": "2021-04-23T05:38:15.341741",
     "exception": false,
     "start_time": "2021-04-23T05:38:15.299710",
     "status": "completed"
    },
    "tags": []
   },
   "outputs": [],
   "source": []
  },
  {
   "cell_type": "code",
   "execution_count": 26,
   "id": "romance-letters",
   "metadata": {
    "execution": {
     "iopub.execute_input": "2021-04-23T05:38:15.433917Z",
     "iopub.status.busy": "2021-04-23T05:38:15.433179Z",
     "iopub.status.idle": "2021-04-23T05:38:15.435340Z",
     "shell.execute_reply": "2021-04-23T05:38:15.435759Z"
    },
    "id": "9Kjy1uquIGZw",
    "papermill": {
     "duration": 0.051879,
     "end_time": "2021-04-23T05:38:15.435881",
     "exception": false,
     "start_time": "2021-04-23T05:38:15.384002",
     "status": "completed"
    },
    "tags": []
   },
   "outputs": [],
   "source": [
    "def one_step( xb, yb, net, criterion, optimizer, scheduler=None):\n",
    "  xb, yb = xb.to(DEVICE), yb.to(DEVICE)\n",
    "        \n",
    "  optimizer.zero_grad()\n",
    "  o = net(xb)\n",
    "  loss = criterion(o, yb)\n",
    "  loss.backward()\n",
    "  optimizer.step()\n",
    "  \n",
    "  with torch.no_grad():\n",
    "      l = loss.item()\n",
    "\n",
    "      o = o.sigmoid()\n",
    "      yb = (yb > 0.5 )*1.0\n",
    "      lrap = label_ranking_average_precision_score(yb.cpu().numpy(), o.cpu().numpy())\n",
    "\n",
    "      o = (o > 0.5)*1.0\n",
    "\n",
    "      prec = (o*yb).sum()/(1e-6 + o.sum())\n",
    "      rec = (o*yb).sum()/(1e-6 + yb.sum())\n",
    "      f1 = 2*prec*rec/(1e-6+prec+rec)\n",
    "\n",
    "  if  scheduler is not None:\n",
    "    scheduler.step()\n",
    "\n",
    "  return l, lrap, f1.item(), rec.item(), prec.item()"
   ]
  },
  {
   "cell_type": "code",
   "execution_count": 27,
   "id": "driving-bosnia",
   "metadata": {
    "execution": {
     "iopub.execute_input": "2021-04-23T05:38:15.528793Z",
     "iopub.status.busy": "2021-04-23T05:38:15.528110Z",
     "iopub.status.idle": "2021-04-23T05:38:15.530652Z",
     "shell.execute_reply": "2021-04-23T05:38:15.530271Z"
    },
    "id": "q9v79J0pvXy1",
    "papermill": {
     "duration": 0.052542,
     "end_time": "2021-04-23T05:38:15.530748",
     "exception": false,
     "start_time": "2021-04-23T05:38:15.478206",
     "status": "completed"
    },
    "tags": []
   },
   "outputs": [],
   "source": [
    "@torch.no_grad()\n",
    "def evaluate(net, criterion, val_laoder):\n",
    "    net.eval()\n",
    "\n",
    "    os, y = [], []\n",
    "    val_laoder = tqdm(val_laoder, leave = False, total=len(val_laoder))\n",
    "\n",
    "    for icount, (xb, yb) in  enumerate(val_laoder):\n",
    "\n",
    "        y.append(yb.to(DEVICE))\n",
    "\n",
    "        xb = xb.to(DEVICE)\n",
    "        o = net(xb)\n",
    "\n",
    "        os.append(o)\n",
    "\n",
    "    y = torch.cat(y)\n",
    "    o = torch.cat(os)\n",
    "\n",
    "    l = criterion(o, y).item()\n",
    "    \n",
    "    o = o.sigmoid()\n",
    "    y = (y > 0.5)*1.0\n",
    "\n",
    "    lrap = label_ranking_average_precision_score(y.cpu().numpy(), o.cpu().numpy())\n",
    "\n",
    "    o = (o > 0.5)*1.0\n",
    "\n",
    "    prec = ((o*y).sum()/(1e-6 + o.sum())).item()\n",
    "    rec = ((o*y).sum()/(1e-6 + y.sum())).item()\n",
    "    f1 = 2*prec*rec/(1e-6+prec+rec)\n",
    "\n",
    "    return l, lrap, f1, rec, prec, \n",
    "    "
   ]
  },
  {
   "cell_type": "code",
   "execution_count": 28,
   "id": "increased-bracelet",
   "metadata": {
    "execution": {
     "iopub.execute_input": "2021-04-23T05:38:15.624544Z",
     "iopub.status.busy": "2021-04-23T05:38:15.623832Z",
     "iopub.status.idle": "2021-04-23T05:38:15.626419Z",
     "shell.execute_reply": "2021-04-23T05:38:15.625919Z"
    },
    "id": "qeDgf4LdLWGN",
    "papermill": {
     "duration": 0.053436,
     "end_time": "2021-04-23T05:38:15.626513",
     "exception": false,
     "start_time": "2021-04-23T05:38:15.573077",
     "status": "completed"
    },
    "tags": []
   },
   "outputs": [],
   "source": [
    "def one_epoch(net, criterion, optimizer, scheduler, train_laoder, val_laoder):\n",
    "  net.train()\n",
    "  l, lrap, prec, rec, f1, icount = 0.,0.,0.,0., 0., 0\n",
    "  train_laoder = tqdm(train_laoder, leave = False)\n",
    "  epoch_bar = train_laoder\n",
    "  \n",
    "  for (xb, yb) in  epoch_bar:\n",
    "      # epoch_bar.set_description(\"----|----|----|----|---->\")\n",
    "      _l, _lrap, _f1, _rec, _prec = one_step(xb, yb, net, criterion, optimizer)\n",
    "      l += _l\n",
    "      lrap += _lrap\n",
    "      f1 += _f1\n",
    "      rec += _rec\n",
    "      prec += _prec\n",
    "\n",
    "      icount += 1\n",
    "        \n",
    "      if hasattr(epoch_bar, \"set_postfix\") and not icount%10:\n",
    "          epoch_bar.set_postfix(\n",
    "            loss=\"{:.6f}\".format(l/icount),\n",
    "            lrap=\"{:.3f}\".format(lrap/icount),\n",
    "            prec=\"{:.3f}\".format(prec/icount),\n",
    "            rec=\"{:.3f}\".format(rec/icount),\n",
    "            f1=\"{:.3f}\".format(f1/icount),\n",
    "          )\n",
    "  \n",
    "  scheduler.step()\n",
    "\n",
    "  l /= icount\n",
    "  lrap /= icount\n",
    "  f1 /= icount\n",
    "  rec /= icount\n",
    "  prec /= icount\n",
    "  \n",
    "  l_val, lrap_val, f1_val, rec_val, prec_val = evaluate(net, criterion, val_laoder)\n",
    "  \n",
    "  return (l, l_val), (lrap, lrap_val), (f1, f1_val), (rec, rec_val), (prec, prec_val)"
   ]
  },
  {
   "cell_type": "code",
   "execution_count": null,
   "id": "retained-huntington",
   "metadata": {
    "id": "IY4ET5V0RMJm",
    "papermill": {
     "duration": 0.042567,
     "end_time": "2021-04-23T05:38:15.711514",
     "exception": false,
     "start_time": "2021-04-23T05:38:15.668947",
     "status": "completed"
    },
    "tags": []
   },
   "outputs": [],
   "source": []
  },
  {
   "cell_type": "code",
   "execution_count": 29,
   "id": "empty-district",
   "metadata": {
    "execution": {
     "iopub.execute_input": "2021-04-23T05:38:15.809311Z",
     "iopub.status.busy": "2021-04-23T05:38:15.808603Z",
     "iopub.status.idle": "2021-04-23T05:38:15.811224Z",
     "shell.execute_reply": "2021-04-23T05:38:15.810824Z"
    },
    "id": "Cz7XPBvtPLO1",
    "papermill": {
     "duration": 0.057159,
     "end_time": "2021-04-23T05:38:15.811332",
     "exception": false,
     "start_time": "2021-04-23T05:38:15.754173",
     "status": "completed"
    },
    "tags": []
   },
   "outputs": [],
   "source": [
    "class AutoSave:\n",
    "  def __init__(self, top_k=2, metric=\"f1\", mode=\"min\", root=None, name=\"ckpt\"):\n",
    "    self.top_k = top_k\n",
    "    self.logs = []\n",
    "    self.metric = metric\n",
    "    self.mode = mode\n",
    "    self.root = Path(root or MODEL_ROOT)\n",
    "    assert self.root.exists()\n",
    "    self.name = name\n",
    "\n",
    "    self.top_models = []\n",
    "    self.top_metrics = []\n",
    "\n",
    "  def log(self, model, metrics):\n",
    "    metric = metrics[self.metric]\n",
    "    rank = self.rank(metric)\n",
    "\n",
    "    self.top_metrics.insert(rank+1, metric)\n",
    "    if len(self.top_metrics) > self.top_k:\n",
    "      self.top_metrics.pop(0)\n",
    "\n",
    "    self.logs.append(metrics)\n",
    "    self.save(model, metric, rank, metrics[\"epoch\"])\n",
    "\n",
    "\n",
    "  def save(self, model, metric, rank, epoch):\n",
    "    t = time.strftime(\"%Y%m%d%H%M%S\")\n",
    "    name = \"{}_epoch_{:02d}_{}_{:.04f}_{}\".format(self.name, epoch, self.metric, metric, t)\n",
    "    name = re.sub(r\"[^\\w_-]\", \"\", name) + \".pth\"\n",
    "    path = self.root.joinpath(name)\n",
    "\n",
    "    old_model = None\n",
    "    self.top_models.insert(rank+1, name)\n",
    "    if len(self.top_models) > self.top_k:\n",
    "      old_model = self.root.joinpath(self.top_models[0])\n",
    "      self.top_models.pop(0)      \n",
    "\n",
    "    torch.save(model.state_dict(), path.as_posix())\n",
    "\n",
    "    if old_model is not None:\n",
    "      old_model.unlink()\n",
    "\n",
    "    self.to_json()\n",
    "\n",
    "\n",
    "  def rank(self, val):\n",
    "    r = -1\n",
    "    for top_val in self.top_metrics:\n",
    "      if val <= top_val:\n",
    "        return r\n",
    "      r += 1\n",
    "\n",
    "    return r\n",
    "  \n",
    "  def to_json(self):\n",
    "    # t = time.strftime(\"%Y%m%d%H%M%S\")\n",
    "    name = \"{}_logs\".format(self.name)\n",
    "    name = re.sub(r\"[^\\w_-]\", \"\", name) + \".json\"\n",
    "    path = self.root.joinpath(name)\n",
    "\n",
    "    with path.open(\"w\") as f:\n",
    "      json.dump(self.logs, f, indent=2)\n"
   ]
  },
  {
   "cell_type": "code",
   "execution_count": 30,
   "id": "abroad-attachment",
   "metadata": {
    "execution": {
     "iopub.execute_input": "2021-04-23T05:38:15.900427Z",
     "iopub.status.busy": "2021-04-23T05:38:15.899630Z",
     "iopub.status.idle": "2021-04-23T05:38:15.912400Z",
     "shell.execute_reply": "2021-04-23T05:38:15.912755Z"
    },
    "id": "8X1dt_aWNi6F",
    "papermill": {
     "duration": 0.059133,
     "end_time": "2021-04-23T05:38:15.912880",
     "exception": false,
     "start_time": "2021-04-23T05:38:15.853747",
     "status": "completed"
    },
    "tags": []
   },
   "outputs": [],
   "source": [
    "def one_fold(model_name, fold, train_set, val_set, epochs=20, save=True, save_root=None):\n",
    "\n",
    "  save_root = Path(save_root) or MODEL_ROOT\n",
    "\n",
    "  saver = AutoSave(root=save_root, name=f\"birdclef_{model_name}_fold{fold}\", metric=\"f1_val\")\n",
    "\n",
    "  net = get_model(model_name).to(DEVICE)\n",
    "\n",
    "  criterion = nn.BCEWithLogitsLoss()\n",
    "\n",
    "  optimizer = optim.Adam(net.parameters(), lr=8e-4)\n",
    "  scheduler = optim.lr_scheduler.CosineAnnealingLR(optimizer, eta_min=1e-5, T_max=epochs)\n",
    "\n",
    "  train_data = BirdClefDataset(audio_image_store, meta=df.iloc[train_set].reset_index(drop=True),\n",
    "                           sr=SR, duration=DURATION, is_train=True)\n",
    "  train_laoder = DataLoader(train_data, batch_size=TRAIN_BATCH_SIZE, num_workers=TRAIN_NUM_WORKERS, shuffle=True, pin_memory=True)\n",
    "\n",
    "  val_data = BirdClefDataset(audio_image_store, meta=df.iloc[val_set].reset_index(drop=True),  sr=SR, duration=DURATION, is_train=False)\n",
    "  val_laoder = DataLoader(val_data, batch_size=VAL_BATCH_SIZE, num_workers=VAL_NUM_WORKERS, shuffle=False)\n",
    "\n",
    "  epochs_bar = tqdm(list(range(epochs)), leave=False)\n",
    "  for epoch  in epochs_bar:\n",
    "    epochs_bar.set_description(f\"--> [EPOCH {epoch:02d}]\")\n",
    "    net.train()\n",
    "\n",
    "    (l, l_val), (lrap, lrap_val), (f1, f1_val), (rec, rec_val), (prec, prec_val) = one_epoch(\n",
    "        net=net,\n",
    "        criterion=criterion,\n",
    "        optimizer=optimizer,\n",
    "        scheduler=scheduler,\n",
    "        train_laoder=train_laoder,\n",
    "        val_laoder=val_laoder,\n",
    "      )\n",
    "\n",
    "    epochs_bar.set_postfix(\n",
    "    loss=\"({:.6f}, {:.6f})\".format(l, l_val),\n",
    "    prec=\"({:.3f}, {:.3f})\".format(prec, prec_val),\n",
    "    rec=\"({:.3f}, {:.3f})\".format(rec, rec_val),\n",
    "    f1=\"({:.3f}, {:.3f})\".format(f1, f1_val),\n",
    "    lrap=\"({:.3f}, {:.3f})\".format(lrap, lrap_val),\n",
    "    )\n",
    "\n",
    "    print(\n",
    "        \"[{epoch:02d}] loss: {loss} lrap: {lrap} f1: {f1} rec: {rec} prec: {prec}\".format(\n",
    "            epoch=epoch,\n",
    "            loss=\"({:.6f}, {:.6f})\".format(l, l_val),\n",
    "            prec=\"({:.3f}, {:.3f})\".format(prec, prec_val),\n",
    "            rec=\"({:.3f}, {:.3f})\".format(rec, rec_val),\n",
    "            f1=\"({:.3f}, {:.3f})\".format(f1, f1_val),\n",
    "            lrap=\"({:.3f}, {:.3f})\".format(lrap, lrap_val),\n",
    "        )\n",
    "    )\n",
    "\n",
    "    if save:\n",
    "      metrics = {\n",
    "          \"loss\": l, \"lrap\": lrap, \"f1\": f1, \"rec\": rec, \"prec\": prec,\n",
    "          \"loss_val\": l_val, \"lrap_val\": lrap_val, \"f1_val\": f1_val, \"rec_val\": rec_val, \"prec_val\": prec_val,\n",
    "          \"epoch\": epoch,\n",
    "      }\n",
    "\n",
    "      saver.log(net, metrics)"
   ]
  },
  {
   "cell_type": "code",
   "execution_count": null,
   "id": "collect-transparency",
   "metadata": {
    "id": "NiEiYTjaSCaH",
    "papermill": {
     "duration": 0.0427,
     "end_time": "2021-04-23T05:38:15.998726",
     "exception": false,
     "start_time": "2021-04-23T05:38:15.956026",
     "status": "completed"
    },
    "tags": []
   },
   "outputs": [],
   "source": []
  },
  {
   "cell_type": "code",
   "execution_count": 31,
   "id": "extra-spare",
   "metadata": {
    "execution": {
     "iopub.execute_input": "2021-04-23T05:38:16.092817Z",
     "iopub.status.busy": "2021-04-23T05:38:16.092102Z",
     "iopub.status.idle": "2021-04-23T05:38:16.094204Z",
     "shell.execute_reply": "2021-04-23T05:38:16.094669Z"
    },
    "id": "ljqr4e2zQmzB",
    "papermill": {
     "duration": 0.052887,
     "end_time": "2021-04-23T05:38:16.094779",
     "exception": false,
     "start_time": "2021-04-23T05:38:16.041892",
     "status": "completed"
    },
    "tags": []
   },
   "outputs": [],
   "source": [
    "def train(model_name, epochs=20, save=True, n_splits=5, seed=177, save_root=None, suffix=\"\", folds=None):\n",
    "  gc.collect()\n",
    "  torch.cuda.empty_cache()\n",
    "\n",
    "  save_root = save_root or MODEL_ROOT/f\"{model_name}{suffix}\"\n",
    "  save_root.mkdir(exist_ok=True, parents=True)\n",
    "  \n",
    "  fold_bar = tqdm(df.reset_index().groupby(\"fold\").index.apply(list).items(), total=df.fold.max()+1)\n",
    "  \n",
    "  for fold, val_set in fold_bar:\n",
    "      if folds and not fold in folds:\n",
    "        continue\n",
    "      \n",
    "      print(f\"\\n############################### [FOLD {fold}]\")\n",
    "      fold_bar.set_description(f\"[FOLD {fold}]\")\n",
    "      train_set = np.setdiff1d(df.index, val_set)\n",
    "        \n",
    "      one_fold(model_name, fold=fold, train_set=train_set , val_set=val_set , epochs=epochs, save=save, save_root=save_root)\n",
    "    \n",
    "      gc.collect()\n",
    "      torch.cuda.empty_cache()"
   ]
  },
  {
   "cell_type": "code",
   "execution_count": 32,
   "id": "meaningful-highland",
   "metadata": {
    "execution": {
     "iopub.execute_input": "2021-04-23T05:38:16.183711Z",
     "iopub.status.busy": "2021-04-23T05:38:16.183039Z",
     "iopub.status.idle": "2021-04-23T05:38:16.185578Z",
     "shell.execute_reply": "2021-04-23T05:38:16.185195Z"
    },
    "id": "aqN6xL7gVAqq",
    "papermill": {
     "duration": 0.048296,
     "end_time": "2021-04-23T05:38:16.185676",
     "exception": false,
     "start_time": "2021-04-23T05:38:16.137380",
     "status": "completed"
    },
    "tags": []
   },
   "outputs": [],
   "source": [
    "MODEL_NAMES = [\n",
    "      \"resnest50\",\n",
    "] "
   ]
  },
  {
   "cell_type": "code",
   "execution_count": 33,
   "id": "oriented-peace",
   "metadata": {
    "execution": {
     "iopub.execute_input": "2021-04-23T05:38:16.590706Z",
     "iopub.status.busy": "2021-04-23T05:38:16.589464Z",
     "iopub.status.idle": "2021-04-23T05:59:22.231853Z",
     "shell.execute_reply": "2021-04-23T05:59:22.228770Z"
    },
    "id": "WyFnAQGWELb_",
    "outputId": "d676c647-65e4-43d1-a8f3-69f3d949e727",
    "papermill": {
     "duration": 1266.003605,
     "end_time": "2021-04-23T05:59:22.231994",
     "exception": false,
     "start_time": "2021-04-23T05:38:16.228389",
     "status": "completed"
    },
    "tags": []
   },
   "outputs": [
    {
     "name": "stdout",
     "output_type": "stream",
     "text": [
      "\n",
      "\n",
      "########################################### RESNEST50\n"
     ]
    },
    {
     "data": {
      "application/vnd.jupyter.widget-view+json": {
       "model_id": "08bd5cac7e4241c2a4fc9fd628eae8be",
       "version_major": 2,
       "version_minor": 0
      },
      "text/plain": [
       "  0%|          | 0/5 [00:00<?, ?it/s]"
      ]
     },
     "metadata": {},
     "output_type": "display_data"
    },
    {
     "name": "stdout",
     "output_type": "stream",
     "text": [
      "\n",
      "############################### [FOLD 0]\n"
     ]
    },
    {
     "name": "stderr",
     "output_type": "stream",
     "text": [
      "Downloading: \"https://s3.us-west-1.wasabisys.com/resnest/torch/resnest50-528c19ca.pth\" to /root/.cache/torch/hub/checkpoints/resnest50-528c19ca.pth\n"
     ]
    },
    {
     "data": {
      "application/vnd.jupyter.widget-view+json": {
       "model_id": "9f26ab5b540a4c7c81d44e9b54e28e69",
       "version_major": 2,
       "version_minor": 0
      },
      "text/plain": [
       "  0%|          | 0.00/105M [00:00<?, ?B/s]"
      ]
     },
     "metadata": {},
     "output_type": "display_data"
    },
    {
     "data": {
      "application/vnd.jupyter.widget-view+json": {
       "model_id": "3b5310f062c246e5afbd0c0a6dd0332f",
       "version_major": 2,
       "version_minor": 0
      },
      "text/plain": [
       "  0%|          | 0/2 [00:00<?, ?it/s]"
      ]
     },
     "metadata": {},
     "output_type": "display_data"
    },
    {
     "data": {
      "application/vnd.jupyter.widget-view+json": {
       "model_id": "59c3d51c0a7244b39c9ef9ed26c24f01",
       "version_major": 2,
       "version_minor": 0
      },
      "text/plain": [
       "  0%|          | 0/503 [00:00<?, ?it/s]"
      ]
     },
     "metadata": {},
     "output_type": "display_data"
    },
    {
     "data": {
      "application/vnd.jupyter.widget-view+json": {
       "model_id": "d393e1952e92492f8bf227f6599956b9",
       "version_major": 2,
       "version_minor": 0
      },
      "text/plain": [
       "  0%|          | 0/99 [00:00<?, ?it/s]"
      ]
     },
     "metadata": {},
     "output_type": "display_data"
    },
    {
     "name": "stdout",
     "output_type": "stream",
     "text": [
      "[00] loss: (0.032492, 0.027001) lrap: (0.201, 0.426) f1: (0.046, 0.186) rec: (0.027, 0.106) prec: (0.372, 0.767)\n"
     ]
    },
    {
     "data": {
      "application/vnd.jupyter.widget-view+json": {
       "model_id": "31ae450e9c8d4e71aa1221c38f48df2b",
       "version_major": 2,
       "version_minor": 0
      },
      "text/plain": [
       "  0%|          | 0/503 [00:00<?, ?it/s]"
      ]
     },
     "metadata": {},
     "output_type": "display_data"
    },
    {
     "data": {
      "application/vnd.jupyter.widget-view+json": {
       "model_id": "fbbccc332d1e43b8a89b35bc288a959d",
       "version_major": 2,
       "version_minor": 0
      },
      "text/plain": [
       "  0%|          | 0/99 [00:00<?, ?it/s]"
      ]
     },
     "metadata": {},
     "output_type": "display_data"
    },
    {
     "name": "stdout",
     "output_type": "stream",
     "text": [
      "[01] loss: (0.025088, 0.024601) lrap: (0.581, 0.613) f1: (0.373, 0.423) rec: (0.242, 0.283) prec: (0.862, 0.834)\n"
     ]
    }
   ],
   "source": [
    "for model_name in MODEL_NAMES:\n",
    "  print(\"\\n\\n###########################################\", model_name.upper())\n",
    "  try:\n",
    "    train(model_name, epochs=2, suffix=f\"_sr{SR}_d{DURATION}_v1_v1\", folds=[0])\n",
    "  except Exception as e:\n",
    "    # print(f\"Error {model_name} : \\n{e}\")\n",
    "    raise ValueError() from  e"
   ]
  },
  {
   "cell_type": "code",
   "execution_count": null,
   "id": "ahead-football",
   "metadata": {
    "id": "Q46u71ImEL4E",
    "papermill": {
     "duration": 0.047745,
     "end_time": "2021-04-23T05:59:22.327344",
     "exception": false,
     "start_time": "2021-04-23T05:59:22.279599",
     "status": "completed"
    },
    "tags": []
   },
   "outputs": [],
   "source": []
  }
 ],
 "metadata": {
  "kernelspec": {
   "display_name": "Python 3",
   "language": "python",
   "name": "python3"
  },
  "language_info": {
   "codemirror_mode": {
    "name": "ipython",
    "version": 3
   },
   "file_extension": ".py",
   "mimetype": "text/x-python",
   "name": "python",
   "nbconvert_exporter": "python",
   "pygments_lexer": "ipython3",
   "version": "3.8.8"
  },
  "papermill": {
   "default_parameters": {},
   "duration": 1583.185331,
   "end_time": "2021-04-23T05:59:26.316385",
   "environment_variables": {},
   "exception": null,
   "input_path": "__notebook__.ipynb",
   "output_path": "__notebook__.ipynb",
   "parameters": {},
   "start_time": "2021-04-23T05:33:03.131054",
   "version": "2.3.3"
  },
  "widgets": {
   "application/vnd.jupyter.widget-state+json": {
    "state": {
     "018105926ea04a81bc8bfe7c473bfeec": {
      "model_module": "@jupyter-widgets/controls",
      "model_module_version": "1.5.0",
      "model_name": "HTMLModel",
      "state": {
       "_dom_classes": [],
       "_model_module": "@jupyter-widgets/controls",
       "_model_module_version": "1.5.0",
       "_model_name": "HTMLModel",
       "_view_count": null,
       "_view_module": "@jupyter-widgets/controls",
       "_view_module_version": "1.5.0",
       "_view_name": "HTMLView",
       "description": "",
       "description_tooltip": null,
       "layout": "IPY_MODEL_0bdd7fb323bd4cf9bff97e7a36e78d11",
       "placeholder": "​",
       "style": "IPY_MODEL_e95ad3c9ef884aa398b36bff63ae6046",
       "value": " 99/99 [00:25&lt;00:00,  4.09it/s]"
      }
     },
     "064cda47b30a4d998ccdf482bce685d4": {
      "model_module": "@jupyter-widgets/controls",
      "model_module_version": "1.5.0",
      "model_name": "DescriptionStyleModel",
      "state": {
       "_model_module": "@jupyter-widgets/controls",
       "_model_module_version": "1.5.0",
       "_model_name": "DescriptionStyleModel",
       "_view_count": null,
       "_view_module": "@jupyter-widgets/base",
       "_view_module_version": "1.2.0",
       "_view_name": "StyleView",
       "description_width": ""
      }
     },
     "08bd5cac7e4241c2a4fc9fd628eae8be": {
      "model_module": "@jupyter-widgets/controls",
      "model_module_version": "1.5.0",
      "model_name": "HBoxModel",
      "state": {
       "_dom_classes": [],
       "_model_module": "@jupyter-widgets/controls",
       "_model_module_version": "1.5.0",
       "_model_name": "HBoxModel",
       "_view_count": null,
       "_view_module": "@jupyter-widgets/controls",
       "_view_module_version": "1.5.0",
       "_view_name": "HBoxView",
       "box_style": "",
       "children": [
        "IPY_MODEL_6d9a494ba63e4134b78cad2e690d2cb1",
        "IPY_MODEL_42a2ae534afb4b838d0fc6bc745e4908",
        "IPY_MODEL_a8d3e72070f64f50a769910b5e66ef5e"
       ],
       "layout": "IPY_MODEL_e4e4deb441e54e3c8d400ba3c87ee053"
      }
     },
     "093c68251de04037ae5e3bcb2aa077e2": {
      "model_module": "@jupyter-widgets/controls",
      "model_module_version": "1.5.0",
      "model_name": "DescriptionStyleModel",
      "state": {
       "_model_module": "@jupyter-widgets/controls",
       "_model_module_version": "1.5.0",
       "_model_name": "DescriptionStyleModel",
       "_view_count": null,
       "_view_module": "@jupyter-widgets/base",
       "_view_module_version": "1.2.0",
       "_view_name": "StyleView",
       "description_width": ""
      }
     },
     "0a671d866b2b4db4b4fec4bd7749f077": {
      "model_module": "@jupyter-widgets/base",
      "model_module_version": "1.2.0",
      "model_name": "LayoutModel",
      "state": {
       "_model_module": "@jupyter-widgets/base",
       "_model_module_version": "1.2.0",
       "_model_name": "LayoutModel",
       "_view_count": null,
       "_view_module": "@jupyter-widgets/base",
       "_view_module_version": "1.2.0",
       "_view_name": "LayoutView",
       "align_content": null,
       "align_items": null,
       "align_self": null,
       "border": null,
       "bottom": null,
       "display": null,
       "flex": null,
       "flex_flow": null,
       "grid_area": null,
       "grid_auto_columns": null,
       "grid_auto_flow": null,
       "grid_auto_rows": null,
       "grid_column": null,
       "grid_gap": null,
       "grid_row": null,
       "grid_template_areas": null,
       "grid_template_columns": null,
       "grid_template_rows": null,
       "height": null,
       "justify_content": null,
       "justify_items": null,
       "left": null,
       "margin": null,
       "max_height": null,
       "max_width": null,
       "min_height": null,
       "min_width": null,
       "object_fit": null,
       "object_position": null,
       "order": null,
       "overflow": null,
       "overflow_x": null,
       "overflow_y": null,
       "padding": null,
       "right": null,
       "top": null,
       "visibility": null,
       "width": null
      }
     },
     "0aa4c63ff3a940d38b6fe5a05ac23d9f": {
      "model_module": "@jupyter-widgets/controls",
      "model_module_version": "1.5.0",
      "model_name": "DescriptionStyleModel",
      "state": {
       "_model_module": "@jupyter-widgets/controls",
       "_model_module_version": "1.5.0",
       "_model_name": "DescriptionStyleModel",
       "_view_count": null,
       "_view_module": "@jupyter-widgets/base",
       "_view_module_version": "1.2.0",
       "_view_name": "StyleView",
       "description_width": ""
      }
     },
     "0bdd7fb323bd4cf9bff97e7a36e78d11": {
      "model_module": "@jupyter-widgets/base",
      "model_module_version": "1.2.0",
      "model_name": "LayoutModel",
      "state": {
       "_model_module": "@jupyter-widgets/base",
       "_model_module_version": "1.2.0",
       "_model_name": "LayoutModel",
       "_view_count": null,
       "_view_module": "@jupyter-widgets/base",
       "_view_module_version": "1.2.0",
       "_view_name": "LayoutView",
       "align_content": null,
       "align_items": null,
       "align_self": null,
       "border": null,
       "bottom": null,
       "display": null,
       "flex": null,
       "flex_flow": null,
       "grid_area": null,
       "grid_auto_columns": null,
       "grid_auto_flow": null,
       "grid_auto_rows": null,
       "grid_column": null,
       "grid_gap": null,
       "grid_row": null,
       "grid_template_areas": null,
       "grid_template_columns": null,
       "grid_template_rows": null,
       "height": null,
       "justify_content": null,
       "justify_items": null,
       "left": null,
       "margin": null,
       "max_height": null,
       "max_width": null,
       "min_height": null,
       "min_width": null,
       "object_fit": null,
       "object_position": null,
       "order": null,
       "overflow": null,
       "overflow_x": null,
       "overflow_y": null,
       "padding": null,
       "right": null,
       "top": null,
       "visibility": null,
       "width": null
      }
     },
     "0c4b15f742e545428d12ab1d0fccb7e0": {
      "model_module": "@jupyter-widgets/base",
      "model_module_version": "1.2.0",
      "model_name": "LayoutModel",
      "state": {
       "_model_module": "@jupyter-widgets/base",
       "_model_module_version": "1.2.0",
       "_model_name": "LayoutModel",
       "_view_count": null,
       "_view_module": "@jupyter-widgets/base",
       "_view_module_version": "1.2.0",
       "_view_name": "LayoutView",
       "align_content": null,
       "align_items": null,
       "align_self": null,
       "border": null,
       "bottom": null,
       "display": null,
       "flex": null,
       "flex_flow": null,
       "grid_area": null,
       "grid_auto_columns": null,
       "grid_auto_flow": null,
       "grid_auto_rows": null,
       "grid_column": null,
       "grid_gap": null,
       "grid_row": null,
       "grid_template_areas": null,
       "grid_template_columns": null,
       "grid_template_rows": null,
       "height": null,
       "justify_content": null,
       "justify_items": null,
       "left": null,
       "margin": null,
       "max_height": null,
       "max_width": null,
       "min_height": null,
       "min_width": null,
       "object_fit": null,
       "object_position": null,
       "order": null,
       "overflow": null,
       "overflow_x": null,
       "overflow_y": null,
       "padding": null,
       "right": null,
       "top": null,
       "visibility": null,
       "width": null
      }
     },
     "0d7cb7f5008a4117aee639b69c6227c0": {
      "model_module": "@jupyter-widgets/controls",
      "model_module_version": "1.5.0",
      "model_name": "HTMLModel",
      "state": {
       "_dom_classes": [],
       "_model_module": "@jupyter-widgets/controls",
       "_model_module_version": "1.5.0",
       "_model_name": "HTMLModel",
       "_view_count": null,
       "_view_module": "@jupyter-widgets/controls",
       "_view_module_version": "1.5.0",
       "_view_name": "HTMLView",
       "description": "",
       "description_tooltip": null,
       "layout": "IPY_MODEL_941439f43ea84efb8deaa4bb4b327925",
       "placeholder": "​",
       "style": "IPY_MODEL_093c68251de04037ae5e3bcb2aa077e2",
       "value": " 105M/105M [00:02&lt;00:00, 80.7MB/s]"
      }
     },
     "0efcf1669cb2457a9d1d035f39b98681": {
      "model_module": "@jupyter-widgets/controls",
      "model_module_version": "1.5.0",
      "model_name": "FloatProgressModel",
      "state": {
       "_dom_classes": [],
       "_model_module": "@jupyter-widgets/controls",
       "_model_module_version": "1.5.0",
       "_model_name": "FloatProgressModel",
       "_view_count": null,
       "_view_module": "@jupyter-widgets/controls",
       "_view_module_version": "1.5.0",
       "_view_name": "ProgressView",
       "bar_style": "",
       "description": "",
       "description_tooltip": null,
       "layout": "IPY_MODEL_b080962d4c05438c9a194668aaccff57",
       "max": 2,
       "min": 0,
       "orientation": "horizontal",
       "style": "IPY_MODEL_604d82d3dbfc48b995e65b46942d1901",
       "value": 2
      }
     },
     "10611ac030ab4fefba93bfa524f128cc": {
      "model_module": "@jupyter-widgets/controls",
      "model_module_version": "1.5.0",
      "model_name": "ProgressStyleModel",
      "state": {
       "_model_module": "@jupyter-widgets/controls",
       "_model_module_version": "1.5.0",
       "_model_name": "ProgressStyleModel",
       "_view_count": null,
       "_view_module": "@jupyter-widgets/base",
       "_view_module_version": "1.2.0",
       "_view_name": "StyleView",
       "bar_color": null,
       "description_width": ""
      }
     },
     "119a9fd3dd8345f6bdf3e005d6a224fe": {
      "model_module": "@jupyter-widgets/base",
      "model_module_version": "1.2.0",
      "model_name": "LayoutModel",
      "state": {
       "_model_module": "@jupyter-widgets/base",
       "_model_module_version": "1.2.0",
       "_model_name": "LayoutModel",
       "_view_count": null,
       "_view_module": "@jupyter-widgets/base",
       "_view_module_version": "1.2.0",
       "_view_name": "LayoutView",
       "align_content": null,
       "align_items": null,
       "align_self": null,
       "border": null,
       "bottom": null,
       "display": null,
       "flex": null,
       "flex_flow": null,
       "grid_area": null,
       "grid_auto_columns": null,
       "grid_auto_flow": null,
       "grid_auto_rows": null,
       "grid_column": null,
       "grid_gap": null,
       "grid_row": null,
       "grid_template_areas": null,
       "grid_template_columns": null,
       "grid_template_rows": null,
       "height": null,
       "justify_content": null,
       "justify_items": null,
       "left": null,
       "margin": null,
       "max_height": null,
       "max_width": null,
       "min_height": null,
       "min_width": null,
       "object_fit": null,
       "object_position": null,
       "order": null,
       "overflow": null,
       "overflow_x": null,
       "overflow_y": null,
       "padding": null,
       "right": null,
       "top": null,
       "visibility": null,
       "width": null
      }
     },
     "11bc820d6d8f4976847d297e8c7eb80b": {
      "model_module": "@jupyter-widgets/base",
      "model_module_version": "1.2.0",
      "model_name": "LayoutModel",
      "state": {
       "_model_module": "@jupyter-widgets/base",
       "_model_module_version": "1.2.0",
       "_model_name": "LayoutModel",
       "_view_count": null,
       "_view_module": "@jupyter-widgets/base",
       "_view_module_version": "1.2.0",
       "_view_name": "LayoutView",
       "align_content": null,
       "align_items": null,
       "align_self": null,
       "border": null,
       "bottom": null,
       "display": null,
       "flex": null,
       "flex_flow": null,
       "grid_area": null,
       "grid_auto_columns": null,
       "grid_auto_flow": null,
       "grid_auto_rows": null,
       "grid_column": null,
       "grid_gap": null,
       "grid_row": null,
       "grid_template_areas": null,
       "grid_template_columns": null,
       "grid_template_rows": null,
       "height": null,
       "justify_content": null,
       "justify_items": null,
       "left": null,
       "margin": null,
       "max_height": null,
       "max_width": null,
       "min_height": null,
       "min_width": null,
       "object_fit": null,
       "object_position": null,
       "order": null,
       "overflow": null,
       "overflow_x": null,
       "overflow_y": null,
       "padding": null,
       "right": null,
       "top": null,
       "visibility": null,
       "width": null
      }
     },
     "269aa47ee58e41448dea49806956ffc0": {
      "model_module": "@jupyter-widgets/controls",
      "model_module_version": "1.5.0",
      "model_name": "DescriptionStyleModel",
      "state": {
       "_model_module": "@jupyter-widgets/controls",
       "_model_module_version": "1.5.0",
       "_model_name": "DescriptionStyleModel",
       "_view_count": null,
       "_view_module": "@jupyter-widgets/base",
       "_view_module_version": "1.2.0",
       "_view_name": "StyleView",
       "description_width": ""
      }
     },
     "2ddb9ea4ab194a3ab2b51dca37a8b86d": {
      "model_module": "@jupyter-widgets/base",
      "model_module_version": "1.2.0",
      "model_name": "LayoutModel",
      "state": {
       "_model_module": "@jupyter-widgets/base",
       "_model_module_version": "1.2.0",
       "_model_name": "LayoutModel",
       "_view_count": null,
       "_view_module": "@jupyter-widgets/base",
       "_view_module_version": "1.2.0",
       "_view_name": "LayoutView",
       "align_content": null,
       "align_items": null,
       "align_self": null,
       "border": null,
       "bottom": null,
       "display": null,
       "flex": null,
       "flex_flow": null,
       "grid_area": null,
       "grid_auto_columns": null,
       "grid_auto_flow": null,
       "grid_auto_rows": null,
       "grid_column": null,
       "grid_gap": null,
       "grid_row": null,
       "grid_template_areas": null,
       "grid_template_columns": null,
       "grid_template_rows": null,
       "height": null,
       "justify_content": null,
       "justify_items": null,
       "left": null,
       "margin": null,
       "max_height": null,
       "max_width": null,
       "min_height": null,
       "min_width": null,
       "object_fit": null,
       "object_position": null,
       "order": null,
       "overflow": null,
       "overflow_x": null,
       "overflow_y": null,
       "padding": null,
       "right": null,
       "top": null,
       "visibility": null,
       "width": null
      }
     },
     "31ae450e9c8d4e71aa1221c38f48df2b": {
      "model_module": "@jupyter-widgets/controls",
      "model_module_version": "1.5.0",
      "model_name": "HBoxModel",
      "state": {
       "_dom_classes": [],
       "_model_module": "@jupyter-widgets/controls",
       "_model_module_version": "1.5.0",
       "_model_name": "HBoxModel",
       "_view_count": null,
       "_view_module": "@jupyter-widgets/controls",
       "_view_module_version": "1.5.0",
       "_view_name": "HBoxView",
       "box_style": "",
       "children": [
        "IPY_MODEL_f9dd9cb86dcf47de8edea53dff9f5c7a",
        "IPY_MODEL_c84f0cfa1c5c421ab9a73fe9ddd71d17",
        "IPY_MODEL_3901c31d5d494425a719a379393946d9"
       ],
       "layout": "IPY_MODEL_40544d7eec6b47b196b64c4d220c85c1"
      }
     },
     "326c96c1a472499ea7a76e005f3ab7fb": {
      "model_module": "@jupyter-widgets/base",
      "model_module_version": "1.2.0",
      "model_name": "LayoutModel",
      "state": {
       "_model_module": "@jupyter-widgets/base",
       "_model_module_version": "1.2.0",
       "_model_name": "LayoutModel",
       "_view_count": null,
       "_view_module": "@jupyter-widgets/base",
       "_view_module_version": "1.2.0",
       "_view_name": "LayoutView",
       "align_content": null,
       "align_items": null,
       "align_self": null,
       "border": null,
       "bottom": null,
       "display": null,
       "flex": null,
       "flex_flow": null,
       "grid_area": null,
       "grid_auto_columns": null,
       "grid_auto_flow": null,
       "grid_auto_rows": null,
       "grid_column": null,
       "grid_gap": null,
       "grid_row": null,
       "grid_template_areas": null,
       "grid_template_columns": null,
       "grid_template_rows": null,
       "height": null,
       "justify_content": null,
       "justify_items": null,
       "left": null,
       "margin": null,
       "max_height": null,
       "max_width": null,
       "min_height": null,
       "min_width": null,
       "object_fit": null,
       "object_position": null,
       "order": null,
       "overflow": null,
       "overflow_x": null,
       "overflow_y": null,
       "padding": null,
       "right": null,
       "top": null,
       "visibility": null,
       "width": null
      }
     },
     "356795e535ee4045a8a8c456e69a5b64": {
      "model_module": "@jupyter-widgets/base",
      "model_module_version": "1.2.0",
      "model_name": "LayoutModel",
      "state": {
       "_model_module": "@jupyter-widgets/base",
       "_model_module_version": "1.2.0",
       "_model_name": "LayoutModel",
       "_view_count": null,
       "_view_module": "@jupyter-widgets/base",
       "_view_module_version": "1.2.0",
       "_view_name": "LayoutView",
       "align_content": null,
       "align_items": null,
       "align_self": null,
       "border": null,
       "bottom": null,
       "display": null,
       "flex": null,
       "flex_flow": null,
       "grid_area": null,
       "grid_auto_columns": null,
       "grid_auto_flow": null,
       "grid_auto_rows": null,
       "grid_column": null,
       "grid_gap": null,
       "grid_row": null,
       "grid_template_areas": null,
       "grid_template_columns": null,
       "grid_template_rows": null,
       "height": null,
       "justify_content": null,
       "justify_items": null,
       "left": null,
       "margin": null,
       "max_height": null,
       "max_width": null,
       "min_height": null,
       "min_width": null,
       "object_fit": null,
       "object_position": null,
       "order": null,
       "overflow": null,
       "overflow_x": null,
       "overflow_y": null,
       "padding": null,
       "right": null,
       "top": null,
       "visibility": null,
       "width": null
      }
     },
     "3901c31d5d494425a719a379393946d9": {
      "model_module": "@jupyter-widgets/controls",
      "model_module_version": "1.5.0",
      "model_name": "HTMLModel",
      "state": {
       "_dom_classes": [],
       "_model_module": "@jupyter-widgets/controls",
       "_model_module_version": "1.5.0",
       "_model_name": "HTMLModel",
       "_view_count": null,
       "_view_module": "@jupyter-widgets/controls",
       "_view_module_version": "1.5.0",
       "_view_name": "HTMLView",
       "description": "",
       "description_tooltip": null,
       "layout": "IPY_MODEL_624512e26ff849498bd5c44b87535a7d",
       "placeholder": "​",
       "style": "IPY_MODEL_a3492f6cefd346c6a64c7021749a88ab",
       "value": " 503/503 [10:00&lt;00:00,  1.19s/it, f1=0.373, loss=0.025092, lrap=0.581, prec=0.862, rec=0.241]"
      }
     },
     "39f5cdb7b106410589267eb105cdacb5": {
      "model_module": "@jupyter-widgets/controls",
      "model_module_version": "1.5.0",
      "model_name": "HTMLModel",
      "state": {
       "_dom_classes": [],
       "_model_module": "@jupyter-widgets/controls",
       "_model_module_version": "1.5.0",
       "_model_name": "HTMLModel",
       "_view_count": null,
       "_view_module": "@jupyter-widgets/controls",
       "_view_module_version": "1.5.0",
       "_view_name": "HTMLView",
       "description": "",
       "description_tooltip": null,
       "layout": "IPY_MODEL_99d61224278146138b8a6fc215cc3a6d",
       "placeholder": "​",
       "style": "IPY_MODEL_9ad6de6acd234806aaf899baa2a367ac",
       "value": " 99/99 [00:24&lt;00:00,  4.09it/s]"
      }
     },
     "3b1a5017d8784bee8e167f40e5c7c217": {
      "model_module": "@jupyter-widgets/controls",
      "model_module_version": "1.5.0",
      "model_name": "ProgressStyleModel",
      "state": {
       "_model_module": "@jupyter-widgets/controls",
       "_model_module_version": "1.5.0",
       "_model_name": "ProgressStyleModel",
       "_view_count": null,
       "_view_module": "@jupyter-widgets/base",
       "_view_module_version": "1.2.0",
       "_view_name": "StyleView",
       "bar_color": null,
       "description_width": ""
      }
     },
     "3b5310f062c246e5afbd0c0a6dd0332f": {
      "model_module": "@jupyter-widgets/controls",
      "model_module_version": "1.5.0",
      "model_name": "HBoxModel",
      "state": {
       "_dom_classes": [],
       "_model_module": "@jupyter-widgets/controls",
       "_model_module_version": "1.5.0",
       "_model_name": "HBoxModel",
       "_view_count": null,
       "_view_module": "@jupyter-widgets/controls",
       "_view_module_version": "1.5.0",
       "_view_name": "HBoxView",
       "box_style": "",
       "children": [
        "IPY_MODEL_d3e7623483c24d7c926d5e9ffef4fee4",
        "IPY_MODEL_0efcf1669cb2457a9d1d035f39b98681",
        "IPY_MODEL_8f3f0b1f983f4e02bd1c9fdc5960fe0d"
       ],
       "layout": "IPY_MODEL_983a4d90055d486b8b3dcc8e6e4eb2ac"
      }
     },
     "3fb11901ea1a429f8376e4f55eb7b67e": {
      "model_module": "@jupyter-widgets/controls",
      "model_module_version": "1.5.0",
      "model_name": "DescriptionStyleModel",
      "state": {
       "_model_module": "@jupyter-widgets/controls",
       "_model_module_version": "1.5.0",
       "_model_name": "DescriptionStyleModel",
       "_view_count": null,
       "_view_module": "@jupyter-widgets/base",
       "_view_module_version": "1.2.0",
       "_view_name": "StyleView",
       "description_width": ""
      }
     },
     "40544d7eec6b47b196b64c4d220c85c1": {
      "model_module": "@jupyter-widgets/base",
      "model_module_version": "1.2.0",
      "model_name": "LayoutModel",
      "state": {
       "_model_module": "@jupyter-widgets/base",
       "_model_module_version": "1.2.0",
       "_model_name": "LayoutModel",
       "_view_count": null,
       "_view_module": "@jupyter-widgets/base",
       "_view_module_version": "1.2.0",
       "_view_name": "LayoutView",
       "align_content": null,
       "align_items": null,
       "align_self": null,
       "border": null,
       "bottom": null,
       "display": null,
       "flex": null,
       "flex_flow": null,
       "grid_area": null,
       "grid_auto_columns": null,
       "grid_auto_flow": null,
       "grid_auto_rows": null,
       "grid_column": null,
       "grid_gap": null,
       "grid_row": null,
       "grid_template_areas": null,
       "grid_template_columns": null,
       "grid_template_rows": null,
       "height": null,
       "justify_content": null,
       "justify_items": null,
       "left": null,
       "margin": null,
       "max_height": null,
       "max_width": null,
       "min_height": null,
       "min_width": null,
       "object_fit": null,
       "object_position": null,
       "order": null,
       "overflow": null,
       "overflow_x": null,
       "overflow_y": null,
       "padding": null,
       "right": null,
       "top": null,
       "visibility": null,
       "width": null
      }
     },
     "41ace335ccef481392e637e63497bf48": {
      "model_module": "@jupyter-widgets/controls",
      "model_module_version": "1.5.0",
      "model_name": "FloatProgressModel",
      "state": {
       "_dom_classes": [],
       "_model_module": "@jupyter-widgets/controls",
       "_model_module_version": "1.5.0",
       "_model_name": "FloatProgressModel",
       "_view_count": null,
       "_view_module": "@jupyter-widgets/controls",
       "_view_module_version": "1.5.0",
       "_view_name": "ProgressView",
       "bar_style": "",
       "description": "",
       "description_tooltip": null,
       "layout": "IPY_MODEL_a6728131d8fd439cb54508bb89664106",
       "max": 99,
       "min": 0,
       "orientation": "horizontal",
       "style": "IPY_MODEL_83122e4efe7942faa8c6bf4b860a1575",
       "value": 99
      }
     },
     "42a2ae534afb4b838d0fc6bc745e4908": {
      "model_module": "@jupyter-widgets/controls",
      "model_module_version": "1.5.0",
      "model_name": "FloatProgressModel",
      "state": {
       "_dom_classes": [],
       "_model_module": "@jupyter-widgets/controls",
       "_model_module_version": "1.5.0",
       "_model_name": "FloatProgressModel",
       "_view_count": null,
       "_view_module": "@jupyter-widgets/controls",
       "_view_module_version": "1.5.0",
       "_view_name": "ProgressView",
       "bar_style": "success",
       "description": "",
       "description_tooltip": null,
       "layout": "IPY_MODEL_d30a1833c67b42678628ae9df3efb161",
       "max": 5,
       "min": 0,
       "orientation": "horizontal",
       "style": "IPY_MODEL_cc747a35338a46b7827267645c1e8700",
       "value": 5
      }
     },
     "42ab571aaf89411db0d81a2e91a6c116": {
      "model_module": "@jupyter-widgets/controls",
      "model_module_version": "1.5.0",
      "model_name": "HTMLModel",
      "state": {
       "_dom_classes": [],
       "_model_module": "@jupyter-widgets/controls",
       "_model_module_version": "1.5.0",
       "_model_name": "HTMLModel",
       "_view_count": null,
       "_view_module": "@jupyter-widgets/controls",
       "_view_module_version": "1.5.0",
       "_view_name": "HTMLView",
       "description": "",
       "description_tooltip": null,
       "layout": "IPY_MODEL_11bc820d6d8f4976847d297e8c7eb80b",
       "placeholder": "​",
       "style": "IPY_MODEL_269aa47ee58e41448dea49806956ffc0",
       "value": "100%"
      }
     },
     "478d9efe0a8340afa1e9c6215447d22b": {
      "model_module": "@jupyter-widgets/base",
      "model_module_version": "1.2.0",
      "model_name": "LayoutModel",
      "state": {
       "_model_module": "@jupyter-widgets/base",
       "_model_module_version": "1.2.0",
       "_model_name": "LayoutModel",
       "_view_count": null,
       "_view_module": "@jupyter-widgets/base",
       "_view_module_version": "1.2.0",
       "_view_name": "LayoutView",
       "align_content": null,
       "align_items": null,
       "align_self": null,
       "border": null,
       "bottom": null,
       "display": null,
       "flex": null,
       "flex_flow": null,
       "grid_area": null,
       "grid_auto_columns": null,
       "grid_auto_flow": null,
       "grid_auto_rows": null,
       "grid_column": null,
       "grid_gap": null,
       "grid_row": null,
       "grid_template_areas": null,
       "grid_template_columns": null,
       "grid_template_rows": null,
       "height": null,
       "justify_content": null,
       "justify_items": null,
       "left": null,
       "margin": null,
       "max_height": null,
       "max_width": null,
       "min_height": null,
       "min_width": null,
       "object_fit": null,
       "object_position": null,
       "order": null,
       "overflow": null,
       "overflow_x": null,
       "overflow_y": null,
       "padding": null,
       "right": null,
       "top": null,
       "visibility": null,
       "width": null
      }
     },
     "526396f10b55440fbeba3def05defeb0": {
      "model_module": "@jupyter-widgets/base",
      "model_module_version": "1.2.0",
      "model_name": "LayoutModel",
      "state": {
       "_model_module": "@jupyter-widgets/base",
       "_model_module_version": "1.2.0",
       "_model_name": "LayoutModel",
       "_view_count": null,
       "_view_module": "@jupyter-widgets/base",
       "_view_module_version": "1.2.0",
       "_view_name": "LayoutView",
       "align_content": null,
       "align_items": null,
       "align_self": null,
       "border": null,
       "bottom": null,
       "display": null,
       "flex": null,
       "flex_flow": null,
       "grid_area": null,
       "grid_auto_columns": null,
       "grid_auto_flow": null,
       "grid_auto_rows": null,
       "grid_column": null,
       "grid_gap": null,
       "grid_row": null,
       "grid_template_areas": null,
       "grid_template_columns": null,
       "grid_template_rows": null,
       "height": null,
       "justify_content": null,
       "justify_items": null,
       "left": null,
       "margin": null,
       "max_height": null,
       "max_width": null,
       "min_height": null,
       "min_width": null,
       "object_fit": null,
       "object_position": null,
       "order": null,
       "overflow": null,
       "overflow_x": null,
       "overflow_y": null,
       "padding": null,
       "right": null,
       "top": null,
       "visibility": null,
       "width": null
      }
     },
     "52a8902b25234a099524e7103bf02788": {
      "model_module": "@jupyter-widgets/controls",
      "model_module_version": "1.5.0",
      "model_name": "DescriptionStyleModel",
      "state": {
       "_model_module": "@jupyter-widgets/controls",
       "_model_module_version": "1.5.0",
       "_model_name": "DescriptionStyleModel",
       "_view_count": null,
       "_view_module": "@jupyter-widgets/base",
       "_view_module_version": "1.2.0",
       "_view_name": "StyleView",
       "description_width": ""
      }
     },
     "59c3d51c0a7244b39c9ef9ed26c24f01": {
      "model_module": "@jupyter-widgets/controls",
      "model_module_version": "1.5.0",
      "model_name": "HBoxModel",
      "state": {
       "_dom_classes": [],
       "_model_module": "@jupyter-widgets/controls",
       "_model_module_version": "1.5.0",
       "_model_name": "HBoxModel",
       "_view_count": null,
       "_view_module": "@jupyter-widgets/controls",
       "_view_module_version": "1.5.0",
       "_view_name": "HBoxView",
       "box_style": "",
       "children": [
        "IPY_MODEL_b63466fe443e477faf44e89784e42614",
        "IPY_MODEL_6b932c11d709480d812bb36775abbcb1",
        "IPY_MODEL_db0d0cbf1271442b9a4bf8002b4ed249"
       ],
       "layout": "IPY_MODEL_a56e391e468b4645b98e463708d03880"
      }
     },
     "604d82d3dbfc48b995e65b46942d1901": {
      "model_module": "@jupyter-widgets/controls",
      "model_module_version": "1.5.0",
      "model_name": "ProgressStyleModel",
      "state": {
       "_model_module": "@jupyter-widgets/controls",
       "_model_module_version": "1.5.0",
       "_model_name": "ProgressStyleModel",
       "_view_count": null,
       "_view_module": "@jupyter-widgets/base",
       "_view_module_version": "1.2.0",
       "_view_name": "StyleView",
       "bar_color": null,
       "description_width": ""
      }
     },
     "624512e26ff849498bd5c44b87535a7d": {
      "model_module": "@jupyter-widgets/base",
      "model_module_version": "1.2.0",
      "model_name": "LayoutModel",
      "state": {
       "_model_module": "@jupyter-widgets/base",
       "_model_module_version": "1.2.0",
       "_model_name": "LayoutModel",
       "_view_count": null,
       "_view_module": "@jupyter-widgets/base",
       "_view_module_version": "1.2.0",
       "_view_name": "LayoutView",
       "align_content": null,
       "align_items": null,
       "align_self": null,
       "border": null,
       "bottom": null,
       "display": null,
       "flex": null,
       "flex_flow": null,
       "grid_area": null,
       "grid_auto_columns": null,
       "grid_auto_flow": null,
       "grid_auto_rows": null,
       "grid_column": null,
       "grid_gap": null,
       "grid_row": null,
       "grid_template_areas": null,
       "grid_template_columns": null,
       "grid_template_rows": null,
       "height": null,
       "justify_content": null,
       "justify_items": null,
       "left": null,
       "margin": null,
       "max_height": null,
       "max_width": null,
       "min_height": null,
       "min_width": null,
       "object_fit": null,
       "object_position": null,
       "order": null,
       "overflow": null,
       "overflow_x": null,
       "overflow_y": null,
       "padding": null,
       "right": null,
       "top": null,
       "visibility": null,
       "width": null
      }
     },
     "63159fb02bc7431ca35c2fcafd98c0a5": {
      "model_module": "@jupyter-widgets/controls",
      "model_module_version": "1.5.0",
      "model_name": "ProgressStyleModel",
      "state": {
       "_model_module": "@jupyter-widgets/controls",
       "_model_module_version": "1.5.0",
       "_model_name": "ProgressStyleModel",
       "_view_count": null,
       "_view_module": "@jupyter-widgets/base",
       "_view_module_version": "1.2.0",
       "_view_name": "StyleView",
       "bar_color": null,
       "description_width": ""
      }
     },
     "63df1185c09843c7a0a054397d26403d": {
      "model_module": "@jupyter-widgets/controls",
      "model_module_version": "1.5.0",
      "model_name": "DescriptionStyleModel",
      "state": {
       "_model_module": "@jupyter-widgets/controls",
       "_model_module_version": "1.5.0",
       "_model_name": "DescriptionStyleModel",
       "_view_count": null,
       "_view_module": "@jupyter-widgets/base",
       "_view_module_version": "1.2.0",
       "_view_name": "StyleView",
       "description_width": ""
      }
     },
     "64c71024bba2468e836d6b293bc9e1cb": {
      "model_module": "@jupyter-widgets/base",
      "model_module_version": "1.2.0",
      "model_name": "LayoutModel",
      "state": {
       "_model_module": "@jupyter-widgets/base",
       "_model_module_version": "1.2.0",
       "_model_name": "LayoutModel",
       "_view_count": null,
       "_view_module": "@jupyter-widgets/base",
       "_view_module_version": "1.2.0",
       "_view_name": "LayoutView",
       "align_content": null,
       "align_items": null,
       "align_self": null,
       "border": null,
       "bottom": null,
       "display": null,
       "flex": null,
       "flex_flow": null,
       "grid_area": null,
       "grid_auto_columns": null,
       "grid_auto_flow": null,
       "grid_auto_rows": null,
       "grid_column": null,
       "grid_gap": null,
       "grid_row": null,
       "grid_template_areas": null,
       "grid_template_columns": null,
       "grid_template_rows": null,
       "height": null,
       "justify_content": null,
       "justify_items": null,
       "left": null,
       "margin": null,
       "max_height": null,
       "max_width": null,
       "min_height": null,
       "min_width": null,
       "object_fit": null,
       "object_position": null,
       "order": null,
       "overflow": null,
       "overflow_x": null,
       "overflow_y": null,
       "padding": null,
       "right": null,
       "top": null,
       "visibility": null,
       "width": null
      }
     },
     "6b932c11d709480d812bb36775abbcb1": {
      "model_module": "@jupyter-widgets/controls",
      "model_module_version": "1.5.0",
      "model_name": "FloatProgressModel",
      "state": {
       "_dom_classes": [],
       "_model_module": "@jupyter-widgets/controls",
       "_model_module_version": "1.5.0",
       "_model_name": "FloatProgressModel",
       "_view_count": null,
       "_view_module": "@jupyter-widgets/controls",
       "_view_module_version": "1.5.0",
       "_view_name": "ProgressView",
       "bar_style": "",
       "description": "",
       "description_tooltip": null,
       "layout": "IPY_MODEL_9cac1d02581d4a258e2c2a67b77a13f5",
       "max": 503,
       "min": 0,
       "orientation": "horizontal",
       "style": "IPY_MODEL_63159fb02bc7431ca35c2fcafd98c0a5",
       "value": 503
      }
     },
     "6d9a494ba63e4134b78cad2e690d2cb1": {
      "model_module": "@jupyter-widgets/controls",
      "model_module_version": "1.5.0",
      "model_name": "HTMLModel",
      "state": {
       "_dom_classes": [],
       "_model_module": "@jupyter-widgets/controls",
       "_model_module_version": "1.5.0",
       "_model_name": "HTMLModel",
       "_view_count": null,
       "_view_module": "@jupyter-widgets/controls",
       "_view_module_version": "1.5.0",
       "_view_name": "HTMLView",
       "description": "",
       "description_tooltip": null,
       "layout": "IPY_MODEL_0a671d866b2b4db4b4fec4bd7749f077",
       "placeholder": "​",
       "style": "IPY_MODEL_feed5182395d4b368421544e377037a7",
       "value": "[FOLD 0]: 100%"
      }
     },
     "7752203624bf4d86a24516ee9c7a66ed": {
      "model_module": "@jupyter-widgets/controls",
      "model_module_version": "1.5.0",
      "model_name": "HTMLModel",
      "state": {
       "_dom_classes": [],
       "_model_module": "@jupyter-widgets/controls",
       "_model_module_version": "1.5.0",
       "_model_name": "HTMLModel",
       "_view_count": null,
       "_view_module": "@jupyter-widgets/controls",
       "_view_module_version": "1.5.0",
       "_view_name": "HTMLView",
       "description": "",
       "description_tooltip": null,
       "layout": "IPY_MODEL_356795e535ee4045a8a8c456e69a5b64",
       "placeholder": "​",
       "style": "IPY_MODEL_52a8902b25234a099524e7103bf02788",
       "value": " 62874/62874 [04:37&lt;00:00, 248.05it/s]"
      }
     },
     "7760cf4dbb5544d4b9d53adb546590d2": {
      "model_module": "@jupyter-widgets/controls",
      "model_module_version": "1.5.0",
      "model_name": "DescriptionStyleModel",
      "state": {
       "_model_module": "@jupyter-widgets/controls",
       "_model_module_version": "1.5.0",
       "_model_name": "DescriptionStyleModel",
       "_view_count": null,
       "_view_module": "@jupyter-widgets/base",
       "_view_module_version": "1.2.0",
       "_view_name": "StyleView",
       "description_width": ""
      }
     },
     "7e85b14a888249f6af2fad7841783036": {
      "model_module": "@jupyter-widgets/controls",
      "model_module_version": "1.5.0",
      "model_name": "ProgressStyleModel",
      "state": {
       "_model_module": "@jupyter-widgets/controls",
       "_model_module_version": "1.5.0",
       "_model_name": "ProgressStyleModel",
       "_view_count": null,
       "_view_module": "@jupyter-widgets/base",
       "_view_module_version": "1.2.0",
       "_view_name": "StyleView",
       "bar_color": null,
       "description_width": ""
      }
     },
     "7f33ef3ba22149f29f1358d8c87afe1e": {
      "model_module": "@jupyter-widgets/controls",
      "model_module_version": "1.5.0",
      "model_name": "HBoxModel",
      "state": {
       "_dom_classes": [],
       "_model_module": "@jupyter-widgets/controls",
       "_model_module_version": "1.5.0",
       "_model_name": "HBoxModel",
       "_view_count": null,
       "_view_module": "@jupyter-widgets/controls",
       "_view_module_version": "1.5.0",
       "_view_name": "HBoxView",
       "box_style": "",
       "children": [
        "IPY_MODEL_e3102073df954b8c85268d347626eecb",
        "IPY_MODEL_d9ea36b5a85e481e8ca9d977bce42f4d",
        "IPY_MODEL_7752203624bf4d86a24516ee9c7a66ed"
       ],
       "layout": "IPY_MODEL_64c71024bba2468e836d6b293bc9e1cb"
      }
     },
     "83122e4efe7942faa8c6bf4b860a1575": {
      "model_module": "@jupyter-widgets/controls",
      "model_module_version": "1.5.0",
      "model_name": "ProgressStyleModel",
      "state": {
       "_model_module": "@jupyter-widgets/controls",
       "_model_module_version": "1.5.0",
       "_model_name": "ProgressStyleModel",
       "_view_count": null,
       "_view_module": "@jupyter-widgets/base",
       "_view_module_version": "1.2.0",
       "_view_name": "StyleView",
       "bar_color": null,
       "description_width": ""
      }
     },
     "8f3f0b1f983f4e02bd1c9fdc5960fe0d": {
      "model_module": "@jupyter-widgets/controls",
      "model_module_version": "1.5.0",
      "model_name": "HTMLModel",
      "state": {
       "_dom_classes": [],
       "_model_module": "@jupyter-widgets/controls",
       "_model_module_version": "1.5.0",
       "_model_name": "HTMLModel",
       "_view_count": null,
       "_view_module": "@jupyter-widgets/controls",
       "_view_module_version": "1.5.0",
       "_view_name": "HTMLView",
       "description": "",
       "description_tooltip": null,
       "layout": "IPY_MODEL_c6e8ef5bba5942efb6b8435bbb929b98",
       "placeholder": "​",
       "style": "IPY_MODEL_3fb11901ea1a429f8376e4f55eb7b67e",
       "value": " 2/2 [20:56&lt;00:00, 628.23s/it, f1=(0.373, 0.423), loss=(0.025088, 0.024601), lrap=(0.581, 0.613), prec=(0.862, 0.834), rec=(0.242, 0.283)]"
      }
     },
     "941439f43ea84efb8deaa4bb4b327925": {
      "model_module": "@jupyter-widgets/base",
      "model_module_version": "1.2.0",
      "model_name": "LayoutModel",
      "state": {
       "_model_module": "@jupyter-widgets/base",
       "_model_module_version": "1.2.0",
       "_model_name": "LayoutModel",
       "_view_count": null,
       "_view_module": "@jupyter-widgets/base",
       "_view_module_version": "1.2.0",
       "_view_name": "LayoutView",
       "align_content": null,
       "align_items": null,
       "align_self": null,
       "border": null,
       "bottom": null,
       "display": null,
       "flex": null,
       "flex_flow": null,
       "grid_area": null,
       "grid_auto_columns": null,
       "grid_auto_flow": null,
       "grid_auto_rows": null,
       "grid_column": null,
       "grid_gap": null,
       "grid_row": null,
       "grid_template_areas": null,
       "grid_template_columns": null,
       "grid_template_rows": null,
       "height": null,
       "justify_content": null,
       "justify_items": null,
       "left": null,
       "margin": null,
       "max_height": null,
       "max_width": null,
       "min_height": null,
       "min_width": null,
       "object_fit": null,
       "object_position": null,
       "order": null,
       "overflow": null,
       "overflow_x": null,
       "overflow_y": null,
       "padding": null,
       "right": null,
       "top": null,
       "visibility": null,
       "width": null
      }
     },
     "983a4d90055d486b8b3dcc8e6e4eb2ac": {
      "model_module": "@jupyter-widgets/base",
      "model_module_version": "1.2.0",
      "model_name": "LayoutModel",
      "state": {
       "_model_module": "@jupyter-widgets/base",
       "_model_module_version": "1.2.0",
       "_model_name": "LayoutModel",
       "_view_count": null,
       "_view_module": "@jupyter-widgets/base",
       "_view_module_version": "1.2.0",
       "_view_name": "LayoutView",
       "align_content": null,
       "align_items": null,
       "align_self": null,
       "border": null,
       "bottom": null,
       "display": null,
       "flex": null,
       "flex_flow": null,
       "grid_area": null,
       "grid_auto_columns": null,
       "grid_auto_flow": null,
       "grid_auto_rows": null,
       "grid_column": null,
       "grid_gap": null,
       "grid_row": null,
       "grid_template_areas": null,
       "grid_template_columns": null,
       "grid_template_rows": null,
       "height": null,
       "justify_content": null,
       "justify_items": null,
       "left": null,
       "margin": null,
       "max_height": null,
       "max_width": null,
       "min_height": null,
       "min_width": null,
       "object_fit": null,
       "object_position": null,
       "order": null,
       "overflow": null,
       "overflow_x": null,
       "overflow_y": null,
       "padding": null,
       "right": null,
       "top": null,
       "visibility": null,
       "width": null
      }
     },
     "99d61224278146138b8a6fc215cc3a6d": {
      "model_module": "@jupyter-widgets/base",
      "model_module_version": "1.2.0",
      "model_name": "LayoutModel",
      "state": {
       "_model_module": "@jupyter-widgets/base",
       "_model_module_version": "1.2.0",
       "_model_name": "LayoutModel",
       "_view_count": null,
       "_view_module": "@jupyter-widgets/base",
       "_view_module_version": "1.2.0",
       "_view_name": "LayoutView",
       "align_content": null,
       "align_items": null,
       "align_self": null,
       "border": null,
       "bottom": null,
       "display": null,
       "flex": null,
       "flex_flow": null,
       "grid_area": null,
       "grid_auto_columns": null,
       "grid_auto_flow": null,
       "grid_auto_rows": null,
       "grid_column": null,
       "grid_gap": null,
       "grid_row": null,
       "grid_template_areas": null,
       "grid_template_columns": null,
       "grid_template_rows": null,
       "height": null,
       "justify_content": null,
       "justify_items": null,
       "left": null,
       "margin": null,
       "max_height": null,
       "max_width": null,
       "min_height": null,
       "min_width": null,
       "object_fit": null,
       "object_position": null,
       "order": null,
       "overflow": null,
       "overflow_x": null,
       "overflow_y": null,
       "padding": null,
       "right": null,
       "top": null,
       "visibility": null,
       "width": null
      }
     },
     "9ad6de6acd234806aaf899baa2a367ac": {
      "model_module": "@jupyter-widgets/controls",
      "model_module_version": "1.5.0",
      "model_name": "DescriptionStyleModel",
      "state": {
       "_model_module": "@jupyter-widgets/controls",
       "_model_module_version": "1.5.0",
       "_model_name": "DescriptionStyleModel",
       "_view_count": null,
       "_view_module": "@jupyter-widgets/base",
       "_view_module_version": "1.2.0",
       "_view_name": "StyleView",
       "description_width": ""
      }
     },
     "9cac1d02581d4a258e2c2a67b77a13f5": {
      "model_module": "@jupyter-widgets/base",
      "model_module_version": "1.2.0",
      "model_name": "LayoutModel",
      "state": {
       "_model_module": "@jupyter-widgets/base",
       "_model_module_version": "1.2.0",
       "_model_name": "LayoutModel",
       "_view_count": null,
       "_view_module": "@jupyter-widgets/base",
       "_view_module_version": "1.2.0",
       "_view_name": "LayoutView",
       "align_content": null,
       "align_items": null,
       "align_self": null,
       "border": null,
       "bottom": null,
       "display": null,
       "flex": null,
       "flex_flow": null,
       "grid_area": null,
       "grid_auto_columns": null,
       "grid_auto_flow": null,
       "grid_auto_rows": null,
       "grid_column": null,
       "grid_gap": null,
       "grid_row": null,
       "grid_template_areas": null,
       "grid_template_columns": null,
       "grid_template_rows": null,
       "height": null,
       "justify_content": null,
       "justify_items": null,
       "left": null,
       "margin": null,
       "max_height": null,
       "max_width": null,
       "min_height": null,
       "min_width": null,
       "object_fit": null,
       "object_position": null,
       "order": null,
       "overflow": null,
       "overflow_x": null,
       "overflow_y": null,
       "padding": null,
       "right": null,
       "top": null,
       "visibility": null,
       "width": null
      }
     },
     "9f26ab5b540a4c7c81d44e9b54e28e69": {
      "model_module": "@jupyter-widgets/controls",
      "model_module_version": "1.5.0",
      "model_name": "HBoxModel",
      "state": {
       "_dom_classes": [],
       "_model_module": "@jupyter-widgets/controls",
       "_model_module_version": "1.5.0",
       "_model_name": "HBoxModel",
       "_view_count": null,
       "_view_module": "@jupyter-widgets/controls",
       "_view_module_version": "1.5.0",
       "_view_name": "HBoxView",
       "box_style": "",
       "children": [
        "IPY_MODEL_c1686d05a78144d6863901c30894a0d9",
        "IPY_MODEL_e8b1892338c147e7bb30d87492741202",
        "IPY_MODEL_0d7cb7f5008a4117aee639b69c6227c0"
       ],
       "layout": "IPY_MODEL_a65eaa6b6fcb44b39121018dfe5df121"
      }
     },
     "9fb2bf63349d4c6f8d9f07bef6132695": {
      "model_module": "@jupyter-widgets/base",
      "model_module_version": "1.2.0",
      "model_name": "LayoutModel",
      "state": {
       "_model_module": "@jupyter-widgets/base",
       "_model_module_version": "1.2.0",
       "_model_name": "LayoutModel",
       "_view_count": null,
       "_view_module": "@jupyter-widgets/base",
       "_view_module_version": "1.2.0",
       "_view_name": "LayoutView",
       "align_content": null,
       "align_items": null,
       "align_self": null,
       "border": null,
       "bottom": null,
       "display": null,
       "flex": null,
       "flex_flow": null,
       "grid_area": null,
       "grid_auto_columns": null,
       "grid_auto_flow": null,
       "grid_auto_rows": null,
       "grid_column": null,
       "grid_gap": null,
       "grid_row": null,
       "grid_template_areas": null,
       "grid_template_columns": null,
       "grid_template_rows": null,
       "height": null,
       "justify_content": null,
       "justify_items": null,
       "left": null,
       "margin": null,
       "max_height": null,
       "max_width": null,
       "min_height": null,
       "min_width": null,
       "object_fit": null,
       "object_position": null,
       "order": null,
       "overflow": null,
       "overflow_x": null,
       "overflow_y": null,
       "padding": null,
       "right": null,
       "top": null,
       "visibility": null,
       "width": null
      }
     },
     "a3492f6cefd346c6a64c7021749a88ab": {
      "model_module": "@jupyter-widgets/controls",
      "model_module_version": "1.5.0",
      "model_name": "DescriptionStyleModel",
      "state": {
       "_model_module": "@jupyter-widgets/controls",
       "_model_module_version": "1.5.0",
       "_model_name": "DescriptionStyleModel",
       "_view_count": null,
       "_view_module": "@jupyter-widgets/base",
       "_view_module_version": "1.2.0",
       "_view_name": "StyleView",
       "description_width": ""
      }
     },
     "a42b48a7aac848d6bfd94e96c745e61f": {
      "model_module": "@jupyter-widgets/controls",
      "model_module_version": "1.5.0",
      "model_name": "DescriptionStyleModel",
      "state": {
       "_model_module": "@jupyter-widgets/controls",
       "_model_module_version": "1.5.0",
       "_model_name": "DescriptionStyleModel",
       "_view_count": null,
       "_view_module": "@jupyter-widgets/base",
       "_view_module_version": "1.2.0",
       "_view_name": "StyleView",
       "description_width": ""
      }
     },
     "a4c58ebbf2034423a1f6152544efec08": {
      "model_module": "@jupyter-widgets/base",
      "model_module_version": "1.2.0",
      "model_name": "LayoutModel",
      "state": {
       "_model_module": "@jupyter-widgets/base",
       "_model_module_version": "1.2.0",
       "_model_name": "LayoutModel",
       "_view_count": null,
       "_view_module": "@jupyter-widgets/base",
       "_view_module_version": "1.2.0",
       "_view_name": "LayoutView",
       "align_content": null,
       "align_items": null,
       "align_self": null,
       "border": null,
       "bottom": null,
       "display": null,
       "flex": null,
       "flex_flow": null,
       "grid_area": null,
       "grid_auto_columns": null,
       "grid_auto_flow": null,
       "grid_auto_rows": null,
       "grid_column": null,
       "grid_gap": null,
       "grid_row": null,
       "grid_template_areas": null,
       "grid_template_columns": null,
       "grid_template_rows": null,
       "height": null,
       "justify_content": null,
       "justify_items": null,
       "left": null,
       "margin": null,
       "max_height": null,
       "max_width": null,
       "min_height": null,
       "min_width": null,
       "object_fit": null,
       "object_position": null,
       "order": null,
       "overflow": null,
       "overflow_x": null,
       "overflow_y": null,
       "padding": null,
       "right": null,
       "top": null,
       "visibility": null,
       "width": null
      }
     },
     "a56e391e468b4645b98e463708d03880": {
      "model_module": "@jupyter-widgets/base",
      "model_module_version": "1.2.0",
      "model_name": "LayoutModel",
      "state": {
       "_model_module": "@jupyter-widgets/base",
       "_model_module_version": "1.2.0",
       "_model_name": "LayoutModel",
       "_view_count": null,
       "_view_module": "@jupyter-widgets/base",
       "_view_module_version": "1.2.0",
       "_view_name": "LayoutView",
       "align_content": null,
       "align_items": null,
       "align_self": null,
       "border": null,
       "bottom": null,
       "display": null,
       "flex": null,
       "flex_flow": null,
       "grid_area": null,
       "grid_auto_columns": null,
       "grid_auto_flow": null,
       "grid_auto_rows": null,
       "grid_column": null,
       "grid_gap": null,
       "grid_row": null,
       "grid_template_areas": null,
       "grid_template_columns": null,
       "grid_template_rows": null,
       "height": null,
       "justify_content": null,
       "justify_items": null,
       "left": null,
       "margin": null,
       "max_height": null,
       "max_width": null,
       "min_height": null,
       "min_width": null,
       "object_fit": null,
       "object_position": null,
       "order": null,
       "overflow": null,
       "overflow_x": null,
       "overflow_y": null,
       "padding": null,
       "right": null,
       "top": null,
       "visibility": null,
       "width": null
      }
     },
     "a65eaa6b6fcb44b39121018dfe5df121": {
      "model_module": "@jupyter-widgets/base",
      "model_module_version": "1.2.0",
      "model_name": "LayoutModel",
      "state": {
       "_model_module": "@jupyter-widgets/base",
       "_model_module_version": "1.2.0",
       "_model_name": "LayoutModel",
       "_view_count": null,
       "_view_module": "@jupyter-widgets/base",
       "_view_module_version": "1.2.0",
       "_view_name": "LayoutView",
       "align_content": null,
       "align_items": null,
       "align_self": null,
       "border": null,
       "bottom": null,
       "display": null,
       "flex": null,
       "flex_flow": null,
       "grid_area": null,
       "grid_auto_columns": null,
       "grid_auto_flow": null,
       "grid_auto_rows": null,
       "grid_column": null,
       "grid_gap": null,
       "grid_row": null,
       "grid_template_areas": null,
       "grid_template_columns": null,
       "grid_template_rows": null,
       "height": null,
       "justify_content": null,
       "justify_items": null,
       "left": null,
       "margin": null,
       "max_height": null,
       "max_width": null,
       "min_height": null,
       "min_width": null,
       "object_fit": null,
       "object_position": null,
       "order": null,
       "overflow": null,
       "overflow_x": null,
       "overflow_y": null,
       "padding": null,
       "right": null,
       "top": null,
       "visibility": null,
       "width": null
      }
     },
     "a6728131d8fd439cb54508bb89664106": {
      "model_module": "@jupyter-widgets/base",
      "model_module_version": "1.2.0",
      "model_name": "LayoutModel",
      "state": {
       "_model_module": "@jupyter-widgets/base",
       "_model_module_version": "1.2.0",
       "_model_name": "LayoutModel",
       "_view_count": null,
       "_view_module": "@jupyter-widgets/base",
       "_view_module_version": "1.2.0",
       "_view_name": "LayoutView",
       "align_content": null,
       "align_items": null,
       "align_self": null,
       "border": null,
       "bottom": null,
       "display": null,
       "flex": null,
       "flex_flow": null,
       "grid_area": null,
       "grid_auto_columns": null,
       "grid_auto_flow": null,
       "grid_auto_rows": null,
       "grid_column": null,
       "grid_gap": null,
       "grid_row": null,
       "grid_template_areas": null,
       "grid_template_columns": null,
       "grid_template_rows": null,
       "height": null,
       "justify_content": null,
       "justify_items": null,
       "left": null,
       "margin": null,
       "max_height": null,
       "max_width": null,
       "min_height": null,
       "min_width": null,
       "object_fit": null,
       "object_position": null,
       "order": null,
       "overflow": null,
       "overflow_x": null,
       "overflow_y": null,
       "padding": null,
       "right": null,
       "top": null,
       "visibility": null,
       "width": null
      }
     },
     "a8d3e72070f64f50a769910b5e66ef5e": {
      "model_module": "@jupyter-widgets/controls",
      "model_module_version": "1.5.0",
      "model_name": "HTMLModel",
      "state": {
       "_dom_classes": [],
       "_model_module": "@jupyter-widgets/controls",
       "_model_module_version": "1.5.0",
       "_model_name": "HTMLModel",
       "_view_count": null,
       "_view_module": "@jupyter-widgets/controls",
       "_view_module_version": "1.5.0",
       "_view_name": "HTMLView",
       "description": "",
       "description_tooltip": null,
       "layout": "IPY_MODEL_ac525e1313224f659b7b4f5ca561f95c",
       "placeholder": "​",
       "style": "IPY_MODEL_c7f92c8a05394184ab5a7d95d68043e6",
       "value": " 5/5 [21:05&lt;00:00, 1265.59s/it]"
      }
     },
     "ac525e1313224f659b7b4f5ca561f95c": {
      "model_module": "@jupyter-widgets/base",
      "model_module_version": "1.2.0",
      "model_name": "LayoutModel",
      "state": {
       "_model_module": "@jupyter-widgets/base",
       "_model_module_version": "1.2.0",
       "_model_name": "LayoutModel",
       "_view_count": null,
       "_view_module": "@jupyter-widgets/base",
       "_view_module_version": "1.2.0",
       "_view_name": "LayoutView",
       "align_content": null,
       "align_items": null,
       "align_self": null,
       "border": null,
       "bottom": null,
       "display": null,
       "flex": null,
       "flex_flow": null,
       "grid_area": null,
       "grid_auto_columns": null,
       "grid_auto_flow": null,
       "grid_auto_rows": null,
       "grid_column": null,
       "grid_gap": null,
       "grid_row": null,
       "grid_template_areas": null,
       "grid_template_columns": null,
       "grid_template_rows": null,
       "height": null,
       "justify_content": null,
       "justify_items": null,
       "left": null,
       "margin": null,
       "max_height": null,
       "max_width": null,
       "min_height": null,
       "min_width": null,
       "object_fit": null,
       "object_position": null,
       "order": null,
       "overflow": null,
       "overflow_x": null,
       "overflow_y": null,
       "padding": null,
       "right": null,
       "top": null,
       "visibility": null,
       "width": null
      }
     },
     "b080962d4c05438c9a194668aaccff57": {
      "model_module": "@jupyter-widgets/base",
      "model_module_version": "1.2.0",
      "model_name": "LayoutModel",
      "state": {
       "_model_module": "@jupyter-widgets/base",
       "_model_module_version": "1.2.0",
       "_model_name": "LayoutModel",
       "_view_count": null,
       "_view_module": "@jupyter-widgets/base",
       "_view_module_version": "1.2.0",
       "_view_name": "LayoutView",
       "align_content": null,
       "align_items": null,
       "align_self": null,
       "border": null,
       "bottom": null,
       "display": null,
       "flex": null,
       "flex_flow": null,
       "grid_area": null,
       "grid_auto_columns": null,
       "grid_auto_flow": null,
       "grid_auto_rows": null,
       "grid_column": null,
       "grid_gap": null,
       "grid_row": null,
       "grid_template_areas": null,
       "grid_template_columns": null,
       "grid_template_rows": null,
       "height": null,
       "justify_content": null,
       "justify_items": null,
       "left": null,
       "margin": null,
       "max_height": null,
       "max_width": null,
       "min_height": null,
       "min_width": null,
       "object_fit": null,
       "object_position": null,
       "order": null,
       "overflow": null,
       "overflow_x": null,
       "overflow_y": null,
       "padding": null,
       "right": null,
       "top": null,
       "visibility": null,
       "width": null
      }
     },
     "b5b1b106e0304c11848be52cc9789cca": {
      "model_module": "@jupyter-widgets/base",
      "model_module_version": "1.2.0",
      "model_name": "LayoutModel",
      "state": {
       "_model_module": "@jupyter-widgets/base",
       "_model_module_version": "1.2.0",
       "_model_name": "LayoutModel",
       "_view_count": null,
       "_view_module": "@jupyter-widgets/base",
       "_view_module_version": "1.2.0",
       "_view_name": "LayoutView",
       "align_content": null,
       "align_items": null,
       "align_self": null,
       "border": null,
       "bottom": null,
       "display": null,
       "flex": null,
       "flex_flow": null,
       "grid_area": null,
       "grid_auto_columns": null,
       "grid_auto_flow": null,
       "grid_auto_rows": null,
       "grid_column": null,
       "grid_gap": null,
       "grid_row": null,
       "grid_template_areas": null,
       "grid_template_columns": null,
       "grid_template_rows": null,
       "height": null,
       "justify_content": null,
       "justify_items": null,
       "left": null,
       "margin": null,
       "max_height": null,
       "max_width": null,
       "min_height": null,
       "min_width": null,
       "object_fit": null,
       "object_position": null,
       "order": null,
       "overflow": null,
       "overflow_x": null,
       "overflow_y": null,
       "padding": null,
       "right": null,
       "top": null,
       "visibility": null,
       "width": null
      }
     },
     "b63466fe443e477faf44e89784e42614": {
      "model_module": "@jupyter-widgets/controls",
      "model_module_version": "1.5.0",
      "model_name": "HTMLModel",
      "state": {
       "_dom_classes": [],
       "_model_module": "@jupyter-widgets/controls",
       "_model_module_version": "1.5.0",
       "_model_name": "HTMLModel",
       "_view_count": null,
       "_view_module": "@jupyter-widgets/controls",
       "_view_module_version": "1.5.0",
       "_view_name": "HTMLView",
       "description": "",
       "description_tooltip": null,
       "layout": "IPY_MODEL_db8b52ae15e5421cb74a618490ab1a69",
       "placeholder": "​",
       "style": "IPY_MODEL_63df1185c09843c7a0a054397d26403d",
       "value": "100%"
      }
     },
     "bb69e3a7ebc049269ae3887f9bb5288f": {
      "model_module": "@jupyter-widgets/controls",
      "model_module_version": "1.5.0",
      "model_name": "FloatProgressModel",
      "state": {
       "_dom_classes": [],
       "_model_module": "@jupyter-widgets/controls",
       "_model_module_version": "1.5.0",
       "_model_name": "FloatProgressModel",
       "_view_count": null,
       "_view_module": "@jupyter-widgets/controls",
       "_view_module_version": "1.5.0",
       "_view_name": "ProgressView",
       "bar_style": "",
       "description": "",
       "description_tooltip": null,
       "layout": "IPY_MODEL_f9ed2c772af442f0adee039a882e3bc8",
       "max": 99,
       "min": 0,
       "orientation": "horizontal",
       "style": "IPY_MODEL_10611ac030ab4fefba93bfa524f128cc",
       "value": 99
      }
     },
     "c1686d05a78144d6863901c30894a0d9": {
      "model_module": "@jupyter-widgets/controls",
      "model_module_version": "1.5.0",
      "model_name": "HTMLModel",
      "state": {
       "_dom_classes": [],
       "_model_module": "@jupyter-widgets/controls",
       "_model_module_version": "1.5.0",
       "_model_name": "HTMLModel",
       "_view_count": null,
       "_view_module": "@jupyter-widgets/controls",
       "_view_module_version": "1.5.0",
       "_view_name": "HTMLView",
       "description": "",
       "description_tooltip": null,
       "layout": "IPY_MODEL_526396f10b55440fbeba3def05defeb0",
       "placeholder": "​",
       "style": "IPY_MODEL_a42b48a7aac848d6bfd94e96c745e61f",
       "value": "100%"
      }
     },
     "c6e8ef5bba5942efb6b8435bbb929b98": {
      "model_module": "@jupyter-widgets/base",
      "model_module_version": "1.2.0",
      "model_name": "LayoutModel",
      "state": {
       "_model_module": "@jupyter-widgets/base",
       "_model_module_version": "1.2.0",
       "_model_name": "LayoutModel",
       "_view_count": null,
       "_view_module": "@jupyter-widgets/base",
       "_view_module_version": "1.2.0",
       "_view_name": "LayoutView",
       "align_content": null,
       "align_items": null,
       "align_self": null,
       "border": null,
       "bottom": null,
       "display": null,
       "flex": null,
       "flex_flow": null,
       "grid_area": null,
       "grid_auto_columns": null,
       "grid_auto_flow": null,
       "grid_auto_rows": null,
       "grid_column": null,
       "grid_gap": null,
       "grid_row": null,
       "grid_template_areas": null,
       "grid_template_columns": null,
       "grid_template_rows": null,
       "height": null,
       "justify_content": null,
       "justify_items": null,
       "left": null,
       "margin": null,
       "max_height": null,
       "max_width": null,
       "min_height": null,
       "min_width": null,
       "object_fit": null,
       "object_position": null,
       "order": null,
       "overflow": null,
       "overflow_x": null,
       "overflow_y": null,
       "padding": null,
       "right": null,
       "top": null,
       "visibility": null,
       "width": null
      }
     },
     "c7f92c8a05394184ab5a7d95d68043e6": {
      "model_module": "@jupyter-widgets/controls",
      "model_module_version": "1.5.0",
      "model_name": "DescriptionStyleModel",
      "state": {
       "_model_module": "@jupyter-widgets/controls",
       "_model_module_version": "1.5.0",
       "_model_name": "DescriptionStyleModel",
       "_view_count": null,
       "_view_module": "@jupyter-widgets/base",
       "_view_module_version": "1.2.0",
       "_view_name": "StyleView",
       "description_width": ""
      }
     },
     "c84f0cfa1c5c421ab9a73fe9ddd71d17": {
      "model_module": "@jupyter-widgets/controls",
      "model_module_version": "1.5.0",
      "model_name": "FloatProgressModel",
      "state": {
       "_dom_classes": [],
       "_model_module": "@jupyter-widgets/controls",
       "_model_module_version": "1.5.0",
       "_model_name": "FloatProgressModel",
       "_view_count": null,
       "_view_module": "@jupyter-widgets/controls",
       "_view_module_version": "1.5.0",
       "_view_name": "ProgressView",
       "bar_style": "",
       "description": "",
       "description_tooltip": null,
       "layout": "IPY_MODEL_0c4b15f742e545428d12ab1d0fccb7e0",
       "max": 503,
       "min": 0,
       "orientation": "horizontal",
       "style": "IPY_MODEL_7e85b14a888249f6af2fad7841783036",
       "value": 503
      }
     },
     "cc747a35338a46b7827267645c1e8700": {
      "model_module": "@jupyter-widgets/controls",
      "model_module_version": "1.5.0",
      "model_name": "ProgressStyleModel",
      "state": {
       "_model_module": "@jupyter-widgets/controls",
       "_model_module_version": "1.5.0",
       "_model_name": "ProgressStyleModel",
       "_view_count": null,
       "_view_module": "@jupyter-widgets/base",
       "_view_module_version": "1.2.0",
       "_view_name": "StyleView",
       "bar_color": null,
       "description_width": ""
      }
     },
     "d1d49a83e7b94d51be5eaeda051c7ff6": {
      "model_module": "@jupyter-widgets/controls",
      "model_module_version": "1.5.0",
      "model_name": "DescriptionStyleModel",
      "state": {
       "_model_module": "@jupyter-widgets/controls",
       "_model_module_version": "1.5.0",
       "_model_name": "DescriptionStyleModel",
       "_view_count": null,
       "_view_module": "@jupyter-widgets/base",
       "_view_module_version": "1.2.0",
       "_view_name": "StyleView",
       "description_width": ""
      }
     },
     "d30a1833c67b42678628ae9df3efb161": {
      "model_module": "@jupyter-widgets/base",
      "model_module_version": "1.2.0",
      "model_name": "LayoutModel",
      "state": {
       "_model_module": "@jupyter-widgets/base",
       "_model_module_version": "1.2.0",
       "_model_name": "LayoutModel",
       "_view_count": null,
       "_view_module": "@jupyter-widgets/base",
       "_view_module_version": "1.2.0",
       "_view_name": "LayoutView",
       "align_content": null,
       "align_items": null,
       "align_self": null,
       "border": null,
       "bottom": null,
       "display": null,
       "flex": null,
       "flex_flow": null,
       "grid_area": null,
       "grid_auto_columns": null,
       "grid_auto_flow": null,
       "grid_auto_rows": null,
       "grid_column": null,
       "grid_gap": null,
       "grid_row": null,
       "grid_template_areas": null,
       "grid_template_columns": null,
       "grid_template_rows": null,
       "height": null,
       "justify_content": null,
       "justify_items": null,
       "left": null,
       "margin": null,
       "max_height": null,
       "max_width": null,
       "min_height": null,
       "min_width": null,
       "object_fit": null,
       "object_position": null,
       "order": null,
       "overflow": null,
       "overflow_x": null,
       "overflow_y": null,
       "padding": null,
       "right": null,
       "top": null,
       "visibility": null,
       "width": null
      }
     },
     "d393e1952e92492f8bf227f6599956b9": {
      "model_module": "@jupyter-widgets/controls",
      "model_module_version": "1.5.0",
      "model_name": "HBoxModel",
      "state": {
       "_dom_classes": [],
       "_model_module": "@jupyter-widgets/controls",
       "_model_module_version": "1.5.0",
       "_model_name": "HBoxModel",
       "_view_count": null,
       "_view_module": "@jupyter-widgets/controls",
       "_view_module_version": "1.5.0",
       "_view_name": "HBoxView",
       "box_style": "",
       "children": [
        "IPY_MODEL_edf1fca8011b49b4bc78a122591d4b7c",
        "IPY_MODEL_bb69e3a7ebc049269ae3887f9bb5288f",
        "IPY_MODEL_018105926ea04a81bc8bfe7c473bfeec"
       ],
       "layout": "IPY_MODEL_a4c58ebbf2034423a1f6152544efec08"
      }
     },
     "d3e7623483c24d7c926d5e9ffef4fee4": {
      "model_module": "@jupyter-widgets/controls",
      "model_module_version": "1.5.0",
      "model_name": "HTMLModel",
      "state": {
       "_dom_classes": [],
       "_model_module": "@jupyter-widgets/controls",
       "_model_module_version": "1.5.0",
       "_model_name": "HTMLModel",
       "_view_count": null,
       "_view_module": "@jupyter-widgets/controls",
       "_view_module_version": "1.5.0",
       "_view_name": "HTMLView",
       "description": "",
       "description_tooltip": null,
       "layout": "IPY_MODEL_f7cf511269f94d0c88df3c1a5fb0dea0",
       "placeholder": "​",
       "style": "IPY_MODEL_0aa4c63ff3a940d38b6fe5a05ac23d9f",
       "value": "--&gt; [EPOCH 01]: 100%"
      }
     },
     "d9ea36b5a85e481e8ca9d977bce42f4d": {
      "model_module": "@jupyter-widgets/controls",
      "model_module_version": "1.5.0",
      "model_name": "FloatProgressModel",
      "state": {
       "_dom_classes": [],
       "_model_module": "@jupyter-widgets/controls",
       "_model_module_version": "1.5.0",
       "_model_name": "FloatProgressModel",
       "_view_count": null,
       "_view_module": "@jupyter-widgets/controls",
       "_view_module_version": "1.5.0",
       "_view_name": "ProgressView",
       "bar_style": "success",
       "description": "",
       "description_tooltip": null,
       "layout": "IPY_MODEL_f4bd61c1340442169a047319b806ddba",
       "max": 62874,
       "min": 0,
       "orientation": "horizontal",
       "style": "IPY_MODEL_3b1a5017d8784bee8e167f40e5c7c217",
       "value": 62874
      }
     },
     "db0d0cbf1271442b9a4bf8002b4ed249": {
      "model_module": "@jupyter-widgets/controls",
      "model_module_version": "1.5.0",
      "model_name": "HTMLModel",
      "state": {
       "_dom_classes": [],
       "_model_module": "@jupyter-widgets/controls",
       "_model_module_version": "1.5.0",
       "_model_name": "HTMLModel",
       "_view_count": null,
       "_view_module": "@jupyter-widgets/controls",
       "_view_module_version": "1.5.0",
       "_view_name": "HTMLView",
       "description": "",
       "description_tooltip": null,
       "layout": "IPY_MODEL_326c96c1a472499ea7a76e005f3ab7fb",
       "placeholder": "​",
       "style": "IPY_MODEL_7760cf4dbb5544d4b9d53adb546590d2",
       "value": " 503/503 [10:01&lt;00:00,  1.18s/it, f1=0.045, loss=0.032527, lrap=0.200, prec=0.370, rec=0.026]"
      }
     },
     "db8b52ae15e5421cb74a618490ab1a69": {
      "model_module": "@jupyter-widgets/base",
      "model_module_version": "1.2.0",
      "model_name": "LayoutModel",
      "state": {
       "_model_module": "@jupyter-widgets/base",
       "_model_module_version": "1.2.0",
       "_model_name": "LayoutModel",
       "_view_count": null,
       "_view_module": "@jupyter-widgets/base",
       "_view_module_version": "1.2.0",
       "_view_name": "LayoutView",
       "align_content": null,
       "align_items": null,
       "align_self": null,
       "border": null,
       "bottom": null,
       "display": null,
       "flex": null,
       "flex_flow": null,
       "grid_area": null,
       "grid_auto_columns": null,
       "grid_auto_flow": null,
       "grid_auto_rows": null,
       "grid_column": null,
       "grid_gap": null,
       "grid_row": null,
       "grid_template_areas": null,
       "grid_template_columns": null,
       "grid_template_rows": null,
       "height": null,
       "justify_content": null,
       "justify_items": null,
       "left": null,
       "margin": null,
       "max_height": null,
       "max_width": null,
       "min_height": null,
       "min_width": null,
       "object_fit": null,
       "object_position": null,
       "order": null,
       "overflow": null,
       "overflow_x": null,
       "overflow_y": null,
       "padding": null,
       "right": null,
       "top": null,
       "visibility": null,
       "width": null
      }
     },
     "e3102073df954b8c85268d347626eecb": {
      "model_module": "@jupyter-widgets/controls",
      "model_module_version": "1.5.0",
      "model_name": "HTMLModel",
      "state": {
       "_dom_classes": [],
       "_model_module": "@jupyter-widgets/controls",
       "_model_module_version": "1.5.0",
       "_model_name": "HTMLModel",
       "_view_count": null,
       "_view_module": "@jupyter-widgets/controls",
       "_view_module_version": "1.5.0",
       "_view_name": "HTMLView",
       "description": "",
       "description_tooltip": null,
       "layout": "IPY_MODEL_478d9efe0a8340afa1e9c6215447d22b",
       "placeholder": "​",
       "style": "IPY_MODEL_fbcd8740740f462a9d7551546bac40eb",
       "value": "100%"
      }
     },
     "e4e4deb441e54e3c8d400ba3c87ee053": {
      "model_module": "@jupyter-widgets/base",
      "model_module_version": "1.2.0",
      "model_name": "LayoutModel",
      "state": {
       "_model_module": "@jupyter-widgets/base",
       "_model_module_version": "1.2.0",
       "_model_name": "LayoutModel",
       "_view_count": null,
       "_view_module": "@jupyter-widgets/base",
       "_view_module_version": "1.2.0",
       "_view_name": "LayoutView",
       "align_content": null,
       "align_items": null,
       "align_self": null,
       "border": null,
       "bottom": null,
       "display": null,
       "flex": null,
       "flex_flow": null,
       "grid_area": null,
       "grid_auto_columns": null,
       "grid_auto_flow": null,
       "grid_auto_rows": null,
       "grid_column": null,
       "grid_gap": null,
       "grid_row": null,
       "grid_template_areas": null,
       "grid_template_columns": null,
       "grid_template_rows": null,
       "height": null,
       "justify_content": null,
       "justify_items": null,
       "left": null,
       "margin": null,
       "max_height": null,
       "max_width": null,
       "min_height": null,
       "min_width": null,
       "object_fit": null,
       "object_position": null,
       "order": null,
       "overflow": null,
       "overflow_x": null,
       "overflow_y": null,
       "padding": null,
       "right": null,
       "top": null,
       "visibility": null,
       "width": null
      }
     },
     "e8b1892338c147e7bb30d87492741202": {
      "model_module": "@jupyter-widgets/controls",
      "model_module_version": "1.5.0",
      "model_name": "FloatProgressModel",
      "state": {
       "_dom_classes": [],
       "_model_module": "@jupyter-widgets/controls",
       "_model_module_version": "1.5.0",
       "_model_name": "FloatProgressModel",
       "_view_count": null,
       "_view_module": "@jupyter-widgets/controls",
       "_view_module_version": "1.5.0",
       "_view_name": "ProgressView",
       "bar_style": "success",
       "description": "",
       "description_tooltip": null,
       "layout": "IPY_MODEL_2ddb9ea4ab194a3ab2b51dca37a8b86d",
       "max": 110273258,
       "min": 0,
       "orientation": "horizontal",
       "style": "IPY_MODEL_f474d474709341659da3f277b57e59b5",
       "value": 110273258
      }
     },
     "e95ad3c9ef884aa398b36bff63ae6046": {
      "model_module": "@jupyter-widgets/controls",
      "model_module_version": "1.5.0",
      "model_name": "DescriptionStyleModel",
      "state": {
       "_model_module": "@jupyter-widgets/controls",
       "_model_module_version": "1.5.0",
       "_model_name": "DescriptionStyleModel",
       "_view_count": null,
       "_view_module": "@jupyter-widgets/base",
       "_view_module_version": "1.2.0",
       "_view_name": "StyleView",
       "description_width": ""
      }
     },
     "edf1fca8011b49b4bc78a122591d4b7c": {
      "model_module": "@jupyter-widgets/controls",
      "model_module_version": "1.5.0",
      "model_name": "HTMLModel",
      "state": {
       "_dom_classes": [],
       "_model_module": "@jupyter-widgets/controls",
       "_model_module_version": "1.5.0",
       "_model_name": "HTMLModel",
       "_view_count": null,
       "_view_module": "@jupyter-widgets/controls",
       "_view_module_version": "1.5.0",
       "_view_name": "HTMLView",
       "description": "",
       "description_tooltip": null,
       "layout": "IPY_MODEL_119a9fd3dd8345f6bdf3e005d6a224fe",
       "placeholder": "​",
       "style": "IPY_MODEL_d1d49a83e7b94d51be5eaeda051c7ff6",
       "value": "100%"
      }
     },
     "f474d474709341659da3f277b57e59b5": {
      "model_module": "@jupyter-widgets/controls",
      "model_module_version": "1.5.0",
      "model_name": "ProgressStyleModel",
      "state": {
       "_model_module": "@jupyter-widgets/controls",
       "_model_module_version": "1.5.0",
       "_model_name": "ProgressStyleModel",
       "_view_count": null,
       "_view_module": "@jupyter-widgets/base",
       "_view_module_version": "1.2.0",
       "_view_name": "StyleView",
       "bar_color": null,
       "description_width": ""
      }
     },
     "f4bd61c1340442169a047319b806ddba": {
      "model_module": "@jupyter-widgets/base",
      "model_module_version": "1.2.0",
      "model_name": "LayoutModel",
      "state": {
       "_model_module": "@jupyter-widgets/base",
       "_model_module_version": "1.2.0",
       "_model_name": "LayoutModel",
       "_view_count": null,
       "_view_module": "@jupyter-widgets/base",
       "_view_module_version": "1.2.0",
       "_view_name": "LayoutView",
       "align_content": null,
       "align_items": null,
       "align_self": null,
       "border": null,
       "bottom": null,
       "display": null,
       "flex": null,
       "flex_flow": null,
       "grid_area": null,
       "grid_auto_columns": null,
       "grid_auto_flow": null,
       "grid_auto_rows": null,
       "grid_column": null,
       "grid_gap": null,
       "grid_row": null,
       "grid_template_areas": null,
       "grid_template_columns": null,
       "grid_template_rows": null,
       "height": null,
       "justify_content": null,
       "justify_items": null,
       "left": null,
       "margin": null,
       "max_height": null,
       "max_width": null,
       "min_height": null,
       "min_width": null,
       "object_fit": null,
       "object_position": null,
       "order": null,
       "overflow": null,
       "overflow_x": null,
       "overflow_y": null,
       "padding": null,
       "right": null,
       "top": null,
       "visibility": null,
       "width": null
      }
     },
     "f7cf511269f94d0c88df3c1a5fb0dea0": {
      "model_module": "@jupyter-widgets/base",
      "model_module_version": "1.2.0",
      "model_name": "LayoutModel",
      "state": {
       "_model_module": "@jupyter-widgets/base",
       "_model_module_version": "1.2.0",
       "_model_name": "LayoutModel",
       "_view_count": null,
       "_view_module": "@jupyter-widgets/base",
       "_view_module_version": "1.2.0",
       "_view_name": "LayoutView",
       "align_content": null,
       "align_items": null,
       "align_self": null,
       "border": null,
       "bottom": null,
       "display": null,
       "flex": null,
       "flex_flow": null,
       "grid_area": null,
       "grid_auto_columns": null,
       "grid_auto_flow": null,
       "grid_auto_rows": null,
       "grid_column": null,
       "grid_gap": null,
       "grid_row": null,
       "grid_template_areas": null,
       "grid_template_columns": null,
       "grid_template_rows": null,
       "height": null,
       "justify_content": null,
       "justify_items": null,
       "left": null,
       "margin": null,
       "max_height": null,
       "max_width": null,
       "min_height": null,
       "min_width": null,
       "object_fit": null,
       "object_position": null,
       "order": null,
       "overflow": null,
       "overflow_x": null,
       "overflow_y": null,
       "padding": null,
       "right": null,
       "top": null,
       "visibility": null,
       "width": null
      }
     },
     "f9dd9cb86dcf47de8edea53dff9f5c7a": {
      "model_module": "@jupyter-widgets/controls",
      "model_module_version": "1.5.0",
      "model_name": "HTMLModel",
      "state": {
       "_dom_classes": [],
       "_model_module": "@jupyter-widgets/controls",
       "_model_module_version": "1.5.0",
       "_model_name": "HTMLModel",
       "_view_count": null,
       "_view_module": "@jupyter-widgets/controls",
       "_view_module_version": "1.5.0",
       "_view_name": "HTMLView",
       "description": "",
       "description_tooltip": null,
       "layout": "IPY_MODEL_9fb2bf63349d4c6f8d9f07bef6132695",
       "placeholder": "​",
       "style": "IPY_MODEL_064cda47b30a4d998ccdf482bce685d4",
       "value": "100%"
      }
     },
     "f9ed2c772af442f0adee039a882e3bc8": {
      "model_module": "@jupyter-widgets/base",
      "model_module_version": "1.2.0",
      "model_name": "LayoutModel",
      "state": {
       "_model_module": "@jupyter-widgets/base",
       "_model_module_version": "1.2.0",
       "_model_name": "LayoutModel",
       "_view_count": null,
       "_view_module": "@jupyter-widgets/base",
       "_view_module_version": "1.2.0",
       "_view_name": "LayoutView",
       "align_content": null,
       "align_items": null,
       "align_self": null,
       "border": null,
       "bottom": null,
       "display": null,
       "flex": null,
       "flex_flow": null,
       "grid_area": null,
       "grid_auto_columns": null,
       "grid_auto_flow": null,
       "grid_auto_rows": null,
       "grid_column": null,
       "grid_gap": null,
       "grid_row": null,
       "grid_template_areas": null,
       "grid_template_columns": null,
       "grid_template_rows": null,
       "height": null,
       "justify_content": null,
       "justify_items": null,
       "left": null,
       "margin": null,
       "max_height": null,
       "max_width": null,
       "min_height": null,
       "min_width": null,
       "object_fit": null,
       "object_position": null,
       "order": null,
       "overflow": null,
       "overflow_x": null,
       "overflow_y": null,
       "padding": null,
       "right": null,
       "top": null,
       "visibility": null,
       "width": null
      }
     },
     "fbbccc332d1e43b8a89b35bc288a959d": {
      "model_module": "@jupyter-widgets/controls",
      "model_module_version": "1.5.0",
      "model_name": "HBoxModel",
      "state": {
       "_dom_classes": [],
       "_model_module": "@jupyter-widgets/controls",
       "_model_module_version": "1.5.0",
       "_model_name": "HBoxModel",
       "_view_count": null,
       "_view_module": "@jupyter-widgets/controls",
       "_view_module_version": "1.5.0",
       "_view_name": "HBoxView",
       "box_style": "",
       "children": [
        "IPY_MODEL_42ab571aaf89411db0d81a2e91a6c116",
        "IPY_MODEL_41ace335ccef481392e637e63497bf48",
        "IPY_MODEL_39f5cdb7b106410589267eb105cdacb5"
       ],
       "layout": "IPY_MODEL_b5b1b106e0304c11848be52cc9789cca"
      }
     },
     "fbcd8740740f462a9d7551546bac40eb": {
      "model_module": "@jupyter-widgets/controls",
      "model_module_version": "1.5.0",
      "model_name": "DescriptionStyleModel",
      "state": {
       "_model_module": "@jupyter-widgets/controls",
       "_model_module_version": "1.5.0",
       "_model_name": "DescriptionStyleModel",
       "_view_count": null,
       "_view_module": "@jupyter-widgets/base",
       "_view_module_version": "1.2.0",
       "_view_name": "StyleView",
       "description_width": ""
      }
     },
     "feed5182395d4b368421544e377037a7": {
      "model_module": "@jupyter-widgets/controls",
      "model_module_version": "1.5.0",
      "model_name": "DescriptionStyleModel",
      "state": {
       "_model_module": "@jupyter-widgets/controls",
       "_model_module_version": "1.5.0",
       "_model_name": "DescriptionStyleModel",
       "_view_count": null,
       "_view_module": "@jupyter-widgets/base",
       "_view_module_version": "1.2.0",
       "_view_name": "StyleView",
       "description_width": ""
      }
     }
    },
    "version_major": 2,
    "version_minor": 0
   }
  }
 },
 "nbformat": 4,
 "nbformat_minor": 5
}
