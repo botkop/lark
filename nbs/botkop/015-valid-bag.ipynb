{
 "cells": [
  {
   "cell_type": "code",
   "execution_count": 1,
   "id": "5faafb5a-e533-4e6d-96fe-2918a1310213",
   "metadata": {},
   "outputs": [],
   "source": [
    "%reload_ext autoreload\n",
    "%autoreload 2\n",
    "%matplotlib inline"
   ]
  },
  {
   "cell_type": "code",
   "execution_count": 55,
   "id": "0c7299e8-c05a-41ce-949c-7839df37d1f4",
   "metadata": {},
   "outputs": [
    {
     "name": "stdout",
     "output_type": "stream",
     "text": [
      "1.8.1\n",
      "0.8.0a0+e4e171a\n"
     ]
    }
   ],
   "source": [
    "import torch\n",
    "import torchaudio as ta\n",
    "import torchaudio.functional as taf\n",
    "import torchaudio.transforms as tat\n",
    "from torchvision import transforms\n",
    "\n",
    "print(torch.__version__)        \n",
    "print(ta.__version__)\n",
    "\n",
    "import matplotlib\n",
    "import matplotlib.pyplot as plt\n",
    "from IPython.display import Audio, display\n",
    "\n",
    "import pandas as pd\n",
    "import os\n",
    "import pprint\n",
    "\n",
    "from typing import *\n",
    "import itertools\n",
    "from collections import Counter\n",
    "\n",
    "import numpy as np\n",
    "from datetime import datetime\n",
    "from lark.config import Config\n",
    "from lark.learner import Learner\n",
    "from lark.ops import Sig2Spec, MixedSig2Spec, f1\n",
    "from lark.data import *\n",
    "\n",
    "\n",
    "from tqdm.notebook import tqdm"
   ]
  },
  {
   "cell_type": "code",
   "execution_count": 56,
   "id": "fb11d388-7478-4192-b20d-041016784a6a",
   "metadata": {},
   "outputs": [
    {
     "data": {
      "text/plain": [
       "0"
      ]
     },
     "execution_count": 56,
     "metadata": {},
     "output_type": "execute_result"
    }
   ],
   "source": [
    "torch.cuda.set_device(0)\n",
    "torch.cuda.current_device()"
   ]
  },
  {
   "cell_type": "code",
   "execution_count": 57,
   "id": "5c2cc27e-51a0-4252-9c3a-d62ff56a8a46",
   "metadata": {},
   "outputs": [],
   "source": [
    "# sites = ['SSW']\n",
    "sites = None\n",
    "cfg = Config(sites)"
   ]
  },
  {
   "cell_type": "code",
   "execution_count": 58,
   "id": "3fc0a62b-7e82-4323-8ee3-7fb31c65c30e",
   "metadata": {},
   "outputs": [],
   "source": [
    "df_ss = pd.read_csv(f\"{cfg.data_dir}/train_soundscape_labels.csv\")\n",
    "df_ss['audio_id'] = df_ss['audio_id'].astype(str)\n",
    "df_ss = df_ss.sort_values(by=['audio_id', 'site', 'seconds'])\n",
    "if cfg.sites is not None:\n",
    "    df_ss = df_ss[df_ss['site'].isin(cfg.sites)].reset_index(drop=True)\n",
    "indices = {b: cfg.labels.index(b) for b in cfg.labels}\n",
    "\n",
    "def row_label(row):\n",
    "    label = torch.zeros(len(cfg.labels))\n",
    "    if row.birds != 'nocall':\n",
    "        birds = row.birds.split(' ')\n",
    "        ixs = [indices[b] for b in birds]\n",
    "        label[ixs] = 1.0\n",
    "    return label\n",
    "\n",
    "df_ss['label'] = df_ss.apply(lambda row: row_label(row), axis=1)\n",
    "ys = torch.Tensor(np.stack(df_ss.label))"
   ]
  },
  {
   "cell_type": "code",
   "execution_count": 66,
   "id": "57df1157-b92b-4fc7-8ec1-ea70f8f6dca3",
   "metadata": {},
   "outputs": [
    {
     "data": {
      "text/html": [
       "<div>\n",
       "<style scoped>\n",
       "    .dataframe tbody tr th:only-of-type {\n",
       "        vertical-align: middle;\n",
       "    }\n",
       "\n",
       "    .dataframe tbody tr th {\n",
       "        vertical-align: top;\n",
       "    }\n",
       "\n",
       "    .dataframe thead th {\n",
       "        text-align: right;\n",
       "    }\n",
       "</style>\n",
       "<table border=\"1\" class=\"dataframe\">\n",
       "  <thead>\n",
       "    <tr style=\"text-align: right;\">\n",
       "      <th></th>\n",
       "      <th>row_id</th>\n",
       "      <th>site</th>\n",
       "      <th>audio_id</th>\n",
       "      <th>seconds</th>\n",
       "      <th>birds</th>\n",
       "      <th>label</th>\n",
       "    </tr>\n",
       "  </thead>\n",
       "  <tbody>\n",
       "    <tr>\n",
       "      <th>1440</th>\n",
       "      <td>10534_SSW_5</td>\n",
       "      <td>SSW</td>\n",
       "      <td>10534</td>\n",
       "      <td>5</td>\n",
       "      <td>nocall</td>\n",
       "      <td>[tensor(0.), tensor(0.), tensor(0.), tensor(0....</td>\n",
       "    </tr>\n",
       "    <tr>\n",
       "      <th>1441</th>\n",
       "      <td>10534_SSW_10</td>\n",
       "      <td>SSW</td>\n",
       "      <td>10534</td>\n",
       "      <td>10</td>\n",
       "      <td>swaspa</td>\n",
       "      <td>[tensor(0.), tensor(0.), tensor(0.), tensor(0....</td>\n",
       "    </tr>\n",
       "    <tr>\n",
       "      <th>1442</th>\n",
       "      <td>10534_SSW_15</td>\n",
       "      <td>SSW</td>\n",
       "      <td>10534</td>\n",
       "      <td>15</td>\n",
       "      <td>nocall</td>\n",
       "      <td>[tensor(0.), tensor(0.), tensor(0.), tensor(0....</td>\n",
       "    </tr>\n",
       "    <tr>\n",
       "      <th>1443</th>\n",
       "      <td>10534_SSW_20</td>\n",
       "      <td>SSW</td>\n",
       "      <td>10534</td>\n",
       "      <td>20</td>\n",
       "      <td>nocall</td>\n",
       "      <td>[tensor(0.), tensor(0.), tensor(0.), tensor(0....</td>\n",
       "    </tr>\n",
       "    <tr>\n",
       "      <th>1444</th>\n",
       "      <td>10534_SSW_25</td>\n",
       "      <td>SSW</td>\n",
       "      <td>10534</td>\n",
       "      <td>25</td>\n",
       "      <td>swaspa</td>\n",
       "      <td>[tensor(0.), tensor(0.), tensor(0.), tensor(0....</td>\n",
       "    </tr>\n",
       "    <tr>\n",
       "      <th>...</th>\n",
       "      <td>...</td>\n",
       "      <td>...</td>\n",
       "      <td>...</td>\n",
       "      <td>...</td>\n",
       "      <td>...</td>\n",
       "      <td>...</td>\n",
       "    </tr>\n",
       "    <tr>\n",
       "      <th>235</th>\n",
       "      <td>7954_COR_580</td>\n",
       "      <td>COR</td>\n",
       "      <td>7954</td>\n",
       "      <td>580</td>\n",
       "      <td>nocall</td>\n",
       "      <td>[tensor(0.), tensor(0.), tensor(0.), tensor(0....</td>\n",
       "    </tr>\n",
       "    <tr>\n",
       "      <th>236</th>\n",
       "      <td>7954_COR_585</td>\n",
       "      <td>COR</td>\n",
       "      <td>7954</td>\n",
       "      <td>585</td>\n",
       "      <td>nocall</td>\n",
       "      <td>[tensor(0.), tensor(0.), tensor(0.), tensor(0....</td>\n",
       "    </tr>\n",
       "    <tr>\n",
       "      <th>237</th>\n",
       "      <td>7954_COR_590</td>\n",
       "      <td>COR</td>\n",
       "      <td>7954</td>\n",
       "      <td>590</td>\n",
       "      <td>nocall</td>\n",
       "      <td>[tensor(0.), tensor(0.), tensor(0.), tensor(0....</td>\n",
       "    </tr>\n",
       "    <tr>\n",
       "      <th>238</th>\n",
       "      <td>7954_COR_595</td>\n",
       "      <td>COR</td>\n",
       "      <td>7954</td>\n",
       "      <td>595</td>\n",
       "      <td>nocall</td>\n",
       "      <td>[tensor(0.), tensor(0.), tensor(0.), tensor(0....</td>\n",
       "    </tr>\n",
       "    <tr>\n",
       "      <th>239</th>\n",
       "      <td>7954_COR_600</td>\n",
       "      <td>COR</td>\n",
       "      <td>7954</td>\n",
       "      <td>600</td>\n",
       "      <td>nocall</td>\n",
       "      <td>[tensor(0.), tensor(0.), tensor(0.), tensor(0....</td>\n",
       "    </tr>\n",
       "  </tbody>\n",
       "</table>\n",
       "<p>2400 rows × 6 columns</p>\n",
       "</div>"
      ],
      "text/plain": [
       "            row_id site audio_id  seconds   birds  \\\n",
       "1440   10534_SSW_5  SSW    10534        5  nocall   \n",
       "1441  10534_SSW_10  SSW    10534       10  swaspa   \n",
       "1442  10534_SSW_15  SSW    10534       15  nocall   \n",
       "1443  10534_SSW_20  SSW    10534       20  nocall   \n",
       "1444  10534_SSW_25  SSW    10534       25  swaspa   \n",
       "...            ...  ...      ...      ...     ...   \n",
       "235   7954_COR_580  COR     7954      580  nocall   \n",
       "236   7954_COR_585  COR     7954      585  nocall   \n",
       "237   7954_COR_590  COR     7954      590  nocall   \n",
       "238   7954_COR_595  COR     7954      595  nocall   \n",
       "239   7954_COR_600  COR     7954      600  nocall   \n",
       "\n",
       "                                                  label  \n",
       "1440  [tensor(0.), tensor(0.), tensor(0.), tensor(0....  \n",
       "1441  [tensor(0.), tensor(0.), tensor(0.), tensor(0....  \n",
       "1442  [tensor(0.), tensor(0.), tensor(0.), tensor(0....  \n",
       "1443  [tensor(0.), tensor(0.), tensor(0.), tensor(0....  \n",
       "1444  [tensor(0.), tensor(0.), tensor(0.), tensor(0....  \n",
       "...                                                 ...  \n",
       "235   [tensor(0.), tensor(0.), tensor(0.), tensor(0....  \n",
       "236   [tensor(0.), tensor(0.), tensor(0.), tensor(0....  \n",
       "237   [tensor(0.), tensor(0.), tensor(0.), tensor(0....  \n",
       "238   [tensor(0.), tensor(0.), tensor(0.), tensor(0....  \n",
       "239   [tensor(0.), tensor(0.), tensor(0.), tensor(0....  \n",
       "\n",
       "[2400 rows x 6 columns]"
      ]
     },
     "execution_count": 66,
     "metadata": {},
     "output_type": "execute_result"
    }
   ],
   "source": [
    "df_ss"
   ]
  },
  {
   "cell_type": "code",
   "execution_count": 59,
   "id": "85733f7a-bd3b-48be-9330-fcd6b0053847",
   "metadata": {},
   "outputs": [],
   "source": [
    "# model_dict = [\n",
    "#     {\n",
    "#         'repo': 'pytorch/vision:v0.9.0',\n",
    "#         'model': 'resnet18',\n",
    "#         'checkpoint': 'resnet18-half-frozen-bag-0-20210510-042633'\n",
    "#     },\n",
    "#     {\n",
    "#         'repo': 'pytorch/vision:v0.9.0',\n",
    "#         'model': 'resnet18',\n",
    "#         'checkpoint': 'resnet18-half-frozen-bag-1-20210510-043006'\n",
    "#     },\n",
    "# ]"
   ]
  },
  {
   "cell_type": "code",
   "execution_count": 60,
   "id": "16bf8c86-9821-4bec-a799-7eb05122c2ba",
   "metadata": {},
   "outputs": [],
   "source": [
    "model_dict = [\n",
    "    {\n",
    "        'repo': 'zhanghang1989/ResNeSt',\n",
    "        'model': 'resnest50',\n",
    "        'checkpoint': 'resnest50-2ndary-labels-full-20210506-221103-latest'\n",
    "    },\n",
    "    {\n",
    "        'repo': 'zhanghang1989/ResNeSt',\n",
    "        'model': 'resnest50',\n",
    "        'checkpoint': 'resnest50-full-training-20210505-132542-latest'\n",
    "    },\n",
    "    \n",
    "#     {\n",
    "#         'repo': 'zhanghang1989/ResNeSt',\n",
    "#         'model': 'resnest50',\n",
    "#         'checkpoint': 'resnest50-2ndary-labels-20210506-160059-latest'\n",
    "#     },\n",
    "#     {\n",
    "#         'repo': 'pytorch/vision:v0.9.0',\n",
    "#         'model': 'resnet18',\n",
    "#         'checkpoint': 'resnet18-half-frozen-20210507-125647-latest'\n",
    "#     },\n",
    "]"
   ]
  },
  {
   "cell_type": "code",
   "execution_count": 61,
   "id": "a1337d4e-514f-4a43-8cb8-8509a59ffe51",
   "metadata": {},
   "outputs": [],
   "source": [
    "if torch.cuda.is_available():\n",
    "    device = 'cuda'\n",
    "else:\n",
    "    device = 'cpu'"
   ]
  },
  {
   "cell_type": "code",
   "execution_count": 62,
   "id": "7c3b764f-4213-4dad-b68e-972ab8110945",
   "metadata": {},
   "outputs": [],
   "source": [
    "def init_model(repo, model, checkpoint):\n",
    "    main_model = torch.hub.load(repo, model, pretrained=False)\n",
    "    prep = MixedSig2Spec(cfg)\n",
    "    n_features = main_model.fc.in_features\n",
    "    main_model.fc = torch.nn.Linear(in_features=n_features, out_features=cfg.n_labels, bias=True)\n",
    "    model = torch.nn.Sequential(prep, main_model)\n",
    "    cp = torch.load(f\"checkpoints/{checkpoint}.pt\", map_location=torch.device(device))\n",
    "    model.load_state_dict(cp['model_state_dict'])\n",
    "    model = model.to(device).eval()\n",
    "    return model"
   ]
  },
  {
   "cell_type": "code",
   "execution_count": 63,
   "id": "e7b61175-f83e-4762-ab52-da241335e33a",
   "metadata": {},
   "outputs": [
    {
     "name": "stdout",
     "output_type": "stream",
     "text": [
      "20 FILES IN TEST SET.\n"
     ]
    }
   ],
   "source": [
    "def list_files(path):\n",
    "    try:\n",
    "        return sorted([os.path.join(path, f) for f in os.listdir(path) if f.rsplit('.', 1)[-1] in ['ogg']])\n",
    "    except:\n",
    "        return []\n",
    "test_audio = list_files('data/birdclef-2021/test_soundscapes')\n",
    "if len(test_audio) == 0:\n",
    "    test_audio = list_files('data/birdclef-2021/train_soundscapes')\n",
    "\n",
    "n_files = len(test_audio)\n",
    "print('{} FILES IN TEST SET.'.format(len(test_audio)))"
   ]
  },
  {
   "cell_type": "code",
   "execution_count": 64,
   "id": "f1ddb546-cf31-4fe9-a1c5-02e931609ab8",
   "metadata": {
    "tags": []
   },
   "outputs": [
    {
     "name": "stderr",
     "output_type": "stream",
     "text": [
      "Using cache found in /home/koen/.cache/torch/hub/zhanghang1989_ResNeSt_master\n"
     ]
    },
    {
     "data": {
      "application/vnd.jupyter.widget-view+json": {
       "model_id": "77ccfbaab69f4b06b4a54fa3236b9815",
       "version_major": 2,
       "version_minor": 0
      },
      "text/plain": [
       "  0%|          | 0/20 [00:00<?, ?it/s]"
      ]
     },
     "metadata": {},
     "output_type": "display_data"
    },
    {
     "name": "stderr",
     "output_type": "stream",
     "text": [
      "Using cache found in /home/koen/.cache/torch/hub/zhanghang1989_ResNeSt_master\n"
     ]
    },
    {
     "data": {
      "application/vnd.jupyter.widget-view+json": {
       "model_id": "89d53c7aa1d342ebb5c86fc67ebac0c3",
       "version_major": 2,
       "version_minor": 0
      },
      "text/plain": [
       "  0%|          | 0/20 [00:00<?, ?it/s]"
      ]
     },
     "metadata": {},
     "output_type": "display_data"
    }
   ],
   "source": [
    "ps = torch.zeros((n_files, 120, cfg.n_labels))\n",
    "for m in model_dict:\n",
    "    model = init_model(m['repo'], m['model'], m['checkpoint'])\n",
    "    with torch.no_grad():\n",
    "        for i, path in enumerate(tqdm(test_audio)):\n",
    "            sig, sr = ta.load(filepath=path)\n",
    "            sig = sig.to(device).reshape(-1, 1, cfg.sr * cfg.valid_duration)\n",
    "            probs = model(sig).sigmoid().cpu()\n",
    "            del sig\n",
    "            ps[i] += probs\n",
    "ps = ps.reshape(-1, cfg.n_labels)\n",
    "ps /= len(model_dict)"
   ]
  },
  {
   "cell_type": "code",
   "execution_count": 65,
   "id": "f49edfeb-aae4-4895-a5f4-775b3b53e74e",
   "metadata": {},
   "outputs": [
    {
     "data": {
      "text/html": [
       "<div>\n",
       "<style scoped>\n",
       "    .dataframe tbody tr th:only-of-type {\n",
       "        vertical-align: middle;\n",
       "    }\n",
       "\n",
       "    .dataframe tbody tr th {\n",
       "        vertical-align: top;\n",
       "    }\n",
       "\n",
       "    .dataframe thead th {\n",
       "        text-align: right;\n",
       "    }\n",
       "</style>\n",
       "<table border=\"1\" class=\"dataframe\">\n",
       "  <thead>\n",
       "    <tr style=\"text-align: right;\">\n",
       "      <th></th>\n",
       "      <th>thresh</th>\n",
       "      <th>tp</th>\n",
       "      <th>tn</th>\n",
       "      <th>fp</th>\n",
       "      <th>fn</th>\n",
       "      <th>f1</th>\n",
       "    </tr>\n",
       "  </thead>\n",
       "  <tbody>\n",
       "    <tr>\n",
       "      <th>0</th>\n",
       "      <td>0.0</td>\n",
       "      <td>1183</td>\n",
       "      <td>0</td>\n",
       "      <td>951617</td>\n",
       "      <td>0</td>\n",
       "      <td>0.002480</td>\n",
       "    </tr>\n",
       "    <tr>\n",
       "      <th>1</th>\n",
       "      <td>0.1</td>\n",
       "      <td>199</td>\n",
       "      <td>949080</td>\n",
       "      <td>2537</td>\n",
       "      <td>984</td>\n",
       "      <td>0.101557</td>\n",
       "    </tr>\n",
       "    <tr>\n",
       "      <th>2</th>\n",
       "      <td>0.2</td>\n",
       "      <td>139</td>\n",
       "      <td>950704</td>\n",
       "      <td>913</td>\n",
       "      <td>1044</td>\n",
       "      <td>0.124385</td>\n",
       "    </tr>\n",
       "    <tr>\n",
       "      <th>3</th>\n",
       "      <td>0.3</td>\n",
       "      <td>108</td>\n",
       "      <td>951243</td>\n",
       "      <td>374</td>\n",
       "      <td>1075</td>\n",
       "      <td>0.129730</td>\n",
       "    </tr>\n",
       "    <tr>\n",
       "      <th>4</th>\n",
       "      <td>0.4</td>\n",
       "      <td>80</td>\n",
       "      <td>951525</td>\n",
       "      <td>92</td>\n",
       "      <td>1103</td>\n",
       "      <td>0.118081</td>\n",
       "    </tr>\n",
       "    <tr>\n",
       "      <th>5</th>\n",
       "      <td>0.5</td>\n",
       "      <td>44</td>\n",
       "      <td>951605</td>\n",
       "      <td>12</td>\n",
       "      <td>1139</td>\n",
       "      <td>0.071025</td>\n",
       "    </tr>\n",
       "    <tr>\n",
       "      <th>6</th>\n",
       "      <td>0.6</td>\n",
       "      <td>25</td>\n",
       "      <td>951614</td>\n",
       "      <td>3</td>\n",
       "      <td>1158</td>\n",
       "      <td>0.041288</td>\n",
       "    </tr>\n",
       "    <tr>\n",
       "      <th>7</th>\n",
       "      <td>0.7</td>\n",
       "      <td>20</td>\n",
       "      <td>951616</td>\n",
       "      <td>1</td>\n",
       "      <td>1163</td>\n",
       "      <td>0.033223</td>\n",
       "    </tr>\n",
       "    <tr>\n",
       "      <th>8</th>\n",
       "      <td>0.8</td>\n",
       "      <td>11</td>\n",
       "      <td>951616</td>\n",
       "      <td>1</td>\n",
       "      <td>1172</td>\n",
       "      <td>0.018410</td>\n",
       "    </tr>\n",
       "    <tr>\n",
       "      <th>9</th>\n",
       "      <td>0.9</td>\n",
       "      <td>7</td>\n",
       "      <td>951616</td>\n",
       "      <td>1</td>\n",
       "      <td>1176</td>\n",
       "      <td>0.011755</td>\n",
       "    </tr>\n",
       "    <tr>\n",
       "      <th>10</th>\n",
       "      <td>1.0</td>\n",
       "      <td>0</td>\n",
       "      <td>951617</td>\n",
       "      <td>0</td>\n",
       "      <td>1183</td>\n",
       "      <td>0.000000</td>\n",
       "    </tr>\n",
       "  </tbody>\n",
       "</table>\n",
       "</div>"
      ],
      "text/plain": [
       "    thresh    tp      tn      fp    fn        f1\n",
       "0      0.0  1183       0  951617     0  0.002480\n",
       "1      0.1   199  949080    2537   984  0.101557\n",
       "2      0.2   139  950704     913  1044  0.124385\n",
       "3      0.3   108  951243     374  1075  0.129730\n",
       "4      0.4    80  951525      92  1103  0.118081\n",
       "5      0.5    44  951605      12  1139  0.071025\n",
       "6      0.6    25  951614       3  1158  0.041288\n",
       "7      0.7    20  951616       1  1163  0.033223\n",
       "8      0.8    11  951616       1  1172  0.018410\n",
       "9      0.9     7  951616       1  1176  0.011755\n",
       "10     1.0     0  951617       0  1183  0.000000"
      ]
     },
     "execution_count": 65,
     "metadata": {},
     "output_type": "execute_result"
    }
   ],
   "source": [
    "ts = np.arange(0.0, 1.1, 0.1)\n",
    "rs = [f1(ys, ps, t) for t in ts]\n",
    "df = pd.DataFrame(rs)\n",
    "df"
   ]
  },
  {
   "cell_type": "code",
   "execution_count": null,
   "id": "549d7a0d-972d-41fb-9019-46e012d79e2c",
   "metadata": {},
   "outputs": [],
   "source": []
  }
 ],
 "metadata": {
  "kernelspec": {
   "display_name": "lark",
   "language": "python",
   "name": "lark"
  },
  "language_info": {
   "codemirror_mode": {
    "name": "ipython",
    "version": 3
   },
   "file_extension": ".py",
   "mimetype": "text/x-python",
   "name": "python",
   "nbconvert_exporter": "python",
   "pygments_lexer": "ipython3",
   "version": "3.8.8"
  }
 },
 "nbformat": 4,
 "nbformat_minor": 5
}
