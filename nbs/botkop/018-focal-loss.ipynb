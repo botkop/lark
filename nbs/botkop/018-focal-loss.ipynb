{
 "cells": [
  {
   "cell_type": "code",
   "execution_count": 1,
   "id": "5faafb5a-e533-4e6d-96fe-2918a1310213",
   "metadata": {},
   "outputs": [],
   "source": [
    "%reload_ext autoreload\n",
    "%autoreload 2\n",
    "%matplotlib inline"
   ]
  },
  {
   "cell_type": "code",
   "execution_count": 2,
   "id": "0c7299e8-c05a-41ce-949c-7839df37d1f4",
   "metadata": {},
   "outputs": [
    {
     "name": "stdout",
     "output_type": "stream",
     "text": [
      "1.8.1\n",
      "0.8.0a0+e4e171a\n"
     ]
    }
   ],
   "source": [
    "import torch\n",
    "import torchaudio as ta\n",
    "import torchaudio.functional as taf\n",
    "import torchaudio.transforms as tat\n",
    "from torchvision import transforms\n",
    "\n",
    "print(torch.__version__)        \n",
    "print(ta.__version__)\n",
    "\n",
    "import matplotlib\n",
    "import matplotlib.pyplot as plt\n",
    "from IPython.display import Audio, display\n",
    "\n",
    "import pandas as pd\n",
    "import os\n",
    "import pprint\n",
    "\n",
    "from typing import *\n",
    "import itertools\n",
    "from collections import Counter\n",
    "\n",
    "import numpy as np\n",
    "from datetime import datetime\n",
    "from lark.config import Config\n",
    "from lark.learner import Learner\n",
    "from lark.ops import Sig2Spec, MixedSig2Spec"
   ]
  },
  {
   "cell_type": "code",
   "execution_count": null,
   "id": "ba2130e1-76c6-40b5-a40b-6e9138206825",
   "metadata": {},
   "outputs": [],
   "source": []
  },
  {
   "cell_type": "code",
   "execution_count": 61,
   "id": "97782497-35e0-41dc-86d5-945617a83816",
   "metadata": {},
   "outputs": [],
   "source": [
    "# cfg = Config(\n",
    "#     sites=['SSW'], \n",
    "#     use_neptune=True, \n",
    "#     n_epochs=15, \n",
    "#     bs=32, \n",
    "#     lr=1e-3, \n",
    "#     model='tf_efficientnet_b0_ns',\n",
    "#     scheduler='torch.optim.lr_scheduler.CosineAnnealingLR',\n",
    "#     loss_fn='lark.ops.SigmoidFocalLossStar',\n",
    "#     use_pink_noise=0,\n",
    "#     use_recorded_noise=0.5,\n",
    "#     use_overlays=True,\n",
    "#     apply_filter=0,\n",
    "# )\n",
    "\n",
    "cfg = Config(\n",
    "        sites=None,\n",
    "        use_neptune=True,\n",
    "        n_epochs=12,\n",
    "        bs=32,\n",
    "        n_samples_per_label=1000,\n",
    "        lr=1e-3,\n",
    "        model='tf_efficientnet_b0_ns',\n",
    "        scheduler='torch.optim.lr_scheduler.CosineAnnealingLR',\n",
    "        # scheduler='torch.optim.lr_scheduler.OneCycleLR',\n",
    "        loss_fn='lark.ops.SigmoidFocalLossStar',\n",
    "        use_pink_noise=0.5,\n",
    "        use_recorded_noise=0.5,\n",
    "        use_overlays=True,\n",
    "        apply_filter=0.2,\n",
    "    )"
   ]
  },
  {
   "cell_type": "code",
   "execution_count": 72,
   "id": "7c27d24e-e082-403b-9724-51274332d24d",
   "metadata": {
    "collapsed": true,
    "jupyter": {
     "outputs_hidden": true
    },
    "tags": []
   },
   "outputs": [
    {
     "data": {
      "text/plain": [
       "{'sites': None,\n",
       " 'data_dir': 'data/birdclef-2021',\n",
       " 'checkpoint_dir': 'checkpoints',\n",
       " 'bs': 32,\n",
       " 'n_samples_per_label': 1000,\n",
       " 'n_workers': 12,\n",
       " 'train_duration': 5,\n",
       " 'valid_duration': 5,\n",
       " 'seed': 231,\n",
       " 'use_pink_noise': 0.5,\n",
       " 'use_recorded_noise': 0.5,\n",
       " 'use_secondary_labels': False,\n",
       " 'noise_nsr_dbs': [20, 10, 3],\n",
       " 'pink_noise_nsr_dbs': [10, 5, 3],\n",
       " 'noise_dir': 'data/noise/BirdVox-DCASE-20k/wav-32k',\n",
       " 'use_overlays': True,\n",
       " 'max_overlays': 5,\n",
       " 'overlay_weights': [0.71986223,\n",
       "  0.21010333,\n",
       "  0.06314581,\n",
       "  0.00574053,\n",
       "  0.00114811],\n",
       " 'overlay_snr_dbs': [20, 10, 3],\n",
       " 'apply_filter': 0.2,\n",
       " 'use_neptune': True,\n",
       " 'log_batch_metrics': False,\n",
       " 'sr': 32000,\n",
       " 'n_fft': 512,\n",
       " 'window_length': 512,\n",
       " 'n_mels': 64,\n",
       " 'hop_length': 312,\n",
       " 'f_min': 150,\n",
       " 'f_max': 15000,\n",
       " 'f1_threshold': 0.5,\n",
       " 'lr': 0.001,\n",
       " 'n_epochs': 12,\n",
       " 'model': 'tf_efficientnet_b0_ns',\n",
       " 'optimizer': 'torch.optim.Adam',\n",
       " 'loss_fn': 'lark.ops.SigmoidFocalLossStar',\n",
       " 'scheduler': 'torch.optim.lr_scheduler.CosineAnnealingLR',\n",
       " 'labels': ['acafly',\n",
       "  'acowoo',\n",
       "  'aldfly',\n",
       "  'ameavo',\n",
       "  'amecro',\n",
       "  'amegfi',\n",
       "  'amekes',\n",
       "  'amepip',\n",
       "  'amered',\n",
       "  'amerob',\n",
       "  'amewig',\n",
       "  'amtspa',\n",
       "  'andsol1',\n",
       "  'annhum',\n",
       "  'astfly',\n",
       "  'azaspi1',\n",
       "  'babwar',\n",
       "  'baleag',\n",
       "  'balori',\n",
       "  'banana',\n",
       "  'banswa',\n",
       "  'banwre1',\n",
       "  'barant1',\n",
       "  'barswa',\n",
       "  'batpig1',\n",
       "  'bawswa1',\n",
       "  'bawwar',\n",
       "  'baywre1',\n",
       "  'bbwduc',\n",
       "  'bcnher',\n",
       "  'belkin1',\n",
       "  'belvir',\n",
       "  'bewwre',\n",
       "  'bkbmag1',\n",
       "  'bkbplo',\n",
       "  'bkbwar',\n",
       "  'bkcchi',\n",
       "  'bkhgro',\n",
       "  'bkmtou1',\n",
       "  'bknsti',\n",
       "  'blbgra1',\n",
       "  'blbthr1',\n",
       "  'blcjay1',\n",
       "  'blctan1',\n",
       "  'blhpar1',\n",
       "  'blkpho',\n",
       "  'blsspa1',\n",
       "  'blugrb1',\n",
       "  'blujay',\n",
       "  'bncfly',\n",
       "  'bnhcow',\n",
       "  'bobfly1',\n",
       "  'bongul',\n",
       "  'botgra',\n",
       "  'brbmot1',\n",
       "  'brbsol1',\n",
       "  'brcvir1',\n",
       "  'brebla',\n",
       "  'brncre',\n",
       "  'brnjay',\n",
       "  'brnthr',\n",
       "  'brratt1',\n",
       "  'brwhaw',\n",
       "  'brwpar1',\n",
       "  'btbwar',\n",
       "  'btnwar',\n",
       "  'btywar',\n",
       "  'bucmot2',\n",
       "  'buggna',\n",
       "  'bugtan',\n",
       "  'buhvir',\n",
       "  'bulori',\n",
       "  'burwar1',\n",
       "  'bushti',\n",
       "  'butsal1',\n",
       "  'buwtea',\n",
       "  'cacgoo1',\n",
       "  'cacwre',\n",
       "  'calqua',\n",
       "  'caltow',\n",
       "  'cangoo',\n",
       "  'canwar',\n",
       "  'carchi',\n",
       "  'carwre',\n",
       "  'casfin',\n",
       "  'caskin',\n",
       "  'caster1',\n",
       "  'casvir',\n",
       "  'categr',\n",
       "  'ccbfin',\n",
       "  'cedwax',\n",
       "  'chbant1',\n",
       "  'chbchi',\n",
       "  'chbwre1',\n",
       "  'chcant2',\n",
       "  'chispa',\n",
       "  'chswar',\n",
       "  'cinfly2',\n",
       "  'clanut',\n",
       "  'clcrob',\n",
       "  'cliswa',\n",
       "  'cobtan1',\n",
       "  'cocwoo1',\n",
       "  'cogdov',\n",
       "  'colcha1',\n",
       "  'coltro1',\n",
       "  'comgol',\n",
       "  'comgra',\n",
       "  'comloo',\n",
       "  'commer',\n",
       "  'compau',\n",
       "  'compot1',\n",
       "  'comrav',\n",
       "  'comyel',\n",
       "  'coohaw',\n",
       "  'cotfly1',\n",
       "  'cowscj1',\n",
       "  'cregua1',\n",
       "  'creoro1',\n",
       "  'crfpar',\n",
       "  'cubthr',\n",
       "  'daejun',\n",
       "  'dowwoo',\n",
       "  'ducfly',\n",
       "  'dusfly',\n",
       "  'easblu',\n",
       "  'easkin',\n",
       "  'easmea',\n",
       "  'easpho',\n",
       "  'eastow',\n",
       "  'eawpew',\n",
       "  'eletro',\n",
       "  'eucdov',\n",
       "  'eursta',\n",
       "  'fepowl',\n",
       "  'fiespa',\n",
       "  'flrtan1',\n",
       "  'foxspa',\n",
       "  'gadwal',\n",
       "  'gamqua',\n",
       "  'gartro1',\n",
       "  'gbbgul',\n",
       "  'gbwwre1',\n",
       "  'gcrwar',\n",
       "  'gilwoo',\n",
       "  'gnttow',\n",
       "  'gnwtea',\n",
       "  'gocfly1',\n",
       "  'gockin',\n",
       "  'gocspa',\n",
       "  'goftyr1',\n",
       "  'gohque1',\n",
       "  'goowoo1',\n",
       "  'grasal1',\n",
       "  'grbani',\n",
       "  'grbher3',\n",
       "  'grcfly',\n",
       "  'greegr',\n",
       "  'grekis',\n",
       "  'grepew',\n",
       "  'grethr1',\n",
       "  'gretin1',\n",
       "  'greyel',\n",
       "  'grhcha1',\n",
       "  'grhowl',\n",
       "  'grnher',\n",
       "  'grnjay',\n",
       "  'grtgra',\n",
       "  'grycat',\n",
       "  'gryhaw2',\n",
       "  'gwfgoo',\n",
       "  'haiwoo',\n",
       "  'heptan',\n",
       "  'hergul',\n",
       "  'herthr',\n",
       "  'herwar',\n",
       "  'higmot1',\n",
       "  'hofwoo1',\n",
       "  'houfin',\n",
       "  'houspa',\n",
       "  'houwre',\n",
       "  'hutvir',\n",
       "  'incdov',\n",
       "  'indbun',\n",
       "  'kebtou1',\n",
       "  'killde',\n",
       "  'labwoo',\n",
       "  'larspa',\n",
       "  'laufal1',\n",
       "  'laugul',\n",
       "  'lazbun',\n",
       "  'leafly',\n",
       "  'leasan',\n",
       "  'lesgol',\n",
       "  'lesgre1',\n",
       "  'lesvio1',\n",
       "  'linspa',\n",
       "  'linwoo1',\n",
       "  'littin1',\n",
       "  'lobdow',\n",
       "  'lobgna5',\n",
       "  'logshr',\n",
       "  'lotduc',\n",
       "  'lotman1',\n",
       "  'lucwar',\n",
       "  'macwar',\n",
       "  'magwar',\n",
       "  'mallar3',\n",
       "  'marwre',\n",
       "  'mastro1',\n",
       "  'meapar',\n",
       "  'melbla1',\n",
       "  'monoro1',\n",
       "  'mouchi',\n",
       "  'moudov',\n",
       "  'mouela1',\n",
       "  'mouqua',\n",
       "  'mouwar',\n",
       "  'mutswa',\n",
       "  'naswar',\n",
       "  'norcar',\n",
       "  'norfli',\n",
       "  'normoc',\n",
       "  'norpar',\n",
       "  'norsho',\n",
       "  'norwat',\n",
       "  'nrwswa',\n",
       "  'nutwoo',\n",
       "  'oaktit',\n",
       "  'obnthr1',\n",
       "  'ocbfly1',\n",
       "  'oliwoo1',\n",
       "  'olsfly',\n",
       "  'orbeup1',\n",
       "  'orbspa1',\n",
       "  'orcpar',\n",
       "  'orcwar',\n",
       "  'orfpar',\n",
       "  'osprey',\n",
       "  'ovenbi1',\n",
       "  'pabspi1',\n",
       "  'paltan1',\n",
       "  'palwar',\n",
       "  'pasfly',\n",
       "  'pavpig2',\n",
       "  'phivir',\n",
       "  'pibgre',\n",
       "  'pilwoo',\n",
       "  'pinsis',\n",
       "  'pirfly1',\n",
       "  'plawre1',\n",
       "  'plaxen1',\n",
       "  'plsvir',\n",
       "  'plupig2',\n",
       "  'prowar',\n",
       "  'purfin',\n",
       "  'purgal2',\n",
       "  'putfru1',\n",
       "  'pygnut',\n",
       "  'rawwre1',\n",
       "  'rcatan1',\n",
       "  'rebnut',\n",
       "  'rebsap',\n",
       "  'rebwoo',\n",
       "  'redcro',\n",
       "  'reevir1',\n",
       "  'rehbar1',\n",
       "  'relpar',\n",
       "  'reshaw',\n",
       "  'rethaw',\n",
       "  'rewbla',\n",
       "  'ribgul',\n",
       "  'rinkin1',\n",
       "  'roahaw',\n",
       "  'robgro',\n",
       "  'rocpig',\n",
       "  'rotbec',\n",
       "  'royter1',\n",
       "  'rthhum',\n",
       "  'rtlhum',\n",
       "  'ruboro1',\n",
       "  'rubpep1',\n",
       "  'rubrob',\n",
       "  'rubwre1',\n",
       "  'ruckin',\n",
       "  'rucspa1',\n",
       "  'rucwar',\n",
       "  'rucwar1',\n",
       "  'rudpig',\n",
       "  'rudtur',\n",
       "  'rufhum',\n",
       "  'rugdov',\n",
       "  'rumfly1',\n",
       "  'runwre1',\n",
       "  'rutjac1',\n",
       "  'saffin',\n",
       "  'sancra',\n",
       "  'sander',\n",
       "  'savspa',\n",
       "  'saypho',\n",
       "  'scamac1',\n",
       "  'scatan',\n",
       "  'scbwre1',\n",
       "  'scptyr1',\n",
       "  'scrtan1',\n",
       "  'semplo',\n",
       "  'shicow',\n",
       "  'sibtan2',\n",
       "  'sinwre1',\n",
       "  'sltred',\n",
       "  'smbani',\n",
       "  'snogoo',\n",
       "  'sobtyr1',\n",
       "  'socfly1',\n",
       "  'solsan',\n",
       "  'sonspa',\n",
       "  'soulap1',\n",
       "  'sposan',\n",
       "  'spotow',\n",
       "  'spvear1',\n",
       "  'squcuc1',\n",
       "  'stbori',\n",
       "  'stejay',\n",
       "  'sthant1',\n",
       "  'sthwoo1',\n",
       "  'strcuc1',\n",
       "  'strfly1',\n",
       "  'strsal1',\n",
       "  'stvhum2',\n",
       "  'subfly',\n",
       "  'sumtan',\n",
       "  'swaspa',\n",
       "  'swathr',\n",
       "  'tenwar',\n",
       "  'thbeup1',\n",
       "  'thbkin',\n",
       "  'thswar1',\n",
       "  'towsol',\n",
       "  'treswa',\n",
       "  'trogna1',\n",
       "  'trokin',\n",
       "  'tromoc',\n",
       "  'tropar',\n",
       "  'tropew1',\n",
       "  'tuftit',\n",
       "  'tunswa',\n",
       "  'veery',\n",
       "  'verdin',\n",
       "  'vigswa',\n",
       "  'warvir',\n",
       "  'wbwwre1',\n",
       "  'webwoo1',\n",
       "  'wegspa1',\n",
       "  'wesant1',\n",
       "  'wesblu',\n",
       "  'weskin',\n",
       "  'wesmea',\n",
       "  'westan',\n",
       "  'wewpew',\n",
       "  'whbman1',\n",
       "  'whbnut',\n",
       "  'whcpar',\n",
       "  'whcsee1',\n",
       "  'whcspa',\n",
       "  'whevir',\n",
       "  'whfpar1',\n",
       "  'whimbr',\n",
       "  'whiwre1',\n",
       "  'whtdov',\n",
       "  'whtspa',\n",
       "  'whwbec1',\n",
       "  'whwdov',\n",
       "  'wilfly',\n",
       "  'willet1',\n",
       "  'wilsni1',\n",
       "  'wiltur',\n",
       "  'wlswar',\n",
       "  'wooduc',\n",
       "  'woothr',\n",
       "  'wrenti',\n",
       "  'y00475',\n",
       "  'yebcha',\n",
       "  'yebela1',\n",
       "  'yebfly',\n",
       "  'yebori1',\n",
       "  'yebsap',\n",
       "  'yebsee1',\n",
       "  'yefgra1',\n",
       "  'yegvir',\n",
       "  'yehbla',\n",
       "  'yehcar1',\n",
       "  'yelgro',\n",
       "  'yelwar',\n",
       "  'yeofly1',\n",
       "  'yerwar',\n",
       "  'yeteup1',\n",
       "  'yetvir'],\n",
       " 'scheduler_params': {'eta_min': 1e-05, 'T_max': 10},\n",
       " 'training_dataset_size': 397000}"
      ]
     },
     "execution_count": 72,
     "metadata": {},
     "output_type": "execute_result"
    }
   ],
   "source": [
    "cfg.as_dict()"
   ]
  },
  {
   "cell_type": "code",
   "execution_count": 62,
   "id": "af468ddd-148b-4264-94c9-6ad2dc43e0bb",
   "metadata": {},
   "outputs": [],
   "source": [
    "import gc\n",
    "gc.collect()\n",
    "torch.cuda.empty_cache()\n"
   ]
  },
  {
   "cell_type": "code",
   "execution_count": 63,
   "id": "f6b8fb05-6d7e-456e-ace5-3ea096b36f87",
   "metadata": {
    "tags": []
   },
   "outputs": [],
   "source": [
    "import timm\n",
    "from pprint import pprint\n",
    "model_names = timm.list_models(pretrained=True)\n",
    "# model_names"
   ]
  },
  {
   "cell_type": "code",
   "execution_count": 64,
   "id": "1a67d3c8-4b33-439f-86a2-1fba51dee2ad",
   "metadata": {
    "tags": []
   },
   "outputs": [],
   "source": [
    "prep = MixedSig2Spec(cfg)\n",
    "\n",
    "# prep = Sig2Spec(cfg)\n",
    "\n",
    "# main_model = torch.hub.load('zhanghang1989/ResNeSt', 'resnest50', pretrained=True)\n",
    "\n",
    "main_model = timm.create_model('tf_efficientnet_b0_ns', pretrained=True)\n",
    "\n",
    "\n",
    "posp = torch.nn.Sequential(\n",
    "#     torch.nn.Linear(in_features=2048, out_features=1024, bias=True),\n",
    "#     torch.nn.Dropout(p=0.2),\n",
    "#     torch.nn.ReLU(),\n",
    "#     torch.nn.Linear(in_features=1024, out_features=512, bias=True),\n",
    "#     torch.nn.Dropout(p=0.2),\n",
    "#     torch.nn.ReLU(),\n",
    "    torch.nn.Linear(in_features=1280, out_features=len(cfg.labels), bias=True),\n",
    ")\n",
    "# main_model.fc = posp\n",
    "main_model.classifier = posp"
   ]
  },
  {
   "cell_type": "code",
   "execution_count": 65,
   "id": "c3797345-8b9e-4e73-9298-a298a63ef932",
   "metadata": {},
   "outputs": [],
   "source": [
    "\n",
    "# for layer in [main_model.conv_stem, main_model.bn1, main_model.act1, main_model.blocks[0], main_model.blocks[1]]:\n",
    "#     for param in layer.parameters():\n",
    "#         param.requires_grad = False\n"
   ]
  },
  {
   "cell_type": "code",
   "execution_count": 66,
   "id": "52b379a0-a31b-4a79-967e-c8d649ed67f5",
   "metadata": {},
   "outputs": [],
   "source": [
    "model = torch.nn.Sequential(prep, main_model)\n",
    "model = model.cuda()"
   ]
  },
  {
   "cell_type": "code",
   "execution_count": 55,
   "id": "6c3abb2c-a75f-41f6-9d2f-74835caa52ed",
   "metadata": {
    "tags": []
   },
   "outputs": [],
   "source": [
    "# model[1]"
   ]
  },
  {
   "cell_type": "code",
   "execution_count": 67,
   "id": "c56a84f5-da54-4830-9140-c1fb6d5ec9b5",
   "metadata": {},
   "outputs": [
    {
     "name": "stdout",
     "output_type": "stream",
     "text": [
      "tf_efficientnet_b0_ns-full-20210525-181231\n"
     ]
    }
   ],
   "source": [
    "lrn = Learner(\"tf_efficientnet_b0_ns-full\", cfg, model)"
   ]
  },
  {
   "cell_type": "code",
   "execution_count": 68,
   "id": "3fdb171f-3bfd-4bf5-981d-9c01ec63f7c3",
   "metadata": {
    "collapsed": true,
    "jupyter": {
     "outputs_hidden": true
    },
    "tags": []
   },
   "outputs": [
    {
     "name": "stdout",
     "output_type": "stream",
     "text": [
      "https://ui.neptune.ai/botkop/lark/e/LAR-187\n"
     ]
    },
    {
     "data": {
      "application/vnd.jupyter.widget-view+json": {
       "model_id": "9aff8d5807ab4b5199dc385da509bb8f",
       "version_major": 2,
       "version_minor": 0
      },
      "text/plain": [
       "  0%|          | 0/12 [00:00<?, ?it/s]"
      ]
     },
     "metadata": {},
     "output_type": "display_data"
    },
    {
     "data": {
      "application/vnd.jupyter.widget-view+json": {
       "model_id": "",
       "version_major": 2,
       "version_minor": 0
      },
      "text/plain": [
       "  0%|          | 0/12407 [00:00<?, ?it/s]"
      ]
     },
     "metadata": {},
     "output_type": "display_data"
    },
    {
     "data": {
      "application/vnd.jupyter.widget-view+json": {
       "model_id": "",
       "version_major": 2,
       "version_minor": 0
      },
      "text/plain": [
       "  0%|          | 0/75 [00:00<?, ?it/s]"
      ]
     },
     "metadata": {},
     "output_type": "display_data"
    },
    {
     "name": "stdout",
     "output_type": "stream",
     "text": [
      "2021-05-25 18:44:13 epoch:   1 train loss: 0.002683 train f1: 0.144946 valid loss: 0.001151 valid f1: 0.024370\n"
     ]
    },
    {
     "data": {
      "application/vnd.jupyter.widget-view+json": {
       "model_id": "",
       "version_major": 2,
       "version_minor": 0
      },
      "text/plain": [
       "  0%|          | 0/12407 [00:00<?, ?it/s]"
      ]
     },
     "metadata": {},
     "output_type": "display_data"
    },
    {
     "name": "stderr",
     "output_type": "stream",
     "text": [
      "Unexpected error in ping thread.\n",
      "Traceback (most recent call last):\n",
      "  File \"/home/koen/apps/anaconda3/envs/lark/lib/python3.8/site-packages/urllib3/connectionpool.py\", line 699, in urlopen\n",
      "    httplib_response = self._make_request(\n",
      "  File \"/home/koen/apps/anaconda3/envs/lark/lib/python3.8/site-packages/urllib3/connectionpool.py\", line 445, in _make_request\n",
      "    six.raise_from(e, None)\n",
      "  File \"<string>\", line 3, in raise_from\n",
      "  File \"/home/koen/apps/anaconda3/envs/lark/lib/python3.8/site-packages/urllib3/connectionpool.py\", line 440, in _make_request\n",
      "    httplib_response = conn.getresponse()\n",
      "  File \"/home/koen/apps/anaconda3/envs/lark/lib/python3.8/http/client.py\", line 1347, in getresponse\n",
      "    response.begin()\n",
      "  File \"/home/koen/apps/anaconda3/envs/lark/lib/python3.8/http/client.py\", line 307, in begin\n",
      "    version, status, reason = self._read_status()\n",
      "  File \"/home/koen/apps/anaconda3/envs/lark/lib/python3.8/http/client.py\", line 268, in _read_status\n",
      "    line = str(self.fp.readline(_MAXLINE + 1), \"iso-8859-1\")\n",
      "  File \"/home/koen/apps/anaconda3/envs/lark/lib/python3.8/socket.py\", line 669, in readinto\n",
      "    return self._sock.recv_into(b)\n",
      "  File \"/home/koen/apps/anaconda3/envs/lark/lib/python3.8/ssl.py\", line 1241, in recv_into\n",
      "    return self.read(nbytes, buffer)\n",
      "  File \"/home/koen/apps/anaconda3/envs/lark/lib/python3.8/ssl.py\", line 1099, in read\n",
      "    return self._sslobj.read(len, buffer)\n",
      "ConnectionResetError: [Errno 104] Connection reset by peer\n",
      "\n",
      "During handling of the above exception, another exception occurred:\n",
      "\n",
      "Traceback (most recent call last):\n",
      "  File \"/home/koen/apps/anaconda3/envs/lark/lib/python3.8/site-packages/requests/adapters.py\", line 439, in send\n",
      "    resp = conn.urlopen(\n",
      "  File \"/home/koen/apps/anaconda3/envs/lark/lib/python3.8/site-packages/urllib3/connectionpool.py\", line 755, in urlopen\n",
      "    retries = retries.increment(\n",
      "  File \"/home/koen/apps/anaconda3/envs/lark/lib/python3.8/site-packages/urllib3/util/retry.py\", line 532, in increment\n",
      "    raise six.reraise(type(error), error, _stacktrace)\n",
      "  File \"/home/koen/apps/anaconda3/envs/lark/lib/python3.8/site-packages/urllib3/packages/six.py\", line 734, in reraise\n",
      "    raise value.with_traceback(tb)\n",
      "  File \"/home/koen/apps/anaconda3/envs/lark/lib/python3.8/site-packages/urllib3/connectionpool.py\", line 699, in urlopen\n",
      "    httplib_response = self._make_request(\n",
      "  File \"/home/koen/apps/anaconda3/envs/lark/lib/python3.8/site-packages/urllib3/connectionpool.py\", line 445, in _make_request\n",
      "    six.raise_from(e, None)\n",
      "  File \"<string>\", line 3, in raise_from\n",
      "  File \"/home/koen/apps/anaconda3/envs/lark/lib/python3.8/site-packages/urllib3/connectionpool.py\", line 440, in _make_request\n",
      "    httplib_response = conn.getresponse()\n",
      "  File \"/home/koen/apps/anaconda3/envs/lark/lib/python3.8/http/client.py\", line 1347, in getresponse\n",
      "    response.begin()\n",
      "  File \"/home/koen/apps/anaconda3/envs/lark/lib/python3.8/http/client.py\", line 307, in begin\n",
      "    version, status, reason = self._read_status()\n",
      "  File \"/home/koen/apps/anaconda3/envs/lark/lib/python3.8/http/client.py\", line 268, in _read_status\n",
      "    line = str(self.fp.readline(_MAXLINE + 1), \"iso-8859-1\")\n",
      "  File \"/home/koen/apps/anaconda3/envs/lark/lib/python3.8/socket.py\", line 669, in readinto\n",
      "    return self._sock.recv_into(b)\n",
      "  File \"/home/koen/apps/anaconda3/envs/lark/lib/python3.8/ssl.py\", line 1241, in recv_into\n",
      "    return self.read(nbytes, buffer)\n",
      "  File \"/home/koen/apps/anaconda3/envs/lark/lib/python3.8/ssl.py\", line 1099, in read\n",
      "    return self._sslobj.read(len, buffer)\n",
      "urllib3.exceptions.ProtocolError: ('Connection aborted.', ConnectionResetError(104, 'Connection reset by peer'))\n",
      "\n",
      "During handling of the above exception, another exception occurred:\n",
      "\n",
      "Traceback (most recent call last):\n",
      "  File \"/home/koen/apps/anaconda3/envs/lark/lib/python3.8/site-packages/bravado/http_future.py\", line 124, in wrapper\n",
      "    return func(self, *args, **kwargs)\n",
      "  File \"/home/koen/apps/anaconda3/envs/lark/lib/python3.8/site-packages/bravado/http_future.py\", line 291, in _get_incoming_response\n",
      "    inner_response = self.future.result(timeout=timeout)\n",
      "  File \"/home/koen/apps/anaconda3/envs/lark/lib/python3.8/site-packages/bravado/requests_client.py\", line 266, in result\n",
      "    response = self.session.send(\n",
      "  File \"/home/koen/apps/anaconda3/envs/lark/lib/python3.8/site-packages/requests/sessions.py\", line 655, in send\n",
      "    r = adapter.send(request, **kwargs)\n",
      "  File \"/home/koen/apps/anaconda3/envs/lark/lib/python3.8/site-packages/requests/adapters.py\", line 498, in send\n",
      "    raise ConnectionError(err, request=request)\n",
      "requests.exceptions.ConnectionError: ('Connection aborted.', ConnectionResetError(104, 'Connection reset by peer'))\n",
      "\n",
      "During handling of the above exception, another exception occurred:\n",
      "\n",
      "Traceback (most recent call last):\n",
      "  File \"/home/koen/apps/anaconda3/envs/lark/lib/python3.8/site-packages/neptune/internal/threads/ping_thread.py\", line 37, in run\n",
      "    self.__backend.ping_experiment(self.__experiment)\n",
      "  File \"/home/koen/apps/anaconda3/envs/lark/lib/python3.8/site-packages/neptune/internal/api_clients/hosted_api_clients/hosted_alpha_leaderboard_api_client.py\", line 382, in ping_experiment\n",
      "    self.leaderboard_swagger_client.api.ping(experimentId=str(experiment.internal_id)).response().result\n",
      "  File \"/home/koen/apps/anaconda3/envs/lark/lib/python3.8/site-packages/bravado/http_future.py\", line 239, in response\n",
      "    six.reraise(*sys.exc_info())\n",
      "  File \"/home/koen/apps/anaconda3/envs/lark/lib/python3.8/site-packages/six.py\", line 703, in reraise\n",
      "    raise value\n",
      "  File \"/home/koen/apps/anaconda3/envs/lark/lib/python3.8/site-packages/bravado/http_future.py\", line 197, in response\n",
      "    incoming_response = self._get_incoming_response(timeout)\n",
      "  File \"/home/koen/apps/anaconda3/envs/lark/lib/python3.8/site-packages/bravado/http_future.py\", line 126, in wrapper\n",
      "    self.future._raise_connection_error(exception)\n",
      "  File \"/home/koen/apps/anaconda3/envs/lark/lib/python3.8/site-packages/bravado/http_future.py\", line 91, in _raise_connection_error\n",
      "    self._raise_error(BravadoConnectionError, 'ConnectionError', exception)\n",
      "  File \"/home/koen/apps/anaconda3/envs/lark/lib/python3.8/site-packages/bravado/http_future.py\", line 79, in _raise_error\n",
      "    six.reraise(\n",
      "  File \"/home/koen/apps/anaconda3/envs/lark/lib/python3.8/site-packages/six.py\", line 702, in reraise\n",
      "    raise value.with_traceback(tb)\n",
      "  File \"/home/koen/apps/anaconda3/envs/lark/lib/python3.8/site-packages/bravado/http_future.py\", line 124, in wrapper\n",
      "    return func(self, *args, **kwargs)\n",
      "  File \"/home/koen/apps/anaconda3/envs/lark/lib/python3.8/site-packages/bravado/http_future.py\", line 291, in _get_incoming_response\n",
      "    inner_response = self.future.result(timeout=timeout)\n",
      "  File \"/home/koen/apps/anaconda3/envs/lark/lib/python3.8/site-packages/bravado/requests_client.py\", line 266, in result\n",
      "    response = self.session.send(\n",
      "  File \"/home/koen/apps/anaconda3/envs/lark/lib/python3.8/site-packages/requests/sessions.py\", line 655, in send\n",
      "    r = adapter.send(request, **kwargs)\n",
      "  File \"/home/koen/apps/anaconda3/envs/lark/lib/python3.8/site-packages/requests/adapters.py\", line 498, in send\n",
      "    raise ConnectionError(err, request=request)\n",
      "bravado.http_future.RequestsFutureAdapterConnectionError\n"
     ]
    },
    {
     "data": {
      "application/vnd.jupyter.widget-view+json": {
       "model_id": "",
       "version_major": 2,
       "version_minor": 0
      },
      "text/plain": [
       "  0%|          | 0/75 [00:00<?, ?it/s]"
      ]
     },
     "metadata": {},
     "output_type": "display_data"
    },
    {
     "name": "stdout",
     "output_type": "stream",
     "text": [
      "2021-05-25 19:15:51 epoch:   2 train loss: 0.002061 train f1: 0.396212 valid loss: 0.001214 valid f1: 0.070478\n"
     ]
    },
    {
     "data": {
      "application/vnd.jupyter.widget-view+json": {
       "model_id": "",
       "version_major": 2,
       "version_minor": 0
      },
      "text/plain": [
       "  0%|          | 0/12407 [00:00<?, ?it/s]"
      ]
     },
     "metadata": {},
     "output_type": "display_data"
    },
    {
     "data": {
      "application/vnd.jupyter.widget-view+json": {
       "model_id": "",
       "version_major": 2,
       "version_minor": 0
      },
      "text/plain": [
       "  0%|          | 0/75 [00:00<?, ?it/s]"
      ]
     },
     "metadata": {},
     "output_type": "display_data"
    },
    {
     "name": "stdout",
     "output_type": "stream",
     "text": [
      "2021-05-25 19:47:32 epoch:   3 train loss: 0.001888 train f1: 0.488327 valid loss: 0.001146 valid f1: 0.058327\n"
     ]
    },
    {
     "data": {
      "application/vnd.jupyter.widget-view+json": {
       "model_id": "",
       "version_major": 2,
       "version_minor": 0
      },
      "text/plain": [
       "  0%|          | 0/12407 [00:00<?, ?it/s]"
      ]
     },
     "metadata": {},
     "output_type": "display_data"
    },
    {
     "data": {
      "application/vnd.jupyter.widget-view+json": {
       "model_id": "",
       "version_major": 2,
       "version_minor": 0
      },
      "text/plain": [
       "  0%|          | 0/75 [00:00<?, ?it/s]"
      ]
     },
     "metadata": {},
     "output_type": "display_data"
    },
    {
     "name": "stdout",
     "output_type": "stream",
     "text": [
      "2021-05-25 20:19:10 epoch:   4 train loss: 0.001782 train f1: 0.543611 valid loss: 0.001213 valid f1: 0.074074\n"
     ]
    },
    {
     "data": {
      "application/vnd.jupyter.widget-view+json": {
       "model_id": "",
       "version_major": 2,
       "version_minor": 0
      },
      "text/plain": [
       "  0%|          | 0/12407 [00:00<?, ?it/s]"
      ]
     },
     "metadata": {},
     "output_type": "display_data"
    },
    {
     "data": {
      "application/vnd.jupyter.widget-view+json": {
       "model_id": "",
       "version_major": 2,
       "version_minor": 0
      },
      "text/plain": [
       "  0%|          | 0/75 [00:00<?, ?it/s]"
      ]
     },
     "metadata": {},
     "output_type": "display_data"
    },
    {
     "name": "stdout",
     "output_type": "stream",
     "text": [
      "2021-05-25 20:50:49 epoch:   5 train loss: 0.001695 train f1: 0.584794 valid loss: 0.001224 valid f1: 0.079939\n"
     ]
    },
    {
     "data": {
      "application/vnd.jupyter.widget-view+json": {
       "model_id": "",
       "version_major": 2,
       "version_minor": 0
      },
      "text/plain": [
       "  0%|          | 0/12407 [00:00<?, ?it/s]"
      ]
     },
     "metadata": {},
     "output_type": "display_data"
    },
    {
     "data": {
      "application/vnd.jupyter.widget-view+json": {
       "model_id": "",
       "version_major": 2,
       "version_minor": 0
      },
      "text/plain": [
       "  0%|          | 0/75 [00:00<?, ?it/s]"
      ]
     },
     "metadata": {},
     "output_type": "display_data"
    },
    {
     "name": "stdout",
     "output_type": "stream",
     "text": [
      "2021-05-25 21:22:27 epoch:   6 train loss: 0.001617 train f1: 0.618128 valid loss: 0.001151 valid f1: 0.071875\n"
     ]
    },
    {
     "data": {
      "application/vnd.jupyter.widget-view+json": {
       "model_id": "",
       "version_major": 2,
       "version_minor": 0
      },
      "text/plain": [
       "  0%|          | 0/12407 [00:00<?, ?it/s]"
      ]
     },
     "metadata": {},
     "output_type": "display_data"
    },
    {
     "data": {
      "application/vnd.jupyter.widget-view+json": {
       "model_id": "",
       "version_major": 2,
       "version_minor": 0
      },
      "text/plain": [
       "  0%|          | 0/75 [00:00<?, ?it/s]"
      ]
     },
     "metadata": {},
     "output_type": "display_data"
    },
    {
     "name": "stdout",
     "output_type": "stream",
     "text": [
      "2021-05-25 21:54:06 epoch:   7 train loss: 0.001558 train f1: 0.644798 valid loss: 0.001187 valid f1: 0.097710\n"
     ]
    },
    {
     "data": {
      "application/vnd.jupyter.widget-view+json": {
       "model_id": "",
       "version_major": 2,
       "version_minor": 0
      },
      "text/plain": [
       "  0%|          | 0/12407 [00:00<?, ?it/s]"
      ]
     },
     "metadata": {},
     "output_type": "display_data"
    },
    {
     "data": {
      "application/vnd.jupyter.widget-view+json": {
       "model_id": "",
       "version_major": 2,
       "version_minor": 0
      },
      "text/plain": [
       "  0%|          | 0/75 [00:00<?, ?it/s]"
      ]
     },
     "metadata": {},
     "output_type": "display_data"
    },
    {
     "name": "stdout",
     "output_type": "stream",
     "text": [
      "2021-05-25 22:25:45 epoch:   8 train loss: 0.001503 train f1: 0.666593 valid loss: 0.001157 valid f1: 0.115152\n"
     ]
    },
    {
     "data": {
      "application/vnd.jupyter.widget-view+json": {
       "model_id": "",
       "version_major": 2,
       "version_minor": 0
      },
      "text/plain": [
       "  0%|          | 0/12407 [00:00<?, ?it/s]"
      ]
     },
     "metadata": {},
     "output_type": "display_data"
    },
    {
     "name": "stderr",
     "output_type": "stream",
     "text": [
      "Unexpected error in ping thread.\n",
      "Traceback (most recent call last):\n",
      "  File \"/home/koen/apps/anaconda3/envs/lark/lib/python3.8/site-packages/urllib3/connectionpool.py\", line 699, in urlopen\n",
      "    httplib_response = self._make_request(\n",
      "  File \"/home/koen/apps/anaconda3/envs/lark/lib/python3.8/site-packages/urllib3/connectionpool.py\", line 445, in _make_request\n",
      "    six.raise_from(e, None)\n",
      "  File \"<string>\", line 3, in raise_from\n",
      "  File \"/home/koen/apps/anaconda3/envs/lark/lib/python3.8/site-packages/urllib3/connectionpool.py\", line 440, in _make_request\n",
      "    httplib_response = conn.getresponse()\n",
      "  File \"/home/koen/apps/anaconda3/envs/lark/lib/python3.8/http/client.py\", line 1347, in getresponse\n",
      "    response.begin()\n",
      "  File \"/home/koen/apps/anaconda3/envs/lark/lib/python3.8/http/client.py\", line 307, in begin\n",
      "    version, status, reason = self._read_status()\n",
      "  File \"/home/koen/apps/anaconda3/envs/lark/lib/python3.8/http/client.py\", line 268, in _read_status\n",
      "    line = str(self.fp.readline(_MAXLINE + 1), \"iso-8859-1\")\n",
      "  File \"/home/koen/apps/anaconda3/envs/lark/lib/python3.8/socket.py\", line 669, in readinto\n",
      "    return self._sock.recv_into(b)\n",
      "  File \"/home/koen/apps/anaconda3/envs/lark/lib/python3.8/ssl.py\", line 1241, in recv_into\n",
      "    return self.read(nbytes, buffer)\n",
      "  File \"/home/koen/apps/anaconda3/envs/lark/lib/python3.8/ssl.py\", line 1099, in read\n",
      "    return self._sslobj.read(len, buffer)\n",
      "ConnectionResetError: [Errno 104] Connection reset by peer\n",
      "\n",
      "During handling of the above exception, another exception occurred:\n",
      "\n",
      "Traceback (most recent call last):\n",
      "  File \"/home/koen/apps/anaconda3/envs/lark/lib/python3.8/site-packages/requests/adapters.py\", line 439, in send\n",
      "    resp = conn.urlopen(\n",
      "  File \"/home/koen/apps/anaconda3/envs/lark/lib/python3.8/site-packages/urllib3/connectionpool.py\", line 755, in urlopen\n",
      "    retries = retries.increment(\n",
      "  File \"/home/koen/apps/anaconda3/envs/lark/lib/python3.8/site-packages/urllib3/util/retry.py\", line 532, in increment\n",
      "    raise six.reraise(type(error), error, _stacktrace)\n",
      "  File \"/home/koen/apps/anaconda3/envs/lark/lib/python3.8/site-packages/urllib3/packages/six.py\", line 734, in reraise\n",
      "    raise value.with_traceback(tb)\n",
      "  File \"/home/koen/apps/anaconda3/envs/lark/lib/python3.8/site-packages/urllib3/connectionpool.py\", line 699, in urlopen\n",
      "    httplib_response = self._make_request(\n",
      "  File \"/home/koen/apps/anaconda3/envs/lark/lib/python3.8/site-packages/urllib3/connectionpool.py\", line 445, in _make_request\n",
      "    six.raise_from(e, None)\n",
      "  File \"<string>\", line 3, in raise_from\n",
      "  File \"/home/koen/apps/anaconda3/envs/lark/lib/python3.8/site-packages/urllib3/connectionpool.py\", line 440, in _make_request\n",
      "    httplib_response = conn.getresponse()\n",
      "  File \"/home/koen/apps/anaconda3/envs/lark/lib/python3.8/http/client.py\", line 1347, in getresponse\n",
      "    response.begin()\n",
      "  File \"/home/koen/apps/anaconda3/envs/lark/lib/python3.8/http/client.py\", line 307, in begin\n",
      "    version, status, reason = self._read_status()\n",
      "  File \"/home/koen/apps/anaconda3/envs/lark/lib/python3.8/http/client.py\", line 268, in _read_status\n",
      "    line = str(self.fp.readline(_MAXLINE + 1), \"iso-8859-1\")\n",
      "  File \"/home/koen/apps/anaconda3/envs/lark/lib/python3.8/socket.py\", line 669, in readinto\n",
      "    return self._sock.recv_into(b)\n",
      "  File \"/home/koen/apps/anaconda3/envs/lark/lib/python3.8/ssl.py\", line 1241, in recv_into\n",
      "    return self.read(nbytes, buffer)\n",
      "  File \"/home/koen/apps/anaconda3/envs/lark/lib/python3.8/ssl.py\", line 1099, in read\n",
      "    return self._sslobj.read(len, buffer)\n",
      "urllib3.exceptions.ProtocolError: ('Connection aborted.', ConnectionResetError(104, 'Connection reset by peer'))\n",
      "\n",
      "During handling of the above exception, another exception occurred:\n",
      "\n",
      "Traceback (most recent call last):\n",
      "  File \"/home/koen/apps/anaconda3/envs/lark/lib/python3.8/site-packages/bravado/http_future.py\", line 124, in wrapper\n",
      "    return func(self, *args, **kwargs)\n",
      "  File \"/home/koen/apps/anaconda3/envs/lark/lib/python3.8/site-packages/bravado/http_future.py\", line 291, in _get_incoming_response\n",
      "    inner_response = self.future.result(timeout=timeout)\n",
      "  File \"/home/koen/apps/anaconda3/envs/lark/lib/python3.8/site-packages/bravado/requests_client.py\", line 266, in result\n",
      "    response = self.session.send(\n",
      "  File \"/home/koen/apps/anaconda3/envs/lark/lib/python3.8/site-packages/requests/sessions.py\", line 655, in send\n",
      "    r = adapter.send(request, **kwargs)\n",
      "  File \"/home/koen/apps/anaconda3/envs/lark/lib/python3.8/site-packages/requests/adapters.py\", line 498, in send\n",
      "    raise ConnectionError(err, request=request)\n",
      "requests.exceptions.ConnectionError: ('Connection aborted.', ConnectionResetError(104, 'Connection reset by peer'))\n",
      "\n",
      "During handling of the above exception, another exception occurred:\n",
      "\n",
      "Traceback (most recent call last):\n",
      "  File \"/home/koen/apps/anaconda3/envs/lark/lib/python3.8/site-packages/neptune/internal/threads/ping_thread.py\", line 37, in run\n",
      "    self.__backend.ping_experiment(self.__experiment)\n",
      "  File \"/home/koen/apps/anaconda3/envs/lark/lib/python3.8/site-packages/neptune/internal/api_clients/hosted_api_clients/hosted_alpha_leaderboard_api_client.py\", line 382, in ping_experiment\n",
      "    self.leaderboard_swagger_client.api.ping(experimentId=str(experiment.internal_id)).response().result\n",
      "  File \"/home/koen/apps/anaconda3/envs/lark/lib/python3.8/site-packages/bravado/http_future.py\", line 239, in response\n",
      "    six.reraise(*sys.exc_info())\n",
      "  File \"/home/koen/apps/anaconda3/envs/lark/lib/python3.8/site-packages/six.py\", line 703, in reraise\n",
      "    raise value\n",
      "  File \"/home/koen/apps/anaconda3/envs/lark/lib/python3.8/site-packages/bravado/http_future.py\", line 197, in response\n",
      "    incoming_response = self._get_incoming_response(timeout)\n",
      "  File \"/home/koen/apps/anaconda3/envs/lark/lib/python3.8/site-packages/bravado/http_future.py\", line 126, in wrapper\n",
      "    self.future._raise_connection_error(exception)\n",
      "  File \"/home/koen/apps/anaconda3/envs/lark/lib/python3.8/site-packages/bravado/http_future.py\", line 91, in _raise_connection_error\n",
      "    self._raise_error(BravadoConnectionError, 'ConnectionError', exception)\n",
      "  File \"/home/koen/apps/anaconda3/envs/lark/lib/python3.8/site-packages/bravado/http_future.py\", line 79, in _raise_error\n",
      "    six.reraise(\n",
      "  File \"/home/koen/apps/anaconda3/envs/lark/lib/python3.8/site-packages/six.py\", line 702, in reraise\n",
      "    raise value.with_traceback(tb)\n",
      "  File \"/home/koen/apps/anaconda3/envs/lark/lib/python3.8/site-packages/bravado/http_future.py\", line 124, in wrapper\n",
      "    return func(self, *args, **kwargs)\n",
      "  File \"/home/koen/apps/anaconda3/envs/lark/lib/python3.8/site-packages/bravado/http_future.py\", line 291, in _get_incoming_response\n",
      "    inner_response = self.future.result(timeout=timeout)\n",
      "  File \"/home/koen/apps/anaconda3/envs/lark/lib/python3.8/site-packages/bravado/requests_client.py\", line 266, in result\n",
      "    response = self.session.send(\n",
      "  File \"/home/koen/apps/anaconda3/envs/lark/lib/python3.8/site-packages/requests/sessions.py\", line 655, in send\n",
      "    r = adapter.send(request, **kwargs)\n",
      "  File \"/home/koen/apps/anaconda3/envs/lark/lib/python3.8/site-packages/requests/adapters.py\", line 498, in send\n",
      "    raise ConnectionError(err, request=request)\n",
      "bravado.http_future.RequestsFutureAdapterConnectionError\n"
     ]
    },
    {
     "data": {
      "application/vnd.jupyter.widget-view+json": {
       "model_id": "",
       "version_major": 2,
       "version_minor": 0
      },
      "text/plain": [
       "  0%|          | 0/75 [00:00<?, ?it/s]"
      ]
     },
     "metadata": {},
     "output_type": "display_data"
    },
    {
     "name": "stdout",
     "output_type": "stream",
     "text": [
      "2021-05-25 22:57:25 epoch:   9 train loss: 0.001471 train f1: 0.680489 valid loss: 0.001179 valid f1: 0.097264\n"
     ]
    },
    {
     "data": {
      "application/vnd.jupyter.widget-view+json": {
       "model_id": "",
       "version_major": 2,
       "version_minor": 0
      },
      "text/plain": [
       "  0%|          | 0/12407 [00:00<?, ?it/s]"
      ]
     },
     "metadata": {},
     "output_type": "display_data"
    },
    {
     "data": {
      "application/vnd.jupyter.widget-view+json": {
       "model_id": "",
       "version_major": 2,
       "version_minor": 0
      },
      "text/plain": [
       "  0%|          | 0/75 [00:00<?, ?it/s]"
      ]
     },
     "metadata": {},
     "output_type": "display_data"
    },
    {
     "name": "stdout",
     "output_type": "stream",
     "text": [
      "2021-05-25 23:29:04 epoch:  10 train loss: 0.001452 train f1: 0.689594 valid loss: 0.001166 valid f1: 0.095238\n"
     ]
    },
    {
     "data": {
      "application/vnd.jupyter.widget-view+json": {
       "model_id": "",
       "version_major": 2,
       "version_minor": 0
      },
      "text/plain": [
       "  0%|          | 0/12407 [00:00<?, ?it/s]"
      ]
     },
     "metadata": {},
     "output_type": "display_data"
    },
    {
     "data": {
      "application/vnd.jupyter.widget-view+json": {
       "model_id": "",
       "version_major": 2,
       "version_minor": 0
      },
      "text/plain": [
       "  0%|          | 0/75 [00:00<?, ?it/s]"
      ]
     },
     "metadata": {},
     "output_type": "display_data"
    },
    {
     "name": "stdout",
     "output_type": "stream",
     "text": [
      "2021-05-26 00:00:45 epoch:  11 train loss: 0.001440 train f1: 0.693066 valid loss: 0.001173 valid f1: 0.100380\n"
     ]
    },
    {
     "data": {
      "application/vnd.jupyter.widget-view+json": {
       "model_id": "",
       "version_major": 2,
       "version_minor": 0
      },
      "text/plain": [
       "  0%|          | 0/12407 [00:00<?, ?it/s]"
      ]
     },
     "metadata": {},
     "output_type": "display_data"
    },
    {
     "data": {
      "application/vnd.jupyter.widget-view+json": {
       "model_id": "",
       "version_major": 2,
       "version_minor": 0
      },
      "text/plain": [
       "  0%|          | 0/75 [00:00<?, ?it/s]"
      ]
     },
     "metadata": {},
     "output_type": "display_data"
    },
    {
     "name": "stdout",
     "output_type": "stream",
     "text": [
      "2021-05-26 00:32:25 epoch:  12 train loss: 0.001437 train f1: 0.693398 valid loss: 0.001173 valid f1: 0.118797\n"
     ]
    },
    {
     "name": "stderr",
     "output_type": "stream",
     "text": [
      "Unexpected error in ping thread.\n",
      "Traceback (most recent call last):\n",
      "  File \"/home/koen/apps/anaconda3/envs/lark/lib/python3.8/site-packages/urllib3/connectionpool.py\", line 699, in urlopen\n",
      "    httplib_response = self._make_request(\n",
      "  File \"/home/koen/apps/anaconda3/envs/lark/lib/python3.8/site-packages/urllib3/connectionpool.py\", line 445, in _make_request\n",
      "    six.raise_from(e, None)\n",
      "  File \"<string>\", line 3, in raise_from\n",
      "  File \"/home/koen/apps/anaconda3/envs/lark/lib/python3.8/site-packages/urllib3/connectionpool.py\", line 440, in _make_request\n",
      "    httplib_response = conn.getresponse()\n",
      "  File \"/home/koen/apps/anaconda3/envs/lark/lib/python3.8/http/client.py\", line 1347, in getresponse\n",
      "    response.begin()\n",
      "  File \"/home/koen/apps/anaconda3/envs/lark/lib/python3.8/http/client.py\", line 307, in begin\n",
      "    version, status, reason = self._read_status()\n",
      "  File \"/home/koen/apps/anaconda3/envs/lark/lib/python3.8/http/client.py\", line 268, in _read_status\n",
      "    line = str(self.fp.readline(_MAXLINE + 1), \"iso-8859-1\")\n",
      "  File \"/home/koen/apps/anaconda3/envs/lark/lib/python3.8/socket.py\", line 669, in readinto\n",
      "    return self._sock.recv_into(b)\n",
      "  File \"/home/koen/apps/anaconda3/envs/lark/lib/python3.8/ssl.py\", line 1241, in recv_into\n",
      "    return self.read(nbytes, buffer)\n",
      "  File \"/home/koen/apps/anaconda3/envs/lark/lib/python3.8/ssl.py\", line 1099, in read\n",
      "    return self._sslobj.read(len, buffer)\n",
      "ConnectionResetError: [Errno 104] Connection reset by peer\n",
      "\n",
      "During handling of the above exception, another exception occurred:\n",
      "\n",
      "Traceback (most recent call last):\n",
      "  File \"/home/koen/apps/anaconda3/envs/lark/lib/python3.8/site-packages/requests/adapters.py\", line 439, in send\n",
      "    resp = conn.urlopen(\n",
      "  File \"/home/koen/apps/anaconda3/envs/lark/lib/python3.8/site-packages/urllib3/connectionpool.py\", line 755, in urlopen\n",
      "    retries = retries.increment(\n",
      "  File \"/home/koen/apps/anaconda3/envs/lark/lib/python3.8/site-packages/urllib3/util/retry.py\", line 532, in increment\n",
      "    raise six.reraise(type(error), error, _stacktrace)\n",
      "  File \"/home/koen/apps/anaconda3/envs/lark/lib/python3.8/site-packages/urllib3/packages/six.py\", line 734, in reraise\n",
      "    raise value.with_traceback(tb)\n",
      "  File \"/home/koen/apps/anaconda3/envs/lark/lib/python3.8/site-packages/urllib3/connectionpool.py\", line 699, in urlopen\n",
      "    httplib_response = self._make_request(\n",
      "  File \"/home/koen/apps/anaconda3/envs/lark/lib/python3.8/site-packages/urllib3/connectionpool.py\", line 445, in _make_request\n",
      "    six.raise_from(e, None)\n",
      "  File \"<string>\", line 3, in raise_from\n",
      "  File \"/home/koen/apps/anaconda3/envs/lark/lib/python3.8/site-packages/urllib3/connectionpool.py\", line 440, in _make_request\n",
      "    httplib_response = conn.getresponse()\n",
      "  File \"/home/koen/apps/anaconda3/envs/lark/lib/python3.8/http/client.py\", line 1347, in getresponse\n",
      "    response.begin()\n",
      "  File \"/home/koen/apps/anaconda3/envs/lark/lib/python3.8/http/client.py\", line 307, in begin\n",
      "    version, status, reason = self._read_status()\n",
      "  File \"/home/koen/apps/anaconda3/envs/lark/lib/python3.8/http/client.py\", line 268, in _read_status\n",
      "    line = str(self.fp.readline(_MAXLINE + 1), \"iso-8859-1\")\n",
      "  File \"/home/koen/apps/anaconda3/envs/lark/lib/python3.8/socket.py\", line 669, in readinto\n",
      "    return self._sock.recv_into(b)\n",
      "  File \"/home/koen/apps/anaconda3/envs/lark/lib/python3.8/ssl.py\", line 1241, in recv_into\n",
      "    return self.read(nbytes, buffer)\n",
      "  File \"/home/koen/apps/anaconda3/envs/lark/lib/python3.8/ssl.py\", line 1099, in read\n",
      "    return self._sslobj.read(len, buffer)\n",
      "urllib3.exceptions.ProtocolError: ('Connection aborted.', ConnectionResetError(104, 'Connection reset by peer'))\n",
      "\n",
      "During handling of the above exception, another exception occurred:\n",
      "\n",
      "Traceback (most recent call last):\n",
      "  File \"/home/koen/apps/anaconda3/envs/lark/lib/python3.8/site-packages/bravado/http_future.py\", line 124, in wrapper\n",
      "    return func(self, *args, **kwargs)\n",
      "  File \"/home/koen/apps/anaconda3/envs/lark/lib/python3.8/site-packages/bravado/http_future.py\", line 291, in _get_incoming_response\n",
      "    inner_response = self.future.result(timeout=timeout)\n",
      "  File \"/home/koen/apps/anaconda3/envs/lark/lib/python3.8/site-packages/bravado/requests_client.py\", line 266, in result\n",
      "    response = self.session.send(\n",
      "  File \"/home/koen/apps/anaconda3/envs/lark/lib/python3.8/site-packages/requests/sessions.py\", line 655, in send\n",
      "    r = adapter.send(request, **kwargs)\n",
      "  File \"/home/koen/apps/anaconda3/envs/lark/lib/python3.8/site-packages/requests/adapters.py\", line 498, in send\n",
      "    raise ConnectionError(err, request=request)\n",
      "requests.exceptions.ConnectionError: ('Connection aborted.', ConnectionResetError(104, 'Connection reset by peer'))\n",
      "\n",
      "During handling of the above exception, another exception occurred:\n",
      "\n",
      "Traceback (most recent call last):\n",
      "  File \"/home/koen/apps/anaconda3/envs/lark/lib/python3.8/site-packages/neptune/internal/threads/ping_thread.py\", line 37, in run\n",
      "    self.__backend.ping_experiment(self.__experiment)\n",
      "  File \"/home/koen/apps/anaconda3/envs/lark/lib/python3.8/site-packages/neptune/internal/api_clients/hosted_api_clients/hosted_alpha_leaderboard_api_client.py\", line 382, in ping_experiment\n",
      "    self.leaderboard_swagger_client.api.ping(experimentId=str(experiment.internal_id)).response().result\n",
      "  File \"/home/koen/apps/anaconda3/envs/lark/lib/python3.8/site-packages/bravado/http_future.py\", line 239, in response\n",
      "    six.reraise(*sys.exc_info())\n",
      "  File \"/home/koen/apps/anaconda3/envs/lark/lib/python3.8/site-packages/six.py\", line 703, in reraise\n",
      "    raise value\n",
      "  File \"/home/koen/apps/anaconda3/envs/lark/lib/python3.8/site-packages/bravado/http_future.py\", line 197, in response\n",
      "    incoming_response = self._get_incoming_response(timeout)\n",
      "  File \"/home/koen/apps/anaconda3/envs/lark/lib/python3.8/site-packages/bravado/http_future.py\", line 126, in wrapper\n",
      "    self.future._raise_connection_error(exception)\n",
      "  File \"/home/koen/apps/anaconda3/envs/lark/lib/python3.8/site-packages/bravado/http_future.py\", line 91, in _raise_connection_error\n",
      "    self._raise_error(BravadoConnectionError, 'ConnectionError', exception)\n",
      "  File \"/home/koen/apps/anaconda3/envs/lark/lib/python3.8/site-packages/bravado/http_future.py\", line 79, in _raise_error\n",
      "    six.reraise(\n",
      "  File \"/home/koen/apps/anaconda3/envs/lark/lib/python3.8/site-packages/six.py\", line 702, in reraise\n",
      "    raise value.with_traceback(tb)\n",
      "  File \"/home/koen/apps/anaconda3/envs/lark/lib/python3.8/site-packages/bravado/http_future.py\", line 124, in wrapper\n",
      "    return func(self, *args, **kwargs)\n",
      "  File \"/home/koen/apps/anaconda3/envs/lark/lib/python3.8/site-packages/bravado/http_future.py\", line 291, in _get_incoming_response\n",
      "    inner_response = self.future.result(timeout=timeout)\n",
      "  File \"/home/koen/apps/anaconda3/envs/lark/lib/python3.8/site-packages/bravado/requests_client.py\", line 266, in result\n",
      "    response = self.session.send(\n",
      "  File \"/home/koen/apps/anaconda3/envs/lark/lib/python3.8/site-packages/requests/sessions.py\", line 655, in send\n",
      "    r = adapter.send(request, **kwargs)\n",
      "  File \"/home/koen/apps/anaconda3/envs/lark/lib/python3.8/site-packages/requests/adapters.py\", line 498, in send\n",
      "    raise ConnectionError(err, request=request)\n",
      "bravado.http_future.RequestsFutureAdapterConnectionError\n"
     ]
    }
   ],
   "source": [
    "lrn.learn()"
   ]
  },
  {
   "cell_type": "code",
   "execution_count": 69,
   "id": "19b1d845-e8a9-4f27-9a61-e56333ab04ac",
   "metadata": {
    "tags": []
   },
   "outputs": [
    {
     "data": {
      "application/vnd.jupyter.widget-view+json": {
       "model_id": "ac0f7fd687504d9e919fb7697d9b82b6",
       "version_major": 2,
       "version_minor": 0
      },
      "text/plain": [
       "  0%|          | 0/75 [00:00<?, ?it/s]"
      ]
     },
     "metadata": {},
     "output_type": "display_data"
    },
    {
     "data": {
      "text/html": [
       "<div>\n",
       "<style scoped>\n",
       "    .dataframe tbody tr th:only-of-type {\n",
       "        vertical-align: middle;\n",
       "    }\n",
       "\n",
       "    .dataframe tbody tr th {\n",
       "        vertical-align: top;\n",
       "    }\n",
       "\n",
       "    .dataframe thead th {\n",
       "        text-align: right;\n",
       "    }\n",
       "</style>\n",
       "<table border=\"1\" class=\"dataframe\">\n",
       "  <thead>\n",
       "    <tr style=\"text-align: right;\">\n",
       "      <th></th>\n",
       "      <th>thresh</th>\n",
       "      <th>tp</th>\n",
       "      <th>tn</th>\n",
       "      <th>fp</th>\n",
       "      <th>fn</th>\n",
       "      <th>f1</th>\n",
       "    </tr>\n",
       "  </thead>\n",
       "  <tbody>\n",
       "    <tr>\n",
       "      <th>0</th>\n",
       "      <td>0.0</td>\n",
       "      <td>1183</td>\n",
       "      <td>0</td>\n",
       "      <td>951617</td>\n",
       "      <td>0</td>\n",
       "      <td>0.002480</td>\n",
       "    </tr>\n",
       "    <tr>\n",
       "      <th>1</th>\n",
       "      <td>0.1</td>\n",
       "      <td>483</td>\n",
       "      <td>939820</td>\n",
       "      <td>11797</td>\n",
       "      <td>700</td>\n",
       "      <td>0.071752</td>\n",
       "    </tr>\n",
       "    <tr>\n",
       "      <th>2</th>\n",
       "      <td>0.2</td>\n",
       "      <td>263</td>\n",
       "      <td>950238</td>\n",
       "      <td>1379</td>\n",
       "      <td>920</td>\n",
       "      <td>0.186195</td>\n",
       "    </tr>\n",
       "    <tr>\n",
       "      <th>3</th>\n",
       "      <td>0.3</td>\n",
       "      <td>162</td>\n",
       "      <td>951277</td>\n",
       "      <td>340</td>\n",
       "      <td>1021</td>\n",
       "      <td>0.192285</td>\n",
       "    </tr>\n",
       "    <tr>\n",
       "      <th>4</th>\n",
       "      <td>0.4</td>\n",
       "      <td>111</td>\n",
       "      <td>951466</td>\n",
       "      <td>151</td>\n",
       "      <td>1072</td>\n",
       "      <td>0.153633</td>\n",
       "    </tr>\n",
       "    <tr>\n",
       "      <th>5</th>\n",
       "      <td>0.5</td>\n",
       "      <td>79</td>\n",
       "      <td>951549</td>\n",
       "      <td>68</td>\n",
       "      <td>1104</td>\n",
       "      <td>0.118797</td>\n",
       "    </tr>\n",
       "    <tr>\n",
       "      <th>6</th>\n",
       "      <td>0.6</td>\n",
       "      <td>47</td>\n",
       "      <td>951582</td>\n",
       "      <td>35</td>\n",
       "      <td>1136</td>\n",
       "      <td>0.074308</td>\n",
       "    </tr>\n",
       "    <tr>\n",
       "      <th>7</th>\n",
       "      <td>0.7</td>\n",
       "      <td>30</td>\n",
       "      <td>951596</td>\n",
       "      <td>21</td>\n",
       "      <td>1153</td>\n",
       "      <td>0.048622</td>\n",
       "    </tr>\n",
       "    <tr>\n",
       "      <th>8</th>\n",
       "      <td>0.8</td>\n",
       "      <td>17</td>\n",
       "      <td>951605</td>\n",
       "      <td>12</td>\n",
       "      <td>1166</td>\n",
       "      <td>0.028053</td>\n",
       "    </tr>\n",
       "    <tr>\n",
       "      <th>9</th>\n",
       "      <td>0.9</td>\n",
       "      <td>5</td>\n",
       "      <td>951613</td>\n",
       "      <td>4</td>\n",
       "      <td>1178</td>\n",
       "      <td>0.008389</td>\n",
       "    </tr>\n",
       "    <tr>\n",
       "      <th>10</th>\n",
       "      <td>1.0</td>\n",
       "      <td>0</td>\n",
       "      <td>951617</td>\n",
       "      <td>0</td>\n",
       "      <td>1183</td>\n",
       "      <td>0.000000</td>\n",
       "    </tr>\n",
       "  </tbody>\n",
       "</table>\n",
       "</div>"
      ],
      "text/plain": [
       "    thresh    tp      tn      fp    fn        f1\n",
       "0      0.0  1183       0  951617     0  0.002480\n",
       "1      0.1   483  939820   11797   700  0.071752\n",
       "2      0.2   263  950238    1379   920  0.186195\n",
       "3      0.3   162  951277     340  1021  0.192285\n",
       "4      0.4   111  951466     151  1072  0.153633\n",
       "5      0.5    79  951549      68  1104  0.118797\n",
       "6      0.6    47  951582      35  1136  0.074308\n",
       "7      0.7    30  951596      21  1153  0.048622\n",
       "8      0.8    17  951605      12  1166  0.028053\n",
       "9      0.9     5  951613       4  1178  0.008389\n",
       "10     1.0     0  951617       0  1183  0.000000"
      ]
     },
     "execution_count": 69,
     "metadata": {},
     "output_type": "execute_result"
    }
   ],
   "source": [
    "lrn.evaluate()"
   ]
  },
  {
   "cell_type": "code",
   "execution_count": 70,
   "id": "224bf120-c404-49a1-8283-359fa804c9a1",
   "metadata": {},
   "outputs": [
    {
     "data": {
      "text/plain": [
       "{'epoch': 2,\n",
       " 'valid_loss': 0.0011455502287329486,\n",
       " 'valid_score': 0.05832693725824356}"
      ]
     },
     "execution_count": 70,
     "metadata": {},
     "output_type": "execute_result"
    }
   ],
   "source": [
    "lrn.load_checkpoint('best')"
   ]
  },
  {
   "cell_type": "code",
   "execution_count": 71,
   "id": "a431df79-4123-4f86-9389-60b9dda4684c",
   "metadata": {},
   "outputs": [
    {
     "data": {
      "application/vnd.jupyter.widget-view+json": {
       "model_id": "6aed22c7a9c54438b430aa1559773f9f",
       "version_major": 2,
       "version_minor": 0
      },
      "text/plain": [
       "  0%|          | 0/75 [00:00<?, ?it/s]"
      ]
     },
     "metadata": {},
     "output_type": "display_data"
    },
    {
     "data": {
      "text/html": [
       "<div>\n",
       "<style scoped>\n",
       "    .dataframe tbody tr th:only-of-type {\n",
       "        vertical-align: middle;\n",
       "    }\n",
       "\n",
       "    .dataframe tbody tr th {\n",
       "        vertical-align: top;\n",
       "    }\n",
       "\n",
       "    .dataframe thead th {\n",
       "        text-align: right;\n",
       "    }\n",
       "</style>\n",
       "<table border=\"1\" class=\"dataframe\">\n",
       "  <thead>\n",
       "    <tr style=\"text-align: right;\">\n",
       "      <th></th>\n",
       "      <th>thresh</th>\n",
       "      <th>tp</th>\n",
       "      <th>tn</th>\n",
       "      <th>fp</th>\n",
       "      <th>fn</th>\n",
       "      <th>f1</th>\n",
       "    </tr>\n",
       "  </thead>\n",
       "  <tbody>\n",
       "    <tr>\n",
       "      <th>0</th>\n",
       "      <td>0.0</td>\n",
       "      <td>1183</td>\n",
       "      <td>0</td>\n",
       "      <td>951617</td>\n",
       "      <td>0</td>\n",
       "      <td>0.002480</td>\n",
       "    </tr>\n",
       "    <tr>\n",
       "      <th>1</th>\n",
       "      <td>0.1</td>\n",
       "      <td>451</td>\n",
       "      <td>944322</td>\n",
       "      <td>7295</td>\n",
       "      <td>732</td>\n",
       "      <td>0.101019</td>\n",
       "    </tr>\n",
       "    <tr>\n",
       "      <th>2</th>\n",
       "      <td>0.2</td>\n",
       "      <td>211</td>\n",
       "      <td>950730</td>\n",
       "      <td>887</td>\n",
       "      <td>972</td>\n",
       "      <td>0.185007</td>\n",
       "    </tr>\n",
       "    <tr>\n",
       "      <th>3</th>\n",
       "      <td>0.3</td>\n",
       "      <td>113</td>\n",
       "      <td>951288</td>\n",
       "      <td>329</td>\n",
       "      <td>1070</td>\n",
       "      <td>0.139077</td>\n",
       "    </tr>\n",
       "    <tr>\n",
       "      <th>4</th>\n",
       "      <td>0.4</td>\n",
       "      <td>61</td>\n",
       "      <td>951446</td>\n",
       "      <td>171</td>\n",
       "      <td>1122</td>\n",
       "      <td>0.086219</td>\n",
       "    </tr>\n",
       "    <tr>\n",
       "      <th>5</th>\n",
       "      <td>0.5</td>\n",
       "      <td>38</td>\n",
       "      <td>951535</td>\n",
       "      <td>82</td>\n",
       "      <td>1145</td>\n",
       "      <td>0.058327</td>\n",
       "    </tr>\n",
       "    <tr>\n",
       "      <th>6</th>\n",
       "      <td>0.6</td>\n",
       "      <td>20</td>\n",
       "      <td>951582</td>\n",
       "      <td>35</td>\n",
       "      <td>1163</td>\n",
       "      <td>0.032310</td>\n",
       "    </tr>\n",
       "    <tr>\n",
       "      <th>7</th>\n",
       "      <td>0.7</td>\n",
       "      <td>8</td>\n",
       "      <td>951601</td>\n",
       "      <td>16</td>\n",
       "      <td>1175</td>\n",
       "      <td>0.013256</td>\n",
       "    </tr>\n",
       "    <tr>\n",
       "      <th>8</th>\n",
       "      <td>0.8</td>\n",
       "      <td>5</td>\n",
       "      <td>951605</td>\n",
       "      <td>12</td>\n",
       "      <td>1178</td>\n",
       "      <td>0.008333</td>\n",
       "    </tr>\n",
       "    <tr>\n",
       "      <th>9</th>\n",
       "      <td>0.9</td>\n",
       "      <td>2</td>\n",
       "      <td>951609</td>\n",
       "      <td>8</td>\n",
       "      <td>1181</td>\n",
       "      <td>0.003353</td>\n",
       "    </tr>\n",
       "    <tr>\n",
       "      <th>10</th>\n",
       "      <td>1.0</td>\n",
       "      <td>0</td>\n",
       "      <td>951617</td>\n",
       "      <td>0</td>\n",
       "      <td>1183</td>\n",
       "      <td>0.000000</td>\n",
       "    </tr>\n",
       "  </tbody>\n",
       "</table>\n",
       "</div>"
      ],
      "text/plain": [
       "    thresh    tp      tn      fp    fn        f1\n",
       "0      0.0  1183       0  951617     0  0.002480\n",
       "1      0.1   451  944322    7295   732  0.101019\n",
       "2      0.2   211  950730     887   972  0.185007\n",
       "3      0.3   113  951288     329  1070  0.139077\n",
       "4      0.4    61  951446     171  1122  0.086219\n",
       "5      0.5    38  951535      82  1145  0.058327\n",
       "6      0.6    20  951582      35  1163  0.032310\n",
       "7      0.7     8  951601      16  1175  0.013256\n",
       "8      0.8     5  951605      12  1178  0.008333\n",
       "9      0.9     2  951609       8  1181  0.003353\n",
       "10     1.0     0  951617       0  1183  0.000000"
      ]
     },
     "execution_count": 71,
     "metadata": {},
     "output_type": "execute_result"
    }
   ],
   "source": [
    "lrn.evaluate()"
   ]
  },
  {
   "cell_type": "code",
   "execution_count": 13,
   "id": "0827d54b-9100-4251-b6ce-4be9f561267d",
   "metadata": {},
   "outputs": [
    {
     "name": "stdout",
     "output_type": "stream",
     "text": [
      "tf_efficientnet_b0_ns-focal-loss-20210525-153516\n"
     ]
    }
   ],
   "source": [
    "lrn = Learner(\"tf_efficientnet_b0_ns-focal-loss\", cfg, model)"
   ]
  },
  {
   "cell_type": "code",
   "execution_count": 14,
   "id": "56c3f875-ecb1-4e88-a465-5557f28e9dd3",
   "metadata": {
    "tags": []
   },
   "outputs": [
    {
     "data": {
      "application/vnd.jupyter.widget-view+json": {
       "model_id": "69b19e39df964ea0a96b773033751ae2",
       "version_major": 2,
       "version_minor": 0
      },
      "text/plain": [
       "  0%|          | 0/12 [00:00<?, ?it/s]"
      ]
     },
     "metadata": {},
     "output_type": "display_data"
    },
    {
     "data": {
      "application/vnd.jupyter.widget-view+json": {
       "model_id": "",
       "version_major": 2,
       "version_minor": 0
      },
      "text/plain": [
       "  0%|          | 0/875 [00:00<?, ?it/s]"
      ]
     },
     "metadata": {},
     "output_type": "display_data"
    },
    {
     "data": {
      "application/vnd.jupyter.widget-view+json": {
       "model_id": "",
       "version_major": 2,
       "version_minor": 0
      },
      "text/plain": [
       "  0%|          | 0/38 [00:00<?, ?it/s]"
      ]
     },
     "metadata": {},
     "output_type": "display_data"
    },
    {
     "name": "stdout",
     "output_type": "stream",
     "text": [
      "2021-05-25 15:37:37 epoch:   1 train loss: 0.026205 train f1: 0.214321 valid loss: 0.015295 valid f1: 0.060226\n"
     ]
    },
    {
     "data": {
      "application/vnd.jupyter.widget-view+json": {
       "model_id": "",
       "version_major": 2,
       "version_minor": 0
      },
      "text/plain": [
       "  0%|          | 0/875 [00:00<?, ?it/s]"
      ]
     },
     "metadata": {},
     "output_type": "display_data"
    },
    {
     "data": {
      "application/vnd.jupyter.widget-view+json": {
       "model_id": "",
       "version_major": 2,
       "version_minor": 0
      },
      "text/plain": [
       "  0%|          | 0/38 [00:00<?, ?it/s]"
      ]
     },
     "metadata": {},
     "output_type": "display_data"
    },
    {
     "name": "stdout",
     "output_type": "stream",
     "text": [
      "2021-05-25 15:39:58 epoch:   2 train loss: 0.019835 train f1: 0.507740 valid loss: 0.015454 valid f1: 0.199320\n"
     ]
    },
    {
     "data": {
      "application/vnd.jupyter.widget-view+json": {
       "model_id": "",
       "version_major": 2,
       "version_minor": 0
      },
      "text/plain": [
       "  0%|          | 0/875 [00:00<?, ?it/s]"
      ]
     },
     "metadata": {},
     "output_type": "display_data"
    },
    {
     "data": {
      "application/vnd.jupyter.widget-view+json": {
       "model_id": "",
       "version_major": 2,
       "version_minor": 0
      },
      "text/plain": [
       "  0%|          | 0/38 [00:00<?, ?it/s]"
      ]
     },
     "metadata": {},
     "output_type": "display_data"
    },
    {
     "name": "stdout",
     "output_type": "stream",
     "text": [
      "2021-05-25 15:42:18 epoch:   3 train loss: 0.018179 train f1: 0.588812 valid loss: 0.015145 valid f1: 0.177363\n"
     ]
    },
    {
     "data": {
      "application/vnd.jupyter.widget-view+json": {
       "model_id": "",
       "version_major": 2,
       "version_minor": 0
      },
      "text/plain": [
       "  0%|          | 0/875 [00:00<?, ?it/s]"
      ]
     },
     "metadata": {},
     "output_type": "display_data"
    },
    {
     "data": {
      "application/vnd.jupyter.widget-view+json": {
       "model_id": "",
       "version_major": 2,
       "version_minor": 0
      },
      "text/plain": [
       "  0%|          | 0/38 [00:00<?, ?it/s]"
      ]
     },
     "metadata": {},
     "output_type": "display_data"
    },
    {
     "name": "stdout",
     "output_type": "stream",
     "text": [
      "2021-05-25 15:44:39 epoch:   4 train loss: 0.016958 train f1: 0.641285 valid loss: 0.014190 valid f1: 0.168816\n"
     ]
    },
    {
     "data": {
      "application/vnd.jupyter.widget-view+json": {
       "model_id": "",
       "version_major": 2,
       "version_minor": 0
      },
      "text/plain": [
       "  0%|          | 0/875 [00:00<?, ?it/s]"
      ]
     },
     "metadata": {},
     "output_type": "display_data"
    },
    {
     "data": {
      "application/vnd.jupyter.widget-view+json": {
       "model_id": "",
       "version_major": 2,
       "version_minor": 0
      },
      "text/plain": [
       "  0%|          | 0/38 [00:00<?, ?it/s]"
      ]
     },
     "metadata": {},
     "output_type": "display_data"
    },
    {
     "name": "stdout",
     "output_type": "stream",
     "text": [
      "2021-05-25 15:47:00 epoch:   5 train loss: 0.016205 train f1: 0.672340 valid loss: 0.015477 valid f1: 0.192179\n"
     ]
    },
    {
     "data": {
      "application/vnd.jupyter.widget-view+json": {
       "model_id": "",
       "version_major": 2,
       "version_minor": 0
      },
      "text/plain": [
       "  0%|          | 0/875 [00:00<?, ?it/s]"
      ]
     },
     "metadata": {},
     "output_type": "display_data"
    },
    {
     "data": {
      "application/vnd.jupyter.widget-view+json": {
       "model_id": "",
       "version_major": 2,
       "version_minor": 0
      },
      "text/plain": [
       "  0%|          | 0/38 [00:00<?, ?it/s]"
      ]
     },
     "metadata": {},
     "output_type": "display_data"
    },
    {
     "name": "stdout",
     "output_type": "stream",
     "text": [
      "2021-05-25 15:49:20 epoch:   6 train loss: 0.015355 train f1: 0.700913 valid loss: 0.014415 valid f1: 0.241071\n"
     ]
    },
    {
     "data": {
      "application/vnd.jupyter.widget-view+json": {
       "model_id": "",
       "version_major": 2,
       "version_minor": 0
      },
      "text/plain": [
       "  0%|          | 0/875 [00:00<?, ?it/s]"
      ]
     },
     "metadata": {},
     "output_type": "display_data"
    },
    {
     "data": {
      "application/vnd.jupyter.widget-view+json": {
       "model_id": "",
       "version_major": 2,
       "version_minor": 0
      },
      "text/plain": [
       "  0%|          | 0/38 [00:00<?, ?it/s]"
      ]
     },
     "metadata": {},
     "output_type": "display_data"
    },
    {
     "name": "stdout",
     "output_type": "stream",
     "text": [
      "2021-05-25 15:51:41 epoch:   7 train loss: 0.014647 train f1: 0.727459 valid loss: 0.014367 valid f1: 0.211604\n"
     ]
    },
    {
     "data": {
      "application/vnd.jupyter.widget-view+json": {
       "model_id": "",
       "version_major": 2,
       "version_minor": 0
      },
      "text/plain": [
       "  0%|          | 0/875 [00:00<?, ?it/s]"
      ]
     },
     "metadata": {},
     "output_type": "display_data"
    },
    {
     "data": {
      "application/vnd.jupyter.widget-view+json": {
       "model_id": "",
       "version_major": 2,
       "version_minor": 0
      },
      "text/plain": [
       "  0%|          | 0/38 [00:00<?, ?it/s]"
      ]
     },
     "metadata": {},
     "output_type": "display_data"
    },
    {
     "name": "stdout",
     "output_type": "stream",
     "text": [
      "2021-05-25 15:54:02 epoch:   8 train loss: 0.014109 train f1: 0.746891 valid loss: 0.013563 valid f1: 0.243575\n"
     ]
    },
    {
     "data": {
      "application/vnd.jupyter.widget-view+json": {
       "model_id": "",
       "version_major": 2,
       "version_minor": 0
      },
      "text/plain": [
       "  0%|          | 0/875 [00:00<?, ?it/s]"
      ]
     },
     "metadata": {},
     "output_type": "display_data"
    },
    {
     "data": {
      "application/vnd.jupyter.widget-view+json": {
       "model_id": "",
       "version_major": 2,
       "version_minor": 0
      },
      "text/plain": [
       "  0%|          | 0/38 [00:00<?, ?it/s]"
      ]
     },
     "metadata": {},
     "output_type": "display_data"
    },
    {
     "name": "stdout",
     "output_type": "stream",
     "text": [
      "2021-05-25 15:56:24 epoch:   9 train loss: 0.013868 train f1: 0.753036 valid loss: 0.013489 valid f1: 0.257492\n"
     ]
    },
    {
     "data": {
      "application/vnd.jupyter.widget-view+json": {
       "model_id": "",
       "version_major": 2,
       "version_minor": 0
      },
      "text/plain": [
       "  0%|          | 0/875 [00:00<?, ?it/s]"
      ]
     },
     "metadata": {},
     "output_type": "display_data"
    },
    {
     "data": {
      "application/vnd.jupyter.widget-view+json": {
       "model_id": "",
       "version_major": 2,
       "version_minor": 0
      },
      "text/plain": [
       "  0%|          | 0/38 [00:00<?, ?it/s]"
      ]
     },
     "metadata": {},
     "output_type": "display_data"
    },
    {
     "name": "stdout",
     "output_type": "stream",
     "text": [
      "2021-05-25 15:58:45 epoch:  10 train loss: 0.013337 train f1: 0.766750 valid loss: 0.013872 valid f1: 0.253863\n"
     ]
    },
    {
     "data": {
      "application/vnd.jupyter.widget-view+json": {
       "model_id": "",
       "version_major": 2,
       "version_minor": 0
      },
      "text/plain": [
       "  0%|          | 0/875 [00:00<?, ?it/s]"
      ]
     },
     "metadata": {},
     "output_type": "display_data"
    },
    {
     "data": {
      "application/vnd.jupyter.widget-view+json": {
       "model_id": "",
       "version_major": 2,
       "version_minor": 0
      },
      "text/plain": [
       "  0%|          | 0/38 [00:00<?, ?it/s]"
      ]
     },
     "metadata": {},
     "output_type": "display_data"
    },
    {
     "name": "stdout",
     "output_type": "stream",
     "text": [
      "2021-05-25 16:01:06 epoch:  11 train loss: 0.013343 train f1: 0.767252 valid loss: 0.014022 valid f1: 0.260394\n"
     ]
    },
    {
     "data": {
      "application/vnd.jupyter.widget-view+json": {
       "model_id": "",
       "version_major": 2,
       "version_minor": 0
      },
      "text/plain": [
       "  0%|          | 0/875 [00:00<?, ?it/s]"
      ]
     },
     "metadata": {},
     "output_type": "display_data"
    },
    {
     "data": {
      "application/vnd.jupyter.widget-view+json": {
       "model_id": "",
       "version_major": 2,
       "version_minor": 0
      },
      "text/plain": [
       "  0%|          | 0/38 [00:00<?, ?it/s]"
      ]
     },
     "metadata": {},
     "output_type": "display_data"
    },
    {
     "name": "stdout",
     "output_type": "stream",
     "text": [
      "2021-05-25 16:03:27 epoch:  12 train loss: 0.013407 train f1: 0.770511 valid loss: 0.013902 valid f1: 0.257143\n"
     ]
    }
   ],
   "source": [
    "lrn.learn()"
   ]
  },
  {
   "cell_type": "code",
   "execution_count": 15,
   "id": "2f986526-2ace-4df5-96f6-392676536e41",
   "metadata": {
    "tags": []
   },
   "outputs": [
    {
     "data": {
      "application/vnd.jupyter.widget-view+json": {
       "model_id": "162e61e51caa4684bd5fdf50b3bd18e9",
       "version_major": 2,
       "version_minor": 0
      },
      "text/plain": [
       "  0%|          | 0/38 [00:00<?, ?it/s]"
      ]
     },
     "metadata": {},
     "output_type": "display_data"
    },
    {
     "data": {
      "text/html": [
       "<div>\n",
       "<style scoped>\n",
       "    .dataframe tbody tr th:only-of-type {\n",
       "        vertical-align: middle;\n",
       "    }\n",
       "\n",
       "    .dataframe tbody tr th {\n",
       "        vertical-align: top;\n",
       "    }\n",
       "\n",
       "    .dataframe thead th {\n",
       "        text-align: right;\n",
       "    }\n",
       "</style>\n",
       "<table border=\"1\" class=\"dataframe\">\n",
       "  <thead>\n",
       "    <tr style=\"text-align: right;\">\n",
       "      <th></th>\n",
       "      <th>thresh</th>\n",
       "      <th>tp</th>\n",
       "      <th>tn</th>\n",
       "      <th>fp</th>\n",
       "      <th>fn</th>\n",
       "      <th>f1</th>\n",
       "    </tr>\n",
       "  </thead>\n",
       "  <tbody>\n",
       "    <tr>\n",
       "      <th>0</th>\n",
       "      <td>0.0</td>\n",
       "      <td>770</td>\n",
       "      <td>0</td>\n",
       "      <td>32830</td>\n",
       "      <td>0</td>\n",
       "      <td>0.044807</td>\n",
       "    </tr>\n",
       "    <tr>\n",
       "      <th>1</th>\n",
       "      <td>0.1</td>\n",
       "      <td>553</td>\n",
       "      <td>23627</td>\n",
       "      <td>9203</td>\n",
       "      <td>217</td>\n",
       "      <td>0.105073</td>\n",
       "    </tr>\n",
       "    <tr>\n",
       "      <th>2</th>\n",
       "      <td>0.2</td>\n",
       "      <td>331</td>\n",
       "      <td>31988</td>\n",
       "      <td>842</td>\n",
       "      <td>439</td>\n",
       "      <td>0.340710</td>\n",
       "    </tr>\n",
       "    <tr>\n",
       "      <th>3</th>\n",
       "      <td>0.3</td>\n",
       "      <td>229</td>\n",
       "      <td>32671</td>\n",
       "      <td>159</td>\n",
       "      <td>541</td>\n",
       "      <td>0.395510</td>\n",
       "    </tr>\n",
       "    <tr>\n",
       "      <th>4</th>\n",
       "      <td>0.4</td>\n",
       "      <td>155</td>\n",
       "      <td>32777</td>\n",
       "      <td>53</td>\n",
       "      <td>615</td>\n",
       "      <td>0.316973</td>\n",
       "    </tr>\n",
       "    <tr>\n",
       "      <th>5</th>\n",
       "      <td>0.5</td>\n",
       "      <td>117</td>\n",
       "      <td>32807</td>\n",
       "      <td>23</td>\n",
       "      <td>653</td>\n",
       "      <td>0.257143</td>\n",
       "    </tr>\n",
       "    <tr>\n",
       "      <th>6</th>\n",
       "      <td>0.6</td>\n",
       "      <td>93</td>\n",
       "      <td>32818</td>\n",
       "      <td>12</td>\n",
       "      <td>677</td>\n",
       "      <td>0.212571</td>\n",
       "    </tr>\n",
       "    <tr>\n",
       "      <th>7</th>\n",
       "      <td>0.7</td>\n",
       "      <td>67</td>\n",
       "      <td>32825</td>\n",
       "      <td>5</td>\n",
       "      <td>703</td>\n",
       "      <td>0.159145</td>\n",
       "    </tr>\n",
       "    <tr>\n",
       "      <th>8</th>\n",
       "      <td>0.8</td>\n",
       "      <td>50</td>\n",
       "      <td>32829</td>\n",
       "      <td>1</td>\n",
       "      <td>720</td>\n",
       "      <td>0.121803</td>\n",
       "    </tr>\n",
       "    <tr>\n",
       "      <th>9</th>\n",
       "      <td>0.9</td>\n",
       "      <td>21</td>\n",
       "      <td>32830</td>\n",
       "      <td>0</td>\n",
       "      <td>749</td>\n",
       "      <td>0.053097</td>\n",
       "    </tr>\n",
       "    <tr>\n",
       "      <th>10</th>\n",
       "      <td>1.0</td>\n",
       "      <td>0</td>\n",
       "      <td>32830</td>\n",
       "      <td>0</td>\n",
       "      <td>770</td>\n",
       "      <td>0.000000</td>\n",
       "    </tr>\n",
       "  </tbody>\n",
       "</table>\n",
       "</div>"
      ],
      "text/plain": [
       "    thresh   tp     tn     fp   fn        f1\n",
       "0      0.0  770      0  32830    0  0.044807\n",
       "1      0.1  553  23627   9203  217  0.105073\n",
       "2      0.2  331  31988    842  439  0.340710\n",
       "3      0.3  229  32671    159  541  0.395510\n",
       "4      0.4  155  32777     53  615  0.316973\n",
       "5      0.5  117  32807     23  653  0.257143\n",
       "6      0.6   93  32818     12  677  0.212571\n",
       "7      0.7   67  32825      5  703  0.159145\n",
       "8      0.8   50  32829      1  720  0.121803\n",
       "9      0.9   21  32830      0  749  0.053097\n",
       "10     1.0    0  32830      0  770  0.000000"
      ]
     },
     "execution_count": 15,
     "metadata": {},
     "output_type": "execute_result"
    }
   ],
   "source": [
    "lrn.evaluate()"
   ]
  },
  {
   "cell_type": "code",
   "execution_count": 16,
   "id": "c2da1e75-b446-4df1-8705-dd6d187f79e3",
   "metadata": {},
   "outputs": [
    {
     "data": {
      "text/plain": [
       "{'epoch': 8,\n",
       " 'valid_loss': 0.01348914288131422,\n",
       " 'valid_score': 0.25749167799949646}"
      ]
     },
     "execution_count": 16,
     "metadata": {},
     "output_type": "execute_result"
    }
   ],
   "source": [
    "lrn.load_checkpoint('best')"
   ]
  },
  {
   "cell_type": "code",
   "execution_count": 17,
   "id": "e29b77a7-94d8-4301-bfbb-1262c10089f9",
   "metadata": {},
   "outputs": [
    {
     "data": {
      "application/vnd.jupyter.widget-view+json": {
       "model_id": "be630b9383824a48b8e0be74d0e7a17d",
       "version_major": 2,
       "version_minor": 0
      },
      "text/plain": [
       "  0%|          | 0/38 [00:00<?, ?it/s]"
      ]
     },
     "metadata": {},
     "output_type": "display_data"
    },
    {
     "data": {
      "text/html": [
       "<div>\n",
       "<style scoped>\n",
       "    .dataframe tbody tr th:only-of-type {\n",
       "        vertical-align: middle;\n",
       "    }\n",
       "\n",
       "    .dataframe tbody tr th {\n",
       "        vertical-align: top;\n",
       "    }\n",
       "\n",
       "    .dataframe thead th {\n",
       "        text-align: right;\n",
       "    }\n",
       "</style>\n",
       "<table border=\"1\" class=\"dataframe\">\n",
       "  <thead>\n",
       "    <tr style=\"text-align: right;\">\n",
       "      <th></th>\n",
       "      <th>thresh</th>\n",
       "      <th>tp</th>\n",
       "      <th>tn</th>\n",
       "      <th>fp</th>\n",
       "      <th>fn</th>\n",
       "      <th>f1</th>\n",
       "    </tr>\n",
       "  </thead>\n",
       "  <tbody>\n",
       "    <tr>\n",
       "      <th>0</th>\n",
       "      <td>0.0</td>\n",
       "      <td>770</td>\n",
       "      <td>0</td>\n",
       "      <td>32830</td>\n",
       "      <td>0</td>\n",
       "      <td>0.044807</td>\n",
       "    </tr>\n",
       "    <tr>\n",
       "      <th>1</th>\n",
       "      <td>0.1</td>\n",
       "      <td>526</td>\n",
       "      <td>24822</td>\n",
       "      <td>8008</td>\n",
       "      <td>244</td>\n",
       "      <td>0.113070</td>\n",
       "    </tr>\n",
       "    <tr>\n",
       "      <th>2</th>\n",
       "      <td>0.2</td>\n",
       "      <td>326</td>\n",
       "      <td>32202</td>\n",
       "      <td>628</td>\n",
       "      <td>444</td>\n",
       "      <td>0.378190</td>\n",
       "    </tr>\n",
       "    <tr>\n",
       "      <th>3</th>\n",
       "      <td>0.3</td>\n",
       "      <td>219</td>\n",
       "      <td>32718</td>\n",
       "      <td>112</td>\n",
       "      <td>551</td>\n",
       "      <td>0.397820</td>\n",
       "    </tr>\n",
       "    <tr>\n",
       "      <th>4</th>\n",
       "      <td>0.4</td>\n",
       "      <td>154</td>\n",
       "      <td>32791</td>\n",
       "      <td>39</td>\n",
       "      <td>616</td>\n",
       "      <td>0.319834</td>\n",
       "    </tr>\n",
       "    <tr>\n",
       "      <th>5</th>\n",
       "      <td>0.5</td>\n",
       "      <td>116</td>\n",
       "      <td>32815</td>\n",
       "      <td>15</td>\n",
       "      <td>654</td>\n",
       "      <td>0.257492</td>\n",
       "    </tr>\n",
       "    <tr>\n",
       "      <th>6</th>\n",
       "      <td>0.6</td>\n",
       "      <td>91</td>\n",
       "      <td>32820</td>\n",
       "      <td>10</td>\n",
       "      <td>679</td>\n",
       "      <td>0.208955</td>\n",
       "    </tr>\n",
       "    <tr>\n",
       "      <th>7</th>\n",
       "      <td>0.7</td>\n",
       "      <td>60</td>\n",
       "      <td>32827</td>\n",
       "      <td>3</td>\n",
       "      <td>710</td>\n",
       "      <td>0.144058</td>\n",
       "    </tr>\n",
       "    <tr>\n",
       "      <th>8</th>\n",
       "      <td>0.8</td>\n",
       "      <td>38</td>\n",
       "      <td>32828</td>\n",
       "      <td>2</td>\n",
       "      <td>732</td>\n",
       "      <td>0.093827</td>\n",
       "    </tr>\n",
       "    <tr>\n",
       "      <th>9</th>\n",
       "      <td>0.9</td>\n",
       "      <td>21</td>\n",
       "      <td>32830</td>\n",
       "      <td>0</td>\n",
       "      <td>749</td>\n",
       "      <td>0.053097</td>\n",
       "    </tr>\n",
       "    <tr>\n",
       "      <th>10</th>\n",
       "      <td>1.0</td>\n",
       "      <td>0</td>\n",
       "      <td>32830</td>\n",
       "      <td>0</td>\n",
       "      <td>770</td>\n",
       "      <td>0.000000</td>\n",
       "    </tr>\n",
       "  </tbody>\n",
       "</table>\n",
       "</div>"
      ],
      "text/plain": [
       "    thresh   tp     tn     fp   fn        f1\n",
       "0      0.0  770      0  32830    0  0.044807\n",
       "1      0.1  526  24822   8008  244  0.113070\n",
       "2      0.2  326  32202    628  444  0.378190\n",
       "3      0.3  219  32718    112  551  0.397820\n",
       "4      0.4  154  32791     39  616  0.319834\n",
       "5      0.5  116  32815     15  654  0.257492\n",
       "6      0.6   91  32820     10  679  0.208955\n",
       "7      0.7   60  32827      3  710  0.144058\n",
       "8      0.8   38  32828      2  732  0.093827\n",
       "9      0.9   21  32830      0  749  0.053097\n",
       "10     1.0    0  32830      0  770  0.000000"
      ]
     },
     "execution_count": 17,
     "metadata": {},
     "output_type": "execute_result"
    }
   ],
   "source": [
    "lrn.evaluate()"
   ]
  },
  {
   "cell_type": "code",
   "execution_count": 51,
   "id": "124ac97b-22fd-4dd0-98ee-298aec8866d6",
   "metadata": {},
   "outputs": [
    {
     "data": {
      "text/plain": [
       "{'epoch': 14,\n",
       " 'valid_loss': 0.0097759227378686,\n",
       " 'valid_score': 0.33207547664642334}"
      ]
     },
     "execution_count": 51,
     "metadata": {},
     "output_type": "execute_result"
    }
   ],
   "source": [
    "lrn.load_checkpoint('latest')"
   ]
  },
  {
   "cell_type": "code",
   "execution_count": 52,
   "id": "e8ba5da1-eac8-4ef2-ade4-1917d891697a",
   "metadata": {},
   "outputs": [
    {
     "data": {
      "text/plain": [
       "{'T_max': 10,\n",
       " 'eta_min': 1e-05,\n",
       " 'base_lrs': [0.0001],\n",
       " 'last_epoch': 15,\n",
       " '_step_count': 16,\n",
       " 'verbose': False,\n",
       " '_get_lr_called_within_step': False,\n",
       " '_last_lr': [5.5000000000000205e-05]}"
      ]
     },
     "execution_count": 52,
     "metadata": {},
     "output_type": "execute_result"
    }
   ],
   "source": [
    "lrn.scheduler.state_dict()"
   ]
  },
  {
   "cell_type": "code",
   "execution_count": null,
   "id": "7eb8b135-e2a6-46f2-9fc0-a9cda49c03d1",
   "metadata": {},
   "outputs": [],
   "source": []
  },
  {
   "cell_type": "code",
   "execution_count": 53,
   "id": "052eaf07-46d0-4ece-a445-fa8e5b3876a9",
   "metadata": {},
   "outputs": [
    {
     "data": {
      "text/plain": [
       "<bound method Optimizer.state_dict of Adam (\n",
       "Parameter Group 0\n",
       "    amsgrad: False\n",
       "    betas: (0.9, 0.999)\n",
       "    eps: 1e-08\n",
       "    initial_lr: 0.0001\n",
       "    lr: 5.5000000000000205e-05\n",
       "    weight_decay: 0\n",
       ")>"
      ]
     },
     "execution_count": 53,
     "metadata": {},
     "output_type": "execute_result"
    }
   ],
   "source": [
    "lrn.optimizer.state_dict"
   ]
  },
  {
   "cell_type": "markdown",
   "id": "e8892a36-4cd8-4627-910c-8eb36f29cf7a",
   "metadata": {},
   "source": [
    "# hyperpar scan"
   ]
  },
  {
   "cell_type": "code",
   "execution_count": 90,
   "id": "d485559d-fc4c-4f74-ba45-725197cfd326",
   "metadata": {},
   "outputs": [],
   "source": [
    "\n",
    "def default_cfg():\n",
    "    return Config(\n",
    "        sites=['SSW'], \n",
    "        use_neptune=True, \n",
    "        n_epochs=30, \n",
    "        bs=32, \n",
    "        lr=1e-3,\n",
    "        model='resnest50-hyper-scan',\n",
    "        scheduler='torch.optim.lr_scheduler.CosineAnnealingLR',\n",
    "        loss_fn='lark.ops.FocalLoss',\n",
    "        use_pink_noise=0,\n",
    "        use_recorded_noise=False,\n",
    "        use_overlays=False,\n",
    "        apply_filter=0,\n",
    "    )\n",
    "\n",
    "\n",
    "par_dict = dict(\n",
    "    use_pink_noise=0.5,\n",
    "    use_recorded_noise=0.5,\n",
    "    use_overlays=True,\n",
    "    apply_filter=0.5,    \n",
    ")\n",
    "\n",
    "def apply_par(k):\n",
    "    cfg = default_cfg()\n",
    "    setattr(cfg, k, par_dict[k])\n",
    "    return cfg\n",
    "\n",
    "configs = [apply_par(k) for k in par_dict]\n",
    "    "
   ]
  },
  {
   "cell_type": "code",
   "execution_count": null,
   "id": "f3d9cd8b-6788-4f9f-bc2c-3d829647d881",
   "metadata": {},
   "outputs": [],
   "source": [
    "def make_model():\n",
    "    prep = MixedSig2Spec(cfg)\n",
    "    main_model = torch.hub.load('zhanghang1989/ResNeSt', 'resnest50', pretrained=True)\n",
    "    posp = torch.nn.Sequential(\n",
    "        torch.nn.Linear(in_features=2048, out_features=1024, bias=True),\n",
    "        torch.nn.Dropout(p=0.2),\n",
    "        torch.nn.ReLU(),\n",
    "        torch.nn.Linear(in_features=1024, out_features=512, bias=True),\n",
    "        torch.nn.Dropout(p=0.2),\n",
    "        torch.nn.ReLU(),\n",
    "        torch.nn.Linear(in_features=512, out_features=len(cfg.labels), bias=True),\n",
    "    )\n",
    "    main_model.fc = posp\n",
    "    model = torch.nn.Sequential(prep, main_model)\n",
    "    model = model.cuda()\n",
    "    return model\n"
   ]
  },
  {
   "cell_type": "code",
   "execution_count": 68,
   "id": "00cc8863-c387-4dcf-9dcb-c79d78d0b670",
   "metadata": {
    "tags": []
   },
   "outputs": [
    {
     "name": "stderr",
     "output_type": "stream",
     "text": [
      "Using cache found in /home/koen/.cache/torch/hub/zhanghang1989_ResNeSt_master\n"
     ]
    }
   ],
   "source": []
  },
  {
   "cell_type": "code",
   "execution_count": 69,
   "id": "77ef1bdd-e4e7-47e1-ad72-72ca39a3ef5e",
   "metadata": {},
   "outputs": [
    {
     "name": "stdout",
     "output_type": "stream",
     "text": [
      "resnest50-focal-loss-20210521-193723\n"
     ]
    }
   ],
   "source": [
    "for cfg in configs:\n",
    "    model = make_model()\n",
    "    lrn = Learner(\"resnest50-param-scan\", cfg, model)\n",
    "    lrn.learn()"
   ]
  }
 ],
 "metadata": {
  "kernelspec": {
   "display_name": "lark",
   "language": "python",
   "name": "lark"
  },
  "language_info": {
   "codemirror_mode": {
    "name": "ipython",
    "version": 3
   },
   "file_extension": ".py",
   "mimetype": "text/x-python",
   "name": "python",
   "nbconvert_exporter": "python",
   "pygments_lexer": "ipython3",
   "version": "3.8.8"
  }
 },
 "nbformat": 4,
 "nbformat_minor": 5
}
