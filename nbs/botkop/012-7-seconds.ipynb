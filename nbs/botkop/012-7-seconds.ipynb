{
 "cells": [
  {
   "cell_type": "code",
   "execution_count": 1,
   "id": "5faafb5a-e533-4e6d-96fe-2918a1310213",
   "metadata": {},
   "outputs": [],
   "source": [
    "%reload_ext autoreload\n",
    "%autoreload 2\n",
    "%matplotlib inline"
   ]
  },
  {
   "cell_type": "code",
   "execution_count": 2,
   "id": "0c7299e8-c05a-41ce-949c-7839df37d1f4",
   "metadata": {},
   "outputs": [
    {
     "name": "stdout",
     "output_type": "stream",
     "text": [
      "1.8.1\n",
      "0.8.0a0+e4e171a\n"
     ]
    }
   ],
   "source": [
    "import torch\n",
    "import torchaudio as ta\n",
    "import torchaudio.functional as taf\n",
    "import torchaudio.transforms as tat\n",
    "from torchvision import transforms\n",
    "\n",
    "print(torch.__version__)        \n",
    "print(ta.__version__)\n",
    "\n",
    "import matplotlib\n",
    "import matplotlib.pyplot as plt\n",
    "from IPython.display import Audio, display\n",
    "\n",
    "import pandas as pd\n",
    "import os\n",
    "import pprint\n",
    "\n",
    "from typing import *\n",
    "import itertools\n",
    "from collections import Counter\n",
    "\n",
    "import numpy as np\n",
    "from datetime import datetime\n",
    "from lark.config import Config\n",
    "from lark.learner import Learner\n",
    "from lark.ops import Sig2Spec, MixedSig2Spec\n",
    "from lark.data import *"
   ]
  },
  {
   "cell_type": "code",
   "execution_count": 3,
   "id": "fb11d388-7478-4192-b20d-041016784a6a",
   "metadata": {},
   "outputs": [
    {
     "data": {
      "text/plain": [
       "0"
      ]
     },
     "execution_count": 3,
     "metadata": {},
     "output_type": "execute_result"
    }
   ],
   "source": [
    "torch.cuda.set_device(0)\n",
    "torch.cuda.current_device()"
   ]
  },
  {
   "cell_type": "code",
   "execution_count": 4,
   "id": "168db299-813b-41d3-8f02-a4efa9a3f550",
   "metadata": {
    "tags": []
   },
   "outputs": [
    {
     "name": "stderr",
     "output_type": "stream",
     "text": [
      "Downloading: \"https://github.com/zhanghang1989/ResNeSt/archive/master.zip\" to /home/koen/.cache/torch/hub/master.zip\n"
     ]
    },
    {
     "data": {
      "text/plain": [
       "['resnest101',\n",
       " 'resnest200',\n",
       " 'resnest269',\n",
       " 'resnest50',\n",
       " 'resnest50_fast_1s1x64d',\n",
       " 'resnest50_fast_1s2x40d',\n",
       " 'resnest50_fast_1s4x24d',\n",
       " 'resnest50_fast_2s1x64d',\n",
       " 'resnest50_fast_2s2x40d',\n",
       " 'resnest50_fast_4s1x64d',\n",
       " 'resnest50_fast_4s2x40d']"
      ]
     },
     "execution_count": 4,
     "metadata": {},
     "output_type": "execute_result"
    }
   ],
   "source": [
    "# get list of models\n",
    "torch.hub.list('zhanghang1989/ResNeSt', force_reload=True)"
   ]
  },
  {
   "cell_type": "code",
   "execution_count": 5,
   "id": "97782497-35e0-41dc-86d5-945617a83816",
   "metadata": {},
   "outputs": [],
   "source": [
    "cfg = Config(\n",
    "    use_overlays=False,\n",
    "    noise_nsr_dbs = [30, 20, 10, 3],\n",
    "    sites=['SSW'], \n",
    "    use_neptune=True, \n",
    "    log_batch_metrics=True,\n",
    "    n_epochs=15, \n",
    "    bs=32, \n",
    "    lr=1e-3, \n",
    "    model='resnest50',\n",
    "    scheduler='torch.optim.lr_scheduler.CosineAnnealingLR'\n",
    ")"
   ]
  },
  {
   "cell_type": "code",
   "execution_count": 6,
   "id": "07735db6-76ec-4610-962b-51e7bc16141b",
   "metadata": {},
   "outputs": [
    {
     "data": {
      "text/plain": [
       "10752"
      ]
     },
     "execution_count": 6,
     "metadata": {},
     "output_type": "execute_result"
    }
   ],
   "source": [
    "cfg.training_dataset_size"
   ]
  },
  {
   "cell_type": "code",
   "execution_count": 7,
   "id": "1a67d3c8-4b33-439f-86a2-1fba51dee2ad",
   "metadata": {
    "tags": []
   },
   "outputs": [
    {
     "name": "stderr",
     "output_type": "stream",
     "text": [
      "Using cache found in /home/koen/.cache/torch/hub/zhanghang1989_ResNeSt_master\n"
     ]
    }
   ],
   "source": [
    "prep = MixedSig2Spec(cfg)\n",
    "main_model = torch.hub.load('zhanghang1989/ResNeSt', 'resnest50', pretrained=True)\n",
    "posp = torch.nn.Linear(in_features=2048, \n",
    "                       out_features=len(cfg.labels), bias=True)\n",
    "main_model.fc = posp\n",
    "model = torch.nn.Sequential(prep, main_model)\n",
    "model = model.cuda()"
   ]
  },
  {
   "cell_type": "code",
   "execution_count": 8,
   "id": "0827d54b-9100-4251-b6ce-4be9f561267d",
   "metadata": {},
   "outputs": [
    {
     "name": "stderr",
     "output_type": "stream",
     "text": [
      "/home/koen/projects/botkop/lark/nbs/botkop/lark/data.py:76: FutureWarning: The default value of regex will change from True to False in a future version.\n",
      "  self.df_meta['secondary_labels'] = self.df_meta['secondary_labels'].str.replace(\"[\\[\\]',]\", '').str.split()\n",
      "/home/koen/projects/botkop/lark/nbs/botkop/lark/data.py:77: FutureWarning: The default value of regex will change from True to False in a future version.\n",
      "  self.df_meta['filename'] = self.df_meta['filename'].str.replace(\".ogg\", '.wav')\n"
     ]
    }
   ],
   "source": [
    "lrn = Learner(\"resnest50-7-seconds\", cfg, model)"
   ]
  },
  {
   "cell_type": "code",
   "execution_count": 9,
   "id": "2a79314e-9fae-47e7-b3cc-f25cbffc6846",
   "metadata": {},
   "outputs": [
    {
     "name": "stderr",
     "output_type": "stream",
     "text": [
      "psutil is not installed. You will not be able to abort this experiment from the UI.\n",
      "psutil is not installed. Hardware metrics will not be collected.\n"
     ]
    },
    {
     "name": "stdout",
     "output_type": "stream",
     "text": [
      "https://ui.neptune.ai/botkop/lark/e/LAR-85\n"
     ]
    },
    {
     "data": {
      "application/vnd.jupyter.widget-view+json": {
       "model_id": "c0a1bff238ae47c0b63211c71aff0f16",
       "version_major": 2,
       "version_minor": 0
      },
      "text/plain": [
       "  0%|          | 0/15 [00:00<?, ?it/s]"
      ]
     },
     "metadata": {},
     "output_type": "display_data"
    },
    {
     "data": {
      "application/vnd.jupyter.widget-view+json": {
       "model_id": "",
       "version_major": 2,
       "version_minor": 0
      },
      "text/plain": [
       "  0%|          | 0/336 [00:00<?, ?it/s]"
      ]
     },
     "metadata": {},
     "output_type": "display_data"
    },
    {
     "data": {
      "application/vnd.jupyter.widget-view+json": {
       "model_id": "",
       "version_major": 2,
       "version_minor": 0
      },
      "text/plain": [
       "  0%|          | 0/38 [00:00<?, ?it/s]"
      ]
     },
     "metadata": {},
     "output_type": "display_data"
    },
    {
     "name": "stdout",
     "output_type": "stream",
     "text": [
      "2021-05-06 17:50:10 epoch:   1 train loss: 0.198970 train f1: 0.043453 valid loss: 0.134332 valid f1: 0.019680\n"
     ]
    },
    {
     "data": {
      "application/vnd.jupyter.widget-view+json": {
       "model_id": "",
       "version_major": 2,
       "version_minor": 0
      },
      "text/plain": [
       "  0%|          | 0/336 [00:00<?, ?it/s]"
      ]
     },
     "metadata": {},
     "output_type": "display_data"
    },
    {
     "name": "stdout",
     "output_type": "stream",
     "text": [
      "data/birdclef-2021/train_short_audio.wav/gockin/XC165209.wav does not exist\n",
      "data/birdclef-2021/train_short_audio.wav/gockin/XC165209.wav does not exist\n",
      "data/birdclef-2021/train_short_audio.wav/gockin/XC165209.wav does not exist\n",
      "data/birdclef-2021/train_short_audio.wav/gockin/XC165209.wav does not exist\n"
     ]
    },
    {
     "data": {
      "application/vnd.jupyter.widget-view+json": {
       "model_id": "",
       "version_major": 2,
       "version_minor": 0
      },
      "text/plain": [
       "  0%|          | 0/38 [00:00<?, ?it/s]"
      ]
     },
     "metadata": {},
     "output_type": "display_data"
    },
    {
     "name": "stdout",
     "output_type": "stream",
     "text": [
      "2021-05-06 17:52:39 epoch:   2 train loss: 0.163659 train f1: 0.239647 valid loss: 0.110021 valid f1: 0.109394\n"
     ]
    },
    {
     "data": {
      "application/vnd.jupyter.widget-view+json": {
       "model_id": "",
       "version_major": 2,
       "version_minor": 0
      },
      "text/plain": [
       "  0%|          | 0/336 [00:00<?, ?it/s]"
      ]
     },
     "metadata": {},
     "output_type": "display_data"
    },
    {
     "name": "stdout",
     "output_type": "stream",
     "text": [
      "data/birdclef-2021/train_short_audio.wav/gockin/XC165209.wav does not exist\n",
      "data/birdclef-2021/train_short_audio.wav/gockin/XC165209.wav does not exist\n"
     ]
    },
    {
     "data": {
      "application/vnd.jupyter.widget-view+json": {
       "model_id": "",
       "version_major": 2,
       "version_minor": 0
      },
      "text/plain": [
       "  0%|          | 0/38 [00:00<?, ?it/s]"
      ]
     },
     "metadata": {},
     "output_type": "display_data"
    },
    {
     "name": "stdout",
     "output_type": "stream",
     "text": [
      "2021-05-06 17:55:07 epoch:   3 train loss: 0.148647 train f1: 0.369070 valid loss: 0.099869 valid f1: 0.193476\n"
     ]
    },
    {
     "data": {
      "application/vnd.jupyter.widget-view+json": {
       "model_id": "",
       "version_major": 2,
       "version_minor": 0
      },
      "text/plain": [
       "  0%|          | 0/336 [00:00<?, ?it/s]"
      ]
     },
     "metadata": {},
     "output_type": "display_data"
    },
    {
     "name": "stdout",
     "output_type": "stream",
     "text": [
      "data/birdclef-2021/train_short_audio.wav/gockin/XC165209.wav does not exist\n",
      "data/birdclef-2021/train_short_audio.wav/gockin/XC165209.wav does not exist\n"
     ]
    },
    {
     "data": {
      "application/vnd.jupyter.widget-view+json": {
       "model_id": "",
       "version_major": 2,
       "version_minor": 0
      },
      "text/plain": [
       "  0%|          | 0/38 [00:00<?, ?it/s]"
      ]
     },
     "metadata": {},
     "output_type": "display_data"
    },
    {
     "name": "stdout",
     "output_type": "stream",
     "text": [
      "2021-05-06 17:57:36 epoch:   4 train loss: 0.138557 train f1: 0.439869 valid loss: 0.108314 valid f1: 0.224841\n"
     ]
    },
    {
     "data": {
      "application/vnd.jupyter.widget-view+json": {
       "model_id": "",
       "version_major": 2,
       "version_minor": 0
      },
      "text/plain": [
       "  0%|          | 0/336 [00:00<?, ?it/s]"
      ]
     },
     "metadata": {},
     "output_type": "display_data"
    },
    {
     "name": "stdout",
     "output_type": "stream",
     "text": [
      "data/birdclef-2021/train_short_audio.wav/gockin/XC165209.wav does not exist\n",
      "data/birdclef-2021/train_short_audio.wav/gockin/XC165209.wav does not exist\n"
     ]
    },
    {
     "data": {
      "application/vnd.jupyter.widget-view+json": {
       "model_id": "",
       "version_major": 2,
       "version_minor": 0
      },
      "text/plain": [
       "  0%|          | 0/38 [00:00<?, ?it/s]"
      ]
     },
     "metadata": {},
     "output_type": "display_data"
    },
    {
     "name": "stdout",
     "output_type": "stream",
     "text": [
      "2021-05-06 18:00:04 epoch:   5 train loss: 0.130819 train f1: 0.483215 valid loss: 0.167315 valid f1: 0.056497\n"
     ]
    },
    {
     "data": {
      "application/vnd.jupyter.widget-view+json": {
       "model_id": "",
       "version_major": 2,
       "version_minor": 0
      },
      "text/plain": [
       "  0%|          | 0/336 [00:00<?, ?it/s]"
      ]
     },
     "metadata": {},
     "output_type": "display_data"
    },
    {
     "data": {
      "application/vnd.jupyter.widget-view+json": {
       "model_id": "",
       "version_major": 2,
       "version_minor": 0
      },
      "text/plain": [
       "  0%|          | 0/38 [00:00<?, ?it/s]"
      ]
     },
     "metadata": {},
     "output_type": "display_data"
    },
    {
     "name": "stdout",
     "output_type": "stream",
     "text": [
      "2021-05-06 18:02:31 epoch:   6 train loss: 0.124409 train f1: 0.520831 valid loss: 0.102945 valid f1: 0.308308\n"
     ]
    },
    {
     "data": {
      "application/vnd.jupyter.widget-view+json": {
       "model_id": "",
       "version_major": 2,
       "version_minor": 0
      },
      "text/plain": [
       "  0%|          | 0/336 [00:00<?, ?it/s]"
      ]
     },
     "metadata": {},
     "output_type": "display_data"
    },
    {
     "name": "stdout",
     "output_type": "stream",
     "text": [
      "data/birdclef-2021/train_short_audio.wav/gockin/XC165209.wav does not exist\n",
      "data/birdclef-2021/train_short_audio.wav/gockin/XC165209.wav does not exist\n",
      "data/birdclef-2021/train_short_audio.wav/gockin/XC165209.wav does not exist\n"
     ]
    },
    {
     "data": {
      "application/vnd.jupyter.widget-view+json": {
       "model_id": "",
       "version_major": 2,
       "version_minor": 0
      },
      "text/plain": [
       "  0%|          | 0/38 [00:00<?, ?it/s]"
      ]
     },
     "metadata": {},
     "output_type": "display_data"
    },
    {
     "name": "stdout",
     "output_type": "stream",
     "text": [
      "2021-05-06 18:04:59 epoch:   7 train loss: 0.123374 train f1: 0.529598 valid loss: 0.105211 valid f1: 0.184352\n"
     ]
    },
    {
     "data": {
      "application/vnd.jupyter.widget-view+json": {
       "model_id": "",
       "version_major": 2,
       "version_minor": 0
      },
      "text/plain": [
       "  0%|          | 0/336 [00:00<?, ?it/s]"
      ]
     },
     "metadata": {},
     "output_type": "display_data"
    },
    {
     "name": "stdout",
     "output_type": "stream",
     "text": [
      "data/birdclef-2021/train_short_audio.wav/gockin/XC165209.wav does not exist\n",
      "data/birdclef-2021/train_short_audio.wav/gockin/XC165209.wav does not exist\n"
     ]
    },
    {
     "data": {
      "application/vnd.jupyter.widget-view+json": {
       "model_id": "",
       "version_major": 2,
       "version_minor": 0
      },
      "text/plain": [
       "  0%|          | 0/38 [00:00<?, ?it/s]"
      ]
     },
     "metadata": {},
     "output_type": "display_data"
    },
    {
     "name": "stdout",
     "output_type": "stream",
     "text": [
      "2021-05-06 18:07:27 epoch:   8 train loss: 0.119652 train f1: 0.548595 valid loss: 0.104770 valid f1: 0.317073\n"
     ]
    },
    {
     "data": {
      "application/vnd.jupyter.widget-view+json": {
       "model_id": "",
       "version_major": 2,
       "version_minor": 0
      },
      "text/plain": [
       "  0%|          | 0/336 [00:00<?, ?it/s]"
      ]
     },
     "metadata": {},
     "output_type": "display_data"
    },
    {
     "name": "stdout",
     "output_type": "stream",
     "text": [
      "data/birdclef-2021/train_short_audio.wav/gockin/XC165209.wav does not exist\n",
      "data/birdclef-2021/train_short_audio.wav/gockin/XC165209.wav does not exist\n"
     ]
    },
    {
     "data": {
      "application/vnd.jupyter.widget-view+json": {
       "model_id": "",
       "version_major": 2,
       "version_minor": 0
      },
      "text/plain": [
       "  0%|          | 0/38 [00:00<?, ?it/s]"
      ]
     },
     "metadata": {},
     "output_type": "display_data"
    },
    {
     "name": "stdout",
     "output_type": "stream",
     "text": [
      "2021-05-06 18:09:55 epoch:   9 train loss: 0.117173 train f1: 0.560177 valid loss: 0.097217 valid f1: 0.313230\n"
     ]
    },
    {
     "data": {
      "application/vnd.jupyter.widget-view+json": {
       "model_id": "",
       "version_major": 2,
       "version_minor": 0
      },
      "text/plain": [
       "  0%|          | 0/336 [00:00<?, ?it/s]"
      ]
     },
     "metadata": {},
     "output_type": "display_data"
    },
    {
     "name": "stdout",
     "output_type": "stream",
     "text": [
      "data/birdclef-2021/train_short_audio.wav/gockin/XC165209.wav does not exist\n",
      "data/birdclef-2021/train_short_audio.wav/gockin/XC165209.wav does not exist\n"
     ]
    },
    {
     "data": {
      "application/vnd.jupyter.widget-view+json": {
       "model_id": "",
       "version_major": 2,
       "version_minor": 0
      },
      "text/plain": [
       "  0%|          | 0/38 [00:00<?, ?it/s]"
      ]
     },
     "metadata": {},
     "output_type": "display_data"
    },
    {
     "name": "stdout",
     "output_type": "stream",
     "text": [
      "2021-05-06 18:12:24 epoch:  10 train loss: 0.113832 train f1: 0.575690 valid loss: 0.095212 valid f1: 0.284519\n"
     ]
    },
    {
     "data": {
      "application/vnd.jupyter.widget-view+json": {
       "model_id": "",
       "version_major": 2,
       "version_minor": 0
      },
      "text/plain": [
       "  0%|          | 0/336 [00:00<?, ?it/s]"
      ]
     },
     "metadata": {},
     "output_type": "display_data"
    },
    {
     "name": "stdout",
     "output_type": "stream",
     "text": [
      "data/birdclef-2021/train_short_audio.wav/gockin/XC165209.wav does not exist\n",
      "data/birdclef-2021/train_short_audio.wav/gockin/XC165209.wav does not exist\n"
     ]
    },
    {
     "data": {
      "application/vnd.jupyter.widget-view+json": {
       "model_id": "",
       "version_major": 2,
       "version_minor": 0
      },
      "text/plain": [
       "  0%|          | 0/38 [00:00<?, ?it/s]"
      ]
     },
     "metadata": {},
     "output_type": "display_data"
    },
    {
     "name": "stdout",
     "output_type": "stream",
     "text": [
      "2021-05-06 18:14:52 epoch:  11 train loss: 0.113021 train f1: 0.576952 valid loss: 0.108892 valid f1: 0.272727\n"
     ]
    },
    {
     "data": {
      "application/vnd.jupyter.widget-view+json": {
       "model_id": "",
       "version_major": 2,
       "version_minor": 0
      },
      "text/plain": [
       "  0%|          | 0/336 [00:00<?, ?it/s]"
      ]
     },
     "metadata": {},
     "output_type": "display_data"
    },
    {
     "name": "stdout",
     "output_type": "stream",
     "text": [
      "data/birdclef-2021/train_short_audio.wav/gockin/XC165209.wav does not exist\n"
     ]
    },
    {
     "data": {
      "application/vnd.jupyter.widget-view+json": {
       "model_id": "",
       "version_major": 2,
       "version_minor": 0
      },
      "text/plain": [
       "  0%|          | 0/38 [00:00<?, ?it/s]"
      ]
     },
     "metadata": {},
     "output_type": "display_data"
    },
    {
     "name": "stdout",
     "output_type": "stream",
     "text": [
      "2021-05-06 18:17:20 epoch:  12 train loss: 0.110534 train f1: 0.591062 valid loss: 0.100805 valid f1: 0.269531\n"
     ]
    },
    {
     "data": {
      "application/vnd.jupyter.widget-view+json": {
       "model_id": "",
       "version_major": 2,
       "version_minor": 0
      },
      "text/plain": [
       "  0%|          | 0/336 [00:00<?, ?it/s]"
      ]
     },
     "metadata": {},
     "output_type": "display_data"
    },
    {
     "name": "stdout",
     "output_type": "stream",
     "text": [
      "data/birdclef-2021/train_short_audio.wav/gockin/XC165209.wav does not exist\n",
      "data/birdclef-2021/train_short_audio.wav/gockin/XC165209.wav does not exist\n",
      "data/birdclef-2021/train_short_audio.wav/gockin/XC165209.wav does not exist\n",
      "data/birdclef-2021/train_short_audio.wav/gockin/XC165209.wav does not exist\n"
     ]
    },
    {
     "data": {
      "application/vnd.jupyter.widget-view+json": {
       "model_id": "",
       "version_major": 2,
       "version_minor": 0
      },
      "text/plain": [
       "  0%|          | 0/38 [00:00<?, ?it/s]"
      ]
     },
     "metadata": {},
     "output_type": "display_data"
    },
    {
     "name": "stdout",
     "output_type": "stream",
     "text": [
      "2021-05-06 18:19:48 epoch:  13 train loss: 0.107506 train f1: 0.602681 valid loss: 0.106032 valid f1: 0.252133\n"
     ]
    },
    {
     "data": {
      "application/vnd.jupyter.widget-view+json": {
       "model_id": "",
       "version_major": 2,
       "version_minor": 0
      },
      "text/plain": [
       "  0%|          | 0/336 [00:00<?, ?it/s]"
      ]
     },
     "metadata": {},
     "output_type": "display_data"
    },
    {
     "name": "stdout",
     "output_type": "stream",
     "text": [
      "data/birdclef-2021/train_short_audio.wav/gockin/XC165209.wav does not exist\n",
      "data/birdclef-2021/train_short_audio.wav/gockin/XC165209.wav does not exist\n",
      "data/birdclef-2021/train_short_audio.wav/gockin/XC165209.wav does not exist\n",
      "data/birdclef-2021/train_short_audio.wav/gockin/XC165209.wav does not exist\n"
     ]
    },
    {
     "data": {
      "application/vnd.jupyter.widget-view+json": {
       "model_id": "",
       "version_major": 2,
       "version_minor": 0
      },
      "text/plain": [
       "  0%|          | 0/38 [00:00<?, ?it/s]"
      ]
     },
     "metadata": {},
     "output_type": "display_data"
    },
    {
     "name": "stdout",
     "output_type": "stream",
     "text": [
      "2021-05-06 18:22:15 epoch:  14 train loss: 0.106416 train f1: 0.609908 valid loss: 0.115179 valid f1: 0.226168\n"
     ]
    },
    {
     "data": {
      "application/vnd.jupyter.widget-view+json": {
       "model_id": "",
       "version_major": 2,
       "version_minor": 0
      },
      "text/plain": [
       "  0%|          | 0/336 [00:00<?, ?it/s]"
      ]
     },
     "metadata": {},
     "output_type": "display_data"
    },
    {
     "name": "stdout",
     "output_type": "stream",
     "text": [
      "data/birdclef-2021/train_short_audio.wav/gockin/XC165209.wav does not exist\n",
      "data/birdclef-2021/train_short_audio.wav/gockin/XC165209.wav does not exist\n",
      "data/birdclef-2021/train_short_audio.wav/gockin/XC165209.wav does not exist\n",
      "data/birdclef-2021/train_short_audio.wav/gockin/XC165209.wav does not exist\n"
     ]
    },
    {
     "data": {
      "application/vnd.jupyter.widget-view+json": {
       "model_id": "",
       "version_major": 2,
       "version_minor": 0
      },
      "text/plain": [
       "  0%|          | 0/38 [00:00<?, ?it/s]"
      ]
     },
     "metadata": {},
     "output_type": "display_data"
    },
    {
     "name": "stdout",
     "output_type": "stream",
     "text": [
      "2021-05-06 18:24:43 epoch:  15 train loss: 0.102735 train f1: 0.623846 valid loss: 0.101847 valid f1: 0.276954\n"
     ]
    }
   ],
   "source": [
    "lrn.learn()"
   ]
  }
 ],
 "metadata": {
  "kernelspec": {
   "display_name": "lark",
   "language": "python",
   "name": "lark"
  },
  "language_info": {
   "codemirror_mode": {
    "name": "ipython",
    "version": 3
   },
   "file_extension": ".py",
   "mimetype": "text/x-python",
   "name": "python",
   "nbconvert_exporter": "python",
   "pygments_lexer": "ipython3",
   "version": "3.8.8"
  }
 },
 "nbformat": 4,
 "nbformat_minor": 5
}
