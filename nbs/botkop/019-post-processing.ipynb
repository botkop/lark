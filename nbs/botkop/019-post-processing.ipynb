{
 "cells": [
  {
   "cell_type": "code",
   "execution_count": 1,
   "id": "4f48d055-e268-4f98-b666-cb2bb86adfea",
   "metadata": {},
   "outputs": [],
   "source": [
    "%reload_ext autoreload\n",
    "%autoreload 2\n",
    "%matplotlib inline"
   ]
  },
  {
   "cell_type": "code",
   "execution_count": 251,
   "id": "25b13303-1fe4-4c78-a36f-61489a41e576",
   "metadata": {},
   "outputs": [
    {
     "name": "stdout",
     "output_type": "stream",
     "text": [
      "1.8.1\n",
      "0.8.0a0+e4e171a\n"
     ]
    }
   ],
   "source": [
    "import torch\n",
    "import torchaudio as ta\n",
    "import torchaudio.functional as taf\n",
    "import torchaudio.transforms as tat\n",
    "from torchvision import transforms\n",
    "from torch.nn.parallel import DistributedDataParallel, DataParallel\n",
    "\n",
    "\n",
    "print(torch.__version__)        \n",
    "print(ta.__version__)\n",
    "\n",
    "import matplotlib\n",
    "import matplotlib.pyplot as plt\n",
    "from IPython.display import Audio, display\n",
    "\n",
    "import pandas as pd\n",
    "import os\n",
    "import pprint\n",
    "\n",
    "from typing import *\n",
    "import itertools\n",
    "from collections import Counter\n",
    "import timm\n",
    "\n",
    "import numpy as np\n",
    "from datetime import datetime\n",
    "from lark.config import Config\n",
    "from lark.learner import Learner\n",
    "from lark.ops import Sig2Spec, MixedSig2Spec\n",
    "\n",
    "from tqdm import tqdm\n",
    "from lark.ops import f1\n",
    "\n"
   ]
  },
  {
   "cell_type": "code",
   "execution_count": 3,
   "id": "6ebb3ca9-1c95-40c9-9c95-9d71e18e4e9d",
   "metadata": {},
   "outputs": [],
   "source": [
    "rank = 0"
   ]
  },
  {
   "cell_type": "code",
   "execution_count": 4,
   "id": "dbd1bd58-a004-4812-beae-7231aa795bca",
   "metadata": {},
   "outputs": [],
   "source": [
    "cfg = Config(\n",
    "        sites=['COR', 'SSW'],\n",
    "        use_neptune=True,\n",
    "        n_epochs=10,\n",
    "        bs=64,\n",
    "        n_samples_per_label=2000,\n",
    "        lr=1e-3,\n",
    "        model='tf_efficientnet_b0_ns',\n",
    "        scheduler='torch.optim.lr_scheduler.CosineAnnealingLR',\n",
    "        loss_fn='lark.ops.SigmoidFocalLossStar',\n",
    "        use_pink_noise=0.1,\n",
    "        use_recorded_noise=0.2,\n",
    "        use_overlays=True,\n",
    "        apply_filter=0.1,\n",
    "        seed=231,\n",
    "        n_workers=6,\n",
    "    )"
   ]
  },
  {
   "cell_type": "code",
   "execution_count": 27,
   "id": "a0fd1b8f-4818-4923-ab70-daa1be974d9c",
   "metadata": {},
   "outputs": [],
   "source": [
    "\n",
    "prep = MixedSig2Spec(cfg, rank)\n",
    "main_model = timm.create_model('tf_efficientnet_b0_ns', pretrained=True)\n",
    "main_model.classifier = torch.nn.Linear(in_features=1280, out_features=len(cfg.labels), bias=True)\n",
    "model = torch.nn.Sequential(prep, main_model)\n",
    "ddp_model = DataParallel(model, device_ids=[rank])"
   ]
  },
  {
   "cell_type": "code",
   "execution_count": 29,
   "id": "70709b1b-fecc-4dc8-9b75-ce6c347b9dc0",
   "metadata": {},
   "outputs": [
    {
     "name": "stdout",
     "output_type": "stream",
     "text": [
      "tf_efficientnet_b0_ns-20210604-054722:0\n"
     ]
    }
   ],
   "source": [
    "lrn = Learner(\"tf_efficientnet_b0_ns\", cfg, rank, ddp_model)"
   ]
  },
  {
   "cell_type": "code",
   "execution_count": 30,
   "id": "1cdeca6d-899b-4cb5-91d7-ad6035b17817",
   "metadata": {
    "collapsed": true,
    "jupyter": {
     "outputs_hidden": true
    },
    "tags": []
   },
   "outputs": [
    {
     "data": {
      "text/plain": [
       "odict_keys(['module.1.conv_stem.weight', 'module.1.bn1.weight', 'module.1.bn1.bias', 'module.1.bn1.running_mean', 'module.1.bn1.running_var', 'module.1.bn1.num_batches_tracked', 'module.1.blocks.0.0.conv_dw.weight', 'module.1.blocks.0.0.bn1.weight', 'module.1.blocks.0.0.bn1.bias', 'module.1.blocks.0.0.bn1.running_mean', 'module.1.blocks.0.0.bn1.running_var', 'module.1.blocks.0.0.bn1.num_batches_tracked', 'module.1.blocks.0.0.se.conv_reduce.weight', 'module.1.blocks.0.0.se.conv_reduce.bias', 'module.1.blocks.0.0.se.conv_expand.weight', 'module.1.blocks.0.0.se.conv_expand.bias', 'module.1.blocks.0.0.conv_pw.weight', 'module.1.blocks.0.0.bn2.weight', 'module.1.blocks.0.0.bn2.bias', 'module.1.blocks.0.0.bn2.running_mean', 'module.1.blocks.0.0.bn2.running_var', 'module.1.blocks.0.0.bn2.num_batches_tracked', 'module.1.blocks.1.0.conv_pw.weight', 'module.1.blocks.1.0.bn1.weight', 'module.1.blocks.1.0.bn1.bias', 'module.1.blocks.1.0.bn1.running_mean', 'module.1.blocks.1.0.bn1.running_var', 'module.1.blocks.1.0.bn1.num_batches_tracked', 'module.1.blocks.1.0.conv_dw.weight', 'module.1.blocks.1.0.bn2.weight', 'module.1.blocks.1.0.bn2.bias', 'module.1.blocks.1.0.bn2.running_mean', 'module.1.blocks.1.0.bn2.running_var', 'module.1.blocks.1.0.bn2.num_batches_tracked', 'module.1.blocks.1.0.se.conv_reduce.weight', 'module.1.blocks.1.0.se.conv_reduce.bias', 'module.1.blocks.1.0.se.conv_expand.weight', 'module.1.blocks.1.0.se.conv_expand.bias', 'module.1.blocks.1.0.conv_pwl.weight', 'module.1.blocks.1.0.bn3.weight', 'module.1.blocks.1.0.bn3.bias', 'module.1.blocks.1.0.bn3.running_mean', 'module.1.blocks.1.0.bn3.running_var', 'module.1.blocks.1.0.bn3.num_batches_tracked', 'module.1.blocks.1.1.conv_pw.weight', 'module.1.blocks.1.1.bn1.weight', 'module.1.blocks.1.1.bn1.bias', 'module.1.blocks.1.1.bn1.running_mean', 'module.1.blocks.1.1.bn1.running_var', 'module.1.blocks.1.1.bn1.num_batches_tracked', 'module.1.blocks.1.1.conv_dw.weight', 'module.1.blocks.1.1.bn2.weight', 'module.1.blocks.1.1.bn2.bias', 'module.1.blocks.1.1.bn2.running_mean', 'module.1.blocks.1.1.bn2.running_var', 'module.1.blocks.1.1.bn2.num_batches_tracked', 'module.1.blocks.1.1.se.conv_reduce.weight', 'module.1.blocks.1.1.se.conv_reduce.bias', 'module.1.blocks.1.1.se.conv_expand.weight', 'module.1.blocks.1.1.se.conv_expand.bias', 'module.1.blocks.1.1.conv_pwl.weight', 'module.1.blocks.1.1.bn3.weight', 'module.1.blocks.1.1.bn3.bias', 'module.1.blocks.1.1.bn3.running_mean', 'module.1.blocks.1.1.bn3.running_var', 'module.1.blocks.1.1.bn3.num_batches_tracked', 'module.1.blocks.2.0.conv_pw.weight', 'module.1.blocks.2.0.bn1.weight', 'module.1.blocks.2.0.bn1.bias', 'module.1.blocks.2.0.bn1.running_mean', 'module.1.blocks.2.0.bn1.running_var', 'module.1.blocks.2.0.bn1.num_batches_tracked', 'module.1.blocks.2.0.conv_dw.weight', 'module.1.blocks.2.0.bn2.weight', 'module.1.blocks.2.0.bn2.bias', 'module.1.blocks.2.0.bn2.running_mean', 'module.1.blocks.2.0.bn2.running_var', 'module.1.blocks.2.0.bn2.num_batches_tracked', 'module.1.blocks.2.0.se.conv_reduce.weight', 'module.1.blocks.2.0.se.conv_reduce.bias', 'module.1.blocks.2.0.se.conv_expand.weight', 'module.1.blocks.2.0.se.conv_expand.bias', 'module.1.blocks.2.0.conv_pwl.weight', 'module.1.blocks.2.0.bn3.weight', 'module.1.blocks.2.0.bn3.bias', 'module.1.blocks.2.0.bn3.running_mean', 'module.1.blocks.2.0.bn3.running_var', 'module.1.blocks.2.0.bn3.num_batches_tracked', 'module.1.blocks.2.1.conv_pw.weight', 'module.1.blocks.2.1.bn1.weight', 'module.1.blocks.2.1.bn1.bias', 'module.1.blocks.2.1.bn1.running_mean', 'module.1.blocks.2.1.bn1.running_var', 'module.1.blocks.2.1.bn1.num_batches_tracked', 'module.1.blocks.2.1.conv_dw.weight', 'module.1.blocks.2.1.bn2.weight', 'module.1.blocks.2.1.bn2.bias', 'module.1.blocks.2.1.bn2.running_mean', 'module.1.blocks.2.1.bn2.running_var', 'module.1.blocks.2.1.bn2.num_batches_tracked', 'module.1.blocks.2.1.se.conv_reduce.weight', 'module.1.blocks.2.1.se.conv_reduce.bias', 'module.1.blocks.2.1.se.conv_expand.weight', 'module.1.blocks.2.1.se.conv_expand.bias', 'module.1.blocks.2.1.conv_pwl.weight', 'module.1.blocks.2.1.bn3.weight', 'module.1.blocks.2.1.bn3.bias', 'module.1.blocks.2.1.bn3.running_mean', 'module.1.blocks.2.1.bn3.running_var', 'module.1.blocks.2.1.bn3.num_batches_tracked', 'module.1.blocks.3.0.conv_pw.weight', 'module.1.blocks.3.0.bn1.weight', 'module.1.blocks.3.0.bn1.bias', 'module.1.blocks.3.0.bn1.running_mean', 'module.1.blocks.3.0.bn1.running_var', 'module.1.blocks.3.0.bn1.num_batches_tracked', 'module.1.blocks.3.0.conv_dw.weight', 'module.1.blocks.3.0.bn2.weight', 'module.1.blocks.3.0.bn2.bias', 'module.1.blocks.3.0.bn2.running_mean', 'module.1.blocks.3.0.bn2.running_var', 'module.1.blocks.3.0.bn2.num_batches_tracked', 'module.1.blocks.3.0.se.conv_reduce.weight', 'module.1.blocks.3.0.se.conv_reduce.bias', 'module.1.blocks.3.0.se.conv_expand.weight', 'module.1.blocks.3.0.se.conv_expand.bias', 'module.1.blocks.3.0.conv_pwl.weight', 'module.1.blocks.3.0.bn3.weight', 'module.1.blocks.3.0.bn3.bias', 'module.1.blocks.3.0.bn3.running_mean', 'module.1.blocks.3.0.bn3.running_var', 'module.1.blocks.3.0.bn3.num_batches_tracked', 'module.1.blocks.3.1.conv_pw.weight', 'module.1.blocks.3.1.bn1.weight', 'module.1.blocks.3.1.bn1.bias', 'module.1.blocks.3.1.bn1.running_mean', 'module.1.blocks.3.1.bn1.running_var', 'module.1.blocks.3.1.bn1.num_batches_tracked', 'module.1.blocks.3.1.conv_dw.weight', 'module.1.blocks.3.1.bn2.weight', 'module.1.blocks.3.1.bn2.bias', 'module.1.blocks.3.1.bn2.running_mean', 'module.1.blocks.3.1.bn2.running_var', 'module.1.blocks.3.1.bn2.num_batches_tracked', 'module.1.blocks.3.1.se.conv_reduce.weight', 'module.1.blocks.3.1.se.conv_reduce.bias', 'module.1.blocks.3.1.se.conv_expand.weight', 'module.1.blocks.3.1.se.conv_expand.bias', 'module.1.blocks.3.1.conv_pwl.weight', 'module.1.blocks.3.1.bn3.weight', 'module.1.blocks.3.1.bn3.bias', 'module.1.blocks.3.1.bn3.running_mean', 'module.1.blocks.3.1.bn3.running_var', 'module.1.blocks.3.1.bn3.num_batches_tracked', 'module.1.blocks.3.2.conv_pw.weight', 'module.1.blocks.3.2.bn1.weight', 'module.1.blocks.3.2.bn1.bias', 'module.1.blocks.3.2.bn1.running_mean', 'module.1.blocks.3.2.bn1.running_var', 'module.1.blocks.3.2.bn1.num_batches_tracked', 'module.1.blocks.3.2.conv_dw.weight', 'module.1.blocks.3.2.bn2.weight', 'module.1.blocks.3.2.bn2.bias', 'module.1.blocks.3.2.bn2.running_mean', 'module.1.blocks.3.2.bn2.running_var', 'module.1.blocks.3.2.bn2.num_batches_tracked', 'module.1.blocks.3.2.se.conv_reduce.weight', 'module.1.blocks.3.2.se.conv_reduce.bias', 'module.1.blocks.3.2.se.conv_expand.weight', 'module.1.blocks.3.2.se.conv_expand.bias', 'module.1.blocks.3.2.conv_pwl.weight', 'module.1.blocks.3.2.bn3.weight', 'module.1.blocks.3.2.bn3.bias', 'module.1.blocks.3.2.bn3.running_mean', 'module.1.blocks.3.2.bn3.running_var', 'module.1.blocks.3.2.bn3.num_batches_tracked', 'module.1.blocks.4.0.conv_pw.weight', 'module.1.blocks.4.0.bn1.weight', 'module.1.blocks.4.0.bn1.bias', 'module.1.blocks.4.0.bn1.running_mean', 'module.1.blocks.4.0.bn1.running_var', 'module.1.blocks.4.0.bn1.num_batches_tracked', 'module.1.blocks.4.0.conv_dw.weight', 'module.1.blocks.4.0.bn2.weight', 'module.1.blocks.4.0.bn2.bias', 'module.1.blocks.4.0.bn2.running_mean', 'module.1.blocks.4.0.bn2.running_var', 'module.1.blocks.4.0.bn2.num_batches_tracked', 'module.1.blocks.4.0.se.conv_reduce.weight', 'module.1.blocks.4.0.se.conv_reduce.bias', 'module.1.blocks.4.0.se.conv_expand.weight', 'module.1.blocks.4.0.se.conv_expand.bias', 'module.1.blocks.4.0.conv_pwl.weight', 'module.1.blocks.4.0.bn3.weight', 'module.1.blocks.4.0.bn3.bias', 'module.1.blocks.4.0.bn3.running_mean', 'module.1.blocks.4.0.bn3.running_var', 'module.1.blocks.4.0.bn3.num_batches_tracked', 'module.1.blocks.4.1.conv_pw.weight', 'module.1.blocks.4.1.bn1.weight', 'module.1.blocks.4.1.bn1.bias', 'module.1.blocks.4.1.bn1.running_mean', 'module.1.blocks.4.1.bn1.running_var', 'module.1.blocks.4.1.bn1.num_batches_tracked', 'module.1.blocks.4.1.conv_dw.weight', 'module.1.blocks.4.1.bn2.weight', 'module.1.blocks.4.1.bn2.bias', 'module.1.blocks.4.1.bn2.running_mean', 'module.1.blocks.4.1.bn2.running_var', 'module.1.blocks.4.1.bn2.num_batches_tracked', 'module.1.blocks.4.1.se.conv_reduce.weight', 'module.1.blocks.4.1.se.conv_reduce.bias', 'module.1.blocks.4.1.se.conv_expand.weight', 'module.1.blocks.4.1.se.conv_expand.bias', 'module.1.blocks.4.1.conv_pwl.weight', 'module.1.blocks.4.1.bn3.weight', 'module.1.blocks.4.1.bn3.bias', 'module.1.blocks.4.1.bn3.running_mean', 'module.1.blocks.4.1.bn3.running_var', 'module.1.blocks.4.1.bn3.num_batches_tracked', 'module.1.blocks.4.2.conv_pw.weight', 'module.1.blocks.4.2.bn1.weight', 'module.1.blocks.4.2.bn1.bias', 'module.1.blocks.4.2.bn1.running_mean', 'module.1.blocks.4.2.bn1.running_var', 'module.1.blocks.4.2.bn1.num_batches_tracked', 'module.1.blocks.4.2.conv_dw.weight', 'module.1.blocks.4.2.bn2.weight', 'module.1.blocks.4.2.bn2.bias', 'module.1.blocks.4.2.bn2.running_mean', 'module.1.blocks.4.2.bn2.running_var', 'module.1.blocks.4.2.bn2.num_batches_tracked', 'module.1.blocks.4.2.se.conv_reduce.weight', 'module.1.blocks.4.2.se.conv_reduce.bias', 'module.1.blocks.4.2.se.conv_expand.weight', 'module.1.blocks.4.2.se.conv_expand.bias', 'module.1.blocks.4.2.conv_pwl.weight', 'module.1.blocks.4.2.bn3.weight', 'module.1.blocks.4.2.bn3.bias', 'module.1.blocks.4.2.bn3.running_mean', 'module.1.blocks.4.2.bn3.running_var', 'module.1.blocks.4.2.bn3.num_batches_tracked', 'module.1.blocks.5.0.conv_pw.weight', 'module.1.blocks.5.0.bn1.weight', 'module.1.blocks.5.0.bn1.bias', 'module.1.blocks.5.0.bn1.running_mean', 'module.1.blocks.5.0.bn1.running_var', 'module.1.blocks.5.0.bn1.num_batches_tracked', 'module.1.blocks.5.0.conv_dw.weight', 'module.1.blocks.5.0.bn2.weight', 'module.1.blocks.5.0.bn2.bias', 'module.1.blocks.5.0.bn2.running_mean', 'module.1.blocks.5.0.bn2.running_var', 'module.1.blocks.5.0.bn2.num_batches_tracked', 'module.1.blocks.5.0.se.conv_reduce.weight', 'module.1.blocks.5.0.se.conv_reduce.bias', 'module.1.blocks.5.0.se.conv_expand.weight', 'module.1.blocks.5.0.se.conv_expand.bias', 'module.1.blocks.5.0.conv_pwl.weight', 'module.1.blocks.5.0.bn3.weight', 'module.1.blocks.5.0.bn3.bias', 'module.1.blocks.5.0.bn3.running_mean', 'module.1.blocks.5.0.bn3.running_var', 'module.1.blocks.5.0.bn3.num_batches_tracked', 'module.1.blocks.5.1.conv_pw.weight', 'module.1.blocks.5.1.bn1.weight', 'module.1.blocks.5.1.bn1.bias', 'module.1.blocks.5.1.bn1.running_mean', 'module.1.blocks.5.1.bn1.running_var', 'module.1.blocks.5.1.bn1.num_batches_tracked', 'module.1.blocks.5.1.conv_dw.weight', 'module.1.blocks.5.1.bn2.weight', 'module.1.blocks.5.1.bn2.bias', 'module.1.blocks.5.1.bn2.running_mean', 'module.1.blocks.5.1.bn2.running_var', 'module.1.blocks.5.1.bn2.num_batches_tracked', 'module.1.blocks.5.1.se.conv_reduce.weight', 'module.1.blocks.5.1.se.conv_reduce.bias', 'module.1.blocks.5.1.se.conv_expand.weight', 'module.1.blocks.5.1.se.conv_expand.bias', 'module.1.blocks.5.1.conv_pwl.weight', 'module.1.blocks.5.1.bn3.weight', 'module.1.blocks.5.1.bn3.bias', 'module.1.blocks.5.1.bn3.running_mean', 'module.1.blocks.5.1.bn3.running_var', 'module.1.blocks.5.1.bn3.num_batches_tracked', 'module.1.blocks.5.2.conv_pw.weight', 'module.1.blocks.5.2.bn1.weight', 'module.1.blocks.5.2.bn1.bias', 'module.1.blocks.5.2.bn1.running_mean', 'module.1.blocks.5.2.bn1.running_var', 'module.1.blocks.5.2.bn1.num_batches_tracked', 'module.1.blocks.5.2.conv_dw.weight', 'module.1.blocks.5.2.bn2.weight', 'module.1.blocks.5.2.bn2.bias', 'module.1.blocks.5.2.bn2.running_mean', 'module.1.blocks.5.2.bn2.running_var', 'module.1.blocks.5.2.bn2.num_batches_tracked', 'module.1.blocks.5.2.se.conv_reduce.weight', 'module.1.blocks.5.2.se.conv_reduce.bias', 'module.1.blocks.5.2.se.conv_expand.weight', 'module.1.blocks.5.2.se.conv_expand.bias', 'module.1.blocks.5.2.conv_pwl.weight', 'module.1.blocks.5.2.bn3.weight', 'module.1.blocks.5.2.bn3.bias', 'module.1.blocks.5.2.bn3.running_mean', 'module.1.blocks.5.2.bn3.running_var', 'module.1.blocks.5.2.bn3.num_batches_tracked', 'module.1.blocks.5.3.conv_pw.weight', 'module.1.blocks.5.3.bn1.weight', 'module.1.blocks.5.3.bn1.bias', 'module.1.blocks.5.3.bn1.running_mean', 'module.1.blocks.5.3.bn1.running_var', 'module.1.blocks.5.3.bn1.num_batches_tracked', 'module.1.blocks.5.3.conv_dw.weight', 'module.1.blocks.5.3.bn2.weight', 'module.1.blocks.5.3.bn2.bias', 'module.1.blocks.5.3.bn2.running_mean', 'module.1.blocks.5.3.bn2.running_var', 'module.1.blocks.5.3.bn2.num_batches_tracked', 'module.1.blocks.5.3.se.conv_reduce.weight', 'module.1.blocks.5.3.se.conv_reduce.bias', 'module.1.blocks.5.3.se.conv_expand.weight', 'module.1.blocks.5.3.se.conv_expand.bias', 'module.1.blocks.5.3.conv_pwl.weight', 'module.1.blocks.5.3.bn3.weight', 'module.1.blocks.5.3.bn3.bias', 'module.1.blocks.5.3.bn3.running_mean', 'module.1.blocks.5.3.bn3.running_var', 'module.1.blocks.5.3.bn3.num_batches_tracked', 'module.1.blocks.6.0.conv_pw.weight', 'module.1.blocks.6.0.bn1.weight', 'module.1.blocks.6.0.bn1.bias', 'module.1.blocks.6.0.bn1.running_mean', 'module.1.blocks.6.0.bn1.running_var', 'module.1.blocks.6.0.bn1.num_batches_tracked', 'module.1.blocks.6.0.conv_dw.weight', 'module.1.blocks.6.0.bn2.weight', 'module.1.blocks.6.0.bn2.bias', 'module.1.blocks.6.0.bn2.running_mean', 'module.1.blocks.6.0.bn2.running_var', 'module.1.blocks.6.0.bn2.num_batches_tracked', 'module.1.blocks.6.0.se.conv_reduce.weight', 'module.1.blocks.6.0.se.conv_reduce.bias', 'module.1.blocks.6.0.se.conv_expand.weight', 'module.1.blocks.6.0.se.conv_expand.bias', 'module.1.blocks.6.0.conv_pwl.weight', 'module.1.blocks.6.0.bn3.weight', 'module.1.blocks.6.0.bn3.bias', 'module.1.blocks.6.0.bn3.running_mean', 'module.1.blocks.6.0.bn3.running_var', 'module.1.blocks.6.0.bn3.num_batches_tracked', 'module.1.conv_head.weight', 'module.1.bn2.weight', 'module.1.bn2.bias', 'module.1.bn2.running_mean', 'module.1.bn2.running_var', 'module.1.bn2.num_batches_tracked', 'module.1.classifier.weight', 'module.1.classifier.bias'])"
      ]
     },
     "execution_count": 30,
     "metadata": {},
     "output_type": "execute_result"
    }
   ],
   "source": [
    "lrn.model.state_dict().keys()"
   ]
  },
  {
   "cell_type": "code",
   "execution_count": 38,
   "id": "0462b975-827d-4bd5-ac4e-2aabac4f2c11",
   "metadata": {},
   "outputs": [],
   "source": [
    "kind = \"best\"\n",
    "cp_name = f\"tf_efficientnet_b0_ns-full-20210602-052907-{kind}\""
   ]
  },
  {
   "cell_type": "code",
   "execution_count": 39,
   "id": "64e30b16-03ef-4b9c-b8d3-6f90c0332c09",
   "metadata": {
    "tags": []
   },
   "outputs": [
    {
     "data": {
      "text/plain": [
       "{'epoch': 3,\n",
       " 'valid_loss': 0.008241296271825665,\n",
       " 'valid_score': 0.3062037527561188}"
      ]
     },
     "execution_count": 39,
     "metadata": {},
     "output_type": "execute_result"
    }
   ],
   "source": [
    "lrn.load_checkpoint(\"\", cp_name)"
   ]
  },
  {
   "cell_type": "code",
   "execution_count": 40,
   "id": "f22ceb28-3c56-4049-8299-a231f72c2378",
   "metadata": {},
   "outputs": [],
   "source": [
    "# checkpoint = torch.load(f\"checkpoints/{cp_name}.pt\")"
   ]
  },
  {
   "cell_type": "code",
   "execution_count": 41,
   "id": "83865156-889f-4cf1-a69c-789f8b875525",
   "metadata": {
    "tags": []
   },
   "outputs": [],
   "source": [
    "# checkpoint['model_state_dict'].keys()"
   ]
  },
  {
   "cell_type": "code",
   "execution_count": 71,
   "id": "471b639b-05ef-42bc-9b17-97cabd0c7545",
   "metadata": {},
   "outputs": [
    {
     "name": "stderr",
     "output_type": "stream",
     "text": [
      "100%|██████████| 38/38 [00:03<00:00,  9.67it/s]\n"
     ]
    },
    {
     "data": {
      "text/html": [
       "<div>\n",
       "<style scoped>\n",
       "    .dataframe tbody tr th:only-of-type {\n",
       "        vertical-align: middle;\n",
       "    }\n",
       "\n",
       "    .dataframe tbody tr th {\n",
       "        vertical-align: top;\n",
       "    }\n",
       "\n",
       "    .dataframe thead th {\n",
       "        text-align: right;\n",
       "    }\n",
       "</style>\n",
       "<table border=\"1\" class=\"dataframe\">\n",
       "  <thead>\n",
       "    <tr style=\"text-align: right;\">\n",
       "      <th></th>\n",
       "      <th>thresh</th>\n",
       "      <th>tp</th>\n",
       "      <th>tn</th>\n",
       "      <th>fp</th>\n",
       "      <th>fn</th>\n",
       "      <th>f1</th>\n",
       "    </tr>\n",
       "  </thead>\n",
       "  <tbody>\n",
       "    <tr>\n",
       "      <th>0</th>\n",
       "      <td>0.0</td>\n",
       "      <td>1183</td>\n",
       "      <td>0</td>\n",
       "      <td>114017</td>\n",
       "      <td>0</td>\n",
       "      <td>0.020329</td>\n",
       "    </tr>\n",
       "    <tr>\n",
       "      <th>1</th>\n",
       "      <td>0.1</td>\n",
       "      <td>778</td>\n",
       "      <td>106370</td>\n",
       "      <td>7647</td>\n",
       "      <td>405</td>\n",
       "      <td>0.161948</td>\n",
       "    </tr>\n",
       "    <tr>\n",
       "      <th>2</th>\n",
       "      <td>0.2</td>\n",
       "      <td>546</td>\n",
       "      <td>112028</td>\n",
       "      <td>1989</td>\n",
       "      <td>637</td>\n",
       "      <td>0.293706</td>\n",
       "    </tr>\n",
       "    <tr>\n",
       "      <th>3</th>\n",
       "      <td>0.3</td>\n",
       "      <td>411</td>\n",
       "      <td>113063</td>\n",
       "      <td>954</td>\n",
       "      <td>772</td>\n",
       "      <td>0.322606</td>\n",
       "    </tr>\n",
       "    <tr>\n",
       "      <th>4</th>\n",
       "      <td>0.4</td>\n",
       "      <td>327</td>\n",
       "      <td>113495</td>\n",
       "      <td>522</td>\n",
       "      <td>856</td>\n",
       "      <td>0.321850</td>\n",
       "    </tr>\n",
       "    <tr>\n",
       "      <th>5</th>\n",
       "      <td>0.5</td>\n",
       "      <td>269</td>\n",
       "      <td>113712</td>\n",
       "      <td>305</td>\n",
       "      <td>914</td>\n",
       "      <td>0.306204</td>\n",
       "    </tr>\n",
       "    <tr>\n",
       "      <th>6</th>\n",
       "      <td>0.6</td>\n",
       "      <td>215</td>\n",
       "      <td>113833</td>\n",
       "      <td>184</td>\n",
       "      <td>968</td>\n",
       "      <td>0.271808</td>\n",
       "    </tr>\n",
       "    <tr>\n",
       "      <th>7</th>\n",
       "      <td>0.7</td>\n",
       "      <td>158</td>\n",
       "      <td>113914</td>\n",
       "      <td>103</td>\n",
       "      <td>1025</td>\n",
       "      <td>0.218837</td>\n",
       "    </tr>\n",
       "    <tr>\n",
       "      <th>8</th>\n",
       "      <td>0.8</td>\n",
       "      <td>114</td>\n",
       "      <td>113952</td>\n",
       "      <td>65</td>\n",
       "      <td>1069</td>\n",
       "      <td>0.167401</td>\n",
       "    </tr>\n",
       "    <tr>\n",
       "      <th>9</th>\n",
       "      <td>0.9</td>\n",
       "      <td>66</td>\n",
       "      <td>113990</td>\n",
       "      <td>27</td>\n",
       "      <td>1117</td>\n",
       "      <td>0.103448</td>\n",
       "    </tr>\n",
       "    <tr>\n",
       "      <th>10</th>\n",
       "      <td>1.0</td>\n",
       "      <td>0</td>\n",
       "      <td>114017</td>\n",
       "      <td>0</td>\n",
       "      <td>1183</td>\n",
       "      <td>0.000000</td>\n",
       "    </tr>\n",
       "  </tbody>\n",
       "</table>\n",
       "</div>"
      ],
      "text/plain": [
       "    thresh    tp      tn      fp    fn        f1\n",
       "0      0.0  1183       0  114017     0  0.020329\n",
       "1      0.1   778  106370    7647   405  0.161948\n",
       "2      0.2   546  112028    1989   637  0.293706\n",
       "3      0.3   411  113063     954   772  0.322606\n",
       "4      0.4   327  113495     522   856  0.321850\n",
       "5      0.5   269  113712     305   914  0.306204\n",
       "6      0.6   215  113833     184   968  0.271808\n",
       "7      0.7   158  113914     103  1025  0.218837\n",
       "8      0.8   114  113952      65  1069  0.167401\n",
       "9      0.9    66  113990      27  1117  0.103448\n",
       "10     1.0     0  114017       0  1183  0.000000"
      ]
     },
     "execution_count": 71,
     "metadata": {},
     "output_type": "execute_result"
    }
   ],
   "source": [
    "lrn.evaluate()"
   ]
  },
  {
   "cell_type": "markdown",
   "id": "0498a328-2c44-45cd-a534-b28f6bf01dad",
   "metadata": {},
   "source": [
    "# CPMP postprocessing\n",
    "https://www.kaggle.com/c/birdclef-2021/discussion/243378"
   ]
  },
  {
   "cell_type": "code",
   "execution_count": 924,
   "id": "ec50d21a-8372-4ec2-a36e-de5b73ae12f8",
   "metadata": {},
   "outputs": [],
   "source": [
    "occur = np.zeros((cfg.n_labels, cfg.n_labels), dtype='int')"
   ]
  },
  {
   "cell_type": "code",
   "execution_count": 925,
   "id": "0334441a-65af-489c-a6bf-eab444f2af41",
   "metadata": {},
   "outputs": [
    {
     "data": {
      "text/plain": [
       "(48, 48)"
      ]
     },
     "execution_count": 925,
     "metadata": {},
     "output_type": "execute_result"
    }
   ],
   "source": [
    "occur.shape"
   ]
  },
  {
   "cell_type": "code",
   "execution_count": 926,
   "id": "c4b87b62-9c84-45e1-b261-4b3972869e73",
   "metadata": {},
   "outputs": [],
   "source": [
    "df_meta = lrn.tdl.dataset.df_meta\n",
    "labels = lrn.tdl.dataset.labels\n",
    "indices = lrn.tdl.dataset.indices"
   ]
  },
  {
   "cell_type": "code",
   "execution_count": 927,
   "id": "90cc02ca-c441-4e74-be84-0d51178550c6",
   "metadata": {},
   "outputs": [],
   "source": [
    "# df = df_meta[df_meta.primary_label != 'nocall']\n",
    "df = df_meta[df_meta.primary_label.isin(labels)]"
   ]
  },
  {
   "cell_type": "code",
   "execution_count": 928,
   "id": "ae27a8fb-b9cf-4195-b88e-9a8d99706016",
   "metadata": {},
   "outputs": [],
   "source": [
    "for primary, secondary in zip(df.primary_label, df.secondary_labels):\n",
    "    for label in secondary:\n",
    "        # if label in labels and label != primary:\n",
    "        if label in labels:\n",
    "            occur[indices[primary], indices[label]] = 1\n",
    "            occur[indices[label], indices[primary]] = 1"
   ]
  },
  {
   "cell_type": "code",
   "execution_count": 929,
   "id": "96276491-3b95-4470-9419-56f52893fd1e",
   "metadata": {},
   "outputs": [
    {
     "data": {
      "text/plain": [
       "array([[1, 1, 1, ..., 1, 0, 0],\n",
       "       [1, 0, 1, ..., 1, 1, 0],\n",
       "       [1, 1, 1, ..., 1, 1, 0],\n",
       "       ...,\n",
       "       [1, 1, 1, ..., 1, 1, 0],\n",
       "       [0, 1, 1, ..., 1, 0, 0],\n",
       "       [0, 0, 0, ..., 0, 0, 0]])"
      ]
     },
     "execution_count": 929,
     "metadata": {},
     "output_type": "execute_result"
    }
   ],
   "source": [
    "occur"
   ]
  },
  {
   "cell_type": "code",
   "execution_count": 857,
   "id": "58799042-0d2b-4d5f-9008-3abb5c2a8bbc",
   "metadata": {},
   "outputs": [],
   "source": [
    "df_ss = pd.read_csv(f\"{cfg.data_dir}/train_soundscape_labels.csv\")\n",
    "if cfg.sites is not None:\n",
    "    df_ss = df_ss[df_ss['site'].isin(cfg.sites)].reset_index(drop=True)"
   ]
  },
  {
   "cell_type": "code",
   "execution_count": 70,
   "id": "e4dbcc5a-18ee-431d-96e1-46e29b1686ab",
   "metadata": {},
   "outputs": [
    {
     "data": {
      "text/html": [
       "<div>\n",
       "<style scoped>\n",
       "    .dataframe tbody tr th:only-of-type {\n",
       "        vertical-align: middle;\n",
       "    }\n",
       "\n",
       "    .dataframe tbody tr th {\n",
       "        vertical-align: top;\n",
       "    }\n",
       "\n",
       "    .dataframe thead th {\n",
       "        text-align: right;\n",
       "    }\n",
       "</style>\n",
       "<table border=\"1\" class=\"dataframe\">\n",
       "  <thead>\n",
       "    <tr style=\"text-align: right;\">\n",
       "      <th></th>\n",
       "      <th>row_id</th>\n",
       "      <th>site</th>\n",
       "      <th>audio_id</th>\n",
       "      <th>seconds</th>\n",
       "      <th>birds</th>\n",
       "    </tr>\n",
       "  </thead>\n",
       "  <tbody>\n",
       "    <tr>\n",
       "      <th>0</th>\n",
       "      <td>7019_COR_5</td>\n",
       "      <td>COR</td>\n",
       "      <td>7019</td>\n",
       "      <td>5</td>\n",
       "      <td>nocall</td>\n",
       "    </tr>\n",
       "    <tr>\n",
       "      <th>1</th>\n",
       "      <td>7019_COR_10</td>\n",
       "      <td>COR</td>\n",
       "      <td>7019</td>\n",
       "      <td>10</td>\n",
       "      <td>nocall</td>\n",
       "    </tr>\n",
       "    <tr>\n",
       "      <th>2</th>\n",
       "      <td>7019_COR_15</td>\n",
       "      <td>COR</td>\n",
       "      <td>7019</td>\n",
       "      <td>15</td>\n",
       "      <td>nocall</td>\n",
       "    </tr>\n",
       "    <tr>\n",
       "      <th>3</th>\n",
       "      <td>7019_COR_20</td>\n",
       "      <td>COR</td>\n",
       "      <td>7019</td>\n",
       "      <td>20</td>\n",
       "      <td>nocall</td>\n",
       "    </tr>\n",
       "    <tr>\n",
       "      <th>4</th>\n",
       "      <td>7019_COR_25</td>\n",
       "      <td>COR</td>\n",
       "      <td>7019</td>\n",
       "      <td>25</td>\n",
       "      <td>nocall</td>\n",
       "    </tr>\n",
       "    <tr>\n",
       "      <th>...</th>\n",
       "      <td>...</td>\n",
       "      <td>...</td>\n",
       "      <td>...</td>\n",
       "      <td>...</td>\n",
       "      <td>...</td>\n",
       "    </tr>\n",
       "    <tr>\n",
       "      <th>2395</th>\n",
       "      <td>54955_SSW_580</td>\n",
       "      <td>SSW</td>\n",
       "      <td>54955</td>\n",
       "      <td>580</td>\n",
       "      <td>nocall</td>\n",
       "    </tr>\n",
       "    <tr>\n",
       "      <th>2396</th>\n",
       "      <td>54955_SSW_585</td>\n",
       "      <td>SSW</td>\n",
       "      <td>54955</td>\n",
       "      <td>585</td>\n",
       "      <td>grycat</td>\n",
       "    </tr>\n",
       "    <tr>\n",
       "      <th>2397</th>\n",
       "      <td>54955_SSW_590</td>\n",
       "      <td>SSW</td>\n",
       "      <td>54955</td>\n",
       "      <td>590</td>\n",
       "      <td>grycat</td>\n",
       "    </tr>\n",
       "    <tr>\n",
       "      <th>2398</th>\n",
       "      <td>54955_SSW_595</td>\n",
       "      <td>SSW</td>\n",
       "      <td>54955</td>\n",
       "      <td>595</td>\n",
       "      <td>nocall</td>\n",
       "    </tr>\n",
       "    <tr>\n",
       "      <th>2399</th>\n",
       "      <td>54955_SSW_600</td>\n",
       "      <td>SSW</td>\n",
       "      <td>54955</td>\n",
       "      <td>600</td>\n",
       "      <td>nocall</td>\n",
       "    </tr>\n",
       "  </tbody>\n",
       "</table>\n",
       "<p>2400 rows × 5 columns</p>\n",
       "</div>"
      ],
      "text/plain": [
       "             row_id site  audio_id  seconds   birds\n",
       "0        7019_COR_5  COR      7019        5  nocall\n",
       "1       7019_COR_10  COR      7019       10  nocall\n",
       "2       7019_COR_15  COR      7019       15  nocall\n",
       "3       7019_COR_20  COR      7019       20  nocall\n",
       "4       7019_COR_25  COR      7019       25  nocall\n",
       "...             ...  ...       ...      ...     ...\n",
       "2395  54955_SSW_580  SSW     54955      580  nocall\n",
       "2396  54955_SSW_585  SSW     54955      585  grycat\n",
       "2397  54955_SSW_590  SSW     54955      590  grycat\n",
       "2398  54955_SSW_595  SSW     54955      595  nocall\n",
       "2399  54955_SSW_600  SSW     54955      600  nocall\n",
       "\n",
       "[2400 rows x 5 columns]"
      ]
     },
     "execution_count": 70,
     "metadata": {},
     "output_type": "execute_result"
    }
   ],
   "source": [
    "df_ss"
   ]
  },
  {
   "cell_type": "code",
   "execution_count": 176,
   "id": "240fe2f5-3e53-49a1-86a5-6ad4078d1bef",
   "metadata": {},
   "outputs": [
    {
     "data": {
      "text/html": [
       "<div>\n",
       "<style scoped>\n",
       "    .dataframe tbody tr th:only-of-type {\n",
       "        vertical-align: middle;\n",
       "    }\n",
       "\n",
       "    .dataframe tbody tr th {\n",
       "        vertical-align: top;\n",
       "    }\n",
       "\n",
       "    .dataframe thead th {\n",
       "        text-align: right;\n",
       "    }\n",
       "</style>\n",
       "<table border=\"1\" class=\"dataframe\">\n",
       "  <thead>\n",
       "    <tr style=\"text-align: right;\">\n",
       "      <th></th>\n",
       "      <th>site</th>\n",
       "      <th>audio_id</th>\n",
       "    </tr>\n",
       "  </thead>\n",
       "  <tbody>\n",
       "    <tr>\n",
       "      <th>0</th>\n",
       "      <td>COR</td>\n",
       "      <td>7019</td>\n",
       "    </tr>\n",
       "    <tr>\n",
       "      <th>120</th>\n",
       "      <td>COR</td>\n",
       "      <td>7954</td>\n",
       "    </tr>\n",
       "    <tr>\n",
       "      <th>240</th>\n",
       "      <td>COR</td>\n",
       "      <td>11254</td>\n",
       "    </tr>\n",
       "    <tr>\n",
       "      <th>360</th>\n",
       "      <td>COR</td>\n",
       "      <td>18003</td>\n",
       "    </tr>\n",
       "    <tr>\n",
       "      <th>480</th>\n",
       "      <td>COR</td>\n",
       "      <td>21767</td>\n",
       "    </tr>\n",
       "    <tr>\n",
       "      <th>600</th>\n",
       "      <td>COR</td>\n",
       "      <td>26746</td>\n",
       "    </tr>\n",
       "    <tr>\n",
       "      <th>720</th>\n",
       "      <td>COR</td>\n",
       "      <td>31928</td>\n",
       "    </tr>\n",
       "    <tr>\n",
       "      <th>840</th>\n",
       "      <td>COR</td>\n",
       "      <td>44957</td>\n",
       "    </tr>\n",
       "    <tr>\n",
       "      <th>960</th>\n",
       "      <td>COR</td>\n",
       "      <td>50878</td>\n",
       "    </tr>\n",
       "    <tr>\n",
       "      <th>1080</th>\n",
       "      <td>COR</td>\n",
       "      <td>57610</td>\n",
       "    </tr>\n",
       "    <tr>\n",
       "      <th>1200</th>\n",
       "      <td>SSW</td>\n",
       "      <td>2782</td>\n",
       "    </tr>\n",
       "    <tr>\n",
       "      <th>1320</th>\n",
       "      <td>SSW</td>\n",
       "      <td>7843</td>\n",
       "    </tr>\n",
       "    <tr>\n",
       "      <th>1440</th>\n",
       "      <td>SSW</td>\n",
       "      <td>10534</td>\n",
       "    </tr>\n",
       "    <tr>\n",
       "      <th>1560</th>\n",
       "      <td>SSW</td>\n",
       "      <td>14473</td>\n",
       "    </tr>\n",
       "    <tr>\n",
       "      <th>1680</th>\n",
       "      <td>SSW</td>\n",
       "      <td>20152</td>\n",
       "    </tr>\n",
       "    <tr>\n",
       "      <th>1800</th>\n",
       "      <td>SSW</td>\n",
       "      <td>26709</td>\n",
       "    </tr>\n",
       "    <tr>\n",
       "      <th>1920</th>\n",
       "      <td>SSW</td>\n",
       "      <td>28933</td>\n",
       "    </tr>\n",
       "    <tr>\n",
       "      <th>2040</th>\n",
       "      <td>SSW</td>\n",
       "      <td>42907</td>\n",
       "    </tr>\n",
       "    <tr>\n",
       "      <th>2160</th>\n",
       "      <td>SSW</td>\n",
       "      <td>51010</td>\n",
       "    </tr>\n",
       "    <tr>\n",
       "      <th>2280</th>\n",
       "      <td>SSW</td>\n",
       "      <td>54955</td>\n",
       "    </tr>\n",
       "  </tbody>\n",
       "</table>\n",
       "</div>"
      ],
      "text/plain": [
       "     site  audio_id\n",
       "0     COR      7019\n",
       "120   COR      7954\n",
       "240   COR     11254\n",
       "360   COR     18003\n",
       "480   COR     21767\n",
       "600   COR     26746\n",
       "720   COR     31928\n",
       "840   COR     44957\n",
       "960   COR     50878\n",
       "1080  COR     57610\n",
       "1200  SSW      2782\n",
       "1320  SSW      7843\n",
       "1440  SSW     10534\n",
       "1560  SSW     14473\n",
       "1680  SSW     20152\n",
       "1800  SSW     26709\n",
       "1920  SSW     28933\n",
       "2040  SSW     42907\n",
       "2160  SSW     51010\n",
       "2280  SSW     54955"
      ]
     },
     "execution_count": 176,
     "metadata": {},
     "output_type": "execute_result"
    }
   ],
   "source": [
    "df_ss[['site', 'audio_id']].drop_duplicates()"
   ]
  },
  {
   "cell_type": "code",
   "execution_count": 243,
   "id": "1319e4bb-a264-4c7f-ab8e-16f4cea81b6b",
   "metadata": {},
   "outputs": [
    {
     "name": "stderr",
     "output_type": "stream",
     "text": [
      "100%|██████████| 38/38 [00:03<00:00,  9.57it/s]\n"
     ]
    }
   ],
   "source": [
    "ps, ys = lrn.validation_inference()\n",
    "ps = ps.cpu()\n",
    "ys = ys.cpu()"
   ]
  },
  {
   "cell_type": "code",
   "execution_count": 228,
   "id": "867a079e-d665-40a1-b210-3e2877900ade",
   "metadata": {},
   "outputs": [
    {
     "data": {
      "text/plain": [
       "torch.Size([120, 48])"
      ]
     },
     "execution_count": 228,
     "metadata": {},
     "output_type": "execute_result"
    }
   ],
   "source": [
    "ps[0:120].shape"
   ]
  },
  {
   "cell_type": "code",
   "execution_count": 307,
   "id": "0a1486ab-800f-4896-809f-cbb4ad068eb0",
   "metadata": {},
   "outputs": [],
   "source": [
    "logits = ps\n",
    "\n",
    "def process_preds(chunk, thr=0.5, incr=-0.1, occur_thr=0.3):\n",
    "    logits = chunk.numpy().copy()\n",
    "    logits_max = logits.max(0)\n",
    "    if occur_thr:\n",
    "        present = ((logits_max > thr) * 1).reshape((1, -1))\n",
    "        secondary = np.matmul(present, occur)\n",
    "        for j in range(logits.shape[1]):\n",
    "            if secondary[:, j] > 0:\n",
    "                logits[:, j] += occur_thr\n",
    "        logits_max = logits.max(0)\n",
    "    for j in range(logits.shape[1]):\n",
    "        if logits_max[j] > thr:\n",
    "            logits[:, j] += thr - incr\n",
    "    return logits"
   ]
  },
  {
   "cell_type": "code",
   "execution_count": 308,
   "id": "b8ee6e7e-63e3-4702-a10b-d38009e7b07f",
   "metadata": {},
   "outputs": [],
   "source": [
    "def eval_chunk(ps, c, thr=0.5):\n",
    "    fr = c * 120\n",
    "    to = (c + 1) * 120\n",
    "    f1s = f1(ys[fr:to], ps[fr:to], thr)['f1']\n",
    "    pps = process_preds(ps[fr:to], thr=thr)\n",
    "    pps_f1 = f1(ys[fr:to], pps, thr)['f1']\n",
    "    # pps = logits[fr:to]\n",
    "    return f1s, pps_f1\n",
    "    \n",
    "    # ts = np.arange(0.0, 2.1, 0.1)\n",
    "    # rs = [f1(ys[fr:to], pps, t) for t in ts]\n",
    "    # return pd.DataFrame(rs)"
   ]
  },
  {
   "cell_type": "code",
   "execution_count": 309,
   "id": "ac22b3f7-d5ed-4160-b241-1289c475de95",
   "metadata": {},
   "outputs": [
    {
     "data": {
      "text/plain": [
       "(0.633093535900116, 0.08947368421052632)"
      ]
     },
     "execution_count": 309,
     "metadata": {},
     "output_type": "execute_result"
    }
   ],
   "source": [
    "eval_chunk(ps, 7, 0.5)"
   ]
  },
  {
   "cell_type": "markdown",
   "id": "b1e68d0b-2a54-4b19-8cf8-9ab7201098bd",
   "metadata": {},
   "source": [
    "# Triplex postprocessing\n",
    "\n",
    "https://www.kaggle.com/c/birdclef-2021/discussion/243473\n",
    "\n",
    "https://github.com/xins-yao/Kaggle_Birdcall_17th_solution/blob/master/inference.py"
   ]
  },
  {
   "cell_type": "markdown",
   "id": "043e4e06-e0cf-4bae-af20-63e3803f7f5e",
   "metadata": {},
   "source": [
    "if model gets a confident prediction of any bird, then lower threshold for this bird in the same audio file\n",
    "\n",
    "use thr_median as initial threshold\n",
    "\n",
    "use thr_high for confident prediction\n",
    "\n",
    "if any bird with probability higher than thr_high in any clip, lower threshold to thr_low for this specific bird in the same audio file"
   ]
  },
  {
   "cell_type": "code",
   "execution_count": 330,
   "id": "917ac696-f30f-4cbd-9f39-2ad496ffd98b",
   "metadata": {},
   "outputs": [
    {
     "name": "stderr",
     "output_type": "stream",
     "text": [
      "100%|██████████| 38/38 [00:03<00:00,  9.62it/s]\n"
     ]
    }
   ],
   "source": [
    "ps, ys = lrn.validation_inference()\n",
    "ps = ps.cpu().numpy()\n",
    "ys = ys.cpu().numpy()"
   ]
  },
  {
   "cell_type": "code",
   "execution_count": 331,
   "id": "629e71d8-a78b-44c5-a7d4-0a8b7578cc6b",
   "metadata": {},
   "outputs": [],
   "source": [
    "def get_chunk(c, ps, ys):\n",
    "    fr = c * 120\n",
    "    to = (c + 1) * 120\n",
    "    return ps[fr:to], ys[fr:to]"
   ]
  },
  {
   "cell_type": "code",
   "execution_count": 890,
   "id": "01781e9a-d5aa-4159-a3e9-6568a3416bdb",
   "metadata": {},
   "outputs": [],
   "source": [
    "# def get_chunk_thresholds(chunk_nr, ps, thr_dict, chunk_size=120):\n",
    "#     fr = chunk_nr * chunk_size\n",
    "#     to = (chunk_nr + 1) * chunk_size\n",
    "#     psc = ps[fr:to]\n",
    "#     thresholds = np.ones_like(psc) * thr_dict['median']\n",
    "#     is_confident = np.sum(psc > thr_dict['high'], axis=0).astype(bool)\n",
    "#     thresholds[:, is_confident] = thr_dict['low']\n",
    "#     return thresholds\n",
    "\n",
    "def get_chunk_thresholds(chunk_nr, ps, thr_dict, occur, chunk_size=120):\n",
    "    fr = chunk_nr * chunk_size\n",
    "    to = (chunk_nr + 1) * chunk_size\n",
    "    psc = ps[fr:to]\n",
    "    thresholds = np.ones_like(psc) * thr_dict['median']\n",
    "    is_confident = np.sum(psc > thr_dict['high'], axis=0).astype(bool)\n",
    "    thresholds[:, is_confident] = thr_dict['low']\n",
    "    \n",
    "    thresholds[:, np.where(occur[is_confident])[0]] = thr_dict['corr']   \n",
    "    \n",
    "    return thresholds\n",
    "\n",
    "def get_thresholds(ps, thr_dict, chunk_size=120):\n",
    "    n_chunks = ps.shape[0] // chunk_size\n",
    "    return np.concatenate([get_chunk_thresholds(i, ps, thr_dict, chunk_size) for i in range(n_chunks)])\n",
    "\n",
    "def compute_f1(ps, ys, ts, combined: bool = True):\n",
    "    f1s = metrics.f1_score(ys, ps >= ts, average='micro', zero_division=1)\n",
    "    if combined:\n",
    "        no_call_f1s = metrics.f1_score(np.abs(ys - 1), ps < ts, average='micro', zero_division=1)\n",
    "        f1s = no_call_f1s * 0.54 + f1s * 0.46\n",
    "    return f1s\n",
    "\n",
    "def get_global_f1(ps, ys, td, chunk_size=120, combined=True):\n",
    "    ts = get_thresholds(ps, td, chunk_size)\n",
    "    return compute_f1(ps, ys, ts, combined)\n",
    "\n",
    "def get_individual_f1(ps, ys, ts, chunk_size=120):\n",
    "    n_chunks = ps.shape[0] // chunk_size\n",
    "    for i in range(n_chunks):\n",
    "        fr = i * chunk_size\n",
    "        to = (i + 1) * chunk_size\n",
    "        ts = get_chunk_thresholds(i, ps, ts, chunk_size)\n",
    "        f1s = metrics.f1_score(ys[fr:to], ps[fr:to] >= ts, average='micro', zero_division=1)\n",
    "        print(f1s)\n",
    "        "
   ]
  },
  {
   "cell_type": "code",
   "execution_count": 891,
   "id": "d60907cc-8007-4e47-b21c-e71e05f4d44c",
   "metadata": {},
   "outputs": [],
   "source": [
    "def scan_thr_pars():\n",
    "    max_f1 = -1\n",
    "    max_ts = {}\n",
    "    step = 0.1\n",
    "    for l in np.arange(0, 1, step):\n",
    "        for m in np.arange(l + step, 1, step):\n",
    "            for h in np.arange(m + step, 1, step):\n",
    "                ts = { 'high': h, 'median': m, 'low': l}\n",
    "                fs = get_global_f1(ps, ys, ts, combined=True)\n",
    "                if fs > max_f1:\n",
    "                    max_f1 = fs\n",
    "                    max_ts = ts\n",
    "    return max_f1, max_ts"
   ]
  },
  {
   "cell_type": "code",
   "execution_count": 892,
   "id": "6dcc21c9-bb8f-4ce6-9880-871cf78307b5",
   "metadata": {},
   "outputs": [
    {
     "data": {
      "text/plain": [
       "(0.7215068880852455, {'high': 0.9, 'median': 0.6000000000000001, 'low': 0.1})"
      ]
     },
     "execution_count": 892,
     "metadata": {},
     "output_type": "execute_result"
    }
   ],
   "source": [
    "ms, mt = scan_thr_pars()\n",
    "ms, mt"
   ]
  },
  {
   "cell_type": "code",
   "execution_count": 569,
   "id": "173843e2-97f8-4913-9a5b-eed07d9c1a1b",
   "metadata": {},
   "outputs": [
    {
     "name": "stdout",
     "output_type": "stream",
     "text": [
      "0.0\n",
      "1.0\n",
      "0.24\n",
      "0.8542713567839195\n",
      "0.5550239234449761\n",
      "0.27096774193548384\n",
      "0.0\n",
      "0.6666666666666666\n",
      "0.038461538461538464\n",
      "0.1988950276243094\n",
      "0.49638554216867464\n",
      "0.0\n",
      "0.2619047619047619\n",
      "0.0\n",
      "0.0\n",
      "0.05128205128205127\n",
      "0.48135593220338985\n",
      "0.3428571428571429\n",
      "0.18309859154929575\n",
      "0.0\n"
     ]
    }
   ],
   "source": [
    "get_individual_f1(ps, ys, mt)"
   ]
  },
  {
   "cell_type": "markdown",
   "id": "1116a79e-2aac-4198-9d5b-8e1672c3f14d",
   "metadata": {},
   "source": [
    "# co-occurrence"
   ]
  },
  {
   "cell_type": "code",
   "execution_count": 881,
   "id": "31627903-cb75-46b5-92f8-229c67eee1bb",
   "metadata": {},
   "outputs": [],
   "source": [
    "chunk_nr = 4\n",
    "chunk_size = 120\n",
    "\n",
    "fr = chunk_nr * chunk_size\n",
    "to = (chunk_nr + 1) * chunk_size\n",
    "psc = ps[fr:to]\n",
    "ysc = ys[fr:to]"
   ]
  },
  {
   "cell_type": "code",
   "execution_count": 915,
   "id": "7d26679a-828f-48a5-9c95-2c1466fa7766",
   "metadata": {},
   "outputs": [],
   "source": [
    "def get_chunk_thresholds(chunk_nr, ps, thr_dict, chunk_size=120):\n",
    "    fr = chunk_nr * chunk_size\n",
    "    to = (chunk_nr + 1) * chunk_size\n",
    "    psc = ps[fr:to]\n",
    "    thresholds = np.ones_like(psc) * thr_dict['median']\n",
    "    is_confident = np.sum(psc > thr_dict['high'], axis=0).astype(bool)\n",
    "    thresholds[:, is_confident] = thr_dict['low']\n",
    "    \n",
    "    thresholds[:, np.where(occur[is_confident])[0]] = thr_dict['corr']   \n",
    "    \n",
    "    return thresholds"
   ]
  },
  {
   "cell_type": "code",
   "execution_count": 916,
   "id": "dca8e3c6-8051-43cc-8001-1364e884a260",
   "metadata": {},
   "outputs": [],
   "source": [
    "# def get_chunk_thresholds(chunk_nr, ps, thr_dict, chunk_size=120):\n",
    "#     fr = chunk_nr * chunk_size\n",
    "#     to = (chunk_nr + 1) * chunk_size\n",
    "#     psc = ps[fr:to]\n",
    "#     thresholds = np.ones_like(psc) * thr_dict['median']\n",
    "#     is_confident = np.sum(psc > thr_dict['high'], axis=0).astype(bool)\n",
    "#     thresholds[:, is_confident] = thr_dict['low']\n",
    "#     return thresholds\n"
   ]
  },
  {
   "cell_type": "code",
   "execution_count": 917,
   "id": "4cfa4336-6bf2-4563-991b-1c401ce5d233",
   "metadata": {},
   "outputs": [
    {
     "data": {
      "text/plain": [
       "(48, 48)"
      ]
     },
     "execution_count": 917,
     "metadata": {},
     "output_type": "execute_result"
    }
   ],
   "source": [
    "occur.shape"
   ]
  },
  {
   "cell_type": "code",
   "execution_count": 931,
   "id": "373ced8a-61e2-41a5-971c-fe4660bf1aeb",
   "metadata": {},
   "outputs": [],
   "source": [
    "def scan_thr_pars():\n",
    "    max_f1 = -1\n",
    "    max_ts = {}\n",
    "    step = 0.1\n",
    "    for l in np.arange(0, 1, step):\n",
    "        for m in np.arange(l + step, 1, step):\n",
    "            for h in np.arange(m + step, 1.1, step):\n",
    "                for c in np.arange(0, 1, step):\n",
    "                    ts = { 'high': h, 'median': m, 'low': l, 'corr': c}\n",
    "                    fs = get_global_f1(ps, ys, ts, combined=True)\n",
    "                    if fs > max_f1:\n",
    "                        max_f1 = fs\n",
    "                        max_ts = ts\n",
    "    return max_f1, max_ts"
   ]
  },
  {
   "cell_type": "code",
   "execution_count": 932,
   "id": "9a82b5b0-d261-4c0a-b02a-d80e7d85625a",
   "metadata": {},
   "outputs": [
    {
     "data": {
      "text/plain": [
       "(0.7215889566207027,\n",
       " {'high': 0.9,\n",
       "  'median': 0.6000000000000001,\n",
       "  'low': 0.1,\n",
       "  'corr': 0.7000000000000001})"
      ]
     },
     "execution_count": 932,
     "metadata": {},
     "output_type": "execute_result"
    }
   ],
   "source": [
    "scan_thr_pars()"
   ]
  },
  {
   "cell_type": "code",
   "execution_count": 923,
   "id": "084b6c53-eb1a-4d9b-9bbf-5834e9f19181",
   "metadata": {},
   "outputs": [
    {
     "data": {
      "text/plain": [
       "(0.7215889566207027,\n",
       " {'high': 0.9,\n",
       "  'median': 0.6000000000000001,\n",
       "  'low': 0.1,\n",
       "  'corr': 0.7000000000000001})"
      ]
     },
     "execution_count": 923,
     "metadata": {},
     "output_type": "execute_result"
    }
   ],
   "source": [
    "scan_thr_pars()"
   ]
  },
  {
   "cell_type": "code",
   "execution_count": 746,
   "id": "987aa5a0-6bed-48e8-a64c-6b1d52f63ed4",
   "metadata": {},
   "outputs": [
    {
     "data": {
      "text/plain": [
       "(48, 48)"
      ]
     },
     "execution_count": 746,
     "metadata": {},
     "output_type": "execute_result"
    }
   ],
   "source": [
    "occur.shape"
   ]
  },
  {
   "cell_type": "code",
   "execution_count": 858,
   "id": "e7f2437f-96ac-44cc-93ba-d80cad9ed5ba",
   "metadata": {},
   "outputs": [],
   "source": [
    "ts, ic = get_chunk_thresholds(chunk_nr, ps, mt)"
   ]
  },
  {
   "cell_type": "code",
   "execution_count": 859,
   "id": "e5beef81-f93b-444a-9f2c-cca95d7f5b93",
   "metadata": {},
   "outputs": [
    {
     "data": {
      "text/plain": [
       "(2, 48)"
      ]
     },
     "execution_count": 859,
     "metadata": {},
     "output_type": "execute_result"
    }
   ],
   "source": [
    "occur[ic].shape"
   ]
  },
  {
   "cell_type": "code",
   "execution_count": 860,
   "id": "884f2272-f2d2-4bd3-a61c-0d69cf212899",
   "metadata": {},
   "outputs": [
    {
     "data": {
      "text/plain": [
       "array([0.6, 0.6, 0.6, 0.6, 0.6, 0.6, 0.6, 0.6, 0.6, 0.6, 0.6, 0.6, 0.6,\n",
       "       0.6, 0.6, 0.6, 0.6, 0.6, 0.6, 0.6, 0.6, 0.6, 0.6, 0.6, 0.6, 0.6,\n",
       "       0.6, 0.6, 0.6, 0.6, 0.6, 0.6, 0.6, 0.6, 0.6, 0.6, 0.6, 0.6, 0.6,\n",
       "       0.1, 0.6, 0.6, 0.6, 0.6, 0.1, 0.6, 0.6, 0.6], dtype=float32)"
      ]
     },
     "execution_count": 860,
     "metadata": {},
     "output_type": "execute_result"
    }
   ],
   "source": [
    "ts[2]"
   ]
  },
  {
   "cell_type": "code",
   "execution_count": 861,
   "id": "b362ebb2-9968-40bd-9763-53554b14a86c",
   "metadata": {},
   "outputs": [
    {
     "data": {
      "text/plain": [
       "array([0.1, 0.1, 0.1, 0.1, 0.1, 0.1, 0.1, 0.1, 0.1, 0.1, 0.1, 0.1, 0.1,\n",
       "       0.1, 0.1, 0.1, 0.1, 0.1, 0.1, 0.1, 0.1, 0.1, 0.1, 0.1, 0.1, 0.1,\n",
       "       0.1, 0.1, 0.1, 0.1, 0.1, 0.1, 0.1, 0.1, 0.1, 0.1, 0.1, 0.1, 0.1,\n",
       "       0.1, 0.1, 0.1, 0.1, 0.1, 0.1, 0.1, 0.1, 0.1, 0.1, 0.1, 0.1, 0.1,\n",
       "       0.1, 0.1, 0.1, 0.1, 0.1, 0.1, 0.1, 0.1, 0.1, 0.1, 0.1, 0.1, 0.1,\n",
       "       0.1, 0.1, 0.1, 0.1, 0.1, 0.1, 0.1, 0.1, 0.1, 0.1, 0.1, 0.1, 0.1,\n",
       "       0.1, 0.1, 0.1, 0.1, 0.1, 0.1, 0.1, 0.1, 0.1, 0.1, 0.1, 0.1, 0.1,\n",
       "       0.1, 0.1, 0.1, 0.1, 0.1, 0.1, 0.1, 0.1, 0.1, 0.1, 0.1, 0.1, 0.1,\n",
       "       0.1, 0.1, 0.1, 0.1, 0.1, 0.1, 0.1, 0.1, 0.1, 0.1, 0.1, 0.1, 0.1,\n",
       "       0.1, 0.1, 0.1], dtype=float32)"
      ]
     },
     "execution_count": 861,
     "metadata": {},
     "output_type": "execute_result"
    }
   ],
   "source": [
    "ts[:, 39]"
   ]
  },
  {
   "cell_type": "code",
   "execution_count": 862,
   "id": "2713be8a-cb49-46da-84e3-785e1a2e0160",
   "metadata": {},
   "outputs": [
    {
     "data": {
      "text/plain": [
       "(array([39, 44]),)"
      ]
     },
     "execution_count": 862,
     "metadata": {},
     "output_type": "execute_result"
    }
   ],
   "source": [
    "np.where(ic)"
   ]
  },
  {
   "cell_type": "code",
   "execution_count": 863,
   "id": "a447f239-3fd3-4922-8abd-c3101a3ea3bd",
   "metadata": {},
   "outputs": [
    {
     "data": {
      "text/plain": [
       "array([0, 0, 0, 0, 0, 0, 0, 0, 1, 0, 0, 0, 0, 0, 0, 0, 0, 0, 0, 0, 0, 0,\n",
       "       0, 0, 0, 0, 0, 0, 0, 0, 0, 0, 0, 0, 0, 0, 0, 0, 0, 0, 0, 0, 0, 0,\n",
       "       0, 0, 0, 0])"
      ]
     },
     "execution_count": 863,
     "metadata": {},
     "output_type": "execute_result"
    }
   ],
   "source": [
    "occur[44]"
   ]
  },
  {
   "cell_type": "code",
   "execution_count": 864,
   "id": "33dd0f03-cf89-4f97-8318-96e6aeefbe7b",
   "metadata": {},
   "outputs": [],
   "source": [
    "# ts -= occur[ic][0] * 0.1\n",
    "# ts -= occur[ic][1] * 0.1"
   ]
  },
  {
   "cell_type": "code",
   "execution_count": 865,
   "id": "2a489c2e-b6f6-4614-836b-36428fa41dd7",
   "metadata": {},
   "outputs": [],
   "source": [
    "# ts[:, occur[ic][0]] = 0.5"
   ]
  },
  {
   "cell_type": "code",
   "execution_count": 866,
   "id": "2afb5fad-3422-4d8a-a9b1-dbc17958775a",
   "metadata": {},
   "outputs": [],
   "source": [
    "ts[:, np.where(occur[ic])[0]] = 0.1"
   ]
  },
  {
   "cell_type": "code",
   "execution_count": 867,
   "id": "01de3fc4-f300-49e0-b1c8-dbdec7236890",
   "metadata": {},
   "outputs": [
    {
     "data": {
      "text/plain": [
       "array([[0.1, 0.1, 0.6, ..., 0.6, 0.6, 0.6],\n",
       "       [0.1, 0.1, 0.6, ..., 0.6, 0.6, 0.6],\n",
       "       [0.1, 0.1, 0.6, ..., 0.6, 0.6, 0.6],\n",
       "       ...,\n",
       "       [0.1, 0.1, 0.6, ..., 0.6, 0.6, 0.6],\n",
       "       [0.1, 0.1, 0.6, ..., 0.6, 0.6, 0.6],\n",
       "       [0.1, 0.1, 0.6, ..., 0.6, 0.6, 0.6]], dtype=float32)"
      ]
     },
     "execution_count": 867,
     "metadata": {},
     "output_type": "execute_result"
    }
   ],
   "source": [
    "ts"
   ]
  },
  {
   "cell_type": "code",
   "execution_count": 868,
   "id": "b4e65dd7-5b35-4da9-ab76-7196ce0c7dd7",
   "metadata": {},
   "outputs": [
    {
     "data": {
      "text/plain": [
       "0.7798971684803697"
      ]
     },
     "execution_count": 868,
     "metadata": {},
     "output_type": "execute_result"
    }
   ],
   "source": [
    "compute_f1(psc, ysc, ts, combined=True)"
   ]
  },
  {
   "cell_type": "markdown",
   "id": "823c22d7-e343-412f-9a1e-86c54aedf8b6",
   "metadata": {},
   "source": [
    "# no_call f1 score"
   ]
  },
  {
   "cell_type": "code",
   "execution_count": 547,
   "id": "e66e8703-99f3-401c-9e1f-85f5c3fb8ad8",
   "metadata": {},
   "outputs": [
    {
     "data": {
      "text/plain": [
       "array([[1., 1., 1., ..., 1., 1., 1.],\n",
       "       [1., 1., 1., ..., 1., 1., 1.],\n",
       "       [1., 1., 1., ..., 1., 1., 1.],\n",
       "       ...,\n",
       "       [1., 1., 1., ..., 1., 1., 1.],\n",
       "       [1., 1., 1., ..., 1., 1., 1.],\n",
       "       [1., 1., 1., ..., 1., 1., 1.]])"
      ]
     },
     "execution_count": 547,
     "metadata": {},
     "output_type": "execute_result"
    }
   ],
   "source": [
    "np.abs(ys - 1)"
   ]
  },
  {
   "cell_type": "code",
   "execution_count": 545,
   "id": "689f213a-fac1-4001-a9ef-09bc06bfbc91",
   "metadata": {},
   "outputs": [
    {
     "data": {
      "text/plain": [
       "array([[0.02217756, 0.03169936, 0.02676164, ..., 0.06467676, 0.07248168,\n",
       "        0.06468667],\n",
       "       [0.0087122 , 0.00517282, 0.00659248, ..., 0.01830112, 0.01274671,\n",
       "        0.01552435],\n",
       "       [0.01010807, 0.02155799, 0.01060296, ..., 0.02309404, 0.01885087,\n",
       "        0.01700381],\n",
       "       ...,\n",
       "       [0.25503898, 0.00770985, 0.02734323, ..., 0.01818618, 0.01902353,\n",
       "        0.00288344],\n",
       "       [0.3078698 , 0.01508887, 0.02901221, ..., 0.02912963, 0.02364811,\n",
       "        0.00442752],\n",
       "       [0.12785846, 0.03092269, 0.07600214, ..., 0.0468911 , 0.00928991,\n",
       "        0.00314113]], dtype=float32)"
      ]
     },
     "execution_count": 545,
     "metadata": {},
     "output_type": "execute_result"
    }
   ],
   "source": [
    "ps"
   ]
  },
  {
   "cell_type": "code",
   "execution_count": 557,
   "id": "7b597785-72a7-4433-bf28-63d363f16844",
   "metadata": {},
   "outputs": [],
   "source": [
    "no_call_f1s = metrics.f1_score(np.abs(ys - 1), ps < get_thresholds(ps, mt), average='micro')"
   ]
  },
  {
   "cell_type": "code",
   "execution_count": 558,
   "id": "376b7236-de10-4ca0-b6ee-80959f5c02f2",
   "metadata": {},
   "outputs": [],
   "source": [
    "f1s = get_global_f1(ps, mt)"
   ]
  },
  {
   "cell_type": "code",
   "execution_count": 559,
   "id": "37f5173a-023b-4d47-b27a-ab32577b6c2b",
   "metadata": {},
   "outputs": [
    {
     "data": {
      "text/plain": [
       "0.7215068880852455"
      ]
     },
     "execution_count": 559,
     "metadata": {},
     "output_type": "execute_result"
    }
   ],
   "source": [
    "no_call_f1s * 0.54 + f1s * 0.46"
   ]
  },
  {
   "cell_type": "markdown",
   "id": "ed61f1ab-3bc7-4e34-a91b-f6ac3e536235",
   "metadata": {},
   "source": [
    "# package"
   ]
  },
  {
   "cell_type": "code",
   "execution_count": 934,
   "id": "59f0ffc2-e458-4faf-a59d-07bed2ab8674",
   "metadata": {},
   "outputs": [],
   "source": [
    "from lark.post import CoOccurrence"
   ]
  },
  {
   "cell_type": "code",
   "execution_count": 939,
   "id": "6159e3bb-4d09-48f9-9692-3c7b8ff41ce6",
   "metadata": {},
   "outputs": [],
   "source": [
    "cooc = CoOccurrence(None)"
   ]
  },
  {
   "cell_type": "code",
   "execution_count": 940,
   "id": "94abe0f1-d08b-4dac-a0b7-5ee23f19531c",
   "metadata": {},
   "outputs": [],
   "source": [
    "cooc.save(\"data/co-occurrence-complete.npy\")"
   ]
  },
  {
   "cell_type": "code",
   "execution_count": 943,
   "id": "2e7fdc20-18d3-444d-bb80-dedb28be9218",
   "metadata": {},
   "outputs": [
    {
     "data": {
      "text/plain": [
       "numpy.ndarray"
      ]
     },
     "execution_count": 943,
     "metadata": {},
     "output_type": "execute_result"
    }
   ],
   "source": [
    "type(cooc.matrix)"
   ]
  },
  {
   "cell_type": "code",
   "execution_count": 942,
   "id": "cfdaaf68-d9f9-48ec-a36c-93f1218e21b7",
   "metadata": {},
   "outputs": [
    {
     "data": {
      "text/plain": [
       "array([[0, 0, 0, ..., 0, 0, 1],\n",
       "       [0, 0, 0, ..., 1, 0, 0],\n",
       "       [0, 0, 0, ..., 1, 0, 0],\n",
       "       ...,\n",
       "       [0, 1, 1, ..., 0, 0, 0],\n",
       "       [0, 0, 0, ..., 0, 0, 1],\n",
       "       [1, 0, 0, ..., 0, 1, 0]])"
      ]
     },
     "execution_count": 942,
     "metadata": {},
     "output_type": "execute_result"
    }
   ],
   "source": [
    "np.load(\"data/co-occurrence-complete.npy\")"
   ]
  },
  {
   "cell_type": "code",
   "execution_count": 979,
   "id": "2eec5cea-c308-4e9f-9c5c-98b7a1891053",
   "metadata": {},
   "outputs": [],
   "source": [
    "cooc_cor_ssw = CoOccurrence(['SSW', 'COR'])"
   ]
  },
  {
   "cell_type": "code",
   "execution_count": 982,
   "id": "9af68d23-2807-4714-9853-ff7b2c03d0bf",
   "metadata": {},
   "outputs": [
    {
     "data": {
      "text/plain": [
       "(48, 48)"
      ]
     },
     "execution_count": 982,
     "metadata": {},
     "output_type": "execute_result"
    }
   ],
   "source": [
    "cooc_cor_ssw.matrix.shape"
   ]
  },
  {
   "cell_type": "markdown",
   "id": "42b1a40e-7553-4208-953c-dc93f228e267",
   "metadata": {},
   "source": [
    "# kaggle submit-04"
   ]
  },
  {
   "cell_type": "code",
   "execution_count": 944,
   "id": "c1a43ac3-1580-4277-b6e1-aa25595efb6c",
   "metadata": {},
   "outputs": [],
   "source": [
    "cfg = Config(sites=None)"
   ]
  },
  {
   "cell_type": "code",
   "execution_count": 970,
   "id": "64f28157-b1d9-4638-a8de-ada51802d0fc",
   "metadata": {},
   "outputs": [],
   "source": [
    "prep = MixedSig2Spec(cfg, rank)\n",
    "main_model = timm.create_model('tf_efficientnet_b0_ns', pretrained=True)\n",
    "main_model.classifier = torch.nn.Sequential(torch.nn.Linear(in_features=1280, out_features=len(cfg.labels), bias=True))\n",
    "model = torch.nn.Sequential(prep, main_model)\n",
    "model = model.to(rank)"
   ]
  },
  {
   "cell_type": "code",
   "execution_count": 971,
   "id": "a3a19a4c-26e8-4ec8-98c5-c4142d34258e",
   "metadata": {},
   "outputs": [
    {
     "name": "stdout",
     "output_type": "stream",
     "text": [
      "tf_efficientnet_b0_ns-full-20210605-085736:0\n"
     ]
    }
   ],
   "source": [
    "lrn = Learner(\"tf_efficientnet_b0_ns-full\", cfg, rank, model)"
   ]
  },
  {
   "cell_type": "code",
   "execution_count": 972,
   "id": "57d34e89-e9ca-46ce-aca1-5f16126ef026",
   "metadata": {},
   "outputs": [],
   "source": [
    "cp_name = f\"tf_efficientnet_b0_ns-full-20210525-181231-latest\""
   ]
  },
  {
   "cell_type": "code",
   "execution_count": 973,
   "id": "06411ea4-d838-490a-9367-e43c805c83f1",
   "metadata": {
    "tags": []
   },
   "outputs": [
    {
     "data": {
      "text/plain": [
       "{'epoch': 11,\n",
       " 'valid_loss': 0.0011728350705622385,\n",
       " 'valid_score': 0.11879698932170868}"
      ]
     },
     "execution_count": 973,
     "metadata": {},
     "output_type": "execute_result"
    }
   ],
   "source": [
    "lrn.load_checkpoint(\"\", cp_name)"
   ]
  },
  {
   "cell_type": "code",
   "execution_count": 974,
   "id": "95ace709-51f2-45de-90ec-07dd698a7768",
   "metadata": {},
   "outputs": [],
   "source": [
    "from lark.post import PostProcessing\n",
    "pp = PostProcessing(cfg, lrn.tdl.dataset)"
   ]
  },
  {
   "cell_type": "code",
   "execution_count": 975,
   "id": "7c96d262-a45b-4f5f-a5be-48b9f74bd450",
   "metadata": {},
   "outputs": [
    {
     "name": "stderr",
     "output_type": "stream",
     "text": [
      "100%|██████████| 75/75 [00:04<00:00, 17.69it/s]\n"
     ]
    }
   ],
   "source": [
    "ps, ys = lrn.validation_inference()"
   ]
  },
  {
   "cell_type": "code",
   "execution_count": 969,
   "id": "dcd4cc75-118c-41b9-bfe2-74afda4b93bb",
   "metadata": {},
   "outputs": [
    {
     "data": {
      "text/plain": [
       "(0.6584693276830287,\n",
       " {'high': 0.5000000000000001,\n",
       "  'median': 0.4000000000000001,\n",
       "  'low': 0.1,\n",
       "  'corr': 0.30000000000000004})"
      ]
     },
     "execution_count": 969,
     "metadata": {},
     "output_type": "execute_result"
    }
   ],
   "source": [
    "pp.scan_thr_pars(ps, ys)"
   ]
  },
  {
   "cell_type": "code",
   "execution_count": null,
   "id": "c709852b-618f-494f-9fae-73461f81d655",
   "metadata": {},
   "outputs": [],
   "source": []
  }
 ],
 "metadata": {
  "kernelspec": {
   "display_name": "lark",
   "language": "python",
   "name": "lark"
  },
  "language_info": {
   "codemirror_mode": {
    "name": "ipython",
    "version": 3
   },
   "file_extension": ".py",
   "mimetype": "text/x-python",
   "name": "python",
   "nbconvert_exporter": "python",
   "pygments_lexer": "ipython3",
   "version": "3.8.8"
  }
 },
 "nbformat": 4,
 "nbformat_minor": 5
}
