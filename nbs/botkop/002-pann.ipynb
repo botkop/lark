{
 "cells": [
  {
   "cell_type": "code",
   "execution_count": 12,
   "id": "9fc76e6c-a5e7-4cb1-9ea0-c9975d443cd6",
   "metadata": {},
   "outputs": [
    {
     "name": "stdout",
     "output_type": "stream",
     "text": [
      "1.8.1\n",
      "0.8.0a0+e4e171a\n"
     ]
    }
   ],
   "source": [
    "%reload_ext autoreload\n",
    "%autoreload 2\n",
    "%matplotlib inline\n",
    "\n",
    "import torch\n",
    "import torchaudio as ta\n",
    "import torchaudio.functional as taf\n",
    "import torchaudio.transforms as tat\n",
    "\n",
    "print(torch.__version__)\n",
    "print(ta.__version__)\n",
    "\n",
    "import matplotlib\n",
    "import matplotlib.pyplot as plt\n",
    "from IPython.display import Audio, display\n",
    "\n",
    "import pandas as pd\n",
    "import os\n",
    "import pprint\n",
    "\n",
    "from typing import *\n",
    "import itertools\n",
    "from collections import Counter\n",
    "\n",
    "import numpy as np\n",
    "from datetime import datetime"
   ]
  },
  {
   "cell_type": "code",
   "execution_count": 2,
   "id": "8c0ea61d-5684-4dde-8afd-3a41025e2198",
   "metadata": {},
   "outputs": [],
   "source": [
    "from torch.utils.data import Dataset, DataLoader\n",
    "from dataclasses import dataclass\n",
    "import glob\n",
    "import random\n",
    "from torch import nn\n",
    "import torch.nn.functional as F\n",
    "from catalyst import dl, utils\n",
    "from catalyst.data.transforms import ToTensor"
   ]
  },
  {
   "cell_type": "code",
   "execution_count": 3,
   "id": "517db398-cc5f-4051-8f5a-96bd08994af3",
   "metadata": {},
   "outputs": [],
   "source": [
    "from lark.learner import *\n",
    "from lark.Cnn14_DecisionLevelAtt import *"
   ]
  },
  {
   "cell_type": "code",
   "execution_count": 4,
   "id": "7ebceed6-c6e5-4af0-9eeb-92cf7619e60e",
   "metadata": {},
   "outputs": [],
   "source": [
    "cfg = Config(site='SSW')"
   ]
  },
  {
   "cell_type": "code",
   "execution_count": 5,
   "id": "85744030-33d4-4357-82e4-30d7af0bc172",
   "metadata": {},
   "outputs": [
    {
     "data": {
      "text/plain": [
       "{'site': 'SSW',\n",
       " 'data_dir': 'data/birdclef-2021',\n",
       " 'bs': 32,\n",
       " 'n_workers': 12,\n",
       " 'training_dataset_size': 3840,\n",
       " 'duration': 5,\n",
       " 'sr': 32000,\n",
       " 'n_frames': 160000,\n",
       " 'n_fft': 512,\n",
       " 'window_length': 512,\n",
       " 'n_mels': 64,\n",
       " 'hop_length': 312,\n",
       " 'f_min': 150,\n",
       " 'f_max': 15000,\n",
       " 'labels': ['amecro',\n",
       "  'amegfi',\n",
       "  'amerob',\n",
       "  'balori',\n",
       "  'belkin1',\n",
       "  'bkcchi',\n",
       "  'blujay',\n",
       "  'cangoo',\n",
       "  'chswar',\n",
       "  'comgra',\n",
       "  'comyel',\n",
       "  'dowwoo',\n",
       "  'eastow',\n",
       "  'eawpew',\n",
       "  'gockin',\n",
       "  'grycat',\n",
       "  'haiwoo',\n",
       "  'norcar',\n",
       "  'norfli',\n",
       "  'norwat',\n",
       "  'ovenbi1',\n",
       "  'rebwoo',\n",
       "  'reevir1',\n",
       "  'rewbla',\n",
       "  'sonspa',\n",
       "  'swaspa',\n",
       "  'woothr',\n",
       "  'yebsap']}"
      ]
     },
     "execution_count": 5,
     "metadata": {},
     "output_type": "execute_result"
    }
   ],
   "source": [
    "cfg.as_dict()"
   ]
  },
  {
   "cell_type": "code",
   "execution_count": 6,
   "id": "0ee94e6e-66a3-4a71-9cb0-ac961ee183a2",
   "metadata": {},
   "outputs": [],
   "source": [
    "vs = ValidDataset(cfg)"
   ]
  },
  {
   "cell_type": "code",
   "execution_count": 7,
   "id": "7f2cfe65-4252-460e-97b3-ce5869ecdd9e",
   "metadata": {},
   "outputs": [],
   "source": [
    "vdl = vs.loader"
   ]
  },
  {
   "cell_type": "code",
   "execution_count": 8,
   "id": "01ff7898-827e-46b2-b5b2-e03b19d34184",
   "metadata": {},
   "outputs": [],
   "source": [
    "ts = TrainDataset(cfg)"
   ]
  },
  {
   "cell_type": "code",
   "execution_count": 9,
   "id": "90debaf5-692f-43c0-b63a-8bec4035f5e7",
   "metadata": {},
   "outputs": [],
   "source": [
    "tdl = ts.loader"
   ]
  },
  {
   "cell_type": "code",
   "execution_count": 10,
   "id": "2e400e71-7bf4-4ced-ac6a-14d571061678",
   "metadata": {},
   "outputs": [],
   "source": [
    "model = Cnn14_DecisionLevelAtt.load(cfg)"
   ]
  },
  {
   "cell_type": "code",
   "execution_count": 13,
   "id": "703abcf4-a68c-4689-a4eb-020bd5b1da55",
   "metadata": {},
   "outputs": [
    {
     "name": "stderr",
     "output_type": "stream",
     "text": [
      "psutil is not installed. You will not be able to abort this experiment from the UI.\n",
      "psutil is not installed. Hardware metrics will not be collected.\n"
     ]
    },
    {
     "name": "stdout",
     "output_type": "stream",
     "text": [
      "https://ui.neptune.ai/botkop/lark/e/LAR-3\n"
     ]
    }
   ],
   "source": [
    "exp = Experiment(cfg)\n",
    "exp.init(f\"pann {datetime.now()}\")\n"
   ]
  },
  {
   "cell_type": "code",
   "execution_count": 67,
   "id": "77f1ba33-7b85-4bdd-af92-06e2cd41a51c",
   "metadata": {},
   "outputs": [],
   "source": [
    "lr = 1e-4\n",
    "n_epochs = 10\n",
    "n_samples = len(tdl)\n",
    "\n",
    "loss_fn = PANNsLoss()\n",
    "optimizer = torch.optim.Adam(model.parameters(), lr=lr)\n",
    "scheduler = torch.optim.lr_scheduler.OneCycleLR(optimizer, max_lr=lr*10, steps_per_epoch=n_samples, epochs=n_epochs)"
   ]
  },
  {
   "cell_type": "code",
   "execution_count": 68,
   "id": "2324d34e-78a8-48ac-8533-fe6b20d20f48",
   "metadata": {},
   "outputs": [],
   "source": [
    "model = model.cuda()\n",
    "loss_fn = loss_fn.cuda()"
   ]
  },
  {
   "cell_type": "code",
   "execution_count": 69,
   "id": "7293e19f-753d-49a5-9d87-7a9169f66861",
   "metadata": {},
   "outputs": [],
   "source": [
    "# from tqdm import tqdm\n",
    "import sys\n",
    "from tqdm.notebook import tqdm\n",
    "\n",
    "def tv_loop(dl, mode):\n",
    "    if mode == 'train':\n",
    "        model.train()\n",
    "    else:\n",
    "        model.eval()\n",
    "        \n",
    "    def inner_loop():\n",
    "        nonlocal tot_loss\n",
    "        nonlocal tot_score\n",
    "        for x, y in pbar:\n",
    "            x = x.cuda()\n",
    "            y = y.cuda()\n",
    "            pred = model(x)\n",
    "            loss = loss_fn(pred, y)\n",
    "            score = f1(y, pred, 0.5)\n",
    "            \n",
    "            pbar.set_description(f\"{mode} loss: {loss:>8f} f1: {score:>8f}\")\n",
    "            neptune.log_metric(f'batch_{mode}_loss', loss)\n",
    "            neptune.log_metric(f'batch_{mode}_f1', score)\n",
    "\n",
    "            tot_loss += loss.item()\n",
    "            tot_score += score\n",
    "            if mode == 'train':\n",
    "                optimizer.zero_grad()\n",
    "                loss.backward()\n",
    "                optimizer.step()\n",
    "                scheduler.step()\n",
    "        \n",
    "    tot_loss = 0\n",
    "    tot_score = 0\n",
    "       \n",
    "    with tqdm(dl, leave=False) as pbar:\n",
    "        if mode == 'valid':\n",
    "            with torch.no_grad():\n",
    "                inner_loop()\n",
    "        else:\n",
    "            inner_loop()\n",
    "            \n",
    "    n_batches = len(dl)\n",
    "    tot_loss /= n_batches\n",
    "    tot_score /= n_batches\n",
    "    return tot_loss, tot_score"
   ]
  },
  {
   "cell_type": "code",
   "execution_count": 70,
   "id": "08464a6c-273b-4626-a0db-52c71879c874",
   "metadata": {},
   "outputs": [
    {
     "data": {
      "application/vnd.jupyter.widget-view+json": {
       "model_id": "dd7ddd1ac3294a9981323cbed2409037",
       "version_major": 2,
       "version_minor": 0
      },
      "text/plain": [
       "  0%|          | 0/10 [00:00<?, ?it/s]"
      ]
     },
     "metadata": {},
     "output_type": "display_data"
    },
    {
     "data": {
      "application/vnd.jupyter.widget-view+json": {
       "model_id": "",
       "version_major": 2,
       "version_minor": 0
      },
      "text/plain": [
       "  0%|          | 0/120 [00:00<?, ?it/s]"
      ]
     },
     "metadata": {},
     "output_type": "display_data"
    },
    {
     "data": {
      "application/vnd.jupyter.widget-view+json": {
       "model_id": "",
       "version_major": 2,
       "version_minor": 0
      },
      "text/plain": [
       "  0%|          | 0/38 [00:00<?, ?it/s]"
      ]
     },
     "metadata": {},
     "output_type": "display_data"
    },
    {
     "name": "stdout",
     "output_type": "stream",
     "text": [
      "epoch:   1 train loss: 0.542606 train f1: 0.034940 valid loss: 0.118420 valid f1: 0.210526\n"
     ]
    },
    {
     "data": {
      "application/vnd.jupyter.widget-view+json": {
       "model_id": "",
       "version_major": 2,
       "version_minor": 0
      },
      "text/plain": [
       "  0%|          | 0/120 [00:00<?, ?it/s]"
      ]
     },
     "metadata": {},
     "output_type": "display_data"
    },
    {
     "data": {
      "application/vnd.jupyter.widget-view+json": {
       "model_id": "",
       "version_major": 2,
       "version_minor": 0
      },
      "text/plain": [
       "  0%|          | 0/38 [00:00<?, ?it/s]"
      ]
     },
     "metadata": {},
     "output_type": "display_data"
    },
    {
     "name": "stdout",
     "output_type": "stream",
     "text": [
      "epoch:   2 train loss: 0.153879 train f1: 0.051415 valid loss: 0.124096 valid f1: 0.215944\n"
     ]
    },
    {
     "data": {
      "application/vnd.jupyter.widget-view+json": {
       "model_id": "",
       "version_major": 2,
       "version_minor": 0
      },
      "text/plain": [
       "  0%|          | 0/120 [00:00<?, ?it/s]"
      ]
     },
     "metadata": {},
     "output_type": "display_data"
    },
    {
     "data": {
      "application/vnd.jupyter.widget-view+json": {
       "model_id": "",
       "version_major": 2,
       "version_minor": 0
      },
      "text/plain": [
       "  0%|          | 0/38 [00:00<?, ?it/s]"
      ]
     },
     "metadata": {},
     "output_type": "display_data"
    },
    {
     "name": "stdout",
     "output_type": "stream",
     "text": [
      "epoch:   3 train loss: 0.111123 train f1: 0.331554 valid loss: 0.122996 valid f1: 0.221340\n"
     ]
    },
    {
     "data": {
      "application/vnd.jupyter.widget-view+json": {
       "model_id": "",
       "version_major": 2,
       "version_minor": 0
      },
      "text/plain": [
       "  0%|          | 0/120 [00:00<?, ?it/s]"
      ]
     },
     "metadata": {},
     "output_type": "display_data"
    },
    {
     "data": {
      "application/vnd.jupyter.widget-view+json": {
       "model_id": "",
       "version_major": 2,
       "version_minor": 0
      },
      "text/plain": [
       "  0%|          | 0/38 [00:00<?, ?it/s]"
      ]
     },
     "metadata": {},
     "output_type": "display_data"
    },
    {
     "name": "stdout",
     "output_type": "stream",
     "text": [
      "epoch:   4 train loss: 0.085540 train f1: 0.521768 valid loss: 0.126827 valid f1: 0.245365\n"
     ]
    },
    {
     "data": {
      "application/vnd.jupyter.widget-view+json": {
       "model_id": "",
       "version_major": 2,
       "version_minor": 0
      },
      "text/plain": [
       "  0%|          | 0/120 [00:00<?, ?it/s]"
      ]
     },
     "metadata": {},
     "output_type": "display_data"
    },
    {
     "data": {
      "application/vnd.jupyter.widget-view+json": {
       "model_id": "",
       "version_major": 2,
       "version_minor": 0
      },
      "text/plain": [
       "  0%|          | 0/38 [00:00<?, ?it/s]"
      ]
     },
     "metadata": {},
     "output_type": "display_data"
    },
    {
     "name": "stdout",
     "output_type": "stream",
     "text": [
      "epoch:   5 train loss: 0.076066 train f1: 0.594181 valid loss: 0.118031 valid f1: 0.260061\n"
     ]
    },
    {
     "data": {
      "application/vnd.jupyter.widget-view+json": {
       "model_id": "",
       "version_major": 2,
       "version_minor": 0
      },
      "text/plain": [
       "  0%|          | 0/120 [00:00<?, ?it/s]"
      ]
     },
     "metadata": {},
     "output_type": "display_data"
    },
    {
     "data": {
      "application/vnd.jupyter.widget-view+json": {
       "model_id": "",
       "version_major": 2,
       "version_minor": 0
      },
      "text/plain": [
       "  0%|          | 0/38 [00:00<?, ?it/s]"
      ]
     },
     "metadata": {},
     "output_type": "display_data"
    },
    {
     "name": "stdout",
     "output_type": "stream",
     "text": [
      "epoch:   6 train loss: 0.068900 train f1: 0.636869 valid loss: 0.119609 valid f1: 0.267553\n"
     ]
    },
    {
     "data": {
      "application/vnd.jupyter.widget-view+json": {
       "model_id": "",
       "version_major": 2,
       "version_minor": 0
      },
      "text/plain": [
       "  0%|          | 0/120 [00:00<?, ?it/s]"
      ]
     },
     "metadata": {},
     "output_type": "display_data"
    },
    {
     "data": {
      "application/vnd.jupyter.widget-view+json": {
       "model_id": "",
       "version_major": 2,
       "version_minor": 0
      },
      "text/plain": [
       "  0%|          | 0/38 [00:00<?, ?it/s]"
      ]
     },
     "metadata": {},
     "output_type": "display_data"
    },
    {
     "name": "stdout",
     "output_type": "stream",
     "text": [
      "epoch:   7 train loss: 0.063977 train f1: 0.678620 valid loss: 0.119655 valid f1: 0.257699\n"
     ]
    },
    {
     "data": {
      "application/vnd.jupyter.widget-view+json": {
       "model_id": "",
       "version_major": 2,
       "version_minor": 0
      },
      "text/plain": [
       "  0%|          | 0/120 [00:00<?, ?it/s]"
      ]
     },
     "metadata": {},
     "output_type": "display_data"
    },
    {
     "data": {
      "application/vnd.jupyter.widget-view+json": {
       "model_id": "",
       "version_major": 2,
       "version_minor": 0
      },
      "text/plain": [
       "  0%|          | 0/38 [00:00<?, ?it/s]"
      ]
     },
     "metadata": {},
     "output_type": "display_data"
    },
    {
     "name": "stdout",
     "output_type": "stream",
     "text": [
      "epoch:   8 train loss: 0.059225 train f1: 0.707373 valid loss: 0.118934 valid f1: 0.258592\n"
     ]
    },
    {
     "data": {
      "application/vnd.jupyter.widget-view+json": {
       "model_id": "",
       "version_major": 2,
       "version_minor": 0
      },
      "text/plain": [
       "  0%|          | 0/120 [00:00<?, ?it/s]"
      ]
     },
     "metadata": {},
     "output_type": "display_data"
    },
    {
     "data": {
      "application/vnd.jupyter.widget-view+json": {
       "model_id": "",
       "version_major": 2,
       "version_minor": 0
      },
      "text/plain": [
       "  0%|          | 0/38 [00:00<?, ?it/s]"
      ]
     },
     "metadata": {},
     "output_type": "display_data"
    },
    {
     "name": "stdout",
     "output_type": "stream",
     "text": [
      "epoch:   9 train loss: 0.057092 train f1: 0.719075 valid loss: 0.121524 valid f1: 0.260631\n"
     ]
    },
    {
     "data": {
      "application/vnd.jupyter.widget-view+json": {
       "model_id": "",
       "version_major": 2,
       "version_minor": 0
      },
      "text/plain": [
       "  0%|          | 0/120 [00:00<?, ?it/s]"
      ]
     },
     "metadata": {},
     "output_type": "display_data"
    },
    {
     "data": {
      "application/vnd.jupyter.widget-view+json": {
       "model_id": "",
       "version_major": 2,
       "version_minor": 0
      },
      "text/plain": [
       "  0%|          | 0/38 [00:00<?, ?it/s]"
      ]
     },
     "metadata": {},
     "output_type": "display_data"
    },
    {
     "name": "stdout",
     "output_type": "stream",
     "text": [
      "epoch:  10 train loss: 0.058275 train f1: 0.710886 valid loss: 0.125516 valid f1: 0.258484\n"
     ]
    }
   ],
   "source": [
    "with tqdm(range(n_epochs)) as pbar:\n",
    "    for epoch in pbar:\n",
    "        train_loss, train_score = tv_loop(tdl, 'train')\n",
    "        valid_loss, valid_score = tv_loop(vdl, 'valid')\n",
    "        msg = f\"epoch: {epoch + 1:3d} train loss: {train_loss:>8f} train f1: {train_score:>8f} valid loss: {valid_loss:>8f} valid f1: {valid_score:>8f}\"\n",
    "        print(msg)\n",
    "        neptune.log_metric(f'epoch_train_loss', train_loss)\n",
    "        neptune.log_metric(f'epoch_valid_loss', valid_loss)\n",
    "        neptune.log_metric(f'epoch_train_f1', train_score)\n",
    "        neptune.log_metric(f'epoch_valid_f1', valid_score)\n"
   ]
  },
  {
   "cell_type": "code",
   "execution_count": null,
   "id": "05d179bf-9d2d-4b0f-98df-125d207e5a45",
   "metadata": {},
   "outputs": [],
   "source": []
  }
 ],
 "metadata": {
  "kernelspec": {
   "display_name": "lark",
   "language": "python",
   "name": "lark"
  },
  "language_info": {
   "codemirror_mode": {
    "name": "ipython",
    "version": 3
   },
   "file_extension": ".py",
   "mimetype": "text/x-python",
   "name": "python",
   "nbconvert_exporter": "python",
   "pygments_lexer": "ipython3",
   "version": "3.8.8"
  }
 },
 "nbformat": 4,
 "nbformat_minor": 5
}
