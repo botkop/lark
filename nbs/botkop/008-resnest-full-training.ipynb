{
 "cells": [
  {
   "cell_type": "code",
   "execution_count": 1,
   "id": "5faafb5a-e533-4e6d-96fe-2918a1310213",
   "metadata": {},
   "outputs": [],
   "source": [
    "%reload_ext autoreload\n",
    "%autoreload 2\n",
    "%matplotlib inline"
   ]
  },
  {
   "cell_type": "code",
   "execution_count": 2,
   "id": "0c7299e8-c05a-41ce-949c-7839df37d1f4",
   "metadata": {},
   "outputs": [
    {
     "name": "stdout",
     "output_type": "stream",
     "text": [
      "1.8.1\n",
      "0.8.0a0+e4e171a\n"
     ]
    }
   ],
   "source": [
    "import torch\n",
    "import torchaudio as ta\n",
    "import torchaudio.functional as taf\n",
    "import torchaudio.transforms as tat\n",
    "from torchvision import transforms\n",
    "\n",
    "print(torch.__version__)        \n",
    "print(ta.__version__)\n",
    "\n",
    "import matplotlib\n",
    "import matplotlib.pyplot as plt\n",
    "from IPython.display import Audio, display\n",
    "\n",
    "import pandas as pd\n",
    "import os\n",
    "import pprint\n",
    "\n",
    "from typing import *\n",
    "import itertools\n",
    "from collections import Counter\n",
    "\n",
    "import numpy as np\n",
    "from datetime import datetime\n",
    "from lark.config import Config\n",
    "from lark.learner import Learner\n",
    "from lark.ops import Sig2Spec, MixedSig2Spec"
   ]
  },
  {
   "cell_type": "code",
   "execution_count": 3,
   "id": "168db299-813b-41d3-8f02-a4efa9a3f550",
   "metadata": {
    "tags": []
   },
   "outputs": [
    {
     "name": "stderr",
     "output_type": "stream",
     "text": [
      "Downloading: \"https://github.com/zhanghang1989/ResNeSt/archive/master.zip\" to /home/koen/.cache/torch/hub/master.zip\n"
     ]
    },
    {
     "data": {
      "text/plain": [
       "['resnest101',\n",
       " 'resnest200',\n",
       " 'resnest269',\n",
       " 'resnest50',\n",
       " 'resnest50_fast_1s1x64d',\n",
       " 'resnest50_fast_1s2x40d',\n",
       " 'resnest50_fast_1s4x24d',\n",
       " 'resnest50_fast_2s1x64d',\n",
       " 'resnest50_fast_2s2x40d',\n",
       " 'resnest50_fast_4s1x64d',\n",
       " 'resnest50_fast_4s2x40d']"
      ]
     },
     "execution_count": 3,
     "metadata": {},
     "output_type": "execute_result"
    }
   ],
   "source": [
    "import torch\n",
    "# get list of models\n",
    "torch.hub.list('zhanghang1989/ResNeSt', force_reload=True)"
   ]
  },
  {
   "cell_type": "code",
   "execution_count": 4,
   "id": "97782497-35e0-41dc-86d5-945617a83816",
   "metadata": {},
   "outputs": [],
   "source": [
    "cfg = Config(\n",
    "    noise_nsr_dbs = [30, 20, 10, 3],\n",
    "    sites=None, \n",
    "    use_neptune=True, \n",
    "    log_batch_metrics=False,\n",
    "    n_epochs=15, \n",
    "    bs=32, \n",
    "    lr=1e-4, \n",
    "    model='resnest50',\n",
    "    scheduler='torch.optim.lr_scheduler.OneCycleLR'\n",
    ")"
   ]
  },
  {
   "cell_type": "code",
   "execution_count": 5,
   "id": "07735db6-76ec-4610-962b-51e7bc16141b",
   "metadata": {},
   "outputs": [
    {
     "data": {
      "text/plain": [
       "457344"
      ]
     },
     "execution_count": 5,
     "metadata": {},
     "output_type": "execute_result"
    }
   ],
   "source": [
    "cfg.training_dataset_size"
   ]
  },
  {
   "cell_type": "code",
   "execution_count": 6,
   "id": "0adbeec9-359a-44a7-8bd2-05cf5bb7ccc0",
   "metadata": {},
   "outputs": [
    {
     "data": {
      "text/plain": [
       "1152.0"
      ]
     },
     "execution_count": 6,
     "metadata": {},
     "output_type": "execute_result"
    }
   ],
   "source": [
    "cfg.training_dataset_size / cfg.n_labels"
   ]
  },
  {
   "cell_type": "code",
   "execution_count": 8,
   "id": "1a67d3c8-4b33-439f-86a2-1fba51dee2ad",
   "metadata": {
    "tags": []
   },
   "outputs": [
    {
     "name": "stderr",
     "output_type": "stream",
     "text": [
      "Using cache found in /home/koen/.cache/torch/hub/zhanghang1989_ResNeSt_master\n"
     ]
    }
   ],
   "source": [
    "prep = MixedSig2Spec(cfg)\n",
    "main_model = torch.hub.load('zhanghang1989/ResNeSt', 'resnest50', pretrained=True)\n",
    "posp = torch.nn.Linear(in_features=2048, \n",
    "                       out_features=len(cfg.labels), bias=True)\n",
    "main_model.fc = posp\n",
    "model = torch.nn.Sequential(prep, main_model)\n",
    "model = model.cuda()\n"
   ]
  },
  {
   "cell_type": "code",
   "execution_count": 9,
   "id": "0827d54b-9100-4251-b6ce-4be9f561267d",
   "metadata": {},
   "outputs": [],
   "source": [
    "lrn = Learner(\"resnest50-full-training\", cfg, model)"
   ]
  },
  {
   "cell_type": "code",
   "execution_count": null,
   "id": "56c3f875-ecb1-4e88-a465-5557f28e9dd3",
   "metadata": {
    "tags": []
   },
   "outputs": [
    {
     "name": "stderr",
     "output_type": "stream",
     "text": [
      "psutil is not installed. You will not be able to abort this experiment from the UI.\n",
      "psutil is not installed. Hardware metrics will not be collected.\n"
     ]
    },
    {
     "name": "stdout",
     "output_type": "stream",
     "text": [
      "https://ui.neptune.ai/botkop/lark/e/LAR-66\n"
     ]
    },
    {
     "data": {
      "application/vnd.jupyter.widget-view+json": {
       "model_id": "48dc3696af704c34995e070e448d3334",
       "version_major": 2,
       "version_minor": 0
      },
      "text/plain": [
       "  0%|          | 0/15 [00:00<?, ?it/s]"
      ]
     },
     "metadata": {},
     "output_type": "display_data"
    },
    {
     "data": {
      "application/vnd.jupyter.widget-view+json": {
       "model_id": "",
       "version_major": 2,
       "version_minor": 0
      },
      "text/plain": [
       "  0%|          | 0/14292 [00:00<?, ?it/s]"
      ]
     },
     "metadata": {},
     "output_type": "display_data"
    },
    {
     "name": "stdout",
     "output_type": "stream",
     "text": [
      "skipping file data/birdclef-2021/train_short_audio.wav/babwar/XC137588.wav offset 165386: invalid signal\n",
      "skipping file data/birdclef-2021/train_short_audio.wav/bkmtou1/XC518213.wav offset 54628: invalid signal\n",
      "skipping file data/birdclef-2021/train_short_audio.wav/trokin/XC604129.wav offset 1121319: invalid signal\n",
      "skipping file data/birdclef-2021/train_short_audio.wav/houwre/XC590621.wav offset 1094579: invalid signal\n",
      "skipping file data/birdclef-2021/train_short_audio.wav/whtspa/XC313231.wav offset 683476: invalid signal\n",
      "skipping file data/birdclef-2021/train_short_audio.wav/babwar/XC137588.wav offset 201567: invalid signal\n",
      "skipping file data/birdclef-2021/train_short_audio.wav/yeofly1/XC328921.wav offset 434697: invalid signal\n",
      "skipping file data/birdclef-2021/train_short_audio.wav/houwre/XC590621.wav offset 507542: invalid signal\n",
      "skipping file data/birdclef-2021/train_short_audio.wav/yeofly1/XC328921.wav offset 187294: invalid signal\n",
      "skipping file data/birdclef-2021/train_short_audio.wav/bkmtou1/XC518214.wav offset 8199010: invalid signal\n",
      "skipping file data/birdclef-2021/train_short_audio.wav/babwar/XC137588.wav offset 175820: invalid signal\n",
      "skipping file data/birdclef-2021/train_short_audio.wav/cubthr/XC361494.wav offset 2329713: invalid signal\n",
      "skipping file data/birdclef-2021/train_short_audio.wav/whtspa/XC313231.wav offset 299919: invalid signal\n",
      "skipping file data/birdclef-2021/train_short_audio.wav/babwar/XC137588.wav offset 212915: invalid signal\n",
      "skipping file data/birdclef-2021/train_short_audio.wav/babwar/XC137588.wav offset 201995: invalid signal\n",
      "skipping file data/birdclef-2021/train_short_audio.wav/houwre/XC590621.wav offset 1810204: invalid signal\n"
     ]
    },
    {
     "data": {
      "application/vnd.jupyter.widget-view+json": {
       "model_id": "",
       "version_major": 2,
       "version_minor": 0
      },
      "text/plain": [
       "  0%|          | 0/75 [00:00<?, ?it/s]"
      ]
     },
     "metadata": {},
     "output_type": "display_data"
    },
    {
     "name": "stdout",
     "output_type": "stream",
     "text": [
      "2021-05-05 15:01:57 epoch:   1 train loss: 0.019413 train f1: 0.130842 valid loss: 0.008641 valid f1: 0.060744\n"
     ]
    },
    {
     "data": {
      "application/vnd.jupyter.widget-view+json": {
       "model_id": "",
       "version_major": 2,
       "version_minor": 0
      },
      "text/plain": [
       "  0%|          | 0/14292 [00:00<?, ?it/s]"
      ]
     },
     "metadata": {},
     "output_type": "display_data"
    },
    {
     "name": "stdout",
     "output_type": "stream",
     "text": [
      "skipping file data/birdclef-2021/train_short_audio.wav/bkmtou1/XC518214.wav offset 10408260: invalid signal\n",
      "skipping file data/birdclef-2021/train_short_audio.wav/bkmtou1/XC518213.wav offset 2548237: invalid signal\n",
      "skipping file data/birdclef-2021/train_short_audio.wav/babwar/XC137588.wav offset 166896: invalid signal\n",
      "skipping file data/birdclef-2021/train_short_audio.wav/bkmtou1/XC518213.wav offset 997197: invalid signal\n",
      "skipping file data/birdclef-2021/train_short_audio.wav/babwar/XC137588.wav offset 213566: invalid signal\n",
      "skipping file data/birdclef-2021/train_short_audio.wav/babwar/XC137588.wav offset 161626: invalid signal\n",
      "skipping file data/birdclef-2021/train_short_audio.wav/whtspa/XC313231.wav offset 705221: invalid signal\n",
      "skipping file data/birdclef-2021/train_short_audio.wav/bkmtou1/XC518214.wav offset 7770560: invalid signal\n",
      "skipping file data/birdclef-2021/train_short_audio.wav/babwar/XC137588.wav offset 156321: invalid signal\n",
      "skipping file data/birdclef-2021/train_short_audio.wav/whtspa/XC313231.wav offset 136700: invalid signal\n",
      "skipping file data/birdclef-2021/train_short_audio.wav/babwar/XC137588.wav offset 168759: invalid signal\n",
      "skipping file data/birdclef-2021/train_short_audio.wav/babwar/XC137588.wav offset 153039: invalid signal\n",
      "skipping file data/birdclef-2021/train_short_audio.wav/babwar/XC137588.wav offset 199914: invalid signal\n",
      "skipping file data/birdclef-2021/train_short_audio.wav/bkmtou1/XC518213.wav offset 362942: invalid signal\n",
      "skipping file data/birdclef-2021/train_short_audio.wav/babwar/XC137588.wav offset 177247: invalid signal\n",
      "skipping file data/birdclef-2021/train_short_audio.wav/babwar/XC137588.wav offset 165482: invalid signal\n",
      "skipping file data/birdclef-2021/train_short_audio.wav/yeofly1/XC328921.wav offset 384960: invalid signal\n",
      "skipping file data/birdclef-2021/train_short_audio.wav/babwar/XC137588.wav offset 202517: invalid signal\n",
      "skipping file data/birdclef-2021/train_short_audio.wav/babwar/XC137588.wav offset 175795: invalid signal\n",
      "skipping file data/birdclef-2021/train_short_audio.wav/babwar/XC137588.wav offset 139501: invalid signal\n",
      "skipping file data/birdclef-2021/train_short_audio.wav/babwar/XC137588.wav offset 167020: invalid signal\n",
      "skipping file data/birdclef-2021/train_short_audio.wav/amered/XC137610.wav offset 96792: invalid signal\n",
      "skipping file data/birdclef-2021/train_short_audio.wav/babwar/XC137588.wav offset 176670: invalid signal\n",
      "skipping file data/birdclef-2021/train_short_audio.wav/trokin/XC604129.wav offset 1064958: invalid signal\n",
      "skipping file data/birdclef-2021/train_short_audio.wav/yeofly1/XC328921.wav offset 291776: invalid signal\n",
      "skipping file data/birdclef-2021/train_short_audio.wav/whtspa/XC313231.wav offset 718802: invalid signal\n",
      "skipping file data/birdclef-2021/train_short_audio.wav/bkbplo/XC594762.wav offset 245879: invalid signal\n"
     ]
    },
    {
     "data": {
      "application/vnd.jupyter.widget-view+json": {
       "model_id": "",
       "version_major": 2,
       "version_minor": 0
      },
      "text/plain": [
       "  0%|          | 0/75 [00:00<?, ?it/s]"
      ]
     },
     "metadata": {},
     "output_type": "display_data"
    },
    {
     "name": "stdout",
     "output_type": "stream",
     "text": [
      "2021-05-05 16:37:30 epoch:   2 train loss: 0.014357 train f1: 0.359902 valid loss: 0.008215 valid f1: 0.138329\n"
     ]
    },
    {
     "data": {
      "application/vnd.jupyter.widget-view+json": {
       "model_id": "",
       "version_major": 2,
       "version_minor": 0
      },
      "text/plain": [
       "  0%|          | 0/14292 [00:00<?, ?it/s]"
      ]
     },
     "metadata": {},
     "output_type": "display_data"
    },
    {
     "name": "stdout",
     "output_type": "stream",
     "text": [
      "skipping file data/birdclef-2021/train_short_audio.wav/houwre/XC590621.wav offset 1072959: invalid signal\n",
      "skipping file data/birdclef-2021/train_short_audio.wav/bkbplo/XC594762.wav offset 297978: invalid signal\n",
      "skipping file data/birdclef-2021/train_short_audio.wav/bkmtou1/XC518214.wav offset 8237642: invalid signal\n",
      "skipping file data/birdclef-2021/train_short_audio.wav/bkmtou1/XC518213.wav offset 1681884: invalid signal\n",
      "skipping file data/birdclef-2021/train_short_audio.wav/yeofly1/XC328921.wav offset 221067: invalid signal\n",
      "skipping file data/birdclef-2021/train_short_audio.wav/babwar/XC137588.wav offset 179068: invalid signal\n",
      "skipping file data/birdclef-2021/train_short_audio.wav/babwar/XC137588.wav offset 159833: invalid signal\n",
      "skipping file data/birdclef-2021/train_short_audio.wav/bkmtou1/XC518213.wav offset 1013603: invalid signal\n",
      "skipping file data/birdclef-2021/train_short_audio.wav/bkmtou1/XC518214.wav offset 10024370: invalid signal\n",
      "skipping file data/birdclef-2021/train_short_audio.wav/yeofly1/XC328921.wav offset 292589: invalid signal\n",
      "skipping file data/birdclef-2021/train_short_audio.wav/trokin/XC604129.wav offset 1088879: invalid signal\n",
      "skipping file data/birdclef-2021/train_short_audio.wav/houwre/XC590621.wav offset 2474831: invalid signal\n",
      "skipping file data/birdclef-2021/train_short_audio.wav/whtspa/XC313231.wav offset 162349: invalid signal\n",
      "skipping file data/birdclef-2021/train_short_audio.wav/bkmtou1/XC518214.wav offset 10033885: invalid signal\n",
      "skipping file data/birdclef-2021/train_short_audio.wav/bkmtou1/XC518213.wav offset 211908: invalid signal\n",
      "skipping file data/birdclef-2021/train_short_audio.wav/houspa/XC584512.wav offset 4824161: invalid signal\n",
      "skipping file data/birdclef-2021/train_short_audio.wav/babwar/XC137588.wav offset 186616: invalid signal\n",
      "skipping file data/birdclef-2021/train_short_audio.wav/babwar/XC137588.wav offset 147909: invalid signal\n",
      "skipping file data/birdclef-2021/train_short_audio.wav/babwar/XC137588.wav offset 210493: invalid signal\n",
      "skipping file data/birdclef-2021/train_short_audio.wav/bkmtou1/XC518213.wav offset 1791794: invalid signal\n",
      "skipping file data/birdclef-2021/train_short_audio.wav/bkmtou1/XC518214.wav offset 9021787: invalid signal\n",
      "skipping file data/birdclef-2021/train_short_audio.wav/houwre/XC590621.wav offset 1387031: invalid signal\n"
     ]
    },
    {
     "data": {
      "application/vnd.jupyter.widget-view+json": {
       "model_id": "",
       "version_major": 2,
       "version_minor": 0
      },
      "text/plain": [
       "  0%|          | 0/75 [00:00<?, ?it/s]"
      ]
     },
     "metadata": {},
     "output_type": "display_data"
    },
    {
     "name": "stdout",
     "output_type": "stream",
     "text": [
      "2021-05-05 18:12:30 epoch:   3 train loss: 0.013351 train f1: 0.427325 valid loss: 0.008206 valid f1: 0.108988\n"
     ]
    },
    {
     "data": {
      "application/vnd.jupyter.widget-view+json": {
       "model_id": "6042395f6263443c92004665a1f104aa",
       "version_major": 2,
       "version_minor": 0
      },
      "text/plain": [
       "  0%|          | 0/14292 [00:00<?, ?it/s]"
      ]
     },
     "metadata": {},
     "output_type": "display_data"
    },
    {
     "name": "stdout",
     "output_type": "stream",
     "text": [
      "skipping file data/birdclef-2021/train_short_audio.wav/bkbplo/XC594762.wav offset 255340: invalid signal\n",
      "skipping file data/birdclef-2021/train_short_audio.wav/bkmtou1/XC518213.wav offset 967992: invalid signal\n",
      "skipping file data/birdclef-2021/train_short_audio.wav/whtspa/XC313231.wav offset 117596: invalid signal\n"
     ]
    }
   ],
   "source": [
    "lrn.learn()"
   ]
  },
  {
   "cell_type": "code",
   "execution_count": 76,
   "id": "4c5eeb4e-a796-436e-9ac8-89d7f9b76373",
   "metadata": {},
   "outputs": [
    {
     "data": {
      "text/plain": [
       "{'total_steps': 5040,\n",
       " '_schedule_phases': [{'end_step': 1511.0,\n",
       "   'start_lr': 'initial_lr',\n",
       "   'end_lr': 'max_lr',\n",
       "   'start_momentum': 'max_momentum',\n",
       "   'end_momentum': 'base_momentum'},\n",
       "  {'end_step': 5039,\n",
       "   'start_lr': 'max_lr',\n",
       "   'end_lr': 'min_lr',\n",
       "   'start_momentum': 'base_momentum',\n",
       "   'end_momentum': 'max_momentum'}],\n",
       " 'anneal_func': <bound method OneCycleLR._annealing_cos of <torch.optim.lr_scheduler.OneCycleLR object at 0x7fbe204b0d00>>,\n",
       " 'cycle_momentum': True,\n",
       " 'use_beta1': True,\n",
       " 'base_lrs': [4e-05],\n",
       " 'last_epoch': 5040,\n",
       " '_step_count': 5041,\n",
       " 'verbose': False,\n",
       " '_get_lr_called_within_step': False,\n",
       " '_last_lr': [4.198235228265301e-09]}"
      ]
     },
     "execution_count": 76,
     "metadata": {},
     "output_type": "execute_result"
    }
   ],
   "source": [
    "lrn.scheduler.state_dict()"
   ]
  },
  {
   "cell_type": "code",
   "execution_count": 10,
   "id": "7d2deafe-4c47-4f43-aea9-68cc129e0d9c",
   "metadata": {},
   "outputs": [
    {
     "data": {
      "text/plain": [
       "'resnest50-full-training-20210503-174656-latest'"
      ]
     },
     "execution_count": 10,
     "metadata": {},
     "output_type": "execute_result"
    }
   ],
   "source": [
    "lrn.name = f\"{lrn.name}-latest\"\n",
    "lrn.name"
   ]
  },
  {
   "cell_type": "code",
   "execution_count": 11,
   "id": "d457a163-9277-43b9-84a4-8b9e0ae8b64d",
   "metadata": {},
   "outputs": [],
   "source": [
    "lrn.save_checkpoint(50, 0.009065, 0.058960)"
   ]
  },
  {
   "cell_type": "code",
   "execution_count": 12,
   "id": "2f986526-2ace-4df5-96f6-392676536e41",
   "metadata": {},
   "outputs": [
    {
     "data": {
      "application/vnd.jupyter.widget-view+json": {
       "model_id": "73228e12e98c4ea4a944788efb3632e7",
       "version_major": 2,
       "version_minor": 0
      },
      "text/plain": [
       "  0%|          | 0/75 [00:00<?, ?it/s]"
      ]
     },
     "metadata": {},
     "output_type": "display_data"
    },
    {
     "data": {
      "text/html": [
       "<div>\n",
       "<style scoped>\n",
       "    .dataframe tbody tr th:only-of-type {\n",
       "        vertical-align: middle;\n",
       "    }\n",
       "\n",
       "    .dataframe tbody tr th {\n",
       "        vertical-align: top;\n",
       "    }\n",
       "\n",
       "    .dataframe thead th {\n",
       "        text-align: right;\n",
       "    }\n",
       "</style>\n",
       "<table border=\"1\" class=\"dataframe\">\n",
       "  <thead>\n",
       "    <tr style=\"text-align: right;\">\n",
       "      <th></th>\n",
       "      <th>thresh</th>\n",
       "      <th>tp</th>\n",
       "      <th>tn</th>\n",
       "      <th>fp</th>\n",
       "      <th>fn</th>\n",
       "      <th>f1</th>\n",
       "    </tr>\n",
       "  </thead>\n",
       "  <tbody>\n",
       "    <tr>\n",
       "      <th>0</th>\n",
       "      <td>0.0</td>\n",
       "      <td>1183</td>\n",
       "      <td>0</td>\n",
       "      <td>951617</td>\n",
       "      <td>0</td>\n",
       "      <td>0.002480</td>\n",
       "    </tr>\n",
       "    <tr>\n",
       "      <th>1</th>\n",
       "      <td>0.1</td>\n",
       "      <td>137</td>\n",
       "      <td>949593</td>\n",
       "      <td>2024</td>\n",
       "      <td>1046</td>\n",
       "      <td>0.081938</td>\n",
       "    </tr>\n",
       "    <tr>\n",
       "      <th>2</th>\n",
       "      <td>0.2</td>\n",
       "      <td>90</td>\n",
       "      <td>950880</td>\n",
       "      <td>737</td>\n",
       "      <td>1093</td>\n",
       "      <td>0.089552</td>\n",
       "    </tr>\n",
       "    <tr>\n",
       "      <th>3</th>\n",
       "      <td>0.3</td>\n",
       "      <td>68</td>\n",
       "      <td>951284</td>\n",
       "      <td>333</td>\n",
       "      <td>1115</td>\n",
       "      <td>0.085859</td>\n",
       "    </tr>\n",
       "    <tr>\n",
       "      <th>4</th>\n",
       "      <td>0.4</td>\n",
       "      <td>53</td>\n",
       "      <td>951466</td>\n",
       "      <td>151</td>\n",
       "      <td>1130</td>\n",
       "      <td>0.076424</td>\n",
       "    </tr>\n",
       "    <tr>\n",
       "      <th>5</th>\n",
       "      <td>0.5</td>\n",
       "      <td>38</td>\n",
       "      <td>951549</td>\n",
       "      <td>68</td>\n",
       "      <td>1145</td>\n",
       "      <td>0.058960</td>\n",
       "    </tr>\n",
       "    <tr>\n",
       "      <th>6</th>\n",
       "      <td>0.6</td>\n",
       "      <td>27</td>\n",
       "      <td>951578</td>\n",
       "      <td>39</td>\n",
       "      <td>1156</td>\n",
       "      <td>0.043235</td>\n",
       "    </tr>\n",
       "    <tr>\n",
       "      <th>7</th>\n",
       "      <td>0.7</td>\n",
       "      <td>22</td>\n",
       "      <td>951596</td>\n",
       "      <td>21</td>\n",
       "      <td>1161</td>\n",
       "      <td>0.035889</td>\n",
       "    </tr>\n",
       "    <tr>\n",
       "      <th>8</th>\n",
       "      <td>0.8</td>\n",
       "      <td>15</td>\n",
       "      <td>951609</td>\n",
       "      <td>8</td>\n",
       "      <td>1168</td>\n",
       "      <td>0.024876</td>\n",
       "    </tr>\n",
       "    <tr>\n",
       "      <th>9</th>\n",
       "      <td>0.9</td>\n",
       "      <td>5</td>\n",
       "      <td>951614</td>\n",
       "      <td>3</td>\n",
       "      <td>1178</td>\n",
       "      <td>0.008396</td>\n",
       "    </tr>\n",
       "    <tr>\n",
       "      <th>10</th>\n",
       "      <td>1.0</td>\n",
       "      <td>0</td>\n",
       "      <td>951617</td>\n",
       "      <td>0</td>\n",
       "      <td>1183</td>\n",
       "      <td>0.000000</td>\n",
       "    </tr>\n",
       "  </tbody>\n",
       "</table>\n",
       "</div>"
      ],
      "text/plain": [
       "    thresh    tp      tn      fp    fn        f1\n",
       "0      0.0  1183       0  951617     0  0.002480\n",
       "1      0.1   137  949593    2024  1046  0.081938\n",
       "2      0.2    90  950880     737  1093  0.089552\n",
       "3      0.3    68  951284     333  1115  0.085859\n",
       "4      0.4    53  951466     151  1130  0.076424\n",
       "5      0.5    38  951549      68  1145  0.058960\n",
       "6      0.6    27  951578      39  1156  0.043235\n",
       "7      0.7    22  951596      21  1161  0.035889\n",
       "8      0.8    15  951609       8  1168  0.024876\n",
       "9      0.9     5  951614       3  1178  0.008396\n",
       "10     1.0     0  951617       0  1183  0.000000"
      ]
     },
     "execution_count": 12,
     "metadata": {},
     "output_type": "execute_result"
    }
   ],
   "source": [
    "lrn.evaluate()"
   ]
  },
  {
   "cell_type": "code",
   "execution_count": 14,
   "id": "c2da1e75-b446-4df1-8705-dd6d187f79e3",
   "metadata": {},
   "outputs": [
    {
     "data": {
      "text/plain": [
       "{'epoch': 4,\n",
       " 'valid_loss': 0.008272748069527248,\n",
       " 'valid_score': 0.046985119581222534}"
      ]
     },
     "execution_count": 14,
     "metadata": {},
     "output_type": "execute_result"
    }
   ],
   "source": [
    "lrn.name = 'resnest50-full-training-20210503-174656'\n",
    "lrn.load_checkpoint()"
   ]
  },
  {
   "cell_type": "code",
   "execution_count": 15,
   "id": "e29b77a7-94d8-4301-bfbb-1262c10089f9",
   "metadata": {},
   "outputs": [
    {
     "data": {
      "application/vnd.jupyter.widget-view+json": {
       "model_id": "9c6f9ed0294b432d858cdce130f28b2b",
       "version_major": 2,
       "version_minor": 0
      },
      "text/plain": [
       "  0%|          | 0/75 [00:00<?, ?it/s]"
      ]
     },
     "metadata": {},
     "output_type": "display_data"
    },
    {
     "data": {
      "text/html": [
       "<div>\n",
       "<style scoped>\n",
       "    .dataframe tbody tr th:only-of-type {\n",
       "        vertical-align: middle;\n",
       "    }\n",
       "\n",
       "    .dataframe tbody tr th {\n",
       "        vertical-align: top;\n",
       "    }\n",
       "\n",
       "    .dataframe thead th {\n",
       "        text-align: right;\n",
       "    }\n",
       "</style>\n",
       "<table border=\"1\" class=\"dataframe\">\n",
       "  <thead>\n",
       "    <tr style=\"text-align: right;\">\n",
       "      <th></th>\n",
       "      <th>thresh</th>\n",
       "      <th>tp</th>\n",
       "      <th>tn</th>\n",
       "      <th>fp</th>\n",
       "      <th>fn</th>\n",
       "      <th>f1</th>\n",
       "    </tr>\n",
       "  </thead>\n",
       "  <tbody>\n",
       "    <tr>\n",
       "      <th>0</th>\n",
       "      <td>0.0</td>\n",
       "      <td>1183</td>\n",
       "      <td>0</td>\n",
       "      <td>951617</td>\n",
       "      <td>0</td>\n",
       "      <td>0.002480</td>\n",
       "    </tr>\n",
       "    <tr>\n",
       "      <th>1</th>\n",
       "      <td>0.1</td>\n",
       "      <td>124</td>\n",
       "      <td>950373</td>\n",
       "      <td>1244</td>\n",
       "      <td>1059</td>\n",
       "      <td>0.097217</td>\n",
       "    </tr>\n",
       "    <tr>\n",
       "      <th>2</th>\n",
       "      <td>0.2</td>\n",
       "      <td>69</td>\n",
       "      <td>951273</td>\n",
       "      <td>344</td>\n",
       "      <td>1114</td>\n",
       "      <td>0.086466</td>\n",
       "    </tr>\n",
       "    <tr>\n",
       "      <th>3</th>\n",
       "      <td>0.3</td>\n",
       "      <td>46</td>\n",
       "      <td>951445</td>\n",
       "      <td>172</td>\n",
       "      <td>1137</td>\n",
       "      <td>0.065667</td>\n",
       "    </tr>\n",
       "    <tr>\n",
       "      <th>4</th>\n",
       "      <td>0.4</td>\n",
       "      <td>37</td>\n",
       "      <td>951513</td>\n",
       "      <td>104</td>\n",
       "      <td>1146</td>\n",
       "      <td>0.055891</td>\n",
       "    </tr>\n",
       "    <tr>\n",
       "      <th>5</th>\n",
       "      <td>0.5</td>\n",
       "      <td>30</td>\n",
       "      <td>951553</td>\n",
       "      <td>64</td>\n",
       "      <td>1153</td>\n",
       "      <td>0.046985</td>\n",
       "    </tr>\n",
       "    <tr>\n",
       "      <th>6</th>\n",
       "      <td>0.6</td>\n",
       "      <td>22</td>\n",
       "      <td>951576</td>\n",
       "      <td>41</td>\n",
       "      <td>1161</td>\n",
       "      <td>0.035313</td>\n",
       "    </tr>\n",
       "    <tr>\n",
       "      <th>7</th>\n",
       "      <td>0.7</td>\n",
       "      <td>13</td>\n",
       "      <td>951592</td>\n",
       "      <td>25</td>\n",
       "      <td>1170</td>\n",
       "      <td>0.021294</td>\n",
       "    </tr>\n",
       "    <tr>\n",
       "      <th>8</th>\n",
       "      <td>0.8</td>\n",
       "      <td>9</td>\n",
       "      <td>951603</td>\n",
       "      <td>14</td>\n",
       "      <td>1174</td>\n",
       "      <td>0.014925</td>\n",
       "    </tr>\n",
       "    <tr>\n",
       "      <th>9</th>\n",
       "      <td>0.9</td>\n",
       "      <td>6</td>\n",
       "      <td>951610</td>\n",
       "      <td>7</td>\n",
       "      <td>1177</td>\n",
       "      <td>0.010033</td>\n",
       "    </tr>\n",
       "    <tr>\n",
       "      <th>10</th>\n",
       "      <td>1.0</td>\n",
       "      <td>0</td>\n",
       "      <td>951617</td>\n",
       "      <td>0</td>\n",
       "      <td>1183</td>\n",
       "      <td>0.000000</td>\n",
       "    </tr>\n",
       "  </tbody>\n",
       "</table>\n",
       "</div>"
      ],
      "text/plain": [
       "    thresh    tp      tn      fp    fn        f1\n",
       "0      0.0  1183       0  951617     0  0.002480\n",
       "1      0.1   124  950373    1244  1059  0.097217\n",
       "2      0.2    69  951273     344  1114  0.086466\n",
       "3      0.3    46  951445     172  1137  0.065667\n",
       "4      0.4    37  951513     104  1146  0.055891\n",
       "5      0.5    30  951553      64  1153  0.046985\n",
       "6      0.6    22  951576      41  1161  0.035313\n",
       "7      0.7    13  951592      25  1170  0.021294\n",
       "8      0.8     9  951603      14  1174  0.014925\n",
       "9      0.9     6  951610       7  1177  0.010033\n",
       "10     1.0     0  951617       0  1183  0.000000"
      ]
     },
     "execution_count": 15,
     "metadata": {},
     "output_type": "execute_result"
    }
   ],
   "source": [
    "lrn.evaluate()"
   ]
  },
  {
   "cell_type": "code",
   "execution_count": null,
   "id": "e8ba5da1-eac8-4ef2-ade4-1917d891697a",
   "metadata": {},
   "outputs": [],
   "source": []
  }
 ],
 "metadata": {
  "kernelspec": {
   "display_name": "lark",
   "language": "python",
   "name": "lark"
  },
  "language_info": {
   "codemirror_mode": {
    "name": "ipython",
    "version": 3
   },
   "file_extension": ".py",
   "mimetype": "text/x-python",
   "name": "python",
   "nbconvert_exporter": "python",
   "pygments_lexer": "ipython3",
   "version": "3.8.8"
  }
 },
 "nbformat": 4,
 "nbformat_minor": 5
}
