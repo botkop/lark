{
 "cells": [
  {
   "cell_type": "code",
   "execution_count": 1,
   "id": "5faafb5a-e533-4e6d-96fe-2918a1310213",
   "metadata": {},
   "outputs": [],
   "source": [
    "%reload_ext autoreload\n",
    "%autoreload 2\n",
    "%matplotlib inline"
   ]
  },
  {
   "cell_type": "code",
   "execution_count": 2,
   "id": "0c7299e8-c05a-41ce-949c-7839df37d1f4",
   "metadata": {},
   "outputs": [
    {
     "name": "stdout",
     "output_type": "stream",
     "text": [
      "1.8.1\n",
      "0.8.0a0+e4e171a\n"
     ]
    }
   ],
   "source": [
    "import torch\n",
    "import torchaudio as ta\n",
    "import torchaudio.functional as taf\n",
    "import torchaudio.transforms as tat\n",
    "from torchvision import transforms\n",
    "\n",
    "print(torch.__version__)        \n",
    "print(ta.__version__)\n",
    "\n",
    "import matplotlib\n",
    "import matplotlib.pyplot as plt\n",
    "from IPython.display import Audio, display\n",
    "\n",
    "import pandas as pd\n",
    "import os\n",
    "import pprint\n",
    "\n",
    "from typing import *\n",
    "import itertools\n",
    "from collections import Counter\n",
    "\n",
    "import numpy as np\n",
    "from datetime import datetime\n",
    "from lark.config import Config\n",
    "from lark.learner import Learner\n",
    "from lark.ops import Sig2Spec, MixedSig2Spec"
   ]
  },
  {
   "cell_type": "code",
   "execution_count": 3,
   "id": "168db299-813b-41d3-8f02-a4efa9a3f550",
   "metadata": {
    "tags": []
   },
   "outputs": [
    {
     "name": "stderr",
     "output_type": "stream",
     "text": [
      "Downloading: \"https://github.com/zhanghang1989/ResNeSt/archive/master.zip\" to /home/koen/.cache/torch/hub/master.zip\n"
     ]
    },
    {
     "data": {
      "text/plain": [
       "['resnest101',\n",
       " 'resnest200',\n",
       " 'resnest269',\n",
       " 'resnest50',\n",
       " 'resnest50_fast_1s1x64d',\n",
       " 'resnest50_fast_1s2x40d',\n",
       " 'resnest50_fast_1s4x24d',\n",
       " 'resnest50_fast_2s1x64d',\n",
       " 'resnest50_fast_2s2x40d',\n",
       " 'resnest50_fast_4s1x64d',\n",
       " 'resnest50_fast_4s2x40d']"
      ]
     },
     "execution_count": 3,
     "metadata": {},
     "output_type": "execute_result"
    }
   ],
   "source": [
    "import torch\n",
    "# get list of models\n",
    "torch.hub.list('zhanghang1989/ResNeSt', force_reload=True)"
   ]
  },
  {
   "cell_type": "code",
   "execution_count": null,
   "id": "ba2130e1-76c6-40b5-a40b-6e9138206825",
   "metadata": {},
   "outputs": [],
   "source": []
  },
  {
   "cell_type": "code",
   "execution_count": 4,
   "id": "97782497-35e0-41dc-86d5-945617a83816",
   "metadata": {},
   "outputs": [],
   "source": [
    "cfg = Config(\n",
    "#     n_mels = 128,\n",
    "#     f_min = 20,\n",
    "#     f_max = 16000,\n",
    "#     n_fft = 2048,\n",
    "#     hop_length = 512,\n",
    "    \n",
    "    noise_nsr_dbs = [35, 30, 20, 10],\n",
    "    sites=None, \n",
    "    use_neptune=True, \n",
    "    n_epochs=15, \n",
    "    bs=32, \n",
    "    lr=1e-4, \n",
    "    model='resnest50',\n",
    "    scheduler='torch.optim.lr_scheduler.OneCycleLR'\n",
    ")"
   ]
  },
  {
   "cell_type": "code",
   "execution_count": 5,
   "id": "04a4d354-6c2b-49f1-adee-f6b7f7a44a1c",
   "metadata": {
    "tags": []
   },
   "outputs": [
    {
     "data": {
      "text/plain": [
       "{'sites': None,\n",
       " 'data_dir': 'data/birdclef-2021',\n",
       " 'checkpoint_dir': 'checkpoints',\n",
       " 'bs': 32,\n",
       " 'n_workers': 12,\n",
       " 'duration': 5,\n",
       " 'use_noise': True,\n",
       " 'noise_nsr_dbs': [35, 30, 20, 10],\n",
       " 'noise_dir': 'data/noise/BirdVox-DCASE-20k/wav-32k',\n",
       " 'use_overlays': True,\n",
       " 'max_overlays': 5,\n",
       " 'overlay_weights': [0.71986223,\n",
       "  0.21010333,\n",
       "  0.06314581,\n",
       "  0.00574053,\n",
       "  0.00114811],\n",
       " 'overlay_snr_dbs': [20, 10, 3],\n",
       " 'use_neptune': True,\n",
       " 'sr': 32000,\n",
       " 'n_frames': 160000,\n",
       " 'n_fft': 512,\n",
       " 'window_length': 512,\n",
       " 'n_mels': 64,\n",
       " 'hop_length': 312,\n",
       " 'f_min': 150,\n",
       " 'f_max': 15000,\n",
       " 'lr': 0.0001,\n",
       " 'n_epochs': 15,\n",
       " 'model': 'resnest50',\n",
       " 'optimizer': 'torch.optim.Adam',\n",
       " 'loss_fn': 'torch.nn.BCEWithLogitsLoss',\n",
       " 'scheduler': 'torch.optim.lr_scheduler.OneCycleLR',\n",
       " 'labels': ['acafly',\n",
       "  'acowoo',\n",
       "  'aldfly',\n",
       "  'ameavo',\n",
       "  'amecro',\n",
       "  'amegfi',\n",
       "  'amekes',\n",
       "  'amepip',\n",
       "  'amered',\n",
       "  'amerob',\n",
       "  'amewig',\n",
       "  'amtspa',\n",
       "  'andsol1',\n",
       "  'annhum',\n",
       "  'astfly',\n",
       "  'azaspi1',\n",
       "  'babwar',\n",
       "  'baleag',\n",
       "  'balori',\n",
       "  'banana',\n",
       "  'banswa',\n",
       "  'banwre1',\n",
       "  'barant1',\n",
       "  'barswa',\n",
       "  'batpig1',\n",
       "  'bawswa1',\n",
       "  'bawwar',\n",
       "  'baywre1',\n",
       "  'bbwduc',\n",
       "  'bcnher',\n",
       "  'belkin1',\n",
       "  'belvir',\n",
       "  'bewwre',\n",
       "  'bkbmag1',\n",
       "  'bkbplo',\n",
       "  'bkbwar',\n",
       "  'bkcchi',\n",
       "  'bkhgro',\n",
       "  'bkmtou1',\n",
       "  'bknsti',\n",
       "  'blbgra1',\n",
       "  'blbthr1',\n",
       "  'blcjay1',\n",
       "  'blctan1',\n",
       "  'blhpar1',\n",
       "  'blkpho',\n",
       "  'blsspa1',\n",
       "  'blugrb1',\n",
       "  'blujay',\n",
       "  'bncfly',\n",
       "  'bnhcow',\n",
       "  'bobfly1',\n",
       "  'bongul',\n",
       "  'botgra',\n",
       "  'brbmot1',\n",
       "  'brbsol1',\n",
       "  'brcvir1',\n",
       "  'brebla',\n",
       "  'brncre',\n",
       "  'brnjay',\n",
       "  'brnthr',\n",
       "  'brratt1',\n",
       "  'brwhaw',\n",
       "  'brwpar1',\n",
       "  'btbwar',\n",
       "  'btnwar',\n",
       "  'btywar',\n",
       "  'bucmot2',\n",
       "  'buggna',\n",
       "  'bugtan',\n",
       "  'buhvir',\n",
       "  'bulori',\n",
       "  'burwar1',\n",
       "  'bushti',\n",
       "  'butsal1',\n",
       "  'buwtea',\n",
       "  'cacgoo1',\n",
       "  'cacwre',\n",
       "  'calqua',\n",
       "  'caltow',\n",
       "  'cangoo',\n",
       "  'canwar',\n",
       "  'carchi',\n",
       "  'carwre',\n",
       "  'casfin',\n",
       "  'caskin',\n",
       "  'caster1',\n",
       "  'casvir',\n",
       "  'categr',\n",
       "  'ccbfin',\n",
       "  'cedwax',\n",
       "  'chbant1',\n",
       "  'chbchi',\n",
       "  'chbwre1',\n",
       "  'chcant2',\n",
       "  'chispa',\n",
       "  'chswar',\n",
       "  'cinfly2',\n",
       "  'clanut',\n",
       "  'clcrob',\n",
       "  'cliswa',\n",
       "  'cobtan1',\n",
       "  'cocwoo1',\n",
       "  'cogdov',\n",
       "  'colcha1',\n",
       "  'coltro1',\n",
       "  'comgol',\n",
       "  'comgra',\n",
       "  'comloo',\n",
       "  'commer',\n",
       "  'compau',\n",
       "  'compot1',\n",
       "  'comrav',\n",
       "  'comyel',\n",
       "  'coohaw',\n",
       "  'cotfly1',\n",
       "  'cowscj1',\n",
       "  'cregua1',\n",
       "  'creoro1',\n",
       "  'crfpar',\n",
       "  'cubthr',\n",
       "  'daejun',\n",
       "  'dowwoo',\n",
       "  'ducfly',\n",
       "  'dusfly',\n",
       "  'easblu',\n",
       "  'easkin',\n",
       "  'easmea',\n",
       "  'easpho',\n",
       "  'eastow',\n",
       "  'eawpew',\n",
       "  'eletro',\n",
       "  'eucdov',\n",
       "  'eursta',\n",
       "  'fepowl',\n",
       "  'fiespa',\n",
       "  'flrtan1',\n",
       "  'foxspa',\n",
       "  'gadwal',\n",
       "  'gamqua',\n",
       "  'gartro1',\n",
       "  'gbbgul',\n",
       "  'gbwwre1',\n",
       "  'gcrwar',\n",
       "  'gilwoo',\n",
       "  'gnttow',\n",
       "  'gnwtea',\n",
       "  'gocfly1',\n",
       "  'gockin',\n",
       "  'gocspa',\n",
       "  'goftyr1',\n",
       "  'gohque1',\n",
       "  'goowoo1',\n",
       "  'grasal1',\n",
       "  'grbani',\n",
       "  'grbher3',\n",
       "  'grcfly',\n",
       "  'greegr',\n",
       "  'grekis',\n",
       "  'grepew',\n",
       "  'grethr1',\n",
       "  'gretin1',\n",
       "  'greyel',\n",
       "  'grhcha1',\n",
       "  'grhowl',\n",
       "  'grnher',\n",
       "  'grnjay',\n",
       "  'grtgra',\n",
       "  'grycat',\n",
       "  'gryhaw2',\n",
       "  'gwfgoo',\n",
       "  'haiwoo',\n",
       "  'heptan',\n",
       "  'hergul',\n",
       "  'herthr',\n",
       "  'herwar',\n",
       "  'higmot1',\n",
       "  'hofwoo1',\n",
       "  'houfin',\n",
       "  'houspa',\n",
       "  'houwre',\n",
       "  'hutvir',\n",
       "  'incdov',\n",
       "  'indbun',\n",
       "  'kebtou1',\n",
       "  'killde',\n",
       "  'labwoo',\n",
       "  'larspa',\n",
       "  'laufal1',\n",
       "  'laugul',\n",
       "  'lazbun',\n",
       "  'leafly',\n",
       "  'leasan',\n",
       "  'lesgol',\n",
       "  'lesgre1',\n",
       "  'lesvio1',\n",
       "  'linspa',\n",
       "  'linwoo1',\n",
       "  'littin1',\n",
       "  'lobdow',\n",
       "  'lobgna5',\n",
       "  'logshr',\n",
       "  'lotduc',\n",
       "  'lotman1',\n",
       "  'lucwar',\n",
       "  'macwar',\n",
       "  'magwar',\n",
       "  'mallar3',\n",
       "  'marwre',\n",
       "  'mastro1',\n",
       "  'meapar',\n",
       "  'melbla1',\n",
       "  'monoro1',\n",
       "  'mouchi',\n",
       "  'moudov',\n",
       "  'mouela1',\n",
       "  'mouqua',\n",
       "  'mouwar',\n",
       "  'mutswa',\n",
       "  'naswar',\n",
       "  'norcar',\n",
       "  'norfli',\n",
       "  'normoc',\n",
       "  'norpar',\n",
       "  'norsho',\n",
       "  'norwat',\n",
       "  'nrwswa',\n",
       "  'nutwoo',\n",
       "  'oaktit',\n",
       "  'obnthr1',\n",
       "  'ocbfly1',\n",
       "  'oliwoo1',\n",
       "  'olsfly',\n",
       "  'orbeup1',\n",
       "  'orbspa1',\n",
       "  'orcpar',\n",
       "  'orcwar',\n",
       "  'orfpar',\n",
       "  'osprey',\n",
       "  'ovenbi1',\n",
       "  'pabspi1',\n",
       "  'paltan1',\n",
       "  'palwar',\n",
       "  'pasfly',\n",
       "  'pavpig2',\n",
       "  'phivir',\n",
       "  'pibgre',\n",
       "  'pilwoo',\n",
       "  'pinsis',\n",
       "  'pirfly1',\n",
       "  'plawre1',\n",
       "  'plaxen1',\n",
       "  'plsvir',\n",
       "  'plupig2',\n",
       "  'prowar',\n",
       "  'purfin',\n",
       "  'purgal2',\n",
       "  'putfru1',\n",
       "  'pygnut',\n",
       "  'rawwre1',\n",
       "  'rcatan1',\n",
       "  'rebnut',\n",
       "  'rebsap',\n",
       "  'rebwoo',\n",
       "  'redcro',\n",
       "  'reevir1',\n",
       "  'rehbar1',\n",
       "  'relpar',\n",
       "  'reshaw',\n",
       "  'rethaw',\n",
       "  'rewbla',\n",
       "  'ribgul',\n",
       "  'rinkin1',\n",
       "  'roahaw',\n",
       "  'robgro',\n",
       "  'rocpig',\n",
       "  'rotbec',\n",
       "  'royter1',\n",
       "  'rthhum',\n",
       "  'rtlhum',\n",
       "  'ruboro1',\n",
       "  'rubpep1',\n",
       "  'rubrob',\n",
       "  'rubwre1',\n",
       "  'ruckin',\n",
       "  'rucspa1',\n",
       "  'rucwar',\n",
       "  'rucwar1',\n",
       "  'rudpig',\n",
       "  'rudtur',\n",
       "  'rufhum',\n",
       "  'rugdov',\n",
       "  'rumfly1',\n",
       "  'runwre1',\n",
       "  'rutjac1',\n",
       "  'saffin',\n",
       "  'sancra',\n",
       "  'sander',\n",
       "  'savspa',\n",
       "  'saypho',\n",
       "  'scamac1',\n",
       "  'scatan',\n",
       "  'scbwre1',\n",
       "  'scptyr1',\n",
       "  'scrtan1',\n",
       "  'semplo',\n",
       "  'shicow',\n",
       "  'sibtan2',\n",
       "  'sinwre1',\n",
       "  'sltred',\n",
       "  'smbani',\n",
       "  'snogoo',\n",
       "  'sobtyr1',\n",
       "  'socfly1',\n",
       "  'solsan',\n",
       "  'sonspa',\n",
       "  'soulap1',\n",
       "  'sposan',\n",
       "  'spotow',\n",
       "  'spvear1',\n",
       "  'squcuc1',\n",
       "  'stbori',\n",
       "  'stejay',\n",
       "  'sthant1',\n",
       "  'sthwoo1',\n",
       "  'strcuc1',\n",
       "  'strfly1',\n",
       "  'strsal1',\n",
       "  'stvhum2',\n",
       "  'subfly',\n",
       "  'sumtan',\n",
       "  'swaspa',\n",
       "  'swathr',\n",
       "  'tenwar',\n",
       "  'thbeup1',\n",
       "  'thbkin',\n",
       "  'thswar1',\n",
       "  'towsol',\n",
       "  'treswa',\n",
       "  'trogna1',\n",
       "  'trokin',\n",
       "  'tromoc',\n",
       "  'tropar',\n",
       "  'tropew1',\n",
       "  'tuftit',\n",
       "  'tunswa',\n",
       "  'veery',\n",
       "  'verdin',\n",
       "  'vigswa',\n",
       "  'warvir',\n",
       "  'wbwwre1',\n",
       "  'webwoo1',\n",
       "  'wegspa1',\n",
       "  'wesant1',\n",
       "  'wesblu',\n",
       "  'weskin',\n",
       "  'wesmea',\n",
       "  'westan',\n",
       "  'wewpew',\n",
       "  'whbman1',\n",
       "  'whbnut',\n",
       "  'whcpar',\n",
       "  'whcsee1',\n",
       "  'whcspa',\n",
       "  'whevir',\n",
       "  'whfpar1',\n",
       "  'whimbr',\n",
       "  'whiwre1',\n",
       "  'whtdov',\n",
       "  'whtspa',\n",
       "  'whwbec1',\n",
       "  'whwdov',\n",
       "  'wilfly',\n",
       "  'willet1',\n",
       "  'wilsni1',\n",
       "  'wiltur',\n",
       "  'wlswar',\n",
       "  'wooduc',\n",
       "  'woothr',\n",
       "  'wrenti',\n",
       "  'y00475',\n",
       "  'yebcha',\n",
       "  'yebela1',\n",
       "  'yebfly',\n",
       "  'yebori1',\n",
       "  'yebsap',\n",
       "  'yebsee1',\n",
       "  'yefgra1',\n",
       "  'yegvir',\n",
       "  'yehbla',\n",
       "  'yehcar1',\n",
       "  'yelgro',\n",
       "  'yelwar',\n",
       "  'yeofly1',\n",
       "  'yerwar',\n",
       "  'yeteup1',\n",
       "  'yetvir'],\n",
       " 'scheduler_params': {'max_lr': 0.001, 'steps_per_epoch': 4764, 'epochs': 15}}"
      ]
     },
     "execution_count": 5,
     "metadata": {},
     "output_type": "execute_result"
    }
   ],
   "source": [
    "cfg.as_dict()"
   ]
  },
  {
   "cell_type": "code",
   "execution_count": 6,
   "id": "1a67d3c8-4b33-439f-86a2-1fba51dee2ad",
   "metadata": {
    "tags": []
   },
   "outputs": [
    {
     "name": "stderr",
     "output_type": "stream",
     "text": [
      "Using cache found in /home/koen/.cache/torch/hub/zhanghang1989_ResNeSt_master\n"
     ]
    }
   ],
   "source": [
    "prep = MixedSig2Spec(cfg)\n",
    "\n",
    "main_model = torch.hub.load('zhanghang1989/ResNeSt', 'resnest50', pretrained=True)\n",
    "\n",
    "posp = torch.nn.Linear(in_features=2048, \n",
    "                       out_features=len(cfg.labels), bias=True)\n",
    "\n",
    "main_model.fc = posp\n",
    "\n",
    "model = torch.nn.Sequential(prep, main_model)\n",
    "\n",
    "model = model.cuda()\n"
   ]
  },
  {
   "cell_type": "code",
   "execution_count": 7,
   "id": "0827d54b-9100-4251-b6ce-4be9f561267d",
   "metadata": {},
   "outputs": [],
   "source": [
    "lrn = Learner(\"resnest50-full-training\", cfg, model)"
   ]
  },
  {
   "cell_type": "code",
   "execution_count": 8,
   "id": "56c3f875-ecb1-4e88-a465-5557f28e9dd3",
   "metadata": {
    "tags": []
   },
   "outputs": [
    {
     "name": "stderr",
     "output_type": "stream",
     "text": [
      "psutil is not installed. You will not be able to abort this experiment from the UI.\n",
      "psutil is not installed. Hardware metrics will not be collected.\n"
     ]
    },
    {
     "name": "stdout",
     "output_type": "stream",
     "text": [
      "https://ui.neptune.ai/botkop/lark/e/LAR-65\n"
     ]
    },
    {
     "data": {
      "application/vnd.jupyter.widget-view+json": {
       "model_id": "7555361f1efe459095c5c9effc3c9577",
       "version_major": 2,
       "version_minor": 0
      },
      "text/plain": [
       "  0%|          | 0/15 [00:00<?, ?it/s]"
      ]
     },
     "metadata": {},
     "output_type": "display_data"
    },
    {
     "data": {
      "application/vnd.jupyter.widget-view+json": {
       "model_id": "",
       "version_major": 2,
       "version_minor": 0
      },
      "text/plain": [
       "  0%|          | 0/4764 [00:00<?, ?it/s]"
      ]
     },
     "metadata": {},
     "output_type": "display_data"
    },
    {
     "name": "stdout",
     "output_type": "stream",
     "text": [
      "skipping file data/birdclef-2021/train_short_audio.wav/cogdov/XC579430.wav offset 943031: invalid signal\n",
      "skipping file data/birdclef-2021/train_short_audio.wav/babwar/XC137588.wav offset 165386: invalid signal\n",
      "skipping file data/birdclef-2021/train_short_audio.wav/bkmtou1/XC518213.wav offset 54628: invalid signal\n",
      "skipping file data/birdclef-2021/train_short_audio.wav/cogdov/XC579430.wav offset 638457: invalid signal\n",
      "skipping file data/birdclef-2021/train_short_audio.wav/cogdov/XC579430.wav offset 979807: invalid signal\n",
      "skipping file data/birdclef-2021/train_short_audio.wav/cogdov/XC579430.wav offset 46297: invalid signal\n",
      "skipping file data/birdclef-2021/train_short_audio.wav/trokin/XC604129.wav offset 1121319: invalid signal\n",
      "skipping file data/birdclef-2021/train_short_audio.wav/cogdov/XC579430.wav offset 485360: invalid signal\n",
      "skipping file data/birdclef-2021/train_short_audio.wav/cogdov/XC579430.wav offset 473634: invalid signal\n",
      "skipping file data/birdclef-2021/train_short_audio.wav/cogdov/XC579430.wav offset 767428: invalid signal\n",
      "skipping file data/birdclef-2021/train_short_audio.wav/cogdov/XC579430.wav offset 112066: invalid signal\n",
      "skipping file data/birdclef-2021/train_short_audio.wav/cogdov/XC579430.wav offset 34138: invalid signal\n",
      "skipping file data/birdclef-2021/train_short_audio.wav/cogdov/XC579430.wav offset 277198: invalid signal\n",
      "skipping file data/birdclef-2021/train_short_audio.wav/cogdov/XC579430.wav offset 83435: invalid signal\n",
      "skipping file data/birdclef-2021/train_short_audio.wav/houwre/XC590621.wav offset 1094579: invalid signal\n"
     ]
    },
    {
     "data": {
      "application/vnd.jupyter.widget-view+json": {
       "model_id": "",
       "version_major": 2,
       "version_minor": 0
      },
      "text/plain": [
       "  0%|          | 0/75 [00:00<?, ?it/s]"
      ]
     },
     "metadata": {},
     "output_type": "display_data"
    },
    {
     "name": "stdout",
     "output_type": "stream",
     "text": [
      "2021-05-03 18:18:10 epoch:   1 train loss: 0.025083 train f1: 0.006773 valid loss: 0.010825 valid f1: 0.006617\n"
     ]
    },
    {
     "data": {
      "application/vnd.jupyter.widget-view+json": {
       "model_id": "",
       "version_major": 2,
       "version_minor": 0
      },
      "text/plain": [
       "  0%|          | 0/4764 [00:00<?, ?it/s]"
      ]
     },
     "metadata": {},
     "output_type": "display_data"
    },
    {
     "name": "stderr",
     "output_type": "stream",
     "text": [
      "Unexpected error in ping thread.\n",
      "Traceback (most recent call last):\n",
      "  File \"/home/koen/apps/anaconda3/envs/lark/lib/python3.8/site-packages/neptune/internal/threads/ping_thread.py\", line 37, in run\n",
      "    self.__backend.ping_experiment(self.__experiment)\n",
      "  File \"/home/koen/apps/anaconda3/envs/lark/lib/python3.8/site-packages/neptune/internal/api_clients/hosted_api_clients/hosted_alpha_leaderboard_api_client.py\", line 382, in ping_experiment\n",
      "    self.leaderboard_swagger_client.api.ping(experimentId=str(experiment.internal_id)).response().result\n",
      "  File \"/home/koen/apps/anaconda3/envs/lark/lib/python3.8/site-packages/bravado/http_future.py\", line 239, in response\n",
      "    six.reraise(*sys.exc_info())\n",
      "  File \"/home/koen/apps/anaconda3/envs/lark/lib/python3.8/site-packages/six.py\", line 703, in reraise\n",
      "    raise value\n",
      "  File \"/home/koen/apps/anaconda3/envs/lark/lib/python3.8/site-packages/bravado/http_future.py\", line 200, in response\n",
      "    swagger_result = self._get_swagger_result(incoming_response)\n",
      "  File \"/home/koen/apps/anaconda3/envs/lark/lib/python3.8/site-packages/bravado/http_future.py\", line 124, in wrapper\n",
      "    return func(self, *args, **kwargs)\n",
      "  File \"/home/koen/apps/anaconda3/envs/lark/lib/python3.8/site-packages/bravado/http_future.py\", line 300, in _get_swagger_result\n",
      "    unmarshal_response(\n",
      "  File \"/home/koen/apps/anaconda3/envs/lark/lib/python3.8/site-packages/bravado/http_future.py\", line 334, in unmarshal_response\n",
      "    raise_on_unexpected(incoming_response)\n",
      "  File \"/home/koen/apps/anaconda3/envs/lark/lib/python3.8/site-packages/bravado/http_future.py\", line 408, in raise_on_unexpected\n",
      "    raise make_http_exception(response=http_response)\n",
      "bravado.exception.HTTPBadGateway: 502 Bad Gateway: <html>\n",
      "<head><title>502 Bad Gateway</title></head>\n",
      "<body>\n",
      "<center><h1>502 Bad Gateway</h1></center>\n",
      "<hr><center>nginx</center>\n",
      "</body>\n",
      "</html>\n",
      "\n",
      "Unexpected error in ping thread.\n",
      "Traceback (most recent call last):\n",
      "  File \"/home/koen/apps/anaconda3/envs/lark/lib/python3.8/site-packages/neptune/internal/threads/ping_thread.py\", line 37, in run\n",
      "    self.__backend.ping_experiment(self.__experiment)\n",
      "  File \"/home/koen/apps/anaconda3/envs/lark/lib/python3.8/site-packages/neptune/internal/api_clients/hosted_api_clients/hosted_alpha_leaderboard_api_client.py\", line 382, in ping_experiment\n",
      "    self.leaderboard_swagger_client.api.ping(experimentId=str(experiment.internal_id)).response().result\n",
      "  File \"/home/koen/apps/anaconda3/envs/lark/lib/python3.8/site-packages/bravado/http_future.py\", line 239, in response\n",
      "    six.reraise(*sys.exc_info())\n",
      "  File \"/home/koen/apps/anaconda3/envs/lark/lib/python3.8/site-packages/six.py\", line 703, in reraise\n",
      "    raise value\n",
      "  File \"/home/koen/apps/anaconda3/envs/lark/lib/python3.8/site-packages/bravado/http_future.py\", line 200, in response\n",
      "    swagger_result = self._get_swagger_result(incoming_response)\n",
      "  File \"/home/koen/apps/anaconda3/envs/lark/lib/python3.8/site-packages/bravado/http_future.py\", line 124, in wrapper\n",
      "    return func(self, *args, **kwargs)\n",
      "  File \"/home/koen/apps/anaconda3/envs/lark/lib/python3.8/site-packages/bravado/http_future.py\", line 300, in _get_swagger_result\n",
      "    unmarshal_response(\n",
      "  File \"/home/koen/apps/anaconda3/envs/lark/lib/python3.8/site-packages/bravado/http_future.py\", line 334, in unmarshal_response\n",
      "    raise_on_unexpected(incoming_response)\n",
      "  File \"/home/koen/apps/anaconda3/envs/lark/lib/python3.8/site-packages/bravado/http_future.py\", line 408, in raise_on_unexpected\n",
      "    raise make_http_exception(response=http_response)\n",
      "bravado.exception.HTTPServiceUnavailable: 503 Service Temporarily Unavailable: <html>\n",
      "<head><title>503 Service Temporarily Unavailable</title></head>\n",
      "<body>\n",
      "<center><h1>503 Service Temporarily Unavailable</h1></center>\n",
      "<hr><center>nginx</center>\n",
      "</body>\n",
      "</html>\n",
      "\n",
      "Unexpected error in ping thread.\n",
      "Traceback (most recent call last):\n",
      "  File \"/home/koen/apps/anaconda3/envs/lark/lib/python3.8/site-packages/neptune/internal/threads/ping_thread.py\", line 37, in run\n",
      "    self.__backend.ping_experiment(self.__experiment)\n",
      "  File \"/home/koen/apps/anaconda3/envs/lark/lib/python3.8/site-packages/neptune/internal/api_clients/hosted_api_clients/hosted_alpha_leaderboard_api_client.py\", line 382, in ping_experiment\n",
      "    self.leaderboard_swagger_client.api.ping(experimentId=str(experiment.internal_id)).response().result\n",
      "  File \"/home/koen/apps/anaconda3/envs/lark/lib/python3.8/site-packages/bravado/http_future.py\", line 239, in response\n",
      "    six.reraise(*sys.exc_info())\n",
      "  File \"/home/koen/apps/anaconda3/envs/lark/lib/python3.8/site-packages/six.py\", line 703, in reraise\n",
      "    raise value\n",
      "  File \"/home/koen/apps/anaconda3/envs/lark/lib/python3.8/site-packages/bravado/http_future.py\", line 200, in response\n",
      "    swagger_result = self._get_swagger_result(incoming_response)\n",
      "  File \"/home/koen/apps/anaconda3/envs/lark/lib/python3.8/site-packages/bravado/http_future.py\", line 124, in wrapper\n",
      "    return func(self, *args, **kwargs)\n",
      "  File \"/home/koen/apps/anaconda3/envs/lark/lib/python3.8/site-packages/bravado/http_future.py\", line 300, in _get_swagger_result\n",
      "    unmarshal_response(\n",
      "  File \"/home/koen/apps/anaconda3/envs/lark/lib/python3.8/site-packages/bravado/http_future.py\", line 334, in unmarshal_response\n",
      "    raise_on_unexpected(incoming_response)\n",
      "  File \"/home/koen/apps/anaconda3/envs/lark/lib/python3.8/site-packages/bravado/http_future.py\", line 408, in raise_on_unexpected\n",
      "    raise make_http_exception(response=http_response)\n",
      "bravado.exception.HTTPServiceUnavailable: 503 Service Temporarily Unavailable: <html>\n",
      "<head><title>503 Service Temporarily Unavailable</title></head>\n",
      "<body>\n",
      "<center><h1>503 Service Temporarily Unavailable</h1></center>\n",
      "<hr><center>nginx</center>\n",
      "</body>\n",
      "</html>\n",
      "\n",
      "Unexpected error in ping thread.\n",
      "Traceback (most recent call last):\n",
      "  File \"/home/koen/apps/anaconda3/envs/lark/lib/python3.8/site-packages/neptune/internal/threads/ping_thread.py\", line 37, in run\n",
      "    self.__backend.ping_experiment(self.__experiment)\n",
      "  File \"/home/koen/apps/anaconda3/envs/lark/lib/python3.8/site-packages/neptune/internal/api_clients/hosted_api_clients/hosted_alpha_leaderboard_api_client.py\", line 382, in ping_experiment\n",
      "    self.leaderboard_swagger_client.api.ping(experimentId=str(experiment.internal_id)).response().result\n",
      "  File \"/home/koen/apps/anaconda3/envs/lark/lib/python3.8/site-packages/bravado/http_future.py\", line 239, in response\n",
      "    six.reraise(*sys.exc_info())\n",
      "  File \"/home/koen/apps/anaconda3/envs/lark/lib/python3.8/site-packages/six.py\", line 703, in reraise\n",
      "    raise value\n",
      "  File \"/home/koen/apps/anaconda3/envs/lark/lib/python3.8/site-packages/bravado/http_future.py\", line 200, in response\n",
      "    swagger_result = self._get_swagger_result(incoming_response)\n",
      "  File \"/home/koen/apps/anaconda3/envs/lark/lib/python3.8/site-packages/bravado/http_future.py\", line 124, in wrapper\n",
      "    return func(self, *args, **kwargs)\n",
      "  File \"/home/koen/apps/anaconda3/envs/lark/lib/python3.8/site-packages/bravado/http_future.py\", line 300, in _get_swagger_result\n",
      "    unmarshal_response(\n",
      "  File \"/home/koen/apps/anaconda3/envs/lark/lib/python3.8/site-packages/bravado/http_future.py\", line 334, in unmarshal_response\n",
      "    raise_on_unexpected(incoming_response)\n",
      "  File \"/home/koen/apps/anaconda3/envs/lark/lib/python3.8/site-packages/bravado/http_future.py\", line 408, in raise_on_unexpected\n",
      "    raise make_http_exception(response=http_response)\n",
      "bravado.exception.HTTPServiceUnavailable: 503 Service Temporarily Unavailable: <html>\n",
      "<head><title>503 Service Temporarily Unavailable</title></head>\n",
      "<body>\n",
      "<center><h1>503 Service Temporarily Unavailable</h1></center>\n",
      "<hr><center>nginx</center>\n",
      "</body>\n",
      "</html>\n",
      "\n",
      "Unexpected error in ping thread.\n",
      "Traceback (most recent call last):\n",
      "  File \"/home/koen/apps/anaconda3/envs/lark/lib/python3.8/site-packages/neptune/internal/threads/ping_thread.py\", line 37, in run\n",
      "    self.__backend.ping_experiment(self.__experiment)\n",
      "  File \"/home/koen/apps/anaconda3/envs/lark/lib/python3.8/site-packages/neptune/internal/api_clients/hosted_api_clients/hosted_alpha_leaderboard_api_client.py\", line 382, in ping_experiment\n",
      "    self.leaderboard_swagger_client.api.ping(experimentId=str(experiment.internal_id)).response().result\n",
      "  File \"/home/koen/apps/anaconda3/envs/lark/lib/python3.8/site-packages/bravado/http_future.py\", line 239, in response\n",
      "    six.reraise(*sys.exc_info())\n",
      "  File \"/home/koen/apps/anaconda3/envs/lark/lib/python3.8/site-packages/six.py\", line 703, in reraise\n",
      "    raise value\n",
      "  File \"/home/koen/apps/anaconda3/envs/lark/lib/python3.8/site-packages/bravado/http_future.py\", line 200, in response\n",
      "    swagger_result = self._get_swagger_result(incoming_response)\n",
      "  File \"/home/koen/apps/anaconda3/envs/lark/lib/python3.8/site-packages/bravado/http_future.py\", line 124, in wrapper\n",
      "    return func(self, *args, **kwargs)\n",
      "  File \"/home/koen/apps/anaconda3/envs/lark/lib/python3.8/site-packages/bravado/http_future.py\", line 300, in _get_swagger_result\n",
      "    unmarshal_response(\n",
      "  File \"/home/koen/apps/anaconda3/envs/lark/lib/python3.8/site-packages/bravado/http_future.py\", line 334, in unmarshal_response\n",
      "    raise_on_unexpected(incoming_response)\n",
      "  File \"/home/koen/apps/anaconda3/envs/lark/lib/python3.8/site-packages/bravado/http_future.py\", line 408, in raise_on_unexpected\n",
      "    raise make_http_exception(response=http_response)\n",
      "bravado.exception.HTTPServiceUnavailable: 503 Service Temporarily Unavailable: <html>\n",
      "<head><title>503 Service Temporarily Unavailable</title></head>\n",
      "<body>\n",
      "<center><h1>503 Service Temporarily Unavailable</h1></center>\n",
      "<hr><center>nginx</center>\n",
      "</body>\n",
      "</html>\n",
      "\n",
      "Unexpected error in ping thread.\n",
      "Traceback (most recent call last):\n",
      "  File \"/home/koen/apps/anaconda3/envs/lark/lib/python3.8/site-packages/neptune/internal/threads/ping_thread.py\", line 37, in run\n",
      "    self.__backend.ping_experiment(self.__experiment)\n",
      "  File \"/home/koen/apps/anaconda3/envs/lark/lib/python3.8/site-packages/neptune/internal/api_clients/hosted_api_clients/hosted_alpha_leaderboard_api_client.py\", line 382, in ping_experiment\n",
      "    self.leaderboard_swagger_client.api.ping(experimentId=str(experiment.internal_id)).response().result\n",
      "  File \"/home/koen/apps/anaconda3/envs/lark/lib/python3.8/site-packages/bravado/http_future.py\", line 239, in response\n",
      "    six.reraise(*sys.exc_info())\n",
      "  File \"/home/koen/apps/anaconda3/envs/lark/lib/python3.8/site-packages/six.py\", line 703, in reraise\n",
      "    raise value\n",
      "  File \"/home/koen/apps/anaconda3/envs/lark/lib/python3.8/site-packages/bravado/http_future.py\", line 200, in response\n",
      "    swagger_result = self._get_swagger_result(incoming_response)\n",
      "  File \"/home/koen/apps/anaconda3/envs/lark/lib/python3.8/site-packages/bravado/http_future.py\", line 124, in wrapper\n",
      "    return func(self, *args, **kwargs)\n",
      "  File \"/home/koen/apps/anaconda3/envs/lark/lib/python3.8/site-packages/bravado/http_future.py\", line 300, in _get_swagger_result\n",
      "    unmarshal_response(\n",
      "  File \"/home/koen/apps/anaconda3/envs/lark/lib/python3.8/site-packages/bravado/http_future.py\", line 334, in unmarshal_response\n",
      "    raise_on_unexpected(incoming_response)\n",
      "  File \"/home/koen/apps/anaconda3/envs/lark/lib/python3.8/site-packages/bravado/http_future.py\", line 408, in raise_on_unexpected\n",
      "    raise make_http_exception(response=http_response)\n",
      "bravado.exception.HTTPServiceUnavailable: 503 Service Temporarily Unavailable: <html>\n",
      "<head><title>503 Service Temporarily Unavailable</title></head>\n",
      "<body>\n",
      "<center><h1>503 Service Temporarily Unavailable</h1></center>\n",
      "<hr><center>nginx</center>\n",
      "</body>\n",
      "</html>\n",
      "\n",
      "Unexpected error in ping thread.\n",
      "Traceback (most recent call last):\n",
      "  File \"/home/koen/apps/anaconda3/envs/lark/lib/python3.8/site-packages/neptune/internal/threads/ping_thread.py\", line 37, in run\n",
      "    self.__backend.ping_experiment(self.__experiment)\n",
      "  File \"/home/koen/apps/anaconda3/envs/lark/lib/python3.8/site-packages/neptune/internal/api_clients/hosted_api_clients/hosted_alpha_leaderboard_api_client.py\", line 382, in ping_experiment\n",
      "    self.leaderboard_swagger_client.api.ping(experimentId=str(experiment.internal_id)).response().result\n",
      "  File \"/home/koen/apps/anaconda3/envs/lark/lib/python3.8/site-packages/bravado/http_future.py\", line 239, in response\n",
      "    six.reraise(*sys.exc_info())\n",
      "  File \"/home/koen/apps/anaconda3/envs/lark/lib/python3.8/site-packages/six.py\", line 703, in reraise\n",
      "    raise value\n",
      "  File \"/home/koen/apps/anaconda3/envs/lark/lib/python3.8/site-packages/bravado/http_future.py\", line 200, in response\n",
      "    swagger_result = self._get_swagger_result(incoming_response)\n",
      "  File \"/home/koen/apps/anaconda3/envs/lark/lib/python3.8/site-packages/bravado/http_future.py\", line 124, in wrapper\n",
      "    return func(self, *args, **kwargs)\n",
      "  File \"/home/koen/apps/anaconda3/envs/lark/lib/python3.8/site-packages/bravado/http_future.py\", line 300, in _get_swagger_result\n",
      "    unmarshal_response(\n",
      "  File \"/home/koen/apps/anaconda3/envs/lark/lib/python3.8/site-packages/bravado/http_future.py\", line 334, in unmarshal_response\n",
      "    raise_on_unexpected(incoming_response)\n",
      "  File \"/home/koen/apps/anaconda3/envs/lark/lib/python3.8/site-packages/bravado/http_future.py\", line 408, in raise_on_unexpected\n",
      "    raise make_http_exception(response=http_response)\n",
      "bravado.exception.HTTPServiceUnavailable: 503 Service Temporarily Unavailable: <html>\n",
      "<head><title>503 Service Temporarily Unavailable</title></head>\n",
      "<body>\n",
      "<center><h1>503 Service Temporarily Unavailable</h1></center>\n",
      "<hr><center>nginx</center>\n",
      "</body>\n",
      "</html>\n",
      "\n",
      "Unexpected error in ping thread.\n",
      "Traceback (most recent call last):\n",
      "  File \"/home/koen/apps/anaconda3/envs/lark/lib/python3.8/site-packages/neptune/internal/threads/ping_thread.py\", line 37, in run\n",
      "    self.__backend.ping_experiment(self.__experiment)\n",
      "  File \"/home/koen/apps/anaconda3/envs/lark/lib/python3.8/site-packages/neptune/internal/api_clients/hosted_api_clients/hosted_alpha_leaderboard_api_client.py\", line 382, in ping_experiment\n",
      "    self.leaderboard_swagger_client.api.ping(experimentId=str(experiment.internal_id)).response().result\n",
      "  File \"/home/koen/apps/anaconda3/envs/lark/lib/python3.8/site-packages/bravado/http_future.py\", line 239, in response\n",
      "    six.reraise(*sys.exc_info())\n",
      "  File \"/home/koen/apps/anaconda3/envs/lark/lib/python3.8/site-packages/six.py\", line 703, in reraise\n",
      "    raise value\n",
      "  File \"/home/koen/apps/anaconda3/envs/lark/lib/python3.8/site-packages/bravado/http_future.py\", line 200, in response\n",
      "    swagger_result = self._get_swagger_result(incoming_response)\n",
      "  File \"/home/koen/apps/anaconda3/envs/lark/lib/python3.8/site-packages/bravado/http_future.py\", line 124, in wrapper\n",
      "    return func(self, *args, **kwargs)\n",
      "  File \"/home/koen/apps/anaconda3/envs/lark/lib/python3.8/site-packages/bravado/http_future.py\", line 300, in _get_swagger_result\n",
      "    unmarshal_response(\n",
      "  File \"/home/koen/apps/anaconda3/envs/lark/lib/python3.8/site-packages/bravado/http_future.py\", line 334, in unmarshal_response\n",
      "    raise_on_unexpected(incoming_response)\n",
      "  File \"/home/koen/apps/anaconda3/envs/lark/lib/python3.8/site-packages/bravado/http_future.py\", line 408, in raise_on_unexpected\n",
      "    raise make_http_exception(response=http_response)\n",
      "bravado.exception.HTTPServiceUnavailable: 503 Service Temporarily Unavailable: <html>\n",
      "<head><title>503 Service Temporarily Unavailable</title></head>\n",
      "<body>\n",
      "<center><h1>503 Service Temporarily Unavailable</h1></center>\n",
      "<hr><center>nginx</center>\n",
      "</body>\n",
      "</html>\n",
      "\n"
     ]
    },
    {
     "name": "stdout",
     "output_type": "stream",
     "text": [
      "skipping file data/birdclef-2021/train_short_audio.wav/houwre/XC590621.wav offset 2349871: invalid signal\n",
      "skipping file data/birdclef-2021/train_short_audio.wav/babwar/XC137588.wav offset 204137: invalid signal\n",
      "skipping file data/birdclef-2021/train_short_audio.wav/yeofly1/XC328921.wav offset 382811: invalid signal\n",
      "skipping file data/birdclef-2021/train_short_audio.wav/houwre/XC590621.wav offset 1878837: invalid signal\n",
      "skipping file data/birdclef-2021/train_short_audio.wav/amered/XC137610.wav offset 86067: invalid signal\n",
      "skipping file data/birdclef-2021/train_short_audio.wav/babwar/XC137588.wav offset 185366: invalid signal\n",
      "skipping file data/birdclef-2021/train_short_audio.wav/yeofly1/XC328921.wav offset 158665: invalid signal\n",
      "skipping file data/birdclef-2021/train_short_audio.wav/babwar/XC137588.wav offset 176281: invalid signal\n",
      "skipping file data/birdclef-2021/train_short_audio.wav/houwre/XC590621.wav offset 1204721: invalid signal\n"
     ]
    },
    {
     "data": {
      "application/vnd.jupyter.widget-view+json": {
       "model_id": "",
       "version_major": 2,
       "version_minor": 0
      },
      "text/plain": [
       "  0%|          | 0/75 [00:00<?, ?it/s]"
      ]
     },
     "metadata": {},
     "output_type": "display_data"
    },
    {
     "name": "stdout",
     "output_type": "stream",
     "text": [
      "2021-05-03 18:49:18 epoch:   2 train loss: 0.018609 train f1: 0.101995 valid loss: 0.009378 valid f1: 0.037766\n"
     ]
    },
    {
     "data": {
      "application/vnd.jupyter.widget-view+json": {
       "model_id": "",
       "version_major": 2,
       "version_minor": 0
      },
      "text/plain": [
       "  0%|          | 0/4764 [00:00<?, ?it/s]"
      ]
     },
     "metadata": {},
     "output_type": "display_data"
    },
    {
     "name": "stdout",
     "output_type": "stream",
     "text": [
      "skipping file data/birdclef-2021/train_short_audio.wav/houwre/XC590621.wav offset 2302237: invalid signal\n",
      "skipping file data/birdclef-2021/train_short_audio.wav/babwar/XC137588.wav offset 200634: invalid signal\n",
      "skipping file data/birdclef-2021/train_short_audio.wav/bkmtou1/XC518213.wav offset 686837: invalid signal\n",
      "skipping file data/birdclef-2021/train_short_audio.wav/babwar/XC137588.wav offset 183676: invalid signal\n",
      "skipping file data/birdclef-2021/train_short_audio.wav/babwar/XC137588.wav offset 163165: invalid signal\n",
      "skipping file data/birdclef-2021/train_short_audio.wav/yeofly1/XC328921.wav offset 409940: invalid signal\n",
      "skipping file data/birdclef-2021/train_short_audio.wav/babwar/XC137588.wav offset 154272: invalid signal\n",
      "skipping file data/birdclef-2021/train_short_audio.wav/babwar/XC137588.wav offset 205781: invalid signal\n",
      "skipping file data/birdclef-2021/train_short_audio.wav/bkmtou1/XC518214.wav offset 10092558: invalid signal\n",
      "skipping file data/birdclef-2021/train_short_audio.wav/houwre/XC590621.wav offset 105892: invalid signal\n",
      "skipping file data/birdclef-2021/train_short_audio.wav/babwar/XC137588.wav offset 212874: invalid signal\n",
      "skipping file data/birdclef-2021/train_short_audio.wav/bkmtou1/XC518213.wav offset 2208471: invalid signal\n"
     ]
    },
    {
     "data": {
      "application/vnd.jupyter.widget-view+json": {
       "model_id": "",
       "version_major": 2,
       "version_minor": 0
      },
      "text/plain": [
       "  0%|          | 0/75 [00:00<?, ?it/s]"
      ]
     },
     "metadata": {},
     "output_type": "display_data"
    },
    {
     "name": "stdout",
     "output_type": "stream",
     "text": [
      "2021-05-03 19:20:31 epoch:   3 train loss: 0.017481 train f1: 0.176682 valid loss: 0.009511 valid f1: 0.038110\n"
     ]
    },
    {
     "data": {
      "application/vnd.jupyter.widget-view+json": {
       "model_id": "",
       "version_major": 2,
       "version_minor": 0
      },
      "text/plain": [
       "  0%|          | 0/4764 [00:00<?, ?it/s]"
      ]
     },
     "metadata": {},
     "output_type": "display_data"
    },
    {
     "name": "stdout",
     "output_type": "stream",
     "text": [
      "skipping file data/birdclef-2021/train_short_audio.wav/bkmtou1/XC518213.wav offset 2287660: invalid signal\n",
      "skipping file data/birdclef-2021/train_short_audio.wav/babwar/XC137588.wav offset 187406: invalid signal\n",
      "skipping file data/birdclef-2021/train_short_audio.wav/amegfi/XC556721.wav offset 736832: invalid signal\n",
      "skipping file data/birdclef-2021/train_short_audio.wav/bkmtou1/XC518214.wav offset 9718837: invalid signal\n",
      "skipping file data/birdclef-2021/train_short_audio.wav/babwar/XC137588.wav offset 192669: invalid signal\n"
     ]
    },
    {
     "data": {
      "application/vnd.jupyter.widget-view+json": {
       "model_id": "",
       "version_major": 2,
       "version_minor": 0
      },
      "text/plain": [
       "  0%|          | 0/75 [00:00<?, ?it/s]"
      ]
     },
     "metadata": {},
     "output_type": "display_data"
    },
    {
     "name": "stdout",
     "output_type": "stream",
     "text": [
      "2021-05-03 19:51:41 epoch:   4 train loss: 0.016639 train f1: 0.231783 valid loss: 0.009433 valid f1: 0.034673\n"
     ]
    },
    {
     "data": {
      "application/vnd.jupyter.widget-view+json": {
       "model_id": "",
       "version_major": 2,
       "version_minor": 0
      },
      "text/plain": [
       "  0%|          | 0/4764 [00:00<?, ?it/s]"
      ]
     },
     "metadata": {},
     "output_type": "display_data"
    },
    {
     "name": "stdout",
     "output_type": "stream",
     "text": [
      "skipping file data/birdclef-2021/train_short_audio.wav/bkmtou1/XC518213.wav offset 2653234: invalid signal\n",
      "skipping file data/birdclef-2021/train_short_audio.wav/babwar/XC137588.wav offset 208177: invalid signal\n",
      "skipping file data/birdclef-2021/train_short_audio.wav/babwar/XC137588.wav offset 182651: invalid signal\n",
      "skipping file data/birdclef-2021/train_short_audio.wav/houwre/XC590621.wav offset 2327367: invalid signal\n",
      "skipping file data/birdclef-2021/train_short_audio.wav/houwre/XC590621.wav offset 1767369: invalid signal\n",
      "skipping file data/birdclef-2021/train_short_audio.wav/yeofly1/XC328921.wav offset 267133: invalid signal\n",
      "skipping file data/birdclef-2021/train_short_audio.wav/amered/XC137610.wav offset 104792: invalid signal\n",
      "skipping file data/birdclef-2021/train_short_audio.wav/amered/XC137610.wav offset 96760: invalid signal\n",
      "skipping file data/birdclef-2021/train_short_audio.wav/babwar/XC137588.wav offset 186339: invalid signal\n",
      "skipping file data/birdclef-2021/train_short_audio.wav/bkmtou1/XC518214.wav offset 10415805: invalid signal\n"
     ]
    },
    {
     "data": {
      "application/vnd.jupyter.widget-view+json": {
       "model_id": "",
       "version_major": 2,
       "version_minor": 0
      },
      "text/plain": [
       "  0%|          | 0/75 [00:00<?, ?it/s]"
      ]
     },
     "metadata": {},
     "output_type": "display_data"
    },
    {
     "name": "stdout",
     "output_type": "stream",
     "text": [
      "2021-05-03 20:22:51 epoch:   5 train loss: 0.015978 train f1: 0.278877 valid loss: 0.008273 valid f1: 0.046985\n"
     ]
    },
    {
     "data": {
      "application/vnd.jupyter.widget-view+json": {
       "model_id": "",
       "version_major": 2,
       "version_minor": 0
      },
      "text/plain": [
       "  0%|          | 0/4764 [00:00<?, ?it/s]"
      ]
     },
     "metadata": {},
     "output_type": "display_data"
    },
    {
     "name": "stdout",
     "output_type": "stream",
     "text": [
      "skipping file data/birdclef-2021/train_short_audio.wav/whtspa/XC313231.wav offset 89397: invalid signal\n",
      "skipping file data/birdclef-2021/train_short_audio.wav/babwar/XC137588.wav offset 189101: invalid signal\n",
      "skipping file data/birdclef-2021/train_short_audio.wav/babwar/XC137588.wav offset 155040: invalid signal\n",
      "skipping file data/birdclef-2021/train_short_audio.wav/amegfi/XC556721.wav offset 758471: invalid signal\n",
      "skipping file data/birdclef-2021/train_short_audio.wav/houwre/XC590621.wav offset 829596: invalid signal\n",
      "skipping file data/birdclef-2021/train_short_audio.wav/trokin/XC604129.wav offset 1062296: invalid signal\n",
      "skipping file data/birdclef-2021/train_short_audio.wav/babwar/XC137588.wav offset 163154: invalid signal\n",
      "skipping file data/birdclef-2021/train_short_audio.wav/babwar/XC137588.wav offset 157776: invalid signal\n",
      "skipping file data/birdclef-2021/train_short_audio.wav/houwre/XC590621.wav offset 1400786: invalid signal\n"
     ]
    },
    {
     "data": {
      "application/vnd.jupyter.widget-view+json": {
       "model_id": "",
       "version_major": 2,
       "version_minor": 0
      },
      "text/plain": [
       "  0%|          | 0/75 [00:00<?, ?it/s]"
      ]
     },
     "metadata": {},
     "output_type": "display_data"
    },
    {
     "name": "stdout",
     "output_type": "stream",
     "text": [
      "2021-05-03 20:54:03 epoch:   6 train loss: 0.015236 train f1: 0.322660 valid loss: 0.009061 valid f1: 0.031873\n"
     ]
    },
    {
     "data": {
      "application/vnd.jupyter.widget-view+json": {
       "model_id": "",
       "version_major": 2,
       "version_minor": 0
      },
      "text/plain": [
       "  0%|          | 0/4764 [00:00<?, ?it/s]"
      ]
     },
     "metadata": {},
     "output_type": "display_data"
    },
    {
     "name": "stdout",
     "output_type": "stream",
     "text": [
      "skipping file data/birdclef-2021/train_short_audio.wav/houwre/XC590621.wav offset 422686: invalid signal\n",
      "skipping file data/birdclef-2021/train_short_audio.wav/bkmtou1/XC518213.wav offset 3429187: invalid signal\n",
      "skipping file data/birdclef-2021/train_short_audio.wav/yeofly1/XC328921.wav offset 328261: invalid signal\n",
      "skipping file data/birdclef-2021/train_short_audio.wav/bkmtou1/XC518213.wav offset 1313933: invalid signal\n",
      "skipping file data/birdclef-2021/train_short_audio.wav/bkmtou1/XC518214.wav offset 8858796: invalid signal\n"
     ]
    },
    {
     "data": {
      "application/vnd.jupyter.widget-view+json": {
       "model_id": "",
       "version_major": 2,
       "version_minor": 0
      },
      "text/plain": [
       "  0%|          | 0/75 [00:00<?, ?it/s]"
      ]
     },
     "metadata": {},
     "output_type": "display_data"
    },
    {
     "name": "stdout",
     "output_type": "stream",
     "text": [
      "2021-05-03 21:25:13 epoch:   7 train loss: 0.014759 train f1: 0.352348 valid loss: 0.008987 valid f1: 0.070671\n"
     ]
    },
    {
     "data": {
      "application/vnd.jupyter.widget-view+json": {
       "model_id": "",
       "version_major": 2,
       "version_minor": 0
      },
      "text/plain": [
       "  0%|          | 0/4764 [00:00<?, ?it/s]"
      ]
     },
     "metadata": {},
     "output_type": "display_data"
    },
    {
     "name": "stdout",
     "output_type": "stream",
     "text": [
      "skipping file data/birdclef-2021/train_short_audio.wav/houwre/XC590621.wav offset 1934260: invalid signal\n",
      "skipping file data/birdclef-2021/train_short_audio.wav/babwar/XC137588.wav offset 144289: invalid signal\n",
      "skipping file data/birdclef-2021/train_short_audio.wav/babwar/XC137588.wav offset 211567: invalid signal\n",
      "skipping file data/birdclef-2021/train_short_audio.wav/houwre/XC590621.wav offset 2491235: invalid signal\n",
      "skipping file data/birdclef-2021/train_short_audio.wav/bkmtou1/XC518214.wav offset 8055331: invalid signal\n",
      "skipping file data/birdclef-2021/train_short_audio.wav/bkmtou1/XC518213.wav offset 893298: invalid signal\n",
      "skipping file data/birdclef-2021/train_short_audio.wav/houwre/XC590621.wav offset 856704: invalid signal\n",
      "skipping file data/birdclef-2021/train_short_audio.wav/bkbplo/XC594762.wav offset 247154: invalid signal\n",
      "skipping file data/birdclef-2021/train_short_audio.wav/bkmtou1/XC518214.wav offset 10145693: invalid signal\n",
      "skipping file data/birdclef-2021/train_short_audio.wav/bkmtou1/XC518213.wav offset 2243486: invalid signal\n",
      "skipping file data/birdclef-2021/train_short_audio.wav/yeofly1/XC328921.wav offset 353253: invalid signal\n",
      "skipping file data/birdclef-2021/train_short_audio.wav/bkmtou1/XC518213.wav offset 696389: invalid signal\n"
     ]
    },
    {
     "data": {
      "application/vnd.jupyter.widget-view+json": {
       "model_id": "",
       "version_major": 2,
       "version_minor": 0
      },
      "text/plain": [
       "  0%|          | 0/75 [00:00<?, ?it/s]"
      ]
     },
     "metadata": {},
     "output_type": "display_data"
    },
    {
     "name": "stdout",
     "output_type": "stream",
     "text": [
      "2021-05-03 21:56:25 epoch:   8 train loss: 0.014301 train f1: 0.381170 valid loss: 0.009694 valid f1: 0.049698\n"
     ]
    },
    {
     "data": {
      "application/vnd.jupyter.widget-view+json": {
       "model_id": "",
       "version_major": 2,
       "version_minor": 0
      },
      "text/plain": [
       "  0%|          | 0/4764 [00:00<?, ?it/s]"
      ]
     },
     "metadata": {},
     "output_type": "display_data"
    },
    {
     "name": "stdout",
     "output_type": "stream",
     "text": [
      "skipping file data/birdclef-2021/train_short_audio.wav/babwar/XC137588.wav offset 141023: invalid signal\n"
     ]
    },
    {
     "name": "stderr",
     "output_type": "stream",
     "text": [
      "Unexpected error in ping thread.\n",
      "Traceback (most recent call last):\n",
      "  File \"/home/koen/apps/anaconda3/envs/lark/lib/python3.8/site-packages/neptune/internal/threads/ping_thread.py\", line 37, in run\n",
      "    self.__backend.ping_experiment(self.__experiment)\n",
      "  File \"/home/koen/apps/anaconda3/envs/lark/lib/python3.8/site-packages/neptune/internal/api_clients/hosted_api_clients/hosted_alpha_leaderboard_api_client.py\", line 382, in ping_experiment\n",
      "    self.leaderboard_swagger_client.api.ping(experimentId=str(experiment.internal_id)).response().result\n",
      "  File \"/home/koen/apps/anaconda3/envs/lark/lib/python3.8/site-packages/bravado/http_future.py\", line 239, in response\n",
      "    six.reraise(*sys.exc_info())\n",
      "  File \"/home/koen/apps/anaconda3/envs/lark/lib/python3.8/site-packages/six.py\", line 703, in reraise\n",
      "    raise value\n",
      "  File \"/home/koen/apps/anaconda3/envs/lark/lib/python3.8/site-packages/bravado/http_future.py\", line 200, in response\n",
      "    swagger_result = self._get_swagger_result(incoming_response)\n",
      "  File \"/home/koen/apps/anaconda3/envs/lark/lib/python3.8/site-packages/bravado/http_future.py\", line 124, in wrapper\n",
      "    return func(self, *args, **kwargs)\n",
      "  File \"/home/koen/apps/anaconda3/envs/lark/lib/python3.8/site-packages/bravado/http_future.py\", line 300, in _get_swagger_result\n",
      "    unmarshal_response(\n",
      "  File \"/home/koen/apps/anaconda3/envs/lark/lib/python3.8/site-packages/bravado/http_future.py\", line 334, in unmarshal_response\n",
      "    raise_on_unexpected(incoming_response)\n",
      "  File \"/home/koen/apps/anaconda3/envs/lark/lib/python3.8/site-packages/bravado/http_future.py\", line 408, in raise_on_unexpected\n",
      "    raise make_http_exception(response=http_response)\n",
      "bravado.exception.HTTPServiceUnavailable: 503 : {\"code\":503,\"title\":\"Service is not available. Try again later.\",\"errorType\":\"SERVICE_UNAVAILABLE\"}\n",
      "Unexpected error in ping thread.\n",
      "Traceback (most recent call last):\n",
      "  File \"/home/koen/apps/anaconda3/envs/lark/lib/python3.8/site-packages/neptune/internal/threads/ping_thread.py\", line 37, in run\n",
      "    self.__backend.ping_experiment(self.__experiment)\n",
      "  File \"/home/koen/apps/anaconda3/envs/lark/lib/python3.8/site-packages/neptune/internal/api_clients/hosted_api_clients/hosted_alpha_leaderboard_api_client.py\", line 382, in ping_experiment\n",
      "    self.leaderboard_swagger_client.api.ping(experimentId=str(experiment.internal_id)).response().result\n",
      "  File \"/home/koen/apps/anaconda3/envs/lark/lib/python3.8/site-packages/bravado/http_future.py\", line 239, in response\n",
      "    six.reraise(*sys.exc_info())\n",
      "  File \"/home/koen/apps/anaconda3/envs/lark/lib/python3.8/site-packages/six.py\", line 703, in reraise\n",
      "    raise value\n",
      "  File \"/home/koen/apps/anaconda3/envs/lark/lib/python3.8/site-packages/bravado/http_future.py\", line 200, in response\n",
      "    swagger_result = self._get_swagger_result(incoming_response)\n",
      "  File \"/home/koen/apps/anaconda3/envs/lark/lib/python3.8/site-packages/bravado/http_future.py\", line 124, in wrapper\n",
      "    return func(self, *args, **kwargs)\n",
      "  File \"/home/koen/apps/anaconda3/envs/lark/lib/python3.8/site-packages/bravado/http_future.py\", line 300, in _get_swagger_result\n",
      "    unmarshal_response(\n",
      "  File \"/home/koen/apps/anaconda3/envs/lark/lib/python3.8/site-packages/bravado/http_future.py\", line 334, in unmarshal_response\n",
      "    raise_on_unexpected(incoming_response)\n",
      "  File \"/home/koen/apps/anaconda3/envs/lark/lib/python3.8/site-packages/bravado/http_future.py\", line 408, in raise_on_unexpected\n",
      "    raise make_http_exception(response=http_response)\n",
      "bravado.exception.HTTPServiceUnavailable: 503 Service Temporarily Unavailable: <html>\n",
      "<head><title>503 Service Temporarily Unavailable</title></head>\n",
      "<body>\n",
      "<center><h1>503 Service Temporarily Unavailable</h1></center>\n",
      "<hr><center>nginx</center>\n",
      "</body>\n",
      "</html>\n",
      "\n",
      "Failed to send channel value.\n",
      "Traceback (most recent call last):\n",
      "  File \"/home/koen/apps/anaconda3/envs/lark/lib/python3.8/site-packages/urllib3/response.py\", line 697, in _update_chunk_length\n",
      "    self.chunk_left = int(line, 16)\n",
      "ValueError: invalid literal for int() with base 16: b''\n",
      "\n",
      "During handling of the above exception, another exception occurred:\n",
      "\n",
      "Traceback (most recent call last):\n",
      "  File \"/home/koen/apps/anaconda3/envs/lark/lib/python3.8/site-packages/urllib3/response.py\", line 438, in _error_catcher\n",
      "    yield\n",
      "  File \"/home/koen/apps/anaconda3/envs/lark/lib/python3.8/site-packages/urllib3/response.py\", line 764, in read_chunked\n",
      "    self._update_chunk_length()\n",
      "  File \"/home/koen/apps/anaconda3/envs/lark/lib/python3.8/site-packages/urllib3/response.py\", line 701, in _update_chunk_length\n",
      "    raise InvalidChunkLength(self, line)\n",
      "urllib3.exceptions.InvalidChunkLength: InvalidChunkLength(got length b'', 0 bytes read)\n",
      "\n",
      "During handling of the above exception, another exception occurred:\n",
      "\n",
      "Traceback (most recent call last):\n",
      "  File \"/home/koen/apps/anaconda3/envs/lark/lib/python3.8/site-packages/requests/models.py\", line 753, in generate\n",
      "    for chunk in self.raw.stream(chunk_size, decode_content=True):\n",
      "  File \"/home/koen/apps/anaconda3/envs/lark/lib/python3.8/site-packages/urllib3/response.py\", line 572, in stream\n",
      "    for line in self.read_chunked(amt, decode_content=decode_content):\n",
      "  File \"/home/koen/apps/anaconda3/envs/lark/lib/python3.8/site-packages/urllib3/response.py\", line 793, in read_chunked\n",
      "    self._original_response.close()\n",
      "  File \"/home/koen/apps/anaconda3/envs/lark/lib/python3.8/contextlib.py\", line 131, in __exit__\n",
      "    self.gen.throw(type, value, traceback)\n",
      "  File \"/home/koen/apps/anaconda3/envs/lark/lib/python3.8/site-packages/urllib3/response.py\", line 455, in _error_catcher\n",
      "    raise ProtocolError(\"Connection broken: %r\" % e, e)\n",
      "urllib3.exceptions.ProtocolError: (\"Connection broken: InvalidChunkLength(got length b'', 0 bytes read)\", InvalidChunkLength(got length b'', 0 bytes read))\n",
      "\n",
      "During handling of the above exception, another exception occurred:\n",
      "\n",
      "Traceback (most recent call last):\n",
      "  File \"/home/koen/apps/anaconda3/envs/lark/lib/python3.8/site-packages/neptune/internal/channels/channels_values_sender.py\", line 157, in _send_values\n",
      "    self._experiment._send_channels_values(channels_with_values)\n",
      "  File \"/home/koen/apps/anaconda3/envs/lark/lib/python3.8/site-packages/neptune/experiments.py\", line 1032, in _send_channels_values\n",
      "    self._backend.send_channels_values(self, channels_with_values)\n",
      "  File \"/home/koen/apps/anaconda3/envs/lark/lib/python3.8/site-packages/neptune/utils.py\", line 271, in wrapper\n",
      "    return func(*args, **kwargs)\n",
      "  File \"/home/koen/apps/anaconda3/envs/lark/lib/python3.8/site-packages/neptune/internal/api_clients/hosted_api_clients/hosted_alpha_leaderboard_api_client.py\", line 372, in send_channels_values\n",
      "    self._execute_operations(experiment, send_operations)\n",
      "  File \"/home/koen/apps/anaconda3/envs/lark/lib/python3.8/site-packages/neptune/utils.py\", line 271, in wrapper\n",
      "    return func(*args, **kwargs)\n",
      "  File \"/home/koen/apps/anaconda3/envs/lark/lib/python3.8/site-packages/neptune/internal/api_clients/hosted_api_clients/hosted_alpha_leaderboard_api_client.py\", line 611, in _execute_operations\n",
      "    result = self.leaderboard_swagger_client.api.executeOperations(**kwargs).response().result\n",
      "  File \"/home/koen/apps/anaconda3/envs/lark/lib/python3.8/site-packages/bravado/http_future.py\", line 197, in response\n",
      "    incoming_response = self._get_incoming_response(timeout)\n",
      "  File \"/home/koen/apps/anaconda3/envs/lark/lib/python3.8/site-packages/bravado/http_future.py\", line 124, in wrapper\n",
      "    return func(self, *args, **kwargs)\n",
      "  File \"/home/koen/apps/anaconda3/envs/lark/lib/python3.8/site-packages/bravado/http_future.py\", line 291, in _get_incoming_response\n",
      "    inner_response = self.future.result(timeout=timeout)\n",
      "  File \"/home/koen/apps/anaconda3/envs/lark/lib/python3.8/site-packages/bravado/requests_client.py\", line 266, in result\n",
      "    response = self.session.send(\n",
      "  File \"/home/koen/apps/anaconda3/envs/lark/lib/python3.8/site-packages/requests/sessions.py\", line 697, in send\n",
      "    r.content\n",
      "  File \"/home/koen/apps/anaconda3/envs/lark/lib/python3.8/site-packages/requests/models.py\", line 831, in content\n",
      "    self._content = b''.join(self.iter_content(CONTENT_CHUNK_SIZE)) or b''\n",
      "  File \"/home/koen/apps/anaconda3/envs/lark/lib/python3.8/site-packages/requests/models.py\", line 756, in generate\n",
      "    raise ChunkedEncodingError(e)\n",
      "requests.exceptions.ChunkedEncodingError: (\"Connection broken: InvalidChunkLength(got length b'', 0 bytes read)\", InvalidChunkLength(got length b'', 0 bytes read))\n",
      "Unexpected error in ping thread.\n",
      "Traceback (most recent call last):\n",
      "  File \"/home/koen/apps/anaconda3/envs/lark/lib/python3.8/site-packages/neptune/internal/threads/ping_thread.py\", line 37, in run\n",
      "    self.__backend.ping_experiment(self.__experiment)\n",
      "  File \"/home/koen/apps/anaconda3/envs/lark/lib/python3.8/site-packages/neptune/internal/api_clients/hosted_api_clients/hosted_alpha_leaderboard_api_client.py\", line 382, in ping_experiment\n",
      "    self.leaderboard_swagger_client.api.ping(experimentId=str(experiment.internal_id)).response().result\n",
      "  File \"/home/koen/apps/anaconda3/envs/lark/lib/python3.8/site-packages/bravado/http_future.py\", line 239, in response\n",
      "    six.reraise(*sys.exc_info())\n",
      "  File \"/home/koen/apps/anaconda3/envs/lark/lib/python3.8/site-packages/six.py\", line 703, in reraise\n",
      "    raise value\n",
      "  File \"/home/koen/apps/anaconda3/envs/lark/lib/python3.8/site-packages/bravado/http_future.py\", line 200, in response\n",
      "    swagger_result = self._get_swagger_result(incoming_response)\n",
      "  File \"/home/koen/apps/anaconda3/envs/lark/lib/python3.8/site-packages/bravado/http_future.py\", line 124, in wrapper\n",
      "    return func(self, *args, **kwargs)\n",
      "  File \"/home/koen/apps/anaconda3/envs/lark/lib/python3.8/site-packages/bravado/http_future.py\", line 300, in _get_swagger_result\n",
      "    unmarshal_response(\n",
      "  File \"/home/koen/apps/anaconda3/envs/lark/lib/python3.8/site-packages/bravado/http_future.py\", line 334, in unmarshal_response\n",
      "    raise_on_unexpected(incoming_response)\n",
      "  File \"/home/koen/apps/anaconda3/envs/lark/lib/python3.8/site-packages/bravado/http_future.py\", line 408, in raise_on_unexpected\n",
      "    raise make_http_exception(response=http_response)\n",
      "bravado.exception.HTTPServiceUnavailable: 503 Service Temporarily Unavailable: <html>\n",
      "<head><title>503 Service Temporarily Unavailable</title></head>\n",
      "<body>\n",
      "<center><h1>503 Service Temporarily Unavailable</h1></center>\n",
      "<hr><center>nginx</center>\n",
      "</body>\n",
      "</html>\n",
      "\n",
      "Unexpected error in ping thread.\n",
      "Traceback (most recent call last):\n",
      "  File \"/home/koen/apps/anaconda3/envs/lark/lib/python3.8/site-packages/neptune/internal/threads/ping_thread.py\", line 37, in run\n",
      "    self.__backend.ping_experiment(self.__experiment)\n",
      "  File \"/home/koen/apps/anaconda3/envs/lark/lib/python3.8/site-packages/neptune/internal/api_clients/hosted_api_clients/hosted_alpha_leaderboard_api_client.py\", line 382, in ping_experiment\n",
      "    self.leaderboard_swagger_client.api.ping(experimentId=str(experiment.internal_id)).response().result\n",
      "  File \"/home/koen/apps/anaconda3/envs/lark/lib/python3.8/site-packages/bravado/http_future.py\", line 239, in response\n",
      "    six.reraise(*sys.exc_info())\n",
      "  File \"/home/koen/apps/anaconda3/envs/lark/lib/python3.8/site-packages/six.py\", line 703, in reraise\n",
      "    raise value\n",
      "  File \"/home/koen/apps/anaconda3/envs/lark/lib/python3.8/site-packages/bravado/http_future.py\", line 200, in response\n",
      "    swagger_result = self._get_swagger_result(incoming_response)\n",
      "  File \"/home/koen/apps/anaconda3/envs/lark/lib/python3.8/site-packages/bravado/http_future.py\", line 124, in wrapper\n",
      "    return func(self, *args, **kwargs)\n",
      "  File \"/home/koen/apps/anaconda3/envs/lark/lib/python3.8/site-packages/bravado/http_future.py\", line 300, in _get_swagger_result\n",
      "    unmarshal_response(\n",
      "  File \"/home/koen/apps/anaconda3/envs/lark/lib/python3.8/site-packages/bravado/http_future.py\", line 334, in unmarshal_response\n",
      "    raise_on_unexpected(incoming_response)\n",
      "  File \"/home/koen/apps/anaconda3/envs/lark/lib/python3.8/site-packages/bravado/http_future.py\", line 408, in raise_on_unexpected\n",
      "    raise make_http_exception(response=http_response)\n",
      "bravado.exception.HTTPServiceUnavailable: 503 Service Temporarily Unavailable: <html>\n",
      "<head><title>503 Service Temporarily Unavailable</title></head>\n",
      "<body>\n",
      "<center><h1>503 Service Temporarily Unavailable</h1></center>\n",
      "<hr><center>nginx</center>\n",
      "</body>\n",
      "</html>\n",
      "\n",
      "Unexpected error in ping thread.\n",
      "Traceback (most recent call last):\n",
      "  File \"/home/koen/apps/anaconda3/envs/lark/lib/python3.8/site-packages/neptune/internal/threads/ping_thread.py\", line 37, in run\n",
      "    self.__backend.ping_experiment(self.__experiment)\n",
      "  File \"/home/koen/apps/anaconda3/envs/lark/lib/python3.8/site-packages/neptune/internal/api_clients/hosted_api_clients/hosted_alpha_leaderboard_api_client.py\", line 382, in ping_experiment\n",
      "    self.leaderboard_swagger_client.api.ping(experimentId=str(experiment.internal_id)).response().result\n",
      "  File \"/home/koen/apps/anaconda3/envs/lark/lib/python3.8/site-packages/bravado/http_future.py\", line 239, in response\n",
      "    six.reraise(*sys.exc_info())\n",
      "  File \"/home/koen/apps/anaconda3/envs/lark/lib/python3.8/site-packages/six.py\", line 703, in reraise\n",
      "    raise value\n",
      "  File \"/home/koen/apps/anaconda3/envs/lark/lib/python3.8/site-packages/bravado/http_future.py\", line 200, in response\n",
      "    swagger_result = self._get_swagger_result(incoming_response)\n",
      "  File \"/home/koen/apps/anaconda3/envs/lark/lib/python3.8/site-packages/bravado/http_future.py\", line 124, in wrapper\n",
      "    return func(self, *args, **kwargs)\n",
      "  File \"/home/koen/apps/anaconda3/envs/lark/lib/python3.8/site-packages/bravado/http_future.py\", line 300, in _get_swagger_result\n",
      "    unmarshal_response(\n",
      "  File \"/home/koen/apps/anaconda3/envs/lark/lib/python3.8/site-packages/bravado/http_future.py\", line 334, in unmarshal_response\n",
      "    raise_on_unexpected(incoming_response)\n",
      "  File \"/home/koen/apps/anaconda3/envs/lark/lib/python3.8/site-packages/bravado/http_future.py\", line 408, in raise_on_unexpected\n",
      "    raise make_http_exception(response=http_response)\n",
      "bravado.exception.HTTPServiceUnavailable: 503 Service Temporarily Unavailable: <html>\n",
      "<head><title>503 Service Temporarily Unavailable</title></head>\n",
      "<body>\n",
      "<center><h1>503 Service Temporarily Unavailable</h1></center>\n",
      "<hr><center>nginx</center>\n",
      "</body>\n",
      "</html>\n",
      "\n",
      "Unexpected error in ping thread.\n",
      "Traceback (most recent call last):\n",
      "  File \"/home/koen/apps/anaconda3/envs/lark/lib/python3.8/site-packages/neptune/internal/threads/ping_thread.py\", line 37, in run\n",
      "    self.__backend.ping_experiment(self.__experiment)\n",
      "  File \"/home/koen/apps/anaconda3/envs/lark/lib/python3.8/site-packages/neptune/internal/api_clients/hosted_api_clients/hosted_alpha_leaderboard_api_client.py\", line 382, in ping_experiment\n",
      "    self.leaderboard_swagger_client.api.ping(experimentId=str(experiment.internal_id)).response().result\n",
      "  File \"/home/koen/apps/anaconda3/envs/lark/lib/python3.8/site-packages/bravado/http_future.py\", line 239, in response\n",
      "    six.reraise(*sys.exc_info())\n",
      "  File \"/home/koen/apps/anaconda3/envs/lark/lib/python3.8/site-packages/six.py\", line 703, in reraise\n",
      "    raise value\n",
      "  File \"/home/koen/apps/anaconda3/envs/lark/lib/python3.8/site-packages/bravado/http_future.py\", line 200, in response\n",
      "    swagger_result = self._get_swagger_result(incoming_response)\n",
      "  File \"/home/koen/apps/anaconda3/envs/lark/lib/python3.8/site-packages/bravado/http_future.py\", line 124, in wrapper\n",
      "    return func(self, *args, **kwargs)\n",
      "  File \"/home/koen/apps/anaconda3/envs/lark/lib/python3.8/site-packages/bravado/http_future.py\", line 300, in _get_swagger_result\n",
      "    unmarshal_response(\n",
      "  File \"/home/koen/apps/anaconda3/envs/lark/lib/python3.8/site-packages/bravado/http_future.py\", line 334, in unmarshal_response\n",
      "    raise_on_unexpected(incoming_response)\n",
      "  File \"/home/koen/apps/anaconda3/envs/lark/lib/python3.8/site-packages/bravado/http_future.py\", line 408, in raise_on_unexpected\n",
      "    raise make_http_exception(response=http_response)\n",
      "bravado.exception.HTTPServiceUnavailable: 503 Service Temporarily Unavailable: <html>\n",
      "<head><title>503 Service Temporarily Unavailable</title></head>\n",
      "<body>\n",
      "<center><h1>503 Service Temporarily Unavailable</h1></center>\n",
      "<hr><center>nginx</center>\n",
      "</body>\n",
      "</html>\n",
      "\n",
      "Unexpected error in ping thread.\n",
      "Traceback (most recent call last):\n",
      "  File \"/home/koen/apps/anaconda3/envs/lark/lib/python3.8/site-packages/neptune/internal/threads/ping_thread.py\", line 37, in run\n",
      "    self.__backend.ping_experiment(self.__experiment)\n",
      "  File \"/home/koen/apps/anaconda3/envs/lark/lib/python3.8/site-packages/neptune/internal/api_clients/hosted_api_clients/hosted_alpha_leaderboard_api_client.py\", line 382, in ping_experiment\n",
      "    self.leaderboard_swagger_client.api.ping(experimentId=str(experiment.internal_id)).response().result\n",
      "  File \"/home/koen/apps/anaconda3/envs/lark/lib/python3.8/site-packages/bravado/http_future.py\", line 239, in response\n",
      "    six.reraise(*sys.exc_info())\n",
      "  File \"/home/koen/apps/anaconda3/envs/lark/lib/python3.8/site-packages/six.py\", line 703, in reraise\n",
      "    raise value\n",
      "  File \"/home/koen/apps/anaconda3/envs/lark/lib/python3.8/site-packages/bravado/http_future.py\", line 200, in response\n",
      "    swagger_result = self._get_swagger_result(incoming_response)\n",
      "  File \"/home/koen/apps/anaconda3/envs/lark/lib/python3.8/site-packages/bravado/http_future.py\", line 124, in wrapper\n",
      "    return func(self, *args, **kwargs)\n",
      "  File \"/home/koen/apps/anaconda3/envs/lark/lib/python3.8/site-packages/bravado/http_future.py\", line 300, in _get_swagger_result\n",
      "    unmarshal_response(\n",
      "  File \"/home/koen/apps/anaconda3/envs/lark/lib/python3.8/site-packages/bravado/http_future.py\", line 334, in unmarshal_response\n",
      "    raise_on_unexpected(incoming_response)\n",
      "  File \"/home/koen/apps/anaconda3/envs/lark/lib/python3.8/site-packages/bravado/http_future.py\", line 408, in raise_on_unexpected\n",
      "    raise make_http_exception(response=http_response)\n",
      "bravado.exception.HTTPServiceUnavailable: 503 Service Temporarily Unavailable: <html>\n",
      "<head><title>503 Service Temporarily Unavailable</title></head>\n",
      "<body>\n",
      "<center><h1>503 Service Temporarily Unavailable</h1></center>\n",
      "<hr><center>nginx</center>\n",
      "</body>\n",
      "</html>\n",
      "\n",
      "Unexpected error in ping thread.\n",
      "Traceback (most recent call last):\n",
      "  File \"/home/koen/apps/anaconda3/envs/lark/lib/python3.8/site-packages/neptune/internal/threads/ping_thread.py\", line 37, in run\n",
      "    self.__backend.ping_experiment(self.__experiment)\n",
      "  File \"/home/koen/apps/anaconda3/envs/lark/lib/python3.8/site-packages/neptune/internal/api_clients/hosted_api_clients/hosted_alpha_leaderboard_api_client.py\", line 382, in ping_experiment\n",
      "    self.leaderboard_swagger_client.api.ping(experimentId=str(experiment.internal_id)).response().result\n",
      "  File \"/home/koen/apps/anaconda3/envs/lark/lib/python3.8/site-packages/bravado/http_future.py\", line 239, in response\n",
      "    six.reraise(*sys.exc_info())\n",
      "  File \"/home/koen/apps/anaconda3/envs/lark/lib/python3.8/site-packages/six.py\", line 703, in reraise\n",
      "    raise value\n",
      "  File \"/home/koen/apps/anaconda3/envs/lark/lib/python3.8/site-packages/bravado/http_future.py\", line 200, in response\n",
      "    swagger_result = self._get_swagger_result(incoming_response)\n",
      "  File \"/home/koen/apps/anaconda3/envs/lark/lib/python3.8/site-packages/bravado/http_future.py\", line 124, in wrapper\n",
      "    return func(self, *args, **kwargs)\n",
      "  File \"/home/koen/apps/anaconda3/envs/lark/lib/python3.8/site-packages/bravado/http_future.py\", line 300, in _get_swagger_result\n",
      "    unmarshal_response(\n",
      "  File \"/home/koen/apps/anaconda3/envs/lark/lib/python3.8/site-packages/bravado/http_future.py\", line 334, in unmarshal_response\n",
      "    raise_on_unexpected(incoming_response)\n",
      "  File \"/home/koen/apps/anaconda3/envs/lark/lib/python3.8/site-packages/bravado/http_future.py\", line 408, in raise_on_unexpected\n",
      "    raise make_http_exception(response=http_response)\n",
      "bravado.exception.HTTPServiceUnavailable: 503 Service Temporarily Unavailable: <html>\n",
      "<head><title>503 Service Temporarily Unavailable</title></head>\n",
      "<body>\n",
      "<center><h1>503 Service Temporarily Unavailable</h1></center>\n",
      "<hr><center>nginx</center>\n",
      "</body>\n",
      "</html>\n",
      "\n",
      "Unexpected error in ping thread.\n",
      "Traceback (most recent call last):\n",
      "  File \"/home/koen/apps/anaconda3/envs/lark/lib/python3.8/site-packages/neptune/internal/threads/ping_thread.py\", line 37, in run\n",
      "    self.__backend.ping_experiment(self.__experiment)\n",
      "  File \"/home/koen/apps/anaconda3/envs/lark/lib/python3.8/site-packages/neptune/internal/api_clients/hosted_api_clients/hosted_alpha_leaderboard_api_client.py\", line 382, in ping_experiment\n",
      "    self.leaderboard_swagger_client.api.ping(experimentId=str(experiment.internal_id)).response().result\n",
      "  File \"/home/koen/apps/anaconda3/envs/lark/lib/python3.8/site-packages/bravado/http_future.py\", line 239, in response\n",
      "    six.reraise(*sys.exc_info())\n",
      "  File \"/home/koen/apps/anaconda3/envs/lark/lib/python3.8/site-packages/six.py\", line 703, in reraise\n",
      "    raise value\n",
      "  File \"/home/koen/apps/anaconda3/envs/lark/lib/python3.8/site-packages/bravado/http_future.py\", line 200, in response\n",
      "    swagger_result = self._get_swagger_result(incoming_response)\n",
      "  File \"/home/koen/apps/anaconda3/envs/lark/lib/python3.8/site-packages/bravado/http_future.py\", line 124, in wrapper\n",
      "    return func(self, *args, **kwargs)\n",
      "  File \"/home/koen/apps/anaconda3/envs/lark/lib/python3.8/site-packages/bravado/http_future.py\", line 300, in _get_swagger_result\n",
      "    unmarshal_response(\n",
      "  File \"/home/koen/apps/anaconda3/envs/lark/lib/python3.8/site-packages/bravado/http_future.py\", line 334, in unmarshal_response\n",
      "    raise_on_unexpected(incoming_response)\n",
      "  File \"/home/koen/apps/anaconda3/envs/lark/lib/python3.8/site-packages/bravado/http_future.py\", line 408, in raise_on_unexpected\n",
      "    raise make_http_exception(response=http_response)\n",
      "bravado.exception.HTTPServiceUnavailable: 503 Service Temporarily Unavailable: <html>\n",
      "<head><title>503 Service Temporarily Unavailable</title></head>\n",
      "<body>\n",
      "<center><h1>503 Service Temporarily Unavailable</h1></center>\n",
      "<hr><center>nginx</center>\n",
      "</body>\n",
      "</html>\n",
      "\n",
      "Unexpected error in ping thread.\n",
      "Traceback (most recent call last):\n",
      "  File \"/home/koen/apps/anaconda3/envs/lark/lib/python3.8/site-packages/neptune/internal/threads/ping_thread.py\", line 37, in run\n",
      "    self.__backend.ping_experiment(self.__experiment)\n",
      "  File \"/home/koen/apps/anaconda3/envs/lark/lib/python3.8/site-packages/neptune/internal/api_clients/hosted_api_clients/hosted_alpha_leaderboard_api_client.py\", line 382, in ping_experiment\n",
      "    self.leaderboard_swagger_client.api.ping(experimentId=str(experiment.internal_id)).response().result\n",
      "  File \"/home/koen/apps/anaconda3/envs/lark/lib/python3.8/site-packages/bravado/http_future.py\", line 239, in response\n",
      "    six.reraise(*sys.exc_info())\n",
      "  File \"/home/koen/apps/anaconda3/envs/lark/lib/python3.8/site-packages/six.py\", line 703, in reraise\n",
      "    raise value\n",
      "  File \"/home/koen/apps/anaconda3/envs/lark/lib/python3.8/site-packages/bravado/http_future.py\", line 200, in response\n",
      "    swagger_result = self._get_swagger_result(incoming_response)\n",
      "  File \"/home/koen/apps/anaconda3/envs/lark/lib/python3.8/site-packages/bravado/http_future.py\", line 124, in wrapper\n",
      "    return func(self, *args, **kwargs)\n",
      "  File \"/home/koen/apps/anaconda3/envs/lark/lib/python3.8/site-packages/bravado/http_future.py\", line 300, in _get_swagger_result\n",
      "    unmarshal_response(\n",
      "  File \"/home/koen/apps/anaconda3/envs/lark/lib/python3.8/site-packages/bravado/http_future.py\", line 334, in unmarshal_response\n",
      "    raise_on_unexpected(incoming_response)\n",
      "  File \"/home/koen/apps/anaconda3/envs/lark/lib/python3.8/site-packages/bravado/http_future.py\", line 408, in raise_on_unexpected\n",
      "    raise make_http_exception(response=http_response)\n",
      "bravado.exception.HTTPServiceUnavailable: 503 Service Temporarily Unavailable: <html>\n",
      "<head><title>503 Service Temporarily Unavailable</title></head>\n",
      "<body>\n",
      "<center><h1>503 Service Temporarily Unavailable</h1></center>\n",
      "<hr><center>nginx</center>\n",
      "</body>\n",
      "</html>\n",
      "\n",
      "Unexpected error in ping thread.\n",
      "Traceback (most recent call last):\n",
      "  File \"/home/koen/apps/anaconda3/envs/lark/lib/python3.8/site-packages/neptune/internal/threads/ping_thread.py\", line 37, in run\n",
      "    self.__backend.ping_experiment(self.__experiment)\n",
      "  File \"/home/koen/apps/anaconda3/envs/lark/lib/python3.8/site-packages/neptune/internal/api_clients/hosted_api_clients/hosted_alpha_leaderboard_api_client.py\", line 382, in ping_experiment\n",
      "    self.leaderboard_swagger_client.api.ping(experimentId=str(experiment.internal_id)).response().result\n",
      "  File \"/home/koen/apps/anaconda3/envs/lark/lib/python3.8/site-packages/bravado/http_future.py\", line 239, in response\n",
      "    six.reraise(*sys.exc_info())\n",
      "  File \"/home/koen/apps/anaconda3/envs/lark/lib/python3.8/site-packages/six.py\", line 703, in reraise\n",
      "    raise value\n",
      "  File \"/home/koen/apps/anaconda3/envs/lark/lib/python3.8/site-packages/bravado/http_future.py\", line 200, in response\n",
      "    swagger_result = self._get_swagger_result(incoming_response)\n",
      "  File \"/home/koen/apps/anaconda3/envs/lark/lib/python3.8/site-packages/bravado/http_future.py\", line 124, in wrapper\n",
      "    return func(self, *args, **kwargs)\n",
      "  File \"/home/koen/apps/anaconda3/envs/lark/lib/python3.8/site-packages/bravado/http_future.py\", line 300, in _get_swagger_result\n",
      "    unmarshal_response(\n",
      "  File \"/home/koen/apps/anaconda3/envs/lark/lib/python3.8/site-packages/bravado/http_future.py\", line 334, in unmarshal_response\n",
      "    raise_on_unexpected(incoming_response)\n",
      "  File \"/home/koen/apps/anaconda3/envs/lark/lib/python3.8/site-packages/bravado/http_future.py\", line 408, in raise_on_unexpected\n",
      "    raise make_http_exception(response=http_response)\n",
      "bravado.exception.HTTPServiceUnavailable: 503 Service Temporarily Unavailable: <html>\n",
      "<head><title>503 Service Temporarily Unavailable</title></head>\n",
      "<body>\n",
      "<center><h1>503 Service Temporarily Unavailable</h1></center>\n",
      "<hr><center>nginx</center>\n",
      "</body>\n",
      "</html>\n",
      "\n",
      "Unexpected error in ping thread.\n",
      "Traceback (most recent call last):\n",
      "  File \"/home/koen/apps/anaconda3/envs/lark/lib/python3.8/site-packages/neptune/internal/threads/ping_thread.py\", line 37, in run\n",
      "    self.__backend.ping_experiment(self.__experiment)\n",
      "  File \"/home/koen/apps/anaconda3/envs/lark/lib/python3.8/site-packages/neptune/internal/api_clients/hosted_api_clients/hosted_alpha_leaderboard_api_client.py\", line 382, in ping_experiment\n",
      "    self.leaderboard_swagger_client.api.ping(experimentId=str(experiment.internal_id)).response().result\n",
      "  File \"/home/koen/apps/anaconda3/envs/lark/lib/python3.8/site-packages/bravado/http_future.py\", line 239, in response\n",
      "    six.reraise(*sys.exc_info())\n",
      "  File \"/home/koen/apps/anaconda3/envs/lark/lib/python3.8/site-packages/six.py\", line 703, in reraise\n",
      "    raise value\n",
      "  File \"/home/koen/apps/anaconda3/envs/lark/lib/python3.8/site-packages/bravado/http_future.py\", line 200, in response\n",
      "    swagger_result = self._get_swagger_result(incoming_response)\n",
      "  File \"/home/koen/apps/anaconda3/envs/lark/lib/python3.8/site-packages/bravado/http_future.py\", line 124, in wrapper\n",
      "    return func(self, *args, **kwargs)\n",
      "  File \"/home/koen/apps/anaconda3/envs/lark/lib/python3.8/site-packages/bravado/http_future.py\", line 300, in _get_swagger_result\n",
      "    unmarshal_response(\n",
      "  File \"/home/koen/apps/anaconda3/envs/lark/lib/python3.8/site-packages/bravado/http_future.py\", line 334, in unmarshal_response\n",
      "    raise_on_unexpected(incoming_response)\n",
      "  File \"/home/koen/apps/anaconda3/envs/lark/lib/python3.8/site-packages/bravado/http_future.py\", line 408, in raise_on_unexpected\n",
      "    raise make_http_exception(response=http_response)\n",
      "bravado.exception.HTTPServiceUnavailable: 503 Service Temporarily Unavailable: <html>\n",
      "<head><title>503 Service Temporarily Unavailable</title></head>\n",
      "<body>\n",
      "<center><h1>503 Service Temporarily Unavailable</h1></center>\n",
      "<hr><center>nginx</center>\n",
      "</body>\n",
      "</html>\n",
      "\n"
     ]
    },
    {
     "name": "stdout",
     "output_type": "stream",
     "text": [
      "skipping file data/birdclef-2021/train_short_audio.wav/whtspa/XC313231.wav offset 593086: invalid signal\n",
      "skipping file data/birdclef-2021/train_short_audio.wav/bkmtou1/XC518214.wav offset 9183417: invalid signal\n",
      "skipping file data/birdclef-2021/train_short_audio.wav/houwre/XC590621.wav offset 898848: invalid signal\n"
     ]
    },
    {
     "data": {
      "application/vnd.jupyter.widget-view+json": {
       "model_id": "",
       "version_major": 2,
       "version_minor": 0
      },
      "text/plain": [
       "  0%|          | 0/75 [00:00<?, ?it/s]"
      ]
     },
     "metadata": {},
     "output_type": "display_data"
    },
    {
     "name": "stdout",
     "output_type": "stream",
     "text": [
      "2021-05-03 22:27:35 epoch:   9 train loss: 0.013880 train f1: 0.405260 valid loss: 0.008796 valid f1: 0.046154\n"
     ]
    },
    {
     "data": {
      "application/vnd.jupyter.widget-view+json": {
       "model_id": "",
       "version_major": 2,
       "version_minor": 0
      },
      "text/plain": [
       "  0%|          | 0/4764 [00:00<?, ?it/s]"
      ]
     },
     "metadata": {},
     "output_type": "display_data"
    },
    {
     "name": "stdout",
     "output_type": "stream",
     "text": [
      "skipping file data/birdclef-2021/train_short_audio.wav/trokin/XC604129.wav offset 1080727: invalid signal\n",
      "skipping file data/birdclef-2021/train_short_audio.wav/yeofly1/XC328921.wav offset 317924: invalid signal\n",
      "skipping file data/birdclef-2021/train_short_audio.wav/houwre/XC590621.wav offset 1126940: invalid signal\n",
      "skipping file data/birdclef-2021/train_short_audio.wav/bkmtou1/XC518214.wav offset 8755118: invalid signal\n",
      "skipping file data/birdclef-2021/train_short_audio.wav/houwre/XC590621.wav offset 1601677: invalid signal\n",
      "skipping file data/birdclef-2021/train_short_audio.wav/babwar/XC137588.wav offset 182171: invalid signal\n",
      "skipping file data/birdclef-2021/train_short_audio.wav/bkmtou1/XC518213.wav offset 130868: invalid signal\n"
     ]
    },
    {
     "data": {
      "application/vnd.jupyter.widget-view+json": {
       "model_id": "",
       "version_major": 2,
       "version_minor": 0
      },
      "text/plain": [
       "  0%|          | 0/75 [00:00<?, ?it/s]"
      ]
     },
     "metadata": {},
     "output_type": "display_data"
    },
    {
     "name": "stdout",
     "output_type": "stream",
     "text": [
      "2021-05-03 22:58:46 epoch:  10 train loss: 0.013565 train f1: 0.425962 valid loss: 0.009116 valid f1: 0.061397\n"
     ]
    },
    {
     "data": {
      "application/vnd.jupyter.widget-view+json": {
       "model_id": "",
       "version_major": 2,
       "version_minor": 0
      },
      "text/plain": [
       "  0%|          | 0/4764 [00:00<?, ?it/s]"
      ]
     },
     "metadata": {},
     "output_type": "display_data"
    },
    {
     "name": "stdout",
     "output_type": "stream",
     "text": [
      "skipping file data/birdclef-2021/train_short_audio.wav/whtspa/XC313231.wav offset 767149: invalid signal\n",
      "skipping file data/birdclef-2021/train_short_audio.wav/babwar/XC137588.wav offset 165735: invalid signal\n",
      "skipping file data/birdclef-2021/train_short_audio.wav/houwre/XC590621.wav offset 763307: invalid signal\n",
      "skipping file data/birdclef-2021/train_short_audio.wav/bkmtou1/XC518213.wav offset 3468089: invalid signal\n",
      "skipping file data/birdclef-2021/train_short_audio.wav/yeofly1/XC328921.wav offset 420188: invalid signal\n",
      "skipping file data/birdclef-2021/train_short_audio.wav/bkmtou1/XC518213.wav offset 1915524: invalid signal\n",
      "skipping file data/birdclef-2021/train_short_audio.wav/bkmtou1/XC518213.wav offset 965974: invalid signal\n",
      "skipping file data/birdclef-2021/train_short_audio.wav/bkmtou1/XC518214.wav offset 7987590: invalid signal\n",
      "skipping file data/birdclef-2021/train_short_audio.wav/bkmtou1/XC518214.wav offset 10364153: invalid signal\n"
     ]
    },
    {
     "data": {
      "application/vnd.jupyter.widget-view+json": {
       "model_id": "",
       "version_major": 2,
       "version_minor": 0
      },
      "text/plain": [
       "  0%|          | 0/75 [00:00<?, ?it/s]"
      ]
     },
     "metadata": {},
     "output_type": "display_data"
    },
    {
     "name": "stdout",
     "output_type": "stream",
     "text": [
      "2021-05-03 23:29:57 epoch:  11 train loss: 0.013156 train f1: 0.447419 valid loss: 0.009228 valid f1: 0.041534\n"
     ]
    },
    {
     "data": {
      "application/vnd.jupyter.widget-view+json": {
       "model_id": "",
       "version_major": 2,
       "version_minor": 0
      },
      "text/plain": [
       "  0%|          | 0/4764 [00:00<?, ?it/s]"
      ]
     },
     "metadata": {},
     "output_type": "display_data"
    },
    {
     "name": "stdout",
     "output_type": "stream",
     "text": [
      "skipping file data/birdclef-2021/train_short_audio.wav/bkmtou1/XC518213.wav offset 642302: invalid signal\n",
      "skipping file data/birdclef-2021/train_short_audio.wav/whtspa/XC313231.wav offset 565166: invalid signal\n",
      "skipping file data/birdclef-2021/train_short_audio.wav/bkmtou1/XC518214.wav offset 8153750: invalid signal\n",
      "skipping file data/birdclef-2021/train_short_audio.wav/bkmtou1/XC518213.wav offset 1119926: invalid signal\n",
      "skipping file data/birdclef-2021/train_short_audio.wav/whtspa/XC313231.wav offset 250362: invalid signal\n",
      "skipping file data/birdclef-2021/train_short_audio.wav/babwar/XC137588.wav offset 163522: invalid signal\n",
      "skipping file data/birdclef-2021/train_short_audio.wav/whtspa/XC313231.wav offset 596914: invalid signal\n",
      "skipping file data/birdclef-2021/train_short_audio.wav/babwar/XC137588.wav offset 196328: invalid signal\n",
      "skipping file data/birdclef-2021/train_short_audio.wav/bkmtou1/XC518214.wav offset 8018399: invalid signal\n"
     ]
    },
    {
     "data": {
      "application/vnd.jupyter.widget-view+json": {
       "model_id": "",
       "version_major": 2,
       "version_minor": 0
      },
      "text/plain": [
       "  0%|          | 0/75 [00:00<?, ?it/s]"
      ]
     },
     "metadata": {},
     "output_type": "display_data"
    },
    {
     "name": "stdout",
     "output_type": "stream",
     "text": [
      "2021-05-04 00:01:07 epoch:  12 train loss: 0.012913 train f1: 0.462989 valid loss: 0.008781 valid f1: 0.053585\n"
     ]
    },
    {
     "data": {
      "application/vnd.jupyter.widget-view+json": {
       "model_id": "",
       "version_major": 2,
       "version_minor": 0
      },
      "text/plain": [
       "  0%|          | 0/4764 [00:00<?, ?it/s]"
      ]
     },
     "metadata": {},
     "output_type": "display_data"
    },
    {
     "name": "stdout",
     "output_type": "stream",
     "text": [
      "skipping file data/birdclef-2021/train_short_audio.wav/whtspa/XC313231.wav offset 1614341: invalid signal\n",
      "skipping file data/birdclef-2021/train_short_audio.wav/bkmtou1/XC518213.wav offset 862475: invalid signal\n",
      "skipping file data/birdclef-2021/train_short_audio.wav/whtspa/XC313231.wav offset 43820: invalid signal\n",
      "skipping file data/birdclef-2021/train_short_audio.wav/yeofly1/XC328921.wav offset 330564: invalid signal\n",
      "skipping file data/birdclef-2021/train_short_audio.wav/houwre/XC590621.wav offset 1198925: invalid signal\n",
      "skipping file data/birdclef-2021/train_short_audio.wav/bkbplo/XC594762.wav offset 289977: invalid signal\n",
      "skipping file data/birdclef-2021/train_short_audio.wav/houwre/XC590621.wav offset 1161616: invalid signal\n",
      "skipping file data/birdclef-2021/train_short_audio.wav/babwar/XC137588.wav offset 164992: invalid signal\n",
      "skipping file data/birdclef-2021/train_short_audio.wav/whtspa/XC313231.wav offset 652533: invalid signal\n"
     ]
    },
    {
     "data": {
      "application/vnd.jupyter.widget-view+json": {
       "model_id": "",
       "version_major": 2,
       "version_minor": 0
      },
      "text/plain": [
       "  0%|          | 0/75 [00:00<?, ?it/s]"
      ]
     },
     "metadata": {},
     "output_type": "display_data"
    },
    {
     "name": "stdout",
     "output_type": "stream",
     "text": [
      "2021-05-04 00:32:17 epoch:  13 train loss: 0.012705 train f1: 0.475597 valid loss: 0.008967 valid f1: 0.061824\n"
     ]
    },
    {
     "data": {
      "application/vnd.jupyter.widget-view+json": {
       "model_id": "",
       "version_major": 2,
       "version_minor": 0
      },
      "text/plain": [
       "  0%|          | 0/4764 [00:00<?, ?it/s]"
      ]
     },
     "metadata": {},
     "output_type": "display_data"
    },
    {
     "name": "stdout",
     "output_type": "stream",
     "text": [
      "skipping file data/birdclef-2021/train_short_audio.wav/bkmtou1/XC518214.wav offset 8189798: invalid signal\n",
      "skipping file data/birdclef-2021/train_short_audio.wav/bkmtou1/XC518213.wav offset 3424505: invalid signal\n",
      "skipping file data/birdclef-2021/train_short_audio.wav/babwar/XC137588.wav offset 154127: invalid signal\n",
      "skipping file data/birdclef-2021/train_short_audio.wav/babwar/XC137588.wav offset 192565: invalid signal\n",
      "skipping file data/birdclef-2021/train_short_audio.wav/amered/XC137610.wav offset 100948: invalid signal\n",
      "skipping file data/birdclef-2021/train_short_audio.wav/bkmtou1/XC518213.wav offset 2169094: invalid signal\n"
     ]
    },
    {
     "data": {
      "application/vnd.jupyter.widget-view+json": {
       "model_id": "",
       "version_major": 2,
       "version_minor": 0
      },
      "text/plain": [
       "  0%|          | 0/75 [00:00<?, ?it/s]"
      ]
     },
     "metadata": {},
     "output_type": "display_data"
    },
    {
     "name": "stdout",
     "output_type": "stream",
     "text": [
      "2021-05-04 01:03:27 epoch:  14 train loss: 0.012510 train f1: 0.482933 valid loss: 0.008920 valid f1: 0.065523\n"
     ]
    },
    {
     "data": {
      "application/vnd.jupyter.widget-view+json": {
       "model_id": "",
       "version_major": 2,
       "version_minor": 0
      },
      "text/plain": [
       "  0%|          | 0/4764 [00:00<?, ?it/s]"
      ]
     },
     "metadata": {},
     "output_type": "display_data"
    },
    {
     "name": "stdout",
     "output_type": "stream",
     "text": [
      "skipping file data/birdclef-2021/train_short_audio.wav/babwar/XC137588.wav offset 150894: invalid signal\n",
      "skipping file data/birdclef-2021/train_short_audio.wav/babwar/XC137588.wav offset 182641: invalid signal\n",
      "skipping file data/birdclef-2021/train_short_audio.wav/babwar/XC137588.wav offset 179925: invalid signal\n",
      "skipping file data/birdclef-2021/train_short_audio.wav/babwar/XC137588.wav offset 149055: invalid signal\n",
      "skipping file data/birdclef-2021/train_short_audio.wav/babwar/XC137588.wav offset 150534: invalid signal\n",
      "skipping file data/birdclef-2021/train_short_audio.wav/babwar/XC137588.wav offset 173158: invalid signal\n",
      "skipping file data/birdclef-2021/train_short_audio.wav/babwar/XC137588.wav offset 165545: invalid signal\n",
      "skipping file data/birdclef-2021/train_short_audio.wav/babwar/XC137588.wav offset 153924: invalid signal\n"
     ]
    },
    {
     "data": {
      "application/vnd.jupyter.widget-view+json": {
       "model_id": "",
       "version_major": 2,
       "version_minor": 0
      },
      "text/plain": [
       "  0%|          | 0/75 [00:00<?, ?it/s]"
      ]
     },
     "metadata": {},
     "output_type": "display_data"
    },
    {
     "name": "stdout",
     "output_type": "stream",
     "text": [
      "2021-05-04 01:34:38 epoch:  15 train loss: 0.012460 train f1: 0.485824 valid loss: 0.009065 valid f1: 0.058960\n"
     ]
    }
   ],
   "source": [
    "lrn.learn()"
   ]
  },
  {
   "cell_type": "code",
   "execution_count": 76,
   "id": "4c5eeb4e-a796-436e-9ac8-89d7f9b76373",
   "metadata": {},
   "outputs": [
    {
     "data": {
      "text/plain": [
       "{'total_steps': 5040,\n",
       " '_schedule_phases': [{'end_step': 1511.0,\n",
       "   'start_lr': 'initial_lr',\n",
       "   'end_lr': 'max_lr',\n",
       "   'start_momentum': 'max_momentum',\n",
       "   'end_momentum': 'base_momentum'},\n",
       "  {'end_step': 5039,\n",
       "   'start_lr': 'max_lr',\n",
       "   'end_lr': 'min_lr',\n",
       "   'start_momentum': 'base_momentum',\n",
       "   'end_momentum': 'max_momentum'}],\n",
       " 'anneal_func': <bound method OneCycleLR._annealing_cos of <torch.optim.lr_scheduler.OneCycleLR object at 0x7fbe204b0d00>>,\n",
       " 'cycle_momentum': True,\n",
       " 'use_beta1': True,\n",
       " 'base_lrs': [4e-05],\n",
       " 'last_epoch': 5040,\n",
       " '_step_count': 5041,\n",
       " 'verbose': False,\n",
       " '_get_lr_called_within_step': False,\n",
       " '_last_lr': [4.198235228265301e-09]}"
      ]
     },
     "execution_count": 76,
     "metadata": {},
     "output_type": "execute_result"
    }
   ],
   "source": [
    "lrn.scheduler.state_dict()"
   ]
  },
  {
   "cell_type": "code",
   "execution_count": 10,
   "id": "7d2deafe-4c47-4f43-aea9-68cc129e0d9c",
   "metadata": {},
   "outputs": [
    {
     "data": {
      "text/plain": [
       "'resnest50-full-training-20210503-174656-latest'"
      ]
     },
     "execution_count": 10,
     "metadata": {},
     "output_type": "execute_result"
    }
   ],
   "source": [
    "lrn.name = f\"{lrn.name}-latest\"\n",
    "lrn.name"
   ]
  },
  {
   "cell_type": "code",
   "execution_count": 11,
   "id": "d457a163-9277-43b9-84a4-8b9e0ae8b64d",
   "metadata": {},
   "outputs": [],
   "source": [
    "lrn.save_checkpoint(50, 0.009065, 0.058960)"
   ]
  },
  {
   "cell_type": "code",
   "execution_count": 12,
   "id": "2f986526-2ace-4df5-96f6-392676536e41",
   "metadata": {},
   "outputs": [
    {
     "data": {
      "application/vnd.jupyter.widget-view+json": {
       "model_id": "73228e12e98c4ea4a944788efb3632e7",
       "version_major": 2,
       "version_minor": 0
      },
      "text/plain": [
       "  0%|          | 0/75 [00:00<?, ?it/s]"
      ]
     },
     "metadata": {},
     "output_type": "display_data"
    },
    {
     "data": {
      "text/html": [
       "<div>\n",
       "<style scoped>\n",
       "    .dataframe tbody tr th:only-of-type {\n",
       "        vertical-align: middle;\n",
       "    }\n",
       "\n",
       "    .dataframe tbody tr th {\n",
       "        vertical-align: top;\n",
       "    }\n",
       "\n",
       "    .dataframe thead th {\n",
       "        text-align: right;\n",
       "    }\n",
       "</style>\n",
       "<table border=\"1\" class=\"dataframe\">\n",
       "  <thead>\n",
       "    <tr style=\"text-align: right;\">\n",
       "      <th></th>\n",
       "      <th>thresh</th>\n",
       "      <th>tp</th>\n",
       "      <th>tn</th>\n",
       "      <th>fp</th>\n",
       "      <th>fn</th>\n",
       "      <th>f1</th>\n",
       "    </tr>\n",
       "  </thead>\n",
       "  <tbody>\n",
       "    <tr>\n",
       "      <th>0</th>\n",
       "      <td>0.0</td>\n",
       "      <td>1183</td>\n",
       "      <td>0</td>\n",
       "      <td>951617</td>\n",
       "      <td>0</td>\n",
       "      <td>0.002480</td>\n",
       "    </tr>\n",
       "    <tr>\n",
       "      <th>1</th>\n",
       "      <td>0.1</td>\n",
       "      <td>137</td>\n",
       "      <td>949593</td>\n",
       "      <td>2024</td>\n",
       "      <td>1046</td>\n",
       "      <td>0.081938</td>\n",
       "    </tr>\n",
       "    <tr>\n",
       "      <th>2</th>\n",
       "      <td>0.2</td>\n",
       "      <td>90</td>\n",
       "      <td>950880</td>\n",
       "      <td>737</td>\n",
       "      <td>1093</td>\n",
       "      <td>0.089552</td>\n",
       "    </tr>\n",
       "    <tr>\n",
       "      <th>3</th>\n",
       "      <td>0.3</td>\n",
       "      <td>68</td>\n",
       "      <td>951284</td>\n",
       "      <td>333</td>\n",
       "      <td>1115</td>\n",
       "      <td>0.085859</td>\n",
       "    </tr>\n",
       "    <tr>\n",
       "      <th>4</th>\n",
       "      <td>0.4</td>\n",
       "      <td>53</td>\n",
       "      <td>951466</td>\n",
       "      <td>151</td>\n",
       "      <td>1130</td>\n",
       "      <td>0.076424</td>\n",
       "    </tr>\n",
       "    <tr>\n",
       "      <th>5</th>\n",
       "      <td>0.5</td>\n",
       "      <td>38</td>\n",
       "      <td>951549</td>\n",
       "      <td>68</td>\n",
       "      <td>1145</td>\n",
       "      <td>0.058960</td>\n",
       "    </tr>\n",
       "    <tr>\n",
       "      <th>6</th>\n",
       "      <td>0.6</td>\n",
       "      <td>27</td>\n",
       "      <td>951578</td>\n",
       "      <td>39</td>\n",
       "      <td>1156</td>\n",
       "      <td>0.043235</td>\n",
       "    </tr>\n",
       "    <tr>\n",
       "      <th>7</th>\n",
       "      <td>0.7</td>\n",
       "      <td>22</td>\n",
       "      <td>951596</td>\n",
       "      <td>21</td>\n",
       "      <td>1161</td>\n",
       "      <td>0.035889</td>\n",
       "    </tr>\n",
       "    <tr>\n",
       "      <th>8</th>\n",
       "      <td>0.8</td>\n",
       "      <td>15</td>\n",
       "      <td>951609</td>\n",
       "      <td>8</td>\n",
       "      <td>1168</td>\n",
       "      <td>0.024876</td>\n",
       "    </tr>\n",
       "    <tr>\n",
       "      <th>9</th>\n",
       "      <td>0.9</td>\n",
       "      <td>5</td>\n",
       "      <td>951614</td>\n",
       "      <td>3</td>\n",
       "      <td>1178</td>\n",
       "      <td>0.008396</td>\n",
       "    </tr>\n",
       "    <tr>\n",
       "      <th>10</th>\n",
       "      <td>1.0</td>\n",
       "      <td>0</td>\n",
       "      <td>951617</td>\n",
       "      <td>0</td>\n",
       "      <td>1183</td>\n",
       "      <td>0.000000</td>\n",
       "    </tr>\n",
       "  </tbody>\n",
       "</table>\n",
       "</div>"
      ],
      "text/plain": [
       "    thresh    tp      tn      fp    fn        f1\n",
       "0      0.0  1183       0  951617     0  0.002480\n",
       "1      0.1   137  949593    2024  1046  0.081938\n",
       "2      0.2    90  950880     737  1093  0.089552\n",
       "3      0.3    68  951284     333  1115  0.085859\n",
       "4      0.4    53  951466     151  1130  0.076424\n",
       "5      0.5    38  951549      68  1145  0.058960\n",
       "6      0.6    27  951578      39  1156  0.043235\n",
       "7      0.7    22  951596      21  1161  0.035889\n",
       "8      0.8    15  951609       8  1168  0.024876\n",
       "9      0.9     5  951614       3  1178  0.008396\n",
       "10     1.0     0  951617       0  1183  0.000000"
      ]
     },
     "execution_count": 12,
     "metadata": {},
     "output_type": "execute_result"
    }
   ],
   "source": [
    "lrn.evaluate()"
   ]
  },
  {
   "cell_type": "code",
   "execution_count": 14,
   "id": "c2da1e75-b446-4df1-8705-dd6d187f79e3",
   "metadata": {},
   "outputs": [
    {
     "data": {
      "text/plain": [
       "{'epoch': 4,\n",
       " 'valid_loss': 0.008272748069527248,\n",
       " 'valid_score': 0.046985119581222534}"
      ]
     },
     "execution_count": 14,
     "metadata": {},
     "output_type": "execute_result"
    }
   ],
   "source": [
    "lrn.name = 'resnest50-full-training-20210503-174656'\n",
    "lrn.load_checkpoint()"
   ]
  },
  {
   "cell_type": "code",
   "execution_count": 15,
   "id": "e29b77a7-94d8-4301-bfbb-1262c10089f9",
   "metadata": {},
   "outputs": [
    {
     "data": {
      "application/vnd.jupyter.widget-view+json": {
       "model_id": "9c6f9ed0294b432d858cdce130f28b2b",
       "version_major": 2,
       "version_minor": 0
      },
      "text/plain": [
       "  0%|          | 0/75 [00:00<?, ?it/s]"
      ]
     },
     "metadata": {},
     "output_type": "display_data"
    },
    {
     "data": {
      "text/html": [
       "<div>\n",
       "<style scoped>\n",
       "    .dataframe tbody tr th:only-of-type {\n",
       "        vertical-align: middle;\n",
       "    }\n",
       "\n",
       "    .dataframe tbody tr th {\n",
       "        vertical-align: top;\n",
       "    }\n",
       "\n",
       "    .dataframe thead th {\n",
       "        text-align: right;\n",
       "    }\n",
       "</style>\n",
       "<table border=\"1\" class=\"dataframe\">\n",
       "  <thead>\n",
       "    <tr style=\"text-align: right;\">\n",
       "      <th></th>\n",
       "      <th>thresh</th>\n",
       "      <th>tp</th>\n",
       "      <th>tn</th>\n",
       "      <th>fp</th>\n",
       "      <th>fn</th>\n",
       "      <th>f1</th>\n",
       "    </tr>\n",
       "  </thead>\n",
       "  <tbody>\n",
       "    <tr>\n",
       "      <th>0</th>\n",
       "      <td>0.0</td>\n",
       "      <td>1183</td>\n",
       "      <td>0</td>\n",
       "      <td>951617</td>\n",
       "      <td>0</td>\n",
       "      <td>0.002480</td>\n",
       "    </tr>\n",
       "    <tr>\n",
       "      <th>1</th>\n",
       "      <td>0.1</td>\n",
       "      <td>124</td>\n",
       "      <td>950373</td>\n",
       "      <td>1244</td>\n",
       "      <td>1059</td>\n",
       "      <td>0.097217</td>\n",
       "    </tr>\n",
       "    <tr>\n",
       "      <th>2</th>\n",
       "      <td>0.2</td>\n",
       "      <td>69</td>\n",
       "      <td>951273</td>\n",
       "      <td>344</td>\n",
       "      <td>1114</td>\n",
       "      <td>0.086466</td>\n",
       "    </tr>\n",
       "    <tr>\n",
       "      <th>3</th>\n",
       "      <td>0.3</td>\n",
       "      <td>46</td>\n",
       "      <td>951445</td>\n",
       "      <td>172</td>\n",
       "      <td>1137</td>\n",
       "      <td>0.065667</td>\n",
       "    </tr>\n",
       "    <tr>\n",
       "      <th>4</th>\n",
       "      <td>0.4</td>\n",
       "      <td>37</td>\n",
       "      <td>951513</td>\n",
       "      <td>104</td>\n",
       "      <td>1146</td>\n",
       "      <td>0.055891</td>\n",
       "    </tr>\n",
       "    <tr>\n",
       "      <th>5</th>\n",
       "      <td>0.5</td>\n",
       "      <td>30</td>\n",
       "      <td>951553</td>\n",
       "      <td>64</td>\n",
       "      <td>1153</td>\n",
       "      <td>0.046985</td>\n",
       "    </tr>\n",
       "    <tr>\n",
       "      <th>6</th>\n",
       "      <td>0.6</td>\n",
       "      <td>22</td>\n",
       "      <td>951576</td>\n",
       "      <td>41</td>\n",
       "      <td>1161</td>\n",
       "      <td>0.035313</td>\n",
       "    </tr>\n",
       "    <tr>\n",
       "      <th>7</th>\n",
       "      <td>0.7</td>\n",
       "      <td>13</td>\n",
       "      <td>951592</td>\n",
       "      <td>25</td>\n",
       "      <td>1170</td>\n",
       "      <td>0.021294</td>\n",
       "    </tr>\n",
       "    <tr>\n",
       "      <th>8</th>\n",
       "      <td>0.8</td>\n",
       "      <td>9</td>\n",
       "      <td>951603</td>\n",
       "      <td>14</td>\n",
       "      <td>1174</td>\n",
       "      <td>0.014925</td>\n",
       "    </tr>\n",
       "    <tr>\n",
       "      <th>9</th>\n",
       "      <td>0.9</td>\n",
       "      <td>6</td>\n",
       "      <td>951610</td>\n",
       "      <td>7</td>\n",
       "      <td>1177</td>\n",
       "      <td>0.010033</td>\n",
       "    </tr>\n",
       "    <tr>\n",
       "      <th>10</th>\n",
       "      <td>1.0</td>\n",
       "      <td>0</td>\n",
       "      <td>951617</td>\n",
       "      <td>0</td>\n",
       "      <td>1183</td>\n",
       "      <td>0.000000</td>\n",
       "    </tr>\n",
       "  </tbody>\n",
       "</table>\n",
       "</div>"
      ],
      "text/plain": [
       "    thresh    tp      tn      fp    fn        f1\n",
       "0      0.0  1183       0  951617     0  0.002480\n",
       "1      0.1   124  950373    1244  1059  0.097217\n",
       "2      0.2    69  951273     344  1114  0.086466\n",
       "3      0.3    46  951445     172  1137  0.065667\n",
       "4      0.4    37  951513     104  1146  0.055891\n",
       "5      0.5    30  951553      64  1153  0.046985\n",
       "6      0.6    22  951576      41  1161  0.035313\n",
       "7      0.7    13  951592      25  1170  0.021294\n",
       "8      0.8     9  951603      14  1174  0.014925\n",
       "9      0.9     6  951610       7  1177  0.010033\n",
       "10     1.0     0  951617       0  1183  0.000000"
      ]
     },
     "execution_count": 15,
     "metadata": {},
     "output_type": "execute_result"
    }
   ],
   "source": [
    "lrn.evaluate()"
   ]
  },
  {
   "cell_type": "code",
   "execution_count": 53,
   "id": "1fbf8f82-01e9-435a-ad0b-f18d17af129c",
   "metadata": {},
   "outputs": [],
   "source": [
    "for param in model.parameters():\n",
    "    param.requires_grad = True"
   ]
  },
  {
   "cell_type": "code",
   "execution_count": 54,
   "id": "d1649019-d200-440d-98c0-50fe7b240b3a",
   "metadata": {},
   "outputs": [],
   "source": [
    "lrn.name = 'resnest50-mixed-spec-unfrozen-20210502-144336'"
   ]
  },
  {
   "cell_type": "code",
   "execution_count": 55,
   "id": "7451f17d-8f8a-409a-9cc2-a42003cb2516",
   "metadata": {
    "tags": []
   },
   "outputs": [
    {
     "name": "stderr",
     "output_type": "stream",
     "text": [
      "psutil is not installed. You will not be able to abort this experiment from the UI.\n",
      "psutil is not installed. Hardware metrics will not be collected.\n"
     ]
    },
    {
     "name": "stdout",
     "output_type": "stream",
     "text": [
      "https://ui.neptune.ai/botkop/lark/e/LAR-52\n"
     ]
    },
    {
     "data": {
      "application/vnd.jupyter.widget-view+json": {
       "model_id": "569e352fdb8343fb9f2975b6b3a4cbcb",
       "version_major": 2,
       "version_minor": 0
      },
      "text/plain": [
       "  0%|          | 0/50 [00:00<?, ?it/s]"
      ]
     },
     "metadata": {},
     "output_type": "display_data"
    },
    {
     "data": {
      "application/vnd.jupyter.widget-view+json": {
       "model_id": "",
       "version_major": 2,
       "version_minor": 0
      },
      "text/plain": [
       "  0%|          | 0/336 [00:00<?, ?it/s]"
      ]
     },
     "metadata": {},
     "output_type": "display_data"
    },
    {
     "data": {
      "application/vnd.jupyter.widget-view+json": {
       "model_id": "",
       "version_major": 2,
       "version_minor": 0
      },
      "text/plain": [
       "  0%|          | 0/38 [00:00<?, ?it/s]"
      ]
     },
     "metadata": {},
     "output_type": "display_data"
    },
    {
     "name": "stdout",
     "output_type": "stream",
     "text": [
      "2021-05-02 15:55:09 epoch:   1 train loss: 0.141817 train f1: 0.381272 valid loss: 0.109354 valid f1: 0.197685\n"
     ]
    },
    {
     "data": {
      "application/vnd.jupyter.widget-view+json": {
       "model_id": "",
       "version_major": 2,
       "version_minor": 0
      },
      "text/plain": [
       "  0%|          | 0/336 [00:00<?, ?it/s]"
      ]
     },
     "metadata": {},
     "output_type": "display_data"
    },
    {
     "data": {
      "application/vnd.jupyter.widget-view+json": {
       "model_id": "",
       "version_major": 2,
       "version_minor": 0
      },
      "text/plain": [
       "  0%|          | 0/38 [00:00<?, ?it/s]"
      ]
     },
     "metadata": {},
     "output_type": "display_data"
    },
    {
     "name": "stdout",
     "output_type": "stream",
     "text": [
      "2021-05-02 15:57:31 epoch:   2 train loss: 0.134848 train f1: 0.429514 valid loss: 0.117236 valid f1: 0.217476\n"
     ]
    },
    {
     "data": {
      "application/vnd.jupyter.widget-view+json": {
       "model_id": "",
       "version_major": 2,
       "version_minor": 0
      },
      "text/plain": [
       "  0%|          | 0/336 [00:00<?, ?it/s]"
      ]
     },
     "metadata": {},
     "output_type": "display_data"
    },
    {
     "data": {
      "application/vnd.jupyter.widget-view+json": {
       "model_id": "",
       "version_major": 2,
       "version_minor": 0
      },
      "text/plain": [
       "  0%|          | 0/38 [00:00<?, ?it/s]"
      ]
     },
     "metadata": {},
     "output_type": "display_data"
    },
    {
     "name": "stdout",
     "output_type": "stream",
     "text": [
      "2021-05-02 15:59:51 epoch:   3 train loss: 0.132071 train f1: 0.439012 valid loss: 0.107109 valid f1: 0.174093\n"
     ]
    },
    {
     "data": {
      "application/vnd.jupyter.widget-view+json": {
       "model_id": "",
       "version_major": 2,
       "version_minor": 0
      },
      "text/plain": [
       "  0%|          | 0/336 [00:00<?, ?it/s]"
      ]
     },
     "metadata": {},
     "output_type": "display_data"
    },
    {
     "data": {
      "application/vnd.jupyter.widget-view+json": {
       "model_id": "",
       "version_major": 2,
       "version_minor": 0
      },
      "text/plain": [
       "  0%|          | 0/38 [00:00<?, ?it/s]"
      ]
     },
     "metadata": {},
     "output_type": "display_data"
    },
    {
     "name": "stdout",
     "output_type": "stream",
     "text": [
      "2021-05-02 16:02:13 epoch:   4 train loss: 0.130844 train f1: 0.460785 valid loss: 0.215760 valid f1: 0.092208\n"
     ]
    },
    {
     "data": {
      "application/vnd.jupyter.widget-view+json": {
       "model_id": "",
       "version_major": 2,
       "version_minor": 0
      },
      "text/plain": [
       "  0%|          | 0/336 [00:00<?, ?it/s]"
      ]
     },
     "metadata": {},
     "output_type": "display_data"
    },
    {
     "data": {
      "application/vnd.jupyter.widget-view+json": {
       "model_id": "",
       "version_major": 2,
       "version_minor": 0
      },
      "text/plain": [
       "  0%|          | 0/38 [00:00<?, ?it/s]"
      ]
     },
     "metadata": {},
     "output_type": "display_data"
    },
    {
     "name": "stdout",
     "output_type": "stream",
     "text": [
      "2021-05-02 16:04:33 epoch:   5 train loss: 0.130148 train f1: 0.460485 valid loss: 0.097588 valid f1: 0.224265\n"
     ]
    },
    {
     "data": {
      "application/vnd.jupyter.widget-view+json": {
       "model_id": "",
       "version_major": 2,
       "version_minor": 0
      },
      "text/plain": [
       "  0%|          | 0/336 [00:00<?, ?it/s]"
      ]
     },
     "metadata": {},
     "output_type": "display_data"
    },
    {
     "data": {
      "application/vnd.jupyter.widget-view+json": {
       "model_id": "",
       "version_major": 2,
       "version_minor": 0
      },
      "text/plain": [
       "  0%|          | 0/38 [00:00<?, ?it/s]"
      ]
     },
     "metadata": {},
     "output_type": "display_data"
    },
    {
     "name": "stdout",
     "output_type": "stream",
     "text": [
      "2021-05-02 16:06:55 epoch:   6 train loss: 0.129825 train f1: 0.463116 valid loss: 0.124249 valid f1: 0.226451\n"
     ]
    },
    {
     "data": {
      "application/vnd.jupyter.widget-view+json": {
       "model_id": "",
       "version_major": 2,
       "version_minor": 0
      },
      "text/plain": [
       "  0%|          | 0/336 [00:00<?, ?it/s]"
      ]
     },
     "metadata": {},
     "output_type": "display_data"
    },
    {
     "data": {
      "application/vnd.jupyter.widget-view+json": {
       "model_id": "",
       "version_major": 2,
       "version_minor": 0
      },
      "text/plain": [
       "  0%|          | 0/38 [00:00<?, ?it/s]"
      ]
     },
     "metadata": {},
     "output_type": "display_data"
    },
    {
     "name": "stdout",
     "output_type": "stream",
     "text": [
      "2021-05-02 16:09:16 epoch:   7 train loss: 0.128477 train f1: 0.471164 valid loss: 0.104603 valid f1: 0.177966\n"
     ]
    },
    {
     "data": {
      "application/vnd.jupyter.widget-view+json": {
       "model_id": "",
       "version_major": 2,
       "version_minor": 0
      },
      "text/plain": [
       "  0%|          | 0/336 [00:00<?, ?it/s]"
      ]
     },
     "metadata": {},
     "output_type": "display_data"
    },
    {
     "data": {
      "application/vnd.jupyter.widget-view+json": {
       "model_id": "",
       "version_major": 2,
       "version_minor": 0
      },
      "text/plain": [
       "  0%|          | 0/38 [00:00<?, ?it/s]"
      ]
     },
     "metadata": {},
     "output_type": "display_data"
    },
    {
     "name": "stdout",
     "output_type": "stream",
     "text": [
      "2021-05-02 16:11:36 epoch:   8 train loss: 0.126900 train f1: 0.477347 valid loss: 0.127088 valid f1: 0.214979\n"
     ]
    },
    {
     "data": {
      "application/vnd.jupyter.widget-view+json": {
       "model_id": "",
       "version_major": 2,
       "version_minor": 0
      },
      "text/plain": [
       "  0%|          | 0/336 [00:00<?, ?it/s]"
      ]
     },
     "metadata": {},
     "output_type": "display_data"
    },
    {
     "data": {
      "application/vnd.jupyter.widget-view+json": {
       "model_id": "",
       "version_major": 2,
       "version_minor": 0
      },
      "text/plain": [
       "  0%|          | 0/38 [00:00<?, ?it/s]"
      ]
     },
     "metadata": {},
     "output_type": "display_data"
    },
    {
     "name": "stdout",
     "output_type": "stream",
     "text": [
      "2021-05-02 16:13:57 epoch:   9 train loss: 0.125972 train f1: 0.488205 valid loss: 0.105485 valid f1: 0.261993\n"
     ]
    },
    {
     "data": {
      "application/vnd.jupyter.widget-view+json": {
       "model_id": "",
       "version_major": 2,
       "version_minor": 0
      },
      "text/plain": [
       "  0%|          | 0/336 [00:00<?, ?it/s]"
      ]
     },
     "metadata": {},
     "output_type": "display_data"
    },
    {
     "data": {
      "application/vnd.jupyter.widget-view+json": {
       "model_id": "",
       "version_major": 2,
       "version_minor": 0
      },
      "text/plain": [
       "  0%|          | 0/38 [00:00<?, ?it/s]"
      ]
     },
     "metadata": {},
     "output_type": "display_data"
    },
    {
     "name": "stdout",
     "output_type": "stream",
     "text": [
      "2021-05-02 16:16:17 epoch:  10 train loss: 0.126222 train f1: 0.493070 valid loss: 0.103504 valid f1: 0.164251\n"
     ]
    },
    {
     "data": {
      "application/vnd.jupyter.widget-view+json": {
       "model_id": "",
       "version_major": 2,
       "version_minor": 0
      },
      "text/plain": [
       "  0%|          | 0/336 [00:00<?, ?it/s]"
      ]
     },
     "metadata": {},
     "output_type": "display_data"
    },
    {
     "data": {
      "application/vnd.jupyter.widget-view+json": {
       "model_id": "",
       "version_major": 2,
       "version_minor": 0
      },
      "text/plain": [
       "  0%|          | 0/38 [00:00<?, ?it/s]"
      ]
     },
     "metadata": {},
     "output_type": "display_data"
    },
    {
     "name": "stdout",
     "output_type": "stream",
     "text": [
      "2021-05-02 16:18:38 epoch:  11 train loss: 0.126581 train f1: 0.487639 valid loss: 0.108646 valid f1: 0.271565\n"
     ]
    },
    {
     "data": {
      "application/vnd.jupyter.widget-view+json": {
       "model_id": "",
       "version_major": 2,
       "version_minor": 0
      },
      "text/plain": [
       "  0%|          | 0/336 [00:00<?, ?it/s]"
      ]
     },
     "metadata": {},
     "output_type": "display_data"
    },
    {
     "data": {
      "application/vnd.jupyter.widget-view+json": {
       "model_id": "",
       "version_major": 2,
       "version_minor": 0
      },
      "text/plain": [
       "  0%|          | 0/38 [00:00<?, ?it/s]"
      ]
     },
     "metadata": {},
     "output_type": "display_data"
    },
    {
     "name": "stdout",
     "output_type": "stream",
     "text": [
      "2021-05-02 16:20:59 epoch:  12 train loss: 0.124457 train f1: 0.496758 valid loss: 0.119755 valid f1: 0.192931\n"
     ]
    },
    {
     "data": {
      "application/vnd.jupyter.widget-view+json": {
       "model_id": "",
       "version_major": 2,
       "version_minor": 0
      },
      "text/plain": [
       "  0%|          | 0/336 [00:00<?, ?it/s]"
      ]
     },
     "metadata": {},
     "output_type": "display_data"
    },
    {
     "data": {
      "application/vnd.jupyter.widget-view+json": {
       "model_id": "",
       "version_major": 2,
       "version_minor": 0
      },
      "text/plain": [
       "  0%|          | 0/38 [00:00<?, ?it/s]"
      ]
     },
     "metadata": {},
     "output_type": "display_data"
    },
    {
     "name": "stdout",
     "output_type": "stream",
     "text": [
      "2021-05-02 16:23:19 epoch:  13 train loss: 0.121610 train f1: 0.505582 valid loss: 0.131605 valid f1: 0.155313\n"
     ]
    },
    {
     "data": {
      "application/vnd.jupyter.widget-view+json": {
       "model_id": "",
       "version_major": 2,
       "version_minor": 0
      },
      "text/plain": [
       "  0%|          | 0/336 [00:00<?, ?it/s]"
      ]
     },
     "metadata": {},
     "output_type": "display_data"
    },
    {
     "data": {
      "application/vnd.jupyter.widget-view+json": {
       "model_id": "",
       "version_major": 2,
       "version_minor": 0
      },
      "text/plain": [
       "  0%|          | 0/38 [00:00<?, ?it/s]"
      ]
     },
     "metadata": {},
     "output_type": "display_data"
    },
    {
     "name": "stdout",
     "output_type": "stream",
     "text": [
      "2021-05-02 16:25:40 epoch:  14 train loss: 0.122623 train f1: 0.503418 valid loss: 0.120628 valid f1: 0.224736\n"
     ]
    },
    {
     "data": {
      "application/vnd.jupyter.widget-view+json": {
       "model_id": "",
       "version_major": 2,
       "version_minor": 0
      },
      "text/plain": [
       "  0%|          | 0/336 [00:00<?, ?it/s]"
      ]
     },
     "metadata": {},
     "output_type": "display_data"
    },
    {
     "data": {
      "application/vnd.jupyter.widget-view+json": {
       "model_id": "",
       "version_major": 2,
       "version_minor": 0
      },
      "text/plain": [
       "  0%|          | 0/38 [00:00<?, ?it/s]"
      ]
     },
     "metadata": {},
     "output_type": "display_data"
    },
    {
     "name": "stdout",
     "output_type": "stream",
     "text": [
      "2021-05-02 16:28:01 epoch:  15 train loss: 0.122987 train f1: 0.502306 valid loss: 0.099309 valid f1: 0.245172\n"
     ]
    },
    {
     "data": {
      "application/vnd.jupyter.widget-view+json": {
       "model_id": "",
       "version_major": 2,
       "version_minor": 0
      },
      "text/plain": [
       "  0%|          | 0/336 [00:00<?, ?it/s]"
      ]
     },
     "metadata": {},
     "output_type": "display_data"
    },
    {
     "data": {
      "application/vnd.jupyter.widget-view+json": {
       "model_id": "",
       "version_major": 2,
       "version_minor": 0
      },
      "text/plain": [
       "  0%|          | 0/38 [00:00<?, ?it/s]"
      ]
     },
     "metadata": {},
     "output_type": "display_data"
    },
    {
     "name": "stdout",
     "output_type": "stream",
     "text": [
      "2021-05-02 16:30:22 epoch:  16 train loss: 0.123472 train f1: 0.498348 valid loss: 0.125775 valid f1: 0.172603\n"
     ]
    },
    {
     "data": {
      "application/vnd.jupyter.widget-view+json": {
       "model_id": "",
       "version_major": 2,
       "version_minor": 0
      },
      "text/plain": [
       "  0%|          | 0/336 [00:00<?, ?it/s]"
      ]
     },
     "metadata": {},
     "output_type": "display_data"
    },
    {
     "data": {
      "application/vnd.jupyter.widget-view+json": {
       "model_id": "",
       "version_major": 2,
       "version_minor": 0
      },
      "text/plain": [
       "  0%|          | 0/38 [00:00<?, ?it/s]"
      ]
     },
     "metadata": {},
     "output_type": "display_data"
    },
    {
     "name": "stdout",
     "output_type": "stream",
     "text": [
      "2021-05-02 16:32:43 epoch:  17 train loss: 0.120080 train f1: 0.518442 valid loss: 0.126283 valid f1: 0.207428\n"
     ]
    },
    {
     "data": {
      "application/vnd.jupyter.widget-view+json": {
       "model_id": "",
       "version_major": 2,
       "version_minor": 0
      },
      "text/plain": [
       "  0%|          | 0/336 [00:00<?, ?it/s]"
      ]
     },
     "metadata": {},
     "output_type": "display_data"
    },
    {
     "data": {
      "application/vnd.jupyter.widget-view+json": {
       "model_id": "",
       "version_major": 2,
       "version_minor": 0
      },
      "text/plain": [
       "  0%|          | 0/38 [00:00<?, ?it/s]"
      ]
     },
     "metadata": {},
     "output_type": "display_data"
    },
    {
     "name": "stdout",
     "output_type": "stream",
     "text": [
      "2021-05-02 16:35:04 epoch:  18 train loss: 0.119610 train f1: 0.522749 valid loss: 0.103384 valid f1: 0.271875\n"
     ]
    },
    {
     "data": {
      "application/vnd.jupyter.widget-view+json": {
       "model_id": "",
       "version_major": 2,
       "version_minor": 0
      },
      "text/plain": [
       "  0%|          | 0/336 [00:00<?, ?it/s]"
      ]
     },
     "metadata": {},
     "output_type": "display_data"
    },
    {
     "data": {
      "application/vnd.jupyter.widget-view+json": {
       "model_id": "",
       "version_major": 2,
       "version_minor": 0
      },
      "text/plain": [
       "  0%|          | 0/38 [00:00<?, ?it/s]"
      ]
     },
     "metadata": {},
     "output_type": "display_data"
    },
    {
     "name": "stdout",
     "output_type": "stream",
     "text": [
      "2021-05-02 16:37:25 epoch:  19 train loss: 0.120172 train f1: 0.520151 valid loss: 0.107240 valid f1: 0.227778\n"
     ]
    },
    {
     "data": {
      "application/vnd.jupyter.widget-view+json": {
       "model_id": "",
       "version_major": 2,
       "version_minor": 0
      },
      "text/plain": [
       "  0%|          | 0/336 [00:00<?, ?it/s]"
      ]
     },
     "metadata": {},
     "output_type": "display_data"
    },
    {
     "data": {
      "application/vnd.jupyter.widget-view+json": {
       "model_id": "",
       "version_major": 2,
       "version_minor": 0
      },
      "text/plain": [
       "  0%|          | 0/38 [00:00<?, ?it/s]"
      ]
     },
     "metadata": {},
     "output_type": "display_data"
    },
    {
     "name": "stdout",
     "output_type": "stream",
     "text": [
      "2021-05-02 16:39:46 epoch:  20 train loss: 0.121255 train f1: 0.516480 valid loss: 0.123965 valid f1: 0.173005\n"
     ]
    },
    {
     "data": {
      "application/vnd.jupyter.widget-view+json": {
       "model_id": "",
       "version_major": 2,
       "version_minor": 0
      },
      "text/plain": [
       "  0%|          | 0/336 [00:00<?, ?it/s]"
      ]
     },
     "metadata": {},
     "output_type": "display_data"
    },
    {
     "data": {
      "application/vnd.jupyter.widget-view+json": {
       "model_id": "",
       "version_major": 2,
       "version_minor": 0
      },
      "text/plain": [
       "  0%|          | 0/38 [00:00<?, ?it/s]"
      ]
     },
     "metadata": {},
     "output_type": "display_data"
    },
    {
     "name": "stdout",
     "output_type": "stream",
     "text": [
      "2021-05-02 16:42:07 epoch:  21 train loss: 0.119451 train f1: 0.523796 valid loss: 0.099787 valid f1: 0.250000\n"
     ]
    },
    {
     "data": {
      "application/vnd.jupyter.widget-view+json": {
       "model_id": "",
       "version_major": 2,
       "version_minor": 0
      },
      "text/plain": [
       "  0%|          | 0/336 [00:00<?, ?it/s]"
      ]
     },
     "metadata": {},
     "output_type": "display_data"
    },
    {
     "data": {
      "application/vnd.jupyter.widget-view+json": {
       "model_id": "",
       "version_major": 2,
       "version_minor": 0
      },
      "text/plain": [
       "  0%|          | 0/38 [00:00<?, ?it/s]"
      ]
     },
     "metadata": {},
     "output_type": "display_data"
    },
    {
     "name": "stdout",
     "output_type": "stream",
     "text": [
      "2021-05-02 16:44:27 epoch:  22 train loss: 0.119655 train f1: 0.520281 valid loss: 0.127816 valid f1: 0.183835\n"
     ]
    },
    {
     "data": {
      "application/vnd.jupyter.widget-view+json": {
       "model_id": "",
       "version_major": 2,
       "version_minor": 0
      },
      "text/plain": [
       "  0%|          | 0/336 [00:00<?, ?it/s]"
      ]
     },
     "metadata": {},
     "output_type": "display_data"
    },
    {
     "data": {
      "application/vnd.jupyter.widget-view+json": {
       "model_id": "",
       "version_major": 2,
       "version_minor": 0
      },
      "text/plain": [
       "  0%|          | 0/38 [00:00<?, ?it/s]"
      ]
     },
     "metadata": {},
     "output_type": "display_data"
    },
    {
     "name": "stdout",
     "output_type": "stream",
     "text": [
      "2021-05-02 16:46:48 epoch:  23 train loss: 0.118763 train f1: 0.534159 valid loss: 0.139366 valid f1: 0.194956\n"
     ]
    },
    {
     "data": {
      "application/vnd.jupyter.widget-view+json": {
       "model_id": "",
       "version_major": 2,
       "version_minor": 0
      },
      "text/plain": [
       "  0%|          | 0/336 [00:00<?, ?it/s]"
      ]
     },
     "metadata": {},
     "output_type": "display_data"
    },
    {
     "data": {
      "application/vnd.jupyter.widget-view+json": {
       "model_id": "",
       "version_major": 2,
       "version_minor": 0
      },
      "text/plain": [
       "  0%|          | 0/38 [00:00<?, ?it/s]"
      ]
     },
     "metadata": {},
     "output_type": "display_data"
    },
    {
     "name": "stdout",
     "output_type": "stream",
     "text": [
      "2021-05-02 16:49:09 epoch:  24 train loss: 0.119857 train f1: 0.524006 valid loss: 0.111115 valid f1: 0.289269\n"
     ]
    },
    {
     "data": {
      "application/vnd.jupyter.widget-view+json": {
       "model_id": "",
       "version_major": 2,
       "version_minor": 0
      },
      "text/plain": [
       "  0%|          | 0/336 [00:00<?, ?it/s]"
      ]
     },
     "metadata": {},
     "output_type": "display_data"
    },
    {
     "data": {
      "application/vnd.jupyter.widget-view+json": {
       "model_id": "",
       "version_major": 2,
       "version_minor": 0
      },
      "text/plain": [
       "  0%|          | 0/38 [00:00<?, ?it/s]"
      ]
     },
     "metadata": {},
     "output_type": "display_data"
    },
    {
     "name": "stdout",
     "output_type": "stream",
     "text": [
      "2021-05-02 16:51:30 epoch:  25 train loss: 0.118037 train f1: 0.529922 valid loss: 0.113824 valid f1: 0.268009\n"
     ]
    },
    {
     "data": {
      "application/vnd.jupyter.widget-view+json": {
       "model_id": "",
       "version_major": 2,
       "version_minor": 0
      },
      "text/plain": [
       "  0%|          | 0/336 [00:00<?, ?it/s]"
      ]
     },
     "metadata": {},
     "output_type": "display_data"
    },
    {
     "data": {
      "application/vnd.jupyter.widget-view+json": {
       "model_id": "",
       "version_major": 2,
       "version_minor": 0
      },
      "text/plain": [
       "  0%|          | 0/38 [00:00<?, ?it/s]"
      ]
     },
     "metadata": {},
     "output_type": "display_data"
    },
    {
     "name": "stdout",
     "output_type": "stream",
     "text": [
      "2021-05-02 16:53:51 epoch:  26 train loss: 0.118707 train f1: 0.531236 valid loss: 0.114931 valid f1: 0.245783\n"
     ]
    },
    {
     "data": {
      "application/vnd.jupyter.widget-view+json": {
       "model_id": "",
       "version_major": 2,
       "version_minor": 0
      },
      "text/plain": [
       "  0%|          | 0/336 [00:00<?, ?it/s]"
      ]
     },
     "metadata": {},
     "output_type": "display_data"
    },
    {
     "data": {
      "application/vnd.jupyter.widget-view+json": {
       "model_id": "",
       "version_major": 2,
       "version_minor": 0
      },
      "text/plain": [
       "  0%|          | 0/38 [00:00<?, ?it/s]"
      ]
     },
     "metadata": {},
     "output_type": "display_data"
    },
    {
     "name": "stdout",
     "output_type": "stream",
     "text": [
      "2021-05-02 16:56:12 epoch:  27 train loss: 0.115755 train f1: 0.541771 valid loss: 0.142118 valid f1: 0.156045\n"
     ]
    },
    {
     "data": {
      "application/vnd.jupyter.widget-view+json": {
       "model_id": "",
       "version_major": 2,
       "version_minor": 0
      },
      "text/plain": [
       "  0%|          | 0/336 [00:00<?, ?it/s]"
      ]
     },
     "metadata": {},
     "output_type": "display_data"
    },
    {
     "data": {
      "application/vnd.jupyter.widget-view+json": {
       "model_id": "",
       "version_major": 2,
       "version_minor": 0
      },
      "text/plain": [
       "  0%|          | 0/38 [00:00<?, ?it/s]"
      ]
     },
     "metadata": {},
     "output_type": "display_data"
    },
    {
     "name": "stdout",
     "output_type": "stream",
     "text": [
      "2021-05-02 16:58:33 epoch:  28 train loss: 0.117111 train f1: 0.544170 valid loss: 0.125448 valid f1: 0.192118\n"
     ]
    },
    {
     "data": {
      "application/vnd.jupyter.widget-view+json": {
       "model_id": "",
       "version_major": 2,
       "version_minor": 0
      },
      "text/plain": [
       "  0%|          | 0/336 [00:00<?, ?it/s]"
      ]
     },
     "metadata": {},
     "output_type": "display_data"
    },
    {
     "data": {
      "application/vnd.jupyter.widget-view+json": {
       "model_id": "",
       "version_major": 2,
       "version_minor": 0
      },
      "text/plain": [
       "  0%|          | 0/38 [00:00<?, ?it/s]"
      ]
     },
     "metadata": {},
     "output_type": "display_data"
    },
    {
     "name": "stdout",
     "output_type": "stream",
     "text": [
      "2021-05-02 17:00:54 epoch:  29 train loss: 0.114970 train f1: 0.543309 valid loss: 0.105048 valid f1: 0.283929\n"
     ]
    },
    {
     "data": {
      "application/vnd.jupyter.widget-view+json": {
       "model_id": "",
       "version_major": 2,
       "version_minor": 0
      },
      "text/plain": [
       "  0%|          | 0/336 [00:00<?, ?it/s]"
      ]
     },
     "metadata": {},
     "output_type": "display_data"
    },
    {
     "data": {
      "application/vnd.jupyter.widget-view+json": {
       "model_id": "",
       "version_major": 2,
       "version_minor": 0
      },
      "text/plain": [
       "  0%|          | 0/38 [00:00<?, ?it/s]"
      ]
     },
     "metadata": {},
     "output_type": "display_data"
    },
    {
     "name": "stdout",
     "output_type": "stream",
     "text": [
      "2021-05-02 17:03:15 epoch:  30 train loss: 0.115589 train f1: 0.549723 valid loss: 0.123151 valid f1: 0.216257\n"
     ]
    },
    {
     "data": {
      "application/vnd.jupyter.widget-view+json": {
       "model_id": "2721f1948d7f405dbea55597919150c6",
       "version_major": 2,
       "version_minor": 0
      },
      "text/plain": [
       "  0%|          | 0/336 [00:00<?, ?it/s]"
      ]
     },
     "metadata": {},
     "output_type": "display_data"
    },
    {
     "ename": "KeyboardInterrupt",
     "evalue": "",
     "output_type": "error",
     "traceback": [
      "\u001b[0;31m---------------------------------------------------------------------------\u001b[0m",
      "\u001b[0;31mKeyboardInterrupt\u001b[0m                         Traceback (most recent call last)",
      "\u001b[0;32m<ipython-input-55-ae674417293b>\u001b[0m in \u001b[0;36m<module>\u001b[0;34m\u001b[0m\n\u001b[0;32m----> 1\u001b[0;31m \u001b[0mlrn\u001b[0m\u001b[0;34m.\u001b[0m\u001b[0mlearn\u001b[0m\u001b[0;34m(\u001b[0m\u001b[0;34m)\u001b[0m\u001b[0;34m\u001b[0m\u001b[0;34m\u001b[0m\u001b[0m\n\u001b[0m",
      "\u001b[0;32m~/projects/botkop/lark/nbs/botkop/lark/learner.py\u001b[0m in \u001b[0;36mlearn\u001b[0;34m(self)\u001b[0m\n\u001b[1;32m    107\u001b[0m         \u001b[0;32mwith\u001b[0m \u001b[0mtqdm\u001b[0m\u001b[0;34m(\u001b[0m\u001b[0mrange\u001b[0m\u001b[0;34m(\u001b[0m\u001b[0mself\u001b[0m\u001b[0;34m.\u001b[0m\u001b[0mcfg\u001b[0m\u001b[0;34m.\u001b[0m\u001b[0mn_epochs\u001b[0m\u001b[0;34m)\u001b[0m\u001b[0;34m)\u001b[0m \u001b[0;32mas\u001b[0m \u001b[0mpbar\u001b[0m\u001b[0;34m:\u001b[0m\u001b[0;34m\u001b[0m\u001b[0;34m\u001b[0m\u001b[0m\n\u001b[1;32m    108\u001b[0m             \u001b[0;32mfor\u001b[0m \u001b[0mepoch\u001b[0m \u001b[0;32min\u001b[0m \u001b[0mpbar\u001b[0m\u001b[0;34m:\u001b[0m\u001b[0;34m\u001b[0m\u001b[0;34m\u001b[0m\u001b[0m\n\u001b[0;32m--> 109\u001b[0;31m                 \u001b[0mtrain_loss\u001b[0m\u001b[0;34m,\u001b[0m \u001b[0mtrain_score\u001b[0m \u001b[0;34m=\u001b[0m \u001b[0mself\u001b[0m\u001b[0;34m.\u001b[0m\u001b[0mtv_loop\u001b[0m\u001b[0;34m(\u001b[0m\u001b[0mself\u001b[0m\u001b[0;34m.\u001b[0m\u001b[0mtdl\u001b[0m\u001b[0;34m,\u001b[0m \u001b[0;34m'train'\u001b[0m\u001b[0;34m)\u001b[0m\u001b[0;34m\u001b[0m\u001b[0;34m\u001b[0m\u001b[0m\n\u001b[0m\u001b[1;32m    110\u001b[0m                 \u001b[0mvalid_loss\u001b[0m\u001b[0;34m,\u001b[0m \u001b[0mvalid_score\u001b[0m \u001b[0;34m=\u001b[0m \u001b[0mself\u001b[0m\u001b[0;34m.\u001b[0m\u001b[0mtv_loop\u001b[0m\u001b[0;34m(\u001b[0m\u001b[0mself\u001b[0m\u001b[0;34m.\u001b[0m\u001b[0mvdl\u001b[0m\u001b[0;34m,\u001b[0m \u001b[0;34m'valid'\u001b[0m\u001b[0;34m)\u001b[0m\u001b[0;34m\u001b[0m\u001b[0;34m\u001b[0m\u001b[0m\n\u001b[1;32m    111\u001b[0m                 \u001b[0mmsg\u001b[0m \u001b[0;34m=\u001b[0m \u001b[0;34mf\"{datetime.now().strftime('%Y-%m-%d %H:%M:%S')} \"\u001b[0m\u001b[0;31m \u001b[0m\u001b[0;31m\\\u001b[0m\u001b[0;34m\u001b[0m\u001b[0;34m\u001b[0m\u001b[0m\n",
      "\u001b[0;32m~/projects/botkop/lark/nbs/botkop/lark/learner.py\u001b[0m in \u001b[0;36mtv_loop\u001b[0;34m(self, dl, mode, f1_threshold)\u001b[0m\n\u001b[1;32m     92\u001b[0m         \u001b[0;32mif\u001b[0m \u001b[0mmode\u001b[0m \u001b[0;34m==\u001b[0m \u001b[0;34m'train'\u001b[0m\u001b[0;34m:\u001b[0m\u001b[0;34m\u001b[0m\u001b[0;34m\u001b[0m\u001b[0m\n\u001b[1;32m     93\u001b[0m             \u001b[0mself\u001b[0m\u001b[0;34m.\u001b[0m\u001b[0mmodel\u001b[0m\u001b[0;34m.\u001b[0m\u001b[0mtrain\u001b[0m\u001b[0;34m(\u001b[0m\u001b[0;34m)\u001b[0m\u001b[0;34m\u001b[0m\u001b[0;34m\u001b[0m\u001b[0m\n\u001b[0;32m---> 94\u001b[0;31m             \u001b[0mepoch_loss\u001b[0m\u001b[0;34m,\u001b[0m \u001b[0mepoch_score\u001b[0m \u001b[0;34m=\u001b[0m \u001b[0mself\u001b[0m\u001b[0;34m.\u001b[0m\u001b[0mepoch_loop\u001b[0m\u001b[0;34m(\u001b[0m\u001b[0mdl\u001b[0m\u001b[0;34m,\u001b[0m \u001b[0mmode\u001b[0m\u001b[0;34m,\u001b[0m \u001b[0mf1_threshold\u001b[0m\u001b[0;34m)\u001b[0m\u001b[0;34m\u001b[0m\u001b[0;34m\u001b[0m\u001b[0m\n\u001b[0m\u001b[1;32m     95\u001b[0m         \u001b[0;32melse\u001b[0m\u001b[0;34m:\u001b[0m\u001b[0;34m\u001b[0m\u001b[0;34m\u001b[0m\u001b[0m\n\u001b[1;32m     96\u001b[0m             \u001b[0mself\u001b[0m\u001b[0;34m.\u001b[0m\u001b[0mmodel\u001b[0m\u001b[0;34m.\u001b[0m\u001b[0meval\u001b[0m\u001b[0;34m(\u001b[0m\u001b[0;34m)\u001b[0m\u001b[0;34m\u001b[0m\u001b[0;34m\u001b[0m\u001b[0m\n",
      "\u001b[0;32m~/projects/botkop/lark/nbs/botkop/lark/learner.py\u001b[0m in \u001b[0;36mepoch_loop\u001b[0;34m(self, dl, mode, f1_threshold)\u001b[0m\n\u001b[1;32m     82\u001b[0m                     \u001b[0mself\u001b[0m\u001b[0;34m.\u001b[0m\u001b[0moptimizer\u001b[0m\u001b[0;34m.\u001b[0m\u001b[0mzero_grad\u001b[0m\u001b[0;34m(\u001b[0m\u001b[0;34m)\u001b[0m\u001b[0;34m\u001b[0m\u001b[0;34m\u001b[0m\u001b[0m\n\u001b[1;32m     83\u001b[0m                     \u001b[0mloss\u001b[0m\u001b[0;34m.\u001b[0m\u001b[0mbackward\u001b[0m\u001b[0;34m(\u001b[0m\u001b[0;34m)\u001b[0m\u001b[0;34m\u001b[0m\u001b[0;34m\u001b[0m\u001b[0m\n\u001b[0;32m---> 84\u001b[0;31m                     \u001b[0mself\u001b[0m\u001b[0;34m.\u001b[0m\u001b[0moptimizer\u001b[0m\u001b[0;34m.\u001b[0m\u001b[0mstep\u001b[0m\u001b[0;34m(\u001b[0m\u001b[0;34m)\u001b[0m\u001b[0;34m\u001b[0m\u001b[0;34m\u001b[0m\u001b[0m\n\u001b[0m\u001b[1;32m     85\u001b[0m                     \u001b[0mself\u001b[0m\u001b[0;34m.\u001b[0m\u001b[0mscheduler\u001b[0m\u001b[0;34m.\u001b[0m\u001b[0mstep\u001b[0m\u001b[0;34m(\u001b[0m\u001b[0;34m)\u001b[0m\u001b[0;34m\u001b[0m\u001b[0;34m\u001b[0m\u001b[0m\n\u001b[1;32m     86\u001b[0m \u001b[0;34m\u001b[0m\u001b[0m\n",
      "\u001b[0;32m~/apps/anaconda3/envs/lark/lib/python3.8/site-packages/torch/optim/lr_scheduler.py\u001b[0m in \u001b[0;36mwrapper\u001b[0;34m(*args, **kwargs)\u001b[0m\n\u001b[1;32m     63\u001b[0m                 \u001b[0minstance\u001b[0m\u001b[0;34m.\u001b[0m\u001b[0m_step_count\u001b[0m \u001b[0;34m+=\u001b[0m \u001b[0;36m1\u001b[0m\u001b[0;34m\u001b[0m\u001b[0;34m\u001b[0m\u001b[0m\n\u001b[1;32m     64\u001b[0m                 \u001b[0mwrapped\u001b[0m \u001b[0;34m=\u001b[0m \u001b[0mfunc\u001b[0m\u001b[0;34m.\u001b[0m\u001b[0m__get__\u001b[0m\u001b[0;34m(\u001b[0m\u001b[0minstance\u001b[0m\u001b[0;34m,\u001b[0m \u001b[0mcls\u001b[0m\u001b[0;34m)\u001b[0m\u001b[0;34m\u001b[0m\u001b[0;34m\u001b[0m\u001b[0m\n\u001b[0;32m---> 65\u001b[0;31m                 \u001b[0;32mreturn\u001b[0m \u001b[0mwrapped\u001b[0m\u001b[0;34m(\u001b[0m\u001b[0;34m*\u001b[0m\u001b[0margs\u001b[0m\u001b[0;34m,\u001b[0m \u001b[0;34m**\u001b[0m\u001b[0mkwargs\u001b[0m\u001b[0;34m)\u001b[0m\u001b[0;34m\u001b[0m\u001b[0;34m\u001b[0m\u001b[0m\n\u001b[0m\u001b[1;32m     66\u001b[0m \u001b[0;34m\u001b[0m\u001b[0m\n\u001b[1;32m     67\u001b[0m             \u001b[0;31m# Note that the returned function here is no longer a bound method,\u001b[0m\u001b[0;34m\u001b[0m\u001b[0;34m\u001b[0m\u001b[0;34m\u001b[0m\u001b[0m\n",
      "\u001b[0;32m~/apps/anaconda3/envs/lark/lib/python3.8/site-packages/torch/optim/optimizer.py\u001b[0m in \u001b[0;36mwrapper\u001b[0;34m(*args, **kwargs)\u001b[0m\n\u001b[1;32m     87\u001b[0m                 \u001b[0mprofile_name\u001b[0m \u001b[0;34m=\u001b[0m \u001b[0;34m\"Optimizer.step#{}.step\"\u001b[0m\u001b[0;34m.\u001b[0m\u001b[0mformat\u001b[0m\u001b[0;34m(\u001b[0m\u001b[0mobj\u001b[0m\u001b[0;34m.\u001b[0m\u001b[0m__class__\u001b[0m\u001b[0;34m.\u001b[0m\u001b[0m__name__\u001b[0m\u001b[0;34m)\u001b[0m\u001b[0;34m\u001b[0m\u001b[0;34m\u001b[0m\u001b[0m\n\u001b[1;32m     88\u001b[0m                 \u001b[0;32mwith\u001b[0m \u001b[0mtorch\u001b[0m\u001b[0;34m.\u001b[0m\u001b[0mautograd\u001b[0m\u001b[0;34m.\u001b[0m\u001b[0mprofiler\u001b[0m\u001b[0;34m.\u001b[0m\u001b[0mrecord_function\u001b[0m\u001b[0;34m(\u001b[0m\u001b[0mprofile_name\u001b[0m\u001b[0;34m)\u001b[0m\u001b[0;34m:\u001b[0m\u001b[0;34m\u001b[0m\u001b[0;34m\u001b[0m\u001b[0m\n\u001b[0;32m---> 89\u001b[0;31m                     \u001b[0;32mreturn\u001b[0m \u001b[0mfunc\u001b[0m\u001b[0;34m(\u001b[0m\u001b[0;34m*\u001b[0m\u001b[0margs\u001b[0m\u001b[0;34m,\u001b[0m \u001b[0;34m**\u001b[0m\u001b[0mkwargs\u001b[0m\u001b[0;34m)\u001b[0m\u001b[0;34m\u001b[0m\u001b[0;34m\u001b[0m\u001b[0m\n\u001b[0m\u001b[1;32m     90\u001b[0m             \u001b[0;32mreturn\u001b[0m \u001b[0mwrapper\u001b[0m\u001b[0;34m\u001b[0m\u001b[0;34m\u001b[0m\u001b[0m\n\u001b[1;32m     91\u001b[0m \u001b[0;34m\u001b[0m\u001b[0m\n",
      "\u001b[0;32m~/apps/anaconda3/envs/lark/lib/python3.8/site-packages/torch/autograd/grad_mode.py\u001b[0m in \u001b[0;36mdecorate_context\u001b[0;34m(*args, **kwargs)\u001b[0m\n\u001b[1;32m     25\u001b[0m         \u001b[0;32mdef\u001b[0m \u001b[0mdecorate_context\u001b[0m\u001b[0;34m(\u001b[0m\u001b[0;34m*\u001b[0m\u001b[0margs\u001b[0m\u001b[0;34m,\u001b[0m \u001b[0;34m**\u001b[0m\u001b[0mkwargs\u001b[0m\u001b[0;34m)\u001b[0m\u001b[0;34m:\u001b[0m\u001b[0;34m\u001b[0m\u001b[0;34m\u001b[0m\u001b[0m\n\u001b[1;32m     26\u001b[0m             \u001b[0;32mwith\u001b[0m \u001b[0mself\u001b[0m\u001b[0;34m.\u001b[0m\u001b[0m__class__\u001b[0m\u001b[0;34m(\u001b[0m\u001b[0;34m)\u001b[0m\u001b[0;34m:\u001b[0m\u001b[0;34m\u001b[0m\u001b[0;34m\u001b[0m\u001b[0m\n\u001b[0;32m---> 27\u001b[0;31m                 \u001b[0;32mreturn\u001b[0m \u001b[0mfunc\u001b[0m\u001b[0;34m(\u001b[0m\u001b[0;34m*\u001b[0m\u001b[0margs\u001b[0m\u001b[0;34m,\u001b[0m \u001b[0;34m**\u001b[0m\u001b[0mkwargs\u001b[0m\u001b[0;34m)\u001b[0m\u001b[0;34m\u001b[0m\u001b[0;34m\u001b[0m\u001b[0m\n\u001b[0m\u001b[1;32m     28\u001b[0m         \u001b[0;32mreturn\u001b[0m \u001b[0mcast\u001b[0m\u001b[0;34m(\u001b[0m\u001b[0mF\u001b[0m\u001b[0;34m,\u001b[0m \u001b[0mdecorate_context\u001b[0m\u001b[0;34m)\u001b[0m\u001b[0;34m\u001b[0m\u001b[0;34m\u001b[0m\u001b[0m\n\u001b[1;32m     29\u001b[0m \u001b[0;34m\u001b[0m\u001b[0m\n",
      "\u001b[0;32m~/apps/anaconda3/envs/lark/lib/python3.8/site-packages/torch/optim/adam.py\u001b[0m in \u001b[0;36mstep\u001b[0;34m(self, closure)\u001b[0m\n\u001b[1;32m    106\u001b[0m \u001b[0;34m\u001b[0m\u001b[0m\n\u001b[1;32m    107\u001b[0m             \u001b[0mbeta1\u001b[0m\u001b[0;34m,\u001b[0m \u001b[0mbeta2\u001b[0m \u001b[0;34m=\u001b[0m \u001b[0mgroup\u001b[0m\u001b[0;34m[\u001b[0m\u001b[0;34m'betas'\u001b[0m\u001b[0;34m]\u001b[0m\u001b[0;34m\u001b[0m\u001b[0;34m\u001b[0m\u001b[0m\n\u001b[0;32m--> 108\u001b[0;31m             F.adam(params_with_grad,\n\u001b[0m\u001b[1;32m    109\u001b[0m                    \u001b[0mgrads\u001b[0m\u001b[0;34m,\u001b[0m\u001b[0;34m\u001b[0m\u001b[0;34m\u001b[0m\u001b[0m\n\u001b[1;32m    110\u001b[0m                    \u001b[0mexp_avgs\u001b[0m\u001b[0;34m,\u001b[0m\u001b[0;34m\u001b[0m\u001b[0;34m\u001b[0m\u001b[0m\n",
      "\u001b[0;32m~/apps/anaconda3/envs/lark/lib/python3.8/site-packages/torch/optim/_functional.py\u001b[0m in \u001b[0;36madam\u001b[0;34m(params, grads, exp_avgs, exp_avg_sqs, max_exp_avg_sqs, state_steps, amsgrad, beta1, beta2, lr, weight_decay, eps)\u001b[0m\n\u001b[1;32m     94\u001b[0m         \u001b[0mstep_size\u001b[0m \u001b[0;34m=\u001b[0m \u001b[0mlr\u001b[0m \u001b[0;34m/\u001b[0m \u001b[0mbias_correction1\u001b[0m\u001b[0;34m\u001b[0m\u001b[0;34m\u001b[0m\u001b[0m\n\u001b[1;32m     95\u001b[0m \u001b[0;34m\u001b[0m\u001b[0m\n\u001b[0;32m---> 96\u001b[0;31m         \u001b[0mparam\u001b[0m\u001b[0;34m.\u001b[0m\u001b[0maddcdiv_\u001b[0m\u001b[0;34m(\u001b[0m\u001b[0mexp_avg\u001b[0m\u001b[0;34m,\u001b[0m \u001b[0mdenom\u001b[0m\u001b[0;34m,\u001b[0m \u001b[0mvalue\u001b[0m\u001b[0;34m=\u001b[0m\u001b[0;34m-\u001b[0m\u001b[0mstep_size\u001b[0m\u001b[0;34m)\u001b[0m\u001b[0;34m\u001b[0m\u001b[0;34m\u001b[0m\u001b[0m\n\u001b[0m\u001b[1;32m     97\u001b[0m \u001b[0;34m\u001b[0m\u001b[0m\n\u001b[1;32m     98\u001b[0m \u001b[0;34m\u001b[0m\u001b[0m\n",
      "\u001b[0;31mKeyboardInterrupt\u001b[0m: "
     ]
    }
   ],
   "source": [
    "lrn.learn()"
   ]
  },
  {
   "cell_type": "code",
   "execution_count": null,
   "id": "e8ba5da1-eac8-4ef2-ade4-1917d891697a",
   "metadata": {},
   "outputs": [],
   "source": []
  }
 ],
 "metadata": {
  "kernelspec": {
   "display_name": "lark",
   "language": "python",
   "name": "lark"
  },
  "language_info": {
   "codemirror_mode": {
    "name": "ipython",
    "version": 3
   },
   "file_extension": ".py",
   "mimetype": "text/x-python",
   "name": "python",
   "nbconvert_exporter": "python",
   "pygments_lexer": "ipython3",
   "version": "3.8.8"
  }
 },
 "nbformat": 4,
 "nbformat_minor": 5
}
