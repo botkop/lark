{
 "cells": [
  {
   "cell_type": "code",
   "execution_count": 1,
   "id": "c3de8123-179b-4832-b6ad-cb56bd4a7a95",
   "metadata": {},
   "outputs": [
    {
     "name": "stdout",
     "output_type": "stream",
     "text": [
      "1.8.1\n",
      "0.8.0a0+e4e171a\n"
     ]
    }
   ],
   "source": [
    "import torch\n",
    "import torchaudio as ta\n",
    "import torchaudio.functional as taf\n",
    "import torchaudio.transforms as tat\n",
    "from torchvision import transforms\n",
    "\n",
    "print(torch.__version__)        \n",
    "print(ta.__version__)\n",
    "\n",
    "import matplotlib\n",
    "import matplotlib.pyplot as plt\n",
    "from IPython.display import Audio, display\n",
    "\n",
    "import pandas as pd\n",
    "import os\n",
    "import pprint\n",
    "\n",
    "from typing import *\n",
    "import itertools\n",
    "from collections import Counter\n",
    "\n",
    "import numpy as np\n",
    "from datetime import datetime"
   ]
  },
  {
   "cell_type": "code",
   "execution_count": 24,
   "id": "24a5a942-66b6-475e-8548-25bc91752a48",
   "metadata": {},
   "outputs": [],
   "source": [
    "threshold = 0.5\n",
    "checkpoint = 'resnest50-full-training-20210503-174656-latest.pt'"
   ]
  },
  {
   "cell_type": "code",
   "execution_count": 25,
   "id": "49d0607b-5390-4a18-b99d-0a67b9752ca8",
   "metadata": {},
   "outputs": [],
   "source": [
    "if torch.cuda.is_available():\n",
    "    device = 'cuda'\n",
    "else:\n",
    "    device = 'cpu'"
   ]
  },
  {
   "cell_type": "code",
   "execution_count": 26,
   "id": "1a30337a-e02f-4be2-8cf6-cd243e8334a7",
   "metadata": {},
   "outputs": [
    {
     "data": {
      "text/plain": [
       "397"
      ]
     },
     "execution_count": 26,
     "metadata": {},
     "output_type": "execute_result"
    }
   ],
   "source": [
    "labels = ['acafly', 'acowoo', 'aldfly', 'ameavo', 'amecro', 'amegfi', 'amekes', 'amepip', 'amered', 'amerob', 'amewig', 'amtspa', 'andsol1',                                                                                                                                                       \n",
    " 'annhum', 'astfly', 'azaspi1', 'babwar', 'baleag', 'balori', 'banana', 'banswa', 'banwre1', 'barant1', 'barswa', 'batpig1', 'bawswa1',                                                                                                                                                   \n",
    " 'bawwar', 'baywre1', 'bbwduc', 'bcnher', 'belkin1', 'belvir', 'bewwre', 'bkbmag1', 'bkbplo', 'bkbwar', 'bkcchi', 'bkhgro', 'bkmtou1',                                                                                                                                                    \n",
    " 'bknsti', 'blbgra1', 'blbthr1', 'blcjay1', 'blctan1', 'blhpar1', 'blkpho', 'blsspa1', 'blugrb1', 'blujay', 'bncfly', 'bnhcow',                                                                                                                                                           \n",
    " 'bobfly1', 'bongul', 'botgra', 'brbmot1', 'brbsol1', 'brcvir1', 'brebla', 'brncre', 'brnjay', 'brnthr', 'brratt1', 'brwhaw', 'brwpar1',                                                                                                                                                  \n",
    " 'btbwar', 'btnwar', 'btywar', 'bucmot2', 'buggna', 'bugtan', 'buhvir', 'bulori', 'burwar1', 'bushti', 'butsal1', 'buwtea', 'cacgoo1',                                                                                                                                                    \n",
    " 'cacwre', 'calqua', 'caltow', 'cangoo', 'canwar', 'carchi', 'carwre', 'casfin', 'caskin', 'caster1', 'casvir', 'categr', 'ccbfin',                                                                                                                                                       \n",
    " 'cedwax', 'chbant1', 'chbchi', 'chbwre1', 'chcant2', 'chispa', 'chswar', 'cinfly2', 'clanut', 'clcrob', 'cliswa', 'cobtan1', 'cocwoo1',                                                                                                                                                  \n",
    " 'cogdov', 'colcha1', 'coltro1', 'comgol', 'comgra', 'comloo', 'commer', 'compau', 'compot1', 'comrav', 'comyel', 'coohaw', 'cotfly1',                                                                                                                                                    \n",
    " 'cowscj1', 'cregua1', 'creoro1', 'crfpar', 'cubthr', 'daejun', 'dowwoo', 'ducfly', 'dusfly', 'easblu', 'easkin', 'easmea', 'easpho',                                                                                                                                                     \n",
    " 'eastow', 'eawpew', 'eletro', 'eucdov', 'eursta', 'fepowl', 'fiespa', 'flrtan1', 'foxspa', 'gadwal', 'gamqua', 'gartro1', 'gbbgul',                                                                                                                                                      \n",
    " 'gbwwre1', 'gcrwar', 'gilwoo', 'gnttow', 'gnwtea', 'gocfly1', 'gockin', 'gocspa', 'goftyr1', 'gohque1', 'goowoo1', 'grasal1',                                                                                                                                                            \n",
    " 'grbani', 'grbher3', 'grcfly', 'greegr', 'grekis', 'grepew', 'grethr1', 'gretin1', 'greyel', 'grhcha1', 'grhowl', 'grnher', 'grnjay',                                                                                                                                                    \n",
    " 'grtgra', 'grycat', 'gryhaw2', 'gwfgoo', 'haiwoo', 'heptan', 'hergul', 'herthr', 'herwar', 'higmot1', 'hofwoo1', 'houfin', 'houspa',                                                                                                                                                     \n",
    " 'houwre', 'hutvir', 'incdov', 'indbun', 'kebtou1', 'killde', 'labwoo', 'larspa', 'laufal1', 'laugul', 'lazbun', 'leafly', 'leasan',                                                                                                                                                      \n",
    " 'lesgol', 'lesgre1', 'lesvio1', 'linspa', 'linwoo1', 'littin1', 'lobdow', 'lobgna5', 'logshr', 'lotduc', 'lotman1', 'lucwar', 'macwar',                                                                                                                                                  \n",
    " 'magwar', 'mallar3', 'marwre', 'mastro1', 'meapar', 'melbla1', 'monoro1', 'mouchi', 'moudov', 'mouela1', 'mouqua', 'mouwar', 'mutswa',                                                                                                                                                   \n",
    " 'naswar', 'norcar', 'norfli', 'normoc', 'norpar', 'norsho', 'norwat', 'nrwswa', 'nutwoo', 'oaktit', 'obnthr1', 'ocbfly1', 'oliwoo1',                                                                                                                                                     \n",
    " 'olsfly', 'orbeup1', 'orbspa1', 'orcpar', 'orcwar', 'orfpar', 'osprey', 'ovenbi1', 'pabspi1', 'paltan1', 'palwar', 'pasfly', 'pavpig2',                                                                                                                                                  \n",
    " 'phivir', 'pibgre', 'pilwoo', 'pinsis', 'pirfly1', 'plawre1', 'plaxen1', 'plsvir', 'plupig2', 'prowar', 'purfin', 'purgal2', 'putfru1',                                                                                                                                                  \n",
    " 'pygnut', 'rawwre1', 'rcatan1', 'rebnut', 'rebsap', 'rebwoo', 'redcro', 'reevir1', 'rehbar1', 'relpar', 'reshaw', 'rethaw', 'rewbla',                                                                                                                                                    \n",
    " 'ribgul', 'rinkin1', 'roahaw', 'robgro', 'rocpig', 'rotbec', 'royter1', 'rthhum', 'rtlhum', 'ruboro1', 'rubpep1', 'rubrob', 'rubwre1',                                                                                                                                                   \n",
    " 'ruckin', 'rucspa1', 'rucwar', 'rucwar1', 'rudpig', 'rudtur', 'rufhum', 'rugdov', 'rumfly1', 'runwre1', 'rutjac1', 'saffin', 'sancra',                                                                                                                                                   \n",
    " 'sander', 'savspa', 'saypho', 'scamac1', 'scatan', 'scbwre1', 'scptyr1', 'scrtan1', 'semplo', 'shicow', 'sibtan2', 'sinwre1', 'sltred',                                                                                                                                                  \n",
    " 'smbani', 'snogoo', 'sobtyr1', 'socfly1', 'solsan', 'sonspa', 'soulap1', 'sposan', 'spotow', 'spvear1', 'squcuc1', 'stbori', 'stejay',                                                                                                                                                   \n",
    " 'sthant1', 'sthwoo1', 'strcuc1', 'strfly1', 'strsal1', 'stvhum2', 'subfly', 'sumtan', 'swaspa', 'swathr', 'tenwar', 'thbeup1', 'thbkin',                                                                                                                                                 \n",
    " 'thswar1', 'towsol', 'treswa', 'trogna1', 'trokin', 'tromoc', 'tropar', 'tropew1', 'tuftit', 'tunswa', 'veery', 'verdin', 'vigswa',                                                                                                                                                      \n",
    " 'warvir', 'wbwwre1', 'webwoo1', 'wegspa1', 'wesant1', 'wesblu', 'weskin', 'wesmea', 'westan', 'wewpew', 'whbman1', 'whbnut', 'whcpar',                                                                                                                                                   \n",
    " 'whcsee1', 'whcspa', 'whevir', 'whfpar1', 'whimbr', 'whiwre1', 'whtdov', 'whtspa', 'whwbec1', 'whwdov', 'wilfly', 'willet1', 'wilsni1',                                                                                                                                                  \n",
    " 'wiltur', 'wlswar', 'wooduc', 'woothr', 'wrenti', 'y00475', 'yebcha', 'yebela1', 'yebfly', 'yebori1', 'yebsap', 'yebsee1', 'yefgra1',                                                                                                                                                    \n",
    " 'yegvir', 'yehbla', 'yehcar1', 'yelgro', 'yelwar', 'yeofly1', 'yerwar', 'yeteup1', 'yetvir'] \n",
    "\n",
    "len(labels)"
   ]
  },
  {
   "cell_type": "code",
   "execution_count": 27,
   "id": "5e2944e0-58a0-45c5-b25f-83d844f0f938",
   "metadata": {},
   "outputs": [],
   "source": [
    "class MixedSig2Spec(torch.nn.Module):\n",
    "    def __init__(self):\n",
    "        super().__init__()\n",
    "\n",
    "        window_lengths = [800, 1600, 3200]\n",
    "        hop_lengths = [320, 800, 1600]\n",
    "\n",
    "        self.melspecs = [tat.MelSpectrogram(\n",
    "            sample_rate=32000,\n",
    "            n_fft=window_lengths[i],\n",
    "            win_length=window_lengths[i],\n",
    "            hop_length=hop_lengths[i],\n",
    "            f_min=150,\n",
    "            f_max=15000,\n",
    "            pad=0,\n",
    "            n_mels=128,\n",
    "            power=2.0,\n",
    "            normalized=False,\n",
    "        ).to(device) for i in range(3)]\n",
    "        self.p2db = tat.AmplitudeToDB(stype='power', top_db=80)\n",
    "        self.tf_resize = transforms.Resize((128, 250))\n",
    "        self.tf_norm = transforms.Normalize(mean=[0.485, 0.456, 0.406], std=[0.229, 0.224, 0.225])\n",
    "\n",
    "    def forward(self, sig: torch.Tensor, *args, **kwargs) -> torch.Tensor:\n",
    "        # note: assuming batch input\n",
    "        with torch.no_grad():\n",
    "            imgs = [self.tf_resize(self.p2db(ms(sig))) for ms in self.melspecs]  # 3 * [bs x 1 x H x W]\n",
    "            spec = torch.cat([x.transpose(0, 1) for x in imgs]).transpose(0, 1)\n",
    "            spec = self.tf_norm(spec)\n",
    "            return spec\n"
   ]
  },
  {
   "cell_type": "code",
   "execution_count": 28,
   "id": "1011b62d-75a3-4780-b77a-2ddb91d32ad8",
   "metadata": {},
   "outputs": [],
   "source": [
    "# prep = MixedSig2Spec()\n",
    "# main_model = torch.hub.load('zhanghang1989/ResNeSt', 'resnest50', pretrained=True)\n",
    "# posp = torch.nn.Linear(in_features=2048, out_features=len(labels), bias=True)\n",
    "# main_model.fc = posp\n",
    "# model = torch.nn.Sequential(prep, main_model).to(device)\n",
    "# model = model.eval()"
   ]
  },
  {
   "cell_type": "code",
   "execution_count": 29,
   "id": "620efcbb-1240-4ae7-81b1-5ef60f06c9d9",
   "metadata": {},
   "outputs": [
    {
     "name": "stderr",
     "output_type": "stream",
     "text": [
      "Using cache found in /home/koen/.cache/torch/hub/zhanghang1989_ResNeSt_master\n"
     ]
    }
   ],
   "source": [
    "prep = MixedSig2Spec()\n",
    "# main_model = torch.hub.load('../input/zhanghang1989-resnest-master/zhanghang1989_ResNeSt_master', 'resnest50', pretrained=False, source='local')\n",
    "main_model = torch.hub.load('zhanghang1989/ResNeSt', 'resnest50', pretrained=False)\n",
    "posp = torch.nn.Linear(in_features=2048, out_features=len(labels), bias=True)\n",
    "main_model.fc = posp\n",
    "model = torch.nn.Sequential(prep, main_model).to(device)\n",
    "cp = torch.load(f\"checkpoints/{checkpoint}\", map_location=torch.device(device))\n",
    "model.load_state_dict(cp['model_state_dict'])\n",
    "model = model.eval()"
   ]
  },
  {
   "cell_type": "code",
   "execution_count": 30,
   "id": "cc664fef-bc8e-43ab-ad10-f3ac42f27522",
   "metadata": {},
   "outputs": [
    {
     "name": "stdout",
     "output_type": "stream",
     "text": [
      "20 files in test set.\n"
     ]
    }
   ],
   "source": [
    "def list_files(path):\n",
    "    return [os.path.join(path, f) for f in os.listdir(path) if f.rsplit('.', 1)[-1] in ['ogg']]\n",
    "\n",
    "test_audio = list_files('../input/birdclef-2021/test_soundscapes')\n",
    "if len(test_audio) == 0:\n",
    "    test_audio = list_files('../input/birdclef-2021/train_soundscapes')\n",
    "    \n",
    "print('{} files in test set.'.format(len(test_audio)))"
   ]
  },
  {
   "cell_type": "code",
   "execution_count": 31,
   "id": "75fb6de7-2639-4431-b982-33f88eaeac58",
   "metadata": {},
   "outputs": [],
   "source": [
    "def process_preds(ps, path, threshold=0.5):\n",
    "    fileinfo = path.split(os.sep)[-1].rsplit('.', 1)[0].split('_')\n",
    "    prefix = fileinfo[0] + '_'  + fileinfo[1] + '_' \n",
    "    result = {'row_id': [], 'birds': []}\n",
    "    for row, r in enumerate(ps):\n",
    "        birds = \"\"\n",
    "        row_id = prefix + str((row + 1) * 5)  \n",
    "        for col, c in enumerate(r):\n",
    "            if c >= threshold:\n",
    "                b = labels[col]\n",
    "                birds += f\"{b} \"\n",
    "        if birds == \"\":\n",
    "            birds = \"nocall\"\n",
    "        result['row_id'].append(row_id)\n",
    "        result['birds'].append(birds)\n",
    "    return pd.DataFrame(result)"
   ]
  },
  {
   "cell_type": "code",
   "execution_count": 32,
   "id": "203adad1-4a6b-42f8-b77c-45ce86139e0f",
   "metadata": {},
   "outputs": [
    {
     "name": "stdout",
     "output_type": "stream",
     "text": [
      "processing ../input/birdclef-2021/train_soundscapes/54955_SSW_20170617.ogg\n",
      "processing ../input/birdclef-2021/train_soundscapes/7019_COR_20190904.ogg\n",
      "processing ../input/birdclef-2021/train_soundscapes/57610_COR_20190904.ogg\n",
      "processing ../input/birdclef-2021/train_soundscapes/21767_COR_20190904.ogg\n",
      "processing ../input/birdclef-2021/train_soundscapes/26746_COR_20191004.ogg\n",
      "processing ../input/birdclef-2021/train_soundscapes/18003_COR_20190904.ogg\n",
      "processing ../input/birdclef-2021/train_soundscapes/26709_SSW_20170701.ogg\n",
      "processing ../input/birdclef-2021/train_soundscapes/11254_COR_20190904.ogg\n",
      "processing ../input/birdclef-2021/train_soundscapes/2782_SSW_20170701.ogg\n",
      "processing ../input/birdclef-2021/train_soundscapes/20152_SSW_20170805.ogg\n",
      "processing ../input/birdclef-2021/train_soundscapes/7954_COR_20190923.ogg\n",
      "processing ../input/birdclef-2021/train_soundscapes/10534_SSW_20170429.ogg\n",
      "processing ../input/birdclef-2021/train_soundscapes/31928_COR_20191004.ogg\n",
      "processing ../input/birdclef-2021/train_soundscapes/42907_SSW_20170708.ogg\n",
      "processing ../input/birdclef-2021/train_soundscapes/28933_SSW_20170408.ogg\n",
      "processing ../input/birdclef-2021/train_soundscapes/7843_SSW_20170325.ogg\n",
      "processing ../input/birdclef-2021/train_soundscapes/51010_SSW_20170513.ogg\n",
      "processing ../input/birdclef-2021/train_soundscapes/44957_COR_20190923.ogg\n",
      "processing ../input/birdclef-2021/train_soundscapes/50878_COR_20191004.ogg\n",
      "processing ../input/birdclef-2021/train_soundscapes/14473_SSW_20170701.ogg\n"
     ]
    }
   ],
   "source": [
    "df_result = pd.DataFrame()\n",
    "\n",
    "with torch.no_grad():\n",
    "    for path in test_audio:\n",
    "        print(f\"processing {path}\")\n",
    "        sig, sr = ta.load(filepath=path)\n",
    "        sig = sig.to(device).reshape(-1, 1, 5*32000)\n",
    "        p = model(sig).cpu().numpy()\n",
    "        del sig\n",
    "        df = process_preds(p, path, threshold)\n",
    "        df_result = df_result.append(df)"
   ]
  },
  {
   "cell_type": "code",
   "execution_count": 33,
   "id": "cafd7221-ebb7-404f-b916-ab26f82da1a0",
   "metadata": {},
   "outputs": [
    {
     "data": {
      "text/html": [
       "<div>\n",
       "<style scoped>\n",
       "    .dataframe tbody tr th:only-of-type {\n",
       "        vertical-align: middle;\n",
       "    }\n",
       "\n",
       "    .dataframe tbody tr th {\n",
       "        vertical-align: top;\n",
       "    }\n",
       "\n",
       "    .dataframe thead th {\n",
       "        text-align: right;\n",
       "    }\n",
       "</style>\n",
       "<table border=\"1\" class=\"dataframe\">\n",
       "  <thead>\n",
       "    <tr style=\"text-align: right;\">\n",
       "      <th></th>\n",
       "      <th>row_id</th>\n",
       "      <th>birds</th>\n",
       "    </tr>\n",
       "  </thead>\n",
       "  <tbody>\n",
       "    <tr>\n",
       "      <th>0</th>\n",
       "      <td>54955_SSW_5</td>\n",
       "      <td>nocall</td>\n",
       "    </tr>\n",
       "    <tr>\n",
       "      <th>1</th>\n",
       "      <td>54955_SSW_10</td>\n",
       "      <td>nocall</td>\n",
       "    </tr>\n",
       "    <tr>\n",
       "      <th>2</th>\n",
       "      <td>54955_SSW_15</td>\n",
       "      <td>nocall</td>\n",
       "    </tr>\n",
       "    <tr>\n",
       "      <th>3</th>\n",
       "      <td>54955_SSW_20</td>\n",
       "      <td>nocall</td>\n",
       "    </tr>\n",
       "    <tr>\n",
       "      <th>4</th>\n",
       "      <td>54955_SSW_25</td>\n",
       "      <td>nocall</td>\n",
       "    </tr>\n",
       "    <tr>\n",
       "      <th>...</th>\n",
       "      <td>...</td>\n",
       "      <td>...</td>\n",
       "    </tr>\n",
       "    <tr>\n",
       "      <th>115</th>\n",
       "      <td>14473_SSW_580</td>\n",
       "      <td>nocall</td>\n",
       "    </tr>\n",
       "    <tr>\n",
       "      <th>116</th>\n",
       "      <td>14473_SSW_585</td>\n",
       "      <td>nocall</td>\n",
       "    </tr>\n",
       "    <tr>\n",
       "      <th>117</th>\n",
       "      <td>14473_SSW_590</td>\n",
       "      <td>nocall</td>\n",
       "    </tr>\n",
       "    <tr>\n",
       "      <th>118</th>\n",
       "      <td>14473_SSW_595</td>\n",
       "      <td>nocall</td>\n",
       "    </tr>\n",
       "    <tr>\n",
       "      <th>119</th>\n",
       "      <td>14473_SSW_600</td>\n",
       "      <td>nocall</td>\n",
       "    </tr>\n",
       "  </tbody>\n",
       "</table>\n",
       "<p>2400 rows × 2 columns</p>\n",
       "</div>"
      ],
      "text/plain": [
       "            row_id   birds\n",
       "0      54955_SSW_5  nocall\n",
       "1     54955_SSW_10  nocall\n",
       "2     54955_SSW_15  nocall\n",
       "3     54955_SSW_20  nocall\n",
       "4     54955_SSW_25  nocall\n",
       "..             ...     ...\n",
       "115  14473_SSW_580  nocall\n",
       "116  14473_SSW_585  nocall\n",
       "117  14473_SSW_590  nocall\n",
       "118  14473_SSW_595  nocall\n",
       "119  14473_SSW_600  nocall\n",
       "\n",
       "[2400 rows x 2 columns]"
      ]
     },
     "execution_count": 33,
     "metadata": {},
     "output_type": "execute_result"
    }
   ],
   "source": [
    "df_result"
   ]
  },
  {
   "cell_type": "code",
   "execution_count": 34,
   "id": "9a076d6c-cff2-459e-ab74-99b018113cda",
   "metadata": {},
   "outputs": [
    {
     "data": {
      "text/html": [
       "<div>\n",
       "<style scoped>\n",
       "    .dataframe tbody tr th:only-of-type {\n",
       "        vertical-align: middle;\n",
       "    }\n",
       "\n",
       "    .dataframe tbody tr th {\n",
       "        vertical-align: top;\n",
       "    }\n",
       "\n",
       "    .dataframe thead th {\n",
       "        text-align: right;\n",
       "    }\n",
       "</style>\n",
       "<table border=\"1\" class=\"dataframe\">\n",
       "  <thead>\n",
       "    <tr style=\"text-align: right;\">\n",
       "      <th></th>\n",
       "      <th>row_id</th>\n",
       "      <th>birds</th>\n",
       "    </tr>\n",
       "  </thead>\n",
       "  <tbody>\n",
       "    <tr>\n",
       "      <th>17</th>\n",
       "      <td>7019_COR_90</td>\n",
       "      <td>bucmot2</td>\n",
       "    </tr>\n",
       "    <tr>\n",
       "      <th>21</th>\n",
       "      <td>7019_COR_110</td>\n",
       "      <td>bucmot2</td>\n",
       "    </tr>\n",
       "    <tr>\n",
       "      <th>53</th>\n",
       "      <td>57610_COR_270</td>\n",
       "      <td>solsan</td>\n",
       "    </tr>\n",
       "    <tr>\n",
       "      <th>100</th>\n",
       "      <td>57610_COR_505</td>\n",
       "      <td>obnthr1</td>\n",
       "    </tr>\n",
       "    <tr>\n",
       "      <th>109</th>\n",
       "      <td>57610_COR_550</td>\n",
       "      <td>solsan</td>\n",
       "    </tr>\n",
       "    <tr>\n",
       "      <th>...</th>\n",
       "      <td>...</td>\n",
       "      <td>...</td>\n",
       "    </tr>\n",
       "    <tr>\n",
       "      <th>8</th>\n",
       "      <td>50878_COR_45</td>\n",
       "      <td>grhcha1</td>\n",
       "    </tr>\n",
       "    <tr>\n",
       "      <th>29</th>\n",
       "      <td>50878_COR_150</td>\n",
       "      <td>grhcha1</td>\n",
       "    </tr>\n",
       "    <tr>\n",
       "      <th>108</th>\n",
       "      <td>50878_COR_545</td>\n",
       "      <td>solsan</td>\n",
       "    </tr>\n",
       "    <tr>\n",
       "      <th>117</th>\n",
       "      <td>50878_COR_590</td>\n",
       "      <td>bobfly1</td>\n",
       "    </tr>\n",
       "    <tr>\n",
       "      <th>118</th>\n",
       "      <td>50878_COR_595</td>\n",
       "      <td>brbmot1</td>\n",
       "    </tr>\n",
       "  </tbody>\n",
       "</table>\n",
       "<p>61 rows × 2 columns</p>\n",
       "</div>"
      ],
      "text/plain": [
       "            row_id     birds\n",
       "17     7019_COR_90  bucmot2 \n",
       "21    7019_COR_110  bucmot2 \n",
       "53   57610_COR_270   solsan \n",
       "100  57610_COR_505  obnthr1 \n",
       "109  57610_COR_550   solsan \n",
       "..             ...       ...\n",
       "8     50878_COR_45  grhcha1 \n",
       "29   50878_COR_150  grhcha1 \n",
       "108  50878_COR_545   solsan \n",
       "117  50878_COR_590  bobfly1 \n",
       "118  50878_COR_595  brbmot1 \n",
       "\n",
       "[61 rows x 2 columns]"
      ]
     },
     "execution_count": 34,
     "metadata": {},
     "output_type": "execute_result"
    }
   ],
   "source": [
    "df_result[df_result['birds'] != 'nocall']"
   ]
  },
  {
   "cell_type": "code",
   "execution_count": 21,
   "id": "6b09a6d7-3b47-4951-8fb7-ee0a7ac6ea2c",
   "metadata": {},
   "outputs": [],
   "source": [
    "df_result.to_csv(\"submission.csv\", index=False)"
   ]
  },
  {
   "cell_type": "code",
   "execution_count": null,
   "id": "cd9b58a3-4c14-493d-9f1d-5505941437e8",
   "metadata": {},
   "outputs": [],
   "source": []
  }
 ],
 "metadata": {
  "kernelspec": {
   "display_name": "lark",
   "language": "python",
   "name": "lark"
  },
  "language_info": {
   "codemirror_mode": {
    "name": "ipython",
    "version": 3
   },
   "file_extension": ".py",
   "mimetype": "text/x-python",
   "name": "python",
   "nbconvert_exporter": "python",
   "pygments_lexer": "ipython3",
   "version": "3.8.8"
  }
 },
 "nbformat": 4,
 "nbformat_minor": 5
}
