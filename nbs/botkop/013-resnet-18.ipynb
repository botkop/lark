{
 "cells": [
  {
   "cell_type": "code",
   "execution_count": 1,
   "id": "5faafb5a-e533-4e6d-96fe-2918a1310213",
   "metadata": {},
   "outputs": [],
   "source": [
    "%reload_ext autoreload\n",
    "%autoreload 2\n",
    "%matplotlib inline"
   ]
  },
  {
   "cell_type": "code",
   "execution_count": 2,
   "id": "0c7299e8-c05a-41ce-949c-7839df37d1f4",
   "metadata": {},
   "outputs": [
    {
     "name": "stdout",
     "output_type": "stream",
     "text": [
      "1.8.1\n",
      "0.8.0a0+e4e171a\n"
     ]
    }
   ],
   "source": [
    "import torch\n",
    "import torchaudio as ta\n",
    "import torchaudio.functional as taf\n",
    "import torchaudio.transforms as tat\n",
    "from torchvision import transforms\n",
    "\n",
    "print(torch.__version__)        \n",
    "print(ta.__version__)\n",
    "\n",
    "import matplotlib\n",
    "import matplotlib.pyplot as plt\n",
    "from IPython.display import Audio, display\n",
    "\n",
    "import pandas as pd\n",
    "import os\n",
    "import pprint\n",
    "\n",
    "from typing import *\n",
    "import itertools\n",
    "from collections import Counter\n",
    "\n",
    "import numpy as np\n",
    "from datetime import datetime\n",
    "from lark.config import Config\n",
    "from lark.learner import Learner\n",
    "from lark.ops import Sig2Spec, MixedSig2Spec\n",
    "from lark.data import *"
   ]
  },
  {
   "cell_type": "code",
   "execution_count": 141,
   "id": "fb11d388-7478-4192-b20d-041016784a6a",
   "metadata": {},
   "outputs": [
    {
     "data": {
      "text/plain": [
       "0"
      ]
     },
     "execution_count": 141,
     "metadata": {},
     "output_type": "execute_result"
    }
   ],
   "source": [
    "torch.cuda.set_device(0)\n",
    "torch.cuda.current_device()"
   ]
  },
  {
   "cell_type": "code",
   "execution_count": 156,
   "id": "97782497-35e0-41dc-86d5-945617a83816",
   "metadata": {},
   "outputs": [],
   "source": [
    "cfg = Config(\n",
    "    noise_nsr_dbs = [30, 35],\n",
    "    sites=['SSW'], \n",
    "    use_neptune=True, \n",
    "    log_batch_metrics=False,\n",
    "    n_epochs=250, \n",
    "    bs=32, \n",
    "    lr=1e-3, \n",
    "    model='resnet18',\n",
    "    scheduler='torch.optim.lr_scheduler.CosineAnnealingLR'\n",
    ")"
   ]
  },
  {
   "cell_type": "code",
   "execution_count": 157,
   "id": "07735db6-76ec-4610-962b-51e7bc16141b",
   "metadata": {},
   "outputs": [
    {
     "data": {
      "text/plain": [
       "21504"
      ]
     },
     "execution_count": 157,
     "metadata": {},
     "output_type": "execute_result"
    }
   ],
   "source": [
    "cfg.training_dataset_size"
   ]
  },
  {
   "cell_type": "markdown",
   "id": "81d70596-fe2a-4057-9944-56b72bcb2891",
   "metadata": {},
   "source": [
    "as suggested here:\n",
    "https://stackoverflow.com/a/47212899/478746"
   ]
  },
  {
   "cell_type": "code",
   "execution_count": 158,
   "id": "7c3b764f-4213-4dad-b68e-972ab8110945",
   "metadata": {},
   "outputs": [
    {
     "name": "stderr",
     "output_type": "stream",
     "text": [
      "Using cache found in /home/koen/.cache/torch/hub/pytorch_vision_v0.9.0\n"
     ]
    }
   ],
   "source": [
    "main_model = torch.hub.load('pytorch/vision:v0.9.0', 'resnet18', pretrained=True)\n",
    "for param in main_model.parameters():\n",
    "    param.requires_grad = False\n",
    "\n",
    "for layer in [main_model.layer3, main_model.layer4, main_model.avgpool]:\n",
    "    for param in layer.parameters():\n",
    "        param.requires_grad = True\n",
    "\n",
    "prep = MixedSig2Spec(cfg)\n",
    "posp = torch.nn.Linear(in_features=512, out_features=len(cfg.labels), bias=True)\n",
    "main_model.fc = posp\n",
    "\n",
    "model = torch.nn.Sequential(prep, main_model)\n",
    "model = model.cuda()"
   ]
  },
  {
   "cell_type": "code",
   "execution_count": 159,
   "id": "0827d54b-9100-4251-b6ce-4be9f561267d",
   "metadata": {},
   "outputs": [
    {
     "name": "stdout",
     "output_type": "stream",
     "text": [
      "resnet18-half-frozen-20210507-214000\n"
     ]
    },
    {
     "name": "stderr",
     "output_type": "stream",
     "text": [
      "/home/koen/projects/botkop/lark/nbs/botkop/lark/data.py:76: FutureWarning: The default value of regex will change from True to False in a future version.\n",
      "  self.df_meta['secondary_labels'] = self.df_meta['secondary_labels'].str.replace(\"[\\[\\]',]\", '').str.split()\n",
      "/home/koen/projects/botkop/lark/nbs/botkop/lark/data.py:77: FutureWarning: The default value of regex will change from True to False in a future version.\n",
      "  self.df_meta['filename'] = self.df_meta['filename'].str.replace(\".ogg\", '.wav')\n"
     ]
    }
   ],
   "source": [
    "lrn = Learner(\"resnet18-half-frozen\", cfg, model)"
   ]
  },
  {
   "cell_type": "code",
   "execution_count": null,
   "id": "56c3f875-ecb1-4e88-a465-5557f28e9dd3",
   "metadata": {
    "tags": []
   },
   "outputs": [
    {
     "name": "stderr",
     "output_type": "stream",
     "text": [
      "psutil is not installed. You will not be able to abort this experiment from the UI.\n",
      "psutil is not installed. Hardware metrics will not be collected.\n"
     ]
    },
    {
     "name": "stdout",
     "output_type": "stream",
     "text": [
      "https://ui.neptune.ai/botkop/lark/e/LAR-102\n"
     ]
    },
    {
     "data": {
      "application/vnd.jupyter.widget-view+json": {
       "model_id": "a4a11b0072b040eab171a6aee909b009",
       "version_major": 2,
       "version_minor": 0
      },
      "text/plain": [
       "  0%|          | 0/250 [00:00<?, ?it/s]"
      ]
     },
     "metadata": {},
     "output_type": "display_data"
    },
    {
     "data": {
      "application/vnd.jupyter.widget-view+json": {
       "model_id": "",
       "version_major": 2,
       "version_minor": 0
      },
      "text/plain": [
       "  0%|          | 0/672 [00:00<?, ?it/s]"
      ]
     },
     "metadata": {},
     "output_type": "display_data"
    },
    {
     "data": {
      "application/vnd.jupyter.widget-view+json": {
       "model_id": "",
       "version_major": 2,
       "version_minor": 0
      },
      "text/plain": [
       "  0%|          | 0/38 [00:00<?, ?it/s]"
      ]
     },
     "metadata": {},
     "output_type": "display_data"
    },
    {
     "name": "stdout",
     "output_type": "stream",
     "text": [
      "2021-05-07 21:41:31 epoch:   1 train loss: 0.252137 train f1: 0.002400 valid loss: 0.140247 valid f1: 0.000000\n"
     ]
    },
    {
     "data": {
      "application/vnd.jupyter.widget-view+json": {
       "model_id": "",
       "version_major": 2,
       "version_minor": 0
      },
      "text/plain": [
       "  0%|          | 0/672 [00:00<?, ?it/s]"
      ]
     },
     "metadata": {},
     "output_type": "display_data"
    },
    {
     "data": {
      "application/vnd.jupyter.widget-view+json": {
       "model_id": "",
       "version_major": 2,
       "version_minor": 0
      },
      "text/plain": [
       "  0%|          | 0/38 [00:00<?, ?it/s]"
      ]
     },
     "metadata": {},
     "output_type": "display_data"
    },
    {
     "name": "stdout",
     "output_type": "stream",
     "text": [
      "2021-05-07 21:42:59 epoch:   2 train loss: 0.242938 train f1: 0.011626 valid loss: 0.135821 valid f1: 0.002587\n"
     ]
    },
    {
     "data": {
      "application/vnd.jupyter.widget-view+json": {
       "model_id": "",
       "version_major": 2,
       "version_minor": 0
      },
      "text/plain": [
       "  0%|          | 0/672 [00:00<?, ?it/s]"
      ]
     },
     "metadata": {},
     "output_type": "display_data"
    },
    {
     "data": {
      "application/vnd.jupyter.widget-view+json": {
       "model_id": "",
       "version_major": 2,
       "version_minor": 0
      },
      "text/plain": [
       "  0%|          | 0/38 [00:00<?, ?it/s]"
      ]
     },
     "metadata": {},
     "output_type": "display_data"
    },
    {
     "name": "stdout",
     "output_type": "stream",
     "text": [
      "2021-05-07 21:44:27 epoch:   3 train loss: 0.239884 train f1: 0.026995 valid loss: 0.137183 valid f1: 0.017789\n"
     ]
    },
    {
     "data": {
      "application/vnd.jupyter.widget-view+json": {
       "model_id": "",
       "version_major": 2,
       "version_minor": 0
      },
      "text/plain": [
       "  0%|          | 0/672 [00:00<?, ?it/s]"
      ]
     },
     "metadata": {},
     "output_type": "display_data"
    },
    {
     "data": {
      "application/vnd.jupyter.widget-view+json": {
       "model_id": "",
       "version_major": 2,
       "version_minor": 0
      },
      "text/plain": [
       "  0%|          | 0/38 [00:00<?, ?it/s]"
      ]
     },
     "metadata": {},
     "output_type": "display_data"
    },
    {
     "name": "stdout",
     "output_type": "stream",
     "text": [
      "2021-05-07 21:45:54 epoch:   4 train loss: 0.236154 train f1: 0.052864 valid loss: 0.123999 valid f1: 0.017052\n"
     ]
    },
    {
     "data": {
      "application/vnd.jupyter.widget-view+json": {
       "model_id": "",
       "version_major": 2,
       "version_minor": 0
      },
      "text/plain": [
       "  0%|          | 0/672 [00:00<?, ?it/s]"
      ]
     },
     "metadata": {},
     "output_type": "display_data"
    },
    {
     "data": {
      "application/vnd.jupyter.widget-view+json": {
       "model_id": "",
       "version_major": 2,
       "version_minor": 0
      },
      "text/plain": [
       "  0%|          | 0/38 [00:00<?, ?it/s]"
      ]
     },
     "metadata": {},
     "output_type": "display_data"
    },
    {
     "name": "stdout",
     "output_type": "stream",
     "text": [
      "2021-05-07 21:47:22 epoch:   5 train loss: 0.232755 train f1: 0.076232 valid loss: 0.129321 valid f1: 0.038857\n"
     ]
    },
    {
     "data": {
      "application/vnd.jupyter.widget-view+json": {
       "model_id": "",
       "version_major": 2,
       "version_minor": 0
      },
      "text/plain": [
       "  0%|          | 0/672 [00:00<?, ?it/s]"
      ]
     },
     "metadata": {},
     "output_type": "display_data"
    },
    {
     "data": {
      "application/vnd.jupyter.widget-view+json": {
       "model_id": "",
       "version_major": 2,
       "version_minor": 0
      },
      "text/plain": [
       "  0%|          | 0/38 [00:00<?, ?it/s]"
      ]
     },
     "metadata": {},
     "output_type": "display_data"
    },
    {
     "name": "stdout",
     "output_type": "stream",
     "text": [
      "2021-05-07 21:48:48 epoch:   6 train loss: 0.226501 train f1: 0.103401 valid loss: 0.132285 valid f1: 0.089814\n"
     ]
    },
    {
     "data": {
      "application/vnd.jupyter.widget-view+json": {
       "model_id": "",
       "version_major": 2,
       "version_minor": 0
      },
      "text/plain": [
       "  0%|          | 0/672 [00:00<?, ?it/s]"
      ]
     },
     "metadata": {},
     "output_type": "display_data"
    },
    {
     "data": {
      "application/vnd.jupyter.widget-view+json": {
       "model_id": "",
       "version_major": 2,
       "version_minor": 0
      },
      "text/plain": [
       "  0%|          | 0/38 [00:00<?, ?it/s]"
      ]
     },
     "metadata": {},
     "output_type": "display_data"
    },
    {
     "name": "stdout",
     "output_type": "stream",
     "text": [
      "2021-05-07 21:50:16 epoch:   7 train loss: 0.225892 train f1: 0.125869 valid loss: 0.121927 valid f1: 0.094915\n"
     ]
    },
    {
     "data": {
      "application/vnd.jupyter.widget-view+json": {
       "model_id": "",
       "version_major": 2,
       "version_minor": 0
      },
      "text/plain": [
       "  0%|          | 0/672 [00:00<?, ?it/s]"
      ]
     },
     "metadata": {},
     "output_type": "display_data"
    },
    {
     "data": {
      "application/vnd.jupyter.widget-view+json": {
       "model_id": "",
       "version_major": 2,
       "version_minor": 0
      },
      "text/plain": [
       "  0%|          | 0/38 [00:00<?, ?it/s]"
      ]
     },
     "metadata": {},
     "output_type": "display_data"
    },
    {
     "name": "stdout",
     "output_type": "stream",
     "text": [
      "2021-05-07 21:51:44 epoch:   8 train loss: 0.224573 train f1: 0.142482 valid loss: 0.121904 valid f1: 0.090909\n"
     ]
    },
    {
     "data": {
      "application/vnd.jupyter.widget-view+json": {
       "model_id": "",
       "version_major": 2,
       "version_minor": 0
      },
      "text/plain": [
       "  0%|          | 0/672 [00:00<?, ?it/s]"
      ]
     },
     "metadata": {},
     "output_type": "display_data"
    },
    {
     "data": {
      "application/vnd.jupyter.widget-view+json": {
       "model_id": "",
       "version_major": 2,
       "version_minor": 0
      },
      "text/plain": [
       "  0%|          | 0/38 [00:00<?, ?it/s]"
      ]
     },
     "metadata": {},
     "output_type": "display_data"
    },
    {
     "name": "stdout",
     "output_type": "stream",
     "text": [
      "2021-05-07 21:53:13 epoch:   9 train loss: 0.220191 train f1: 0.159880 valid loss: 0.110076 valid f1: 0.143982\n"
     ]
    },
    {
     "data": {
      "application/vnd.jupyter.widget-view+json": {
       "model_id": "",
       "version_major": 2,
       "version_minor": 0
      },
      "text/plain": [
       "  0%|          | 0/672 [00:00<?, ?it/s]"
      ]
     },
     "metadata": {},
     "output_type": "display_data"
    },
    {
     "data": {
      "application/vnd.jupyter.widget-view+json": {
       "model_id": "",
       "version_major": 2,
       "version_minor": 0
      },
      "text/plain": [
       "  0%|          | 0/38 [00:00<?, ?it/s]"
      ]
     },
     "metadata": {},
     "output_type": "display_data"
    },
    {
     "name": "stderr",
     "output_type": "stream",
     "text": [
      "Unexpected error in ping thread.\n",
      "Traceback (most recent call last):\n",
      "  File \"/home/koen/apps/anaconda3/envs/lark/lib/python3.8/site-packages/neptune/internal/threads/ping_thread.py\", line 37, in run\n",
      "    self.__backend.ping_experiment(self.__experiment)\n",
      "  File \"/home/koen/apps/anaconda3/envs/lark/lib/python3.8/site-packages/neptune/internal/api_clients/hosted_api_clients/hosted_alpha_leaderboard_api_client.py\", line 382, in ping_experiment\n",
      "    self.leaderboard_swagger_client.api.ping(experimentId=str(experiment.internal_id)).response().result\n",
      "  File \"/home/koen/apps/anaconda3/envs/lark/lib/python3.8/site-packages/bravado/http_future.py\", line 239, in response\n",
      "    six.reraise(*sys.exc_info())\n",
      "  File \"/home/koen/apps/anaconda3/envs/lark/lib/python3.8/site-packages/six.py\", line 703, in reraise\n",
      "    raise value\n",
      "  File \"/home/koen/apps/anaconda3/envs/lark/lib/python3.8/site-packages/bravado/http_future.py\", line 200, in response\n",
      "    swagger_result = self._get_swagger_result(incoming_response)\n",
      "  File \"/home/koen/apps/anaconda3/envs/lark/lib/python3.8/site-packages/bravado/http_future.py\", line 124, in wrapper\n",
      "    return func(self, *args, **kwargs)\n",
      "  File \"/home/koen/apps/anaconda3/envs/lark/lib/python3.8/site-packages/bravado/http_future.py\", line 300, in _get_swagger_result\n",
      "    unmarshal_response(\n",
      "  File \"/home/koen/apps/anaconda3/envs/lark/lib/python3.8/site-packages/bravado/http_future.py\", line 334, in unmarshal_response\n",
      "    raise_on_unexpected(incoming_response)\n",
      "  File \"/home/koen/apps/anaconda3/envs/lark/lib/python3.8/site-packages/bravado/http_future.py\", line 408, in raise_on_unexpected\n",
      "    raise make_http_exception(response=http_response)\n",
      "bravado.exception.HTTPBadGateway: 502 Bad Gateway: <html>\n",
      "<head><title>502 Bad Gateway</title></head>\n",
      "<body>\n",
      "<center><h1>502 Bad Gateway</h1></center>\n",
      "<hr><center>nginx</center>\n",
      "</body>\n",
      "</html>\n",
      "\n",
      "Unexpected error in ping thread.\n",
      "Traceback (most recent call last):\n",
      "  File \"/home/koen/apps/anaconda3/envs/lark/lib/python3.8/site-packages/neptune/internal/threads/ping_thread.py\", line 37, in run\n",
      "    self.__backend.ping_experiment(self.__experiment)\n",
      "  File \"/home/koen/apps/anaconda3/envs/lark/lib/python3.8/site-packages/neptune/internal/api_clients/hosted_api_clients/hosted_alpha_leaderboard_api_client.py\", line 382, in ping_experiment\n",
      "    self.leaderboard_swagger_client.api.ping(experimentId=str(experiment.internal_id)).response().result\n",
      "  File \"/home/koen/apps/anaconda3/envs/lark/lib/python3.8/site-packages/bravado/http_future.py\", line 239, in response\n",
      "    six.reraise(*sys.exc_info())\n",
      "  File \"/home/koen/apps/anaconda3/envs/lark/lib/python3.8/site-packages/six.py\", line 703, in reraise\n",
      "    raise value\n",
      "  File \"/home/koen/apps/anaconda3/envs/lark/lib/python3.8/site-packages/bravado/http_future.py\", line 200, in response\n",
      "    swagger_result = self._get_swagger_result(incoming_response)\n",
      "  File \"/home/koen/apps/anaconda3/envs/lark/lib/python3.8/site-packages/bravado/http_future.py\", line 124, in wrapper\n",
      "    return func(self, *args, **kwargs)\n",
      "  File \"/home/koen/apps/anaconda3/envs/lark/lib/python3.8/site-packages/bravado/http_future.py\", line 300, in _get_swagger_result\n",
      "    unmarshal_response(\n",
      "  File \"/home/koen/apps/anaconda3/envs/lark/lib/python3.8/site-packages/bravado/http_future.py\", line 334, in unmarshal_response\n",
      "    raise_on_unexpected(incoming_response)\n",
      "  File \"/home/koen/apps/anaconda3/envs/lark/lib/python3.8/site-packages/bravado/http_future.py\", line 408, in raise_on_unexpected\n",
      "    raise make_http_exception(response=http_response)\n",
      "bravado.exception.HTTPBadGateway: 502 Bad Gateway: <html>\n",
      "<head><title>502 Bad Gateway</title></head>\n",
      "<body>\n",
      "<center><h1>502 Bad Gateway</h1></center>\n",
      "<hr><center>nginx</center>\n",
      "</body>\n",
      "</html>\n",
      "\n",
      "Unexpected error in ping thread.\n",
      "Traceback (most recent call last):\n",
      "  File \"/home/koen/apps/anaconda3/envs/lark/lib/python3.8/site-packages/neptune/internal/threads/ping_thread.py\", line 37, in run\n",
      "    self.__backend.ping_experiment(self.__experiment)\n",
      "  File \"/home/koen/apps/anaconda3/envs/lark/lib/python3.8/site-packages/neptune/internal/api_clients/hosted_api_clients/hosted_alpha_leaderboard_api_client.py\", line 382, in ping_experiment\n",
      "    self.leaderboard_swagger_client.api.ping(experimentId=str(experiment.internal_id)).response().result\n",
      "  File \"/home/koen/apps/anaconda3/envs/lark/lib/python3.8/site-packages/bravado/http_future.py\", line 239, in response\n",
      "    six.reraise(*sys.exc_info())\n",
      "  File \"/home/koen/apps/anaconda3/envs/lark/lib/python3.8/site-packages/six.py\", line 703, in reraise\n",
      "    raise value\n",
      "  File \"/home/koen/apps/anaconda3/envs/lark/lib/python3.8/site-packages/bravado/http_future.py\", line 200, in response\n",
      "    swagger_result = self._get_swagger_result(incoming_response)\n",
      "  File \"/home/koen/apps/anaconda3/envs/lark/lib/python3.8/site-packages/bravado/http_future.py\", line 124, in wrapper\n",
      "    return func(self, *args, **kwargs)\n",
      "  File \"/home/koen/apps/anaconda3/envs/lark/lib/python3.8/site-packages/bravado/http_future.py\", line 300, in _get_swagger_result\n",
      "    unmarshal_response(\n",
      "  File \"/home/koen/apps/anaconda3/envs/lark/lib/python3.8/site-packages/bravado/http_future.py\", line 334, in unmarshal_response\n",
      "    raise_on_unexpected(incoming_response)\n",
      "  File \"/home/koen/apps/anaconda3/envs/lark/lib/python3.8/site-packages/bravado/http_future.py\", line 408, in raise_on_unexpected\n",
      "    raise make_http_exception(response=http_response)\n",
      "bravado.exception.HTTPBadGateway: 502 Bad Gateway: <html>\n",
      "<head><title>502 Bad Gateway</title></head>\n",
      "<body>\n",
      "<center><h1>502 Bad Gateway</h1></center>\n",
      "<hr><center>nginx</center>\n",
      "</body>\n",
      "</html>\n",
      "\n",
      "Unexpected error in ping thread.\n",
      "Traceback (most recent call last):\n",
      "  File \"/home/koen/apps/anaconda3/envs/lark/lib/python3.8/site-packages/neptune/internal/threads/ping_thread.py\", line 37, in run\n",
      "    self.__backend.ping_experiment(self.__experiment)\n",
      "  File \"/home/koen/apps/anaconda3/envs/lark/lib/python3.8/site-packages/neptune/internal/api_clients/hosted_api_clients/hosted_alpha_leaderboard_api_client.py\", line 382, in ping_experiment\n",
      "    self.leaderboard_swagger_client.api.ping(experimentId=str(experiment.internal_id)).response().result\n",
      "  File \"/home/koen/apps/anaconda3/envs/lark/lib/python3.8/site-packages/bravado/http_future.py\", line 239, in response\n",
      "    six.reraise(*sys.exc_info())\n",
      "  File \"/home/koen/apps/anaconda3/envs/lark/lib/python3.8/site-packages/six.py\", line 703, in reraise\n",
      "    raise value\n",
      "  File \"/home/koen/apps/anaconda3/envs/lark/lib/python3.8/site-packages/bravado/http_future.py\", line 200, in response\n",
      "    swagger_result = self._get_swagger_result(incoming_response)\n",
      "  File \"/home/koen/apps/anaconda3/envs/lark/lib/python3.8/site-packages/bravado/http_future.py\", line 124, in wrapper\n",
      "    return func(self, *args, **kwargs)\n",
      "  File \"/home/koen/apps/anaconda3/envs/lark/lib/python3.8/site-packages/bravado/http_future.py\", line 300, in _get_swagger_result\n",
      "    unmarshal_response(\n",
      "  File \"/home/koen/apps/anaconda3/envs/lark/lib/python3.8/site-packages/bravado/http_future.py\", line 334, in unmarshal_response\n",
      "    raise_on_unexpected(incoming_response)\n",
      "  File \"/home/koen/apps/anaconda3/envs/lark/lib/python3.8/site-packages/bravado/http_future.py\", line 408, in raise_on_unexpected\n",
      "    raise make_http_exception(response=http_response)\n",
      "bravado.exception.HTTPBadGateway: 502 Bad Gateway: <html>\n",
      "<head><title>502 Bad Gateway</title></head>\n",
      "<body>\n",
      "<center><h1>502 Bad Gateway</h1></center>\n",
      "<hr><center>nginx</center>\n",
      "</body>\n",
      "</html>\n",
      "\n",
      "Unexpected error in ping thread.\n",
      "Traceback (most recent call last):\n",
      "  File \"/home/koen/apps/anaconda3/envs/lark/lib/python3.8/site-packages/neptune/internal/threads/ping_thread.py\", line 37, in run\n",
      "    self.__backend.ping_experiment(self.__experiment)\n",
      "  File \"/home/koen/apps/anaconda3/envs/lark/lib/python3.8/site-packages/neptune/internal/api_clients/hosted_api_clients/hosted_alpha_leaderboard_api_client.py\", line 382, in ping_experiment\n",
      "    self.leaderboard_swagger_client.api.ping(experimentId=str(experiment.internal_id)).response().result\n",
      "  File \"/home/koen/apps/anaconda3/envs/lark/lib/python3.8/site-packages/bravado/http_future.py\", line 239, in response\n",
      "    six.reraise(*sys.exc_info())\n",
      "  File \"/home/koen/apps/anaconda3/envs/lark/lib/python3.8/site-packages/six.py\", line 703, in reraise\n",
      "    raise value\n",
      "  File \"/home/koen/apps/anaconda3/envs/lark/lib/python3.8/site-packages/bravado/http_future.py\", line 200, in response\n",
      "    swagger_result = self._get_swagger_result(incoming_response)\n",
      "  File \"/home/koen/apps/anaconda3/envs/lark/lib/python3.8/site-packages/bravado/http_future.py\", line 124, in wrapper\n",
      "    return func(self, *args, **kwargs)\n",
      "  File \"/home/koen/apps/anaconda3/envs/lark/lib/python3.8/site-packages/bravado/http_future.py\", line 300, in _get_swagger_result\n",
      "    unmarshal_response(\n",
      "  File \"/home/koen/apps/anaconda3/envs/lark/lib/python3.8/site-packages/bravado/http_future.py\", line 334, in unmarshal_response\n",
      "    raise_on_unexpected(incoming_response)\n",
      "  File \"/home/koen/apps/anaconda3/envs/lark/lib/python3.8/site-packages/bravado/http_future.py\", line 408, in raise_on_unexpected\n",
      "    raise make_http_exception(response=http_response)\n",
      "bravado.exception.HTTPBadGateway: 502 Bad Gateway: <html>\n",
      "<head><title>502 Bad Gateway</title></head>\n",
      "<body>\n",
      "<center><h1>502 Bad Gateway</h1></center>\n",
      "<hr><center>nginx</center>\n",
      "</body>\n",
      "</html>\n",
      "\n",
      "Unexpected error in ping thread.\n",
      "Traceback (most recent call last):\n",
      "  File \"/home/koen/apps/anaconda3/envs/lark/lib/python3.8/site-packages/neptune/internal/threads/ping_thread.py\", line 37, in run\n",
      "    self.__backend.ping_experiment(self.__experiment)\n",
      "  File \"/home/koen/apps/anaconda3/envs/lark/lib/python3.8/site-packages/neptune/internal/api_clients/hosted_api_clients/hosted_alpha_leaderboard_api_client.py\", line 382, in ping_experiment\n",
      "    self.leaderboard_swagger_client.api.ping(experimentId=str(experiment.internal_id)).response().result\n",
      "  File \"/home/koen/apps/anaconda3/envs/lark/lib/python3.8/site-packages/bravado/http_future.py\", line 239, in response\n",
      "    six.reraise(*sys.exc_info())\n",
      "  File \"/home/koen/apps/anaconda3/envs/lark/lib/python3.8/site-packages/six.py\", line 703, in reraise\n",
      "    raise value\n",
      "  File \"/home/koen/apps/anaconda3/envs/lark/lib/python3.8/site-packages/bravado/http_future.py\", line 200, in response\n",
      "    swagger_result = self._get_swagger_result(incoming_response)\n",
      "  File \"/home/koen/apps/anaconda3/envs/lark/lib/python3.8/site-packages/bravado/http_future.py\", line 124, in wrapper\n",
      "    return func(self, *args, **kwargs)\n",
      "  File \"/home/koen/apps/anaconda3/envs/lark/lib/python3.8/site-packages/bravado/http_future.py\", line 300, in _get_swagger_result\n",
      "    unmarshal_response(\n",
      "  File \"/home/koen/apps/anaconda3/envs/lark/lib/python3.8/site-packages/bravado/http_future.py\", line 334, in unmarshal_response\n",
      "    raise_on_unexpected(incoming_response)\n",
      "  File \"/home/koen/apps/anaconda3/envs/lark/lib/python3.8/site-packages/bravado/http_future.py\", line 408, in raise_on_unexpected\n",
      "    raise make_http_exception(response=http_response)\n",
      "bravado.exception.HTTPBadGateway: 502 Bad Gateway: <html>\n",
      "<head><title>502 Bad Gateway</title></head>\n",
      "<body>\n",
      "<center><h1>502 Bad Gateway</h1></center>\n",
      "<hr><center>nginx</center>\n",
      "</body>\n",
      "</html>\n",
      "\n",
      "Unexpected error in ping thread.\n",
      "Traceback (most recent call last):\n",
      "  File \"/home/koen/apps/anaconda3/envs/lark/lib/python3.8/site-packages/neptune/internal/threads/ping_thread.py\", line 37, in run\n",
      "    self.__backend.ping_experiment(self.__experiment)\n",
      "  File \"/home/koen/apps/anaconda3/envs/lark/lib/python3.8/site-packages/neptune/internal/api_clients/hosted_api_clients/hosted_alpha_leaderboard_api_client.py\", line 382, in ping_experiment\n",
      "    self.leaderboard_swagger_client.api.ping(experimentId=str(experiment.internal_id)).response().result\n",
      "  File \"/home/koen/apps/anaconda3/envs/lark/lib/python3.8/site-packages/bravado/http_future.py\", line 239, in response\n",
      "    six.reraise(*sys.exc_info())\n",
      "  File \"/home/koen/apps/anaconda3/envs/lark/lib/python3.8/site-packages/six.py\", line 703, in reraise\n",
      "    raise value\n",
      "  File \"/home/koen/apps/anaconda3/envs/lark/lib/python3.8/site-packages/bravado/http_future.py\", line 200, in response\n",
      "    swagger_result = self._get_swagger_result(incoming_response)\n",
      "  File \"/home/koen/apps/anaconda3/envs/lark/lib/python3.8/site-packages/bravado/http_future.py\", line 124, in wrapper\n",
      "    return func(self, *args, **kwargs)\n",
      "  File \"/home/koen/apps/anaconda3/envs/lark/lib/python3.8/site-packages/bravado/http_future.py\", line 300, in _get_swagger_result\n",
      "    unmarshal_response(\n",
      "  File \"/home/koen/apps/anaconda3/envs/lark/lib/python3.8/site-packages/bravado/http_future.py\", line 334, in unmarshal_response\n",
      "    raise_on_unexpected(incoming_response)\n",
      "  File \"/home/koen/apps/anaconda3/envs/lark/lib/python3.8/site-packages/bravado/http_future.py\", line 408, in raise_on_unexpected\n",
      "    raise make_http_exception(response=http_response)\n",
      "bravado.exception.HTTPBadGateway: 502 Bad Gateway: <html>\n",
      "<head><title>502 Bad Gateway</title></head>\n",
      "<body>\n",
      "<center><h1>502 Bad Gateway</h1></center>\n",
      "<hr><center>nginx</center>\n",
      "</body>\n",
      "</html>\n",
      "\n",
      "Unexpected error in ping thread.\n",
      "Traceback (most recent call last):\n",
      "  File \"/home/koen/apps/anaconda3/envs/lark/lib/python3.8/site-packages/neptune/internal/threads/ping_thread.py\", line 37, in run\n",
      "    self.__backend.ping_experiment(self.__experiment)\n",
      "  File \"/home/koen/apps/anaconda3/envs/lark/lib/python3.8/site-packages/neptune/internal/api_clients/hosted_api_clients/hosted_alpha_leaderboard_api_client.py\", line 382, in ping_experiment\n",
      "    self.leaderboard_swagger_client.api.ping(experimentId=str(experiment.internal_id)).response().result\n",
      "  File \"/home/koen/apps/anaconda3/envs/lark/lib/python3.8/site-packages/bravado/http_future.py\", line 239, in response\n",
      "    six.reraise(*sys.exc_info())\n",
      "  File \"/home/koen/apps/anaconda3/envs/lark/lib/python3.8/site-packages/six.py\", line 703, in reraise\n",
      "    raise value\n",
      "  File \"/home/koen/apps/anaconda3/envs/lark/lib/python3.8/site-packages/bravado/http_future.py\", line 200, in response\n",
      "    swagger_result = self._get_swagger_result(incoming_response)\n",
      "  File \"/home/koen/apps/anaconda3/envs/lark/lib/python3.8/site-packages/bravado/http_future.py\", line 124, in wrapper\n",
      "    return func(self, *args, **kwargs)\n",
      "  File \"/home/koen/apps/anaconda3/envs/lark/lib/python3.8/site-packages/bravado/http_future.py\", line 300, in _get_swagger_result\n",
      "    unmarshal_response(\n",
      "  File \"/home/koen/apps/anaconda3/envs/lark/lib/python3.8/site-packages/bravado/http_future.py\", line 334, in unmarshal_response\n",
      "    raise_on_unexpected(incoming_response)\n",
      "  File \"/home/koen/apps/anaconda3/envs/lark/lib/python3.8/site-packages/bravado/http_future.py\", line 408, in raise_on_unexpected\n",
      "    raise make_http_exception(response=http_response)\n",
      "bravado.exception.HTTPBadGateway: 502 Bad Gateway: <html>\n",
      "<head><title>502 Bad Gateway</title></head>\n",
      "<body>\n",
      "<center><h1>502 Bad Gateway</h1></center>\n",
      "<hr><center>nginx</center>\n",
      "</body>\n",
      "</html>\n",
      "\n",
      "Unexpected error in ping thread.\n",
      "Traceback (most recent call last):\n",
      "  File \"/home/koen/apps/anaconda3/envs/lark/lib/python3.8/site-packages/neptune/internal/threads/ping_thread.py\", line 37, in run\n",
      "    self.__backend.ping_experiment(self.__experiment)\n",
      "  File \"/home/koen/apps/anaconda3/envs/lark/lib/python3.8/site-packages/neptune/internal/api_clients/hosted_api_clients/hosted_alpha_leaderboard_api_client.py\", line 382, in ping_experiment\n",
      "    self.leaderboard_swagger_client.api.ping(experimentId=str(experiment.internal_id)).response().result\n",
      "  File \"/home/koen/apps/anaconda3/envs/lark/lib/python3.8/site-packages/bravado/http_future.py\", line 239, in response\n",
      "    six.reraise(*sys.exc_info())\n",
      "  File \"/home/koen/apps/anaconda3/envs/lark/lib/python3.8/site-packages/six.py\", line 703, in reraise\n",
      "    raise value\n",
      "  File \"/home/koen/apps/anaconda3/envs/lark/lib/python3.8/site-packages/bravado/http_future.py\", line 200, in response\n",
      "    swagger_result = self._get_swagger_result(incoming_response)\n",
      "  File \"/home/koen/apps/anaconda3/envs/lark/lib/python3.8/site-packages/bravado/http_future.py\", line 124, in wrapper\n",
      "    return func(self, *args, **kwargs)\n",
      "  File \"/home/koen/apps/anaconda3/envs/lark/lib/python3.8/site-packages/bravado/http_future.py\", line 300, in _get_swagger_result\n",
      "    unmarshal_response(\n",
      "  File \"/home/koen/apps/anaconda3/envs/lark/lib/python3.8/site-packages/bravado/http_future.py\", line 334, in unmarshal_response\n",
      "    raise_on_unexpected(incoming_response)\n",
      "  File \"/home/koen/apps/anaconda3/envs/lark/lib/python3.8/site-packages/bravado/http_future.py\", line 408, in raise_on_unexpected\n",
      "    raise make_http_exception(response=http_response)\n",
      "bravado.exception.HTTPBadGateway: 502 Bad Gateway: <html>\n",
      "<head><title>502 Bad Gateway</title></head>\n",
      "<body>\n",
      "<center><h1>502 Bad Gateway</h1></center>\n",
      "<hr><center>nginx</center>\n",
      "</body>\n",
      "</html>\n",
      "\n",
      "Unexpected error in ping thread.\n",
      "Traceback (most recent call last):\n",
      "  File \"/home/koen/apps/anaconda3/envs/lark/lib/python3.8/site-packages/neptune/internal/threads/ping_thread.py\", line 37, in run\n",
      "    self.__backend.ping_experiment(self.__experiment)\n",
      "  File \"/home/koen/apps/anaconda3/envs/lark/lib/python3.8/site-packages/neptune/internal/api_clients/hosted_api_clients/hosted_alpha_leaderboard_api_client.py\", line 382, in ping_experiment\n",
      "    self.leaderboard_swagger_client.api.ping(experimentId=str(experiment.internal_id)).response().result\n",
      "  File \"/home/koen/apps/anaconda3/envs/lark/lib/python3.8/site-packages/bravado/http_future.py\", line 239, in response\n",
      "    six.reraise(*sys.exc_info())\n",
      "  File \"/home/koen/apps/anaconda3/envs/lark/lib/python3.8/site-packages/six.py\", line 703, in reraise\n",
      "    raise value\n",
      "  File \"/home/koen/apps/anaconda3/envs/lark/lib/python3.8/site-packages/bravado/http_future.py\", line 200, in response\n",
      "    swagger_result = self._get_swagger_result(incoming_response)\n",
      "  File \"/home/koen/apps/anaconda3/envs/lark/lib/python3.8/site-packages/bravado/http_future.py\", line 124, in wrapper\n",
      "    return func(self, *args, **kwargs)\n",
      "  File \"/home/koen/apps/anaconda3/envs/lark/lib/python3.8/site-packages/bravado/http_future.py\", line 300, in _get_swagger_result\n",
      "    unmarshal_response(\n",
      "  File \"/home/koen/apps/anaconda3/envs/lark/lib/python3.8/site-packages/bravado/http_future.py\", line 334, in unmarshal_response\n",
      "    raise_on_unexpected(incoming_response)\n",
      "  File \"/home/koen/apps/anaconda3/envs/lark/lib/python3.8/site-packages/bravado/http_future.py\", line 408, in raise_on_unexpected\n",
      "    raise make_http_exception(response=http_response)\n",
      "bravado.exception.HTTPBadGateway: 502 Bad Gateway: <html>\n",
      "<head><title>502 Bad Gateway</title></head>\n",
      "<body>\n",
      "<center><h1>502 Bad Gateway</h1></center>\n",
      "<hr><center>nginx</center>\n",
      "</body>\n",
      "</html>\n",
      "\n",
      "Unexpected error in ping thread.\n",
      "Traceback (most recent call last):\n",
      "  File \"/home/koen/apps/anaconda3/envs/lark/lib/python3.8/site-packages/neptune/internal/threads/ping_thread.py\", line 37, in run\n",
      "    self.__backend.ping_experiment(self.__experiment)\n",
      "  File \"/home/koen/apps/anaconda3/envs/lark/lib/python3.8/site-packages/neptune/internal/api_clients/hosted_api_clients/hosted_alpha_leaderboard_api_client.py\", line 382, in ping_experiment\n",
      "    self.leaderboard_swagger_client.api.ping(experimentId=str(experiment.internal_id)).response().result\n",
      "  File \"/home/koen/apps/anaconda3/envs/lark/lib/python3.8/site-packages/bravado/http_future.py\", line 239, in response\n",
      "    six.reraise(*sys.exc_info())\n",
      "  File \"/home/koen/apps/anaconda3/envs/lark/lib/python3.8/site-packages/six.py\", line 703, in reraise\n",
      "    raise value\n",
      "  File \"/home/koen/apps/anaconda3/envs/lark/lib/python3.8/site-packages/bravado/http_future.py\", line 200, in response\n",
      "    swagger_result = self._get_swagger_result(incoming_response)\n",
      "  File \"/home/koen/apps/anaconda3/envs/lark/lib/python3.8/site-packages/bravado/http_future.py\", line 124, in wrapper\n",
      "    return func(self, *args, **kwargs)\n",
      "  File \"/home/koen/apps/anaconda3/envs/lark/lib/python3.8/site-packages/bravado/http_future.py\", line 300, in _get_swagger_result\n",
      "    unmarshal_response(\n",
      "  File \"/home/koen/apps/anaconda3/envs/lark/lib/python3.8/site-packages/bravado/http_future.py\", line 334, in unmarshal_response\n",
      "    raise_on_unexpected(incoming_response)\n",
      "  File \"/home/koen/apps/anaconda3/envs/lark/lib/python3.8/site-packages/bravado/http_future.py\", line 408, in raise_on_unexpected\n",
      "    raise make_http_exception(response=http_response)\n",
      "bravado.exception.HTTPBadGateway: 502 Bad Gateway: <html>\n",
      "<head><title>502 Bad Gateway</title></head>\n",
      "<body>\n",
      "<center><h1>502 Bad Gateway</h1></center>\n",
      "<hr><center>nginx</center>\n",
      "</body>\n",
      "</html>\n",
      "\n",
      "Unexpected error in ping thread.\n",
      "Traceback (most recent call last):\n",
      "  File \"/home/koen/apps/anaconda3/envs/lark/lib/python3.8/site-packages/neptune/internal/threads/ping_thread.py\", line 37, in run\n",
      "    self.__backend.ping_experiment(self.__experiment)\n",
      "  File \"/home/koen/apps/anaconda3/envs/lark/lib/python3.8/site-packages/neptune/internal/api_clients/hosted_api_clients/hosted_alpha_leaderboard_api_client.py\", line 382, in ping_experiment\n",
      "    self.leaderboard_swagger_client.api.ping(experimentId=str(experiment.internal_id)).response().result\n",
      "  File \"/home/koen/apps/anaconda3/envs/lark/lib/python3.8/site-packages/bravado/http_future.py\", line 239, in response\n",
      "    six.reraise(*sys.exc_info())\n",
      "  File \"/home/koen/apps/anaconda3/envs/lark/lib/python3.8/site-packages/six.py\", line 703, in reraise\n",
      "    raise value\n",
      "  File \"/home/koen/apps/anaconda3/envs/lark/lib/python3.8/site-packages/bravado/http_future.py\", line 200, in response\n",
      "    swagger_result = self._get_swagger_result(incoming_response)\n",
      "  File \"/home/koen/apps/anaconda3/envs/lark/lib/python3.8/site-packages/bravado/http_future.py\", line 124, in wrapper\n",
      "    return func(self, *args, **kwargs)\n",
      "  File \"/home/koen/apps/anaconda3/envs/lark/lib/python3.8/site-packages/bravado/http_future.py\", line 300, in _get_swagger_result\n",
      "    unmarshal_response(\n",
      "  File \"/home/koen/apps/anaconda3/envs/lark/lib/python3.8/site-packages/bravado/http_future.py\", line 334, in unmarshal_response\n",
      "    raise_on_unexpected(incoming_response)\n",
      "  File \"/home/koen/apps/anaconda3/envs/lark/lib/python3.8/site-packages/bravado/http_future.py\", line 408, in raise_on_unexpected\n",
      "    raise make_http_exception(response=http_response)\n",
      "bravado.exception.HTTPBadGateway: 502 Bad Gateway: <html>\n",
      "<head><title>502 Bad Gateway</title></head>\n",
      "<body>\n",
      "<center><h1>502 Bad Gateway</h1></center>\n",
      "<hr><center>nginx</center>\n",
      "</body>\n",
      "</html>\n",
      "\n",
      "Unexpected error in ping thread.\n",
      "Traceback (most recent call last):\n",
      "  File \"/home/koen/apps/anaconda3/envs/lark/lib/python3.8/site-packages/neptune/internal/threads/ping_thread.py\", line 37, in run\n",
      "    self.__backend.ping_experiment(self.__experiment)\n",
      "  File \"/home/koen/apps/anaconda3/envs/lark/lib/python3.8/site-packages/neptune/internal/api_clients/hosted_api_clients/hosted_alpha_leaderboard_api_client.py\", line 382, in ping_experiment\n",
      "    self.leaderboard_swagger_client.api.ping(experimentId=str(experiment.internal_id)).response().result\n",
      "  File \"/home/koen/apps/anaconda3/envs/lark/lib/python3.8/site-packages/bravado/http_future.py\", line 239, in response\n",
      "    six.reraise(*sys.exc_info())\n",
      "  File \"/home/koen/apps/anaconda3/envs/lark/lib/python3.8/site-packages/six.py\", line 703, in reraise\n",
      "    raise value\n",
      "  File \"/home/koen/apps/anaconda3/envs/lark/lib/python3.8/site-packages/bravado/http_future.py\", line 200, in response\n",
      "    swagger_result = self._get_swagger_result(incoming_response)\n",
      "  File \"/home/koen/apps/anaconda3/envs/lark/lib/python3.8/site-packages/bravado/http_future.py\", line 124, in wrapper\n",
      "    return func(self, *args, **kwargs)\n",
      "  File \"/home/koen/apps/anaconda3/envs/lark/lib/python3.8/site-packages/bravado/http_future.py\", line 300, in _get_swagger_result\n",
      "    unmarshal_response(\n",
      "  File \"/home/koen/apps/anaconda3/envs/lark/lib/python3.8/site-packages/bravado/http_future.py\", line 334, in unmarshal_response\n",
      "    raise_on_unexpected(incoming_response)\n",
      "  File \"/home/koen/apps/anaconda3/envs/lark/lib/python3.8/site-packages/bravado/http_future.py\", line 408, in raise_on_unexpected\n",
      "    raise make_http_exception(response=http_response)\n",
      "bravado.exception.HTTPBadGateway: 502 Bad Gateway: <html>\n",
      "<head><title>502 Bad Gateway</title></head>\n",
      "<body>\n",
      "<center><h1>502 Bad Gateway</h1></center>\n",
      "<hr><center>nginx</center>\n",
      "</body>\n",
      "</html>\n",
      "\n",
      "Unexpected error in ping thread.\n",
      "Traceback (most recent call last):\n",
      "  File \"/home/koen/apps/anaconda3/envs/lark/lib/python3.8/site-packages/neptune/internal/threads/ping_thread.py\", line 37, in run\n",
      "    self.__backend.ping_experiment(self.__experiment)\n",
      "  File \"/home/koen/apps/anaconda3/envs/lark/lib/python3.8/site-packages/neptune/internal/api_clients/hosted_api_clients/hosted_alpha_leaderboard_api_client.py\", line 382, in ping_experiment\n",
      "    self.leaderboard_swagger_client.api.ping(experimentId=str(experiment.internal_id)).response().result\n",
      "  File \"/home/koen/apps/anaconda3/envs/lark/lib/python3.8/site-packages/bravado/http_future.py\", line 239, in response\n",
      "    six.reraise(*sys.exc_info())\n",
      "  File \"/home/koen/apps/anaconda3/envs/lark/lib/python3.8/site-packages/six.py\", line 703, in reraise\n",
      "    raise value\n",
      "  File \"/home/koen/apps/anaconda3/envs/lark/lib/python3.8/site-packages/bravado/http_future.py\", line 200, in response\n",
      "    swagger_result = self._get_swagger_result(incoming_response)\n",
      "  File \"/home/koen/apps/anaconda3/envs/lark/lib/python3.8/site-packages/bravado/http_future.py\", line 124, in wrapper\n",
      "    return func(self, *args, **kwargs)\n",
      "  File \"/home/koen/apps/anaconda3/envs/lark/lib/python3.8/site-packages/bravado/http_future.py\", line 300, in _get_swagger_result\n",
      "    unmarshal_response(\n",
      "  File \"/home/koen/apps/anaconda3/envs/lark/lib/python3.8/site-packages/bravado/http_future.py\", line 334, in unmarshal_response\n",
      "    raise_on_unexpected(incoming_response)\n",
      "  File \"/home/koen/apps/anaconda3/envs/lark/lib/python3.8/site-packages/bravado/http_future.py\", line 408, in raise_on_unexpected\n",
      "    raise make_http_exception(response=http_response)\n",
      "bravado.exception.HTTPBadGateway: 502 Bad Gateway: <html>\n",
      "<head><title>502 Bad Gateway</title></head>\n",
      "<body>\n",
      "<center><h1>502 Bad Gateway</h1></center>\n",
      "<hr><center>nginx</center>\n",
      "</body>\n",
      "</html>\n",
      "\n",
      "Unexpected error in ping thread.\n",
      "Traceback (most recent call last):\n",
      "  File \"/home/koen/apps/anaconda3/envs/lark/lib/python3.8/site-packages/neptune/internal/threads/ping_thread.py\", line 37, in run\n",
      "    self.__backend.ping_experiment(self.__experiment)\n",
      "  File \"/home/koen/apps/anaconda3/envs/lark/lib/python3.8/site-packages/neptune/internal/api_clients/hosted_api_clients/hosted_alpha_leaderboard_api_client.py\", line 382, in ping_experiment\n",
      "    self.leaderboard_swagger_client.api.ping(experimentId=str(experiment.internal_id)).response().result\n",
      "  File \"/home/koen/apps/anaconda3/envs/lark/lib/python3.8/site-packages/bravado/http_future.py\", line 239, in response\n",
      "    six.reraise(*sys.exc_info())\n",
      "  File \"/home/koen/apps/anaconda3/envs/lark/lib/python3.8/site-packages/six.py\", line 703, in reraise\n",
      "    raise value\n",
      "  File \"/home/koen/apps/anaconda3/envs/lark/lib/python3.8/site-packages/bravado/http_future.py\", line 200, in response\n",
      "    swagger_result = self._get_swagger_result(incoming_response)\n",
      "  File \"/home/koen/apps/anaconda3/envs/lark/lib/python3.8/site-packages/bravado/http_future.py\", line 124, in wrapper\n",
      "    return func(self, *args, **kwargs)\n",
      "  File \"/home/koen/apps/anaconda3/envs/lark/lib/python3.8/site-packages/bravado/http_future.py\", line 300, in _get_swagger_result\n",
      "    unmarshal_response(\n",
      "  File \"/home/koen/apps/anaconda3/envs/lark/lib/python3.8/site-packages/bravado/http_future.py\", line 334, in unmarshal_response\n",
      "    raise_on_unexpected(incoming_response)\n",
      "  File \"/home/koen/apps/anaconda3/envs/lark/lib/python3.8/site-packages/bravado/http_future.py\", line 408, in raise_on_unexpected\n",
      "    raise make_http_exception(response=http_response)\n",
      "bravado.exception.HTTPBadGateway: 502 Bad Gateway: <html>\n",
      "<head><title>502 Bad Gateway</title></head>\n",
      "<body>\n",
      "<center><h1>502 Bad Gateway</h1></center>\n",
      "<hr><center>nginx</center>\n",
      "</body>\n",
      "</html>\n",
      "\n",
      "Unexpected error in ping thread.\n",
      "Traceback (most recent call last):\n",
      "  File \"/home/koen/apps/anaconda3/envs/lark/lib/python3.8/site-packages/neptune/internal/threads/ping_thread.py\", line 37, in run\n",
      "    self.__backend.ping_experiment(self.__experiment)\n",
      "  File \"/home/koen/apps/anaconda3/envs/lark/lib/python3.8/site-packages/neptune/internal/api_clients/hosted_api_clients/hosted_alpha_leaderboard_api_client.py\", line 382, in ping_experiment\n",
      "    self.leaderboard_swagger_client.api.ping(experimentId=str(experiment.internal_id)).response().result\n",
      "  File \"/home/koen/apps/anaconda3/envs/lark/lib/python3.8/site-packages/bravado/http_future.py\", line 239, in response\n",
      "    six.reraise(*sys.exc_info())\n",
      "  File \"/home/koen/apps/anaconda3/envs/lark/lib/python3.8/site-packages/six.py\", line 703, in reraise\n",
      "    raise value\n",
      "  File \"/home/koen/apps/anaconda3/envs/lark/lib/python3.8/site-packages/bravado/http_future.py\", line 200, in response\n",
      "    swagger_result = self._get_swagger_result(incoming_response)\n",
      "  File \"/home/koen/apps/anaconda3/envs/lark/lib/python3.8/site-packages/bravado/http_future.py\", line 124, in wrapper\n",
      "    return func(self, *args, **kwargs)\n",
      "  File \"/home/koen/apps/anaconda3/envs/lark/lib/python3.8/site-packages/bravado/http_future.py\", line 300, in _get_swagger_result\n",
      "    unmarshal_response(\n",
      "  File \"/home/koen/apps/anaconda3/envs/lark/lib/python3.8/site-packages/bravado/http_future.py\", line 334, in unmarshal_response\n",
      "    raise_on_unexpected(incoming_response)\n",
      "  File \"/home/koen/apps/anaconda3/envs/lark/lib/python3.8/site-packages/bravado/http_future.py\", line 408, in raise_on_unexpected\n",
      "    raise make_http_exception(response=http_response)\n",
      "bravado.exception.HTTPServiceUnavailable: 503 Service Temporarily Unavailable: <html>\n",
      "<head><title>503 Service Temporarily Unavailable</title></head>\n",
      "<body>\n",
      "<center><h1>503 Service Temporarily Unavailable</h1></center>\n",
      "<hr><center>nginx</center>\n",
      "</body>\n",
      "</html>\n",
      "\n",
      "Unexpected error in ping thread.\n",
      "Traceback (most recent call last):\n",
      "  File \"/home/koen/apps/anaconda3/envs/lark/lib/python3.8/site-packages/neptune/internal/threads/ping_thread.py\", line 37, in run\n",
      "    self.__backend.ping_experiment(self.__experiment)\n",
      "  File \"/home/koen/apps/anaconda3/envs/lark/lib/python3.8/site-packages/neptune/internal/api_clients/hosted_api_clients/hosted_alpha_leaderboard_api_client.py\", line 382, in ping_experiment\n",
      "    self.leaderboard_swagger_client.api.ping(experimentId=str(experiment.internal_id)).response().result\n",
      "  File \"/home/koen/apps/anaconda3/envs/lark/lib/python3.8/site-packages/bravado/http_future.py\", line 239, in response\n",
      "    six.reraise(*sys.exc_info())\n",
      "  File \"/home/koen/apps/anaconda3/envs/lark/lib/python3.8/site-packages/six.py\", line 703, in reraise\n",
      "    raise value\n",
      "  File \"/home/koen/apps/anaconda3/envs/lark/lib/python3.8/site-packages/bravado/http_future.py\", line 200, in response\n",
      "    swagger_result = self._get_swagger_result(incoming_response)\n",
      "  File \"/home/koen/apps/anaconda3/envs/lark/lib/python3.8/site-packages/bravado/http_future.py\", line 124, in wrapper\n",
      "    return func(self, *args, **kwargs)\n",
      "  File \"/home/koen/apps/anaconda3/envs/lark/lib/python3.8/site-packages/bravado/http_future.py\", line 300, in _get_swagger_result\n",
      "    unmarshal_response(\n",
      "  File \"/home/koen/apps/anaconda3/envs/lark/lib/python3.8/site-packages/bravado/http_future.py\", line 334, in unmarshal_response\n",
      "    raise_on_unexpected(incoming_response)\n",
      "  File \"/home/koen/apps/anaconda3/envs/lark/lib/python3.8/site-packages/bravado/http_future.py\", line 408, in raise_on_unexpected\n",
      "    raise make_http_exception(response=http_response)\n",
      "bravado.exception.HTTPServiceUnavailable: 503 Service Temporarily Unavailable: <html>\n",
      "<head><title>503 Service Temporarily Unavailable</title></head>\n",
      "<body>\n",
      "<center><h1>503 Service Temporarily Unavailable</h1></center>\n",
      "<hr><center>nginx</center>\n",
      "</body>\n",
      "</html>\n",
      "\n",
      "Unexpected error in ping thread.\n",
      "Traceback (most recent call last):\n",
      "  File \"/home/koen/apps/anaconda3/envs/lark/lib/python3.8/site-packages/neptune/internal/threads/ping_thread.py\", line 37, in run\n",
      "    self.__backend.ping_experiment(self.__experiment)\n",
      "  File \"/home/koen/apps/anaconda3/envs/lark/lib/python3.8/site-packages/neptune/internal/api_clients/hosted_api_clients/hosted_alpha_leaderboard_api_client.py\", line 382, in ping_experiment\n",
      "    self.leaderboard_swagger_client.api.ping(experimentId=str(experiment.internal_id)).response().result\n",
      "  File \"/home/koen/apps/anaconda3/envs/lark/lib/python3.8/site-packages/bravado/http_future.py\", line 239, in response\n",
      "    six.reraise(*sys.exc_info())\n",
      "  File \"/home/koen/apps/anaconda3/envs/lark/lib/python3.8/site-packages/six.py\", line 703, in reraise\n",
      "    raise value\n",
      "  File \"/home/koen/apps/anaconda3/envs/lark/lib/python3.8/site-packages/bravado/http_future.py\", line 200, in response\n",
      "    swagger_result = self._get_swagger_result(incoming_response)\n",
      "  File \"/home/koen/apps/anaconda3/envs/lark/lib/python3.8/site-packages/bravado/http_future.py\", line 124, in wrapper\n",
      "    return func(self, *args, **kwargs)\n",
      "  File \"/home/koen/apps/anaconda3/envs/lark/lib/python3.8/site-packages/bravado/http_future.py\", line 300, in _get_swagger_result\n",
      "    unmarshal_response(\n",
      "  File \"/home/koen/apps/anaconda3/envs/lark/lib/python3.8/site-packages/bravado/http_future.py\", line 334, in unmarshal_response\n",
      "    raise_on_unexpected(incoming_response)\n",
      "  File \"/home/koen/apps/anaconda3/envs/lark/lib/python3.8/site-packages/bravado/http_future.py\", line 408, in raise_on_unexpected\n",
      "    raise make_http_exception(response=http_response)\n",
      "bravado.exception.HTTPServiceUnavailable: 503 Service Temporarily Unavailable: <html>\n",
      "<head><title>503 Service Temporarily Unavailable</title></head>\n",
      "<body>\n",
      "<center><h1>503 Service Temporarily Unavailable</h1></center>\n",
      "<hr><center>nginx</center>\n",
      "</body>\n",
      "</html>\n",
      "\n"
     ]
    },
    {
     "name": "stdout",
     "output_type": "stream",
     "text": [
      "2021-05-07 21:54:41 epoch:  10 train loss: 0.217620 train f1: 0.181537 valid loss: 0.116145 valid f1: 0.117769\n"
     ]
    },
    {
     "data": {
      "application/vnd.jupyter.widget-view+json": {
       "model_id": "",
       "version_major": 2,
       "version_minor": 0
      },
      "text/plain": [
       "  0%|          | 0/672 [00:00<?, ?it/s]"
      ]
     },
     "metadata": {},
     "output_type": "display_data"
    },
    {
     "name": "stderr",
     "output_type": "stream",
     "text": [
      "Unexpected error in ping thread.\n",
      "Traceback (most recent call last):\n",
      "  File \"/home/koen/apps/anaconda3/envs/lark/lib/python3.8/site-packages/neptune/internal/threads/ping_thread.py\", line 37, in run\n",
      "    self.__backend.ping_experiment(self.__experiment)\n",
      "  File \"/home/koen/apps/anaconda3/envs/lark/lib/python3.8/site-packages/neptune/internal/api_clients/hosted_api_clients/hosted_alpha_leaderboard_api_client.py\", line 382, in ping_experiment\n",
      "    self.leaderboard_swagger_client.api.ping(experimentId=str(experiment.internal_id)).response().result\n",
      "  File \"/home/koen/apps/anaconda3/envs/lark/lib/python3.8/site-packages/bravado/http_future.py\", line 239, in response\n",
      "    six.reraise(*sys.exc_info())\n",
      "  File \"/home/koen/apps/anaconda3/envs/lark/lib/python3.8/site-packages/six.py\", line 703, in reraise\n",
      "    raise value\n",
      "  File \"/home/koen/apps/anaconda3/envs/lark/lib/python3.8/site-packages/bravado/http_future.py\", line 200, in response\n",
      "    swagger_result = self._get_swagger_result(incoming_response)\n",
      "  File \"/home/koen/apps/anaconda3/envs/lark/lib/python3.8/site-packages/bravado/http_future.py\", line 124, in wrapper\n",
      "    return func(self, *args, **kwargs)\n",
      "  File \"/home/koen/apps/anaconda3/envs/lark/lib/python3.8/site-packages/bravado/http_future.py\", line 300, in _get_swagger_result\n",
      "    unmarshal_response(\n",
      "  File \"/home/koen/apps/anaconda3/envs/lark/lib/python3.8/site-packages/bravado/http_future.py\", line 334, in unmarshal_response\n",
      "    raise_on_unexpected(incoming_response)\n",
      "  File \"/home/koen/apps/anaconda3/envs/lark/lib/python3.8/site-packages/bravado/http_future.py\", line 408, in raise_on_unexpected\n",
      "    raise make_http_exception(response=http_response)\n",
      "bravado.exception.HTTPServiceUnavailable: 503 Service Temporarily Unavailable: <html>\n",
      "<head><title>503 Service Temporarily Unavailable</title></head>\n",
      "<body>\n",
      "<center><h1>503 Service Temporarily Unavailable</h1></center>\n",
      "<hr><center>nginx</center>\n",
      "</body>\n",
      "</html>\n",
      "\n",
      "Unexpected error in ping thread.\n",
      "Traceback (most recent call last):\n",
      "  File \"/home/koen/apps/anaconda3/envs/lark/lib/python3.8/site-packages/neptune/internal/threads/ping_thread.py\", line 37, in run\n",
      "    self.__backend.ping_experiment(self.__experiment)\n",
      "  File \"/home/koen/apps/anaconda3/envs/lark/lib/python3.8/site-packages/neptune/internal/api_clients/hosted_api_clients/hosted_alpha_leaderboard_api_client.py\", line 382, in ping_experiment\n",
      "    self.leaderboard_swagger_client.api.ping(experimentId=str(experiment.internal_id)).response().result\n",
      "  File \"/home/koen/apps/anaconda3/envs/lark/lib/python3.8/site-packages/bravado/http_future.py\", line 239, in response\n",
      "    six.reraise(*sys.exc_info())\n",
      "  File \"/home/koen/apps/anaconda3/envs/lark/lib/python3.8/site-packages/six.py\", line 703, in reraise\n",
      "    raise value\n",
      "  File \"/home/koen/apps/anaconda3/envs/lark/lib/python3.8/site-packages/bravado/http_future.py\", line 200, in response\n",
      "    swagger_result = self._get_swagger_result(incoming_response)\n",
      "  File \"/home/koen/apps/anaconda3/envs/lark/lib/python3.8/site-packages/bravado/http_future.py\", line 124, in wrapper\n",
      "    return func(self, *args, **kwargs)\n",
      "  File \"/home/koen/apps/anaconda3/envs/lark/lib/python3.8/site-packages/bravado/http_future.py\", line 300, in _get_swagger_result\n",
      "    unmarshal_response(\n",
      "  File \"/home/koen/apps/anaconda3/envs/lark/lib/python3.8/site-packages/bravado/http_future.py\", line 334, in unmarshal_response\n",
      "    raise_on_unexpected(incoming_response)\n",
      "  File \"/home/koen/apps/anaconda3/envs/lark/lib/python3.8/site-packages/bravado/http_future.py\", line 408, in raise_on_unexpected\n",
      "    raise make_http_exception(response=http_response)\n",
      "bravado.exception.HTTPServiceUnavailable: 503 Service Temporarily Unavailable: <html>\n",
      "<head><title>503 Service Temporarily Unavailable</title></head>\n",
      "<body>\n",
      "<center><h1>503 Service Temporarily Unavailable</h1></center>\n",
      "<hr><center>nginx</center>\n",
      "</body>\n",
      "</html>\n",
      "\n",
      "Unexpected error in ping thread.\n",
      "Traceback (most recent call last):\n",
      "  File \"/home/koen/apps/anaconda3/envs/lark/lib/python3.8/site-packages/neptune/internal/threads/ping_thread.py\", line 37, in run\n",
      "    self.__backend.ping_experiment(self.__experiment)\n",
      "  File \"/home/koen/apps/anaconda3/envs/lark/lib/python3.8/site-packages/neptune/internal/api_clients/hosted_api_clients/hosted_alpha_leaderboard_api_client.py\", line 382, in ping_experiment\n",
      "    self.leaderboard_swagger_client.api.ping(experimentId=str(experiment.internal_id)).response().result\n",
      "  File \"/home/koen/apps/anaconda3/envs/lark/lib/python3.8/site-packages/bravado/http_future.py\", line 239, in response\n",
      "    six.reraise(*sys.exc_info())\n",
      "  File \"/home/koen/apps/anaconda3/envs/lark/lib/python3.8/site-packages/six.py\", line 703, in reraise\n",
      "    raise value\n",
      "  File \"/home/koen/apps/anaconda3/envs/lark/lib/python3.8/site-packages/bravado/http_future.py\", line 200, in response\n",
      "    swagger_result = self._get_swagger_result(incoming_response)\n",
      "  File \"/home/koen/apps/anaconda3/envs/lark/lib/python3.8/site-packages/bravado/http_future.py\", line 124, in wrapper\n",
      "    return func(self, *args, **kwargs)\n",
      "  File \"/home/koen/apps/anaconda3/envs/lark/lib/python3.8/site-packages/bravado/http_future.py\", line 300, in _get_swagger_result\n",
      "    unmarshal_response(\n",
      "  File \"/home/koen/apps/anaconda3/envs/lark/lib/python3.8/site-packages/bravado/http_future.py\", line 334, in unmarshal_response\n",
      "    raise_on_unexpected(incoming_response)\n",
      "  File \"/home/koen/apps/anaconda3/envs/lark/lib/python3.8/site-packages/bravado/http_future.py\", line 408, in raise_on_unexpected\n",
      "    raise make_http_exception(response=http_response)\n",
      "bravado.exception.HTTPServiceUnavailable: 503 Service Temporarily Unavailable: <html>\n",
      "<head><title>503 Service Temporarily Unavailable</title></head>\n",
      "<body>\n",
      "<center><h1>503 Service Temporarily Unavailable</h1></center>\n",
      "<hr><center>nginx</center>\n",
      "</body>\n",
      "</html>\n",
      "\n",
      "Unexpected error in ping thread.\n",
      "Traceback (most recent call last):\n",
      "  File \"/home/koen/apps/anaconda3/envs/lark/lib/python3.8/site-packages/neptune/internal/threads/ping_thread.py\", line 37, in run\n",
      "    self.__backend.ping_experiment(self.__experiment)\n",
      "  File \"/home/koen/apps/anaconda3/envs/lark/lib/python3.8/site-packages/neptune/internal/api_clients/hosted_api_clients/hosted_alpha_leaderboard_api_client.py\", line 382, in ping_experiment\n",
      "    self.leaderboard_swagger_client.api.ping(experimentId=str(experiment.internal_id)).response().result\n",
      "  File \"/home/koen/apps/anaconda3/envs/lark/lib/python3.8/site-packages/bravado/http_future.py\", line 239, in response\n",
      "    six.reraise(*sys.exc_info())\n",
      "  File \"/home/koen/apps/anaconda3/envs/lark/lib/python3.8/site-packages/six.py\", line 703, in reraise\n",
      "    raise value\n",
      "  File \"/home/koen/apps/anaconda3/envs/lark/lib/python3.8/site-packages/bravado/http_future.py\", line 200, in response\n",
      "    swagger_result = self._get_swagger_result(incoming_response)\n",
      "  File \"/home/koen/apps/anaconda3/envs/lark/lib/python3.8/site-packages/bravado/http_future.py\", line 124, in wrapper\n",
      "    return func(self, *args, **kwargs)\n",
      "  File \"/home/koen/apps/anaconda3/envs/lark/lib/python3.8/site-packages/bravado/http_future.py\", line 300, in _get_swagger_result\n",
      "    unmarshal_response(\n",
      "  File \"/home/koen/apps/anaconda3/envs/lark/lib/python3.8/site-packages/bravado/http_future.py\", line 334, in unmarshal_response\n",
      "    raise_on_unexpected(incoming_response)\n",
      "  File \"/home/koen/apps/anaconda3/envs/lark/lib/python3.8/site-packages/bravado/http_future.py\", line 408, in raise_on_unexpected\n",
      "    raise make_http_exception(response=http_response)\n",
      "bravado.exception.HTTPServiceUnavailable: 503 Service Temporarily Unavailable: <html>\n",
      "<head><title>503 Service Temporarily Unavailable</title></head>\n",
      "<body>\n",
      "<center><h1>503 Service Temporarily Unavailable</h1></center>\n",
      "<hr><center>nginx</center>\n",
      "</body>\n",
      "</html>\n",
      "\n",
      "Unexpected error in ping thread.\n",
      "Traceback (most recent call last):\n",
      "  File \"/home/koen/apps/anaconda3/envs/lark/lib/python3.8/site-packages/neptune/internal/threads/ping_thread.py\", line 37, in run\n",
      "    self.__backend.ping_experiment(self.__experiment)\n",
      "  File \"/home/koen/apps/anaconda3/envs/lark/lib/python3.8/site-packages/neptune/internal/api_clients/hosted_api_clients/hosted_alpha_leaderboard_api_client.py\", line 382, in ping_experiment\n",
      "    self.leaderboard_swagger_client.api.ping(experimentId=str(experiment.internal_id)).response().result\n",
      "  File \"/home/koen/apps/anaconda3/envs/lark/lib/python3.8/site-packages/bravado/http_future.py\", line 239, in response\n",
      "    six.reraise(*sys.exc_info())\n",
      "  File \"/home/koen/apps/anaconda3/envs/lark/lib/python3.8/site-packages/six.py\", line 703, in reraise\n",
      "    raise value\n",
      "  File \"/home/koen/apps/anaconda3/envs/lark/lib/python3.8/site-packages/bravado/http_future.py\", line 200, in response\n",
      "    swagger_result = self._get_swagger_result(incoming_response)\n",
      "  File \"/home/koen/apps/anaconda3/envs/lark/lib/python3.8/site-packages/bravado/http_future.py\", line 124, in wrapper\n",
      "    return func(self, *args, **kwargs)\n",
      "  File \"/home/koen/apps/anaconda3/envs/lark/lib/python3.8/site-packages/bravado/http_future.py\", line 300, in _get_swagger_result\n",
      "    unmarshal_response(\n",
      "  File \"/home/koen/apps/anaconda3/envs/lark/lib/python3.8/site-packages/bravado/http_future.py\", line 334, in unmarshal_response\n",
      "    raise_on_unexpected(incoming_response)\n",
      "  File \"/home/koen/apps/anaconda3/envs/lark/lib/python3.8/site-packages/bravado/http_future.py\", line 408, in raise_on_unexpected\n",
      "    raise make_http_exception(response=http_response)\n",
      "bravado.exception.HTTPServiceUnavailable: 503 Service Temporarily Unavailable: <html>\n",
      "<head><title>503 Service Temporarily Unavailable</title></head>\n",
      "<body>\n",
      "<center><h1>503 Service Temporarily Unavailable</h1></center>\n",
      "<hr><center>nginx</center>\n",
      "</body>\n",
      "</html>\n",
      "\n",
      "Unexpected error in ping thread.\n",
      "Traceback (most recent call last):\n",
      "  File \"/home/koen/apps/anaconda3/envs/lark/lib/python3.8/site-packages/neptune/internal/threads/ping_thread.py\", line 37, in run\n",
      "    self.__backend.ping_experiment(self.__experiment)\n",
      "  File \"/home/koen/apps/anaconda3/envs/lark/lib/python3.8/site-packages/neptune/internal/api_clients/hosted_api_clients/hosted_alpha_leaderboard_api_client.py\", line 382, in ping_experiment\n",
      "    self.leaderboard_swagger_client.api.ping(experimentId=str(experiment.internal_id)).response().result\n",
      "  File \"/home/koen/apps/anaconda3/envs/lark/lib/python3.8/site-packages/bravado/http_future.py\", line 239, in response\n",
      "    six.reraise(*sys.exc_info())\n",
      "  File \"/home/koen/apps/anaconda3/envs/lark/lib/python3.8/site-packages/six.py\", line 703, in reraise\n",
      "    raise value\n",
      "  File \"/home/koen/apps/anaconda3/envs/lark/lib/python3.8/site-packages/bravado/http_future.py\", line 200, in response\n",
      "    swagger_result = self._get_swagger_result(incoming_response)\n",
      "  File \"/home/koen/apps/anaconda3/envs/lark/lib/python3.8/site-packages/bravado/http_future.py\", line 124, in wrapper\n",
      "    return func(self, *args, **kwargs)\n",
      "  File \"/home/koen/apps/anaconda3/envs/lark/lib/python3.8/site-packages/bravado/http_future.py\", line 300, in _get_swagger_result\n",
      "    unmarshal_response(\n",
      "  File \"/home/koen/apps/anaconda3/envs/lark/lib/python3.8/site-packages/bravado/http_future.py\", line 334, in unmarshal_response\n",
      "    raise_on_unexpected(incoming_response)\n",
      "  File \"/home/koen/apps/anaconda3/envs/lark/lib/python3.8/site-packages/bravado/http_future.py\", line 408, in raise_on_unexpected\n",
      "    raise make_http_exception(response=http_response)\n",
      "bravado.exception.HTTPServiceUnavailable: 503 Service Temporarily Unavailable: <html>\n",
      "<head><title>503 Service Temporarily Unavailable</title></head>\n",
      "<body>\n",
      "<center><h1>503 Service Temporarily Unavailable</h1></center>\n",
      "<hr><center>nginx</center>\n",
      "</body>\n",
      "</html>\n",
      "\n",
      "Unexpected error in ping thread.\n",
      "Traceback (most recent call last):\n",
      "  File \"/home/koen/apps/anaconda3/envs/lark/lib/python3.8/site-packages/neptune/internal/threads/ping_thread.py\", line 37, in run\n",
      "    self.__backend.ping_experiment(self.__experiment)\n",
      "  File \"/home/koen/apps/anaconda3/envs/lark/lib/python3.8/site-packages/neptune/internal/api_clients/hosted_api_clients/hosted_alpha_leaderboard_api_client.py\", line 382, in ping_experiment\n",
      "    self.leaderboard_swagger_client.api.ping(experimentId=str(experiment.internal_id)).response().result\n",
      "  File \"/home/koen/apps/anaconda3/envs/lark/lib/python3.8/site-packages/bravado/http_future.py\", line 239, in response\n",
      "    six.reraise(*sys.exc_info())\n",
      "  File \"/home/koen/apps/anaconda3/envs/lark/lib/python3.8/site-packages/six.py\", line 703, in reraise\n",
      "    raise value\n",
      "  File \"/home/koen/apps/anaconda3/envs/lark/lib/python3.8/site-packages/bravado/http_future.py\", line 200, in response\n",
      "    swagger_result = self._get_swagger_result(incoming_response)\n",
      "  File \"/home/koen/apps/anaconda3/envs/lark/lib/python3.8/site-packages/bravado/http_future.py\", line 124, in wrapper\n",
      "    return func(self, *args, **kwargs)\n",
      "  File \"/home/koen/apps/anaconda3/envs/lark/lib/python3.8/site-packages/bravado/http_future.py\", line 300, in _get_swagger_result\n",
      "    unmarshal_response(\n",
      "  File \"/home/koen/apps/anaconda3/envs/lark/lib/python3.8/site-packages/bravado/http_future.py\", line 334, in unmarshal_response\n",
      "    raise_on_unexpected(incoming_response)\n",
      "  File \"/home/koen/apps/anaconda3/envs/lark/lib/python3.8/site-packages/bravado/http_future.py\", line 408, in raise_on_unexpected\n",
      "    raise make_http_exception(response=http_response)\n",
      "bravado.exception.HTTPServiceUnavailable: 503 Service Temporarily Unavailable: <html>\n",
      "<head><title>503 Service Temporarily Unavailable</title></head>\n",
      "<body>\n",
      "<center><h1>503 Service Temporarily Unavailable</h1></center>\n",
      "<hr><center>nginx</center>\n",
      "</body>\n",
      "</html>\n",
      "\n",
      "Unexpected error in ping thread.\n",
      "Traceback (most recent call last):\n",
      "  File \"/home/koen/apps/anaconda3/envs/lark/lib/python3.8/site-packages/neptune/internal/threads/ping_thread.py\", line 37, in run\n",
      "    self.__backend.ping_experiment(self.__experiment)\n",
      "  File \"/home/koen/apps/anaconda3/envs/lark/lib/python3.8/site-packages/neptune/internal/api_clients/hosted_api_clients/hosted_alpha_leaderboard_api_client.py\", line 382, in ping_experiment\n",
      "    self.leaderboard_swagger_client.api.ping(experimentId=str(experiment.internal_id)).response().result\n",
      "  File \"/home/koen/apps/anaconda3/envs/lark/lib/python3.8/site-packages/bravado/http_future.py\", line 239, in response\n",
      "    six.reraise(*sys.exc_info())\n",
      "  File \"/home/koen/apps/anaconda3/envs/lark/lib/python3.8/site-packages/six.py\", line 703, in reraise\n",
      "    raise value\n",
      "  File \"/home/koen/apps/anaconda3/envs/lark/lib/python3.8/site-packages/bravado/http_future.py\", line 200, in response\n",
      "    swagger_result = self._get_swagger_result(incoming_response)\n",
      "  File \"/home/koen/apps/anaconda3/envs/lark/lib/python3.8/site-packages/bravado/http_future.py\", line 124, in wrapper\n",
      "    return func(self, *args, **kwargs)\n",
      "  File \"/home/koen/apps/anaconda3/envs/lark/lib/python3.8/site-packages/bravado/http_future.py\", line 300, in _get_swagger_result\n",
      "    unmarshal_response(\n",
      "  File \"/home/koen/apps/anaconda3/envs/lark/lib/python3.8/site-packages/bravado/http_future.py\", line 334, in unmarshal_response\n",
      "    raise_on_unexpected(incoming_response)\n",
      "  File \"/home/koen/apps/anaconda3/envs/lark/lib/python3.8/site-packages/bravado/http_future.py\", line 408, in raise_on_unexpected\n",
      "    raise make_http_exception(response=http_response)\n",
      "bravado.exception.HTTPServiceUnavailable: 503 Service Temporarily Unavailable: <html>\n",
      "<head><title>503 Service Temporarily Unavailable</title></head>\n",
      "<body>\n",
      "<center><h1>503 Service Temporarily Unavailable</h1></center>\n",
      "<hr><center>nginx</center>\n",
      "</body>\n",
      "</html>\n",
      "\n",
      "Unexpected error in ping thread.\n",
      "Traceback (most recent call last):\n",
      "  File \"/home/koen/apps/anaconda3/envs/lark/lib/python3.8/site-packages/neptune/internal/threads/ping_thread.py\", line 37, in run\n",
      "    self.__backend.ping_experiment(self.__experiment)\n",
      "  File \"/home/koen/apps/anaconda3/envs/lark/lib/python3.8/site-packages/neptune/internal/api_clients/hosted_api_clients/hosted_alpha_leaderboard_api_client.py\", line 382, in ping_experiment\n",
      "    self.leaderboard_swagger_client.api.ping(experimentId=str(experiment.internal_id)).response().result\n",
      "  File \"/home/koen/apps/anaconda3/envs/lark/lib/python3.8/site-packages/bravado/http_future.py\", line 239, in response\n",
      "    six.reraise(*sys.exc_info())\n",
      "  File \"/home/koen/apps/anaconda3/envs/lark/lib/python3.8/site-packages/six.py\", line 703, in reraise\n",
      "    raise value\n",
      "  File \"/home/koen/apps/anaconda3/envs/lark/lib/python3.8/site-packages/bravado/http_future.py\", line 200, in response\n",
      "    swagger_result = self._get_swagger_result(incoming_response)\n",
      "  File \"/home/koen/apps/anaconda3/envs/lark/lib/python3.8/site-packages/bravado/http_future.py\", line 124, in wrapper\n",
      "    return func(self, *args, **kwargs)\n",
      "  File \"/home/koen/apps/anaconda3/envs/lark/lib/python3.8/site-packages/bravado/http_future.py\", line 300, in _get_swagger_result\n",
      "    unmarshal_response(\n",
      "  File \"/home/koen/apps/anaconda3/envs/lark/lib/python3.8/site-packages/bravado/http_future.py\", line 334, in unmarshal_response\n",
      "    raise_on_unexpected(incoming_response)\n",
      "  File \"/home/koen/apps/anaconda3/envs/lark/lib/python3.8/site-packages/bravado/http_future.py\", line 408, in raise_on_unexpected\n",
      "    raise make_http_exception(response=http_response)\n",
      "bravado.exception.HTTPServiceUnavailable: 503 Service Temporarily Unavailable: <html>\n",
      "<head><title>503 Service Temporarily Unavailable</title></head>\n",
      "<body>\n",
      "<center><h1>503 Service Temporarily Unavailable</h1></center>\n",
      "<hr><center>nginx</center>\n",
      "</body>\n",
      "</html>\n",
      "\n",
      "Unexpected error in ping thread.\n",
      "Traceback (most recent call last):\n",
      "  File \"/home/koen/apps/anaconda3/envs/lark/lib/python3.8/site-packages/neptune/internal/threads/ping_thread.py\", line 37, in run\n",
      "    self.__backend.ping_experiment(self.__experiment)\n",
      "  File \"/home/koen/apps/anaconda3/envs/lark/lib/python3.8/site-packages/neptune/internal/api_clients/hosted_api_clients/hosted_alpha_leaderboard_api_client.py\", line 382, in ping_experiment\n",
      "    self.leaderboard_swagger_client.api.ping(experimentId=str(experiment.internal_id)).response().result\n",
      "  File \"/home/koen/apps/anaconda3/envs/lark/lib/python3.8/site-packages/bravado/http_future.py\", line 239, in response\n",
      "    six.reraise(*sys.exc_info())\n",
      "  File \"/home/koen/apps/anaconda3/envs/lark/lib/python3.8/site-packages/six.py\", line 703, in reraise\n",
      "    raise value\n",
      "  File \"/home/koen/apps/anaconda3/envs/lark/lib/python3.8/site-packages/bravado/http_future.py\", line 200, in response\n",
      "    swagger_result = self._get_swagger_result(incoming_response)\n",
      "  File \"/home/koen/apps/anaconda3/envs/lark/lib/python3.8/site-packages/bravado/http_future.py\", line 124, in wrapper\n",
      "    return func(self, *args, **kwargs)\n",
      "  File \"/home/koen/apps/anaconda3/envs/lark/lib/python3.8/site-packages/bravado/http_future.py\", line 300, in _get_swagger_result\n",
      "    unmarshal_response(\n",
      "  File \"/home/koen/apps/anaconda3/envs/lark/lib/python3.8/site-packages/bravado/http_future.py\", line 334, in unmarshal_response\n",
      "    raise_on_unexpected(incoming_response)\n",
      "  File \"/home/koen/apps/anaconda3/envs/lark/lib/python3.8/site-packages/bravado/http_future.py\", line 408, in raise_on_unexpected\n",
      "    raise make_http_exception(response=http_response)\n",
      "bravado.exception.HTTPServiceUnavailable: 503 Service Temporarily Unavailable: <html>\n",
      "<head><title>503 Service Temporarily Unavailable</title></head>\n",
      "<body>\n",
      "<center><h1>503 Service Temporarily Unavailable</h1></center>\n",
      "<hr><center>nginx</center>\n",
      "</body>\n",
      "</html>\n",
      "\n",
      "Unexpected error in ping thread.\n",
      "Traceback (most recent call last):\n",
      "  File \"/home/koen/apps/anaconda3/envs/lark/lib/python3.8/site-packages/neptune/internal/threads/ping_thread.py\", line 37, in run\n",
      "    self.__backend.ping_experiment(self.__experiment)\n",
      "  File \"/home/koen/apps/anaconda3/envs/lark/lib/python3.8/site-packages/neptune/internal/api_clients/hosted_api_clients/hosted_alpha_leaderboard_api_client.py\", line 382, in ping_experiment\n",
      "    self.leaderboard_swagger_client.api.ping(experimentId=str(experiment.internal_id)).response().result\n",
      "  File \"/home/koen/apps/anaconda3/envs/lark/lib/python3.8/site-packages/bravado/http_future.py\", line 239, in response\n",
      "    six.reraise(*sys.exc_info())\n",
      "  File \"/home/koen/apps/anaconda3/envs/lark/lib/python3.8/site-packages/six.py\", line 703, in reraise\n",
      "    raise value\n",
      "  File \"/home/koen/apps/anaconda3/envs/lark/lib/python3.8/site-packages/bravado/http_future.py\", line 200, in response\n",
      "    swagger_result = self._get_swagger_result(incoming_response)\n",
      "  File \"/home/koen/apps/anaconda3/envs/lark/lib/python3.8/site-packages/bravado/http_future.py\", line 124, in wrapper\n",
      "    return func(self, *args, **kwargs)\n",
      "  File \"/home/koen/apps/anaconda3/envs/lark/lib/python3.8/site-packages/bravado/http_future.py\", line 300, in _get_swagger_result\n",
      "    unmarshal_response(\n",
      "  File \"/home/koen/apps/anaconda3/envs/lark/lib/python3.8/site-packages/bravado/http_future.py\", line 334, in unmarshal_response\n",
      "    raise_on_unexpected(incoming_response)\n",
      "  File \"/home/koen/apps/anaconda3/envs/lark/lib/python3.8/site-packages/bravado/http_future.py\", line 408, in raise_on_unexpected\n",
      "    raise make_http_exception(response=http_response)\n",
      "bravado.exception.HTTPServiceUnavailable: 503 Service Temporarily Unavailable: <html>\n",
      "<head><title>503 Service Temporarily Unavailable</title></head>\n",
      "<body>\n",
      "<center><h1>503 Service Temporarily Unavailable</h1></center>\n",
      "<hr><center>nginx</center>\n",
      "</body>\n",
      "</html>\n",
      "\n",
      "Unexpected error in ping thread.\n",
      "Traceback (most recent call last):\n",
      "  File \"/home/koen/apps/anaconda3/envs/lark/lib/python3.8/site-packages/neptune/internal/threads/ping_thread.py\", line 37, in run\n",
      "    self.__backend.ping_experiment(self.__experiment)\n",
      "  File \"/home/koen/apps/anaconda3/envs/lark/lib/python3.8/site-packages/neptune/internal/api_clients/hosted_api_clients/hosted_alpha_leaderboard_api_client.py\", line 382, in ping_experiment\n",
      "    self.leaderboard_swagger_client.api.ping(experimentId=str(experiment.internal_id)).response().result\n",
      "  File \"/home/koen/apps/anaconda3/envs/lark/lib/python3.8/site-packages/bravado/http_future.py\", line 239, in response\n",
      "    six.reraise(*sys.exc_info())\n",
      "  File \"/home/koen/apps/anaconda3/envs/lark/lib/python3.8/site-packages/six.py\", line 703, in reraise\n",
      "    raise value\n",
      "  File \"/home/koen/apps/anaconda3/envs/lark/lib/python3.8/site-packages/bravado/http_future.py\", line 200, in response\n",
      "    swagger_result = self._get_swagger_result(incoming_response)\n",
      "  File \"/home/koen/apps/anaconda3/envs/lark/lib/python3.8/site-packages/bravado/http_future.py\", line 124, in wrapper\n",
      "    return func(self, *args, **kwargs)\n",
      "  File \"/home/koen/apps/anaconda3/envs/lark/lib/python3.8/site-packages/bravado/http_future.py\", line 300, in _get_swagger_result\n",
      "    unmarshal_response(\n",
      "  File \"/home/koen/apps/anaconda3/envs/lark/lib/python3.8/site-packages/bravado/http_future.py\", line 334, in unmarshal_response\n",
      "    raise_on_unexpected(incoming_response)\n",
      "  File \"/home/koen/apps/anaconda3/envs/lark/lib/python3.8/site-packages/bravado/http_future.py\", line 408, in raise_on_unexpected\n",
      "    raise make_http_exception(response=http_response)\n",
      "bravado.exception.HTTPServiceUnavailable: 503 Service Temporarily Unavailable: <html>\n",
      "<head><title>503 Service Temporarily Unavailable</title></head>\n",
      "<body>\n",
      "<center><h1>503 Service Temporarily Unavailable</h1></center>\n",
      "<hr><center>nginx</center>\n",
      "</body>\n",
      "</html>\n",
      "\n",
      "Unexpected error in ping thread.\n",
      "Traceback (most recent call last):\n",
      "  File \"/home/koen/apps/anaconda3/envs/lark/lib/python3.8/site-packages/neptune/internal/threads/ping_thread.py\", line 37, in run\n",
      "    self.__backend.ping_experiment(self.__experiment)\n",
      "  File \"/home/koen/apps/anaconda3/envs/lark/lib/python3.8/site-packages/neptune/internal/api_clients/hosted_api_clients/hosted_alpha_leaderboard_api_client.py\", line 382, in ping_experiment\n",
      "    self.leaderboard_swagger_client.api.ping(experimentId=str(experiment.internal_id)).response().result\n",
      "  File \"/home/koen/apps/anaconda3/envs/lark/lib/python3.8/site-packages/bravado/http_future.py\", line 239, in response\n",
      "    six.reraise(*sys.exc_info())\n",
      "  File \"/home/koen/apps/anaconda3/envs/lark/lib/python3.8/site-packages/six.py\", line 703, in reraise\n",
      "    raise value\n",
      "  File \"/home/koen/apps/anaconda3/envs/lark/lib/python3.8/site-packages/bravado/http_future.py\", line 200, in response\n",
      "    swagger_result = self._get_swagger_result(incoming_response)\n",
      "  File \"/home/koen/apps/anaconda3/envs/lark/lib/python3.8/site-packages/bravado/http_future.py\", line 124, in wrapper\n",
      "    return func(self, *args, **kwargs)\n",
      "  File \"/home/koen/apps/anaconda3/envs/lark/lib/python3.8/site-packages/bravado/http_future.py\", line 300, in _get_swagger_result\n",
      "    unmarshal_response(\n",
      "  File \"/home/koen/apps/anaconda3/envs/lark/lib/python3.8/site-packages/bravado/http_future.py\", line 334, in unmarshal_response\n",
      "    raise_on_unexpected(incoming_response)\n",
      "  File \"/home/koen/apps/anaconda3/envs/lark/lib/python3.8/site-packages/bravado/http_future.py\", line 408, in raise_on_unexpected\n",
      "    raise make_http_exception(response=http_response)\n",
      "bravado.exception.HTTPServiceUnavailable: 503 Service Temporarily Unavailable: <html>\n",
      "<head><title>503 Service Temporarily Unavailable</title></head>\n",
      "<body>\n",
      "<center><h1>503 Service Temporarily Unavailable</h1></center>\n",
      "<hr><center>nginx</center>\n",
      "</body>\n",
      "</html>\n",
      "\n",
      "Unexpected error in ping thread.\n",
      "Traceback (most recent call last):\n",
      "  File \"/home/koen/apps/anaconda3/envs/lark/lib/python3.8/site-packages/neptune/internal/threads/ping_thread.py\", line 37, in run\n",
      "    self.__backend.ping_experiment(self.__experiment)\n",
      "  File \"/home/koen/apps/anaconda3/envs/lark/lib/python3.8/site-packages/neptune/internal/api_clients/hosted_api_clients/hosted_alpha_leaderboard_api_client.py\", line 382, in ping_experiment\n",
      "    self.leaderboard_swagger_client.api.ping(experimentId=str(experiment.internal_id)).response().result\n",
      "  File \"/home/koen/apps/anaconda3/envs/lark/lib/python3.8/site-packages/bravado/http_future.py\", line 239, in response\n",
      "    six.reraise(*sys.exc_info())\n",
      "  File \"/home/koen/apps/anaconda3/envs/lark/lib/python3.8/site-packages/six.py\", line 703, in reraise\n",
      "    raise value\n",
      "  File \"/home/koen/apps/anaconda3/envs/lark/lib/python3.8/site-packages/bravado/http_future.py\", line 200, in response\n",
      "    swagger_result = self._get_swagger_result(incoming_response)\n",
      "  File \"/home/koen/apps/anaconda3/envs/lark/lib/python3.8/site-packages/bravado/http_future.py\", line 124, in wrapper\n",
      "    return func(self, *args, **kwargs)\n",
      "  File \"/home/koen/apps/anaconda3/envs/lark/lib/python3.8/site-packages/bravado/http_future.py\", line 300, in _get_swagger_result\n",
      "    unmarshal_response(\n",
      "  File \"/home/koen/apps/anaconda3/envs/lark/lib/python3.8/site-packages/bravado/http_future.py\", line 334, in unmarshal_response\n",
      "    raise_on_unexpected(incoming_response)\n",
      "  File \"/home/koen/apps/anaconda3/envs/lark/lib/python3.8/site-packages/bravado/http_future.py\", line 408, in raise_on_unexpected\n",
      "    raise make_http_exception(response=http_response)\n",
      "bravado.exception.HTTPServiceUnavailable: 503 Service Temporarily Unavailable: <html>\n",
      "<head><title>503 Service Temporarily Unavailable</title></head>\n",
      "<body>\n",
      "<center><h1>503 Service Temporarily Unavailable</h1></center>\n",
      "<hr><center>nginx</center>\n",
      "</body>\n",
      "</html>\n",
      "\n",
      "Unexpected error in ping thread.\n",
      "Traceback (most recent call last):\n",
      "  File \"/home/koen/apps/anaconda3/envs/lark/lib/python3.8/site-packages/neptune/internal/threads/ping_thread.py\", line 37, in run\n",
      "    self.__backend.ping_experiment(self.__experiment)\n",
      "  File \"/home/koen/apps/anaconda3/envs/lark/lib/python3.8/site-packages/neptune/internal/api_clients/hosted_api_clients/hosted_alpha_leaderboard_api_client.py\", line 382, in ping_experiment\n",
      "    self.leaderboard_swagger_client.api.ping(experimentId=str(experiment.internal_id)).response().result\n",
      "  File \"/home/koen/apps/anaconda3/envs/lark/lib/python3.8/site-packages/bravado/http_future.py\", line 239, in response\n",
      "    six.reraise(*sys.exc_info())\n",
      "  File \"/home/koen/apps/anaconda3/envs/lark/lib/python3.8/site-packages/six.py\", line 703, in reraise\n",
      "    raise value\n",
      "  File \"/home/koen/apps/anaconda3/envs/lark/lib/python3.8/site-packages/bravado/http_future.py\", line 200, in response\n",
      "    swagger_result = self._get_swagger_result(incoming_response)\n",
      "  File \"/home/koen/apps/anaconda3/envs/lark/lib/python3.8/site-packages/bravado/http_future.py\", line 124, in wrapper\n",
      "    return func(self, *args, **kwargs)\n",
      "  File \"/home/koen/apps/anaconda3/envs/lark/lib/python3.8/site-packages/bravado/http_future.py\", line 300, in _get_swagger_result\n",
      "    unmarshal_response(\n",
      "  File \"/home/koen/apps/anaconda3/envs/lark/lib/python3.8/site-packages/bravado/http_future.py\", line 334, in unmarshal_response\n",
      "    raise_on_unexpected(incoming_response)\n",
      "  File \"/home/koen/apps/anaconda3/envs/lark/lib/python3.8/site-packages/bravado/http_future.py\", line 408, in raise_on_unexpected\n",
      "    raise make_http_exception(response=http_response)\n",
      "bravado.exception.HTTPServiceUnavailable: 503 Service Temporarily Unavailable: <html>\n",
      "<head><title>503 Service Temporarily Unavailable</title></head>\n",
      "<body>\n",
      "<center><h1>503 Service Temporarily Unavailable</h1></center>\n",
      "<hr><center>nginx</center>\n",
      "</body>\n",
      "</html>\n",
      "\n",
      "Unexpected error in ping thread.\n",
      "Traceback (most recent call last):\n",
      "  File \"/home/koen/apps/anaconda3/envs/lark/lib/python3.8/site-packages/neptune/internal/threads/ping_thread.py\", line 37, in run\n",
      "    self.__backend.ping_experiment(self.__experiment)\n",
      "  File \"/home/koen/apps/anaconda3/envs/lark/lib/python3.8/site-packages/neptune/internal/api_clients/hosted_api_clients/hosted_alpha_leaderboard_api_client.py\", line 382, in ping_experiment\n",
      "    self.leaderboard_swagger_client.api.ping(experimentId=str(experiment.internal_id)).response().result\n",
      "  File \"/home/koen/apps/anaconda3/envs/lark/lib/python3.8/site-packages/bravado/http_future.py\", line 239, in response\n",
      "    six.reraise(*sys.exc_info())\n",
      "  File \"/home/koen/apps/anaconda3/envs/lark/lib/python3.8/site-packages/six.py\", line 703, in reraise\n",
      "    raise value\n",
      "  File \"/home/koen/apps/anaconda3/envs/lark/lib/python3.8/site-packages/bravado/http_future.py\", line 200, in response\n",
      "    swagger_result = self._get_swagger_result(incoming_response)\n",
      "  File \"/home/koen/apps/anaconda3/envs/lark/lib/python3.8/site-packages/bravado/http_future.py\", line 124, in wrapper\n",
      "    return func(self, *args, **kwargs)\n",
      "  File \"/home/koen/apps/anaconda3/envs/lark/lib/python3.8/site-packages/bravado/http_future.py\", line 300, in _get_swagger_result\n",
      "    unmarshal_response(\n",
      "  File \"/home/koen/apps/anaconda3/envs/lark/lib/python3.8/site-packages/bravado/http_future.py\", line 334, in unmarshal_response\n",
      "    raise_on_unexpected(incoming_response)\n",
      "  File \"/home/koen/apps/anaconda3/envs/lark/lib/python3.8/site-packages/bravado/http_future.py\", line 408, in raise_on_unexpected\n",
      "    raise make_http_exception(response=http_response)\n",
      "bravado.exception.HTTPServiceUnavailable: 503 Service Temporarily Unavailable: <html>\n",
      "<head><title>503 Service Temporarily Unavailable</title></head>\n",
      "<body>\n",
      "<center><h1>503 Service Temporarily Unavailable</h1></center>\n",
      "<hr><center>nginx</center>\n",
      "</body>\n",
      "</html>\n",
      "\n",
      "Unexpected error in ping thread.\n",
      "Traceback (most recent call last):\n",
      "  File \"/home/koen/apps/anaconda3/envs/lark/lib/python3.8/site-packages/neptune/internal/threads/ping_thread.py\", line 37, in run\n",
      "    self.__backend.ping_experiment(self.__experiment)\n",
      "  File \"/home/koen/apps/anaconda3/envs/lark/lib/python3.8/site-packages/neptune/internal/api_clients/hosted_api_clients/hosted_alpha_leaderboard_api_client.py\", line 382, in ping_experiment\n",
      "    self.leaderboard_swagger_client.api.ping(experimentId=str(experiment.internal_id)).response().result\n",
      "  File \"/home/koen/apps/anaconda3/envs/lark/lib/python3.8/site-packages/bravado/http_future.py\", line 239, in response\n",
      "    six.reraise(*sys.exc_info())\n",
      "  File \"/home/koen/apps/anaconda3/envs/lark/lib/python3.8/site-packages/six.py\", line 703, in reraise\n",
      "    raise value\n",
      "  File \"/home/koen/apps/anaconda3/envs/lark/lib/python3.8/site-packages/bravado/http_future.py\", line 200, in response\n",
      "    swagger_result = self._get_swagger_result(incoming_response)\n",
      "  File \"/home/koen/apps/anaconda3/envs/lark/lib/python3.8/site-packages/bravado/http_future.py\", line 124, in wrapper\n",
      "    return func(self, *args, **kwargs)\n",
      "  File \"/home/koen/apps/anaconda3/envs/lark/lib/python3.8/site-packages/bravado/http_future.py\", line 300, in _get_swagger_result\n",
      "    unmarshal_response(\n",
      "  File \"/home/koen/apps/anaconda3/envs/lark/lib/python3.8/site-packages/bravado/http_future.py\", line 334, in unmarshal_response\n",
      "    raise_on_unexpected(incoming_response)\n",
      "  File \"/home/koen/apps/anaconda3/envs/lark/lib/python3.8/site-packages/bravado/http_future.py\", line 408, in raise_on_unexpected\n",
      "    raise make_http_exception(response=http_response)\n",
      "bravado.exception.HTTPServiceUnavailable: 503 Service Temporarily Unavailable: <html>\n",
      "<head><title>503 Service Temporarily Unavailable</title></head>\n",
      "<body>\n",
      "<center><h1>503 Service Temporarily Unavailable</h1></center>\n",
      "<hr><center>nginx</center>\n",
      "</body>\n",
      "</html>\n",
      "\n",
      "Unexpected error in ping thread.\n",
      "Traceback (most recent call last):\n",
      "  File \"/home/koen/apps/anaconda3/envs/lark/lib/python3.8/site-packages/neptune/internal/threads/ping_thread.py\", line 37, in run\n",
      "    self.__backend.ping_experiment(self.__experiment)\n",
      "  File \"/home/koen/apps/anaconda3/envs/lark/lib/python3.8/site-packages/neptune/internal/api_clients/hosted_api_clients/hosted_alpha_leaderboard_api_client.py\", line 382, in ping_experiment\n",
      "    self.leaderboard_swagger_client.api.ping(experimentId=str(experiment.internal_id)).response().result\n",
      "  File \"/home/koen/apps/anaconda3/envs/lark/lib/python3.8/site-packages/bravado/http_future.py\", line 239, in response\n",
      "    six.reraise(*sys.exc_info())\n",
      "  File \"/home/koen/apps/anaconda3/envs/lark/lib/python3.8/site-packages/six.py\", line 703, in reraise\n",
      "    raise value\n",
      "  File \"/home/koen/apps/anaconda3/envs/lark/lib/python3.8/site-packages/bravado/http_future.py\", line 200, in response\n",
      "    swagger_result = self._get_swagger_result(incoming_response)\n",
      "  File \"/home/koen/apps/anaconda3/envs/lark/lib/python3.8/site-packages/bravado/http_future.py\", line 124, in wrapper\n",
      "    return func(self, *args, **kwargs)\n",
      "  File \"/home/koen/apps/anaconda3/envs/lark/lib/python3.8/site-packages/bravado/http_future.py\", line 300, in _get_swagger_result\n",
      "    unmarshal_response(\n",
      "  File \"/home/koen/apps/anaconda3/envs/lark/lib/python3.8/site-packages/bravado/http_future.py\", line 334, in unmarshal_response\n",
      "    raise_on_unexpected(incoming_response)\n",
      "  File \"/home/koen/apps/anaconda3/envs/lark/lib/python3.8/site-packages/bravado/http_future.py\", line 408, in raise_on_unexpected\n",
      "    raise make_http_exception(response=http_response)\n",
      "bravado.exception.HTTPServiceUnavailable: 503 Service Temporarily Unavailable: <html>\n",
      "<head><title>503 Service Temporarily Unavailable</title></head>\n",
      "<body>\n",
      "<center><h1>503 Service Temporarily Unavailable</h1></center>\n",
      "<hr><center>nginx</center>\n",
      "</body>\n",
      "</html>\n",
      "\n",
      "Unexpected error in ping thread.\n",
      "Traceback (most recent call last):\n",
      "  File \"/home/koen/apps/anaconda3/envs/lark/lib/python3.8/site-packages/neptune/internal/threads/ping_thread.py\", line 37, in run\n",
      "    self.__backend.ping_experiment(self.__experiment)\n",
      "  File \"/home/koen/apps/anaconda3/envs/lark/lib/python3.8/site-packages/neptune/internal/api_clients/hosted_api_clients/hosted_alpha_leaderboard_api_client.py\", line 382, in ping_experiment\n",
      "    self.leaderboard_swagger_client.api.ping(experimentId=str(experiment.internal_id)).response().result\n",
      "  File \"/home/koen/apps/anaconda3/envs/lark/lib/python3.8/site-packages/bravado/http_future.py\", line 239, in response\n",
      "    six.reraise(*sys.exc_info())\n",
      "  File \"/home/koen/apps/anaconda3/envs/lark/lib/python3.8/site-packages/six.py\", line 703, in reraise\n",
      "    raise value\n",
      "  File \"/home/koen/apps/anaconda3/envs/lark/lib/python3.8/site-packages/bravado/http_future.py\", line 200, in response\n",
      "    swagger_result = self._get_swagger_result(incoming_response)\n",
      "  File \"/home/koen/apps/anaconda3/envs/lark/lib/python3.8/site-packages/bravado/http_future.py\", line 124, in wrapper\n",
      "    return func(self, *args, **kwargs)\n",
      "  File \"/home/koen/apps/anaconda3/envs/lark/lib/python3.8/site-packages/bravado/http_future.py\", line 300, in _get_swagger_result\n",
      "    unmarshal_response(\n",
      "  File \"/home/koen/apps/anaconda3/envs/lark/lib/python3.8/site-packages/bravado/http_future.py\", line 334, in unmarshal_response\n",
      "    raise_on_unexpected(incoming_response)\n",
      "  File \"/home/koen/apps/anaconda3/envs/lark/lib/python3.8/site-packages/bravado/http_future.py\", line 408, in raise_on_unexpected\n",
      "    raise make_http_exception(response=http_response)\n",
      "bravado.exception.HTTPServiceUnavailable: 503 Service Temporarily Unavailable: <html>\n",
      "<head><title>503 Service Temporarily Unavailable</title></head>\n",
      "<body>\n",
      "<center><h1>503 Service Temporarily Unavailable</h1></center>\n",
      "<hr><center>nginx</center>\n",
      "</body>\n",
      "</html>\n",
      "\n",
      "Unexpected error in ping thread.\n",
      "Traceback (most recent call last):\n",
      "  File \"/home/koen/apps/anaconda3/envs/lark/lib/python3.8/site-packages/neptune/internal/threads/ping_thread.py\", line 37, in run\n",
      "    self.__backend.ping_experiment(self.__experiment)\n",
      "  File \"/home/koen/apps/anaconda3/envs/lark/lib/python3.8/site-packages/neptune/internal/api_clients/hosted_api_clients/hosted_alpha_leaderboard_api_client.py\", line 382, in ping_experiment\n",
      "    self.leaderboard_swagger_client.api.ping(experimentId=str(experiment.internal_id)).response().result\n",
      "  File \"/home/koen/apps/anaconda3/envs/lark/lib/python3.8/site-packages/bravado/http_future.py\", line 239, in response\n",
      "    six.reraise(*sys.exc_info())\n",
      "  File \"/home/koen/apps/anaconda3/envs/lark/lib/python3.8/site-packages/six.py\", line 703, in reraise\n",
      "    raise value\n",
      "  File \"/home/koen/apps/anaconda3/envs/lark/lib/python3.8/site-packages/bravado/http_future.py\", line 200, in response\n",
      "    swagger_result = self._get_swagger_result(incoming_response)\n",
      "  File \"/home/koen/apps/anaconda3/envs/lark/lib/python3.8/site-packages/bravado/http_future.py\", line 124, in wrapper\n",
      "    return func(self, *args, **kwargs)\n",
      "  File \"/home/koen/apps/anaconda3/envs/lark/lib/python3.8/site-packages/bravado/http_future.py\", line 300, in _get_swagger_result\n",
      "    unmarshal_response(\n",
      "  File \"/home/koen/apps/anaconda3/envs/lark/lib/python3.8/site-packages/bravado/http_future.py\", line 334, in unmarshal_response\n",
      "    raise_on_unexpected(incoming_response)\n",
      "  File \"/home/koen/apps/anaconda3/envs/lark/lib/python3.8/site-packages/bravado/http_future.py\", line 408, in raise_on_unexpected\n",
      "    raise make_http_exception(response=http_response)\n",
      "bravado.exception.HTTPServiceUnavailable: 503 Service Temporarily Unavailable: <html>\n",
      "<head><title>503 Service Temporarily Unavailable</title></head>\n",
      "<body>\n",
      "<center><h1>503 Service Temporarily Unavailable</h1></center>\n",
      "<hr><center>nginx</center>\n",
      "</body>\n",
      "</html>\n",
      "\n",
      "Unexpected error in ping thread.\n",
      "Traceback (most recent call last):\n",
      "  File \"/home/koen/apps/anaconda3/envs/lark/lib/python3.8/site-packages/neptune/internal/threads/ping_thread.py\", line 37, in run\n",
      "    self.__backend.ping_experiment(self.__experiment)\n",
      "  File \"/home/koen/apps/anaconda3/envs/lark/lib/python3.8/site-packages/neptune/internal/api_clients/hosted_api_clients/hosted_alpha_leaderboard_api_client.py\", line 382, in ping_experiment\n",
      "    self.leaderboard_swagger_client.api.ping(experimentId=str(experiment.internal_id)).response().result\n",
      "  File \"/home/koen/apps/anaconda3/envs/lark/lib/python3.8/site-packages/bravado/http_future.py\", line 239, in response\n",
      "    six.reraise(*sys.exc_info())\n",
      "  File \"/home/koen/apps/anaconda3/envs/lark/lib/python3.8/site-packages/six.py\", line 703, in reraise\n",
      "    raise value\n",
      "  File \"/home/koen/apps/anaconda3/envs/lark/lib/python3.8/site-packages/bravado/http_future.py\", line 200, in response\n",
      "    swagger_result = self._get_swagger_result(incoming_response)\n",
      "  File \"/home/koen/apps/anaconda3/envs/lark/lib/python3.8/site-packages/bravado/http_future.py\", line 124, in wrapper\n",
      "    return func(self, *args, **kwargs)\n",
      "  File \"/home/koen/apps/anaconda3/envs/lark/lib/python3.8/site-packages/bravado/http_future.py\", line 300, in _get_swagger_result\n",
      "    unmarshal_response(\n",
      "  File \"/home/koen/apps/anaconda3/envs/lark/lib/python3.8/site-packages/bravado/http_future.py\", line 334, in unmarshal_response\n",
      "    raise_on_unexpected(incoming_response)\n",
      "  File \"/home/koen/apps/anaconda3/envs/lark/lib/python3.8/site-packages/bravado/http_future.py\", line 408, in raise_on_unexpected\n",
      "    raise make_http_exception(response=http_response)\n",
      "bravado.exception.HTTPServiceUnavailable: 503 Service Temporarily Unavailable: <html>\n",
      "<head><title>503 Service Temporarily Unavailable</title></head>\n",
      "<body>\n",
      "<center><h1>503 Service Temporarily Unavailable</h1></center>\n",
      "<hr><center>nginx</center>\n",
      "</body>\n",
      "</html>\n",
      "\n",
      "Unexpected error in ping thread.\n",
      "Traceback (most recent call last):\n",
      "  File \"/home/koen/apps/anaconda3/envs/lark/lib/python3.8/site-packages/neptune/internal/threads/ping_thread.py\", line 37, in run\n",
      "    self.__backend.ping_experiment(self.__experiment)\n",
      "  File \"/home/koen/apps/anaconda3/envs/lark/lib/python3.8/site-packages/neptune/internal/api_clients/hosted_api_clients/hosted_alpha_leaderboard_api_client.py\", line 382, in ping_experiment\n",
      "    self.leaderboard_swagger_client.api.ping(experimentId=str(experiment.internal_id)).response().result\n",
      "  File \"/home/koen/apps/anaconda3/envs/lark/lib/python3.8/site-packages/bravado/http_future.py\", line 239, in response\n",
      "    six.reraise(*sys.exc_info())\n",
      "  File \"/home/koen/apps/anaconda3/envs/lark/lib/python3.8/site-packages/six.py\", line 703, in reraise\n",
      "    raise value\n",
      "  File \"/home/koen/apps/anaconda3/envs/lark/lib/python3.8/site-packages/bravado/http_future.py\", line 200, in response\n",
      "    swagger_result = self._get_swagger_result(incoming_response)\n",
      "  File \"/home/koen/apps/anaconda3/envs/lark/lib/python3.8/site-packages/bravado/http_future.py\", line 124, in wrapper\n",
      "    return func(self, *args, **kwargs)\n",
      "  File \"/home/koen/apps/anaconda3/envs/lark/lib/python3.8/site-packages/bravado/http_future.py\", line 300, in _get_swagger_result\n",
      "    unmarshal_response(\n",
      "  File \"/home/koen/apps/anaconda3/envs/lark/lib/python3.8/site-packages/bravado/http_future.py\", line 334, in unmarshal_response\n",
      "    raise_on_unexpected(incoming_response)\n",
      "  File \"/home/koen/apps/anaconda3/envs/lark/lib/python3.8/site-packages/bravado/http_future.py\", line 408, in raise_on_unexpected\n",
      "    raise make_http_exception(response=http_response)\n",
      "bravado.exception.HTTPServiceUnavailable: 503 Service Temporarily Unavailable: <html>\n",
      "<head><title>503 Service Temporarily Unavailable</title></head>\n",
      "<body>\n",
      "<center><h1>503 Service Temporarily Unavailable</h1></center>\n",
      "<hr><center>nginx</center>\n",
      "</body>\n",
      "</html>\n",
      "\n",
      "Unexpected error in ping thread.\n",
      "Traceback (most recent call last):\n",
      "  File \"/home/koen/apps/anaconda3/envs/lark/lib/python3.8/site-packages/neptune/internal/threads/ping_thread.py\", line 37, in run\n",
      "    self.__backend.ping_experiment(self.__experiment)\n",
      "  File \"/home/koen/apps/anaconda3/envs/lark/lib/python3.8/site-packages/neptune/internal/api_clients/hosted_api_clients/hosted_alpha_leaderboard_api_client.py\", line 382, in ping_experiment\n",
      "    self.leaderboard_swagger_client.api.ping(experimentId=str(experiment.internal_id)).response().result\n",
      "  File \"/home/koen/apps/anaconda3/envs/lark/lib/python3.8/site-packages/bravado/http_future.py\", line 239, in response\n",
      "    six.reraise(*sys.exc_info())\n",
      "  File \"/home/koen/apps/anaconda3/envs/lark/lib/python3.8/site-packages/six.py\", line 703, in reraise\n",
      "    raise value\n",
      "  File \"/home/koen/apps/anaconda3/envs/lark/lib/python3.8/site-packages/bravado/http_future.py\", line 200, in response\n",
      "    swagger_result = self._get_swagger_result(incoming_response)\n",
      "  File \"/home/koen/apps/anaconda3/envs/lark/lib/python3.8/site-packages/bravado/http_future.py\", line 124, in wrapper\n",
      "    return func(self, *args, **kwargs)\n",
      "  File \"/home/koen/apps/anaconda3/envs/lark/lib/python3.8/site-packages/bravado/http_future.py\", line 300, in _get_swagger_result\n",
      "    unmarshal_response(\n",
      "  File \"/home/koen/apps/anaconda3/envs/lark/lib/python3.8/site-packages/bravado/http_future.py\", line 334, in unmarshal_response\n",
      "    raise_on_unexpected(incoming_response)\n",
      "  File \"/home/koen/apps/anaconda3/envs/lark/lib/python3.8/site-packages/bravado/http_future.py\", line 408, in raise_on_unexpected\n",
      "    raise make_http_exception(response=http_response)\n",
      "bravado.exception.HTTPServiceUnavailable: 503 Service Temporarily Unavailable: <html>\n",
      "<head><title>503 Service Temporarily Unavailable</title></head>\n",
      "<body>\n",
      "<center><h1>503 Service Temporarily Unavailable</h1></center>\n",
      "<hr><center>nginx</center>\n",
      "</body>\n",
      "</html>\n",
      "\n",
      "Unexpected error in ping thread.\n",
      "Traceback (most recent call last):\n",
      "  File \"/home/koen/apps/anaconda3/envs/lark/lib/python3.8/site-packages/neptune/internal/threads/ping_thread.py\", line 37, in run\n",
      "    self.__backend.ping_experiment(self.__experiment)\n",
      "  File \"/home/koen/apps/anaconda3/envs/lark/lib/python3.8/site-packages/neptune/internal/api_clients/hosted_api_clients/hosted_alpha_leaderboard_api_client.py\", line 382, in ping_experiment\n",
      "    self.leaderboard_swagger_client.api.ping(experimentId=str(experiment.internal_id)).response().result\n",
      "  File \"/home/koen/apps/anaconda3/envs/lark/lib/python3.8/site-packages/bravado/http_future.py\", line 239, in response\n",
      "    six.reraise(*sys.exc_info())\n",
      "  File \"/home/koen/apps/anaconda3/envs/lark/lib/python3.8/site-packages/six.py\", line 703, in reraise\n",
      "    raise value\n",
      "  File \"/home/koen/apps/anaconda3/envs/lark/lib/python3.8/site-packages/bravado/http_future.py\", line 200, in response\n",
      "    swagger_result = self._get_swagger_result(incoming_response)\n",
      "  File \"/home/koen/apps/anaconda3/envs/lark/lib/python3.8/site-packages/bravado/http_future.py\", line 124, in wrapper\n",
      "    return func(self, *args, **kwargs)\n",
      "  File \"/home/koen/apps/anaconda3/envs/lark/lib/python3.8/site-packages/bravado/http_future.py\", line 300, in _get_swagger_result\n",
      "    unmarshal_response(\n",
      "  File \"/home/koen/apps/anaconda3/envs/lark/lib/python3.8/site-packages/bravado/http_future.py\", line 334, in unmarshal_response\n",
      "    raise_on_unexpected(incoming_response)\n",
      "  File \"/home/koen/apps/anaconda3/envs/lark/lib/python3.8/site-packages/bravado/http_future.py\", line 408, in raise_on_unexpected\n",
      "    raise make_http_exception(response=http_response)\n",
      "bravado.exception.HTTPServiceUnavailable: 503 Service Temporarily Unavailable: <html>\n",
      "<head><title>503 Service Temporarily Unavailable</title></head>\n",
      "<body>\n",
      "<center><h1>503 Service Temporarily Unavailable</h1></center>\n",
      "<hr><center>nginx</center>\n",
      "</body>\n",
      "</html>\n",
      "\n",
      "Unexpected error in ping thread.\n",
      "Traceback (most recent call last):\n",
      "  File \"/home/koen/apps/anaconda3/envs/lark/lib/python3.8/site-packages/neptune/internal/threads/ping_thread.py\", line 37, in run\n",
      "    self.__backend.ping_experiment(self.__experiment)\n",
      "  File \"/home/koen/apps/anaconda3/envs/lark/lib/python3.8/site-packages/neptune/internal/api_clients/hosted_api_clients/hosted_alpha_leaderboard_api_client.py\", line 382, in ping_experiment\n",
      "    self.leaderboard_swagger_client.api.ping(experimentId=str(experiment.internal_id)).response().result\n",
      "  File \"/home/koen/apps/anaconda3/envs/lark/lib/python3.8/site-packages/bravado/http_future.py\", line 239, in response\n",
      "    six.reraise(*sys.exc_info())\n",
      "  File \"/home/koen/apps/anaconda3/envs/lark/lib/python3.8/site-packages/six.py\", line 703, in reraise\n",
      "    raise value\n",
      "  File \"/home/koen/apps/anaconda3/envs/lark/lib/python3.8/site-packages/bravado/http_future.py\", line 200, in response\n",
      "    swagger_result = self._get_swagger_result(incoming_response)\n",
      "  File \"/home/koen/apps/anaconda3/envs/lark/lib/python3.8/site-packages/bravado/http_future.py\", line 124, in wrapper\n",
      "    return func(self, *args, **kwargs)\n",
      "  File \"/home/koen/apps/anaconda3/envs/lark/lib/python3.8/site-packages/bravado/http_future.py\", line 300, in _get_swagger_result\n",
      "    unmarshal_response(\n",
      "  File \"/home/koen/apps/anaconda3/envs/lark/lib/python3.8/site-packages/bravado/http_future.py\", line 334, in unmarshal_response\n",
      "    raise_on_unexpected(incoming_response)\n",
      "  File \"/home/koen/apps/anaconda3/envs/lark/lib/python3.8/site-packages/bravado/http_future.py\", line 408, in raise_on_unexpected\n",
      "    raise make_http_exception(response=http_response)\n",
      "bravado.exception.HTTPServiceUnavailable: 503 Service Temporarily Unavailable: <html>\n",
      "<head><title>503 Service Temporarily Unavailable</title></head>\n",
      "<body>\n",
      "<center><h1>503 Service Temporarily Unavailable</h1></center>\n",
      "<hr><center>nginx</center>\n",
      "</body>\n",
      "</html>\n",
      "\n",
      "Unexpected error in ping thread.\n",
      "Traceback (most recent call last):\n",
      "  File \"/home/koen/apps/anaconda3/envs/lark/lib/python3.8/site-packages/neptune/internal/threads/ping_thread.py\", line 37, in run\n",
      "    self.__backend.ping_experiment(self.__experiment)\n",
      "  File \"/home/koen/apps/anaconda3/envs/lark/lib/python3.8/site-packages/neptune/internal/api_clients/hosted_api_clients/hosted_alpha_leaderboard_api_client.py\", line 382, in ping_experiment\n",
      "    self.leaderboard_swagger_client.api.ping(experimentId=str(experiment.internal_id)).response().result\n",
      "  File \"/home/koen/apps/anaconda3/envs/lark/lib/python3.8/site-packages/bravado/http_future.py\", line 239, in response\n",
      "    six.reraise(*sys.exc_info())\n",
      "  File \"/home/koen/apps/anaconda3/envs/lark/lib/python3.8/site-packages/six.py\", line 703, in reraise\n",
      "    raise value\n",
      "  File \"/home/koen/apps/anaconda3/envs/lark/lib/python3.8/site-packages/bravado/http_future.py\", line 200, in response\n",
      "    swagger_result = self._get_swagger_result(incoming_response)\n",
      "  File \"/home/koen/apps/anaconda3/envs/lark/lib/python3.8/site-packages/bravado/http_future.py\", line 124, in wrapper\n",
      "    return func(self, *args, **kwargs)\n",
      "  File \"/home/koen/apps/anaconda3/envs/lark/lib/python3.8/site-packages/bravado/http_future.py\", line 300, in _get_swagger_result\n",
      "    unmarshal_response(\n",
      "  File \"/home/koen/apps/anaconda3/envs/lark/lib/python3.8/site-packages/bravado/http_future.py\", line 334, in unmarshal_response\n",
      "    raise_on_unexpected(incoming_response)\n",
      "  File \"/home/koen/apps/anaconda3/envs/lark/lib/python3.8/site-packages/bravado/http_future.py\", line 408, in raise_on_unexpected\n",
      "    raise make_http_exception(response=http_response)\n",
      "bravado.exception.HTTPServiceUnavailable: 503 Service Temporarily Unavailable: <html>\n",
      "<head><title>503 Service Temporarily Unavailable</title></head>\n",
      "<body>\n",
      "<center><h1>503 Service Temporarily Unavailable</h1></center>\n",
      "<hr><center>nginx</center>\n",
      "</body>\n",
      "</html>\n",
      "\n",
      "Unexpected error in ping thread.\n",
      "Traceback (most recent call last):\n",
      "  File \"/home/koen/apps/anaconda3/envs/lark/lib/python3.8/site-packages/neptune/internal/threads/ping_thread.py\", line 37, in run\n",
      "    self.__backend.ping_experiment(self.__experiment)\n",
      "  File \"/home/koen/apps/anaconda3/envs/lark/lib/python3.8/site-packages/neptune/internal/api_clients/hosted_api_clients/hosted_alpha_leaderboard_api_client.py\", line 382, in ping_experiment\n",
      "    self.leaderboard_swagger_client.api.ping(experimentId=str(experiment.internal_id)).response().result\n",
      "  File \"/home/koen/apps/anaconda3/envs/lark/lib/python3.8/site-packages/bravado/http_future.py\", line 239, in response\n",
      "    six.reraise(*sys.exc_info())\n",
      "  File \"/home/koen/apps/anaconda3/envs/lark/lib/python3.8/site-packages/six.py\", line 703, in reraise\n",
      "    raise value\n",
      "  File \"/home/koen/apps/anaconda3/envs/lark/lib/python3.8/site-packages/bravado/http_future.py\", line 200, in response\n",
      "    swagger_result = self._get_swagger_result(incoming_response)\n",
      "  File \"/home/koen/apps/anaconda3/envs/lark/lib/python3.8/site-packages/bravado/http_future.py\", line 124, in wrapper\n",
      "    return func(self, *args, **kwargs)\n",
      "  File \"/home/koen/apps/anaconda3/envs/lark/lib/python3.8/site-packages/bravado/http_future.py\", line 300, in _get_swagger_result\n",
      "    unmarshal_response(\n",
      "  File \"/home/koen/apps/anaconda3/envs/lark/lib/python3.8/site-packages/bravado/http_future.py\", line 334, in unmarshal_response\n",
      "    raise_on_unexpected(incoming_response)\n",
      "  File \"/home/koen/apps/anaconda3/envs/lark/lib/python3.8/site-packages/bravado/http_future.py\", line 408, in raise_on_unexpected\n",
      "    raise make_http_exception(response=http_response)\n",
      "bravado.exception.HTTPServiceUnavailable: 503 Service Temporarily Unavailable: <html>\n",
      "<head><title>503 Service Temporarily Unavailable</title></head>\n",
      "<body>\n",
      "<center><h1>503 Service Temporarily Unavailable</h1></center>\n",
      "<hr><center>nginx</center>\n",
      "</body>\n",
      "</html>\n",
      "\n",
      "Unexpected error in ping thread.\n",
      "Traceback (most recent call last):\n",
      "  File \"/home/koen/apps/anaconda3/envs/lark/lib/python3.8/site-packages/neptune/internal/threads/ping_thread.py\", line 37, in run\n",
      "    self.__backend.ping_experiment(self.__experiment)\n",
      "  File \"/home/koen/apps/anaconda3/envs/lark/lib/python3.8/site-packages/neptune/internal/api_clients/hosted_api_clients/hosted_alpha_leaderboard_api_client.py\", line 382, in ping_experiment\n",
      "    self.leaderboard_swagger_client.api.ping(experimentId=str(experiment.internal_id)).response().result\n",
      "  File \"/home/koen/apps/anaconda3/envs/lark/lib/python3.8/site-packages/bravado/http_future.py\", line 239, in response\n",
      "    six.reraise(*sys.exc_info())\n",
      "  File \"/home/koen/apps/anaconda3/envs/lark/lib/python3.8/site-packages/six.py\", line 703, in reraise\n",
      "    raise value\n",
      "  File \"/home/koen/apps/anaconda3/envs/lark/lib/python3.8/site-packages/bravado/http_future.py\", line 200, in response\n",
      "    swagger_result = self._get_swagger_result(incoming_response)\n",
      "  File \"/home/koen/apps/anaconda3/envs/lark/lib/python3.8/site-packages/bravado/http_future.py\", line 124, in wrapper\n",
      "    return func(self, *args, **kwargs)\n",
      "  File \"/home/koen/apps/anaconda3/envs/lark/lib/python3.8/site-packages/bravado/http_future.py\", line 300, in _get_swagger_result\n",
      "    unmarshal_response(\n",
      "  File \"/home/koen/apps/anaconda3/envs/lark/lib/python3.8/site-packages/bravado/http_future.py\", line 334, in unmarshal_response\n",
      "    raise_on_unexpected(incoming_response)\n",
      "  File \"/home/koen/apps/anaconda3/envs/lark/lib/python3.8/site-packages/bravado/http_future.py\", line 408, in raise_on_unexpected\n",
      "    raise make_http_exception(response=http_response)\n",
      "bravado.exception.HTTPServiceUnavailable: 503 Service Temporarily Unavailable: <html>\n",
      "<head><title>503 Service Temporarily Unavailable</title></head>\n",
      "<body>\n",
      "<center><h1>503 Service Temporarily Unavailable</h1></center>\n",
      "<hr><center>nginx</center>\n",
      "</body>\n",
      "</html>\n",
      "\n",
      "Unexpected error in ping thread.\n",
      "Traceback (most recent call last):\n",
      "  File \"/home/koen/apps/anaconda3/envs/lark/lib/python3.8/site-packages/neptune/internal/threads/ping_thread.py\", line 37, in run\n",
      "    self.__backend.ping_experiment(self.__experiment)\n",
      "  File \"/home/koen/apps/anaconda3/envs/lark/lib/python3.8/site-packages/neptune/internal/api_clients/hosted_api_clients/hosted_alpha_leaderboard_api_client.py\", line 382, in ping_experiment\n",
      "    self.leaderboard_swagger_client.api.ping(experimentId=str(experiment.internal_id)).response().result\n",
      "  File \"/home/koen/apps/anaconda3/envs/lark/lib/python3.8/site-packages/bravado/http_future.py\", line 239, in response\n",
      "    six.reraise(*sys.exc_info())\n",
      "  File \"/home/koen/apps/anaconda3/envs/lark/lib/python3.8/site-packages/six.py\", line 703, in reraise\n",
      "    raise value\n",
      "  File \"/home/koen/apps/anaconda3/envs/lark/lib/python3.8/site-packages/bravado/http_future.py\", line 200, in response\n",
      "    swagger_result = self._get_swagger_result(incoming_response)\n",
      "  File \"/home/koen/apps/anaconda3/envs/lark/lib/python3.8/site-packages/bravado/http_future.py\", line 124, in wrapper\n",
      "    return func(self, *args, **kwargs)\n",
      "  File \"/home/koen/apps/anaconda3/envs/lark/lib/python3.8/site-packages/bravado/http_future.py\", line 300, in _get_swagger_result\n",
      "    unmarshal_response(\n",
      "  File \"/home/koen/apps/anaconda3/envs/lark/lib/python3.8/site-packages/bravado/http_future.py\", line 334, in unmarshal_response\n",
      "    raise_on_unexpected(incoming_response)\n",
      "  File \"/home/koen/apps/anaconda3/envs/lark/lib/python3.8/site-packages/bravado/http_future.py\", line 408, in raise_on_unexpected\n",
      "    raise make_http_exception(response=http_response)\n",
      "bravado.exception.HTTPServiceUnavailable: 503 Service Temporarily Unavailable: <html>\n",
      "<head><title>503 Service Temporarily Unavailable</title></head>\n",
      "<body>\n",
      "<center><h1>503 Service Temporarily Unavailable</h1></center>\n",
      "<hr><center>nginx</center>\n",
      "</body>\n",
      "</html>\n",
      "\n",
      "Unexpected error in ping thread.\n",
      "Traceback (most recent call last):\n",
      "  File \"/home/koen/apps/anaconda3/envs/lark/lib/python3.8/site-packages/neptune/internal/threads/ping_thread.py\", line 37, in run\n",
      "    self.__backend.ping_experiment(self.__experiment)\n",
      "  File \"/home/koen/apps/anaconda3/envs/lark/lib/python3.8/site-packages/neptune/internal/api_clients/hosted_api_clients/hosted_alpha_leaderboard_api_client.py\", line 382, in ping_experiment\n",
      "    self.leaderboard_swagger_client.api.ping(experimentId=str(experiment.internal_id)).response().result\n",
      "  File \"/home/koen/apps/anaconda3/envs/lark/lib/python3.8/site-packages/bravado/http_future.py\", line 239, in response\n",
      "    six.reraise(*sys.exc_info())\n",
      "  File \"/home/koen/apps/anaconda3/envs/lark/lib/python3.8/site-packages/six.py\", line 703, in reraise\n",
      "    raise value\n",
      "  File \"/home/koen/apps/anaconda3/envs/lark/lib/python3.8/site-packages/bravado/http_future.py\", line 200, in response\n",
      "    swagger_result = self._get_swagger_result(incoming_response)\n",
      "  File \"/home/koen/apps/anaconda3/envs/lark/lib/python3.8/site-packages/bravado/http_future.py\", line 124, in wrapper\n",
      "    return func(self, *args, **kwargs)\n",
      "  File \"/home/koen/apps/anaconda3/envs/lark/lib/python3.8/site-packages/bravado/http_future.py\", line 300, in _get_swagger_result\n",
      "    unmarshal_response(\n",
      "  File \"/home/koen/apps/anaconda3/envs/lark/lib/python3.8/site-packages/bravado/http_future.py\", line 334, in unmarshal_response\n",
      "    raise_on_unexpected(incoming_response)\n",
      "  File \"/home/koen/apps/anaconda3/envs/lark/lib/python3.8/site-packages/bravado/http_future.py\", line 408, in raise_on_unexpected\n",
      "    raise make_http_exception(response=http_response)\n",
      "bravado.exception.HTTPServiceUnavailable: 503 Service Temporarily Unavailable: <html>\n",
      "<head><title>503 Service Temporarily Unavailable</title></head>\n",
      "<body>\n",
      "<center><h1>503 Service Temporarily Unavailable</h1></center>\n",
      "<hr><center>nginx</center>\n",
      "</body>\n",
      "</html>\n",
      "\n",
      "Unexpected error in ping thread.\n",
      "Traceback (most recent call last):\n",
      "  File \"/home/koen/apps/anaconda3/envs/lark/lib/python3.8/site-packages/neptune/internal/threads/ping_thread.py\", line 37, in run\n",
      "    self.__backend.ping_experiment(self.__experiment)\n",
      "  File \"/home/koen/apps/anaconda3/envs/lark/lib/python3.8/site-packages/neptune/internal/api_clients/hosted_api_clients/hosted_alpha_leaderboard_api_client.py\", line 382, in ping_experiment\n",
      "    self.leaderboard_swagger_client.api.ping(experimentId=str(experiment.internal_id)).response().result\n",
      "  File \"/home/koen/apps/anaconda3/envs/lark/lib/python3.8/site-packages/bravado/http_future.py\", line 239, in response\n",
      "    six.reraise(*sys.exc_info())\n",
      "  File \"/home/koen/apps/anaconda3/envs/lark/lib/python3.8/site-packages/six.py\", line 703, in reraise\n",
      "    raise value\n",
      "  File \"/home/koen/apps/anaconda3/envs/lark/lib/python3.8/site-packages/bravado/http_future.py\", line 200, in response\n",
      "    swagger_result = self._get_swagger_result(incoming_response)\n",
      "  File \"/home/koen/apps/anaconda3/envs/lark/lib/python3.8/site-packages/bravado/http_future.py\", line 124, in wrapper\n",
      "    return func(self, *args, **kwargs)\n",
      "  File \"/home/koen/apps/anaconda3/envs/lark/lib/python3.8/site-packages/bravado/http_future.py\", line 300, in _get_swagger_result\n",
      "    unmarshal_response(\n",
      "  File \"/home/koen/apps/anaconda3/envs/lark/lib/python3.8/site-packages/bravado/http_future.py\", line 334, in unmarshal_response\n",
      "    raise_on_unexpected(incoming_response)\n",
      "  File \"/home/koen/apps/anaconda3/envs/lark/lib/python3.8/site-packages/bravado/http_future.py\", line 408, in raise_on_unexpected\n",
      "    raise make_http_exception(response=http_response)\n",
      "bravado.exception.HTTPServiceUnavailable: 503 Service Temporarily Unavailable: <html>\n",
      "<head><title>503 Service Temporarily Unavailable</title></head>\n",
      "<body>\n",
      "<center><h1>503 Service Temporarily Unavailable</h1></center>\n",
      "<hr><center>nginx</center>\n",
      "</body>\n",
      "</html>\n",
      "\n",
      "Unexpected error in ping thread.\n",
      "Traceback (most recent call last):\n",
      "  File \"/home/koen/apps/anaconda3/envs/lark/lib/python3.8/site-packages/neptune/internal/threads/ping_thread.py\", line 37, in run\n",
      "    self.__backend.ping_experiment(self.__experiment)\n",
      "  File \"/home/koen/apps/anaconda3/envs/lark/lib/python3.8/site-packages/neptune/internal/api_clients/hosted_api_clients/hosted_alpha_leaderboard_api_client.py\", line 382, in ping_experiment\n",
      "    self.leaderboard_swagger_client.api.ping(experimentId=str(experiment.internal_id)).response().result\n",
      "  File \"/home/koen/apps/anaconda3/envs/lark/lib/python3.8/site-packages/bravado/http_future.py\", line 239, in response\n",
      "    six.reraise(*sys.exc_info())\n",
      "  File \"/home/koen/apps/anaconda3/envs/lark/lib/python3.8/site-packages/six.py\", line 703, in reraise\n",
      "    raise value\n",
      "  File \"/home/koen/apps/anaconda3/envs/lark/lib/python3.8/site-packages/bravado/http_future.py\", line 200, in response\n",
      "    swagger_result = self._get_swagger_result(incoming_response)\n",
      "  File \"/home/koen/apps/anaconda3/envs/lark/lib/python3.8/site-packages/bravado/http_future.py\", line 124, in wrapper\n",
      "    return func(self, *args, **kwargs)\n",
      "  File \"/home/koen/apps/anaconda3/envs/lark/lib/python3.8/site-packages/bravado/http_future.py\", line 300, in _get_swagger_result\n",
      "    unmarshal_response(\n",
      "  File \"/home/koen/apps/anaconda3/envs/lark/lib/python3.8/site-packages/bravado/http_future.py\", line 334, in unmarshal_response\n",
      "    raise_on_unexpected(incoming_response)\n",
      "  File \"/home/koen/apps/anaconda3/envs/lark/lib/python3.8/site-packages/bravado/http_future.py\", line 408, in raise_on_unexpected\n",
      "    raise make_http_exception(response=http_response)\n",
      "bravado.exception.HTTPServiceUnavailable: 503 Service Temporarily Unavailable: <html>\n",
      "<head><title>503 Service Temporarily Unavailable</title></head>\n",
      "<body>\n",
      "<center><h1>503 Service Temporarily Unavailable</h1></center>\n",
      "<hr><center>nginx</center>\n",
      "</body>\n",
      "</html>\n",
      "\n",
      "Unexpected error in ping thread.\n",
      "Traceback (most recent call last):\n",
      "  File \"/home/koen/apps/anaconda3/envs/lark/lib/python3.8/site-packages/neptune/internal/threads/ping_thread.py\", line 37, in run\n",
      "    self.__backend.ping_experiment(self.__experiment)\n",
      "  File \"/home/koen/apps/anaconda3/envs/lark/lib/python3.8/site-packages/neptune/internal/api_clients/hosted_api_clients/hosted_alpha_leaderboard_api_client.py\", line 382, in ping_experiment\n",
      "    self.leaderboard_swagger_client.api.ping(experimentId=str(experiment.internal_id)).response().result\n",
      "  File \"/home/koen/apps/anaconda3/envs/lark/lib/python3.8/site-packages/bravado/http_future.py\", line 239, in response\n",
      "    six.reraise(*sys.exc_info())\n",
      "  File \"/home/koen/apps/anaconda3/envs/lark/lib/python3.8/site-packages/six.py\", line 703, in reraise\n",
      "    raise value\n",
      "  File \"/home/koen/apps/anaconda3/envs/lark/lib/python3.8/site-packages/bravado/http_future.py\", line 200, in response\n",
      "    swagger_result = self._get_swagger_result(incoming_response)\n",
      "  File \"/home/koen/apps/anaconda3/envs/lark/lib/python3.8/site-packages/bravado/http_future.py\", line 124, in wrapper\n",
      "    return func(self, *args, **kwargs)\n",
      "  File \"/home/koen/apps/anaconda3/envs/lark/lib/python3.8/site-packages/bravado/http_future.py\", line 300, in _get_swagger_result\n",
      "    unmarshal_response(\n",
      "  File \"/home/koen/apps/anaconda3/envs/lark/lib/python3.8/site-packages/bravado/http_future.py\", line 334, in unmarshal_response\n",
      "    raise_on_unexpected(incoming_response)\n",
      "  File \"/home/koen/apps/anaconda3/envs/lark/lib/python3.8/site-packages/bravado/http_future.py\", line 408, in raise_on_unexpected\n",
      "    raise make_http_exception(response=http_response)\n",
      "bravado.exception.HTTPServiceUnavailable: 503 Service Temporarily Unavailable: <html>\n",
      "<head><title>503 Service Temporarily Unavailable</title></head>\n",
      "<body>\n",
      "<center><h1>503 Service Temporarily Unavailable</h1></center>\n",
      "<hr><center>nginx</center>\n",
      "</body>\n",
      "</html>\n",
      "\n",
      "Unexpected error in ping thread.\n",
      "Traceback (most recent call last):\n",
      "  File \"/home/koen/apps/anaconda3/envs/lark/lib/python3.8/site-packages/neptune/internal/threads/ping_thread.py\", line 37, in run\n",
      "    self.__backend.ping_experiment(self.__experiment)\n",
      "  File \"/home/koen/apps/anaconda3/envs/lark/lib/python3.8/site-packages/neptune/internal/api_clients/hosted_api_clients/hosted_alpha_leaderboard_api_client.py\", line 382, in ping_experiment\n",
      "    self.leaderboard_swagger_client.api.ping(experimentId=str(experiment.internal_id)).response().result\n",
      "  File \"/home/koen/apps/anaconda3/envs/lark/lib/python3.8/site-packages/bravado/http_future.py\", line 239, in response\n",
      "    six.reraise(*sys.exc_info())\n",
      "  File \"/home/koen/apps/anaconda3/envs/lark/lib/python3.8/site-packages/six.py\", line 703, in reraise\n",
      "    raise value\n",
      "  File \"/home/koen/apps/anaconda3/envs/lark/lib/python3.8/site-packages/bravado/http_future.py\", line 200, in response\n",
      "    swagger_result = self._get_swagger_result(incoming_response)\n",
      "  File \"/home/koen/apps/anaconda3/envs/lark/lib/python3.8/site-packages/bravado/http_future.py\", line 124, in wrapper\n",
      "    return func(self, *args, **kwargs)\n",
      "  File \"/home/koen/apps/anaconda3/envs/lark/lib/python3.8/site-packages/bravado/http_future.py\", line 300, in _get_swagger_result\n",
      "    unmarshal_response(\n",
      "  File \"/home/koen/apps/anaconda3/envs/lark/lib/python3.8/site-packages/bravado/http_future.py\", line 334, in unmarshal_response\n",
      "    raise_on_unexpected(incoming_response)\n",
      "  File \"/home/koen/apps/anaconda3/envs/lark/lib/python3.8/site-packages/bravado/http_future.py\", line 408, in raise_on_unexpected\n",
      "    raise make_http_exception(response=http_response)\n",
      "bravado.exception.HTTPServiceUnavailable: 503 Service Temporarily Unavailable: <html>\n",
      "<head><title>503 Service Temporarily Unavailable</title></head>\n",
      "<body>\n",
      "<center><h1>503 Service Temporarily Unavailable</h1></center>\n",
      "<hr><center>nginx</center>\n",
      "</body>\n",
      "</html>\n",
      "\n",
      "Unexpected error in ping thread.\n",
      "Traceback (most recent call last):\n",
      "  File \"/home/koen/apps/anaconda3/envs/lark/lib/python3.8/site-packages/neptune/internal/threads/ping_thread.py\", line 37, in run\n",
      "    self.__backend.ping_experiment(self.__experiment)\n",
      "  File \"/home/koen/apps/anaconda3/envs/lark/lib/python3.8/site-packages/neptune/internal/api_clients/hosted_api_clients/hosted_alpha_leaderboard_api_client.py\", line 382, in ping_experiment\n",
      "    self.leaderboard_swagger_client.api.ping(experimentId=str(experiment.internal_id)).response().result\n",
      "  File \"/home/koen/apps/anaconda3/envs/lark/lib/python3.8/site-packages/bravado/http_future.py\", line 239, in response\n",
      "    six.reraise(*sys.exc_info())\n",
      "  File \"/home/koen/apps/anaconda3/envs/lark/lib/python3.8/site-packages/six.py\", line 703, in reraise\n",
      "    raise value\n",
      "  File \"/home/koen/apps/anaconda3/envs/lark/lib/python3.8/site-packages/bravado/http_future.py\", line 200, in response\n",
      "    swagger_result = self._get_swagger_result(incoming_response)\n",
      "  File \"/home/koen/apps/anaconda3/envs/lark/lib/python3.8/site-packages/bravado/http_future.py\", line 124, in wrapper\n",
      "    return func(self, *args, **kwargs)\n",
      "  File \"/home/koen/apps/anaconda3/envs/lark/lib/python3.8/site-packages/bravado/http_future.py\", line 300, in _get_swagger_result\n",
      "    unmarshal_response(\n",
      "  File \"/home/koen/apps/anaconda3/envs/lark/lib/python3.8/site-packages/bravado/http_future.py\", line 334, in unmarshal_response\n",
      "    raise_on_unexpected(incoming_response)\n",
      "  File \"/home/koen/apps/anaconda3/envs/lark/lib/python3.8/site-packages/bravado/http_future.py\", line 408, in raise_on_unexpected\n",
      "    raise make_http_exception(response=http_response)\n",
      "bravado.exception.HTTPServiceUnavailable: 503 Service Temporarily Unavailable: <html>\n",
      "<head><title>503 Service Temporarily Unavailable</title></head>\n",
      "<body>\n",
      "<center><h1>503 Service Temporarily Unavailable</h1></center>\n",
      "<hr><center>nginx</center>\n",
      "</body>\n",
      "</html>\n",
      "\n",
      "Unexpected error in ping thread.\n",
      "Traceback (most recent call last):\n",
      "  File \"/home/koen/apps/anaconda3/envs/lark/lib/python3.8/site-packages/neptune/internal/threads/ping_thread.py\", line 37, in run\n",
      "    self.__backend.ping_experiment(self.__experiment)\n",
      "  File \"/home/koen/apps/anaconda3/envs/lark/lib/python3.8/site-packages/neptune/internal/api_clients/hosted_api_clients/hosted_alpha_leaderboard_api_client.py\", line 382, in ping_experiment\n",
      "    self.leaderboard_swagger_client.api.ping(experimentId=str(experiment.internal_id)).response().result\n",
      "  File \"/home/koen/apps/anaconda3/envs/lark/lib/python3.8/site-packages/bravado/http_future.py\", line 239, in response\n",
      "    six.reraise(*sys.exc_info())\n",
      "  File \"/home/koen/apps/anaconda3/envs/lark/lib/python3.8/site-packages/six.py\", line 703, in reraise\n",
      "    raise value\n",
      "  File \"/home/koen/apps/anaconda3/envs/lark/lib/python3.8/site-packages/bravado/http_future.py\", line 200, in response\n",
      "    swagger_result = self._get_swagger_result(incoming_response)\n",
      "  File \"/home/koen/apps/anaconda3/envs/lark/lib/python3.8/site-packages/bravado/http_future.py\", line 124, in wrapper\n",
      "    return func(self, *args, **kwargs)\n",
      "  File \"/home/koen/apps/anaconda3/envs/lark/lib/python3.8/site-packages/bravado/http_future.py\", line 300, in _get_swagger_result\n",
      "    unmarshal_response(\n",
      "  File \"/home/koen/apps/anaconda3/envs/lark/lib/python3.8/site-packages/bravado/http_future.py\", line 334, in unmarshal_response\n",
      "    raise_on_unexpected(incoming_response)\n",
      "  File \"/home/koen/apps/anaconda3/envs/lark/lib/python3.8/site-packages/bravado/http_future.py\", line 408, in raise_on_unexpected\n",
      "    raise make_http_exception(response=http_response)\n",
      "bravado.exception.HTTPServiceUnavailable: 503 Service Temporarily Unavailable: <html>\n",
      "<head><title>503 Service Temporarily Unavailable</title></head>\n",
      "<body>\n",
      "<center><h1>503 Service Temporarily Unavailable</h1></center>\n",
      "<hr><center>nginx</center>\n",
      "</body>\n",
      "</html>\n",
      "\n",
      "Unexpected error in ping thread.\n",
      "Traceback (most recent call last):\n",
      "  File \"/home/koen/apps/anaconda3/envs/lark/lib/python3.8/site-packages/neptune/internal/threads/ping_thread.py\", line 37, in run\n",
      "    self.__backend.ping_experiment(self.__experiment)\n",
      "  File \"/home/koen/apps/anaconda3/envs/lark/lib/python3.8/site-packages/neptune/internal/api_clients/hosted_api_clients/hosted_alpha_leaderboard_api_client.py\", line 382, in ping_experiment\n",
      "    self.leaderboard_swagger_client.api.ping(experimentId=str(experiment.internal_id)).response().result\n",
      "  File \"/home/koen/apps/anaconda3/envs/lark/lib/python3.8/site-packages/bravado/http_future.py\", line 239, in response\n",
      "    six.reraise(*sys.exc_info())\n",
      "  File \"/home/koen/apps/anaconda3/envs/lark/lib/python3.8/site-packages/six.py\", line 703, in reraise\n",
      "    raise value\n",
      "  File \"/home/koen/apps/anaconda3/envs/lark/lib/python3.8/site-packages/bravado/http_future.py\", line 200, in response\n",
      "    swagger_result = self._get_swagger_result(incoming_response)\n",
      "  File \"/home/koen/apps/anaconda3/envs/lark/lib/python3.8/site-packages/bravado/http_future.py\", line 124, in wrapper\n",
      "    return func(self, *args, **kwargs)\n",
      "  File \"/home/koen/apps/anaconda3/envs/lark/lib/python3.8/site-packages/bravado/http_future.py\", line 300, in _get_swagger_result\n",
      "    unmarshal_response(\n",
      "  File \"/home/koen/apps/anaconda3/envs/lark/lib/python3.8/site-packages/bravado/http_future.py\", line 334, in unmarshal_response\n",
      "    raise_on_unexpected(incoming_response)\n",
      "  File \"/home/koen/apps/anaconda3/envs/lark/lib/python3.8/site-packages/bravado/http_future.py\", line 408, in raise_on_unexpected\n",
      "    raise make_http_exception(response=http_response)\n",
      "bravado.exception.HTTPServiceUnavailable: 503 Service Temporarily Unavailable: <html>\n",
      "<head><title>503 Service Temporarily Unavailable</title></head>\n",
      "<body>\n",
      "<center><h1>503 Service Temporarily Unavailable</h1></center>\n",
      "<hr><center>nginx</center>\n",
      "</body>\n",
      "</html>\n",
      "\n",
      "Unexpected error in ping thread.\n",
      "Traceback (most recent call last):\n",
      "  File \"/home/koen/apps/anaconda3/envs/lark/lib/python3.8/site-packages/neptune/internal/threads/ping_thread.py\", line 37, in run\n",
      "    self.__backend.ping_experiment(self.__experiment)\n",
      "  File \"/home/koen/apps/anaconda3/envs/lark/lib/python3.8/site-packages/neptune/internal/api_clients/hosted_api_clients/hosted_alpha_leaderboard_api_client.py\", line 382, in ping_experiment\n",
      "    self.leaderboard_swagger_client.api.ping(experimentId=str(experiment.internal_id)).response().result\n",
      "  File \"/home/koen/apps/anaconda3/envs/lark/lib/python3.8/site-packages/bravado/http_future.py\", line 239, in response\n",
      "    six.reraise(*sys.exc_info())\n",
      "  File \"/home/koen/apps/anaconda3/envs/lark/lib/python3.8/site-packages/six.py\", line 703, in reraise\n",
      "    raise value\n",
      "  File \"/home/koen/apps/anaconda3/envs/lark/lib/python3.8/site-packages/bravado/http_future.py\", line 200, in response\n",
      "    swagger_result = self._get_swagger_result(incoming_response)\n",
      "  File \"/home/koen/apps/anaconda3/envs/lark/lib/python3.8/site-packages/bravado/http_future.py\", line 124, in wrapper\n",
      "    return func(self, *args, **kwargs)\n",
      "  File \"/home/koen/apps/anaconda3/envs/lark/lib/python3.8/site-packages/bravado/http_future.py\", line 300, in _get_swagger_result\n",
      "    unmarshal_response(\n",
      "  File \"/home/koen/apps/anaconda3/envs/lark/lib/python3.8/site-packages/bravado/http_future.py\", line 334, in unmarshal_response\n",
      "    raise_on_unexpected(incoming_response)\n",
      "  File \"/home/koen/apps/anaconda3/envs/lark/lib/python3.8/site-packages/bravado/http_future.py\", line 408, in raise_on_unexpected\n",
      "    raise make_http_exception(response=http_response)\n",
      "bravado.exception.HTTPServiceUnavailable: 503 Service Temporarily Unavailable: <html>\n",
      "<head><title>503 Service Temporarily Unavailable</title></head>\n",
      "<body>\n",
      "<center><h1>503 Service Temporarily Unavailable</h1></center>\n",
      "<hr><center>nginx</center>\n",
      "</body>\n",
      "</html>\n",
      "\n",
      "Unexpected error in ping thread.\n",
      "Traceback (most recent call last):\n",
      "  File \"/home/koen/apps/anaconda3/envs/lark/lib/python3.8/site-packages/neptune/internal/threads/ping_thread.py\", line 37, in run\n",
      "    self.__backend.ping_experiment(self.__experiment)\n",
      "  File \"/home/koen/apps/anaconda3/envs/lark/lib/python3.8/site-packages/neptune/internal/api_clients/hosted_api_clients/hosted_alpha_leaderboard_api_client.py\", line 382, in ping_experiment\n",
      "    self.leaderboard_swagger_client.api.ping(experimentId=str(experiment.internal_id)).response().result\n",
      "  File \"/home/koen/apps/anaconda3/envs/lark/lib/python3.8/site-packages/bravado/http_future.py\", line 239, in response\n",
      "    six.reraise(*sys.exc_info())\n",
      "  File \"/home/koen/apps/anaconda3/envs/lark/lib/python3.8/site-packages/six.py\", line 703, in reraise\n",
      "    raise value\n",
      "  File \"/home/koen/apps/anaconda3/envs/lark/lib/python3.8/site-packages/bravado/http_future.py\", line 200, in response\n",
      "    swagger_result = self._get_swagger_result(incoming_response)\n",
      "  File \"/home/koen/apps/anaconda3/envs/lark/lib/python3.8/site-packages/bravado/http_future.py\", line 124, in wrapper\n",
      "    return func(self, *args, **kwargs)\n",
      "  File \"/home/koen/apps/anaconda3/envs/lark/lib/python3.8/site-packages/bravado/http_future.py\", line 300, in _get_swagger_result\n",
      "    unmarshal_response(\n",
      "  File \"/home/koen/apps/anaconda3/envs/lark/lib/python3.8/site-packages/bravado/http_future.py\", line 334, in unmarshal_response\n",
      "    raise_on_unexpected(incoming_response)\n",
      "  File \"/home/koen/apps/anaconda3/envs/lark/lib/python3.8/site-packages/bravado/http_future.py\", line 408, in raise_on_unexpected\n",
      "    raise make_http_exception(response=http_response)\n",
      "bravado.exception.HTTPServiceUnavailable: 503 Service Temporarily Unavailable: <html>\n",
      "<head><title>503 Service Temporarily Unavailable</title></head>\n",
      "<body>\n",
      "<center><h1>503 Service Temporarily Unavailable</h1></center>\n",
      "<hr><center>nginx</center>\n",
      "</body>\n",
      "</html>\n",
      "\n",
      "Unexpected error in ping thread.\n",
      "Traceback (most recent call last):\n",
      "  File \"/home/koen/apps/anaconda3/envs/lark/lib/python3.8/site-packages/neptune/internal/threads/ping_thread.py\", line 37, in run\n",
      "    self.__backend.ping_experiment(self.__experiment)\n",
      "  File \"/home/koen/apps/anaconda3/envs/lark/lib/python3.8/site-packages/neptune/internal/api_clients/hosted_api_clients/hosted_alpha_leaderboard_api_client.py\", line 382, in ping_experiment\n",
      "    self.leaderboard_swagger_client.api.ping(experimentId=str(experiment.internal_id)).response().result\n",
      "  File \"/home/koen/apps/anaconda3/envs/lark/lib/python3.8/site-packages/bravado/http_future.py\", line 239, in response\n",
      "    six.reraise(*sys.exc_info())\n",
      "  File \"/home/koen/apps/anaconda3/envs/lark/lib/python3.8/site-packages/six.py\", line 703, in reraise\n",
      "    raise value\n",
      "  File \"/home/koen/apps/anaconda3/envs/lark/lib/python3.8/site-packages/bravado/http_future.py\", line 200, in response\n",
      "    swagger_result = self._get_swagger_result(incoming_response)\n",
      "  File \"/home/koen/apps/anaconda3/envs/lark/lib/python3.8/site-packages/bravado/http_future.py\", line 124, in wrapper\n",
      "    return func(self, *args, **kwargs)\n",
      "  File \"/home/koen/apps/anaconda3/envs/lark/lib/python3.8/site-packages/bravado/http_future.py\", line 300, in _get_swagger_result\n",
      "    unmarshal_response(\n",
      "  File \"/home/koen/apps/anaconda3/envs/lark/lib/python3.8/site-packages/bravado/http_future.py\", line 334, in unmarshal_response\n",
      "    raise_on_unexpected(incoming_response)\n",
      "  File \"/home/koen/apps/anaconda3/envs/lark/lib/python3.8/site-packages/bravado/http_future.py\", line 408, in raise_on_unexpected\n",
      "    raise make_http_exception(response=http_response)\n",
      "bravado.exception.HTTPServiceUnavailable: 503 Service Temporarily Unavailable: <html>\n",
      "<head><title>503 Service Temporarily Unavailable</title></head>\n",
      "<body>\n",
      "<center><h1>503 Service Temporarily Unavailable</h1></center>\n",
      "<hr><center>nginx</center>\n",
      "</body>\n",
      "</html>\n",
      "\n",
      "Unexpected error in ping thread.\n",
      "Traceback (most recent call last):\n",
      "  File \"/home/koen/apps/anaconda3/envs/lark/lib/python3.8/site-packages/neptune/internal/threads/ping_thread.py\", line 37, in run\n",
      "    self.__backend.ping_experiment(self.__experiment)\n",
      "  File \"/home/koen/apps/anaconda3/envs/lark/lib/python3.8/site-packages/neptune/internal/api_clients/hosted_api_clients/hosted_alpha_leaderboard_api_client.py\", line 382, in ping_experiment\n",
      "    self.leaderboard_swagger_client.api.ping(experimentId=str(experiment.internal_id)).response().result\n",
      "  File \"/home/koen/apps/anaconda3/envs/lark/lib/python3.8/site-packages/bravado/http_future.py\", line 239, in response\n",
      "    six.reraise(*sys.exc_info())\n",
      "  File \"/home/koen/apps/anaconda3/envs/lark/lib/python3.8/site-packages/six.py\", line 703, in reraise\n",
      "    raise value\n",
      "  File \"/home/koen/apps/anaconda3/envs/lark/lib/python3.8/site-packages/bravado/http_future.py\", line 200, in response\n",
      "    swagger_result = self._get_swagger_result(incoming_response)\n",
      "  File \"/home/koen/apps/anaconda3/envs/lark/lib/python3.8/site-packages/bravado/http_future.py\", line 124, in wrapper\n",
      "    return func(self, *args, **kwargs)\n",
      "  File \"/home/koen/apps/anaconda3/envs/lark/lib/python3.8/site-packages/bravado/http_future.py\", line 300, in _get_swagger_result\n",
      "    unmarshal_response(\n",
      "  File \"/home/koen/apps/anaconda3/envs/lark/lib/python3.8/site-packages/bravado/http_future.py\", line 334, in unmarshal_response\n",
      "    raise_on_unexpected(incoming_response)\n",
      "  File \"/home/koen/apps/anaconda3/envs/lark/lib/python3.8/site-packages/bravado/http_future.py\", line 408, in raise_on_unexpected\n",
      "    raise make_http_exception(response=http_response)\n",
      "bravado.exception.HTTPServiceUnavailable: 503 Service Temporarily Unavailable: <html>\n",
      "<head><title>503 Service Temporarily Unavailable</title></head>\n",
      "<body>\n",
      "<center><h1>503 Service Temporarily Unavailable</h1></center>\n",
      "<hr><center>nginx</center>\n",
      "</body>\n",
      "</html>\n",
      "\n",
      "Unexpected error in ping thread.\n",
      "Traceback (most recent call last):\n",
      "  File \"/home/koen/apps/anaconda3/envs/lark/lib/python3.8/site-packages/neptune/internal/threads/ping_thread.py\", line 37, in run\n",
      "    self.__backend.ping_experiment(self.__experiment)\n",
      "  File \"/home/koen/apps/anaconda3/envs/lark/lib/python3.8/site-packages/neptune/internal/api_clients/hosted_api_clients/hosted_alpha_leaderboard_api_client.py\", line 382, in ping_experiment\n",
      "    self.leaderboard_swagger_client.api.ping(experimentId=str(experiment.internal_id)).response().result\n",
      "  File \"/home/koen/apps/anaconda3/envs/lark/lib/python3.8/site-packages/bravado/http_future.py\", line 239, in response\n",
      "    six.reraise(*sys.exc_info())\n",
      "  File \"/home/koen/apps/anaconda3/envs/lark/lib/python3.8/site-packages/six.py\", line 703, in reraise\n",
      "    raise value\n",
      "  File \"/home/koen/apps/anaconda3/envs/lark/lib/python3.8/site-packages/bravado/http_future.py\", line 200, in response\n",
      "    swagger_result = self._get_swagger_result(incoming_response)\n",
      "  File \"/home/koen/apps/anaconda3/envs/lark/lib/python3.8/site-packages/bravado/http_future.py\", line 124, in wrapper\n",
      "    return func(self, *args, **kwargs)\n",
      "  File \"/home/koen/apps/anaconda3/envs/lark/lib/python3.8/site-packages/bravado/http_future.py\", line 300, in _get_swagger_result\n",
      "    unmarshal_response(\n",
      "  File \"/home/koen/apps/anaconda3/envs/lark/lib/python3.8/site-packages/bravado/http_future.py\", line 334, in unmarshal_response\n",
      "    raise_on_unexpected(incoming_response)\n",
      "  File \"/home/koen/apps/anaconda3/envs/lark/lib/python3.8/site-packages/bravado/http_future.py\", line 408, in raise_on_unexpected\n",
      "    raise make_http_exception(response=http_response)\n",
      "bravado.exception.HTTPServiceUnavailable: 503 Service Temporarily Unavailable: <html>\n",
      "<head><title>503 Service Temporarily Unavailable</title></head>\n",
      "<body>\n",
      "<center><h1>503 Service Temporarily Unavailable</h1></center>\n",
      "<hr><center>nginx</center>\n",
      "</body>\n",
      "</html>\n",
      "\n",
      "Unexpected error in ping thread.\n",
      "Traceback (most recent call last):\n",
      "  File \"/home/koen/apps/anaconda3/envs/lark/lib/python3.8/site-packages/neptune/internal/threads/ping_thread.py\", line 37, in run\n",
      "    self.__backend.ping_experiment(self.__experiment)\n",
      "  File \"/home/koen/apps/anaconda3/envs/lark/lib/python3.8/site-packages/neptune/internal/api_clients/hosted_api_clients/hosted_alpha_leaderboard_api_client.py\", line 382, in ping_experiment\n",
      "    self.leaderboard_swagger_client.api.ping(experimentId=str(experiment.internal_id)).response().result\n",
      "  File \"/home/koen/apps/anaconda3/envs/lark/lib/python3.8/site-packages/bravado/http_future.py\", line 239, in response\n",
      "    six.reraise(*sys.exc_info())\n",
      "  File \"/home/koen/apps/anaconda3/envs/lark/lib/python3.8/site-packages/six.py\", line 703, in reraise\n",
      "    raise value\n",
      "  File \"/home/koen/apps/anaconda3/envs/lark/lib/python3.8/site-packages/bravado/http_future.py\", line 200, in response\n",
      "    swagger_result = self._get_swagger_result(incoming_response)\n",
      "  File \"/home/koen/apps/anaconda3/envs/lark/lib/python3.8/site-packages/bravado/http_future.py\", line 124, in wrapper\n",
      "    return func(self, *args, **kwargs)\n",
      "  File \"/home/koen/apps/anaconda3/envs/lark/lib/python3.8/site-packages/bravado/http_future.py\", line 300, in _get_swagger_result\n",
      "    unmarshal_response(\n",
      "  File \"/home/koen/apps/anaconda3/envs/lark/lib/python3.8/site-packages/bravado/http_future.py\", line 334, in unmarshal_response\n",
      "    raise_on_unexpected(incoming_response)\n",
      "  File \"/home/koen/apps/anaconda3/envs/lark/lib/python3.8/site-packages/bravado/http_future.py\", line 408, in raise_on_unexpected\n",
      "    raise make_http_exception(response=http_response)\n",
      "bravado.exception.HTTPServiceUnavailable: 503 Service Temporarily Unavailable: <html>\n",
      "<head><title>503 Service Temporarily Unavailable</title></head>\n",
      "<body>\n",
      "<center><h1>503 Service Temporarily Unavailable</h1></center>\n",
      "<hr><center>nginx</center>\n",
      "</body>\n",
      "</html>\n",
      "\n",
      "Unexpected error in ping thread.\n",
      "Traceback (most recent call last):\n",
      "  File \"/home/koen/apps/anaconda3/envs/lark/lib/python3.8/site-packages/neptune/internal/threads/ping_thread.py\", line 37, in run\n",
      "    self.__backend.ping_experiment(self.__experiment)\n",
      "  File \"/home/koen/apps/anaconda3/envs/lark/lib/python3.8/site-packages/neptune/internal/api_clients/hosted_api_clients/hosted_alpha_leaderboard_api_client.py\", line 382, in ping_experiment\n",
      "    self.leaderboard_swagger_client.api.ping(experimentId=str(experiment.internal_id)).response().result\n",
      "  File \"/home/koen/apps/anaconda3/envs/lark/lib/python3.8/site-packages/bravado/http_future.py\", line 239, in response\n",
      "    six.reraise(*sys.exc_info())\n",
      "  File \"/home/koen/apps/anaconda3/envs/lark/lib/python3.8/site-packages/six.py\", line 703, in reraise\n",
      "    raise value\n",
      "  File \"/home/koen/apps/anaconda3/envs/lark/lib/python3.8/site-packages/bravado/http_future.py\", line 200, in response\n",
      "    swagger_result = self._get_swagger_result(incoming_response)\n",
      "  File \"/home/koen/apps/anaconda3/envs/lark/lib/python3.8/site-packages/bravado/http_future.py\", line 124, in wrapper\n",
      "    return func(self, *args, **kwargs)\n",
      "  File \"/home/koen/apps/anaconda3/envs/lark/lib/python3.8/site-packages/bravado/http_future.py\", line 300, in _get_swagger_result\n",
      "    unmarshal_response(\n",
      "  File \"/home/koen/apps/anaconda3/envs/lark/lib/python3.8/site-packages/bravado/http_future.py\", line 334, in unmarshal_response\n",
      "    raise_on_unexpected(incoming_response)\n",
      "  File \"/home/koen/apps/anaconda3/envs/lark/lib/python3.8/site-packages/bravado/http_future.py\", line 408, in raise_on_unexpected\n",
      "    raise make_http_exception(response=http_response)\n",
      "bravado.exception.HTTPServiceUnavailable: 503 Service Temporarily Unavailable: <html>\n",
      "<head><title>503 Service Temporarily Unavailable</title></head>\n",
      "<body>\n",
      "<center><h1>503 Service Temporarily Unavailable</h1></center>\n",
      "<hr><center>nginx</center>\n",
      "</body>\n",
      "</html>\n",
      "\n",
      "Unexpected error in ping thread.\n",
      "Traceback (most recent call last):\n",
      "  File \"/home/koen/apps/anaconda3/envs/lark/lib/python3.8/site-packages/neptune/internal/threads/ping_thread.py\", line 37, in run\n",
      "    self.__backend.ping_experiment(self.__experiment)\n",
      "  File \"/home/koen/apps/anaconda3/envs/lark/lib/python3.8/site-packages/neptune/internal/api_clients/hosted_api_clients/hosted_alpha_leaderboard_api_client.py\", line 382, in ping_experiment\n",
      "    self.leaderboard_swagger_client.api.ping(experimentId=str(experiment.internal_id)).response().result\n",
      "  File \"/home/koen/apps/anaconda3/envs/lark/lib/python3.8/site-packages/bravado/http_future.py\", line 239, in response\n",
      "    six.reraise(*sys.exc_info())\n",
      "  File \"/home/koen/apps/anaconda3/envs/lark/lib/python3.8/site-packages/six.py\", line 703, in reraise\n",
      "    raise value\n",
      "  File \"/home/koen/apps/anaconda3/envs/lark/lib/python3.8/site-packages/bravado/http_future.py\", line 200, in response\n",
      "    swagger_result = self._get_swagger_result(incoming_response)\n",
      "  File \"/home/koen/apps/anaconda3/envs/lark/lib/python3.8/site-packages/bravado/http_future.py\", line 124, in wrapper\n",
      "    return func(self, *args, **kwargs)\n",
      "  File \"/home/koen/apps/anaconda3/envs/lark/lib/python3.8/site-packages/bravado/http_future.py\", line 300, in _get_swagger_result\n",
      "    unmarshal_response(\n",
      "  File \"/home/koen/apps/anaconda3/envs/lark/lib/python3.8/site-packages/bravado/http_future.py\", line 334, in unmarshal_response\n",
      "    raise_on_unexpected(incoming_response)\n",
      "  File \"/home/koen/apps/anaconda3/envs/lark/lib/python3.8/site-packages/bravado/http_future.py\", line 408, in raise_on_unexpected\n",
      "    raise make_http_exception(response=http_response)\n",
      "bravado.exception.HTTPServiceUnavailable: 503 Service Temporarily Unavailable: <html>\n",
      "<head><title>503 Service Temporarily Unavailable</title></head>\n",
      "<body>\n",
      "<center><h1>503 Service Temporarily Unavailable</h1></center>\n",
      "<hr><center>nginx</center>\n",
      "</body>\n",
      "</html>\n",
      "\n",
      "Unexpected error in ping thread.\n",
      "Traceback (most recent call last):\n",
      "  File \"/home/koen/apps/anaconda3/envs/lark/lib/python3.8/site-packages/neptune/internal/threads/ping_thread.py\", line 37, in run\n",
      "    self.__backend.ping_experiment(self.__experiment)\n",
      "  File \"/home/koen/apps/anaconda3/envs/lark/lib/python3.8/site-packages/neptune/internal/api_clients/hosted_api_clients/hosted_alpha_leaderboard_api_client.py\", line 382, in ping_experiment\n",
      "    self.leaderboard_swagger_client.api.ping(experimentId=str(experiment.internal_id)).response().result\n",
      "  File \"/home/koen/apps/anaconda3/envs/lark/lib/python3.8/site-packages/bravado/http_future.py\", line 239, in response\n",
      "    six.reraise(*sys.exc_info())\n",
      "  File \"/home/koen/apps/anaconda3/envs/lark/lib/python3.8/site-packages/six.py\", line 703, in reraise\n",
      "    raise value\n",
      "  File \"/home/koen/apps/anaconda3/envs/lark/lib/python3.8/site-packages/bravado/http_future.py\", line 200, in response\n",
      "    swagger_result = self._get_swagger_result(incoming_response)\n",
      "  File \"/home/koen/apps/anaconda3/envs/lark/lib/python3.8/site-packages/bravado/http_future.py\", line 124, in wrapper\n",
      "    return func(self, *args, **kwargs)\n",
      "  File \"/home/koen/apps/anaconda3/envs/lark/lib/python3.8/site-packages/bravado/http_future.py\", line 300, in _get_swagger_result\n",
      "    unmarshal_response(\n",
      "  File \"/home/koen/apps/anaconda3/envs/lark/lib/python3.8/site-packages/bravado/http_future.py\", line 334, in unmarshal_response\n",
      "    raise_on_unexpected(incoming_response)\n",
      "  File \"/home/koen/apps/anaconda3/envs/lark/lib/python3.8/site-packages/bravado/http_future.py\", line 408, in raise_on_unexpected\n",
      "    raise make_http_exception(response=http_response)\n",
      "bravado.exception.HTTPServiceUnavailable: 503 Service Temporarily Unavailable: <html>\n",
      "<head><title>503 Service Temporarily Unavailable</title></head>\n",
      "<body>\n",
      "<center><h1>503 Service Temporarily Unavailable</h1></center>\n",
      "<hr><center>nginx</center>\n",
      "</body>\n",
      "</html>\n",
      "\n",
      "Unexpected error in ping thread.\n",
      "Traceback (most recent call last):\n",
      "  File \"/home/koen/apps/anaconda3/envs/lark/lib/python3.8/site-packages/neptune/internal/threads/ping_thread.py\", line 37, in run\n",
      "    self.__backend.ping_experiment(self.__experiment)\n",
      "  File \"/home/koen/apps/anaconda3/envs/lark/lib/python3.8/site-packages/neptune/internal/api_clients/hosted_api_clients/hosted_alpha_leaderboard_api_client.py\", line 382, in ping_experiment\n",
      "    self.leaderboard_swagger_client.api.ping(experimentId=str(experiment.internal_id)).response().result\n",
      "  File \"/home/koen/apps/anaconda3/envs/lark/lib/python3.8/site-packages/bravado/http_future.py\", line 239, in response\n",
      "    six.reraise(*sys.exc_info())\n",
      "  File \"/home/koen/apps/anaconda3/envs/lark/lib/python3.8/site-packages/six.py\", line 703, in reraise\n",
      "    raise value\n",
      "  File \"/home/koen/apps/anaconda3/envs/lark/lib/python3.8/site-packages/bravado/http_future.py\", line 200, in response\n",
      "    swagger_result = self._get_swagger_result(incoming_response)\n",
      "  File \"/home/koen/apps/anaconda3/envs/lark/lib/python3.8/site-packages/bravado/http_future.py\", line 124, in wrapper\n",
      "    return func(self, *args, **kwargs)\n",
      "  File \"/home/koen/apps/anaconda3/envs/lark/lib/python3.8/site-packages/bravado/http_future.py\", line 300, in _get_swagger_result\n",
      "    unmarshal_response(\n",
      "  File \"/home/koen/apps/anaconda3/envs/lark/lib/python3.8/site-packages/bravado/http_future.py\", line 334, in unmarshal_response\n",
      "    raise_on_unexpected(incoming_response)\n",
      "  File \"/home/koen/apps/anaconda3/envs/lark/lib/python3.8/site-packages/bravado/http_future.py\", line 408, in raise_on_unexpected\n",
      "    raise make_http_exception(response=http_response)\n",
      "bravado.exception.HTTPServiceUnavailable: 503 Service Temporarily Unavailable: <html>\n",
      "<head><title>503 Service Temporarily Unavailable</title></head>\n",
      "<body>\n",
      "<center><h1>503 Service Temporarily Unavailable</h1></center>\n",
      "<hr><center>nginx</center>\n",
      "</body>\n",
      "</html>\n",
      "\n",
      "Unexpected error in ping thread.\n",
      "Traceback (most recent call last):\n",
      "  File \"/home/koen/apps/anaconda3/envs/lark/lib/python3.8/site-packages/neptune/internal/threads/ping_thread.py\", line 37, in run\n",
      "    self.__backend.ping_experiment(self.__experiment)\n",
      "  File \"/home/koen/apps/anaconda3/envs/lark/lib/python3.8/site-packages/neptune/internal/api_clients/hosted_api_clients/hosted_alpha_leaderboard_api_client.py\", line 382, in ping_experiment\n",
      "    self.leaderboard_swagger_client.api.ping(experimentId=str(experiment.internal_id)).response().result\n",
      "  File \"/home/koen/apps/anaconda3/envs/lark/lib/python3.8/site-packages/bravado/http_future.py\", line 239, in response\n",
      "    six.reraise(*sys.exc_info())\n",
      "  File \"/home/koen/apps/anaconda3/envs/lark/lib/python3.8/site-packages/six.py\", line 703, in reraise\n",
      "    raise value\n",
      "  File \"/home/koen/apps/anaconda3/envs/lark/lib/python3.8/site-packages/bravado/http_future.py\", line 200, in response\n",
      "    swagger_result = self._get_swagger_result(incoming_response)\n",
      "  File \"/home/koen/apps/anaconda3/envs/lark/lib/python3.8/site-packages/bravado/http_future.py\", line 124, in wrapper\n",
      "    return func(self, *args, **kwargs)\n",
      "  File \"/home/koen/apps/anaconda3/envs/lark/lib/python3.8/site-packages/bravado/http_future.py\", line 300, in _get_swagger_result\n",
      "    unmarshal_response(\n",
      "  File \"/home/koen/apps/anaconda3/envs/lark/lib/python3.8/site-packages/bravado/http_future.py\", line 334, in unmarshal_response\n",
      "    raise_on_unexpected(incoming_response)\n",
      "  File \"/home/koen/apps/anaconda3/envs/lark/lib/python3.8/site-packages/bravado/http_future.py\", line 408, in raise_on_unexpected\n",
      "    raise make_http_exception(response=http_response)\n",
      "bravado.exception.HTTPServiceUnavailable: 503 Service Temporarily Unavailable: <html>\n",
      "<head><title>503 Service Temporarily Unavailable</title></head>\n",
      "<body>\n",
      "<center><h1>503 Service Temporarily Unavailable</h1></center>\n",
      "<hr><center>nginx</center>\n",
      "</body>\n",
      "</html>\n",
      "\n",
      "Unexpected error in ping thread.\n",
      "Traceback (most recent call last):\n",
      "  File \"/home/koen/apps/anaconda3/envs/lark/lib/python3.8/site-packages/neptune/internal/threads/ping_thread.py\", line 37, in run\n",
      "    self.__backend.ping_experiment(self.__experiment)\n",
      "  File \"/home/koen/apps/anaconda3/envs/lark/lib/python3.8/site-packages/neptune/internal/api_clients/hosted_api_clients/hosted_alpha_leaderboard_api_client.py\", line 382, in ping_experiment\n",
      "    self.leaderboard_swagger_client.api.ping(experimentId=str(experiment.internal_id)).response().result\n",
      "  File \"/home/koen/apps/anaconda3/envs/lark/lib/python3.8/site-packages/bravado/http_future.py\", line 239, in response\n",
      "    six.reraise(*sys.exc_info())\n",
      "  File \"/home/koen/apps/anaconda3/envs/lark/lib/python3.8/site-packages/six.py\", line 703, in reraise\n",
      "    raise value\n",
      "  File \"/home/koen/apps/anaconda3/envs/lark/lib/python3.8/site-packages/bravado/http_future.py\", line 200, in response\n",
      "    swagger_result = self._get_swagger_result(incoming_response)\n",
      "  File \"/home/koen/apps/anaconda3/envs/lark/lib/python3.8/site-packages/bravado/http_future.py\", line 124, in wrapper\n",
      "    return func(self, *args, **kwargs)\n",
      "  File \"/home/koen/apps/anaconda3/envs/lark/lib/python3.8/site-packages/bravado/http_future.py\", line 300, in _get_swagger_result\n",
      "    unmarshal_response(\n",
      "  File \"/home/koen/apps/anaconda3/envs/lark/lib/python3.8/site-packages/bravado/http_future.py\", line 334, in unmarshal_response\n",
      "    raise_on_unexpected(incoming_response)\n",
      "  File \"/home/koen/apps/anaconda3/envs/lark/lib/python3.8/site-packages/bravado/http_future.py\", line 408, in raise_on_unexpected\n",
      "    raise make_http_exception(response=http_response)\n",
      "bravado.exception.HTTPServiceUnavailable: 503 Service Temporarily Unavailable: <html>\n",
      "<head><title>503 Service Temporarily Unavailable</title></head>\n",
      "<body>\n",
      "<center><h1>503 Service Temporarily Unavailable</h1></center>\n",
      "<hr><center>nginx</center>\n",
      "</body>\n",
      "</html>\n",
      "\n",
      "Unexpected error in ping thread.\n",
      "Traceback (most recent call last):\n",
      "  File \"/home/koen/apps/anaconda3/envs/lark/lib/python3.8/site-packages/neptune/internal/threads/ping_thread.py\", line 37, in run\n",
      "    self.__backend.ping_experiment(self.__experiment)\n",
      "  File \"/home/koen/apps/anaconda3/envs/lark/lib/python3.8/site-packages/neptune/internal/api_clients/hosted_api_clients/hosted_alpha_leaderboard_api_client.py\", line 382, in ping_experiment\n",
      "    self.leaderboard_swagger_client.api.ping(experimentId=str(experiment.internal_id)).response().result\n",
      "  File \"/home/koen/apps/anaconda3/envs/lark/lib/python3.8/site-packages/bravado/http_future.py\", line 239, in response\n",
      "    six.reraise(*sys.exc_info())\n",
      "  File \"/home/koen/apps/anaconda3/envs/lark/lib/python3.8/site-packages/six.py\", line 703, in reraise\n",
      "    raise value\n",
      "  File \"/home/koen/apps/anaconda3/envs/lark/lib/python3.8/site-packages/bravado/http_future.py\", line 200, in response\n",
      "    swagger_result = self._get_swagger_result(incoming_response)\n",
      "  File \"/home/koen/apps/anaconda3/envs/lark/lib/python3.8/site-packages/bravado/http_future.py\", line 124, in wrapper\n",
      "    return func(self, *args, **kwargs)\n",
      "  File \"/home/koen/apps/anaconda3/envs/lark/lib/python3.8/site-packages/bravado/http_future.py\", line 300, in _get_swagger_result\n",
      "    unmarshal_response(\n",
      "  File \"/home/koen/apps/anaconda3/envs/lark/lib/python3.8/site-packages/bravado/http_future.py\", line 334, in unmarshal_response\n",
      "    raise_on_unexpected(incoming_response)\n",
      "  File \"/home/koen/apps/anaconda3/envs/lark/lib/python3.8/site-packages/bravado/http_future.py\", line 408, in raise_on_unexpected\n",
      "    raise make_http_exception(response=http_response)\n",
      "bravado.exception.HTTPServiceUnavailable: 503 Service Unavailable: <html>\n",
      "<head><title>503 Service Temporarily Unavailable</title></head>\n",
      "<body>\n",
      "<center><h1>503 Service Temporarily Unavailable</h1></center>\n",
      "<hr><center>nginx</center>\n",
      "</body>\n",
      "</html>\n",
      "\n",
      "Unexpected error in ping thread.\n",
      "Traceback (most recent call last):\n",
      "  File \"/home/koen/apps/anaconda3/envs/lark/lib/python3.8/site-packages/neptune/internal/threads/ping_thread.py\", line 37, in run\n",
      "    self.__backend.ping_experiment(self.__experiment)\n",
      "  File \"/home/koen/apps/anaconda3/envs/lark/lib/python3.8/site-packages/neptune/internal/api_clients/hosted_api_clients/hosted_alpha_leaderboard_api_client.py\", line 382, in ping_experiment\n",
      "    self.leaderboard_swagger_client.api.ping(experimentId=str(experiment.internal_id)).response().result\n",
      "  File \"/home/koen/apps/anaconda3/envs/lark/lib/python3.8/site-packages/bravado/http_future.py\", line 239, in response\n",
      "    six.reraise(*sys.exc_info())\n",
      "  File \"/home/koen/apps/anaconda3/envs/lark/lib/python3.8/site-packages/six.py\", line 703, in reraise\n",
      "    raise value\n",
      "  File \"/home/koen/apps/anaconda3/envs/lark/lib/python3.8/site-packages/bravado/http_future.py\", line 200, in response\n",
      "    swagger_result = self._get_swagger_result(incoming_response)\n",
      "  File \"/home/koen/apps/anaconda3/envs/lark/lib/python3.8/site-packages/bravado/http_future.py\", line 124, in wrapper\n",
      "    return func(self, *args, **kwargs)\n",
      "  File \"/home/koen/apps/anaconda3/envs/lark/lib/python3.8/site-packages/bravado/http_future.py\", line 300, in _get_swagger_result\n",
      "    unmarshal_response(\n",
      "  File \"/home/koen/apps/anaconda3/envs/lark/lib/python3.8/site-packages/bravado/http_future.py\", line 334, in unmarshal_response\n",
      "    raise_on_unexpected(incoming_response)\n",
      "  File \"/home/koen/apps/anaconda3/envs/lark/lib/python3.8/site-packages/bravado/http_future.py\", line 408, in raise_on_unexpected\n",
      "    raise make_http_exception(response=http_response)\n",
      "bravado.exception.HTTPServiceUnavailable: 503 Service Temporarily Unavailable: <html>\n",
      "<head><title>503 Service Temporarily Unavailable</title></head>\n",
      "<body>\n",
      "<center><h1>503 Service Temporarily Unavailable</h1></center>\n",
      "<hr><center>nginx</center>\n",
      "</body>\n",
      "</html>\n",
      "\n",
      "Unexpected error in ping thread.\n",
      "Traceback (most recent call last):\n",
      "  File \"/home/koen/apps/anaconda3/envs/lark/lib/python3.8/site-packages/neptune/internal/threads/ping_thread.py\", line 37, in run\n",
      "    self.__backend.ping_experiment(self.__experiment)\n",
      "  File \"/home/koen/apps/anaconda3/envs/lark/lib/python3.8/site-packages/neptune/internal/api_clients/hosted_api_clients/hosted_alpha_leaderboard_api_client.py\", line 382, in ping_experiment\n",
      "    self.leaderboard_swagger_client.api.ping(experimentId=str(experiment.internal_id)).response().result\n",
      "  File \"/home/koen/apps/anaconda3/envs/lark/lib/python3.8/site-packages/bravado/http_future.py\", line 239, in response\n",
      "    six.reraise(*sys.exc_info())\n",
      "  File \"/home/koen/apps/anaconda3/envs/lark/lib/python3.8/site-packages/six.py\", line 703, in reraise\n",
      "    raise value\n",
      "  File \"/home/koen/apps/anaconda3/envs/lark/lib/python3.8/site-packages/bravado/http_future.py\", line 200, in response\n",
      "    swagger_result = self._get_swagger_result(incoming_response)\n",
      "  File \"/home/koen/apps/anaconda3/envs/lark/lib/python3.8/site-packages/bravado/http_future.py\", line 124, in wrapper\n",
      "    return func(self, *args, **kwargs)\n",
      "  File \"/home/koen/apps/anaconda3/envs/lark/lib/python3.8/site-packages/bravado/http_future.py\", line 300, in _get_swagger_result\n",
      "    unmarshal_response(\n",
      "  File \"/home/koen/apps/anaconda3/envs/lark/lib/python3.8/site-packages/bravado/http_future.py\", line 334, in unmarshal_response\n",
      "    raise_on_unexpected(incoming_response)\n",
      "  File \"/home/koen/apps/anaconda3/envs/lark/lib/python3.8/site-packages/bravado/http_future.py\", line 408, in raise_on_unexpected\n",
      "    raise make_http_exception(response=http_response)\n",
      "bravado.exception.HTTPServiceUnavailable: 503 Service Temporarily Unavailable: <html>\n",
      "<head><title>503 Service Temporarily Unavailable</title></head>\n",
      "<body>\n",
      "<center><h1>503 Service Temporarily Unavailable</h1></center>\n",
      "<hr><center>nginx</center>\n",
      "</body>\n",
      "</html>\n",
      "\n",
      "Unexpected error in ping thread.\n",
      "Traceback (most recent call last):\n",
      "  File \"/home/koen/apps/anaconda3/envs/lark/lib/python3.8/site-packages/neptune/internal/threads/ping_thread.py\", line 37, in run\n",
      "    self.__backend.ping_experiment(self.__experiment)\n",
      "  File \"/home/koen/apps/anaconda3/envs/lark/lib/python3.8/site-packages/neptune/internal/api_clients/hosted_api_clients/hosted_alpha_leaderboard_api_client.py\", line 382, in ping_experiment\n",
      "    self.leaderboard_swagger_client.api.ping(experimentId=str(experiment.internal_id)).response().result\n",
      "  File \"/home/koen/apps/anaconda3/envs/lark/lib/python3.8/site-packages/bravado/http_future.py\", line 239, in response\n",
      "    six.reraise(*sys.exc_info())\n",
      "  File \"/home/koen/apps/anaconda3/envs/lark/lib/python3.8/site-packages/six.py\", line 703, in reraise\n",
      "    raise value\n",
      "  File \"/home/koen/apps/anaconda3/envs/lark/lib/python3.8/site-packages/bravado/http_future.py\", line 200, in response\n",
      "    swagger_result = self._get_swagger_result(incoming_response)\n",
      "  File \"/home/koen/apps/anaconda3/envs/lark/lib/python3.8/site-packages/bravado/http_future.py\", line 124, in wrapper\n",
      "    return func(self, *args, **kwargs)\n",
      "  File \"/home/koen/apps/anaconda3/envs/lark/lib/python3.8/site-packages/bravado/http_future.py\", line 300, in _get_swagger_result\n",
      "    unmarshal_response(\n",
      "  File \"/home/koen/apps/anaconda3/envs/lark/lib/python3.8/site-packages/bravado/http_future.py\", line 334, in unmarshal_response\n",
      "    raise_on_unexpected(incoming_response)\n",
      "  File \"/home/koen/apps/anaconda3/envs/lark/lib/python3.8/site-packages/bravado/http_future.py\", line 408, in raise_on_unexpected\n",
      "    raise make_http_exception(response=http_response)\n",
      "bravado.exception.HTTPServiceUnavailable: 503 Service Temporarily Unavailable: <html>\n",
      "<head><title>503 Service Temporarily Unavailable</title></head>\n",
      "<body>\n",
      "<center><h1>503 Service Temporarily Unavailable</h1></center>\n",
      "<hr><center>nginx</center>\n",
      "</body>\n",
      "</html>\n",
      "\n",
      "Unexpected error in ping thread.\n",
      "Traceback (most recent call last):\n",
      "  File \"/home/koen/apps/anaconda3/envs/lark/lib/python3.8/site-packages/neptune/internal/threads/ping_thread.py\", line 37, in run\n",
      "    self.__backend.ping_experiment(self.__experiment)\n",
      "  File \"/home/koen/apps/anaconda3/envs/lark/lib/python3.8/site-packages/neptune/internal/api_clients/hosted_api_clients/hosted_alpha_leaderboard_api_client.py\", line 382, in ping_experiment\n",
      "    self.leaderboard_swagger_client.api.ping(experimentId=str(experiment.internal_id)).response().result\n",
      "  File \"/home/koen/apps/anaconda3/envs/lark/lib/python3.8/site-packages/bravado/http_future.py\", line 239, in response\n",
      "    six.reraise(*sys.exc_info())\n",
      "  File \"/home/koen/apps/anaconda3/envs/lark/lib/python3.8/site-packages/six.py\", line 703, in reraise\n",
      "    raise value\n",
      "  File \"/home/koen/apps/anaconda3/envs/lark/lib/python3.8/site-packages/bravado/http_future.py\", line 200, in response\n",
      "    swagger_result = self._get_swagger_result(incoming_response)\n",
      "  File \"/home/koen/apps/anaconda3/envs/lark/lib/python3.8/site-packages/bravado/http_future.py\", line 124, in wrapper\n",
      "    return func(self, *args, **kwargs)\n",
      "  File \"/home/koen/apps/anaconda3/envs/lark/lib/python3.8/site-packages/bravado/http_future.py\", line 300, in _get_swagger_result\n",
      "    unmarshal_response(\n",
      "  File \"/home/koen/apps/anaconda3/envs/lark/lib/python3.8/site-packages/bravado/http_future.py\", line 334, in unmarshal_response\n",
      "    raise_on_unexpected(incoming_response)\n",
      "  File \"/home/koen/apps/anaconda3/envs/lark/lib/python3.8/site-packages/bravado/http_future.py\", line 408, in raise_on_unexpected\n",
      "    raise make_http_exception(response=http_response)\n",
      "bravado.exception.HTTPServiceUnavailable: 503 Service Temporarily Unavailable: <html>\n",
      "<head><title>503 Service Temporarily Unavailable</title></head>\n",
      "<body>\n",
      "<center><h1>503 Service Temporarily Unavailable</h1></center>\n",
      "<hr><center>nginx</center>\n",
      "</body>\n",
      "</html>\n",
      "\n"
     ]
    },
    {
     "data": {
      "application/vnd.jupyter.widget-view+json": {
       "model_id": "",
       "version_major": 2,
       "version_minor": 0
      },
      "text/plain": [
       "  0%|          | 0/38 [00:00<?, ?it/s]"
      ]
     },
     "metadata": {},
     "output_type": "display_data"
    },
    {
     "name": "stdout",
     "output_type": "stream",
     "text": [
      "2021-05-07 21:56:08 epoch:  11 train loss: 0.219649 train f1: 0.182639 valid loss: 0.116037 valid f1: 0.163793\n"
     ]
    },
    {
     "data": {
      "application/vnd.jupyter.widget-view+json": {
       "model_id": "",
       "version_major": 2,
       "version_minor": 0
      },
      "text/plain": [
       "  0%|          | 0/672 [00:00<?, ?it/s]"
      ]
     },
     "metadata": {},
     "output_type": "display_data"
    },
    {
     "data": {
      "application/vnd.jupyter.widget-view+json": {
       "model_id": "",
       "version_major": 2,
       "version_minor": 0
      },
      "text/plain": [
       "  0%|          | 0/38 [00:00<?, ?it/s]"
      ]
     },
     "metadata": {},
     "output_type": "display_data"
    },
    {
     "name": "stdout",
     "output_type": "stream",
     "text": [
      "2021-05-07 21:57:35 epoch:  12 train loss: 0.216426 train f1: 0.197113 valid loss: 0.123152 valid f1: 0.099448\n"
     ]
    },
    {
     "data": {
      "application/vnd.jupyter.widget-view+json": {
       "model_id": "",
       "version_major": 2,
       "version_minor": 0
      },
      "text/plain": [
       "  0%|          | 0/672 [00:00<?, ?it/s]"
      ]
     },
     "metadata": {},
     "output_type": "display_data"
    },
    {
     "data": {
      "application/vnd.jupyter.widget-view+json": {
       "model_id": "",
       "version_major": 2,
       "version_minor": 0
      },
      "text/plain": [
       "  0%|          | 0/38 [00:00<?, ?it/s]"
      ]
     },
     "metadata": {},
     "output_type": "display_data"
    },
    {
     "name": "stdout",
     "output_type": "stream",
     "text": [
      "2021-05-07 21:59:01 epoch:  13 train loss: 0.214016 train f1: 0.210774 valid loss: 0.119391 valid f1: 0.129512\n"
     ]
    },
    {
     "data": {
      "application/vnd.jupyter.widget-view+json": {
       "model_id": "",
       "version_major": 2,
       "version_minor": 0
      },
      "text/plain": [
       "  0%|          | 0/672 [00:00<?, ?it/s]"
      ]
     },
     "metadata": {},
     "output_type": "display_data"
    },
    {
     "data": {
      "application/vnd.jupyter.widget-view+json": {
       "model_id": "",
       "version_major": 2,
       "version_minor": 0
      },
      "text/plain": [
       "  0%|          | 0/38 [00:00<?, ?it/s]"
      ]
     },
     "metadata": {},
     "output_type": "display_data"
    },
    {
     "name": "stdout",
     "output_type": "stream",
     "text": [
      "2021-05-07 22:00:27 epoch:  14 train loss: 0.214351 train f1: 0.210903 valid loss: 0.118257 valid f1: 0.128736\n"
     ]
    },
    {
     "data": {
      "application/vnd.jupyter.widget-view+json": {
       "model_id": "",
       "version_major": 2,
       "version_minor": 0
      },
      "text/plain": [
       "  0%|          | 0/672 [00:00<?, ?it/s]"
      ]
     },
     "metadata": {},
     "output_type": "display_data"
    },
    {
     "data": {
      "application/vnd.jupyter.widget-view+json": {
       "model_id": "",
       "version_major": 2,
       "version_minor": 0
      },
      "text/plain": [
       "  0%|          | 0/38 [00:00<?, ?it/s]"
      ]
     },
     "metadata": {},
     "output_type": "display_data"
    },
    {
     "name": "stdout",
     "output_type": "stream",
     "text": [
      "2021-05-07 22:01:53 epoch:  15 train loss: 0.212130 train f1: 0.219621 valid loss: 0.112396 valid f1: 0.167170\n"
     ]
    },
    {
     "data": {
      "application/vnd.jupyter.widget-view+json": {
       "model_id": "",
       "version_major": 2,
       "version_minor": 0
      },
      "text/plain": [
       "  0%|          | 0/672 [00:00<?, ?it/s]"
      ]
     },
     "metadata": {},
     "output_type": "display_data"
    },
    {
     "data": {
      "application/vnd.jupyter.widget-view+json": {
       "model_id": "",
       "version_major": 2,
       "version_minor": 0
      },
      "text/plain": [
       "  0%|          | 0/38 [00:00<?, ?it/s]"
      ]
     },
     "metadata": {},
     "output_type": "display_data"
    },
    {
     "name": "stdout",
     "output_type": "stream",
     "text": [
      "2021-05-07 22:03:21 epoch:  16 train loss: 0.210305 train f1: 0.233784 valid loss: 0.116747 valid f1: 0.158123\n"
     ]
    },
    {
     "data": {
      "application/vnd.jupyter.widget-view+json": {
       "model_id": "",
       "version_major": 2,
       "version_minor": 0
      },
      "text/plain": [
       "  0%|          | 0/672 [00:00<?, ?it/s]"
      ]
     },
     "metadata": {},
     "output_type": "display_data"
    },
    {
     "data": {
      "application/vnd.jupyter.widget-view+json": {
       "model_id": "",
       "version_major": 2,
       "version_minor": 0
      },
      "text/plain": [
       "  0%|          | 0/38 [00:00<?, ?it/s]"
      ]
     },
     "metadata": {},
     "output_type": "display_data"
    },
    {
     "name": "stdout",
     "output_type": "stream",
     "text": [
      "2021-05-07 22:04:48 epoch:  17 train loss: 0.211706 train f1: 0.232218 valid loss: 0.135676 valid f1: 0.107383\n"
     ]
    },
    {
     "data": {
      "application/vnd.jupyter.widget-view+json": {
       "model_id": "",
       "version_major": 2,
       "version_minor": 0
      },
      "text/plain": [
       "  0%|          | 0/672 [00:00<?, ?it/s]"
      ]
     },
     "metadata": {},
     "output_type": "display_data"
    },
    {
     "data": {
      "application/vnd.jupyter.widget-view+json": {
       "model_id": "",
       "version_major": 2,
       "version_minor": 0
      },
      "text/plain": [
       "  0%|          | 0/38 [00:00<?, ?it/s]"
      ]
     },
     "metadata": {},
     "output_type": "display_data"
    },
    {
     "name": "stdout",
     "output_type": "stream",
     "text": [
      "2021-05-07 22:06:13 epoch:  18 train loss: 0.209072 train f1: 0.242566 valid loss: 0.109516 valid f1: 0.170103\n"
     ]
    },
    {
     "data": {
      "application/vnd.jupyter.widget-view+json": {
       "model_id": "",
       "version_major": 2,
       "version_minor": 0
      },
      "text/plain": [
       "  0%|          | 0/672 [00:00<?, ?it/s]"
      ]
     },
     "metadata": {},
     "output_type": "display_data"
    },
    {
     "data": {
      "application/vnd.jupyter.widget-view+json": {
       "model_id": "",
       "version_major": 2,
       "version_minor": 0
      },
      "text/plain": [
       "  0%|          | 0/38 [00:00<?, ?it/s]"
      ]
     },
     "metadata": {},
     "output_type": "display_data"
    },
    {
     "name": "stdout",
     "output_type": "stream",
     "text": [
      "2021-05-07 22:07:40 epoch:  19 train loss: 0.206766 train f1: 0.252264 valid loss: 0.119309 valid f1: 0.193029\n"
     ]
    },
    {
     "data": {
      "application/vnd.jupyter.widget-view+json": {
       "model_id": "",
       "version_major": 2,
       "version_minor": 0
      },
      "text/plain": [
       "  0%|          | 0/672 [00:00<?, ?it/s]"
      ]
     },
     "metadata": {},
     "output_type": "display_data"
    },
    {
     "data": {
      "application/vnd.jupyter.widget-view+json": {
       "model_id": "",
       "version_major": 2,
       "version_minor": 0
      },
      "text/plain": [
       "  0%|          | 0/38 [00:00<?, ?it/s]"
      ]
     },
     "metadata": {},
     "output_type": "display_data"
    },
    {
     "name": "stdout",
     "output_type": "stream",
     "text": [
      "2021-05-07 22:09:06 epoch:  20 train loss: 0.207287 train f1: 0.252049 valid loss: 0.128497 valid f1: 0.148515\n"
     ]
    },
    {
     "data": {
      "application/vnd.jupyter.widget-view+json": {
       "model_id": "",
       "version_major": 2,
       "version_minor": 0
      },
      "text/plain": [
       "  0%|          | 0/672 [00:00<?, ?it/s]"
      ]
     },
     "metadata": {},
     "output_type": "display_data"
    },
    {
     "data": {
      "application/vnd.jupyter.widget-view+json": {
       "model_id": "",
       "version_major": 2,
       "version_minor": 0
      },
      "text/plain": [
       "  0%|          | 0/38 [00:00<?, ?it/s]"
      ]
     },
     "metadata": {},
     "output_type": "display_data"
    },
    {
     "name": "stdout",
     "output_type": "stream",
     "text": [
      "2021-05-07 22:10:31 epoch:  21 train loss: 0.205134 train f1: 0.263455 valid loss: 0.117010 valid f1: 0.173189\n"
     ]
    },
    {
     "data": {
      "application/vnd.jupyter.widget-view+json": {
       "model_id": "",
       "version_major": 2,
       "version_minor": 0
      },
      "text/plain": [
       "  0%|          | 0/672 [00:00<?, ?it/s]"
      ]
     },
     "metadata": {},
     "output_type": "display_data"
    },
    {
     "data": {
      "application/vnd.jupyter.widget-view+json": {
       "model_id": "",
       "version_major": 2,
       "version_minor": 0
      },
      "text/plain": [
       "  0%|          | 0/38 [00:00<?, ?it/s]"
      ]
     },
     "metadata": {},
     "output_type": "display_data"
    },
    {
     "name": "stdout",
     "output_type": "stream",
     "text": [
      "2021-05-07 22:12:00 epoch:  22 train loss: 0.206439 train f1: 0.260204 valid loss: 0.112251 valid f1: 0.188444\n"
     ]
    },
    {
     "data": {
      "application/vnd.jupyter.widget-view+json": {
       "model_id": "",
       "version_major": 2,
       "version_minor": 0
      },
      "text/plain": [
       "  0%|          | 0/672 [00:00<?, ?it/s]"
      ]
     },
     "metadata": {},
     "output_type": "display_data"
    },
    {
     "data": {
      "application/vnd.jupyter.widget-view+json": {
       "model_id": "",
       "version_major": 2,
       "version_minor": 0
      },
      "text/plain": [
       "  0%|          | 0/38 [00:00<?, ?it/s]"
      ]
     },
     "metadata": {},
     "output_type": "display_data"
    },
    {
     "name": "stdout",
     "output_type": "stream",
     "text": [
      "2021-05-07 22:13:30 epoch:  23 train loss: 0.205328 train f1: 0.271556 valid loss: 0.118508 valid f1: 0.236518\n"
     ]
    },
    {
     "data": {
      "application/vnd.jupyter.widget-view+json": {
       "model_id": "",
       "version_major": 2,
       "version_minor": 0
      },
      "text/plain": [
       "  0%|          | 0/672 [00:00<?, ?it/s]"
      ]
     },
     "metadata": {},
     "output_type": "display_data"
    },
    {
     "data": {
      "application/vnd.jupyter.widget-view+json": {
       "model_id": "",
       "version_major": 2,
       "version_minor": 0
      },
      "text/plain": [
       "  0%|          | 0/38 [00:00<?, ?it/s]"
      ]
     },
     "metadata": {},
     "output_type": "display_data"
    },
    {
     "name": "stdout",
     "output_type": "stream",
     "text": [
      "2021-05-07 22:14:57 epoch:  24 train loss: 0.202913 train f1: 0.277553 valid loss: 0.133887 valid f1: 0.137500\n"
     ]
    },
    {
     "data": {
      "application/vnd.jupyter.widget-view+json": {
       "model_id": "",
       "version_major": 2,
       "version_minor": 0
      },
      "text/plain": [
       "  0%|          | 0/672 [00:00<?, ?it/s]"
      ]
     },
     "metadata": {},
     "output_type": "display_data"
    },
    {
     "data": {
      "application/vnd.jupyter.widget-view+json": {
       "model_id": "",
       "version_major": 2,
       "version_minor": 0
      },
      "text/plain": [
       "  0%|          | 0/38 [00:00<?, ?it/s]"
      ]
     },
     "metadata": {},
     "output_type": "display_data"
    },
    {
     "name": "stdout",
     "output_type": "stream",
     "text": [
      "2021-05-07 22:16:25 epoch:  25 train loss: 0.202151 train f1: 0.283594 valid loss: 0.115640 valid f1: 0.207125\n"
     ]
    },
    {
     "data": {
      "application/vnd.jupyter.widget-view+json": {
       "model_id": "",
       "version_major": 2,
       "version_minor": 0
      },
      "text/plain": [
       "  0%|          | 0/672 [00:00<?, ?it/s]"
      ]
     },
     "metadata": {},
     "output_type": "display_data"
    },
    {
     "data": {
      "application/vnd.jupyter.widget-view+json": {
       "model_id": "",
       "version_major": 2,
       "version_minor": 0
      },
      "text/plain": [
       "  0%|          | 0/38 [00:00<?, ?it/s]"
      ]
     },
     "metadata": {},
     "output_type": "display_data"
    },
    {
     "name": "stdout",
     "output_type": "stream",
     "text": [
      "2021-05-07 22:17:52 epoch:  26 train loss: 0.202631 train f1: 0.281535 valid loss: 0.122312 valid f1: 0.164469\n"
     ]
    },
    {
     "data": {
      "application/vnd.jupyter.widget-view+json": {
       "model_id": "",
       "version_major": 2,
       "version_minor": 0
      },
      "text/plain": [
       "  0%|          | 0/672 [00:00<?, ?it/s]"
      ]
     },
     "metadata": {},
     "output_type": "display_data"
    },
    {
     "data": {
      "application/vnd.jupyter.widget-view+json": {
       "model_id": "",
       "version_major": 2,
       "version_minor": 0
      },
      "text/plain": [
       "  0%|          | 0/38 [00:00<?, ?it/s]"
      ]
     },
     "metadata": {},
     "output_type": "display_data"
    },
    {
     "name": "stdout",
     "output_type": "stream",
     "text": [
      "2021-05-07 22:19:20 epoch:  27 train loss: 0.201760 train f1: 0.287762 valid loss: 0.134604 valid f1: 0.149378\n"
     ]
    },
    {
     "data": {
      "application/vnd.jupyter.widget-view+json": {
       "model_id": "",
       "version_major": 2,
       "version_minor": 0
      },
      "text/plain": [
       "  0%|          | 0/672 [00:00<?, ?it/s]"
      ]
     },
     "metadata": {},
     "output_type": "display_data"
    },
    {
     "data": {
      "application/vnd.jupyter.widget-view+json": {
       "model_id": "",
       "version_major": 2,
       "version_minor": 0
      },
      "text/plain": [
       "  0%|          | 0/38 [00:00<?, ?it/s]"
      ]
     },
     "metadata": {},
     "output_type": "display_data"
    },
    {
     "name": "stdout",
     "output_type": "stream",
     "text": [
      "2021-05-07 22:20:49 epoch:  28 train loss: 0.201352 train f1: 0.291694 valid loss: 0.118608 valid f1: 0.204789\n"
     ]
    },
    {
     "data": {
      "application/vnd.jupyter.widget-view+json": {
       "model_id": "",
       "version_major": 2,
       "version_minor": 0
      },
      "text/plain": [
       "  0%|          | 0/672 [00:00<?, ?it/s]"
      ]
     },
     "metadata": {},
     "output_type": "display_data"
    },
    {
     "data": {
      "application/vnd.jupyter.widget-view+json": {
       "model_id": "",
       "version_major": 2,
       "version_minor": 0
      },
      "text/plain": [
       "  0%|          | 0/38 [00:00<?, ?it/s]"
      ]
     },
     "metadata": {},
     "output_type": "display_data"
    },
    {
     "name": "stdout",
     "output_type": "stream",
     "text": [
      "2021-05-07 22:22:17 epoch:  29 train loss: 0.198279 train f1: 0.299009 valid loss: 0.119487 valid f1: 0.175513\n"
     ]
    },
    {
     "data": {
      "application/vnd.jupyter.widget-view+json": {
       "model_id": "",
       "version_major": 2,
       "version_minor": 0
      },
      "text/plain": [
       "  0%|          | 0/672 [00:00<?, ?it/s]"
      ]
     },
     "metadata": {},
     "output_type": "display_data"
    },
    {
     "data": {
      "application/vnd.jupyter.widget-view+json": {
       "model_id": "",
       "version_major": 2,
       "version_minor": 0
      },
      "text/plain": [
       "  0%|          | 0/38 [00:00<?, ?it/s]"
      ]
     },
     "metadata": {},
     "output_type": "display_data"
    },
    {
     "name": "stdout",
     "output_type": "stream",
     "text": [
      "2021-05-07 22:23:45 epoch:  30 train loss: 0.197543 train f1: 0.304725 valid loss: 0.127713 valid f1: 0.139095\n"
     ]
    },
    {
     "data": {
      "application/vnd.jupyter.widget-view+json": {
       "model_id": "",
       "version_major": 2,
       "version_minor": 0
      },
      "text/plain": [
       "  0%|          | 0/672 [00:00<?, ?it/s]"
      ]
     },
     "metadata": {},
     "output_type": "display_data"
    },
    {
     "data": {
      "application/vnd.jupyter.widget-view+json": {
       "model_id": "",
       "version_major": 2,
       "version_minor": 0
      },
      "text/plain": [
       "  0%|          | 0/38 [00:00<?, ?it/s]"
      ]
     },
     "metadata": {},
     "output_type": "display_data"
    },
    {
     "name": "stdout",
     "output_type": "stream",
     "text": [
      "2021-05-07 22:25:13 epoch:  31 train loss: 0.199638 train f1: 0.296366 valid loss: 0.134557 valid f1: 0.166417\n"
     ]
    },
    {
     "data": {
      "application/vnd.jupyter.widget-view+json": {
       "model_id": "",
       "version_major": 2,
       "version_minor": 0
      },
      "text/plain": [
       "  0%|          | 0/672 [00:00<?, ?it/s]"
      ]
     },
     "metadata": {},
     "output_type": "display_data"
    },
    {
     "data": {
      "application/vnd.jupyter.widget-view+json": {
       "model_id": "",
       "version_major": 2,
       "version_minor": 0
      },
      "text/plain": [
       "  0%|          | 0/38 [00:00<?, ?it/s]"
      ]
     },
     "metadata": {},
     "output_type": "display_data"
    },
    {
     "name": "stdout",
     "output_type": "stream",
     "text": [
      "2021-05-07 22:26:40 epoch:  32 train loss: 0.198906 train f1: 0.309379 valid loss: 0.150028 valid f1: 0.123223\n"
     ]
    },
    {
     "data": {
      "application/vnd.jupyter.widget-view+json": {
       "model_id": "",
       "version_major": 2,
       "version_minor": 0
      },
      "text/plain": [
       "  0%|          | 0/672 [00:00<?, ?it/s]"
      ]
     },
     "metadata": {},
     "output_type": "display_data"
    },
    {
     "data": {
      "application/vnd.jupyter.widget-view+json": {
       "model_id": "",
       "version_major": 2,
       "version_minor": 0
      },
      "text/plain": [
       "  0%|          | 0/38 [00:00<?, ?it/s]"
      ]
     },
     "metadata": {},
     "output_type": "display_data"
    },
    {
     "name": "stdout",
     "output_type": "stream",
     "text": [
      "2021-05-07 22:28:09 epoch:  33 train loss: 0.197619 train f1: 0.311705 valid loss: 0.121849 valid f1: 0.140845\n"
     ]
    },
    {
     "data": {
      "application/vnd.jupyter.widget-view+json": {
       "model_id": "",
       "version_major": 2,
       "version_minor": 0
      },
      "text/plain": [
       "  0%|          | 0/672 [00:00<?, ?it/s]"
      ]
     },
     "metadata": {},
     "output_type": "display_data"
    },
    {
     "data": {
      "application/vnd.jupyter.widget-view+json": {
       "model_id": "",
       "version_major": 2,
       "version_minor": 0
      },
      "text/plain": [
       "  0%|          | 0/38 [00:00<?, ?it/s]"
      ]
     },
     "metadata": {},
     "output_type": "display_data"
    },
    {
     "name": "stdout",
     "output_type": "stream",
     "text": [
      "2021-05-07 22:29:36 epoch:  34 train loss: 0.197007 train f1: 0.311889 valid loss: 0.129952 valid f1: 0.107093\n"
     ]
    },
    {
     "data": {
      "application/vnd.jupyter.widget-view+json": {
       "model_id": "",
       "version_major": 2,
       "version_minor": 0
      },
      "text/plain": [
       "  0%|          | 0/672 [00:00<?, ?it/s]"
      ]
     },
     "metadata": {},
     "output_type": "display_data"
    },
    {
     "data": {
      "application/vnd.jupyter.widget-view+json": {
       "model_id": "",
       "version_major": 2,
       "version_minor": 0
      },
      "text/plain": [
       "  0%|          | 0/38 [00:00<?, ?it/s]"
      ]
     },
     "metadata": {},
     "output_type": "display_data"
    },
    {
     "name": "stdout",
     "output_type": "stream",
     "text": [
      "2021-05-07 22:31:03 epoch:  35 train loss: 0.195611 train f1: 0.320345 valid loss: 0.136207 valid f1: 0.147265\n"
     ]
    },
    {
     "data": {
      "application/vnd.jupyter.widget-view+json": {
       "model_id": "",
       "version_major": 2,
       "version_minor": 0
      },
      "text/plain": [
       "  0%|          | 0/672 [00:00<?, ?it/s]"
      ]
     },
     "metadata": {},
     "output_type": "display_data"
    },
    {
     "data": {
      "application/vnd.jupyter.widget-view+json": {
       "model_id": "",
       "version_major": 2,
       "version_minor": 0
      },
      "text/plain": [
       "  0%|          | 0/38 [00:00<?, ?it/s]"
      ]
     },
     "metadata": {},
     "output_type": "display_data"
    },
    {
     "name": "stdout",
     "output_type": "stream",
     "text": [
      "2021-05-07 22:32:31 epoch:  36 train loss: 0.197867 train f1: 0.316371 valid loss: 0.117493 valid f1: 0.152134\n"
     ]
    },
    {
     "data": {
      "application/vnd.jupyter.widget-view+json": {
       "model_id": "",
       "version_major": 2,
       "version_minor": 0
      },
      "text/plain": [
       "  0%|          | 0/672 [00:00<?, ?it/s]"
      ]
     },
     "metadata": {},
     "output_type": "display_data"
    },
    {
     "data": {
      "application/vnd.jupyter.widget-view+json": {
       "model_id": "",
       "version_major": 2,
       "version_minor": 0
      },
      "text/plain": [
       "  0%|          | 0/38 [00:00<?, ?it/s]"
      ]
     },
     "metadata": {},
     "output_type": "display_data"
    },
    {
     "name": "stdout",
     "output_type": "stream",
     "text": [
      "2021-05-07 22:33:58 epoch:  37 train loss: 0.195700 train f1: 0.325652 valid loss: 0.130699 valid f1: 0.124537\n"
     ]
    },
    {
     "data": {
      "application/vnd.jupyter.widget-view+json": {
       "model_id": "",
       "version_major": 2,
       "version_minor": 0
      },
      "text/plain": [
       "  0%|          | 0/672 [00:00<?, ?it/s]"
      ]
     },
     "metadata": {},
     "output_type": "display_data"
    },
    {
     "data": {
      "application/vnd.jupyter.widget-view+json": {
       "model_id": "",
       "version_major": 2,
       "version_minor": 0
      },
      "text/plain": [
       "  0%|          | 0/38 [00:00<?, ?it/s]"
      ]
     },
     "metadata": {},
     "output_type": "display_data"
    },
    {
     "name": "stdout",
     "output_type": "stream",
     "text": [
      "2021-05-07 22:35:26 epoch:  38 train loss: 0.194965 train f1: 0.330752 valid loss: 0.123527 valid f1: 0.121464\n"
     ]
    },
    {
     "data": {
      "application/vnd.jupyter.widget-view+json": {
       "model_id": "",
       "version_major": 2,
       "version_minor": 0
      },
      "text/plain": [
       "  0%|          | 0/672 [00:00<?, ?it/s]"
      ]
     },
     "metadata": {},
     "output_type": "display_data"
    },
    {
     "data": {
      "application/vnd.jupyter.widget-view+json": {
       "model_id": "",
       "version_major": 2,
       "version_minor": 0
      },
      "text/plain": [
       "  0%|          | 0/38 [00:00<?, ?it/s]"
      ]
     },
     "metadata": {},
     "output_type": "display_data"
    },
    {
     "name": "stdout",
     "output_type": "stream",
     "text": [
      "2021-05-07 22:36:54 epoch:  39 train loss: 0.193248 train f1: 0.334575 valid loss: 0.135936 valid f1: 0.088456\n"
     ]
    },
    {
     "data": {
      "application/vnd.jupyter.widget-view+json": {
       "model_id": "",
       "version_major": 2,
       "version_minor": 0
      },
      "text/plain": [
       "  0%|          | 0/672 [00:00<?, ?it/s]"
      ]
     },
     "metadata": {},
     "output_type": "display_data"
    },
    {
     "data": {
      "application/vnd.jupyter.widget-view+json": {
       "model_id": "",
       "version_major": 2,
       "version_minor": 0
      },
      "text/plain": [
       "  0%|          | 0/38 [00:00<?, ?it/s]"
      ]
     },
     "metadata": {},
     "output_type": "display_data"
    },
    {
     "name": "stdout",
     "output_type": "stream",
     "text": [
      "2021-05-07 22:38:20 epoch:  40 train loss: 0.193265 train f1: 0.339563 valid loss: 0.169892 valid f1: 0.092562\n"
     ]
    },
    {
     "data": {
      "application/vnd.jupyter.widget-view+json": {
       "model_id": "",
       "version_major": 2,
       "version_minor": 0
      },
      "text/plain": [
       "  0%|          | 0/672 [00:00<?, ?it/s]"
      ]
     },
     "metadata": {},
     "output_type": "display_data"
    },
    {
     "data": {
      "application/vnd.jupyter.widget-view+json": {
       "model_id": "",
       "version_major": 2,
       "version_minor": 0
      },
      "text/plain": [
       "  0%|          | 0/38 [00:00<?, ?it/s]"
      ]
     },
     "metadata": {},
     "output_type": "display_data"
    },
    {
     "name": "stdout",
     "output_type": "stream",
     "text": [
      "2021-05-07 22:39:45 epoch:  41 train loss: 0.193881 train f1: 0.341713 valid loss: 0.130589 valid f1: 0.137126\n"
     ]
    },
    {
     "data": {
      "application/vnd.jupyter.widget-view+json": {
       "model_id": "",
       "version_major": 2,
       "version_minor": 0
      },
      "text/plain": [
       "  0%|          | 0/672 [00:00<?, ?it/s]"
      ]
     },
     "metadata": {},
     "output_type": "display_data"
    },
    {
     "data": {
      "application/vnd.jupyter.widget-view+json": {
       "model_id": "",
       "version_major": 2,
       "version_minor": 0
      },
      "text/plain": [
       "  0%|          | 0/38 [00:00<?, ?it/s]"
      ]
     },
     "metadata": {},
     "output_type": "display_data"
    },
    {
     "name": "stdout",
     "output_type": "stream",
     "text": [
      "2021-05-07 22:41:11 epoch:  42 train loss: 0.191600 train f1: 0.344319 valid loss: 0.142212 valid f1: 0.143152\n"
     ]
    },
    {
     "data": {
      "application/vnd.jupyter.widget-view+json": {
       "model_id": "",
       "version_major": 2,
       "version_minor": 0
      },
      "text/plain": [
       "  0%|          | 0/672 [00:00<?, ?it/s]"
      ]
     },
     "metadata": {},
     "output_type": "display_data"
    },
    {
     "data": {
      "application/vnd.jupyter.widget-view+json": {
       "model_id": "",
       "version_major": 2,
       "version_minor": 0
      },
      "text/plain": [
       "  0%|          | 0/38 [00:00<?, ?it/s]"
      ]
     },
     "metadata": {},
     "output_type": "display_data"
    },
    {
     "name": "stdout",
     "output_type": "stream",
     "text": [
      "2021-05-07 22:42:37 epoch:  43 train loss: 0.191599 train f1: 0.346764 valid loss: 0.130231 valid f1: 0.162119\n"
     ]
    },
    {
     "data": {
      "application/vnd.jupyter.widget-view+json": {
       "model_id": "",
       "version_major": 2,
       "version_minor": 0
      },
      "text/plain": [
       "  0%|          | 0/672 [00:00<?, ?it/s]"
      ]
     },
     "metadata": {},
     "output_type": "display_data"
    },
    {
     "data": {
      "application/vnd.jupyter.widget-view+json": {
       "model_id": "",
       "version_major": 2,
       "version_minor": 0
      },
      "text/plain": [
       "  0%|          | 0/38 [00:00<?, ?it/s]"
      ]
     },
     "metadata": {},
     "output_type": "display_data"
    },
    {
     "name": "stdout",
     "output_type": "stream",
     "text": [
      "2021-05-07 22:44:02 epoch:  44 train loss: 0.191030 train f1: 0.345182 valid loss: 0.152998 valid f1: 0.099441\n"
     ]
    },
    {
     "data": {
      "application/vnd.jupyter.widget-view+json": {
       "model_id": "",
       "version_major": 2,
       "version_minor": 0
      },
      "text/plain": [
       "  0%|          | 0/672 [00:00<?, ?it/s]"
      ]
     },
     "metadata": {},
     "output_type": "display_data"
    },
    {
     "data": {
      "application/vnd.jupyter.widget-view+json": {
       "model_id": "",
       "version_major": 2,
       "version_minor": 0
      },
      "text/plain": [
       "  0%|          | 0/38 [00:00<?, ?it/s]"
      ]
     },
     "metadata": {},
     "output_type": "display_data"
    },
    {
     "name": "stdout",
     "output_type": "stream",
     "text": [
      "2021-05-07 22:45:27 epoch:  45 train loss: 0.191955 train f1: 0.349089 valid loss: 0.170411 valid f1: 0.079614\n"
     ]
    },
    {
     "data": {
      "application/vnd.jupyter.widget-view+json": {
       "model_id": "",
       "version_major": 2,
       "version_minor": 0
      },
      "text/plain": [
       "  0%|          | 0/672 [00:00<?, ?it/s]"
      ]
     },
     "metadata": {},
     "output_type": "display_data"
    },
    {
     "data": {
      "application/vnd.jupyter.widget-view+json": {
       "model_id": "",
       "version_major": 2,
       "version_minor": 0
      },
      "text/plain": [
       "  0%|          | 0/38 [00:00<?, ?it/s]"
      ]
     },
     "metadata": {},
     "output_type": "display_data"
    },
    {
     "name": "stdout",
     "output_type": "stream",
     "text": [
      "2021-05-07 22:46:53 epoch:  46 train loss: 0.188798 train f1: 0.354608 valid loss: 0.166973 valid f1: 0.097052\n"
     ]
    },
    {
     "data": {
      "application/vnd.jupyter.widget-view+json": {
       "model_id": "2049f545187e42d3afe753a89c0d710a",
       "version_major": 2,
       "version_minor": 0
      },
      "text/plain": [
       "  0%|          | 0/672 [00:00<?, ?it/s]"
      ]
     },
     "metadata": {},
     "output_type": "display_data"
    }
   ],
   "source": [
    "lrn.learn()"
   ]
  },
  {
   "cell_type": "code",
   "execution_count": 132,
   "id": "2f986526-2ace-4df5-96f6-392676536e41",
   "metadata": {},
   "outputs": [
    {
     "data": {
      "application/vnd.jupyter.widget-view+json": {
       "model_id": "4b9dac54d5da492fa928c25da111ad72",
       "version_major": 2,
       "version_minor": 0
      },
      "text/plain": [
       "  0%|          | 0/38 [00:00<?, ?it/s]"
      ]
     },
     "metadata": {},
     "output_type": "display_data"
    },
    {
     "data": {
      "text/html": [
       "<div>\n",
       "<style scoped>\n",
       "    .dataframe tbody tr th:only-of-type {\n",
       "        vertical-align: middle;\n",
       "    }\n",
       "\n",
       "    .dataframe tbody tr th {\n",
       "        vertical-align: top;\n",
       "    }\n",
       "\n",
       "    .dataframe thead th {\n",
       "        text-align: right;\n",
       "    }\n",
       "</style>\n",
       "<table border=\"1\" class=\"dataframe\">\n",
       "  <thead>\n",
       "    <tr style=\"text-align: right;\">\n",
       "      <th></th>\n",
       "      <th>thresh</th>\n",
       "      <th>tp</th>\n",
       "      <th>tn</th>\n",
       "      <th>fp</th>\n",
       "      <th>fn</th>\n",
       "      <th>f1</th>\n",
       "    </tr>\n",
       "  </thead>\n",
       "  <tbody>\n",
       "    <tr>\n",
       "      <th>0</th>\n",
       "      <td>0.0</td>\n",
       "      <td>770</td>\n",
       "      <td>0</td>\n",
       "      <td>32830</td>\n",
       "      <td>0</td>\n",
       "      <td>0.044807</td>\n",
       "    </tr>\n",
       "    <tr>\n",
       "      <th>1</th>\n",
       "      <td>0.1</td>\n",
       "      <td>432</td>\n",
       "      <td>28534</td>\n",
       "      <td>4296</td>\n",
       "      <td>338</td>\n",
       "      <td>0.157148</td>\n",
       "    </tr>\n",
       "    <tr>\n",
       "      <th>2</th>\n",
       "      <td>0.2</td>\n",
       "      <td>301</td>\n",
       "      <td>31509</td>\n",
       "      <td>1321</td>\n",
       "      <td>469</td>\n",
       "      <td>0.251672</td>\n",
       "    </tr>\n",
       "    <tr>\n",
       "      <th>3</th>\n",
       "      <td>0.3</td>\n",
       "      <td>229</td>\n",
       "      <td>32156</td>\n",
       "      <td>674</td>\n",
       "      <td>541</td>\n",
       "      <td>0.273760</td>\n",
       "    </tr>\n",
       "    <tr>\n",
       "      <th>4</th>\n",
       "      <td>0.4</td>\n",
       "      <td>186</td>\n",
       "      <td>32440</td>\n",
       "      <td>390</td>\n",
       "      <td>584</td>\n",
       "      <td>0.276374</td>\n",
       "    </tr>\n",
       "    <tr>\n",
       "      <th>5</th>\n",
       "      <td>0.5</td>\n",
       "      <td>151</td>\n",
       "      <td>32584</td>\n",
       "      <td>246</td>\n",
       "      <td>619</td>\n",
       "      <td>0.258783</td>\n",
       "    </tr>\n",
       "    <tr>\n",
       "      <th>6</th>\n",
       "      <td>0.6</td>\n",
       "      <td>126</td>\n",
       "      <td>32666</td>\n",
       "      <td>164</td>\n",
       "      <td>644</td>\n",
       "      <td>0.237736</td>\n",
       "    </tr>\n",
       "    <tr>\n",
       "      <th>7</th>\n",
       "      <td>0.7</td>\n",
       "      <td>101</td>\n",
       "      <td>32714</td>\n",
       "      <td>116</td>\n",
       "      <td>669</td>\n",
       "      <td>0.204661</td>\n",
       "    </tr>\n",
       "    <tr>\n",
       "      <th>8</th>\n",
       "      <td>0.8</td>\n",
       "      <td>78</td>\n",
       "      <td>32771</td>\n",
       "      <td>59</td>\n",
       "      <td>692</td>\n",
       "      <td>0.171996</td>\n",
       "    </tr>\n",
       "    <tr>\n",
       "      <th>9</th>\n",
       "      <td>0.9</td>\n",
       "      <td>53</td>\n",
       "      <td>32796</td>\n",
       "      <td>34</td>\n",
       "      <td>717</td>\n",
       "      <td>0.123687</td>\n",
       "    </tr>\n",
       "    <tr>\n",
       "      <th>10</th>\n",
       "      <td>1.0</td>\n",
       "      <td>0</td>\n",
       "      <td>32830</td>\n",
       "      <td>0</td>\n",
       "      <td>770</td>\n",
       "      <td>0.000000</td>\n",
       "    </tr>\n",
       "  </tbody>\n",
       "</table>\n",
       "</div>"
      ],
      "text/plain": [
       "    thresh   tp     tn     fp   fn        f1\n",
       "0      0.0  770      0  32830    0  0.044807\n",
       "1      0.1  432  28534   4296  338  0.157148\n",
       "2      0.2  301  31509   1321  469  0.251672\n",
       "3      0.3  229  32156    674  541  0.273760\n",
       "4      0.4  186  32440    390  584  0.276374\n",
       "5      0.5  151  32584    246  619  0.258783\n",
       "6      0.6  126  32666    164  644  0.237736\n",
       "7      0.7  101  32714    116  669  0.204661\n",
       "8      0.8   78  32771     59  692  0.171996\n",
       "9      0.9   53  32796     34  717  0.123687\n",
       "10     1.0    0  32830      0  770  0.000000"
      ]
     },
     "execution_count": 132,
     "metadata": {},
     "output_type": "execute_result"
    }
   ],
   "source": [
    "lrn.evaluate()"
   ]
  },
  {
   "cell_type": "code",
   "execution_count": 133,
   "id": "c2da1e75-b446-4df1-8705-dd6d187f79e3",
   "metadata": {},
   "outputs": [
    {
     "data": {
      "text/plain": [
       "{'epoch': 22,\n",
       " 'valid_loss': 0.1087923233250254,\n",
       " 'valid_score': 0.2665489912033081}"
      ]
     },
     "execution_count": 133,
     "metadata": {},
     "output_type": "execute_result"
    }
   ],
   "source": [
    "lrn.load_checkpoint('best')"
   ]
  },
  {
   "cell_type": "code",
   "execution_count": 134,
   "id": "e29b77a7-94d8-4301-bfbb-1262c10089f9",
   "metadata": {},
   "outputs": [
    {
     "data": {
      "application/vnd.jupyter.widget-view+json": {
       "model_id": "8cc68af9289348d1a315aa62a84219b0",
       "version_major": 2,
       "version_minor": 0
      },
      "text/plain": [
       "  0%|          | 0/38 [00:00<?, ?it/s]"
      ]
     },
     "metadata": {},
     "output_type": "display_data"
    },
    {
     "data": {
      "text/html": [
       "<div>\n",
       "<style scoped>\n",
       "    .dataframe tbody tr th:only-of-type {\n",
       "        vertical-align: middle;\n",
       "    }\n",
       "\n",
       "    .dataframe tbody tr th {\n",
       "        vertical-align: top;\n",
       "    }\n",
       "\n",
       "    .dataframe thead th {\n",
       "        text-align: right;\n",
       "    }\n",
       "</style>\n",
       "<table border=\"1\" class=\"dataframe\">\n",
       "  <thead>\n",
       "    <tr style=\"text-align: right;\">\n",
       "      <th></th>\n",
       "      <th>thresh</th>\n",
       "      <th>tp</th>\n",
       "      <th>tn</th>\n",
       "      <th>fp</th>\n",
       "      <th>fn</th>\n",
       "      <th>f1</th>\n",
       "    </tr>\n",
       "  </thead>\n",
       "  <tbody>\n",
       "    <tr>\n",
       "      <th>0</th>\n",
       "      <td>0.0</td>\n",
       "      <td>770</td>\n",
       "      <td>0</td>\n",
       "      <td>32830</td>\n",
       "      <td>0</td>\n",
       "      <td>0.044807</td>\n",
       "    </tr>\n",
       "    <tr>\n",
       "      <th>1</th>\n",
       "      <td>0.1</td>\n",
       "      <td>441</td>\n",
       "      <td>28642</td>\n",
       "      <td>4188</td>\n",
       "      <td>329</td>\n",
       "      <td>0.163364</td>\n",
       "    </tr>\n",
       "    <tr>\n",
       "      <th>2</th>\n",
       "      <td>0.2</td>\n",
       "      <td>302</td>\n",
       "      <td>31612</td>\n",
       "      <td>1218</td>\n",
       "      <td>468</td>\n",
       "      <td>0.263755</td>\n",
       "    </tr>\n",
       "    <tr>\n",
       "      <th>3</th>\n",
       "      <td>0.3</td>\n",
       "      <td>225</td>\n",
       "      <td>32227</td>\n",
       "      <td>603</td>\n",
       "      <td>545</td>\n",
       "      <td>0.281602</td>\n",
       "    </tr>\n",
       "    <tr>\n",
       "      <th>4</th>\n",
       "      <td>0.4</td>\n",
       "      <td>183</td>\n",
       "      <td>32489</td>\n",
       "      <td>341</td>\n",
       "      <td>587</td>\n",
       "      <td>0.282844</td>\n",
       "    </tr>\n",
       "    <tr>\n",
       "      <th>5</th>\n",
       "      <td>0.5</td>\n",
       "      <td>151</td>\n",
       "      <td>32618</td>\n",
       "      <td>212</td>\n",
       "      <td>619</td>\n",
       "      <td>0.266549</td>\n",
       "    </tr>\n",
       "    <tr>\n",
       "      <th>6</th>\n",
       "      <td>0.6</td>\n",
       "      <td>122</td>\n",
       "      <td>32691</td>\n",
       "      <td>139</td>\n",
       "      <td>648</td>\n",
       "      <td>0.236663</td>\n",
       "    </tr>\n",
       "    <tr>\n",
       "      <th>7</th>\n",
       "      <td>0.7</td>\n",
       "      <td>99</td>\n",
       "      <td>32741</td>\n",
       "      <td>89</td>\n",
       "      <td>671</td>\n",
       "      <td>0.206681</td>\n",
       "    </tr>\n",
       "    <tr>\n",
       "      <th>8</th>\n",
       "      <td>0.8</td>\n",
       "      <td>79</td>\n",
       "      <td>32785</td>\n",
       "      <td>45</td>\n",
       "      <td>691</td>\n",
       "      <td>0.176734</td>\n",
       "    </tr>\n",
       "    <tr>\n",
       "      <th>9</th>\n",
       "      <td>0.9</td>\n",
       "      <td>53</td>\n",
       "      <td>32812</td>\n",
       "      <td>18</td>\n",
       "      <td>717</td>\n",
       "      <td>0.126040</td>\n",
       "    </tr>\n",
       "    <tr>\n",
       "      <th>10</th>\n",
       "      <td>1.0</td>\n",
       "      <td>0</td>\n",
       "      <td>32830</td>\n",
       "      <td>0</td>\n",
       "      <td>770</td>\n",
       "      <td>0.000000</td>\n",
       "    </tr>\n",
       "  </tbody>\n",
       "</table>\n",
       "</div>"
      ],
      "text/plain": [
       "    thresh   tp     tn     fp   fn        f1\n",
       "0      0.0  770      0  32830    0  0.044807\n",
       "1      0.1  441  28642   4188  329  0.163364\n",
       "2      0.2  302  31612   1218  468  0.263755\n",
       "3      0.3  225  32227    603  545  0.281602\n",
       "4      0.4  183  32489    341  587  0.282844\n",
       "5      0.5  151  32618    212  619  0.266549\n",
       "6      0.6  122  32691    139  648  0.236663\n",
       "7      0.7   99  32741     89  671  0.206681\n",
       "8      0.8   79  32785     45  691  0.176734\n",
       "9      0.9   53  32812     18  717  0.126040\n",
       "10     1.0    0  32830      0  770  0.000000"
      ]
     },
     "execution_count": 134,
     "metadata": {},
     "output_type": "execute_result"
    }
   ],
   "source": [
    "lrn.evaluate()"
   ]
  },
  {
   "cell_type": "code",
   "execution_count": 135,
   "id": "0b6d3e35-9f87-4e0f-9983-e91eb46e1d8e",
   "metadata": {},
   "outputs": [
    {
     "data": {
      "text/plain": [
       "{'total_steps': 25200,\n",
       " '_schedule_phases': [{'end_step': 7559.0,\n",
       "   'start_lr': 'initial_lr',\n",
       "   'end_lr': 'max_lr',\n",
       "   'start_momentum': 'max_momentum',\n",
       "   'end_momentum': 'base_momentum'},\n",
       "  {'end_step': 25199,\n",
       "   'start_lr': 'max_lr',\n",
       "   'end_lr': 'min_lr',\n",
       "   'start_momentum': 'base_momentum',\n",
       "   'end_momentum': 'max_momentum'}],\n",
       " 'anneal_func': <bound method OneCycleLR._annealing_cos of <torch.optim.lr_scheduler.OneCycleLR object at 0x7f8f4a0c0250>>,\n",
       " 'cycle_momentum': True,\n",
       " 'use_beta1': True,\n",
       " 'base_lrs': [0.0004],\n",
       " 'last_epoch': 23184,\n",
       " '_step_count': 23185,\n",
       " 'verbose': False,\n",
       " '_get_lr_called_within_step': False,\n",
       " '_last_lr': [0.0003185515568067364]}"
      ]
     },
     "execution_count": 135,
     "metadata": {},
     "output_type": "execute_result"
    }
   ],
   "source": [
    "lrn.scheduler.state_dict()"
   ]
  },
  {
   "cell_type": "code",
   "execution_count": 136,
   "id": "53eacf45-519e-462e-a9bc-e2ad6c3db2ff",
   "metadata": {},
   "outputs": [],
   "source": [
    "for param in model.parameters():\n",
    "    param.requires_grad = True"
   ]
  },
  {
   "cell_type": "code",
   "execution_count": 138,
   "id": "cb9a5ed3-3441-4350-bf0b-063a27ffed0b",
   "metadata": {},
   "outputs": [],
   "source": [
    "cfg = Config(\n",
    "    noise_nsr_dbs = [30],\n",
    "    sites=['SSW'], \n",
    "    use_neptune=True, \n",
    "    log_batch_metrics=True,\n",
    "    n_epochs=100, \n",
    "    bs=32, \n",
    "    lr=1e-4,\n",
    "    model='resnet18',\n",
    "    scheduler='torch.optim.lr_scheduler.CosineAnnealingLR'\n",
    ")"
   ]
  },
  {
   "cell_type": "code",
   "execution_count": 139,
   "id": "31fa5482-5fb3-4d44-bc7e-74d70fcac4a5",
   "metadata": {},
   "outputs": [
    {
     "name": "stdout",
     "output_type": "stream",
     "text": [
      "resnet18-unfrozen-20210507-200950\n"
     ]
    },
    {
     "name": "stderr",
     "output_type": "stream",
     "text": [
      "/home/koen/projects/botkop/lark/nbs/botkop/lark/data.py:76: FutureWarning: The default value of regex will change from True to False in a future version.\n",
      "  self.df_meta['secondary_labels'] = self.df_meta['secondary_labels'].str.replace(\"[\\[\\]',]\", '').str.split()\n",
      "/home/koen/projects/botkop/lark/nbs/botkop/lark/data.py:77: FutureWarning: The default value of regex will change from True to False in a future version.\n",
      "  self.df_meta['filename'] = self.df_meta['filename'].str.replace(\".ogg\", '.wav')\n"
     ]
    }
   ],
   "source": [
    "lrn = Learner(\"resnet18-unfrozen\", cfg, model)"
   ]
  },
  {
   "cell_type": "code",
   "execution_count": 140,
   "id": "4a0003e3-69a8-4d92-8c65-d15df0309d8b",
   "metadata": {},
   "outputs": [
    {
     "name": "stderr",
     "output_type": "stream",
     "text": [
      "psutil is not installed. You will not be able to abort this experiment from the UI.\n",
      "psutil is not installed. Hardware metrics will not be collected.\n"
     ]
    },
    {
     "name": "stdout",
     "output_type": "stream",
     "text": [
      "https://ui.neptune.ai/botkop/lark/e/LAR-99\n"
     ]
    },
    {
     "data": {
      "application/vnd.jupyter.widget-view+json": {
       "model_id": "4508d4a6671644c48f73cab0aefec1a3",
       "version_major": 2,
       "version_minor": 0
      },
      "text/plain": [
       "  0%|          | 0/100 [00:00<?, ?it/s]"
      ]
     },
     "metadata": {},
     "output_type": "display_data"
    },
    {
     "data": {
      "application/vnd.jupyter.widget-view+json": {
       "model_id": "",
       "version_major": 2,
       "version_minor": 0
      },
      "text/plain": [
       "  0%|          | 0/1008 [00:00<?, ?it/s]"
      ]
     },
     "metadata": {},
     "output_type": "display_data"
    },
    {
     "data": {
      "application/vnd.jupyter.widget-view+json": {
       "model_id": "",
       "version_major": 2,
       "version_minor": 0
      },
      "text/plain": [
       "  0%|          | 0/38 [00:00<?, ?it/s]"
      ]
     },
     "metadata": {},
     "output_type": "display_data"
    },
    {
     "name": "stdout",
     "output_type": "stream",
     "text": [
      "2021-05-07 20:12:04 epoch:   1 train loss: 0.186146 train f1: 0.378648 valid loss: 0.109609 valid f1: 0.286865\n"
     ]
    },
    {
     "data": {
      "application/vnd.jupyter.widget-view+json": {
       "model_id": "",
       "version_major": 2,
       "version_minor": 0
      },
      "text/plain": [
       "  0%|          | 0/1008 [00:00<?, ?it/s]"
      ]
     },
     "metadata": {},
     "output_type": "display_data"
    },
    {
     "data": {
      "application/vnd.jupyter.widget-view+json": {
       "model_id": "",
       "version_major": 2,
       "version_minor": 0
      },
      "text/plain": [
       "  0%|          | 0/38 [00:00<?, ?it/s]"
      ]
     },
     "metadata": {},
     "output_type": "display_data"
    },
    {
     "name": "stdout",
     "output_type": "stream",
     "text": [
      "2021-05-07 20:14:13 epoch:   2 train loss: 0.184391 train f1: 0.387774 valid loss: 0.112842 valid f1: 0.294314\n"
     ]
    },
    {
     "data": {
      "application/vnd.jupyter.widget-view+json": {
       "model_id": "",
       "version_major": 2,
       "version_minor": 0
      },
      "text/plain": [
       "  0%|          | 0/1008 [00:00<?, ?it/s]"
      ]
     },
     "metadata": {},
     "output_type": "display_data"
    },
    {
     "data": {
      "application/vnd.jupyter.widget-view+json": {
       "model_id": "",
       "version_major": 2,
       "version_minor": 0
      },
      "text/plain": [
       "  0%|          | 0/38 [00:00<?, ?it/s]"
      ]
     },
     "metadata": {},
     "output_type": "display_data"
    },
    {
     "name": "stdout",
     "output_type": "stream",
     "text": [
      "2021-05-07 20:16:21 epoch:   3 train loss: 0.180981 train f1: 0.396981 valid loss: 0.109451 valid f1: 0.302789\n"
     ]
    },
    {
     "data": {
      "application/vnd.jupyter.widget-view+json": {
       "model_id": "",
       "version_major": 2,
       "version_minor": 0
      },
      "text/plain": [
       "  0%|          | 0/1008 [00:00<?, ?it/s]"
      ]
     },
     "metadata": {},
     "output_type": "display_data"
    },
    {
     "data": {
      "application/vnd.jupyter.widget-view+json": {
       "model_id": "",
       "version_major": 2,
       "version_minor": 0
      },
      "text/plain": [
       "  0%|          | 0/38 [00:00<?, ?it/s]"
      ]
     },
     "metadata": {},
     "output_type": "display_data"
    },
    {
     "name": "stdout",
     "output_type": "stream",
     "text": [
      "2021-05-07 20:18:29 epoch:   4 train loss: 0.183636 train f1: 0.395098 valid loss: 0.113266 valid f1: 0.300955\n"
     ]
    },
    {
     "data": {
      "application/vnd.jupyter.widget-view+json": {
       "model_id": "",
       "version_major": 2,
       "version_minor": 0
      },
      "text/plain": [
       "  0%|          | 0/1008 [00:00<?, ?it/s]"
      ]
     },
     "metadata": {},
     "output_type": "display_data"
    },
    {
     "data": {
      "application/vnd.jupyter.widget-view+json": {
       "model_id": "",
       "version_major": 2,
       "version_minor": 0
      },
      "text/plain": [
       "  0%|          | 0/38 [00:00<?, ?it/s]"
      ]
     },
     "metadata": {},
     "output_type": "display_data"
    },
    {
     "name": "stdout",
     "output_type": "stream",
     "text": [
      "2021-05-07 20:20:36 epoch:   5 train loss: 0.182781 train f1: 0.398025 valid loss: 0.116569 valid f1: 0.303310\n"
     ]
    },
    {
     "data": {
      "application/vnd.jupyter.widget-view+json": {
       "model_id": "",
       "version_major": 2,
       "version_minor": 0
      },
      "text/plain": [
       "  0%|          | 0/1008 [00:00<?, ?it/s]"
      ]
     },
     "metadata": {},
     "output_type": "display_data"
    },
    {
     "data": {
      "application/vnd.jupyter.widget-view+json": {
       "model_id": "",
       "version_major": 2,
       "version_minor": 0
      },
      "text/plain": [
       "  0%|          | 0/38 [00:00<?, ?it/s]"
      ]
     },
     "metadata": {},
     "output_type": "display_data"
    },
    {
     "name": "stdout",
     "output_type": "stream",
     "text": [
      "2021-05-07 20:22:45 epoch:   6 train loss: 0.179561 train f1: 0.409276 valid loss: 0.111854 valid f1: 0.275459\n"
     ]
    },
    {
     "data": {
      "application/vnd.jupyter.widget-view+json": {
       "model_id": "",
       "version_major": 2,
       "version_minor": 0
      },
      "text/plain": [
       "  0%|          | 0/1008 [00:00<?, ?it/s]"
      ]
     },
     "metadata": {},
     "output_type": "display_data"
    },
    {
     "data": {
      "application/vnd.jupyter.widget-view+json": {
       "model_id": "",
       "version_major": 2,
       "version_minor": 0
      },
      "text/plain": [
       "  0%|          | 0/38 [00:00<?, ?it/s]"
      ]
     },
     "metadata": {},
     "output_type": "display_data"
    },
    {
     "name": "stdout",
     "output_type": "stream",
     "text": [
      "2021-05-07 20:24:51 epoch:   7 train loss: 0.179399 train f1: 0.409566 valid loss: 0.114295 valid f1: 0.280032\n"
     ]
    },
    {
     "data": {
      "application/vnd.jupyter.widget-view+json": {
       "model_id": "",
       "version_major": 2,
       "version_minor": 0
      },
      "text/plain": [
       "  0%|          | 0/1008 [00:00<?, ?it/s]"
      ]
     },
     "metadata": {},
     "output_type": "display_data"
    },
    {
     "data": {
      "application/vnd.jupyter.widget-view+json": {
       "model_id": "",
       "version_major": 2,
       "version_minor": 0
      },
      "text/plain": [
       "  0%|          | 0/38 [00:00<?, ?it/s]"
      ]
     },
     "metadata": {},
     "output_type": "display_data"
    },
    {
     "name": "stdout",
     "output_type": "stream",
     "text": [
      "2021-05-07 20:26:59 epoch:   8 train loss: 0.178991 train f1: 0.413692 valid loss: 0.115153 valid f1: 0.309325\n"
     ]
    },
    {
     "data": {
      "application/vnd.jupyter.widget-view+json": {
       "model_id": "",
       "version_major": 2,
       "version_minor": 0
      },
      "text/plain": [
       "  0%|          | 0/1008 [00:00<?, ?it/s]"
      ]
     },
     "metadata": {},
     "output_type": "display_data"
    },
    {
     "data": {
      "application/vnd.jupyter.widget-view+json": {
       "model_id": "",
       "version_major": 2,
       "version_minor": 0
      },
      "text/plain": [
       "  0%|          | 0/38 [00:00<?, ?it/s]"
      ]
     },
     "metadata": {},
     "output_type": "display_data"
    },
    {
     "name": "stdout",
     "output_type": "stream",
     "text": [
      "2021-05-07 20:29:06 epoch:   9 train loss: 0.177231 train f1: 0.416724 valid loss: 0.114835 valid f1: 0.296950\n"
     ]
    },
    {
     "data": {
      "application/vnd.jupyter.widget-view+json": {
       "model_id": "",
       "version_major": 2,
       "version_minor": 0
      },
      "text/plain": [
       "  0%|          | 0/1008 [00:00<?, ?it/s]"
      ]
     },
     "metadata": {},
     "output_type": "display_data"
    },
    {
     "data": {
      "application/vnd.jupyter.widget-view+json": {
       "model_id": "",
       "version_major": 2,
       "version_minor": 0
      },
      "text/plain": [
       "  0%|          | 0/38 [00:00<?, ?it/s]"
      ]
     },
     "metadata": {},
     "output_type": "display_data"
    },
    {
     "name": "stdout",
     "output_type": "stream",
     "text": [
      "2021-05-07 20:31:13 epoch:  10 train loss: 0.177579 train f1: 0.420719 valid loss: 0.113448 valid f1: 0.299259\n"
     ]
    },
    {
     "data": {
      "application/vnd.jupyter.widget-view+json": {
       "model_id": "",
       "version_major": 2,
       "version_minor": 0
      },
      "text/plain": [
       "  0%|          | 0/1008 [00:00<?, ?it/s]"
      ]
     },
     "metadata": {},
     "output_type": "display_data"
    },
    {
     "data": {
      "application/vnd.jupyter.widget-view+json": {
       "model_id": "",
       "version_major": 2,
       "version_minor": 0
      },
      "text/plain": [
       "  0%|          | 0/38 [00:00<?, ?it/s]"
      ]
     },
     "metadata": {},
     "output_type": "display_data"
    },
    {
     "name": "stdout",
     "output_type": "stream",
     "text": [
      "2021-05-07 20:33:22 epoch:  11 train loss: 0.176889 train f1: 0.422404 valid loss: 0.106161 valid f1: 0.326564\n"
     ]
    },
    {
     "data": {
      "application/vnd.jupyter.widget-view+json": {
       "model_id": "",
       "version_major": 2,
       "version_minor": 0
      },
      "text/plain": [
       "  0%|          | 0/1008 [00:00<?, ?it/s]"
      ]
     },
     "metadata": {},
     "output_type": "display_data"
    },
    {
     "data": {
      "application/vnd.jupyter.widget-view+json": {
       "model_id": "",
       "version_major": 2,
       "version_minor": 0
      },
      "text/plain": [
       "  0%|          | 0/38 [00:00<?, ?it/s]"
      ]
     },
     "metadata": {},
     "output_type": "display_data"
    },
    {
     "name": "stdout",
     "output_type": "stream",
     "text": [
      "2021-05-07 20:35:29 epoch:  12 train loss: 0.175398 train f1: 0.428635 valid loss: 0.108475 valid f1: 0.303479\n"
     ]
    },
    {
     "data": {
      "application/vnd.jupyter.widget-view+json": {
       "model_id": "",
       "version_major": 2,
       "version_minor": 0
      },
      "text/plain": [
       "  0%|          | 0/1008 [00:00<?, ?it/s]"
      ]
     },
     "metadata": {},
     "output_type": "display_data"
    },
    {
     "data": {
      "application/vnd.jupyter.widget-view+json": {
       "model_id": "",
       "version_major": 2,
       "version_minor": 0
      },
      "text/plain": [
       "  0%|          | 0/38 [00:00<?, ?it/s]"
      ]
     },
     "metadata": {},
     "output_type": "display_data"
    },
    {
     "name": "stdout",
     "output_type": "stream",
     "text": [
      "2021-05-07 20:37:36 epoch:  13 train loss: 0.175466 train f1: 0.427369 valid loss: 0.110844 valid f1: 0.308633\n"
     ]
    },
    {
     "data": {
      "application/vnd.jupyter.widget-view+json": {
       "model_id": "",
       "version_major": 2,
       "version_minor": 0
      },
      "text/plain": [
       "  0%|          | 0/1008 [00:00<?, ?it/s]"
      ]
     },
     "metadata": {},
     "output_type": "display_data"
    },
    {
     "data": {
      "application/vnd.jupyter.widget-view+json": {
       "model_id": "",
       "version_major": 2,
       "version_minor": 0
      },
      "text/plain": [
       "  0%|          | 0/38 [00:00<?, ?it/s]"
      ]
     },
     "metadata": {},
     "output_type": "display_data"
    },
    {
     "name": "stdout",
     "output_type": "stream",
     "text": [
      "2021-05-07 20:39:45 epoch:  14 train loss: 0.172963 train f1: 0.434656 valid loss: 0.112831 valid f1: 0.304314\n"
     ]
    },
    {
     "data": {
      "application/vnd.jupyter.widget-view+json": {
       "model_id": "",
       "version_major": 2,
       "version_minor": 0
      },
      "text/plain": [
       "  0%|          | 0/1008 [00:00<?, ?it/s]"
      ]
     },
     "metadata": {},
     "output_type": "display_data"
    },
    {
     "data": {
      "application/vnd.jupyter.widget-view+json": {
       "model_id": "",
       "version_major": 2,
       "version_minor": 0
      },
      "text/plain": [
       "  0%|          | 0/38 [00:00<?, ?it/s]"
      ]
     },
     "metadata": {},
     "output_type": "display_data"
    },
    {
     "name": "stdout",
     "output_type": "stream",
     "text": [
      "2021-05-07 20:41:54 epoch:  15 train loss: 0.172693 train f1: 0.438197 valid loss: 0.115809 valid f1: 0.302202\n"
     ]
    },
    {
     "data": {
      "application/vnd.jupyter.widget-view+json": {
       "model_id": "",
       "version_major": 2,
       "version_minor": 0
      },
      "text/plain": [
       "  0%|          | 0/1008 [00:00<?, ?it/s]"
      ]
     },
     "metadata": {},
     "output_type": "display_data"
    },
    {
     "data": {
      "application/vnd.jupyter.widget-view+json": {
       "model_id": "",
       "version_major": 2,
       "version_minor": 0
      },
      "text/plain": [
       "  0%|          | 0/38 [00:00<?, ?it/s]"
      ]
     },
     "metadata": {},
     "output_type": "display_data"
    },
    {
     "name": "stdout",
     "output_type": "stream",
     "text": [
      "2021-05-07 20:44:02 epoch:  16 train loss: 0.171511 train f1: 0.442334 valid loss: 0.114419 valid f1: 0.270893\n"
     ]
    },
    {
     "data": {
      "application/vnd.jupyter.widget-view+json": {
       "model_id": "",
       "version_major": 2,
       "version_minor": 0
      },
      "text/plain": [
       "  0%|          | 0/1008 [00:00<?, ?it/s]"
      ]
     },
     "metadata": {},
     "output_type": "display_data"
    },
    {
     "data": {
      "application/vnd.jupyter.widget-view+json": {
       "model_id": "",
       "version_major": 2,
       "version_minor": 0
      },
      "text/plain": [
       "  0%|          | 0/38 [00:00<?, ?it/s]"
      ]
     },
     "metadata": {},
     "output_type": "display_data"
    },
    {
     "name": "stdout",
     "output_type": "stream",
     "text": [
      "2021-05-07 20:46:09 epoch:  17 train loss: 0.172816 train f1: 0.439791 valid loss: 0.112921 valid f1: 0.277282\n"
     ]
    },
    {
     "data": {
      "application/vnd.jupyter.widget-view+json": {
       "model_id": "",
       "version_major": 2,
       "version_minor": 0
      },
      "text/plain": [
       "  0%|          | 0/1008 [00:00<?, ?it/s]"
      ]
     },
     "metadata": {},
     "output_type": "display_data"
    },
    {
     "data": {
      "application/vnd.jupyter.widget-view+json": {
       "model_id": "",
       "version_major": 2,
       "version_minor": 0
      },
      "text/plain": [
       "  0%|          | 0/38 [00:00<?, ?it/s]"
      ]
     },
     "metadata": {},
     "output_type": "display_data"
    },
    {
     "name": "stdout",
     "output_type": "stream",
     "text": [
      "2021-05-07 20:48:17 epoch:  18 train loss: 0.172100 train f1: 0.438684 valid loss: 0.107586 valid f1: 0.279635\n"
     ]
    },
    {
     "data": {
      "application/vnd.jupyter.widget-view+json": {
       "model_id": "",
       "version_major": 2,
       "version_minor": 0
      },
      "text/plain": [
       "  0%|          | 0/1008 [00:00<?, ?it/s]"
      ]
     },
     "metadata": {},
     "output_type": "display_data"
    },
    {
     "data": {
      "application/vnd.jupyter.widget-view+json": {
       "model_id": "",
       "version_major": 2,
       "version_minor": 0
      },
      "text/plain": [
       "  0%|          | 0/38 [00:00<?, ?it/s]"
      ]
     },
     "metadata": {},
     "output_type": "display_data"
    },
    {
     "name": "stdout",
     "output_type": "stream",
     "text": [
      "2021-05-07 20:50:24 epoch:  19 train loss: 0.172141 train f1: 0.441985 valid loss: 0.110437 valid f1: 0.277063\n"
     ]
    },
    {
     "data": {
      "application/vnd.jupyter.widget-view+json": {
       "model_id": "",
       "version_major": 2,
       "version_minor": 0
      },
      "text/plain": [
       "  0%|          | 0/1008 [00:00<?, ?it/s]"
      ]
     },
     "metadata": {},
     "output_type": "display_data"
    },
    {
     "data": {
      "application/vnd.jupyter.widget-view+json": {
       "model_id": "",
       "version_major": 2,
       "version_minor": 0
      },
      "text/plain": [
       "  0%|          | 0/38 [00:00<?, ?it/s]"
      ]
     },
     "metadata": {},
     "output_type": "display_data"
    },
    {
     "name": "stdout",
     "output_type": "stream",
     "text": [
      "2021-05-07 20:52:32 epoch:  20 train loss: 0.171672 train f1: 0.440472 valid loss: 0.115049 valid f1: 0.258065\n"
     ]
    },
    {
     "data": {
      "application/vnd.jupyter.widget-view+json": {
       "model_id": "",
       "version_major": 2,
       "version_minor": 0
      },
      "text/plain": [
       "  0%|          | 0/1008 [00:00<?, ?it/s]"
      ]
     },
     "metadata": {},
     "output_type": "display_data"
    },
    {
     "data": {
      "application/vnd.jupyter.widget-view+json": {
       "model_id": "",
       "version_major": 2,
       "version_minor": 0
      },
      "text/plain": [
       "  0%|          | 0/38 [00:00<?, ?it/s]"
      ]
     },
     "metadata": {},
     "output_type": "display_data"
    },
    {
     "name": "stdout",
     "output_type": "stream",
     "text": [
      "2021-05-07 20:54:40 epoch:  21 train loss: 0.172915 train f1: 0.440359 valid loss: 0.110451 valid f1: 0.278388\n"
     ]
    },
    {
     "data": {
      "application/vnd.jupyter.widget-view+json": {
       "model_id": "",
       "version_major": 2,
       "version_minor": 0
      },
      "text/plain": [
       "  0%|          | 0/1008 [00:00<?, ?it/s]"
      ]
     },
     "metadata": {},
     "output_type": "display_data"
    },
    {
     "data": {
      "application/vnd.jupyter.widget-view+json": {
       "model_id": "",
       "version_major": 2,
       "version_minor": 0
      },
      "text/plain": [
       "  0%|          | 0/38 [00:00<?, ?it/s]"
      ]
     },
     "metadata": {},
     "output_type": "display_data"
    },
    {
     "name": "stdout",
     "output_type": "stream",
     "text": [
      "2021-05-07 20:56:47 epoch:  22 train loss: 0.172643 train f1: 0.439850 valid loss: 0.111395 valid f1: 0.283742\n"
     ]
    },
    {
     "data": {
      "application/vnd.jupyter.widget-view+json": {
       "model_id": "",
       "version_major": 2,
       "version_minor": 0
      },
      "text/plain": [
       "  0%|          | 0/1008 [00:00<?, ?it/s]"
      ]
     },
     "metadata": {},
     "output_type": "display_data"
    },
    {
     "data": {
      "application/vnd.jupyter.widget-view+json": {
       "model_id": "",
       "version_major": 2,
       "version_minor": 0
      },
      "text/plain": [
       "  0%|          | 0/38 [00:00<?, ?it/s]"
      ]
     },
     "metadata": {},
     "output_type": "display_data"
    },
    {
     "name": "stdout",
     "output_type": "stream",
     "text": [
      "2021-05-07 20:58:55 epoch:  23 train loss: 0.175427 train f1: 0.432769 valid loss: 0.107132 valid f1: 0.292994\n"
     ]
    },
    {
     "data": {
      "application/vnd.jupyter.widget-view+json": {
       "model_id": "",
       "version_major": 2,
       "version_minor": 0
      },
      "text/plain": [
       "  0%|          | 0/1008 [00:00<?, ?it/s]"
      ]
     },
     "metadata": {},
     "output_type": "display_data"
    },
    {
     "data": {
      "application/vnd.jupyter.widget-view+json": {
       "model_id": "",
       "version_major": 2,
       "version_minor": 0
      },
      "text/plain": [
       "  0%|          | 0/38 [00:00<?, ?it/s]"
      ]
     },
     "metadata": {},
     "output_type": "display_data"
    },
    {
     "name": "stdout",
     "output_type": "stream",
     "text": [
      "2021-05-07 21:01:02 epoch:  24 train loss: 0.176743 train f1: 0.427428 valid loss: 0.114390 valid f1: 0.281818\n"
     ]
    },
    {
     "data": {
      "application/vnd.jupyter.widget-view+json": {
       "model_id": "",
       "version_major": 2,
       "version_minor": 0
      },
      "text/plain": [
       "  0%|          | 0/1008 [00:00<?, ?it/s]"
      ]
     },
     "metadata": {},
     "output_type": "display_data"
    },
    {
     "data": {
      "application/vnd.jupyter.widget-view+json": {
       "model_id": "",
       "version_major": 2,
       "version_minor": 0
      },
      "text/plain": [
       "  0%|          | 0/38 [00:00<?, ?it/s]"
      ]
     },
     "metadata": {},
     "output_type": "display_data"
    },
    {
     "name": "stdout",
     "output_type": "stream",
     "text": [
      "2021-05-07 21:03:09 epoch:  25 train loss: 0.175684 train f1: 0.432216 valid loss: 0.113622 valid f1: 0.298663\n"
     ]
    },
    {
     "data": {
      "application/vnd.jupyter.widget-view+json": {
       "model_id": "",
       "version_major": 2,
       "version_minor": 0
      },
      "text/plain": [
       "  0%|          | 0/1008 [00:00<?, ?it/s]"
      ]
     },
     "metadata": {},
     "output_type": "display_data"
    },
    {
     "data": {
      "application/vnd.jupyter.widget-view+json": {
       "model_id": "",
       "version_major": 2,
       "version_minor": 0
      },
      "text/plain": [
       "  0%|          | 0/38 [00:00<?, ?it/s]"
      ]
     },
     "metadata": {},
     "output_type": "display_data"
    },
    {
     "name": "stdout",
     "output_type": "stream",
     "text": [
      "2021-05-07 21:05:19 epoch:  26 train loss: 0.176170 train f1: 0.427689 valid loss: 0.111832 valid f1: 0.275125\n"
     ]
    },
    {
     "data": {
      "application/vnd.jupyter.widget-view+json": {
       "model_id": "",
       "version_major": 2,
       "version_minor": 0
      },
      "text/plain": [
       "  0%|          | 0/1008 [00:00<?, ?it/s]"
      ]
     },
     "metadata": {},
     "output_type": "display_data"
    },
    {
     "data": {
      "application/vnd.jupyter.widget-view+json": {
       "model_id": "",
       "version_major": 2,
       "version_minor": 0
      },
      "text/plain": [
       "  0%|          | 0/38 [00:00<?, ?it/s]"
      ]
     },
     "metadata": {},
     "output_type": "display_data"
    },
    {
     "name": "stdout",
     "output_type": "stream",
     "text": [
      "2021-05-07 21:07:27 epoch:  27 train loss: 0.175412 train f1: 0.432321 valid loss: 0.114341 valid f1: 0.301180\n"
     ]
    },
    {
     "data": {
      "application/vnd.jupyter.widget-view+json": {
       "model_id": "",
       "version_major": 2,
       "version_minor": 0
      },
      "text/plain": [
       "  0%|          | 0/1008 [00:00<?, ?it/s]"
      ]
     },
     "metadata": {},
     "output_type": "display_data"
    },
    {
     "data": {
      "application/vnd.jupyter.widget-view+json": {
       "model_id": "",
       "version_major": 2,
       "version_minor": 0
      },
      "text/plain": [
       "  0%|          | 0/38 [00:00<?, ?it/s]"
      ]
     },
     "metadata": {},
     "output_type": "display_data"
    },
    {
     "name": "stdout",
     "output_type": "stream",
     "text": [
      "2021-05-07 21:09:36 epoch:  28 train loss: 0.175353 train f1: 0.433728 valid loss: 0.110845 valid f1: 0.312893\n"
     ]
    },
    {
     "data": {
      "application/vnd.jupyter.widget-view+json": {
       "model_id": "",
       "version_major": 2,
       "version_minor": 0
      },
      "text/plain": [
       "  0%|          | 0/1008 [00:00<?, ?it/s]"
      ]
     },
     "metadata": {},
     "output_type": "display_data"
    },
    {
     "data": {
      "application/vnd.jupyter.widget-view+json": {
       "model_id": "",
       "version_major": 2,
       "version_minor": 0
      },
      "text/plain": [
       "  0%|          | 0/38 [00:00<?, ?it/s]"
      ]
     },
     "metadata": {},
     "output_type": "display_data"
    },
    {
     "name": "stdout",
     "output_type": "stream",
     "text": [
      "2021-05-07 21:11:43 epoch:  29 train loss: 0.175508 train f1: 0.433199 valid loss: 0.115036 valid f1: 0.274788\n"
     ]
    },
    {
     "data": {
      "application/vnd.jupyter.widget-view+json": {
       "model_id": "",
       "version_major": 2,
       "version_minor": 0
      },
      "text/plain": [
       "  0%|          | 0/1008 [00:00<?, ?it/s]"
      ]
     },
     "metadata": {},
     "output_type": "display_data"
    },
    {
     "data": {
      "application/vnd.jupyter.widget-view+json": {
       "model_id": "",
       "version_major": 2,
       "version_minor": 0
      },
      "text/plain": [
       "  0%|          | 0/38 [00:00<?, ?it/s]"
      ]
     },
     "metadata": {},
     "output_type": "display_data"
    },
    {
     "name": "stdout",
     "output_type": "stream",
     "text": [
      "2021-05-07 21:13:51 epoch:  30 train loss: 0.175238 train f1: 0.432195 valid loss: 0.108804 valid f1: 0.300389\n"
     ]
    },
    {
     "data": {
      "application/vnd.jupyter.widget-view+json": {
       "model_id": "",
       "version_major": 2,
       "version_minor": 0
      },
      "text/plain": [
       "  0%|          | 0/1008 [00:00<?, ?it/s]"
      ]
     },
     "metadata": {},
     "output_type": "display_data"
    },
    {
     "data": {
      "application/vnd.jupyter.widget-view+json": {
       "model_id": "",
       "version_major": 2,
       "version_minor": 0
      },
      "text/plain": [
       "  0%|          | 0/38 [00:00<?, ?it/s]"
      ]
     },
     "metadata": {},
     "output_type": "display_data"
    },
    {
     "name": "stdout",
     "output_type": "stream",
     "text": [
      "2021-05-07 21:15:59 epoch:  31 train loss: 0.174612 train f1: 0.437007 valid loss: 0.111522 valid f1: 0.307458\n"
     ]
    },
    {
     "data": {
      "application/vnd.jupyter.widget-view+json": {
       "model_id": "",
       "version_major": 2,
       "version_minor": 0
      },
      "text/plain": [
       "  0%|          | 0/1008 [00:00<?, ?it/s]"
      ]
     },
     "metadata": {},
     "output_type": "display_data"
    },
    {
     "data": {
      "application/vnd.jupyter.widget-view+json": {
       "model_id": "",
       "version_major": 2,
       "version_minor": 0
      },
      "text/plain": [
       "  0%|          | 0/38 [00:00<?, ?it/s]"
      ]
     },
     "metadata": {},
     "output_type": "display_data"
    },
    {
     "name": "stdout",
     "output_type": "stream",
     "text": [
      "2021-05-07 21:18:06 epoch:  32 train loss: 0.174989 train f1: 0.434699 valid loss: 0.112287 valid f1: 0.295886\n"
     ]
    },
    {
     "data": {
      "application/vnd.jupyter.widget-view+json": {
       "model_id": "",
       "version_major": 2,
       "version_minor": 0
      },
      "text/plain": [
       "  0%|          | 0/1008 [00:00<?, ?it/s]"
      ]
     },
     "metadata": {},
     "output_type": "display_data"
    },
    {
     "data": {
      "application/vnd.jupyter.widget-view+json": {
       "model_id": "",
       "version_major": 2,
       "version_minor": 0
      },
      "text/plain": [
       "  0%|          | 0/38 [00:00<?, ?it/s]"
      ]
     },
     "metadata": {},
     "output_type": "display_data"
    },
    {
     "name": "stdout",
     "output_type": "stream",
     "text": [
      "2021-05-07 21:20:14 epoch:  33 train loss: 0.173344 train f1: 0.437608 valid loss: 0.108681 valid f1: 0.276857\n"
     ]
    },
    {
     "data": {
      "application/vnd.jupyter.widget-view+json": {
       "model_id": "5221f93ef4614da2975c295dc43e7da6",
       "version_major": 2,
       "version_minor": 0
      },
      "text/plain": [
       "  0%|          | 0/1008 [00:00<?, ?it/s]"
      ]
     },
     "metadata": {},
     "output_type": "display_data"
    },
    {
     "ename": "KeyboardInterrupt",
     "evalue": "",
     "output_type": "error",
     "traceback": [
      "\u001b[0;31m---------------------------------------------------------------------------\u001b[0m",
      "\u001b[0;31mKeyboardInterrupt\u001b[0m                         Traceback (most recent call last)",
      "\u001b[0;32m<ipython-input-140-ae674417293b>\u001b[0m in \u001b[0;36m<module>\u001b[0;34m\u001b[0m\n\u001b[0;32m----> 1\u001b[0;31m \u001b[0mlrn\u001b[0m\u001b[0;34m.\u001b[0m\u001b[0mlearn\u001b[0m\u001b[0;34m(\u001b[0m\u001b[0;34m)\u001b[0m\u001b[0;34m\u001b[0m\u001b[0;34m\u001b[0m\u001b[0m\n\u001b[0m",
      "\u001b[0;32m~/projects/botkop/lark/nbs/botkop/lark/learner.py\u001b[0m in \u001b[0;36mlearn\u001b[0;34m(self)\u001b[0m\n\u001b[1;32m    109\u001b[0m         \u001b[0;32mwith\u001b[0m \u001b[0mtqdm\u001b[0m\u001b[0;34m(\u001b[0m\u001b[0mrange\u001b[0m\u001b[0;34m(\u001b[0m\u001b[0mself\u001b[0m\u001b[0;34m.\u001b[0m\u001b[0mcfg\u001b[0m\u001b[0;34m.\u001b[0m\u001b[0mn_epochs\u001b[0m\u001b[0;34m)\u001b[0m\u001b[0;34m)\u001b[0m \u001b[0;32mas\u001b[0m \u001b[0mpbar\u001b[0m\u001b[0;34m:\u001b[0m\u001b[0;34m\u001b[0m\u001b[0;34m\u001b[0m\u001b[0m\n\u001b[1;32m    110\u001b[0m             \u001b[0;32mfor\u001b[0m \u001b[0mepoch\u001b[0m \u001b[0;32min\u001b[0m \u001b[0mpbar\u001b[0m\u001b[0;34m:\u001b[0m\u001b[0;34m\u001b[0m\u001b[0;34m\u001b[0m\u001b[0m\n\u001b[0;32m--> 111\u001b[0;31m                 \u001b[0mtrain_loss\u001b[0m\u001b[0;34m,\u001b[0m \u001b[0mtrain_score\u001b[0m \u001b[0;34m=\u001b[0m \u001b[0mself\u001b[0m\u001b[0;34m.\u001b[0m\u001b[0mtv_loop\u001b[0m\u001b[0;34m(\u001b[0m\u001b[0mself\u001b[0m\u001b[0;34m.\u001b[0m\u001b[0mtdl\u001b[0m\u001b[0;34m,\u001b[0m \u001b[0;34m'train'\u001b[0m\u001b[0;34m)\u001b[0m\u001b[0;34m\u001b[0m\u001b[0;34m\u001b[0m\u001b[0m\n\u001b[0m\u001b[1;32m    112\u001b[0m                 \u001b[0mvalid_loss\u001b[0m\u001b[0;34m,\u001b[0m \u001b[0mvalid_score\u001b[0m \u001b[0;34m=\u001b[0m \u001b[0mself\u001b[0m\u001b[0;34m.\u001b[0m\u001b[0mtv_loop\u001b[0m\u001b[0;34m(\u001b[0m\u001b[0mself\u001b[0m\u001b[0;34m.\u001b[0m\u001b[0mvdl\u001b[0m\u001b[0;34m,\u001b[0m \u001b[0;34m'valid'\u001b[0m\u001b[0;34m)\u001b[0m\u001b[0;34m\u001b[0m\u001b[0;34m\u001b[0m\u001b[0m\n\u001b[1;32m    113\u001b[0m                 \u001b[0mmsg\u001b[0m \u001b[0;34m=\u001b[0m \u001b[0;34mf\"{datetime.now().strftime('%Y-%m-%d %H:%M:%S')} \"\u001b[0m\u001b[0;31m \u001b[0m\u001b[0;31m\\\u001b[0m\u001b[0;34m\u001b[0m\u001b[0;34m\u001b[0m\u001b[0m\n",
      "\u001b[0;32m~/projects/botkop/lark/nbs/botkop/lark/learner.py\u001b[0m in \u001b[0;36mtv_loop\u001b[0;34m(self, dl, mode, f1_threshold)\u001b[0m\n\u001b[1;32m     94\u001b[0m         \u001b[0;32mif\u001b[0m \u001b[0mmode\u001b[0m \u001b[0;34m==\u001b[0m \u001b[0;34m'train'\u001b[0m\u001b[0;34m:\u001b[0m\u001b[0;34m\u001b[0m\u001b[0;34m\u001b[0m\u001b[0m\n\u001b[1;32m     95\u001b[0m             \u001b[0mself\u001b[0m\u001b[0;34m.\u001b[0m\u001b[0mmodel\u001b[0m\u001b[0;34m.\u001b[0m\u001b[0mtrain\u001b[0m\u001b[0;34m(\u001b[0m\u001b[0;34m)\u001b[0m\u001b[0;34m\u001b[0m\u001b[0;34m\u001b[0m\u001b[0m\n\u001b[0;32m---> 96\u001b[0;31m             \u001b[0mepoch_loss\u001b[0m\u001b[0;34m,\u001b[0m \u001b[0mepoch_score\u001b[0m \u001b[0;34m=\u001b[0m \u001b[0mself\u001b[0m\u001b[0;34m.\u001b[0m\u001b[0mepoch_loop\u001b[0m\u001b[0;34m(\u001b[0m\u001b[0mdl\u001b[0m\u001b[0;34m,\u001b[0m \u001b[0mmode\u001b[0m\u001b[0;34m,\u001b[0m \u001b[0mf1_threshold\u001b[0m\u001b[0;34m)\u001b[0m\u001b[0;34m\u001b[0m\u001b[0;34m\u001b[0m\u001b[0m\n\u001b[0m\u001b[1;32m     97\u001b[0m         \u001b[0;32melse\u001b[0m\u001b[0;34m:\u001b[0m\u001b[0;34m\u001b[0m\u001b[0;34m\u001b[0m\u001b[0m\n\u001b[1;32m     98\u001b[0m             \u001b[0mself\u001b[0m\u001b[0;34m.\u001b[0m\u001b[0mmodel\u001b[0m\u001b[0;34m.\u001b[0m\u001b[0meval\u001b[0m\u001b[0;34m(\u001b[0m\u001b[0;34m)\u001b[0m\u001b[0;34m\u001b[0m\u001b[0;34m\u001b[0m\u001b[0m\n",
      "\u001b[0;32m~/projects/botkop/lark/nbs/botkop/lark/learner.py\u001b[0m in \u001b[0;36mepoch_loop\u001b[0;34m(self, dl, mode, f1_threshold)\u001b[0m\n\u001b[1;32m     70\u001b[0m                 \u001b[0mx\u001b[0m \u001b[0;34m=\u001b[0m \u001b[0mx\u001b[0m\u001b[0;34m.\u001b[0m\u001b[0mcuda\u001b[0m\u001b[0;34m(\u001b[0m\u001b[0;34m)\u001b[0m\u001b[0;34m\u001b[0m\u001b[0;34m\u001b[0m\u001b[0m\n\u001b[1;32m     71\u001b[0m                 \u001b[0my\u001b[0m \u001b[0;34m=\u001b[0m \u001b[0my\u001b[0m\u001b[0;34m.\u001b[0m\u001b[0mcuda\u001b[0m\u001b[0;34m(\u001b[0m\u001b[0;34m)\u001b[0m\u001b[0;34m\u001b[0m\u001b[0;34m\u001b[0m\u001b[0m\n\u001b[0;32m---> 72\u001b[0;31m                 \u001b[0mpred\u001b[0m \u001b[0;34m=\u001b[0m \u001b[0mself\u001b[0m\u001b[0;34m.\u001b[0m\u001b[0mmodel\u001b[0m\u001b[0;34m(\u001b[0m\u001b[0mx\u001b[0m\u001b[0;34m)\u001b[0m\u001b[0;34m\u001b[0m\u001b[0;34m\u001b[0m\u001b[0m\n\u001b[0m\u001b[1;32m     73\u001b[0m                 \u001b[0mloss\u001b[0m \u001b[0;34m=\u001b[0m \u001b[0mself\u001b[0m\u001b[0;34m.\u001b[0m\u001b[0mloss_fn\u001b[0m\u001b[0;34m(\u001b[0m\u001b[0mpred\u001b[0m\u001b[0;34m,\u001b[0m \u001b[0my\u001b[0m\u001b[0;34m)\u001b[0m\u001b[0;34m\u001b[0m\u001b[0;34m\u001b[0m\u001b[0m\n\u001b[1;32m     74\u001b[0m                 \u001b[0;32mwith\u001b[0m \u001b[0mtorch\u001b[0m\u001b[0;34m.\u001b[0m\u001b[0mno_grad\u001b[0m\u001b[0;34m(\u001b[0m\u001b[0;34m)\u001b[0m\u001b[0;34m:\u001b[0m\u001b[0;34m\u001b[0m\u001b[0;34m\u001b[0m\u001b[0m\n",
      "\u001b[0;32m~/apps/anaconda3/envs/lark/lib/python3.8/site-packages/torch/nn/modules/module.py\u001b[0m in \u001b[0;36m_call_impl\u001b[0;34m(self, *input, **kwargs)\u001b[0m\n\u001b[1;32m    887\u001b[0m             \u001b[0mresult\u001b[0m \u001b[0;34m=\u001b[0m \u001b[0mself\u001b[0m\u001b[0;34m.\u001b[0m\u001b[0m_slow_forward\u001b[0m\u001b[0;34m(\u001b[0m\u001b[0;34m*\u001b[0m\u001b[0minput\u001b[0m\u001b[0;34m,\u001b[0m \u001b[0;34m**\u001b[0m\u001b[0mkwargs\u001b[0m\u001b[0;34m)\u001b[0m\u001b[0;34m\u001b[0m\u001b[0;34m\u001b[0m\u001b[0m\n\u001b[1;32m    888\u001b[0m         \u001b[0;32melse\u001b[0m\u001b[0;34m:\u001b[0m\u001b[0;34m\u001b[0m\u001b[0;34m\u001b[0m\u001b[0m\n\u001b[0;32m--> 889\u001b[0;31m             \u001b[0mresult\u001b[0m \u001b[0;34m=\u001b[0m \u001b[0mself\u001b[0m\u001b[0;34m.\u001b[0m\u001b[0mforward\u001b[0m\u001b[0;34m(\u001b[0m\u001b[0;34m*\u001b[0m\u001b[0minput\u001b[0m\u001b[0;34m,\u001b[0m \u001b[0;34m**\u001b[0m\u001b[0mkwargs\u001b[0m\u001b[0;34m)\u001b[0m\u001b[0;34m\u001b[0m\u001b[0;34m\u001b[0m\u001b[0m\n\u001b[0m\u001b[1;32m    890\u001b[0m         for hook in itertools.chain(\n\u001b[1;32m    891\u001b[0m                 \u001b[0m_global_forward_hooks\u001b[0m\u001b[0;34m.\u001b[0m\u001b[0mvalues\u001b[0m\u001b[0;34m(\u001b[0m\u001b[0;34m)\u001b[0m\u001b[0;34m,\u001b[0m\u001b[0;34m\u001b[0m\u001b[0;34m\u001b[0m\u001b[0m\n",
      "\u001b[0;32m~/apps/anaconda3/envs/lark/lib/python3.8/site-packages/torch/nn/modules/container.py\u001b[0m in \u001b[0;36mforward\u001b[0;34m(self, input)\u001b[0m\n\u001b[1;32m    117\u001b[0m     \u001b[0;32mdef\u001b[0m \u001b[0mforward\u001b[0m\u001b[0;34m(\u001b[0m\u001b[0mself\u001b[0m\u001b[0;34m,\u001b[0m \u001b[0minput\u001b[0m\u001b[0;34m)\u001b[0m\u001b[0;34m:\u001b[0m\u001b[0;34m\u001b[0m\u001b[0;34m\u001b[0m\u001b[0m\n\u001b[1;32m    118\u001b[0m         \u001b[0;32mfor\u001b[0m \u001b[0mmodule\u001b[0m \u001b[0;32min\u001b[0m \u001b[0mself\u001b[0m\u001b[0;34m:\u001b[0m\u001b[0;34m\u001b[0m\u001b[0;34m\u001b[0m\u001b[0m\n\u001b[0;32m--> 119\u001b[0;31m             \u001b[0minput\u001b[0m \u001b[0;34m=\u001b[0m \u001b[0mmodule\u001b[0m\u001b[0;34m(\u001b[0m\u001b[0minput\u001b[0m\u001b[0;34m)\u001b[0m\u001b[0;34m\u001b[0m\u001b[0;34m\u001b[0m\u001b[0m\n\u001b[0m\u001b[1;32m    120\u001b[0m         \u001b[0;32mreturn\u001b[0m \u001b[0minput\u001b[0m\u001b[0;34m\u001b[0m\u001b[0;34m\u001b[0m\u001b[0m\n\u001b[1;32m    121\u001b[0m \u001b[0;34m\u001b[0m\u001b[0m\n",
      "\u001b[0;32m~/apps/anaconda3/envs/lark/lib/python3.8/site-packages/torch/nn/modules/module.py\u001b[0m in \u001b[0;36m_call_impl\u001b[0;34m(self, *input, **kwargs)\u001b[0m\n\u001b[1;32m    887\u001b[0m             \u001b[0mresult\u001b[0m \u001b[0;34m=\u001b[0m \u001b[0mself\u001b[0m\u001b[0;34m.\u001b[0m\u001b[0m_slow_forward\u001b[0m\u001b[0;34m(\u001b[0m\u001b[0;34m*\u001b[0m\u001b[0minput\u001b[0m\u001b[0;34m,\u001b[0m \u001b[0;34m**\u001b[0m\u001b[0mkwargs\u001b[0m\u001b[0;34m)\u001b[0m\u001b[0;34m\u001b[0m\u001b[0;34m\u001b[0m\u001b[0m\n\u001b[1;32m    888\u001b[0m         \u001b[0;32melse\u001b[0m\u001b[0;34m:\u001b[0m\u001b[0;34m\u001b[0m\u001b[0;34m\u001b[0m\u001b[0m\n\u001b[0;32m--> 889\u001b[0;31m             \u001b[0mresult\u001b[0m \u001b[0;34m=\u001b[0m \u001b[0mself\u001b[0m\u001b[0;34m.\u001b[0m\u001b[0mforward\u001b[0m\u001b[0;34m(\u001b[0m\u001b[0;34m*\u001b[0m\u001b[0minput\u001b[0m\u001b[0;34m,\u001b[0m \u001b[0;34m**\u001b[0m\u001b[0mkwargs\u001b[0m\u001b[0;34m)\u001b[0m\u001b[0;34m\u001b[0m\u001b[0;34m\u001b[0m\u001b[0m\n\u001b[0m\u001b[1;32m    890\u001b[0m         for hook in itertools.chain(\n\u001b[1;32m    891\u001b[0m                 \u001b[0m_global_forward_hooks\u001b[0m\u001b[0;34m.\u001b[0m\u001b[0mvalues\u001b[0m\u001b[0;34m(\u001b[0m\u001b[0;34m)\u001b[0m\u001b[0;34m,\u001b[0m\u001b[0;34m\u001b[0m\u001b[0;34m\u001b[0m\u001b[0m\n",
      "\u001b[0;32m~/apps/anaconda3/envs/lark/lib/python3.8/site-packages/torchvision/models/resnet.py\u001b[0m in \u001b[0;36mforward\u001b[0;34m(self, x)\u001b[0m\n\u001b[1;32m    247\u001b[0m \u001b[0;34m\u001b[0m\u001b[0m\n\u001b[1;32m    248\u001b[0m     \u001b[0;32mdef\u001b[0m \u001b[0mforward\u001b[0m\u001b[0;34m(\u001b[0m\u001b[0mself\u001b[0m\u001b[0;34m,\u001b[0m \u001b[0mx\u001b[0m\u001b[0;34m:\u001b[0m \u001b[0mTensor\u001b[0m\u001b[0;34m)\u001b[0m \u001b[0;34m->\u001b[0m \u001b[0mTensor\u001b[0m\u001b[0;34m:\u001b[0m\u001b[0;34m\u001b[0m\u001b[0;34m\u001b[0m\u001b[0m\n\u001b[0;32m--> 249\u001b[0;31m         \u001b[0;32mreturn\u001b[0m \u001b[0mself\u001b[0m\u001b[0;34m.\u001b[0m\u001b[0m_forward_impl\u001b[0m\u001b[0;34m(\u001b[0m\u001b[0mx\u001b[0m\u001b[0;34m)\u001b[0m\u001b[0;34m\u001b[0m\u001b[0;34m\u001b[0m\u001b[0m\n\u001b[0m\u001b[1;32m    250\u001b[0m \u001b[0;34m\u001b[0m\u001b[0m\n\u001b[1;32m    251\u001b[0m \u001b[0;34m\u001b[0m\u001b[0m\n",
      "\u001b[0;32m~/apps/anaconda3/envs/lark/lib/python3.8/site-packages/torchvision/models/resnet.py\u001b[0m in \u001b[0;36m_forward_impl\u001b[0;34m(self, x)\u001b[0m\n\u001b[1;32m    242\u001b[0m         \u001b[0mx\u001b[0m \u001b[0;34m=\u001b[0m \u001b[0mself\u001b[0m\u001b[0;34m.\u001b[0m\u001b[0mavgpool\u001b[0m\u001b[0;34m(\u001b[0m\u001b[0mx\u001b[0m\u001b[0;34m)\u001b[0m\u001b[0;34m\u001b[0m\u001b[0;34m\u001b[0m\u001b[0m\n\u001b[1;32m    243\u001b[0m         \u001b[0mx\u001b[0m \u001b[0;34m=\u001b[0m \u001b[0mtorch\u001b[0m\u001b[0;34m.\u001b[0m\u001b[0mflatten\u001b[0m\u001b[0;34m(\u001b[0m\u001b[0mx\u001b[0m\u001b[0;34m,\u001b[0m \u001b[0;36m1\u001b[0m\u001b[0;34m)\u001b[0m\u001b[0;34m\u001b[0m\u001b[0;34m\u001b[0m\u001b[0m\n\u001b[0;32m--> 244\u001b[0;31m         \u001b[0mx\u001b[0m \u001b[0;34m=\u001b[0m \u001b[0mself\u001b[0m\u001b[0;34m.\u001b[0m\u001b[0mfc\u001b[0m\u001b[0;34m(\u001b[0m\u001b[0mx\u001b[0m\u001b[0;34m)\u001b[0m\u001b[0;34m\u001b[0m\u001b[0;34m\u001b[0m\u001b[0m\n\u001b[0m\u001b[1;32m    245\u001b[0m \u001b[0;34m\u001b[0m\u001b[0m\n\u001b[1;32m    246\u001b[0m         \u001b[0;32mreturn\u001b[0m \u001b[0mx\u001b[0m\u001b[0;34m\u001b[0m\u001b[0;34m\u001b[0m\u001b[0m\n",
      "\u001b[0;32m~/apps/anaconda3/envs/lark/lib/python3.8/site-packages/torch/nn/modules/module.py\u001b[0m in \u001b[0;36m_call_impl\u001b[0;34m(self, *input, **kwargs)\u001b[0m\n\u001b[1;32m    887\u001b[0m             \u001b[0mresult\u001b[0m \u001b[0;34m=\u001b[0m \u001b[0mself\u001b[0m\u001b[0;34m.\u001b[0m\u001b[0m_slow_forward\u001b[0m\u001b[0;34m(\u001b[0m\u001b[0;34m*\u001b[0m\u001b[0minput\u001b[0m\u001b[0;34m,\u001b[0m \u001b[0;34m**\u001b[0m\u001b[0mkwargs\u001b[0m\u001b[0;34m)\u001b[0m\u001b[0;34m\u001b[0m\u001b[0;34m\u001b[0m\u001b[0m\n\u001b[1;32m    888\u001b[0m         \u001b[0;32melse\u001b[0m\u001b[0;34m:\u001b[0m\u001b[0;34m\u001b[0m\u001b[0;34m\u001b[0m\u001b[0m\n\u001b[0;32m--> 889\u001b[0;31m             \u001b[0mresult\u001b[0m \u001b[0;34m=\u001b[0m \u001b[0mself\u001b[0m\u001b[0;34m.\u001b[0m\u001b[0mforward\u001b[0m\u001b[0;34m(\u001b[0m\u001b[0;34m*\u001b[0m\u001b[0minput\u001b[0m\u001b[0;34m,\u001b[0m \u001b[0;34m**\u001b[0m\u001b[0mkwargs\u001b[0m\u001b[0;34m)\u001b[0m\u001b[0;34m\u001b[0m\u001b[0;34m\u001b[0m\u001b[0m\n\u001b[0m\u001b[1;32m    890\u001b[0m         for hook in itertools.chain(\n\u001b[1;32m    891\u001b[0m                 \u001b[0m_global_forward_hooks\u001b[0m\u001b[0;34m.\u001b[0m\u001b[0mvalues\u001b[0m\u001b[0;34m(\u001b[0m\u001b[0;34m)\u001b[0m\u001b[0;34m,\u001b[0m\u001b[0;34m\u001b[0m\u001b[0;34m\u001b[0m\u001b[0m\n",
      "\u001b[0;32m~/apps/anaconda3/envs/lark/lib/python3.8/site-packages/torch/nn/modules/linear.py\u001b[0m in \u001b[0;36mforward\u001b[0;34m(self, input)\u001b[0m\n\u001b[1;32m     92\u001b[0m \u001b[0;34m\u001b[0m\u001b[0m\n\u001b[1;32m     93\u001b[0m     \u001b[0;32mdef\u001b[0m \u001b[0mforward\u001b[0m\u001b[0;34m(\u001b[0m\u001b[0mself\u001b[0m\u001b[0;34m,\u001b[0m \u001b[0minput\u001b[0m\u001b[0;34m:\u001b[0m \u001b[0mTensor\u001b[0m\u001b[0;34m)\u001b[0m \u001b[0;34m->\u001b[0m \u001b[0mTensor\u001b[0m\u001b[0;34m:\u001b[0m\u001b[0;34m\u001b[0m\u001b[0;34m\u001b[0m\u001b[0m\n\u001b[0;32m---> 94\u001b[0;31m         \u001b[0;32mreturn\u001b[0m \u001b[0mF\u001b[0m\u001b[0;34m.\u001b[0m\u001b[0mlinear\u001b[0m\u001b[0;34m(\u001b[0m\u001b[0minput\u001b[0m\u001b[0;34m,\u001b[0m \u001b[0mself\u001b[0m\u001b[0;34m.\u001b[0m\u001b[0mweight\u001b[0m\u001b[0;34m,\u001b[0m \u001b[0mself\u001b[0m\u001b[0;34m.\u001b[0m\u001b[0mbias\u001b[0m\u001b[0;34m)\u001b[0m\u001b[0;34m\u001b[0m\u001b[0;34m\u001b[0m\u001b[0m\n\u001b[0m\u001b[1;32m     95\u001b[0m \u001b[0;34m\u001b[0m\u001b[0m\n\u001b[1;32m     96\u001b[0m     \u001b[0;32mdef\u001b[0m \u001b[0mextra_repr\u001b[0m\u001b[0;34m(\u001b[0m\u001b[0mself\u001b[0m\u001b[0;34m)\u001b[0m \u001b[0;34m->\u001b[0m \u001b[0mstr\u001b[0m\u001b[0;34m:\u001b[0m\u001b[0;34m\u001b[0m\u001b[0;34m\u001b[0m\u001b[0m\n",
      "\u001b[0;32m~/apps/anaconda3/envs/lark/lib/python3.8/site-packages/torch/nn/functional.py\u001b[0m in \u001b[0;36mlinear\u001b[0;34m(input, weight, bias)\u001b[0m\n\u001b[1;32m   1751\u001b[0m     \u001b[0;32mif\u001b[0m \u001b[0mhas_torch_function_variadic\u001b[0m\u001b[0;34m(\u001b[0m\u001b[0minput\u001b[0m\u001b[0;34m,\u001b[0m \u001b[0mweight\u001b[0m\u001b[0;34m)\u001b[0m\u001b[0;34m:\u001b[0m\u001b[0;34m\u001b[0m\u001b[0;34m\u001b[0m\u001b[0m\n\u001b[1;32m   1752\u001b[0m         \u001b[0;32mreturn\u001b[0m \u001b[0mhandle_torch_function\u001b[0m\u001b[0;34m(\u001b[0m\u001b[0mlinear\u001b[0m\u001b[0;34m,\u001b[0m \u001b[0;34m(\u001b[0m\u001b[0minput\u001b[0m\u001b[0;34m,\u001b[0m \u001b[0mweight\u001b[0m\u001b[0;34m)\u001b[0m\u001b[0;34m,\u001b[0m \u001b[0minput\u001b[0m\u001b[0;34m,\u001b[0m \u001b[0mweight\u001b[0m\u001b[0;34m,\u001b[0m \u001b[0mbias\u001b[0m\u001b[0;34m=\u001b[0m\u001b[0mbias\u001b[0m\u001b[0;34m)\u001b[0m\u001b[0;34m\u001b[0m\u001b[0;34m\u001b[0m\u001b[0m\n\u001b[0;32m-> 1753\u001b[0;31m     \u001b[0;32mreturn\u001b[0m \u001b[0mtorch\u001b[0m\u001b[0;34m.\u001b[0m\u001b[0m_C\u001b[0m\u001b[0;34m.\u001b[0m\u001b[0m_nn\u001b[0m\u001b[0;34m.\u001b[0m\u001b[0mlinear\u001b[0m\u001b[0;34m(\u001b[0m\u001b[0minput\u001b[0m\u001b[0;34m,\u001b[0m \u001b[0mweight\u001b[0m\u001b[0;34m,\u001b[0m \u001b[0mbias\u001b[0m\u001b[0;34m)\u001b[0m\u001b[0;34m\u001b[0m\u001b[0;34m\u001b[0m\u001b[0m\n\u001b[0m\u001b[1;32m   1754\u001b[0m \u001b[0;34m\u001b[0m\u001b[0m\n\u001b[1;32m   1755\u001b[0m \u001b[0;34m\u001b[0m\u001b[0m\n",
      "\u001b[0;31mKeyboardInterrupt\u001b[0m: "
     ]
    }
   ],
   "source": [
    "lrn.learn()"
   ]
  },
  {
   "cell_type": "code",
   "execution_count": 110,
   "id": "a6581461-0d1c-41cb-a36f-7c4f067e0594",
   "metadata": {},
   "outputs": [
    {
     "data": {
      "application/vnd.jupyter.widget-view+json": {
       "model_id": "3c66a3a15ba64dc3ad713159ecc351d8",
       "version_major": 2,
       "version_minor": 0
      },
      "text/plain": [
       "  0%|          | 0/38 [00:00<?, ?it/s]"
      ]
     },
     "metadata": {},
     "output_type": "display_data"
    },
    {
     "data": {
      "text/html": [
       "<div>\n",
       "<style scoped>\n",
       "    .dataframe tbody tr th:only-of-type {\n",
       "        vertical-align: middle;\n",
       "    }\n",
       "\n",
       "    .dataframe tbody tr th {\n",
       "        vertical-align: top;\n",
       "    }\n",
       "\n",
       "    .dataframe thead th {\n",
       "        text-align: right;\n",
       "    }\n",
       "</style>\n",
       "<table border=\"1\" class=\"dataframe\">\n",
       "  <thead>\n",
       "    <tr style=\"text-align: right;\">\n",
       "      <th></th>\n",
       "      <th>thresh</th>\n",
       "      <th>tp</th>\n",
       "      <th>tn</th>\n",
       "      <th>fp</th>\n",
       "      <th>fn</th>\n",
       "      <th>f1</th>\n",
       "    </tr>\n",
       "  </thead>\n",
       "  <tbody>\n",
       "    <tr>\n",
       "      <th>0</th>\n",
       "      <td>0.0</td>\n",
       "      <td>770</td>\n",
       "      <td>0</td>\n",
       "      <td>32830</td>\n",
       "      <td>0</td>\n",
       "      <td>0.044807</td>\n",
       "    </tr>\n",
       "    <tr>\n",
       "      <th>1</th>\n",
       "      <td>0.1</td>\n",
       "      <td>375</td>\n",
       "      <td>29302</td>\n",
       "      <td>3528</td>\n",
       "      <td>395</td>\n",
       "      <td>0.160496</td>\n",
       "    </tr>\n",
       "    <tr>\n",
       "      <th>2</th>\n",
       "      <td>0.2</td>\n",
       "      <td>220</td>\n",
       "      <td>31955</td>\n",
       "      <td>875</td>\n",
       "      <td>550</td>\n",
       "      <td>0.235925</td>\n",
       "    </tr>\n",
       "    <tr>\n",
       "      <th>3</th>\n",
       "      <td>0.3</td>\n",
       "      <td>156</td>\n",
       "      <td>32391</td>\n",
       "      <td>439</td>\n",
       "      <td>614</td>\n",
       "      <td>0.228571</td>\n",
       "    </tr>\n",
       "    <tr>\n",
       "      <th>4</th>\n",
       "      <td>0.4</td>\n",
       "      <td>130</td>\n",
       "      <td>32553</td>\n",
       "      <td>277</td>\n",
       "      <td>640</td>\n",
       "      <td>0.220901</td>\n",
       "    </tr>\n",
       "    <tr>\n",
       "      <th>5</th>\n",
       "      <td>0.5</td>\n",
       "      <td>109</td>\n",
       "      <td>32657</td>\n",
       "      <td>173</td>\n",
       "      <td>661</td>\n",
       "      <td>0.207224</td>\n",
       "    </tr>\n",
       "    <tr>\n",
       "      <th>6</th>\n",
       "      <td>0.6</td>\n",
       "      <td>90</td>\n",
       "      <td>32707</td>\n",
       "      <td>123</td>\n",
       "      <td>680</td>\n",
       "      <td>0.183113</td>\n",
       "    </tr>\n",
       "    <tr>\n",
       "      <th>7</th>\n",
       "      <td>0.7</td>\n",
       "      <td>71</td>\n",
       "      <td>32755</td>\n",
       "      <td>75</td>\n",
       "      <td>699</td>\n",
       "      <td>0.155022</td>\n",
       "    </tr>\n",
       "    <tr>\n",
       "      <th>8</th>\n",
       "      <td>0.8</td>\n",
       "      <td>58</td>\n",
       "      <td>32786</td>\n",
       "      <td>44</td>\n",
       "      <td>712</td>\n",
       "      <td>0.133028</td>\n",
       "    </tr>\n",
       "    <tr>\n",
       "      <th>9</th>\n",
       "      <td>0.9</td>\n",
       "      <td>33</td>\n",
       "      <td>32814</td>\n",
       "      <td>16</td>\n",
       "      <td>737</td>\n",
       "      <td>0.080586</td>\n",
       "    </tr>\n",
       "    <tr>\n",
       "      <th>10</th>\n",
       "      <td>1.0</td>\n",
       "      <td>0</td>\n",
       "      <td>32830</td>\n",
       "      <td>0</td>\n",
       "      <td>770</td>\n",
       "      <td>0.000000</td>\n",
       "    </tr>\n",
       "  </tbody>\n",
       "</table>\n",
       "</div>"
      ],
      "text/plain": [
       "    thresh   tp     tn     fp   fn        f1\n",
       "0      0.0  770      0  32830    0  0.044807\n",
       "1      0.1  375  29302   3528  395  0.160496\n",
       "2      0.2  220  31955    875  550  0.235925\n",
       "3      0.3  156  32391    439  614  0.228571\n",
       "4      0.4  130  32553    277  640  0.220901\n",
       "5      0.5  109  32657    173  661  0.207224\n",
       "6      0.6   90  32707    123  680  0.183113\n",
       "7      0.7   71  32755     75  699  0.155022\n",
       "8      0.8   58  32786     44  712  0.133028\n",
       "9      0.9   33  32814     16  737  0.080586\n",
       "10     1.0    0  32830      0  770  0.000000"
      ]
     },
     "execution_count": 110,
     "metadata": {},
     "output_type": "execute_result"
    }
   ],
   "source": [
    "lrn.evaluate()"
   ]
  },
  {
   "cell_type": "code",
   "execution_count": 111,
   "id": "deba89d6-e9e6-4604-864b-0294f8e538b1",
   "metadata": {},
   "outputs": [
    {
     "data": {
      "application/vnd.jupyter.widget-view+json": {
       "model_id": "5ed625c5bbff40b09fb583dbe8a298d6",
       "version_major": 2,
       "version_minor": 0
      },
      "text/plain": [
       "  0%|          | 0/38 [00:00<?, ?it/s]"
      ]
     },
     "metadata": {},
     "output_type": "display_data"
    },
    {
     "data": {
      "text/html": [
       "<div>\n",
       "<style scoped>\n",
       "    .dataframe tbody tr th:only-of-type {\n",
       "        vertical-align: middle;\n",
       "    }\n",
       "\n",
       "    .dataframe tbody tr th {\n",
       "        vertical-align: top;\n",
       "    }\n",
       "\n",
       "    .dataframe thead th {\n",
       "        text-align: right;\n",
       "    }\n",
       "</style>\n",
       "<table border=\"1\" class=\"dataframe\">\n",
       "  <thead>\n",
       "    <tr style=\"text-align: right;\">\n",
       "      <th></th>\n",
       "      <th>thresh</th>\n",
       "      <th>tp</th>\n",
       "      <th>tn</th>\n",
       "      <th>fp</th>\n",
       "      <th>fn</th>\n",
       "      <th>f1</th>\n",
       "    </tr>\n",
       "  </thead>\n",
       "  <tbody>\n",
       "    <tr>\n",
       "      <th>0</th>\n",
       "      <td>0.0</td>\n",
       "      <td>770</td>\n",
       "      <td>0</td>\n",
       "      <td>32830</td>\n",
       "      <td>0</td>\n",
       "      <td>0.044807</td>\n",
       "    </tr>\n",
       "    <tr>\n",
       "      <th>1</th>\n",
       "      <td>0.1</td>\n",
       "      <td>380</td>\n",
       "      <td>29322</td>\n",
       "      <td>3508</td>\n",
       "      <td>390</td>\n",
       "      <td>0.163160</td>\n",
       "    </tr>\n",
       "    <tr>\n",
       "      <th>2</th>\n",
       "      <td>0.2</td>\n",
       "      <td>223</td>\n",
       "      <td>31959</td>\n",
       "      <td>871</td>\n",
       "      <td>547</td>\n",
       "      <td>0.239270</td>\n",
       "    </tr>\n",
       "    <tr>\n",
       "      <th>3</th>\n",
       "      <td>0.3</td>\n",
       "      <td>161</td>\n",
       "      <td>32395</td>\n",
       "      <td>435</td>\n",
       "      <td>609</td>\n",
       "      <td>0.235725</td>\n",
       "    </tr>\n",
       "    <tr>\n",
       "      <th>4</th>\n",
       "      <td>0.4</td>\n",
       "      <td>133</td>\n",
       "      <td>32557</td>\n",
       "      <td>273</td>\n",
       "      <td>637</td>\n",
       "      <td>0.226190</td>\n",
       "    </tr>\n",
       "    <tr>\n",
       "      <th>5</th>\n",
       "      <td>0.5</td>\n",
       "      <td>112</td>\n",
       "      <td>32644</td>\n",
       "      <td>186</td>\n",
       "      <td>658</td>\n",
       "      <td>0.209738</td>\n",
       "    </tr>\n",
       "    <tr>\n",
       "      <th>6</th>\n",
       "      <td>0.6</td>\n",
       "      <td>96</td>\n",
       "      <td>32708</td>\n",
       "      <td>122</td>\n",
       "      <td>674</td>\n",
       "      <td>0.194332</td>\n",
       "    </tr>\n",
       "    <tr>\n",
       "      <th>7</th>\n",
       "      <td>0.7</td>\n",
       "      <td>66</td>\n",
       "      <td>32749</td>\n",
       "      <td>81</td>\n",
       "      <td>704</td>\n",
       "      <td>0.143948</td>\n",
       "    </tr>\n",
       "    <tr>\n",
       "      <th>8</th>\n",
       "      <td>0.8</td>\n",
       "      <td>56</td>\n",
       "      <td>32781</td>\n",
       "      <td>49</td>\n",
       "      <td>714</td>\n",
       "      <td>0.128000</td>\n",
       "    </tr>\n",
       "    <tr>\n",
       "      <th>9</th>\n",
       "      <td>0.9</td>\n",
       "      <td>36</td>\n",
       "      <td>32815</td>\n",
       "      <td>15</td>\n",
       "      <td>734</td>\n",
       "      <td>0.087698</td>\n",
       "    </tr>\n",
       "    <tr>\n",
       "      <th>10</th>\n",
       "      <td>1.0</td>\n",
       "      <td>0</td>\n",
       "      <td>32830</td>\n",
       "      <td>0</td>\n",
       "      <td>770</td>\n",
       "      <td>0.000000</td>\n",
       "    </tr>\n",
       "  </tbody>\n",
       "</table>\n",
       "</div>"
      ],
      "text/plain": [
       "    thresh   tp     tn     fp   fn        f1\n",
       "0      0.0  770      0  32830    0  0.044807\n",
       "1      0.1  380  29322   3508  390  0.163160\n",
       "2      0.2  223  31959    871  547  0.239270\n",
       "3      0.3  161  32395    435  609  0.235725\n",
       "4      0.4  133  32557    273  637  0.226190\n",
       "5      0.5  112  32644    186  658  0.209738\n",
       "6      0.6   96  32708    122  674  0.194332\n",
       "7      0.7   66  32749     81  704  0.143948\n",
       "8      0.8   56  32781     49  714  0.128000\n",
       "9      0.9   36  32815     15  734  0.087698\n",
       "10     1.0    0  32830      0  770  0.000000"
      ]
     },
     "execution_count": 111,
     "metadata": {},
     "output_type": "execute_result"
    }
   ],
   "source": [
    "lrn.load_checkpoint('best')\n",
    "lrn.evaluate()"
   ]
  },
  {
   "cell_type": "code",
   "execution_count": 114,
   "id": "8e4351d9-d498-460d-b250-204dbbcb0627",
   "metadata": {},
   "outputs": [
    {
     "data": {
      "text/plain": [
       "{'epoch': 9,\n",
       " 'valid_loss': 0.11422962146370035,\n",
       " 'valid_score': 0.20722433924674988}"
      ]
     },
     "execution_count": 114,
     "metadata": {},
     "output_type": "execute_result"
    }
   ],
   "source": [
    "lrn.load_checkpoint('latest')"
   ]
  },
  {
   "cell_type": "code",
   "execution_count": 115,
   "id": "2cc1c333-6aba-4660-9db9-c609094c376b",
   "metadata": {},
   "outputs": [
    {
     "data": {
      "text/plain": [
       "{'total_steps': 3360,\n",
       " '_schedule_phases': [{'end_step': 1007.0,\n",
       "   'start_lr': 'initial_lr',\n",
       "   'end_lr': 'max_lr',\n",
       "   'start_momentum': 'max_momentum',\n",
       "   'end_momentum': 'base_momentum'},\n",
       "  {'end_step': 3359,\n",
       "   'start_lr': 'max_lr',\n",
       "   'end_lr': 'min_lr',\n",
       "   'start_momentum': 'base_momentum',\n",
       "   'end_momentum': 'max_momentum'}],\n",
       " 'anneal_func': <bound method OneCycleLR._annealing_cos of <torch.optim.lr_scheduler.OneCycleLR object at 0x7f8fd6290760>>,\n",
       " 'cycle_momentum': True,\n",
       " 'use_beta1': True,\n",
       " 'base_lrs': [4e-06],\n",
       " 'last_epoch': 3360,\n",
       " '_step_count': 3361,\n",
       " 'verbose': False,\n",
       " '_get_lr_called_within_step': False,\n",
       " '_last_lr': [4.446029226779303e-10]}"
      ]
     },
     "execution_count": 115,
     "metadata": {},
     "output_type": "execute_result"
    }
   ],
   "source": [
    "lrn.scheduler.state_dict()"
   ]
  },
  {
   "cell_type": "code",
   "execution_count": null,
   "id": "d638a00c-fd89-472f-bfc9-47e57e654df8",
   "metadata": {},
   "outputs": [],
   "source": []
  },
  {
   "cell_type": "code",
   "execution_count": 116,
   "id": "7279850f-28a4-4042-bd57-14d4940a46ac",
   "metadata": {},
   "outputs": [],
   "source": [
    "cfg = Config(\n",
    "    noise_nsr_dbs = [35],\n",
    "    sites=['SSW'], \n",
    "    use_neptune=True, \n",
    "    log_batch_metrics=True,\n",
    "    n_epochs=100, \n",
    "    bs=32, \n",
    "    lr=1e-5,\n",
    "    model='resnet18',\n",
    "    scheduler='torch.optim.lr_scheduler.CosineAnnealingLR'\n",
    ")"
   ]
  },
  {
   "cell_type": "code",
   "execution_count": 117,
   "id": "433da5da-1ebd-4c72-828f-a78c7967b56d",
   "metadata": {},
   "outputs": [
    {
     "name": "stdout",
     "output_type": "stream",
     "text": [
      "resnet18-unfrozen-20210507-162529\n"
     ]
    },
    {
     "name": "stderr",
     "output_type": "stream",
     "text": [
      "/home/koen/projects/botkop/lark/nbs/botkop/lark/data.py:76: FutureWarning: The default value of regex will change from True to False in a future version.\n",
      "  self.df_meta['secondary_labels'] = self.df_meta['secondary_labels'].str.replace(\"[\\[\\]',]\", '').str.split()\n",
      "/home/koen/projects/botkop/lark/nbs/botkop/lark/data.py:77: FutureWarning: The default value of regex will change from True to False in a future version.\n",
      "  self.df_meta['filename'] = self.df_meta['filename'].str.replace(\".ogg\", '.wav')\n"
     ]
    }
   ],
   "source": [
    "lrn = Learner(\"resnet18-unfrozen\", cfg, model)"
   ]
  },
  {
   "cell_type": "code",
   "execution_count": 118,
   "id": "12b6907f-7dc0-4f28-8aa2-624e36610668",
   "metadata": {},
   "outputs": [
    {
     "name": "stderr",
     "output_type": "stream",
     "text": [
      "psutil is not installed. You will not be able to abort this experiment from the UI.\n",
      "psutil is not installed. Hardware metrics will not be collected.\n"
     ]
    },
    {
     "name": "stdout",
     "output_type": "stream",
     "text": [
      "https://ui.neptune.ai/botkop/lark/e/LAR-96\n"
     ]
    },
    {
     "data": {
      "application/vnd.jupyter.widget-view+json": {
       "model_id": "2f15b1edc5a8477e9b7ff69030091652",
       "version_major": 2,
       "version_minor": 0
      },
      "text/plain": [
       "  0%|          | 0/100 [00:00<?, ?it/s]"
      ]
     },
     "metadata": {},
     "output_type": "display_data"
    },
    {
     "data": {
      "application/vnd.jupyter.widget-view+json": {
       "model_id": "",
       "version_major": 2,
       "version_minor": 0
      },
      "text/plain": [
       "  0%|          | 0/336 [00:00<?, ?it/s]"
      ]
     },
     "metadata": {},
     "output_type": "display_data"
    },
    {
     "data": {
      "application/vnd.jupyter.widget-view+json": {
       "model_id": "",
       "version_major": 2,
       "version_minor": 0
      },
      "text/plain": [
       "  0%|          | 0/38 [00:00<?, ?it/s]"
      ]
     },
     "metadata": {},
     "output_type": "display_data"
    },
    {
     "name": "stdout",
     "output_type": "stream",
     "text": [
      "2021-05-07 16:27:11 epoch:   1 train loss: 0.215940 train f1: 0.198301 valid loss: 0.113366 valid f1: 0.219512\n"
     ]
    },
    {
     "data": {
      "application/vnd.jupyter.widget-view+json": {
       "model_id": "",
       "version_major": 2,
       "version_minor": 0
      },
      "text/plain": [
       "  0%|          | 0/336 [00:00<?, ?it/s]"
      ]
     },
     "metadata": {},
     "output_type": "display_data"
    },
    {
     "data": {
      "application/vnd.jupyter.widget-view+json": {
       "model_id": "",
       "version_major": 2,
       "version_minor": 0
      },
      "text/plain": [
       "  0%|          | 0/38 [00:00<?, ?it/s]"
      ]
     },
     "metadata": {},
     "output_type": "display_data"
    },
    {
     "name": "stdout",
     "output_type": "stream",
     "text": [
      "2021-05-07 16:28:00 epoch:   2 train loss: 0.212331 train f1: 0.205517 valid loss: 0.113440 valid f1: 0.216620\n"
     ]
    },
    {
     "data": {
      "application/vnd.jupyter.widget-view+json": {
       "model_id": "",
       "version_major": 2,
       "version_minor": 0
      },
      "text/plain": [
       "  0%|          | 0/336 [00:00<?, ?it/s]"
      ]
     },
     "metadata": {},
     "output_type": "display_data"
    },
    {
     "data": {
      "application/vnd.jupyter.widget-view+json": {
       "model_id": "",
       "version_major": 2,
       "version_minor": 0
      },
      "text/plain": [
       "  0%|          | 0/38 [00:00<?, ?it/s]"
      ]
     },
     "metadata": {},
     "output_type": "display_data"
    },
    {
     "name": "stdout",
     "output_type": "stream",
     "text": [
      "2021-05-07 16:28:50 epoch:   3 train loss: 0.210360 train f1: 0.211728 valid loss: 0.113895 valid f1: 0.227017\n"
     ]
    },
    {
     "data": {
      "application/vnd.jupyter.widget-view+json": {
       "model_id": "",
       "version_major": 2,
       "version_minor": 0
      },
      "text/plain": [
       "  0%|          | 0/336 [00:00<?, ?it/s]"
      ]
     },
     "metadata": {},
     "output_type": "display_data"
    },
    {
     "data": {
      "application/vnd.jupyter.widget-view+json": {
       "model_id": "",
       "version_major": 2,
       "version_minor": 0
      },
      "text/plain": [
       "  0%|          | 0/38 [00:00<?, ?it/s]"
      ]
     },
     "metadata": {},
     "output_type": "display_data"
    },
    {
     "name": "stdout",
     "output_type": "stream",
     "text": [
      "2021-05-07 16:29:40 epoch:   4 train loss: 0.209610 train f1: 0.213350 valid loss: 0.110983 valid f1: 0.224122\n"
     ]
    },
    {
     "data": {
      "application/vnd.jupyter.widget-view+json": {
       "model_id": "",
       "version_major": 2,
       "version_minor": 0
      },
      "text/plain": [
       "  0%|          | 0/336 [00:00<?, ?it/s]"
      ]
     },
     "metadata": {},
     "output_type": "display_data"
    },
    {
     "data": {
      "application/vnd.jupyter.widget-view+json": {
       "model_id": "",
       "version_major": 2,
       "version_minor": 0
      },
      "text/plain": [
       "  0%|          | 0/38 [00:00<?, ?it/s]"
      ]
     },
     "metadata": {},
     "output_type": "display_data"
    },
    {
     "name": "stdout",
     "output_type": "stream",
     "text": [
      "2021-05-07 16:30:32 epoch:   5 train loss: 0.210443 train f1: 0.213248 valid loss: 0.111304 valid f1: 0.223709\n"
     ]
    },
    {
     "data": {
      "application/vnd.jupyter.widget-view+json": {
       "model_id": "",
       "version_major": 2,
       "version_minor": 0
      },
      "text/plain": [
       "  0%|          | 0/336 [00:00<?, ?it/s]"
      ]
     },
     "metadata": {},
     "output_type": "display_data"
    },
    {
     "data": {
      "application/vnd.jupyter.widget-view+json": {
       "model_id": "",
       "version_major": 2,
       "version_minor": 0
      },
      "text/plain": [
       "  0%|          | 0/38 [00:00<?, ?it/s]"
      ]
     },
     "metadata": {},
     "output_type": "display_data"
    },
    {
     "name": "stdout",
     "output_type": "stream",
     "text": [
      "2021-05-07 16:31:23 epoch:   6 train loss: 0.209156 train f1: 0.215345 valid loss: 0.113121 valid f1: 0.201128\n"
     ]
    },
    {
     "data": {
      "application/vnd.jupyter.widget-view+json": {
       "model_id": "",
       "version_major": 2,
       "version_minor": 0
      },
      "text/plain": [
       "  0%|          | 0/336 [00:00<?, ?it/s]"
      ]
     },
     "metadata": {},
     "output_type": "display_data"
    },
    {
     "data": {
      "application/vnd.jupyter.widget-view+json": {
       "model_id": "",
       "version_major": 2,
       "version_minor": 0
      },
      "text/plain": [
       "  0%|          | 0/38 [00:00<?, ?it/s]"
      ]
     },
     "metadata": {},
     "output_type": "display_data"
    },
    {
     "name": "stdout",
     "output_type": "stream",
     "text": [
      "2021-05-07 16:32:12 epoch:   7 train loss: 0.211252 train f1: 0.210601 valid loss: 0.112966 valid f1: 0.211896\n"
     ]
    },
    {
     "data": {
      "application/vnd.jupyter.widget-view+json": {
       "model_id": "",
       "version_major": 2,
       "version_minor": 0
      },
      "text/plain": [
       "  0%|          | 0/336 [00:00<?, ?it/s]"
      ]
     },
     "metadata": {},
     "output_type": "display_data"
    },
    {
     "data": {
      "application/vnd.jupyter.widget-view+json": {
       "model_id": "",
       "version_major": 2,
       "version_minor": 0
      },
      "text/plain": [
       "  0%|          | 0/38 [00:00<?, ?it/s]"
      ]
     },
     "metadata": {},
     "output_type": "display_data"
    },
    {
     "name": "stdout",
     "output_type": "stream",
     "text": [
      "2021-05-07 16:33:02 epoch:   8 train loss: 0.210433 train f1: 0.214869 valid loss: 0.114555 valid f1: 0.201802\n"
     ]
    },
    {
     "data": {
      "application/vnd.jupyter.widget-view+json": {
       "model_id": "",
       "version_major": 2,
       "version_minor": 0
      },
      "text/plain": [
       "  0%|          | 0/336 [00:00<?, ?it/s]"
      ]
     },
     "metadata": {},
     "output_type": "display_data"
    },
    {
     "data": {
      "application/vnd.jupyter.widget-view+json": {
       "model_id": "",
       "version_major": 2,
       "version_minor": 0
      },
      "text/plain": [
       "  0%|          | 0/38 [00:00<?, ?it/s]"
      ]
     },
     "metadata": {},
     "output_type": "display_data"
    },
    {
     "name": "stdout",
     "output_type": "stream",
     "text": [
      "2021-05-07 16:33:51 epoch:   9 train loss: 0.211761 train f1: 0.211720 valid loss: 0.115657 valid f1: 0.208665\n"
     ]
    },
    {
     "data": {
      "application/vnd.jupyter.widget-view+json": {
       "model_id": "",
       "version_major": 2,
       "version_minor": 0
      },
      "text/plain": [
       "  0%|          | 0/336 [00:00<?, ?it/s]"
      ]
     },
     "metadata": {},
     "output_type": "display_data"
    },
    {
     "data": {
      "application/vnd.jupyter.widget-view+json": {
       "model_id": "",
       "version_major": 2,
       "version_minor": 0
      },
      "text/plain": [
       "  0%|          | 0/38 [00:00<?, ?it/s]"
      ]
     },
     "metadata": {},
     "output_type": "display_data"
    },
    {
     "name": "stdout",
     "output_type": "stream",
     "text": [
      "2021-05-07 16:34:40 epoch:  10 train loss: 0.214141 train f1: 0.208419 valid loss: 0.113776 valid f1: 0.212687\n"
     ]
    },
    {
     "data": {
      "application/vnd.jupyter.widget-view+json": {
       "model_id": "",
       "version_major": 2,
       "version_minor": 0
      },
      "text/plain": [
       "  0%|          | 0/336 [00:00<?, ?it/s]"
      ]
     },
     "metadata": {},
     "output_type": "display_data"
    },
    {
     "data": {
      "application/vnd.jupyter.widget-view+json": {
       "model_id": "",
       "version_major": 2,
       "version_minor": 0
      },
      "text/plain": [
       "  0%|          | 0/38 [00:00<?, ?it/s]"
      ]
     },
     "metadata": {},
     "output_type": "display_data"
    },
    {
     "name": "stdout",
     "output_type": "stream",
     "text": [
      "2021-05-07 16:35:30 epoch:  11 train loss: 0.213226 train f1: 0.209560 valid loss: 0.112871 valid f1: 0.212488\n"
     ]
    },
    {
     "data": {
      "application/vnd.jupyter.widget-view+json": {
       "model_id": "",
       "version_major": 2,
       "version_minor": 0
      },
      "text/plain": [
       "  0%|          | 0/336 [00:00<?, ?it/s]"
      ]
     },
     "metadata": {},
     "output_type": "display_data"
    },
    {
     "data": {
      "application/vnd.jupyter.widget-view+json": {
       "model_id": "",
       "version_major": 2,
       "version_minor": 0
      },
      "text/plain": [
       "  0%|          | 0/38 [00:00<?, ?it/s]"
      ]
     },
     "metadata": {},
     "output_type": "display_data"
    },
    {
     "name": "stdout",
     "output_type": "stream",
     "text": [
      "2021-05-07 16:36:20 epoch:  12 train loss: 0.208777 train f1: 0.219281 valid loss: 0.110976 valid f1: 0.220767\n"
     ]
    },
    {
     "data": {
      "application/vnd.jupyter.widget-view+json": {
       "model_id": "",
       "version_major": 2,
       "version_minor": 0
      },
      "text/plain": [
       "  0%|          | 0/336 [00:00<?, ?it/s]"
      ]
     },
     "metadata": {},
     "output_type": "display_data"
    },
    {
     "data": {
      "application/vnd.jupyter.widget-view+json": {
       "model_id": "",
       "version_major": 2,
       "version_minor": 0
      },
      "text/plain": [
       "  0%|          | 0/38 [00:00<?, ?it/s]"
      ]
     },
     "metadata": {},
     "output_type": "display_data"
    },
    {
     "name": "stdout",
     "output_type": "stream",
     "text": [
      "2021-05-07 16:37:10 epoch:  13 train loss: 0.210826 train f1: 0.224284 valid loss: 0.114333 valid f1: 0.198758\n"
     ]
    },
    {
     "data": {
      "application/vnd.jupyter.widget-view+json": {
       "model_id": "",
       "version_major": 2,
       "version_minor": 0
      },
      "text/plain": [
       "  0%|          | 0/336 [00:00<?, ?it/s]"
      ]
     },
     "metadata": {},
     "output_type": "display_data"
    },
    {
     "data": {
      "application/vnd.jupyter.widget-view+json": {
       "model_id": "",
       "version_major": 2,
       "version_minor": 0
      },
      "text/plain": [
       "  0%|          | 0/38 [00:00<?, ?it/s]"
      ]
     },
     "metadata": {},
     "output_type": "display_data"
    },
    {
     "name": "stdout",
     "output_type": "stream",
     "text": [
      "2021-05-07 16:38:00 epoch:  14 train loss: 0.208235 train f1: 0.226431 valid loss: 0.113277 valid f1: 0.211101\n"
     ]
    },
    {
     "data": {
      "application/vnd.jupyter.widget-view+json": {
       "model_id": "",
       "version_major": 2,
       "version_minor": 0
      },
      "text/plain": [
       "  0%|          | 0/336 [00:00<?, ?it/s]"
      ]
     },
     "metadata": {},
     "output_type": "display_data"
    },
    {
     "data": {
      "application/vnd.jupyter.widget-view+json": {
       "model_id": "",
       "version_major": 2,
       "version_minor": 0
      },
      "text/plain": [
       "  0%|          | 0/38 [00:00<?, ?it/s]"
      ]
     },
     "metadata": {},
     "output_type": "display_data"
    },
    {
     "name": "stdout",
     "output_type": "stream",
     "text": [
      "2021-05-07 16:38:49 epoch:  15 train loss: 0.209276 train f1: 0.219856 valid loss: 0.113836 valid f1: 0.204991\n"
     ]
    },
    {
     "data": {
      "application/vnd.jupyter.widget-view+json": {
       "model_id": "",
       "version_major": 2,
       "version_minor": 0
      },
      "text/plain": [
       "  0%|          | 0/336 [00:00<?, ?it/s]"
      ]
     },
     "metadata": {},
     "output_type": "display_data"
    },
    {
     "data": {
      "application/vnd.jupyter.widget-view+json": {
       "model_id": "",
       "version_major": 2,
       "version_minor": 0
      },
      "text/plain": [
       "  0%|          | 0/38 [00:00<?, ?it/s]"
      ]
     },
     "metadata": {},
     "output_type": "display_data"
    },
    {
     "name": "stdout",
     "output_type": "stream",
     "text": [
      "2021-05-07 16:39:37 epoch:  16 train loss: 0.208523 train f1: 0.225135 valid loss: 0.113250 valid f1: 0.215302\n"
     ]
    },
    {
     "data": {
      "application/vnd.jupyter.widget-view+json": {
       "model_id": "",
       "version_major": 2,
       "version_minor": 0
      },
      "text/plain": [
       "  0%|          | 0/336 [00:00<?, ?it/s]"
      ]
     },
     "metadata": {},
     "output_type": "display_data"
    },
    {
     "data": {
      "application/vnd.jupyter.widget-view+json": {
       "model_id": "",
       "version_major": 2,
       "version_minor": 0
      },
      "text/plain": [
       "  0%|          | 0/38 [00:00<?, ?it/s]"
      ]
     },
     "metadata": {},
     "output_type": "display_data"
    },
    {
     "name": "stdout",
     "output_type": "stream",
     "text": [
      "2021-05-07 16:40:26 epoch:  17 train loss: 0.207598 train f1: 0.224520 valid loss: 0.112585 valid f1: 0.216466\n"
     ]
    },
    {
     "data": {
      "application/vnd.jupyter.widget-view+json": {
       "model_id": "",
       "version_major": 2,
       "version_minor": 0
      },
      "text/plain": [
       "  0%|          | 0/336 [00:00<?, ?it/s]"
      ]
     },
     "metadata": {},
     "output_type": "display_data"
    },
    {
     "data": {
      "application/vnd.jupyter.widget-view+json": {
       "model_id": "",
       "version_major": 2,
       "version_minor": 0
      },
      "text/plain": [
       "  0%|          | 0/38 [00:00<?, ?it/s]"
      ]
     },
     "metadata": {},
     "output_type": "display_data"
    },
    {
     "name": "stdout",
     "output_type": "stream",
     "text": [
      "2021-05-07 16:41:15 epoch:  18 train loss: 0.210861 train f1: 0.220549 valid loss: 0.113224 valid f1: 0.202226\n"
     ]
    },
    {
     "data": {
      "application/vnd.jupyter.widget-view+json": {
       "model_id": "",
       "version_major": 2,
       "version_minor": 0
      },
      "text/plain": [
       "  0%|          | 0/336 [00:00<?, ?it/s]"
      ]
     },
     "metadata": {},
     "output_type": "display_data"
    },
    {
     "data": {
      "application/vnd.jupyter.widget-view+json": {
       "model_id": "",
       "version_major": 2,
       "version_minor": 0
      },
      "text/plain": [
       "  0%|          | 0/38 [00:00<?, ?it/s]"
      ]
     },
     "metadata": {},
     "output_type": "display_data"
    },
    {
     "name": "stdout",
     "output_type": "stream",
     "text": [
      "2021-05-07 16:42:04 epoch:  19 train loss: 0.210400 train f1: 0.219809 valid loss: 0.111566 valid f1: 0.212290\n"
     ]
    },
    {
     "data": {
      "application/vnd.jupyter.widget-view+json": {
       "model_id": "",
       "version_major": 2,
       "version_minor": 0
      },
      "text/plain": [
       "  0%|          | 0/336 [00:00<?, ?it/s]"
      ]
     },
     "metadata": {},
     "output_type": "display_data"
    },
    {
     "data": {
      "application/vnd.jupyter.widget-view+json": {
       "model_id": "",
       "version_major": 2,
       "version_minor": 0
      },
      "text/plain": [
       "  0%|          | 0/38 [00:00<?, ?it/s]"
      ]
     },
     "metadata": {},
     "output_type": "display_data"
    },
    {
     "name": "stdout",
     "output_type": "stream",
     "text": [
      "2021-05-07 16:42:53 epoch:  20 train loss: 0.215456 train f1: 0.207385 valid loss: 0.115831 valid f1: 0.218150\n"
     ]
    },
    {
     "data": {
      "application/vnd.jupyter.widget-view+json": {
       "model_id": "",
       "version_major": 2,
       "version_minor": 0
      },
      "text/plain": [
       "  0%|          | 0/336 [00:00<?, ?it/s]"
      ]
     },
     "metadata": {},
     "output_type": "display_data"
    },
    {
     "data": {
      "application/vnd.jupyter.widget-view+json": {
       "model_id": "",
       "version_major": 2,
       "version_minor": 0
      },
      "text/plain": [
       "  0%|          | 0/38 [00:00<?, ?it/s]"
      ]
     },
     "metadata": {},
     "output_type": "display_data"
    },
    {
     "name": "stdout",
     "output_type": "stream",
     "text": [
      "2021-05-07 16:43:42 epoch:  21 train loss: 0.215781 train f1: 0.209419 valid loss: 0.115912 valid f1: 0.207650\n"
     ]
    },
    {
     "data": {
      "application/vnd.jupyter.widget-view+json": {
       "model_id": "",
       "version_major": 2,
       "version_minor": 0
      },
      "text/plain": [
       "  0%|          | 0/336 [00:00<?, ?it/s]"
      ]
     },
     "metadata": {},
     "output_type": "display_data"
    },
    {
     "data": {
      "application/vnd.jupyter.widget-view+json": {
       "model_id": "",
       "version_major": 2,
       "version_minor": 0
      },
      "text/plain": [
       "  0%|          | 0/38 [00:00<?, ?it/s]"
      ]
     },
     "metadata": {},
     "output_type": "display_data"
    },
    {
     "name": "stdout",
     "output_type": "stream",
     "text": [
      "2021-05-07 16:44:31 epoch:  22 train loss: 0.212439 train f1: 0.210098 valid loss: 0.114357 valid f1: 0.209386\n"
     ]
    },
    {
     "data": {
      "application/vnd.jupyter.widget-view+json": {
       "model_id": "",
       "version_major": 2,
       "version_minor": 0
      },
      "text/plain": [
       "  0%|          | 0/336 [00:00<?, ?it/s]"
      ]
     },
     "metadata": {},
     "output_type": "display_data"
    },
    {
     "data": {
      "application/vnd.jupyter.widget-view+json": {
       "model_id": "",
       "version_major": 2,
       "version_minor": 0
      },
      "text/plain": [
       "  0%|          | 0/38 [00:00<?, ?it/s]"
      ]
     },
     "metadata": {},
     "output_type": "display_data"
    },
    {
     "name": "stdout",
     "output_type": "stream",
     "text": [
      "2021-05-07 16:45:21 epoch:  23 train loss: 0.214106 train f1: 0.207034 valid loss: 0.114450 valid f1: 0.205405\n"
     ]
    },
    {
     "data": {
      "application/vnd.jupyter.widget-view+json": {
       "model_id": "",
       "version_major": 2,
       "version_minor": 0
      },
      "text/plain": [
       "  0%|          | 0/336 [00:00<?, ?it/s]"
      ]
     },
     "metadata": {},
     "output_type": "display_data"
    },
    {
     "data": {
      "application/vnd.jupyter.widget-view+json": {
       "model_id": "",
       "version_major": 2,
       "version_minor": 0
      },
      "text/plain": [
       "  0%|          | 0/38 [00:00<?, ?it/s]"
      ]
     },
     "metadata": {},
     "output_type": "display_data"
    },
    {
     "name": "stdout",
     "output_type": "stream",
     "text": [
      "2021-05-07 16:46:10 epoch:  24 train loss: 0.212835 train f1: 0.214442 valid loss: 0.113927 valid f1: 0.204420\n"
     ]
    },
    {
     "data": {
      "application/vnd.jupyter.widget-view+json": {
       "model_id": "",
       "version_major": 2,
       "version_minor": 0
      },
      "text/plain": [
       "  0%|          | 0/336 [00:00<?, ?it/s]"
      ]
     },
     "metadata": {},
     "output_type": "display_data"
    },
    {
     "data": {
      "application/vnd.jupyter.widget-view+json": {
       "model_id": "",
       "version_major": 2,
       "version_minor": 0
      },
      "text/plain": [
       "  0%|          | 0/38 [00:00<?, ?it/s]"
      ]
     },
     "metadata": {},
     "output_type": "display_data"
    },
    {
     "name": "stdout",
     "output_type": "stream",
     "text": [
      "2021-05-07 16:46:58 epoch:  25 train loss: 0.212451 train f1: 0.212527 valid loss: 0.113407 valid f1: 0.213115\n"
     ]
    },
    {
     "data": {
      "application/vnd.jupyter.widget-view+json": {
       "model_id": "",
       "version_major": 2,
       "version_minor": 0
      },
      "text/plain": [
       "  0%|          | 0/336 [00:00<?, ?it/s]"
      ]
     },
     "metadata": {},
     "output_type": "display_data"
    },
    {
     "data": {
      "application/vnd.jupyter.widget-view+json": {
       "model_id": "",
       "version_major": 2,
       "version_minor": 0
      },
      "text/plain": [
       "  0%|          | 0/38 [00:00<?, ?it/s]"
      ]
     },
     "metadata": {},
     "output_type": "display_data"
    },
    {
     "name": "stdout",
     "output_type": "stream",
     "text": [
      "2021-05-07 16:47:47 epoch:  26 train loss: 0.212477 train f1: 0.212367 valid loss: 0.114318 valid f1: 0.203515\n"
     ]
    },
    {
     "data": {
      "application/vnd.jupyter.widget-view+json": {
       "model_id": "",
       "version_major": 2,
       "version_minor": 0
      },
      "text/plain": [
       "  0%|          | 0/336 [00:00<?, ?it/s]"
      ]
     },
     "metadata": {},
     "output_type": "display_data"
    },
    {
     "data": {
      "application/vnd.jupyter.widget-view+json": {
       "model_id": "",
       "version_major": 2,
       "version_minor": 0
      },
      "text/plain": [
       "  0%|          | 0/38 [00:00<?, ?it/s]"
      ]
     },
     "metadata": {},
     "output_type": "display_data"
    },
    {
     "name": "stdout",
     "output_type": "stream",
     "text": [
      "2021-05-07 16:48:36 epoch:  27 train loss: 0.212853 train f1: 0.214274 valid loss: 0.111872 valid f1: 0.217111\n"
     ]
    },
    {
     "data": {
      "application/vnd.jupyter.widget-view+json": {
       "model_id": "",
       "version_major": 2,
       "version_minor": 0
      },
      "text/plain": [
       "  0%|          | 0/336 [00:00<?, ?it/s]"
      ]
     },
     "metadata": {},
     "output_type": "display_data"
    },
    {
     "data": {
      "application/vnd.jupyter.widget-view+json": {
       "model_id": "",
       "version_major": 2,
       "version_minor": 0
      },
      "text/plain": [
       "  0%|          | 0/38 [00:00<?, ?it/s]"
      ]
     },
     "metadata": {},
     "output_type": "display_data"
    },
    {
     "name": "stdout",
     "output_type": "stream",
     "text": [
      "2021-05-07 16:49:24 epoch:  28 train loss: 0.211411 train f1: 0.218999 valid loss: 0.112235 valid f1: 0.198915\n"
     ]
    },
    {
     "data": {
      "application/vnd.jupyter.widget-view+json": {
       "model_id": "",
       "version_major": 2,
       "version_minor": 0
      },
      "text/plain": [
       "  0%|          | 0/336 [00:00<?, ?it/s]"
      ]
     },
     "metadata": {},
     "output_type": "display_data"
    },
    {
     "data": {
      "application/vnd.jupyter.widget-view+json": {
       "model_id": "",
       "version_major": 2,
       "version_minor": 0
      },
      "text/plain": [
       "  0%|          | 0/38 [00:00<?, ?it/s]"
      ]
     },
     "metadata": {},
     "output_type": "display_data"
    },
    {
     "name": "stdout",
     "output_type": "stream",
     "text": [
      "2021-05-07 16:50:13 epoch:  29 train loss: 0.213171 train f1: 0.215501 valid loss: 0.114161 valid f1: 0.211280\n"
     ]
    },
    {
     "data": {
      "application/vnd.jupyter.widget-view+json": {
       "model_id": "",
       "version_major": 2,
       "version_minor": 0
      },
      "text/plain": [
       "  0%|          | 0/336 [00:00<?, ?it/s]"
      ]
     },
     "metadata": {},
     "output_type": "display_data"
    },
    {
     "data": {
      "application/vnd.jupyter.widget-view+json": {
       "model_id": "",
       "version_major": 2,
       "version_minor": 0
      },
      "text/plain": [
       "  0%|          | 0/38 [00:00<?, ?it/s]"
      ]
     },
     "metadata": {},
     "output_type": "display_data"
    },
    {
     "name": "stdout",
     "output_type": "stream",
     "text": [
      "2021-05-07 16:51:02 epoch:  30 train loss: 0.213562 train f1: 0.215530 valid loss: 0.113640 valid f1: 0.205607\n"
     ]
    },
    {
     "data": {
      "application/vnd.jupyter.widget-view+json": {
       "model_id": "",
       "version_major": 2,
       "version_minor": 0
      },
      "text/plain": [
       "  0%|          | 0/336 [00:00<?, ?it/s]"
      ]
     },
     "metadata": {},
     "output_type": "display_data"
    },
    {
     "data": {
      "application/vnd.jupyter.widget-view+json": {
       "model_id": "",
       "version_major": 2,
       "version_minor": 0
      },
      "text/plain": [
       "  0%|          | 0/38 [00:00<?, ?it/s]"
      ]
     },
     "metadata": {},
     "output_type": "display_data"
    },
    {
     "name": "stdout",
     "output_type": "stream",
     "text": [
      "2021-05-07 16:51:50 epoch:  31 train loss: 0.214265 train f1: 0.210283 valid loss: 0.113146 valid f1: 0.217143\n"
     ]
    },
    {
     "data": {
      "application/vnd.jupyter.widget-view+json": {
       "model_id": "",
       "version_major": 2,
       "version_minor": 0
      },
      "text/plain": [
       "  0%|          | 0/336 [00:00<?, ?it/s]"
      ]
     },
     "metadata": {},
     "output_type": "display_data"
    },
    {
     "data": {
      "application/vnd.jupyter.widget-view+json": {
       "model_id": "",
       "version_major": 2,
       "version_minor": 0
      },
      "text/plain": [
       "  0%|          | 0/38 [00:00<?, ?it/s]"
      ]
     },
     "metadata": {},
     "output_type": "display_data"
    },
    {
     "name": "stdout",
     "output_type": "stream",
     "text": [
      "2021-05-07 16:52:39 epoch:  32 train loss: 0.211112 train f1: 0.217907 valid loss: 0.113239 valid f1: 0.214352\n"
     ]
    },
    {
     "data": {
      "application/vnd.jupyter.widget-view+json": {
       "model_id": "",
       "version_major": 2,
       "version_minor": 0
      },
      "text/plain": [
       "  0%|          | 0/336 [00:00<?, ?it/s]"
      ]
     },
     "metadata": {},
     "output_type": "display_data"
    },
    {
     "data": {
      "application/vnd.jupyter.widget-view+json": {
       "model_id": "",
       "version_major": 2,
       "version_minor": 0
      },
      "text/plain": [
       "  0%|          | 0/38 [00:00<?, ?it/s]"
      ]
     },
     "metadata": {},
     "output_type": "display_data"
    },
    {
     "name": "stdout",
     "output_type": "stream",
     "text": [
      "2021-05-07 16:53:28 epoch:  33 train loss: 0.211264 train f1: 0.214512 valid loss: 0.112908 valid f1: 0.217270\n"
     ]
    },
    {
     "data": {
      "application/vnd.jupyter.widget-view+json": {
       "model_id": "",
       "version_major": 2,
       "version_minor": 0
      },
      "text/plain": [
       "  0%|          | 0/336 [00:00<?, ?it/s]"
      ]
     },
     "metadata": {},
     "output_type": "display_data"
    },
    {
     "data": {
      "application/vnd.jupyter.widget-view+json": {
       "model_id": "",
       "version_major": 2,
       "version_minor": 0
      },
      "text/plain": [
       "  0%|          | 0/38 [00:00<?, ?it/s]"
      ]
     },
     "metadata": {},
     "output_type": "display_data"
    },
    {
     "name": "stdout",
     "output_type": "stream",
     "text": [
      "2021-05-07 16:54:17 epoch:  34 train loss: 0.212002 train f1: 0.211251 valid loss: 0.114345 valid f1: 0.210028\n"
     ]
    },
    {
     "data": {
      "application/vnd.jupyter.widget-view+json": {
       "model_id": "",
       "version_major": 2,
       "version_minor": 0
      },
      "text/plain": [
       "  0%|          | 0/336 [00:00<?, ?it/s]"
      ]
     },
     "metadata": {},
     "output_type": "display_data"
    },
    {
     "data": {
      "application/vnd.jupyter.widget-view+json": {
       "model_id": "",
       "version_major": 2,
       "version_minor": 0
      },
      "text/plain": [
       "  0%|          | 0/38 [00:00<?, ?it/s]"
      ]
     },
     "metadata": {},
     "output_type": "display_data"
    },
    {
     "name": "stdout",
     "output_type": "stream",
     "text": [
      "2021-05-07 16:55:06 epoch:  35 train loss: 0.211017 train f1: 0.213896 valid loss: 0.112964 valid f1: 0.218182\n"
     ]
    },
    {
     "data": {
      "application/vnd.jupyter.widget-view+json": {
       "model_id": "",
       "version_major": 2,
       "version_minor": 0
      },
      "text/plain": [
       "  0%|          | 0/336 [00:00<?, ?it/s]"
      ]
     },
     "metadata": {},
     "output_type": "display_data"
    },
    {
     "data": {
      "application/vnd.jupyter.widget-view+json": {
       "model_id": "",
       "version_major": 2,
       "version_minor": 0
      },
      "text/plain": [
       "  0%|          | 0/38 [00:00<?, ?it/s]"
      ]
     },
     "metadata": {},
     "output_type": "display_data"
    },
    {
     "name": "stdout",
     "output_type": "stream",
     "text": [
      "2021-05-07 16:55:56 epoch:  36 train loss: 0.214996 train f1: 0.212947 valid loss: 0.111982 valid f1: 0.214220\n"
     ]
    },
    {
     "data": {
      "application/vnd.jupyter.widget-view+json": {
       "model_id": "",
       "version_major": 2,
       "version_minor": 0
      },
      "text/plain": [
       "  0%|          | 0/336 [00:00<?, ?it/s]"
      ]
     },
     "metadata": {},
     "output_type": "display_data"
    },
    {
     "data": {
      "application/vnd.jupyter.widget-view+json": {
       "model_id": "",
       "version_major": 2,
       "version_minor": 0
      },
      "text/plain": [
       "  0%|          | 0/38 [00:00<?, ?it/s]"
      ]
     },
     "metadata": {},
     "output_type": "display_data"
    },
    {
     "name": "stdout",
     "output_type": "stream",
     "text": [
      "2021-05-07 16:56:44 epoch:  37 train loss: 0.211339 train f1: 0.216689 valid loss: 0.113351 valid f1: 0.217588\n"
     ]
    },
    {
     "data": {
      "application/vnd.jupyter.widget-view+json": {
       "model_id": "",
       "version_major": 2,
       "version_minor": 0
      },
      "text/plain": [
       "  0%|          | 0/336 [00:00<?, ?it/s]"
      ]
     },
     "metadata": {},
     "output_type": "display_data"
    },
    {
     "data": {
      "application/vnd.jupyter.widget-view+json": {
       "model_id": "",
       "version_major": 2,
       "version_minor": 0
      },
      "text/plain": [
       "  0%|          | 0/38 [00:00<?, ?it/s]"
      ]
     },
     "metadata": {},
     "output_type": "display_data"
    },
    {
     "name": "stdout",
     "output_type": "stream",
     "text": [
      "2021-05-07 16:57:33 epoch:  38 train loss: 0.210952 train f1: 0.215970 valid loss: 0.112193 valid f1: 0.219031\n"
     ]
    },
    {
     "data": {
      "application/vnd.jupyter.widget-view+json": {
       "model_id": "",
       "version_major": 2,
       "version_minor": 0
      },
      "text/plain": [
       "  0%|          | 0/336 [00:00<?, ?it/s]"
      ]
     },
     "metadata": {},
     "output_type": "display_data"
    },
    {
     "data": {
      "application/vnd.jupyter.widget-view+json": {
       "model_id": "",
       "version_major": 2,
       "version_minor": 0
      },
      "text/plain": [
       "  0%|          | 0/38 [00:00<?, ?it/s]"
      ]
     },
     "metadata": {},
     "output_type": "display_data"
    },
    {
     "name": "stdout",
     "output_type": "stream",
     "text": [
      "2021-05-07 16:58:22 epoch:  39 train loss: 0.213103 train f1: 0.216040 valid loss: 0.112380 valid f1: 0.214090\n"
     ]
    },
    {
     "data": {
      "application/vnd.jupyter.widget-view+json": {
       "model_id": "",
       "version_major": 2,
       "version_minor": 0
      },
      "text/plain": [
       "  0%|          | 0/336 [00:00<?, ?it/s]"
      ]
     },
     "metadata": {},
     "output_type": "display_data"
    },
    {
     "data": {
      "application/vnd.jupyter.widget-view+json": {
       "model_id": "",
       "version_major": 2,
       "version_minor": 0
      },
      "text/plain": [
       "  0%|          | 0/38 [00:00<?, ?it/s]"
      ]
     },
     "metadata": {},
     "output_type": "display_data"
    },
    {
     "name": "stdout",
     "output_type": "stream",
     "text": [
      "2021-05-07 16:59:11 epoch:  40 train loss: 0.212469 train f1: 0.217910 valid loss: 0.111621 valid f1: 0.211809\n"
     ]
    },
    {
     "data": {
      "application/vnd.jupyter.widget-view+json": {
       "model_id": "",
       "version_major": 2,
       "version_minor": 0
      },
      "text/plain": [
       "  0%|          | 0/336 [00:00<?, ?it/s]"
      ]
     },
     "metadata": {},
     "output_type": "display_data"
    },
    {
     "data": {
      "application/vnd.jupyter.widget-view+json": {
       "model_id": "",
       "version_major": 2,
       "version_minor": 0
      },
      "text/plain": [
       "  0%|          | 0/38 [00:00<?, ?it/s]"
      ]
     },
     "metadata": {},
     "output_type": "display_data"
    },
    {
     "name": "stdout",
     "output_type": "stream",
     "text": [
      "2021-05-07 17:00:00 epoch:  41 train loss: 0.211840 train f1: 0.213299 valid loss: 0.112240 valid f1: 0.208633\n"
     ]
    },
    {
     "data": {
      "application/vnd.jupyter.widget-view+json": {
       "model_id": "",
       "version_major": 2,
       "version_minor": 0
      },
      "text/plain": [
       "  0%|          | 0/336 [00:00<?, ?it/s]"
      ]
     },
     "metadata": {},
     "output_type": "display_data"
    },
    {
     "data": {
      "application/vnd.jupyter.widget-view+json": {
       "model_id": "",
       "version_major": 2,
       "version_minor": 0
      },
      "text/plain": [
       "  0%|          | 0/38 [00:00<?, ?it/s]"
      ]
     },
     "metadata": {},
     "output_type": "display_data"
    },
    {
     "name": "stdout",
     "output_type": "stream",
     "text": [
      "2021-05-07 17:00:49 epoch:  42 train loss: 0.214580 train f1: 0.211257 valid loss: 0.115693 valid f1: 0.196664\n"
     ]
    },
    {
     "data": {
      "application/vnd.jupyter.widget-view+json": {
       "model_id": "",
       "version_major": 2,
       "version_minor": 0
      },
      "text/plain": [
       "  0%|          | 0/336 [00:00<?, ?it/s]"
      ]
     },
     "metadata": {},
     "output_type": "display_data"
    },
    {
     "data": {
      "application/vnd.jupyter.widget-view+json": {
       "model_id": "",
       "version_major": 2,
       "version_minor": 0
      },
      "text/plain": [
       "  0%|          | 0/38 [00:00<?, ?it/s]"
      ]
     },
     "metadata": {},
     "output_type": "display_data"
    },
    {
     "name": "stdout",
     "output_type": "stream",
     "text": [
      "2021-05-07 17:01:37 epoch:  43 train loss: 0.211976 train f1: 0.214049 valid loss: 0.114437 valid f1: 0.203604\n"
     ]
    },
    {
     "data": {
      "application/vnd.jupyter.widget-view+json": {
       "model_id": "",
       "version_major": 2,
       "version_minor": 0
      },
      "text/plain": [
       "  0%|          | 0/336 [00:00<?, ?it/s]"
      ]
     },
     "metadata": {},
     "output_type": "display_data"
    },
    {
     "data": {
      "application/vnd.jupyter.widget-view+json": {
       "model_id": "",
       "version_major": 2,
       "version_minor": 0
      },
      "text/plain": [
       "  0%|          | 0/38 [00:00<?, ?it/s]"
      ]
     },
     "metadata": {},
     "output_type": "display_data"
    },
    {
     "name": "stdout",
     "output_type": "stream",
     "text": [
      "2021-05-07 17:02:26 epoch:  44 train loss: 0.211090 train f1: 0.215984 valid loss: 0.115234 valid f1: 0.201225\n"
     ]
    },
    {
     "data": {
      "application/vnd.jupyter.widget-view+json": {
       "model_id": "",
       "version_major": 2,
       "version_minor": 0
      },
      "text/plain": [
       "  0%|          | 0/336 [00:00<?, ?it/s]"
      ]
     },
     "metadata": {},
     "output_type": "display_data"
    },
    {
     "data": {
      "application/vnd.jupyter.widget-view+json": {
       "model_id": "",
       "version_major": 2,
       "version_minor": 0
      },
      "text/plain": [
       "  0%|          | 0/38 [00:00<?, ?it/s]"
      ]
     },
     "metadata": {},
     "output_type": "display_data"
    },
    {
     "name": "stdout",
     "output_type": "stream",
     "text": [
      "2021-05-07 17:03:15 epoch:  45 train loss: 0.212345 train f1: 0.214150 valid loss: 0.112624 valid f1: 0.201984\n"
     ]
    },
    {
     "data": {
      "application/vnd.jupyter.widget-view+json": {
       "model_id": "",
       "version_major": 2,
       "version_minor": 0
      },
      "text/plain": [
       "  0%|          | 0/336 [00:00<?, ?it/s]"
      ]
     },
     "metadata": {},
     "output_type": "display_data"
    },
    {
     "data": {
      "application/vnd.jupyter.widget-view+json": {
       "model_id": "",
       "version_major": 2,
       "version_minor": 0
      },
      "text/plain": [
       "  0%|          | 0/38 [00:00<?, ?it/s]"
      ]
     },
     "metadata": {},
     "output_type": "display_data"
    },
    {
     "name": "stdout",
     "output_type": "stream",
     "text": [
      "2021-05-07 17:04:04 epoch:  46 train loss: 0.212650 train f1: 0.214023 valid loss: 0.113098 valid f1: 0.215879\n"
     ]
    },
    {
     "data": {
      "application/vnd.jupyter.widget-view+json": {
       "model_id": "",
       "version_major": 2,
       "version_minor": 0
      },
      "text/plain": [
       "  0%|          | 0/336 [00:00<?, ?it/s]"
      ]
     },
     "metadata": {},
     "output_type": "display_data"
    },
    {
     "data": {
      "application/vnd.jupyter.widget-view+json": {
       "model_id": "",
       "version_major": 2,
       "version_minor": 0
      },
      "text/plain": [
       "  0%|          | 0/38 [00:00<?, ?it/s]"
      ]
     },
     "metadata": {},
     "output_type": "display_data"
    },
    {
     "name": "stdout",
     "output_type": "stream",
     "text": [
      "2021-05-07 17:04:52 epoch:  47 train loss: 0.209109 train f1: 0.220525 valid loss: 0.111766 valid f1: 0.210054\n"
     ]
    },
    {
     "data": {
      "application/vnd.jupyter.widget-view+json": {
       "model_id": "",
       "version_major": 2,
       "version_minor": 0
      },
      "text/plain": [
       "  0%|          | 0/336 [00:00<?, ?it/s]"
      ]
     },
     "metadata": {},
     "output_type": "display_data"
    },
    {
     "data": {
      "application/vnd.jupyter.widget-view+json": {
       "model_id": "",
       "version_major": 2,
       "version_minor": 0
      },
      "text/plain": [
       "  0%|          | 0/38 [00:00<?, ?it/s]"
      ]
     },
     "metadata": {},
     "output_type": "display_data"
    },
    {
     "name": "stdout",
     "output_type": "stream",
     "text": [
      "2021-05-07 17:05:41 epoch:  48 train loss: 0.212080 train f1: 0.215478 valid loss: 0.113944 valid f1: 0.188646\n"
     ]
    },
    {
     "data": {
      "application/vnd.jupyter.widget-view+json": {
       "model_id": "",
       "version_major": 2,
       "version_minor": 0
      },
      "text/plain": [
       "  0%|          | 0/336 [00:00<?, ?it/s]"
      ]
     },
     "metadata": {},
     "output_type": "display_data"
    },
    {
     "data": {
      "application/vnd.jupyter.widget-view+json": {
       "model_id": "",
       "version_major": 2,
       "version_minor": 0
      },
      "text/plain": [
       "  0%|          | 0/38 [00:00<?, ?it/s]"
      ]
     },
     "metadata": {},
     "output_type": "display_data"
    },
    {
     "name": "stdout",
     "output_type": "stream",
     "text": [
      "2021-05-07 17:06:29 epoch:  49 train loss: 0.211336 train f1: 0.219577 valid loss: 0.114211 valid f1: 0.199295\n"
     ]
    },
    {
     "data": {
      "application/vnd.jupyter.widget-view+json": {
       "model_id": "",
       "version_major": 2,
       "version_minor": 0
      },
      "text/plain": [
       "  0%|          | 0/336 [00:00<?, ?it/s]"
      ]
     },
     "metadata": {},
     "output_type": "display_data"
    },
    {
     "data": {
      "application/vnd.jupyter.widget-view+json": {
       "model_id": "",
       "version_major": 2,
       "version_minor": 0
      },
      "text/plain": [
       "  0%|          | 0/38 [00:00<?, ?it/s]"
      ]
     },
     "metadata": {},
     "output_type": "display_data"
    },
    {
     "name": "stdout",
     "output_type": "stream",
     "text": [
      "2021-05-07 17:07:19 epoch:  50 train loss: 0.210941 train f1: 0.221901 valid loss: 0.115058 valid f1: 0.207317\n"
     ]
    },
    {
     "data": {
      "application/vnd.jupyter.widget-view+json": {
       "model_id": "",
       "version_major": 2,
       "version_minor": 0
      },
      "text/plain": [
       "  0%|          | 0/336 [00:00<?, ?it/s]"
      ]
     },
     "metadata": {},
     "output_type": "display_data"
    },
    {
     "data": {
      "application/vnd.jupyter.widget-view+json": {
       "model_id": "",
       "version_major": 2,
       "version_minor": 0
      },
      "text/plain": [
       "  0%|          | 0/38 [00:00<?, ?it/s]"
      ]
     },
     "metadata": {},
     "output_type": "display_data"
    },
    {
     "name": "stdout",
     "output_type": "stream",
     "text": [
      "2021-05-07 17:08:08 epoch:  51 train loss: 0.212232 train f1: 0.220000 valid loss: 0.112414 valid f1: 0.210811\n"
     ]
    },
    {
     "data": {
      "application/vnd.jupyter.widget-view+json": {
       "model_id": "",
       "version_major": 2,
       "version_minor": 0
      },
      "text/plain": [
       "  0%|          | 0/336 [00:00<?, ?it/s]"
      ]
     },
     "metadata": {},
     "output_type": "display_data"
    },
    {
     "data": {
      "application/vnd.jupyter.widget-view+json": {
       "model_id": "",
       "version_major": 2,
       "version_minor": 0
      },
      "text/plain": [
       "  0%|          | 0/38 [00:00<?, ?it/s]"
      ]
     },
     "metadata": {},
     "output_type": "display_data"
    },
    {
     "name": "stdout",
     "output_type": "stream",
     "text": [
      "2021-05-07 17:08:57 epoch:  52 train loss: 0.212088 train f1: 0.219200 valid loss: 0.113705 valid f1: 0.211724\n"
     ]
    },
    {
     "data": {
      "application/vnd.jupyter.widget-view+json": {
       "model_id": "",
       "version_major": 2,
       "version_minor": 0
      },
      "text/plain": [
       "  0%|          | 0/336 [00:00<?, ?it/s]"
      ]
     },
     "metadata": {},
     "output_type": "display_data"
    },
    {
     "data": {
      "application/vnd.jupyter.widget-view+json": {
       "model_id": "",
       "version_major": 2,
       "version_minor": 0
      },
      "text/plain": [
       "  0%|          | 0/38 [00:00<?, ?it/s]"
      ]
     },
     "metadata": {},
     "output_type": "display_data"
    },
    {
     "name": "stdout",
     "output_type": "stream",
     "text": [
      "2021-05-07 17:09:46 epoch:  53 train loss: 0.210950 train f1: 0.218963 valid loss: 0.120205 valid f1: 0.185484\n"
     ]
    },
    {
     "data": {
      "application/vnd.jupyter.widget-view+json": {
       "model_id": "",
       "version_major": 2,
       "version_minor": 0
      },
      "text/plain": [
       "  0%|          | 0/336 [00:00<?, ?it/s]"
      ]
     },
     "metadata": {},
     "output_type": "display_data"
    },
    {
     "data": {
      "application/vnd.jupyter.widget-view+json": {
       "model_id": "",
       "version_major": 2,
       "version_minor": 0
      },
      "text/plain": [
       "  0%|          | 0/38 [00:00<?, ?it/s]"
      ]
     },
     "metadata": {},
     "output_type": "display_data"
    },
    {
     "name": "stdout",
     "output_type": "stream",
     "text": [
      "2021-05-07 17:10:35 epoch:  54 train loss: 0.211947 train f1: 0.225364 valid loss: 0.117542 valid f1: 0.186007\n"
     ]
    },
    {
     "data": {
      "application/vnd.jupyter.widget-view+json": {
       "model_id": "",
       "version_major": 2,
       "version_minor": 0
      },
      "text/plain": [
       "  0%|          | 0/336 [00:00<?, ?it/s]"
      ]
     },
     "metadata": {},
     "output_type": "display_data"
    },
    {
     "data": {
      "application/vnd.jupyter.widget-view+json": {
       "model_id": "",
       "version_major": 2,
       "version_minor": 0
      },
      "text/plain": [
       "  0%|          | 0/38 [00:00<?, ?it/s]"
      ]
     },
     "metadata": {},
     "output_type": "display_data"
    },
    {
     "name": "stdout",
     "output_type": "stream",
     "text": [
      "2021-05-07 17:11:24 epoch:  55 train loss: 0.209958 train f1: 0.224252 valid loss: 0.119926 valid f1: 0.177669\n"
     ]
    },
    {
     "data": {
      "application/vnd.jupyter.widget-view+json": {
       "model_id": "",
       "version_major": 2,
       "version_minor": 0
      },
      "text/plain": [
       "  0%|          | 0/336 [00:00<?, ?it/s]"
      ]
     },
     "metadata": {},
     "output_type": "display_data"
    },
    {
     "data": {
      "application/vnd.jupyter.widget-view+json": {
       "model_id": "",
       "version_major": 2,
       "version_minor": 0
      },
      "text/plain": [
       "  0%|          | 0/38 [00:00<?, ?it/s]"
      ]
     },
     "metadata": {},
     "output_type": "display_data"
    },
    {
     "name": "stdout",
     "output_type": "stream",
     "text": [
      "2021-05-07 17:12:13 epoch:  56 train loss: 0.210801 train f1: 0.215767 valid loss: 0.116351 valid f1: 0.197783\n"
     ]
    },
    {
     "data": {
      "application/vnd.jupyter.widget-view+json": {
       "model_id": "",
       "version_major": 2,
       "version_minor": 0
      },
      "text/plain": [
       "  0%|          | 0/336 [00:00<?, ?it/s]"
      ]
     },
     "metadata": {},
     "output_type": "display_data"
    },
    {
     "data": {
      "application/vnd.jupyter.widget-view+json": {
       "model_id": "",
       "version_major": 2,
       "version_minor": 0
      },
      "text/plain": [
       "  0%|          | 0/38 [00:00<?, ?it/s]"
      ]
     },
     "metadata": {},
     "output_type": "display_data"
    },
    {
     "name": "stdout",
     "output_type": "stream",
     "text": [
      "2021-05-07 17:13:02 epoch:  57 train loss: 0.210970 train f1: 0.219324 valid loss: 0.116031 valid f1: 0.190158\n"
     ]
    },
    {
     "data": {
      "application/vnd.jupyter.widget-view+json": {
       "model_id": "",
       "version_major": 2,
       "version_minor": 0
      },
      "text/plain": [
       "  0%|          | 0/336 [00:00<?, ?it/s]"
      ]
     },
     "metadata": {},
     "output_type": "display_data"
    },
    {
     "data": {
      "application/vnd.jupyter.widget-view+json": {
       "model_id": "",
       "version_major": 2,
       "version_minor": 0
      },
      "text/plain": [
       "  0%|          | 0/38 [00:00<?, ?it/s]"
      ]
     },
     "metadata": {},
     "output_type": "display_data"
    },
    {
     "name": "stdout",
     "output_type": "stream",
     "text": [
      "2021-05-07 17:13:50 epoch:  58 train loss: 0.209886 train f1: 0.224582 valid loss: 0.120056 valid f1: 0.188254\n"
     ]
    },
    {
     "data": {
      "application/vnd.jupyter.widget-view+json": {
       "model_id": "",
       "version_major": 2,
       "version_minor": 0
      },
      "text/plain": [
       "  0%|          | 0/336 [00:00<?, ?it/s]"
      ]
     },
     "metadata": {},
     "output_type": "display_data"
    },
    {
     "data": {
      "application/vnd.jupyter.widget-view+json": {
       "model_id": "",
       "version_major": 2,
       "version_minor": 0
      },
      "text/plain": [
       "  0%|          | 0/38 [00:00<?, ?it/s]"
      ]
     },
     "metadata": {},
     "output_type": "display_data"
    },
    {
     "name": "stdout",
     "output_type": "stream",
     "text": [
      "2021-05-07 17:14:39 epoch:  59 train loss: 0.211734 train f1: 0.227942 valid loss: 0.114735 valid f1: 0.206430\n"
     ]
    },
    {
     "data": {
      "application/vnd.jupyter.widget-view+json": {
       "model_id": "",
       "version_major": 2,
       "version_minor": 0
      },
      "text/plain": [
       "  0%|          | 0/336 [00:00<?, ?it/s]"
      ]
     },
     "metadata": {},
     "output_type": "display_data"
    },
    {
     "data": {
      "application/vnd.jupyter.widget-view+json": {
       "model_id": "",
       "version_major": 2,
       "version_minor": 0
      },
      "text/plain": [
       "  0%|          | 0/38 [00:00<?, ?it/s]"
      ]
     },
     "metadata": {},
     "output_type": "display_data"
    },
    {
     "name": "stdout",
     "output_type": "stream",
     "text": [
      "2021-05-07 17:15:28 epoch:  60 train loss: 0.208130 train f1: 0.230479 valid loss: 0.113589 valid f1: 0.216826\n"
     ]
    },
    {
     "data": {
      "application/vnd.jupyter.widget-view+json": {
       "model_id": "",
       "version_major": 2,
       "version_minor": 0
      },
      "text/plain": [
       "  0%|          | 0/336 [00:00<?, ?it/s]"
      ]
     },
     "metadata": {},
     "output_type": "display_data"
    },
    {
     "data": {
      "application/vnd.jupyter.widget-view+json": {
       "model_id": "",
       "version_major": 2,
       "version_minor": 0
      },
      "text/plain": [
       "  0%|          | 0/38 [00:00<?, ?it/s]"
      ]
     },
     "metadata": {},
     "output_type": "display_data"
    },
    {
     "name": "stdout",
     "output_type": "stream",
     "text": [
      "2021-05-07 17:16:17 epoch:  61 train loss: 0.211357 train f1: 0.221543 valid loss: 0.114586 valid f1: 0.214223\n"
     ]
    },
    {
     "data": {
      "application/vnd.jupyter.widget-view+json": {
       "model_id": "",
       "version_major": 2,
       "version_minor": 0
      },
      "text/plain": [
       "  0%|          | 0/336 [00:00<?, ?it/s]"
      ]
     },
     "metadata": {},
     "output_type": "display_data"
    },
    {
     "data": {
      "application/vnd.jupyter.widget-view+json": {
       "model_id": "",
       "version_major": 2,
       "version_minor": 0
      },
      "text/plain": [
       "  0%|          | 0/38 [00:00<?, ?it/s]"
      ]
     },
     "metadata": {},
     "output_type": "display_data"
    },
    {
     "name": "stdout",
     "output_type": "stream",
     "text": [
      "2021-05-07 17:17:06 epoch:  62 train loss: 0.211825 train f1: 0.218139 valid loss: 0.114950 valid f1: 0.206531\n"
     ]
    },
    {
     "data": {
      "application/vnd.jupyter.widget-view+json": {
       "model_id": "",
       "version_major": 2,
       "version_minor": 0
      },
      "text/plain": [
       "  0%|          | 0/336 [00:00<?, ?it/s]"
      ]
     },
     "metadata": {},
     "output_type": "display_data"
    },
    {
     "data": {
      "application/vnd.jupyter.widget-view+json": {
       "model_id": "",
       "version_major": 2,
       "version_minor": 0
      },
      "text/plain": [
       "  0%|          | 0/38 [00:00<?, ?it/s]"
      ]
     },
     "metadata": {},
     "output_type": "display_data"
    },
    {
     "name": "stdout",
     "output_type": "stream",
     "text": [
      "2021-05-07 17:17:57 epoch:  63 train loss: 0.211093 train f1: 0.218930 valid loss: 0.116429 valid f1: 0.198291\n"
     ]
    },
    {
     "data": {
      "application/vnd.jupyter.widget-view+json": {
       "model_id": "",
       "version_major": 2,
       "version_minor": 0
      },
      "text/plain": [
       "  0%|          | 0/336 [00:00<?, ?it/s]"
      ]
     },
     "metadata": {},
     "output_type": "display_data"
    },
    {
     "data": {
      "application/vnd.jupyter.widget-view+json": {
       "model_id": "",
       "version_major": 2,
       "version_minor": 0
      },
      "text/plain": [
       "  0%|          | 0/38 [00:00<?, ?it/s]"
      ]
     },
     "metadata": {},
     "output_type": "display_data"
    },
    {
     "name": "stdout",
     "output_type": "stream",
     "text": [
      "2021-05-07 17:18:46 epoch:  64 train loss: 0.212392 train f1: 0.221038 valid loss: 0.116735 valid f1: 0.195616\n"
     ]
    },
    {
     "data": {
      "application/vnd.jupyter.widget-view+json": {
       "model_id": "",
       "version_major": 2,
       "version_minor": 0
      },
      "text/plain": [
       "  0%|          | 0/336 [00:00<?, ?it/s]"
      ]
     },
     "metadata": {},
     "output_type": "display_data"
    },
    {
     "data": {
      "application/vnd.jupyter.widget-view+json": {
       "model_id": "",
       "version_major": 2,
       "version_minor": 0
      },
      "text/plain": [
       "  0%|          | 0/38 [00:00<?, ?it/s]"
      ]
     },
     "metadata": {},
     "output_type": "display_data"
    },
    {
     "name": "stdout",
     "output_type": "stream",
     "text": [
      "2021-05-07 17:19:34 epoch:  65 train loss: 0.210609 train f1: 0.221756 valid loss: 0.117754 valid f1: 0.195781\n"
     ]
    },
    {
     "data": {
      "application/vnd.jupyter.widget-view+json": {
       "model_id": "",
       "version_major": 2,
       "version_minor": 0
      },
      "text/plain": [
       "  0%|          | 0/336 [00:00<?, ?it/s]"
      ]
     },
     "metadata": {},
     "output_type": "display_data"
    },
    {
     "data": {
      "application/vnd.jupyter.widget-view+json": {
       "model_id": "",
       "version_major": 2,
       "version_minor": 0
      },
      "text/plain": [
       "  0%|          | 0/38 [00:00<?, ?it/s]"
      ]
     },
     "metadata": {},
     "output_type": "display_data"
    },
    {
     "name": "stdout",
     "output_type": "stream",
     "text": [
      "2021-05-07 17:20:24 epoch:  66 train loss: 0.210942 train f1: 0.224032 valid loss: 0.114343 valid f1: 0.214905\n"
     ]
    },
    {
     "data": {
      "application/vnd.jupyter.widget-view+json": {
       "model_id": "",
       "version_major": 2,
       "version_minor": 0
      },
      "text/plain": [
       "  0%|          | 0/336 [00:00<?, ?it/s]"
      ]
     },
     "metadata": {},
     "output_type": "display_data"
    },
    {
     "data": {
      "application/vnd.jupyter.widget-view+json": {
       "model_id": "",
       "version_major": 2,
       "version_minor": 0
      },
      "text/plain": [
       "  0%|          | 0/38 [00:00<?, ?it/s]"
      ]
     },
     "metadata": {},
     "output_type": "display_data"
    },
    {
     "name": "stdout",
     "output_type": "stream",
     "text": [
      "2021-05-07 17:21:13 epoch:  67 train loss: 0.211329 train f1: 0.221702 valid loss: 0.113680 valid f1: 0.214978\n"
     ]
    },
    {
     "data": {
      "application/vnd.jupyter.widget-view+json": {
       "model_id": "",
       "version_major": 2,
       "version_minor": 0
      },
      "text/plain": [
       "  0%|          | 0/336 [00:00<?, ?it/s]"
      ]
     },
     "metadata": {},
     "output_type": "display_data"
    },
    {
     "data": {
      "application/vnd.jupyter.widget-view+json": {
       "model_id": "",
       "version_major": 2,
       "version_minor": 0
      },
      "text/plain": [
       "  0%|          | 0/38 [00:00<?, ?it/s]"
      ]
     },
     "metadata": {},
     "output_type": "display_data"
    },
    {
     "name": "stdout",
     "output_type": "stream",
     "text": [
      "2021-05-07 17:22:01 epoch:  68 train loss: 0.208993 train f1: 0.227715 valid loss: 0.114371 valid f1: 0.217502\n"
     ]
    },
    {
     "data": {
      "application/vnd.jupyter.widget-view+json": {
       "model_id": "",
       "version_major": 2,
       "version_minor": 0
      },
      "text/plain": [
       "  0%|          | 0/336 [00:00<?, ?it/s]"
      ]
     },
     "metadata": {},
     "output_type": "display_data"
    },
    {
     "data": {
      "application/vnd.jupyter.widget-view+json": {
       "model_id": "",
       "version_major": 2,
       "version_minor": 0
      },
      "text/plain": [
       "  0%|          | 0/38 [00:00<?, ?it/s]"
      ]
     },
     "metadata": {},
     "output_type": "display_data"
    },
    {
     "name": "stdout",
     "output_type": "stream",
     "text": [
      "2021-05-07 17:22:50 epoch:  69 train loss: 0.210716 train f1: 0.225342 valid loss: 0.113875 valid f1: 0.213018\n"
     ]
    },
    {
     "data": {
      "application/vnd.jupyter.widget-view+json": {
       "model_id": "",
       "version_major": 2,
       "version_minor": 0
      },
      "text/plain": [
       "  0%|          | 0/336 [00:00<?, ?it/s]"
      ]
     },
     "metadata": {},
     "output_type": "display_data"
    },
    {
     "data": {
      "application/vnd.jupyter.widget-view+json": {
       "model_id": "",
       "version_major": 2,
       "version_minor": 0
      },
      "text/plain": [
       "  0%|          | 0/38 [00:00<?, ?it/s]"
      ]
     },
     "metadata": {},
     "output_type": "display_data"
    },
    {
     "name": "stdout",
     "output_type": "stream",
     "text": [
      "2021-05-07 17:23:39 epoch:  70 train loss: 0.211762 train f1: 0.222741 valid loss: 0.112278 valid f1: 0.222026\n"
     ]
    },
    {
     "data": {
      "application/vnd.jupyter.widget-view+json": {
       "model_id": "",
       "version_major": 2,
       "version_minor": 0
      },
      "text/plain": [
       "  0%|          | 0/336 [00:00<?, ?it/s]"
      ]
     },
     "metadata": {},
     "output_type": "display_data"
    },
    {
     "data": {
      "application/vnd.jupyter.widget-view+json": {
       "model_id": "",
       "version_major": 2,
       "version_minor": 0
      },
      "text/plain": [
       "  0%|          | 0/38 [00:00<?, ?it/s]"
      ]
     },
     "metadata": {},
     "output_type": "display_data"
    },
    {
     "name": "stdout",
     "output_type": "stream",
     "text": [
      "2021-05-07 17:24:27 epoch:  71 train loss: 0.210760 train f1: 0.220175 valid loss: 0.115601 valid f1: 0.196610\n"
     ]
    },
    {
     "data": {
      "application/vnd.jupyter.widget-view+json": {
       "model_id": "",
       "version_major": 2,
       "version_minor": 0
      },
      "text/plain": [
       "  0%|          | 0/336 [00:00<?, ?it/s]"
      ]
     },
     "metadata": {},
     "output_type": "display_data"
    },
    {
     "data": {
      "application/vnd.jupyter.widget-view+json": {
       "model_id": "",
       "version_major": 2,
       "version_minor": 0
      },
      "text/plain": [
       "  0%|          | 0/38 [00:00<?, ?it/s]"
      ]
     },
     "metadata": {},
     "output_type": "display_data"
    },
    {
     "name": "stdout",
     "output_type": "stream",
     "text": [
      "2021-05-07 17:25:16 epoch:  72 train loss: 0.212521 train f1: 0.224621 valid loss: 0.114743 valid f1: 0.215753\n"
     ]
    },
    {
     "data": {
      "application/vnd.jupyter.widget-view+json": {
       "model_id": "",
       "version_major": 2,
       "version_minor": 0
      },
      "text/plain": [
       "  0%|          | 0/336 [00:00<?, ?it/s]"
      ]
     },
     "metadata": {},
     "output_type": "display_data"
    },
    {
     "data": {
      "application/vnd.jupyter.widget-view+json": {
       "model_id": "",
       "version_major": 2,
       "version_minor": 0
      },
      "text/plain": [
       "  0%|          | 0/38 [00:00<?, ?it/s]"
      ]
     },
     "metadata": {},
     "output_type": "display_data"
    },
    {
     "name": "stdout",
     "output_type": "stream",
     "text": [
      "2021-05-07 17:26:05 epoch:  73 train loss: 0.211029 train f1: 0.224866 valid loss: 0.113774 valid f1: 0.207860\n"
     ]
    },
    {
     "data": {
      "application/vnd.jupyter.widget-view+json": {
       "model_id": "",
       "version_major": 2,
       "version_minor": 0
      },
      "text/plain": [
       "  0%|          | 0/336 [00:00<?, ?it/s]"
      ]
     },
     "metadata": {},
     "output_type": "display_data"
    },
    {
     "data": {
      "application/vnd.jupyter.widget-view+json": {
       "model_id": "",
       "version_major": 2,
       "version_minor": 0
      },
      "text/plain": [
       "  0%|          | 0/38 [00:00<?, ?it/s]"
      ]
     },
     "metadata": {},
     "output_type": "display_data"
    },
    {
     "name": "stdout",
     "output_type": "stream",
     "text": [
      "2021-05-07 17:26:54 epoch:  74 train loss: 0.210735 train f1: 0.227017 valid loss: 0.114574 valid f1: 0.217280\n"
     ]
    },
    {
     "data": {
      "application/vnd.jupyter.widget-view+json": {
       "model_id": "",
       "version_major": 2,
       "version_minor": 0
      },
      "text/plain": [
       "  0%|          | 0/336 [00:00<?, ?it/s]"
      ]
     },
     "metadata": {},
     "output_type": "display_data"
    },
    {
     "data": {
      "application/vnd.jupyter.widget-view+json": {
       "model_id": "",
       "version_major": 2,
       "version_minor": 0
      },
      "text/plain": [
       "  0%|          | 0/38 [00:00<?, ?it/s]"
      ]
     },
     "metadata": {},
     "output_type": "display_data"
    },
    {
     "name": "stdout",
     "output_type": "stream",
     "text": [
      "2021-05-07 17:27:44 epoch:  75 train loss: 0.209383 train f1: 0.226659 valid loss: 0.116863 valid f1: 0.203673\n"
     ]
    },
    {
     "data": {
      "application/vnd.jupyter.widget-view+json": {
       "model_id": "",
       "version_major": 2,
       "version_minor": 0
      },
      "text/plain": [
       "  0%|          | 0/336 [00:00<?, ?it/s]"
      ]
     },
     "metadata": {},
     "output_type": "display_data"
    },
    {
     "data": {
      "application/vnd.jupyter.widget-view+json": {
       "model_id": "",
       "version_major": 2,
       "version_minor": 0
      },
      "text/plain": [
       "  0%|          | 0/38 [00:00<?, ?it/s]"
      ]
     },
     "metadata": {},
     "output_type": "display_data"
    },
    {
     "name": "stdout",
     "output_type": "stream",
     "text": [
      "2021-05-07 17:28:32 epoch:  76 train loss: 0.211904 train f1: 0.226366 valid loss: 0.113217 valid f1: 0.213333\n"
     ]
    },
    {
     "data": {
      "application/vnd.jupyter.widget-view+json": {
       "model_id": "",
       "version_major": 2,
       "version_minor": 0
      },
      "text/plain": [
       "  0%|          | 0/336 [00:00<?, ?it/s]"
      ]
     },
     "metadata": {},
     "output_type": "display_data"
    },
    {
     "data": {
      "application/vnd.jupyter.widget-view+json": {
       "model_id": "",
       "version_major": 2,
       "version_minor": 0
      },
      "text/plain": [
       "  0%|          | 0/38 [00:00<?, ?it/s]"
      ]
     },
     "metadata": {},
     "output_type": "display_data"
    },
    {
     "name": "stdout",
     "output_type": "stream",
     "text": [
      "2021-05-07 17:29:21 epoch:  77 train loss: 0.210909 train f1: 0.219638 valid loss: 0.116581 valid f1: 0.213805\n"
     ]
    },
    {
     "data": {
      "application/vnd.jupyter.widget-view+json": {
       "model_id": "",
       "version_major": 2,
       "version_minor": 0
      },
      "text/plain": [
       "  0%|          | 0/336 [00:00<?, ?it/s]"
      ]
     },
     "metadata": {},
     "output_type": "display_data"
    },
    {
     "data": {
      "application/vnd.jupyter.widget-view+json": {
       "model_id": "",
       "version_major": 2,
       "version_minor": 0
      },
      "text/plain": [
       "  0%|          | 0/38 [00:00<?, ?it/s]"
      ]
     },
     "metadata": {},
     "output_type": "display_data"
    },
    {
     "name": "stdout",
     "output_type": "stream",
     "text": [
      "2021-05-07 17:30:10 epoch:  78 train loss: 0.212028 train f1: 0.223460 valid loss: 0.114752 valid f1: 0.203245\n"
     ]
    },
    {
     "data": {
      "application/vnd.jupyter.widget-view+json": {
       "model_id": "",
       "version_major": 2,
       "version_minor": 0
      },
      "text/plain": [
       "  0%|          | 0/336 [00:00<?, ?it/s]"
      ]
     },
     "metadata": {},
     "output_type": "display_data"
    },
    {
     "data": {
      "application/vnd.jupyter.widget-view+json": {
       "model_id": "",
       "version_major": 2,
       "version_minor": 0
      },
      "text/plain": [
       "  0%|          | 0/38 [00:00<?, ?it/s]"
      ]
     },
     "metadata": {},
     "output_type": "display_data"
    },
    {
     "name": "stdout",
     "output_type": "stream",
     "text": [
      "2021-05-07 17:31:00 epoch:  79 train loss: 0.207918 train f1: 0.225416 valid loss: 0.117954 valid f1: 0.208026\n"
     ]
    },
    {
     "data": {
      "application/vnd.jupyter.widget-view+json": {
       "model_id": "",
       "version_major": 2,
       "version_minor": 0
      },
      "text/plain": [
       "  0%|          | 0/336 [00:00<?, ?it/s]"
      ]
     },
     "metadata": {},
     "output_type": "display_data"
    },
    {
     "data": {
      "application/vnd.jupyter.widget-view+json": {
       "model_id": "",
       "version_major": 2,
       "version_minor": 0
      },
      "text/plain": [
       "  0%|          | 0/38 [00:00<?, ?it/s]"
      ]
     },
     "metadata": {},
     "output_type": "display_data"
    },
    {
     "name": "stdout",
     "output_type": "stream",
     "text": [
      "2021-05-07 17:31:49 epoch:  80 train loss: 0.210512 train f1: 0.227241 valid loss: 0.113661 valid f1: 0.210252\n"
     ]
    },
    {
     "data": {
      "application/vnd.jupyter.widget-view+json": {
       "model_id": "",
       "version_major": 2,
       "version_minor": 0
      },
      "text/plain": [
       "  0%|          | 0/336 [00:00<?, ?it/s]"
      ]
     },
     "metadata": {},
     "output_type": "display_data"
    },
    {
     "data": {
      "application/vnd.jupyter.widget-view+json": {
       "model_id": "",
       "version_major": 2,
       "version_minor": 0
      },
      "text/plain": [
       "  0%|          | 0/38 [00:00<?, ?it/s]"
      ]
     },
     "metadata": {},
     "output_type": "display_data"
    },
    {
     "name": "stdout",
     "output_type": "stream",
     "text": [
      "2021-05-07 17:32:39 epoch:  81 train loss: 0.210390 train f1: 0.226638 valid loss: 0.115360 valid f1: 0.213675\n"
     ]
    },
    {
     "data": {
      "application/vnd.jupyter.widget-view+json": {
       "model_id": "",
       "version_major": 2,
       "version_minor": 0
      },
      "text/plain": [
       "  0%|          | 0/336 [00:00<?, ?it/s]"
      ]
     },
     "metadata": {},
     "output_type": "display_data"
    },
    {
     "data": {
      "application/vnd.jupyter.widget-view+json": {
       "model_id": "",
       "version_major": 2,
       "version_minor": 0
      },
      "text/plain": [
       "  0%|          | 0/38 [00:00<?, ?it/s]"
      ]
     },
     "metadata": {},
     "output_type": "display_data"
    },
    {
     "name": "stdout",
     "output_type": "stream",
     "text": [
      "2021-05-07 17:33:28 epoch:  82 train loss: 0.208772 train f1: 0.235067 valid loss: 0.113454 valid f1: 0.226913\n"
     ]
    },
    {
     "data": {
      "application/vnd.jupyter.widget-view+json": {
       "model_id": "",
       "version_major": 2,
       "version_minor": 0
      },
      "text/plain": [
       "  0%|          | 0/336 [00:00<?, ?it/s]"
      ]
     },
     "metadata": {},
     "output_type": "display_data"
    },
    {
     "data": {
      "application/vnd.jupyter.widget-view+json": {
       "model_id": "",
       "version_major": 2,
       "version_minor": 0
      },
      "text/plain": [
       "  0%|          | 0/38 [00:00<?, ?it/s]"
      ]
     },
     "metadata": {},
     "output_type": "display_data"
    },
    {
     "name": "stdout",
     "output_type": "stream",
     "text": [
      "2021-05-07 17:34:19 epoch:  83 train loss: 0.208482 train f1: 0.228448 valid loss: 0.116329 valid f1: 0.198473\n"
     ]
    },
    {
     "data": {
      "application/vnd.jupyter.widget-view+json": {
       "model_id": "d9200cb56b154637a4bfb646f0640607",
       "version_major": 2,
       "version_minor": 0
      },
      "text/plain": [
       "  0%|          | 0/336 [00:00<?, ?it/s]"
      ]
     },
     "metadata": {},
     "output_type": "display_data"
    },
    {
     "ename": "KeyboardInterrupt",
     "evalue": "",
     "output_type": "error",
     "traceback": [
      "\u001b[0;31m---------------------------------------------------------------------------\u001b[0m",
      "\u001b[0;31mKeyboardInterrupt\u001b[0m                         Traceback (most recent call last)",
      "\u001b[0;32m<ipython-input-118-ae674417293b>\u001b[0m in \u001b[0;36m<module>\u001b[0;34m\u001b[0m\n\u001b[0;32m----> 1\u001b[0;31m \u001b[0mlrn\u001b[0m\u001b[0;34m.\u001b[0m\u001b[0mlearn\u001b[0m\u001b[0;34m(\u001b[0m\u001b[0;34m)\u001b[0m\u001b[0;34m\u001b[0m\u001b[0;34m\u001b[0m\u001b[0m\n\u001b[0m",
      "\u001b[0;32m~/projects/botkop/lark/nbs/botkop/lark/learner.py\u001b[0m in \u001b[0;36mlearn\u001b[0;34m(self)\u001b[0m\n\u001b[1;32m    109\u001b[0m         \u001b[0;32mwith\u001b[0m \u001b[0mtqdm\u001b[0m\u001b[0;34m(\u001b[0m\u001b[0mrange\u001b[0m\u001b[0;34m(\u001b[0m\u001b[0mself\u001b[0m\u001b[0;34m.\u001b[0m\u001b[0mcfg\u001b[0m\u001b[0;34m.\u001b[0m\u001b[0mn_epochs\u001b[0m\u001b[0;34m)\u001b[0m\u001b[0;34m)\u001b[0m \u001b[0;32mas\u001b[0m \u001b[0mpbar\u001b[0m\u001b[0;34m:\u001b[0m\u001b[0;34m\u001b[0m\u001b[0;34m\u001b[0m\u001b[0m\n\u001b[1;32m    110\u001b[0m             \u001b[0;32mfor\u001b[0m \u001b[0mepoch\u001b[0m \u001b[0;32min\u001b[0m \u001b[0mpbar\u001b[0m\u001b[0;34m:\u001b[0m\u001b[0;34m\u001b[0m\u001b[0;34m\u001b[0m\u001b[0m\n\u001b[0;32m--> 111\u001b[0;31m                 \u001b[0mtrain_loss\u001b[0m\u001b[0;34m,\u001b[0m \u001b[0mtrain_score\u001b[0m \u001b[0;34m=\u001b[0m \u001b[0mself\u001b[0m\u001b[0;34m.\u001b[0m\u001b[0mtv_loop\u001b[0m\u001b[0;34m(\u001b[0m\u001b[0mself\u001b[0m\u001b[0;34m.\u001b[0m\u001b[0mtdl\u001b[0m\u001b[0;34m,\u001b[0m \u001b[0;34m'train'\u001b[0m\u001b[0;34m)\u001b[0m\u001b[0;34m\u001b[0m\u001b[0;34m\u001b[0m\u001b[0m\n\u001b[0m\u001b[1;32m    112\u001b[0m                 \u001b[0mvalid_loss\u001b[0m\u001b[0;34m,\u001b[0m \u001b[0mvalid_score\u001b[0m \u001b[0;34m=\u001b[0m \u001b[0mself\u001b[0m\u001b[0;34m.\u001b[0m\u001b[0mtv_loop\u001b[0m\u001b[0;34m(\u001b[0m\u001b[0mself\u001b[0m\u001b[0;34m.\u001b[0m\u001b[0mvdl\u001b[0m\u001b[0;34m,\u001b[0m \u001b[0;34m'valid'\u001b[0m\u001b[0;34m)\u001b[0m\u001b[0;34m\u001b[0m\u001b[0;34m\u001b[0m\u001b[0m\n\u001b[1;32m    113\u001b[0m                 \u001b[0mmsg\u001b[0m \u001b[0;34m=\u001b[0m \u001b[0;34mf\"{datetime.now().strftime('%Y-%m-%d %H:%M:%S')} \"\u001b[0m\u001b[0;31m \u001b[0m\u001b[0;31m\\\u001b[0m\u001b[0;34m\u001b[0m\u001b[0;34m\u001b[0m\u001b[0m\n",
      "\u001b[0;32m~/projects/botkop/lark/nbs/botkop/lark/learner.py\u001b[0m in \u001b[0;36mtv_loop\u001b[0;34m(self, dl, mode, f1_threshold)\u001b[0m\n\u001b[1;32m     94\u001b[0m         \u001b[0;32mif\u001b[0m \u001b[0mmode\u001b[0m \u001b[0;34m==\u001b[0m \u001b[0;34m'train'\u001b[0m\u001b[0;34m:\u001b[0m\u001b[0;34m\u001b[0m\u001b[0;34m\u001b[0m\u001b[0m\n\u001b[1;32m     95\u001b[0m             \u001b[0mself\u001b[0m\u001b[0;34m.\u001b[0m\u001b[0mmodel\u001b[0m\u001b[0;34m.\u001b[0m\u001b[0mtrain\u001b[0m\u001b[0;34m(\u001b[0m\u001b[0;34m)\u001b[0m\u001b[0;34m\u001b[0m\u001b[0;34m\u001b[0m\u001b[0m\n\u001b[0;32m---> 96\u001b[0;31m             \u001b[0mepoch_loss\u001b[0m\u001b[0;34m,\u001b[0m \u001b[0mepoch_score\u001b[0m \u001b[0;34m=\u001b[0m \u001b[0mself\u001b[0m\u001b[0;34m.\u001b[0m\u001b[0mepoch_loop\u001b[0m\u001b[0;34m(\u001b[0m\u001b[0mdl\u001b[0m\u001b[0;34m,\u001b[0m \u001b[0mmode\u001b[0m\u001b[0;34m,\u001b[0m \u001b[0mf1_threshold\u001b[0m\u001b[0;34m)\u001b[0m\u001b[0;34m\u001b[0m\u001b[0;34m\u001b[0m\u001b[0m\n\u001b[0m\u001b[1;32m     97\u001b[0m         \u001b[0;32melse\u001b[0m\u001b[0;34m:\u001b[0m\u001b[0;34m\u001b[0m\u001b[0;34m\u001b[0m\u001b[0m\n\u001b[1;32m     98\u001b[0m             \u001b[0mself\u001b[0m\u001b[0;34m.\u001b[0m\u001b[0mmodel\u001b[0m\u001b[0;34m.\u001b[0m\u001b[0meval\u001b[0m\u001b[0;34m(\u001b[0m\u001b[0;34m)\u001b[0m\u001b[0;34m\u001b[0m\u001b[0;34m\u001b[0m\u001b[0m\n",
      "\u001b[0;32m~/projects/botkop/lark/nbs/botkop/lark/learner.py\u001b[0m in \u001b[0;36mepoch_loop\u001b[0;34m(self, dl, mode, f1_threshold)\u001b[0m\n\u001b[1;32m     68\u001b[0m         \u001b[0;32mwith\u001b[0m \u001b[0mtqdm\u001b[0m\u001b[0;34m(\u001b[0m\u001b[0mdl\u001b[0m\u001b[0;34m,\u001b[0m \u001b[0mleave\u001b[0m\u001b[0;34m=\u001b[0m\u001b[0;32mFalse\u001b[0m\u001b[0;34m)\u001b[0m \u001b[0;32mas\u001b[0m \u001b[0mpbar\u001b[0m\u001b[0;34m:\u001b[0m\u001b[0;34m\u001b[0m\u001b[0;34m\u001b[0m\u001b[0m\n\u001b[1;32m     69\u001b[0m             \u001b[0;32mfor\u001b[0m \u001b[0mx\u001b[0m\u001b[0;34m,\u001b[0m \u001b[0my\u001b[0m \u001b[0;32min\u001b[0m \u001b[0mpbar\u001b[0m\u001b[0;34m:\u001b[0m\u001b[0;34m\u001b[0m\u001b[0;34m\u001b[0m\u001b[0m\n\u001b[0;32m---> 70\u001b[0;31m                 \u001b[0mx\u001b[0m \u001b[0;34m=\u001b[0m \u001b[0mx\u001b[0m\u001b[0;34m.\u001b[0m\u001b[0mcuda\u001b[0m\u001b[0;34m(\u001b[0m\u001b[0;34m)\u001b[0m\u001b[0;34m\u001b[0m\u001b[0;34m\u001b[0m\u001b[0m\n\u001b[0m\u001b[1;32m     71\u001b[0m                 \u001b[0my\u001b[0m \u001b[0;34m=\u001b[0m \u001b[0my\u001b[0m\u001b[0;34m.\u001b[0m\u001b[0mcuda\u001b[0m\u001b[0;34m(\u001b[0m\u001b[0;34m)\u001b[0m\u001b[0;34m\u001b[0m\u001b[0;34m\u001b[0m\u001b[0m\n\u001b[1;32m     72\u001b[0m                 \u001b[0mpred\u001b[0m \u001b[0;34m=\u001b[0m \u001b[0mself\u001b[0m\u001b[0;34m.\u001b[0m\u001b[0mmodel\u001b[0m\u001b[0;34m(\u001b[0m\u001b[0mx\u001b[0m\u001b[0;34m)\u001b[0m\u001b[0;34m\u001b[0m\u001b[0;34m\u001b[0m\u001b[0m\n",
      "\u001b[0;31mKeyboardInterrupt\u001b[0m: "
     ]
    }
   ],
   "source": [
    "lrn.learn()"
   ]
  },
  {
   "cell_type": "code",
   "execution_count": null,
   "id": "f1ddb546-cf31-4fe9-a1c5-02e931609ab8",
   "metadata": {},
   "outputs": [],
   "source": []
  }
 ],
 "metadata": {
  "kernelspec": {
   "display_name": "lark",
   "language": "python",
   "name": "lark"
  },
  "language_info": {
   "codemirror_mode": {
    "name": "ipython",
    "version": 3
   },
   "file_extension": ".py",
   "mimetype": "text/x-python",
   "name": "python",
   "nbconvert_exporter": "python",
   "pygments_lexer": "ipython3",
   "version": "3.8.8"
  }
 },
 "nbformat": 4,
 "nbformat_minor": 5
}
