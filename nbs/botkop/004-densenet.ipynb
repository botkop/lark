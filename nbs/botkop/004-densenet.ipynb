{
 "cells": [
  {
   "cell_type": "code",
   "execution_count": 1,
   "id": "5faafb5a-e533-4e6d-96fe-2918a1310213",
   "metadata": {},
   "outputs": [],
   "source": [
    "%reload_ext autoreload\n",
    "%autoreload 2\n",
    "%matplotlib inline"
   ]
  },
  {
   "cell_type": "code",
   "execution_count": 2,
   "id": "0c7299e8-c05a-41ce-949c-7839df37d1f4",
   "metadata": {},
   "outputs": [
    {
     "name": "stdout",
     "output_type": "stream",
     "text": [
      "1.8.1\n",
      "0.8.0a0+e4e171a\n"
     ]
    }
   ],
   "source": [
    "import torch\n",
    "import torchaudio as ta\n",
    "import torchaudio.functional as taf\n",
    "import torchaudio.transforms as tat\n",
    "from torchvision import transforms\n",
    "\n",
    "print(torch.__version__)        \n",
    "print(ta.__version__)\n",
    "\n",
    "import matplotlib\n",
    "import matplotlib.pyplot as plt\n",
    "from IPython.display import Audio, display\n",
    "\n",
    "import pandas as pd\n",
    "import os\n",
    "import pprint\n",
    "\n",
    "from typing import *\n",
    "import itertools\n",
    "from collections import Counter\n",
    "\n",
    "import numpy as np\n",
    "from datetime import datetime\n",
    "from lark.config import Config\n",
    "from lark.learner import Learner\n",
    "from lark.ops import *"
   ]
  },
  {
   "cell_type": "code",
   "execution_count": 16,
   "id": "97782497-35e0-41dc-86d5-945617a83816",
   "metadata": {},
   "outputs": [],
   "source": [
    "cfg = Config(\n",
    "    noise_nsr_dbs = [20, 10, 3],\n",
    "    site='SSW', \n",
    "    use_neptune=True, \n",
    "    n_epochs=10,\n",
    "    bs=32, \n",
    "    lr=1e-3, \n",
    "    model='densenet-mixedspec',\n",
    ")"
   ]
  },
  {
   "cell_type": "code",
   "execution_count": 17,
   "id": "04a4d354-6c2b-49f1-adee-f6b7f7a44a1c",
   "metadata": {},
   "outputs": [
    {
     "data": {
      "text/plain": [
       "{'site': 'SSW',\n",
       " 'data_dir': 'data/birdclef-2021',\n",
       " 'checkpoint_dir': 'checkpoints',\n",
       " 'bs': 32,\n",
       " 'n_workers': 12,\n",
       " 'training_dataset_size': 10752,\n",
       " 'duration': 5,\n",
       " 'use_noise': True,\n",
       " 'noise_nsr_dbs': [20, 10, 3],\n",
       " 'noise_dir': 'data/noise/BirdVox-DCASE-20k/wav-32k',\n",
       " 'use_overlays': True,\n",
       " 'max_overlays': 5,\n",
       " 'overlay_weights': [0.71986223,\n",
       "  0.21010333,\n",
       "  0.06314581,\n",
       "  0.00574053,\n",
       "  0.00114811],\n",
       " 'overlay_snr_dbs': [20, 10, 3],\n",
       " 'use_neptune': True,\n",
       " 'sr': 32000,\n",
       " 'n_frames': 160000,\n",
       " 'n_fft': 512,\n",
       " 'window_length': 512,\n",
       " 'n_mels': 64,\n",
       " 'hop_length': 312,\n",
       " 'f_min': 150,\n",
       " 'f_max': 15000,\n",
       " 'lr': 0.001,\n",
       " 'n_epochs': 10,\n",
       " 'model': 'densenet-mixedspec',\n",
       " 'optimizer': 'torch.optim.Adam',\n",
       " 'loss_fn': 'torch.nn.BCEWithLogitsLoss',\n",
       " 'scheduler': 'torch.optim.lr_scheduler.CosineAnnealingLR',\n",
       " 'labels': ['amecro',\n",
       "  'amegfi',\n",
       "  'amerob',\n",
       "  'balori',\n",
       "  'belkin1',\n",
       "  'bkcchi',\n",
       "  'blujay',\n",
       "  'cangoo',\n",
       "  'chswar',\n",
       "  'comgra',\n",
       "  'comyel',\n",
       "  'dowwoo',\n",
       "  'eastow',\n",
       "  'eawpew',\n",
       "  'gockin',\n",
       "  'grycat',\n",
       "  'haiwoo',\n",
       "  'norcar',\n",
       "  'norfli',\n",
       "  'norwat',\n",
       "  'ovenbi1',\n",
       "  'rebwoo',\n",
       "  'reevir1',\n",
       "  'rewbla',\n",
       "  'sonspa',\n",
       "  'swaspa',\n",
       "  'woothr',\n",
       "  'yebsap'],\n",
       " 'scheduler_params': {'eta_min': 1e-05, 'T_max': 10}}"
      ]
     },
     "execution_count": 17,
     "metadata": {},
     "output_type": "execute_result"
    }
   ],
   "source": [
    "cfg.as_dict()"
   ]
  },
  {
   "cell_type": "code",
   "execution_count": null,
   "id": "ab6b99a4-a54d-42f7-80d2-2925a412321f",
   "metadata": {},
   "outputs": [],
   "source": []
  },
  {
   "cell_type": "code",
   "execution_count": 21,
   "id": "1a67d3c8-4b33-439f-86a2-1fba51dee2ad",
   "metadata": {
    "tags": []
   },
   "outputs": [
    {
     "name": "stderr",
     "output_type": "stream",
     "text": [
      "Using cache found in /home/koen/.cache/torch/hub/pytorch_vision_v0.9.0\n"
     ]
    }
   ],
   "source": [
    "prep = torch.nn.Sequential(\n",
    "    MixedSig2Spec(cfg),\n",
    ")\n",
    "\n",
    "main_model = torch.hub.load('pytorch/vision:v0.9.0', 'densenet121', pretrained=True)\n",
    "main_model.classifier = torch.nn.Linear(in_features=1024, out_features=len(cfg.labels), bias=True)\n",
    "\n",
    "model = torch.nn.Sequential(prep, main_model)\n",
    "model = model.cuda()"
   ]
  },
  {
   "cell_type": "code",
   "execution_count": 22,
   "id": "0827d54b-9100-4251-b6ce-4be9f561267d",
   "metadata": {},
   "outputs": [],
   "source": [
    "lrn = Learner(\"densenet-densenet-mixed-spec\", cfg, model)"
   ]
  },
  {
   "cell_type": "code",
   "execution_count": 23,
   "id": "56c3f875-ecb1-4e88-a465-5557f28e9dd3",
   "metadata": {
    "tags": []
   },
   "outputs": [
    {
     "name": "stderr",
     "output_type": "stream",
     "text": [
      "psutil is not installed. You will not be able to abort this experiment from the UI.\n",
      "psutil is not installed. Hardware metrics will not be collected.\n"
     ]
    },
    {
     "name": "stdout",
     "output_type": "stream",
     "text": [
      "https://ui.neptune.ai/botkop/lark/e/LAR-40\n"
     ]
    },
    {
     "data": {
      "application/vnd.jupyter.widget-view+json": {
       "model_id": "5e67e2ea71b44bf08dd302419a385ca6",
       "version_major": 2,
       "version_minor": 0
      },
      "text/plain": [
       "  0%|          | 0/10 [00:00<?, ?it/s]"
      ]
     },
     "metadata": {},
     "output_type": "display_data"
    },
    {
     "data": {
      "application/vnd.jupyter.widget-view+json": {
       "model_id": "",
       "version_major": 2,
       "version_minor": 0
      },
      "text/plain": [
       "  0%|          | 0/336 [00:00<?, ?it/s]"
      ]
     },
     "metadata": {},
     "output_type": "display_data"
    },
    {
     "data": {
      "application/vnd.jupyter.widget-view+json": {
       "model_id": "",
       "version_major": 2,
       "version_minor": 0
      },
      "text/plain": [
       "  0%|          | 0/38 [00:00<?, ?it/s]"
      ]
     },
     "metadata": {},
     "output_type": "display_data"
    },
    {
     "name": "stdout",
     "output_type": "stream",
     "text": [
      "epoch:   1 train loss: 0.170911 train f1: 0.147407 valid loss: 0.115672 valid f1: 0.030341\n"
     ]
    },
    {
     "data": {
      "application/vnd.jupyter.widget-view+json": {
       "model_id": "",
       "version_major": 2,
       "version_minor": 0
      },
      "text/plain": [
       "  0%|          | 0/336 [00:00<?, ?it/s]"
      ]
     },
     "metadata": {},
     "output_type": "display_data"
    },
    {
     "data": {
      "application/vnd.jupyter.widget-view+json": {
       "model_id": "",
       "version_major": 2,
       "version_minor": 0
      },
      "text/plain": [
       "  0%|          | 0/38 [00:00<?, ?it/s]"
      ]
     },
     "metadata": {},
     "output_type": "display_data"
    },
    {
     "name": "stdout",
     "output_type": "stream",
     "text": [
      "epoch:   2 train loss: 0.140442 train f1: 0.361024 valid loss: 0.116259 valid f1: 0.186727\n"
     ]
    },
    {
     "data": {
      "application/vnd.jupyter.widget-view+json": {
       "model_id": "",
       "version_major": 2,
       "version_minor": 0
      },
      "text/plain": [
       "  0%|          | 0/336 [00:00<?, ?it/s]"
      ]
     },
     "metadata": {},
     "output_type": "display_data"
    },
    {
     "data": {
      "application/vnd.jupyter.widget-view+json": {
       "model_id": "",
       "version_major": 2,
       "version_minor": 0
      },
      "text/plain": [
       "  0%|          | 0/38 [00:00<?, ?it/s]"
      ]
     },
     "metadata": {},
     "output_type": "display_data"
    },
    {
     "name": "stdout",
     "output_type": "stream",
     "text": [
      "epoch:   3 train loss: 0.130391 train f1: 0.439873 valid loss: 0.111300 valid f1: 0.183983\n"
     ]
    },
    {
     "data": {
      "application/vnd.jupyter.widget-view+json": {
       "model_id": "",
       "version_major": 2,
       "version_minor": 0
      },
      "text/plain": [
       "  0%|          | 0/336 [00:00<?, ?it/s]"
      ]
     },
     "metadata": {},
     "output_type": "display_data"
    },
    {
     "data": {
      "application/vnd.jupyter.widget-view+json": {
       "model_id": "",
       "version_major": 2,
       "version_minor": 0
      },
      "text/plain": [
       "  0%|          | 0/38 [00:00<?, ?it/s]"
      ]
     },
     "metadata": {},
     "output_type": "display_data"
    },
    {
     "name": "stdout",
     "output_type": "stream",
     "text": [
      "epoch:   4 train loss: 0.124699 train f1: 0.493010 valid loss: 0.156659 valid f1: 0.068118\n"
     ]
    },
    {
     "data": {
      "application/vnd.jupyter.widget-view+json": {
       "model_id": "",
       "version_major": 2,
       "version_minor": 0
      },
      "text/plain": [
       "  0%|          | 0/336 [00:00<?, ?it/s]"
      ]
     },
     "metadata": {},
     "output_type": "display_data"
    },
    {
     "data": {
      "application/vnd.jupyter.widget-view+json": {
       "model_id": "",
       "version_major": 2,
       "version_minor": 0
      },
      "text/plain": [
       "  0%|          | 0/38 [00:00<?, ?it/s]"
      ]
     },
     "metadata": {},
     "output_type": "display_data"
    },
    {
     "name": "stdout",
     "output_type": "stream",
     "text": [
      "epoch:   5 train loss: 0.120946 train f1: 0.520169 valid loss: 0.108352 valid f1: 0.182590\n"
     ]
    },
    {
     "data": {
      "application/vnd.jupyter.widget-view+json": {
       "model_id": "",
       "version_major": 2,
       "version_minor": 0
      },
      "text/plain": [
       "  0%|          | 0/336 [00:00<?, ?it/s]"
      ]
     },
     "metadata": {},
     "output_type": "display_data"
    },
    {
     "data": {
      "application/vnd.jupyter.widget-view+json": {
       "model_id": "",
       "version_major": 2,
       "version_minor": 0
      },
      "text/plain": [
       "  0%|          | 0/38 [00:00<?, ?it/s]"
      ]
     },
     "metadata": {},
     "output_type": "display_data"
    },
    {
     "name": "stdout",
     "output_type": "stream",
     "text": [
      "epoch:   6 train loss: 0.118528 train f1: 0.538325 valid loss: 0.101451 valid f1: 0.262295\n"
     ]
    },
    {
     "data": {
      "application/vnd.jupyter.widget-view+json": {
       "model_id": "",
       "version_major": 2,
       "version_minor": 0
      },
      "text/plain": [
       "  0%|          | 0/336 [00:00<?, ?it/s]"
      ]
     },
     "metadata": {},
     "output_type": "display_data"
    },
    {
     "data": {
      "application/vnd.jupyter.widget-view+json": {
       "model_id": "",
       "version_major": 2,
       "version_minor": 0
      },
      "text/plain": [
       "  0%|          | 0/38 [00:00<?, ?it/s]"
      ]
     },
     "metadata": {},
     "output_type": "display_data"
    },
    {
     "name": "stdout",
     "output_type": "stream",
     "text": [
      "epoch:   7 train loss: 0.116255 train f1: 0.542256 valid loss: 0.099053 valid f1: 0.323559\n"
     ]
    },
    {
     "data": {
      "application/vnd.jupyter.widget-view+json": {
       "model_id": "",
       "version_major": 2,
       "version_minor": 0
      },
      "text/plain": [
       "  0%|          | 0/336 [00:00<?, ?it/s]"
      ]
     },
     "metadata": {},
     "output_type": "display_data"
    },
    {
     "data": {
      "application/vnd.jupyter.widget-view+json": {
       "model_id": "",
       "version_major": 2,
       "version_minor": 0
      },
      "text/plain": [
       "  0%|          | 0/38 [00:00<?, ?it/s]"
      ]
     },
     "metadata": {},
     "output_type": "display_data"
    },
    {
     "name": "stdout",
     "output_type": "stream",
     "text": [
      "epoch:   8 train loss: 0.112534 train f1: 0.572804 valid loss: 0.089452 valid f1: 0.313099\n"
     ]
    },
    {
     "data": {
      "application/vnd.jupyter.widget-view+json": {
       "model_id": "",
       "version_major": 2,
       "version_minor": 0
      },
      "text/plain": [
       "  0%|          | 0/336 [00:00<?, ?it/s]"
      ]
     },
     "metadata": {},
     "output_type": "display_data"
    },
    {
     "data": {
      "application/vnd.jupyter.widget-view+json": {
       "model_id": "",
       "version_major": 2,
       "version_minor": 0
      },
      "text/plain": [
       "  0%|          | 0/38 [00:00<?, ?it/s]"
      ]
     },
     "metadata": {},
     "output_type": "display_data"
    },
    {
     "name": "stdout",
     "output_type": "stream",
     "text": [
      "epoch:   9 train loss: 0.111053 train f1: 0.574801 valid loss: 0.125677 valid f1: 0.140071\n"
     ]
    },
    {
     "data": {
      "application/vnd.jupyter.widget-view+json": {
       "model_id": "",
       "version_major": 2,
       "version_minor": 0
      },
      "text/plain": [
       "  0%|          | 0/336 [00:00<?, ?it/s]"
      ]
     },
     "metadata": {},
     "output_type": "display_data"
    },
    {
     "data": {
      "application/vnd.jupyter.widget-view+json": {
       "model_id": "",
       "version_major": 2,
       "version_minor": 0
      },
      "text/plain": [
       "  0%|          | 0/38 [00:00<?, ?it/s]"
      ]
     },
     "metadata": {},
     "output_type": "display_data"
    },
    {
     "name": "stdout",
     "output_type": "stream",
     "text": [
      "epoch:  10 train loss: 0.110937 train f1: 0.580079 valid loss: 0.106580 valid f1: 0.284351\n"
     ]
    }
   ],
   "source": [
    "lrn.learn()"
   ]
  },
  {
   "cell_type": "code",
   "execution_count": 24,
   "id": "ea602ff6-9171-45fb-a809-9a1262e5d6bc",
   "metadata": {},
   "outputs": [
    {
     "data": {
      "application/vnd.jupyter.widget-view+json": {
       "model_id": "877ae0e6d0aa4a8db24e5ba5a0a48116",
       "version_major": 2,
       "version_minor": 0
      },
      "text/plain": [
       "  0%|          | 0/38 [00:00<?, ?it/s]"
      ]
     },
     "metadata": {},
     "output_type": "display_data"
    },
    {
     "data": {
      "text/html": [
       "<div>\n",
       "<style scoped>\n",
       "    .dataframe tbody tr th:only-of-type {\n",
       "        vertical-align: middle;\n",
       "    }\n",
       "\n",
       "    .dataframe tbody tr th {\n",
       "        vertical-align: top;\n",
       "    }\n",
       "\n",
       "    .dataframe thead th {\n",
       "        text-align: right;\n",
       "    }\n",
       "</style>\n",
       "<table border=\"1\" class=\"dataframe\">\n",
       "  <thead>\n",
       "    <tr style=\"text-align: right;\">\n",
       "      <th></th>\n",
       "      <th>thresh</th>\n",
       "      <th>tp</th>\n",
       "      <th>tn</th>\n",
       "      <th>fp</th>\n",
       "      <th>fn</th>\n",
       "      <th>f1</th>\n",
       "    </tr>\n",
       "  </thead>\n",
       "  <tbody>\n",
       "    <tr>\n",
       "      <th>0</th>\n",
       "      <td>0.0</td>\n",
       "      <td>770</td>\n",
       "      <td>0</td>\n",
       "      <td>32830</td>\n",
       "      <td>0</td>\n",
       "      <td>0.044807</td>\n",
       "    </tr>\n",
       "    <tr>\n",
       "      <th>1</th>\n",
       "      <td>0.1</td>\n",
       "      <td>381</td>\n",
       "      <td>29231</td>\n",
       "      <td>3599</td>\n",
       "      <td>389</td>\n",
       "      <td>0.160421</td>\n",
       "    </tr>\n",
       "    <tr>\n",
       "      <th>2</th>\n",
       "      <td>0.2</td>\n",
       "      <td>265</td>\n",
       "      <td>31949</td>\n",
       "      <td>881</td>\n",
       "      <td>505</td>\n",
       "      <td>0.276618</td>\n",
       "    </tr>\n",
       "    <tr>\n",
       "      <th>3</th>\n",
       "      <td>0.3</td>\n",
       "      <td>210</td>\n",
       "      <td>32437</td>\n",
       "      <td>393</td>\n",
       "      <td>560</td>\n",
       "      <td>0.305900</td>\n",
       "    </tr>\n",
       "    <tr>\n",
       "      <th>4</th>\n",
       "      <td>0.4</td>\n",
       "      <td>174</td>\n",
       "      <td>32607</td>\n",
       "      <td>223</td>\n",
       "      <td>596</td>\n",
       "      <td>0.298201</td>\n",
       "    </tr>\n",
       "    <tr>\n",
       "      <th>5</th>\n",
       "      <td>0.5</td>\n",
       "      <td>149</td>\n",
       "      <td>32701</td>\n",
       "      <td>129</td>\n",
       "      <td>621</td>\n",
       "      <td>0.284351</td>\n",
       "    </tr>\n",
       "    <tr>\n",
       "      <th>6</th>\n",
       "      <td>0.6</td>\n",
       "      <td>122</td>\n",
       "      <td>32756</td>\n",
       "      <td>74</td>\n",
       "      <td>648</td>\n",
       "      <td>0.252588</td>\n",
       "    </tr>\n",
       "    <tr>\n",
       "      <th>7</th>\n",
       "      <td>0.7</td>\n",
       "      <td>103</td>\n",
       "      <td>32793</td>\n",
       "      <td>37</td>\n",
       "      <td>667</td>\n",
       "      <td>0.226374</td>\n",
       "    </tr>\n",
       "    <tr>\n",
       "      <th>8</th>\n",
       "      <td>0.8</td>\n",
       "      <td>85</td>\n",
       "      <td>32810</td>\n",
       "      <td>20</td>\n",
       "      <td>685</td>\n",
       "      <td>0.194286</td>\n",
       "    </tr>\n",
       "    <tr>\n",
       "      <th>9</th>\n",
       "      <td>0.9</td>\n",
       "      <td>61</td>\n",
       "      <td>32828</td>\n",
       "      <td>2</td>\n",
       "      <td>709</td>\n",
       "      <td>0.146459</td>\n",
       "    </tr>\n",
       "    <tr>\n",
       "      <th>10</th>\n",
       "      <td>1.0</td>\n",
       "      <td>0</td>\n",
       "      <td>32830</td>\n",
       "      <td>0</td>\n",
       "      <td>770</td>\n",
       "      <td>0.000000</td>\n",
       "    </tr>\n",
       "  </tbody>\n",
       "</table>\n",
       "</div>"
      ],
      "text/plain": [
       "    thresh   tp     tn     fp   fn        f1\n",
       "0      0.0  770      0  32830    0  0.044807\n",
       "1      0.1  381  29231   3599  389  0.160421\n",
       "2      0.2  265  31949    881  505  0.276618\n",
       "3      0.3  210  32437    393  560  0.305900\n",
       "4      0.4  174  32607    223  596  0.298201\n",
       "5      0.5  149  32701    129  621  0.284351\n",
       "6      0.6  122  32756     74  648  0.252588\n",
       "7      0.7  103  32793     37  667  0.226374\n",
       "8      0.8   85  32810     20  685  0.194286\n",
       "9      0.9   61  32828      2  709  0.146459\n",
       "10     1.0    0  32830      0  770  0.000000"
      ]
     },
     "execution_count": 24,
     "metadata": {},
     "output_type": "execute_result"
    }
   ],
   "source": [
    "lrn.evaluate()"
   ]
  },
  {
   "cell_type": "code",
   "execution_count": 25,
   "id": "c2da1e75-b446-4df1-8705-dd6d187f79e3",
   "metadata": {},
   "outputs": [
    {
     "data": {
      "text/plain": [
       "{'epoch': 7,\n",
       " 'valid_loss': 0.08945167613656897,\n",
       " 'valid_score': 0.3130990266799927}"
      ]
     },
     "execution_count": 25,
     "metadata": {},
     "output_type": "execute_result"
    }
   ],
   "source": [
    "lrn.load_checkpoint()"
   ]
  },
  {
   "cell_type": "code",
   "execution_count": 26,
   "id": "a26aca49-ab09-4077-b2b0-403063865244",
   "metadata": {},
   "outputs": [
    {
     "data": {
      "application/vnd.jupyter.widget-view+json": {
       "model_id": "4ef1ae68c5494f8bb8f10f448e43afde",
       "version_major": 2,
       "version_minor": 0
      },
      "text/plain": [
       "  0%|          | 0/38 [00:00<?, ?it/s]"
      ]
     },
     "metadata": {},
     "output_type": "display_data"
    },
    {
     "data": {
      "text/html": [
       "<div>\n",
       "<style scoped>\n",
       "    .dataframe tbody tr th:only-of-type {\n",
       "        vertical-align: middle;\n",
       "    }\n",
       "\n",
       "    .dataframe tbody tr th {\n",
       "        vertical-align: top;\n",
       "    }\n",
       "\n",
       "    .dataframe thead th {\n",
       "        text-align: right;\n",
       "    }\n",
       "</style>\n",
       "<table border=\"1\" class=\"dataframe\">\n",
       "  <thead>\n",
       "    <tr style=\"text-align: right;\">\n",
       "      <th></th>\n",
       "      <th>thresh</th>\n",
       "      <th>tp</th>\n",
       "      <th>tn</th>\n",
       "      <th>fp</th>\n",
       "      <th>fn</th>\n",
       "      <th>f1</th>\n",
       "    </tr>\n",
       "  </thead>\n",
       "  <tbody>\n",
       "    <tr>\n",
       "      <th>0</th>\n",
       "      <td>0.0</td>\n",
       "      <td>770</td>\n",
       "      <td>0</td>\n",
       "      <td>32830</td>\n",
       "      <td>0</td>\n",
       "      <td>0.044807</td>\n",
       "    </tr>\n",
       "    <tr>\n",
       "      <th>1</th>\n",
       "      <td>0.1</td>\n",
       "      <td>335</td>\n",
       "      <td>31385</td>\n",
       "      <td>1445</td>\n",
       "      <td>435</td>\n",
       "      <td>0.262745</td>\n",
       "    </tr>\n",
       "    <tr>\n",
       "      <th>2</th>\n",
       "      <td>0.2</td>\n",
       "      <td>233</td>\n",
       "      <td>32570</td>\n",
       "      <td>260</td>\n",
       "      <td>537</td>\n",
       "      <td>0.368963</td>\n",
       "    </tr>\n",
       "    <tr>\n",
       "      <th>3</th>\n",
       "      <td>0.3</td>\n",
       "      <td>189</td>\n",
       "      <td>32742</td>\n",
       "      <td>88</td>\n",
       "      <td>581</td>\n",
       "      <td>0.361032</td>\n",
       "    </tr>\n",
       "    <tr>\n",
       "      <th>4</th>\n",
       "      <td>0.4</td>\n",
       "      <td>170</td>\n",
       "      <td>32791</td>\n",
       "      <td>39</td>\n",
       "      <td>600</td>\n",
       "      <td>0.347293</td>\n",
       "    </tr>\n",
       "    <tr>\n",
       "      <th>5</th>\n",
       "      <td>0.5</td>\n",
       "      <td>147</td>\n",
       "      <td>32808</td>\n",
       "      <td>22</td>\n",
       "      <td>623</td>\n",
       "      <td>0.313099</td>\n",
       "    </tr>\n",
       "    <tr>\n",
       "      <th>6</th>\n",
       "      <td>0.6</td>\n",
       "      <td>119</td>\n",
       "      <td>32813</td>\n",
       "      <td>17</td>\n",
       "      <td>651</td>\n",
       "      <td>0.262693</td>\n",
       "    </tr>\n",
       "    <tr>\n",
       "      <th>7</th>\n",
       "      <td>0.7</td>\n",
       "      <td>99</td>\n",
       "      <td>32821</td>\n",
       "      <td>9</td>\n",
       "      <td>671</td>\n",
       "      <td>0.225513</td>\n",
       "    </tr>\n",
       "    <tr>\n",
       "      <th>8</th>\n",
       "      <td>0.8</td>\n",
       "      <td>80</td>\n",
       "      <td>32824</td>\n",
       "      <td>6</td>\n",
       "      <td>690</td>\n",
       "      <td>0.186916</td>\n",
       "    </tr>\n",
       "    <tr>\n",
       "      <th>9</th>\n",
       "      <td>0.9</td>\n",
       "      <td>49</td>\n",
       "      <td>32828</td>\n",
       "      <td>2</td>\n",
       "      <td>721</td>\n",
       "      <td>0.119367</td>\n",
       "    </tr>\n",
       "    <tr>\n",
       "      <th>10</th>\n",
       "      <td>1.0</td>\n",
       "      <td>0</td>\n",
       "      <td>32830</td>\n",
       "      <td>0</td>\n",
       "      <td>770</td>\n",
       "      <td>0.000000</td>\n",
       "    </tr>\n",
       "  </tbody>\n",
       "</table>\n",
       "</div>"
      ],
      "text/plain": [
       "    thresh   tp     tn     fp   fn        f1\n",
       "0      0.0  770      0  32830    0  0.044807\n",
       "1      0.1  335  31385   1445  435  0.262745\n",
       "2      0.2  233  32570    260  537  0.368963\n",
       "3      0.3  189  32742     88  581  0.361032\n",
       "4      0.4  170  32791     39  600  0.347293\n",
       "5      0.5  147  32808     22  623  0.313099\n",
       "6      0.6  119  32813     17  651  0.262693\n",
       "7      0.7   99  32821      9  671  0.225513\n",
       "8      0.8   80  32824      6  690  0.186916\n",
       "9      0.9   49  32828      2  721  0.119367\n",
       "10     1.0    0  32830      0  770  0.000000"
      ]
     },
     "execution_count": 26,
     "metadata": {},
     "output_type": "execute_result"
    }
   ],
   "source": [
    "lrn.evaluate()"
   ]
  },
  {
   "cell_type": "code",
   "execution_count": null,
   "id": "43d1fc71-7a8b-47fb-9d4e-d0a76507f17d",
   "metadata": {},
   "outputs": [],
   "source": []
  }
 ],
 "metadata": {
  "kernelspec": {
   "display_name": "lark",
   "language": "python",
   "name": "lark"
  },
  "language_info": {
   "codemirror_mode": {
    "name": "ipython",
    "version": 3
   },
   "file_extension": ".py",
   "mimetype": "text/x-python",
   "name": "python",
   "nbconvert_exporter": "python",
   "pygments_lexer": "ipython3",
   "version": "3.8.8"
  }
 },
 "nbformat": 4,
 "nbformat_minor": 5
}
